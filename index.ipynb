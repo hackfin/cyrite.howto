{
 "cells": [
  {
   "cell_type": "markdown",
   "id": "49e84f0f-9795-448d-b968-4a618227bf2a",
   "metadata": {},
   "source": [
    "# Cyrite HDL\n",
    "\n",
    "A toolbox for python generated hardware elements, simulation and synthesis.\n",
    "\n",
    "Cyrite is a kernel written in Cython - compiled Python - that provides a comprehensive class set to:\n",
    "* create VHDL or Verilog hierarchical code from a functional hardware description in Python\n",
    "* directly synthesize to RTLIL logic elements via yosys\n",
    "* drive simulation backends (iverilog, GHDL, CXXRTL, ...) for verification\n",
    "* emulate MyHDL syntax to some extent\n",
    "* allow building of high level synthesis pipelines and custom extensions\n",
    "* compile python HDL into binaries for performance and non-opensource purposes\n",
    "\n",
    "Overview:\n",
    "\n",
    "* [Introduction to cyrite](howto/index.ipynb) : How to design hardware in Python\n",
    "* [Extensions: Writing IRL classes](howto/extensions.ipynb)\n",
    "* [Examples](examples/index.ipynb)\n",
    "   * Procedural generation (Gray counter, Barrel Shifter, ...)\n",
    "* [Notes for migration of MyHDL code](myhdl_migration.ipynb)\n",
    "* [myIRL kernel overview](notebooks/index.ipynb) : The 'kernel reference' and intermediate representation\n",
    "* [Auto-Testing the notebooks](autotesting.ipynb): Making sure documentation is up to date"
   ]
  },
  {
   "cell_type": "markdown",
   "id": "b87be4cc-4fef-4e09-8eb1-d1509d1ed9fd",
   "metadata": {},
   "source": [
    "What it missing:\n",
    "* Python2 support (not feasible)\n",
    "* A native Python simulator (yet)\n",
    "* A ready-made HLS tool (you need to define your own generator framework)\n",
    "* A drop-in replacement emulation for myHDL (not intended)"
   ]
  },
  {
   "cell_type": "markdown",
   "id": "9108c669-d371-44c6-b866-81f6caca54cb",
   "metadata": {},
   "source": [
    "## FAQs\n",
    "\n",
    "* Why VHDL, despite fading out support for vendor toolchains?\n",
    "\n",
    "  VHDL, due to its strict typing, is still the best golden reference to check against and make sure no implicit magic\n",
    "  slips through. Once the VHDL tool flow is proven to be robust, other targets can be tackled.\n",
    "  \n",
    "* Is VHDL-2019 support planned?\n",
    "\n",
    "  Not for the time being. It is unlikely that any FPGA toolchain on the market will implement the full VHDL-2019 support.\n",
    "  \n",
    "* Is this a myHDL fork?\n",
    "\n",
    "  No. It is a different kernel, originally designed to *procedurally generate* HDL/RTL pipelines.\n",
    "  It was partially rewritten to be compatible with other data types, such as myHDL's `intbv` which may still serve as 'state of the art' reference implementation for bit vectors. MyHDL emulation is implemented using AST-Translation.\n",
    "  \n",
    "* Is functionality being back-ported into MyHDL/a fork?\n",
    "\n",
    "  No, see above. The different kernel architecture doesn't allow that.\n",
    "  \n",
    "* Where is the github repository for the kernel?\n",
    "\n",
    "  There is none. The myIRL binary part of the kernel still contains proprietary code which is hosted in a private repository.\n",
    "  The cleanups for full opensource compatibility will come last.\n",
    "  \n",
    "* What is going to happen to myHDL synthesis via yosys ('jupyosys')?\n",
    "\n",
    "  See above WRT RTLIL. The myHDL support will no longer be maintained for jupyosys and remains as 'experiment only'."
   ]
  }
 ],
 "metadata": {
  "kernelspec": {
   "display_name": "Python 3 (ipykernel)",
   "language": "python",
   "name": "python3"
  },
  "language_info": {
   "codemirror_mode": {
    "name": "ipython",
    "version": 3
   },
   "file_extension": ".py",
   "mimetype": "text/x-python",
   "name": "python",
   "nbconvert_exporter": "python",
   "pygments_lexer": "ipython3",
   "version": "3.9.2"
  }
 },
 "nbformat": 4,
 "nbformat_minor": 5
}

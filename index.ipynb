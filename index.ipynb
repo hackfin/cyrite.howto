{
 "cells": [
  {
   "cell_type": "markdown",
   "id": "49e84f0f-9795-448d-b968-4a618227bf2a",
   "metadata": {},
   "source": [
    "# myhdl.v2we\n",
    "\n",
    "A 'next generation' concept study for myHDL syntax emulation based on a different hardware generator kernel. The *v2we* acronym (working title pun) stands for 'van twee walletjes eten' (dutch meaning to 'take advantage from both sides') or 'version two working environment'.\n",
    "\n",
    "* [myHDL emulation and library examples](examples/index.ipynb)\n",
    "* [myHDL legacy migration notes](myhdl_migration.ipynb)\n",
    "* [myIRL kernel overview](notebooks/index.ipynb) : The 'kernel reference' and intermediate representation\n",
    "* [Auto-Testing the notebooks](autotesting.ipynb)"
   ]
  },
  {
   "cell_type": "markdown",
   "id": "b87be4cc-4fef-4e09-8eb1-d1509d1ed9fd",
   "metadata": {},
   "source": [
    "What it is/does:\n",
    "\n",
    "* A Jupyter Lab based IDE setup to develop hardware logic\n",
    "* A toolbox to generate VHDL code for simulation and synthesis\n",
    "  * Building complex System on Chip designs, processing pipelines\n",
    "  * High level synthesis style digital signal processing capable kernel\n",
    "* A lean and mean kernel optimized for (cythonized/compiled) Python3 and code reusability (class derivation)\n",
    "* An experimentation ground for academic/learning purposes\n",
    "* Taking advantages of both sides:\n",
    "  * Executable intermediate language instead of AST-Translation\n",
    "  * Still keeping the well readable myHDL code style and `intbv` benefits\n",
    "\n",
    "What it is not:\n",
    "* Python2 compatible (never)\n",
    "* A simulator (yet)\n",
    "* A ready-made HLS tool (you need to define your own generator framework)\n",
    "* A drop-in replacement for myHDL (never)"
   ]
  },
  {
   "cell_type": "markdown",
   "id": "9108c669-d371-44c6-b866-81f6caca54cb",
   "metadata": {},
   "source": [
    "## FAQs\n",
    "\n",
    "* Why VHDL, despite fading out support for vendor toolchains?\n",
    "\n",
    "  VHDL, due to its strict typing, is still the best golden reference to check against and make sure no implicit magic\n",
    "  slips through. Once the VHDL tool flow is proven to be robust, other targets can be tackled.\n",
    "  \n",
    "* Is VHDL-2019 support planned?\n",
    "\n",
    "  Not for the time being. It is unlikely that any FPGA toolchain on the market will implement the full VHDL-2019 support.\n",
    "  \n",
    "* What about Verilog support?\n",
    "\n",
    "  Synthesizeable Verilog can be output via yosys. However, this does not include simulation constructs, this requires the direct Verilog target output which is not complete.\n",
    "  \n",
    "* Is this a myHDL fork?\n",
    "\n",
    "  No. It is a different kernel, originally designed to *procedurally generate* HDL/RTL pipelines.\n",
    "  It was partially rewritten to be compatible with other data types, such as myHDL's `intbv` which still serves as 'state of the art' reference implementation for bit vectors.\n",
    "  \n",
    "* What is going to happen to myHDL synthesis via yosys ('jupyosys')?\n",
    "\n",
    "  See above WRT RTLIL. The myHDL support will no longer be maintained for jupyosys and remains as 'experiment only' for now."
   ]
  }
 ],
 "metadata": {
  "kernelspec": {
   "display_name": "Python 3 (ipykernel)",
   "language": "python",
   "name": "python3"
  },
  "language_info": {
   "codemirror_mode": {
    "name": "ipython",
    "version": 3
   },
   "file_extension": ".py",
   "mimetype": "text/x-python",
   "name": "python",
   "nbconvert_exporter": "python",
   "pygments_lexer": "ipython3",
   "version": "3.9.2"
  }
 },
 "nbformat": 4,
 "nbformat_minor": 5
}

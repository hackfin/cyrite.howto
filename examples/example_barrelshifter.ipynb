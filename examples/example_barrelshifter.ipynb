{
 "cells": [
  {
   "cell_type": "markdown",
   "metadata": {},
   "source": [
    "## Barrel Shifter\n",
    "\n",
    "A Barrel shifter performs the operation `v << s` (or `v >> s` with flipped bits) where `s` is not constant.\n",
    "An elegant implementation is the approach via cascaded multiplexer elements."
   ]
  },
  {
   "cell_type": "markdown",
   "metadata": {},
   "source": [
    "This `cshift` primitive is later instanced procedurally, iterating through the variable `i` "
   ]
  },
  {
   "cell_type": "markdown",
   "metadata": {},
   "source": [
    "### Shifter element in MyHDL"
   ]
  },
  {
   "cell_type": "code",
   "execution_count": 1,
   "metadata": {},
   "outputs": [],
   "source": [
    "from myirl.emulation.myhdl import *\n",
    "\n",
    "@block\n",
    "def cshift(q : Signal.Output, a : Signal, b : Signal, sbit : Signal, \n",
    "           msb : Signal,\n",
    "           # These can take a signal or a fixed bool:\n",
    "           asr, rotate,\n",
    "           WRAP : bool):\n",
    "    carry = Signal(bool()) # Carry bit\n",
    "    u, v = [ Signal(bool()) for i in range(2) ]\n",
    "    \n",
    "    @always_comb\n",
    "    def assign_carry():\n",
    "        if asr: # arithmetic shift right\n",
    "            carry.next = sbit & msb\n",
    "        else:\n",
    "            carry.next = 0\n",
    "\n",
    "    @always_comb\n",
    "    def assign():\n",
    "        u.next = a & ~sbit\n",
    "        \n",
    "        if rotate == False:         \n",
    "            if WRAP:\n",
    "                v.next = carry\n",
    "            else:\n",
    "                v.next = b & sbit\n",
    "        else:\n",
    "            v.next = b & sbit\n",
    "            \n",
    "    @always_comb\n",
    "    def assign_q():    \n",
    "        q.next = u | v\n",
    "        \n",
    "    return instances()"
   ]
  },
  {
   "cell_type": "markdown",
   "metadata": {},
   "source": [
    "### Shifter stage"
   ]
  },
  {
   "cell_type": "code",
   "execution_count": 2,
   "metadata": {},
   "outputs": [],
   "source": [
    "@block\n",
    "def shifter_stage(\n",
    "    shifter,\n",
    "    w_in : Signal,\n",
    "    w_out : Signal.Output,\n",
    "    msb : Signal,\n",
    "    nmux : int, sbit : Signal, DATA_WIDTH : int, W_POWER : int, asr : bool, rotate : bool\n",
    "):\n",
    "    inst = []\n",
    "\n",
    "    # Create signal array\n",
    "    w = [ Signal(bool()) for i in range(DATA_WIDTH) ]\n",
    "    wo = concat(*reversed(w))\n",
    "    wi = [ w_in[i] for i in range(DATA_WIDTH) ]\n",
    "\n",
    "    MUX_W = DATA_WIDTH // nmux\n",
    "\n",
    "    for imux in range(nmux):\n",
    "        tmp = imux * MUX_W\n",
    "        # print(imux)\n",
    "        for i in range(tmp, tmp + MUX_W):\n",
    "            j = i + MUX_W//2\n",
    "            m = j % DATA_WIDTH\n",
    "            inst.append(shifter(w[m], wi[m], wi[i], sbit, msb, asr, rotate,\n",
    "                         j >= DATA_WIDTH ))\n",
    "\n",
    "    @always_comb\n",
    "    def assign():\n",
    "        w_out.next = wo\n",
    "\n",
    "    return instances()"
   ]
  },
  {
   "cell_type": "markdown",
   "metadata": {},
   "source": [
    "### The barrel shifter implementation"
   ]
  },
  {
   "cell_type": "code",
   "execution_count": 3,
   "metadata": {},
   "outputs": [],
   "source": [
    "@block\n",
    "def barrel_shifter(shifter, clk : ClkSignal, ce : Signal, val : Signal, s : Signal, result : Signal.Output, \\\n",
    "                   rotate = False, W_POWER = 5 ):\n",
    "    \n",
    "    DATA_WIDTH = 2 ** W_POWER\n",
    "    print(\"DATA WIDTH\", DATA_WIDTH, \"ROTATE\", rotate)\n",
    "        \n",
    "    worker = [ val ]\n",
    "    worker = worker + [ Signal(intbv()[DATA_WIDTH:]) for i in range(W_POWER) ]\n",
    "    msb = val[DATA_WIDTH-1]\n",
    "\n",
    "    sbit = [ s[i] for i in range(len(s))]\n",
    "    \n",
    "    shifter_stages = []\n",
    "    for stage in range(W_POWER):\n",
    "        K = W_POWER - stage - 1\n",
    "        print(\"Stage %d\" % stage)\n",
    "        shifter_stages.append( \\\n",
    "                shifter_stage(shifter, worker[stage], worker[stage + 1], msb, 2 ** stage, sbit[K], \\\n",
    "                            DATA_WIDTH, W_POWER, False, rotate) \\\n",
    "                             )\n",
    "        \n",
    "    @always(clk.posedge)\n",
    "    def assign():\n",
    "        if ce == True:\n",
    "            result.next = worker[W_POWER]\n",
    "        \n",
    "    return instances()"
   ]
  },
  {
   "cell_type": "markdown",
   "metadata": {},
   "source": [
    "### Translate and test"
   ]
  },
  {
   "cell_type": "code",
   "execution_count": 4,
   "metadata": {},
   "outputs": [
    {
     "name": "stdout",
     "output_type": "stream",
     "text": [
      "DATA WIDTH 16 ROTATE False\n",
      "Stage 0\n",
      "\u001b[32m Module top_top_bs: Existing instance cshift, rename to cshift_1 \u001b[0m\n",
      "Stage 1\n",
      "\u001b[32m Module top_top_bs: Existing instance shifter_stage, rename to shifter_stage_1 \u001b[0m\n",
      "Stage 2\n",
      "\u001b[32m Module top_top_bs: Existing instance shifter_stage, rename to shifter_stage_2 \u001b[0m\n",
      "Stage 3\n",
      "\u001b[32m Module top_top_bs: Existing instance shifter_stage, rename to shifter_stage_3 \u001b[0m\n",
      "Creating process 'barrel_shifter/assign' with sensitivity (clk'rising,)\n",
      "Creating sequential 'top_bs/stim' \n",
      "Finished test in 1.4497 secs\n"
     ]
    }
   ],
   "source": [
    "W_POWER = 4\n",
    "\n",
    "from myirl.test.common_test import gen_osc\n",
    "import myirl\n",
    "\n",
    "@block\n",
    "def top_bs(shifter):\n",
    "    clk = ClkSignal()\n",
    "    ce = Signal(bool())\n",
    "    val, result = [ Signal(intbv(0xaa00)[2 ** W_POWER:]) for i in range(2) ]\n",
    "    s = Signal(intbv()[W_POWER:])\n",
    "    \n",
    "    inst = [\n",
    "        barrel_shifter(shifter, clk, ce, val, s, result, False, W_POWER),\n",
    "        gen_osc(clk, 2)\n",
    "    ]\n",
    "    \n",
    "    \n",
    "    TEST_VALUES = [\n",
    "        (0xdead, 8, 0xad00),\n",
    "        (0x8f01, 15, 0x8000),\n",
    "    ]\n",
    "\n",
    "    @instance\n",
    "    def stim():\n",
    "        for item in TEST_VALUES:\n",
    "            ce.next = False\n",
    "            s.next = item[1]\n",
    "            val.next = item[0]\n",
    "            yield(clk.posedge)\n",
    "            ce.next = True\n",
    "            yield(clk.posedge)\n",
    "            yield(clk.posedge)\n",
    "\n",
    "            print(result)\n",
    "            assert result == item[2]\n",
    "\n",
    "    \n",
    "    inst += [ stim ]\n",
    "    return inst\n",
    " \n",
    "@utils.timer\n",
    "def test(shifter_element):    \n",
    "    return top_bs(shifter_element)\n",
    "\n",
    "design = test(cshift)"
   ]
  },
  {
   "cell_type": "code",
   "execution_count": 5,
   "metadata": {},
   "outputs": [
    {
     "name": "stdout",
     "output_type": "stream",
     "text": [
      " Elaborating component shifter_stage__wrapped_wrapper_s16_s16_s1_8_s1_16_4_0_0 \n",
      " Writing 'shifter_stage_3' to file /tmp/myirl_top_top_bs_oe45hckw/shifter_stage_3.vhdl \n",
      " Elaborating component shifter_stage__wrapped_wrapper_s16_s16_s1_4_s1_16_4_0_0 \n",
      " Writing 'shifter_stage_2' to file /tmp/myirl_top_top_bs_oe45hckw/shifter_stage_2.vhdl \n",
      " Elaborating component shifter_stage__wrapped_wrapper_s16_s16_s1_2_s1_16_4_0_0 \n",
      " Writing 'shifter_stage_1' to file /tmp/myirl_top_top_bs_oe45hckw/shifter_stage_1.vhdl \n",
      " Elaborating component cshift_s1_s1_s1_s1_s1_0_0_1 \n",
      " Writing 'cshift_1' to file /tmp/myirl_top_top_bs_oe45hckw/cshift_1.vhdl \n",
      " Elaborating component cshift_s1_s1_s1_s1_s1_0_0_0 \n",
      " Writing 'cshift' to file /tmp/myirl_top_top_bs_oe45hckw/cshift.vhdl \n",
      " Elaborating component shifter_stage__wrapped_wrapper_s16_s16_s1_1_s1_16_4_0_0 \n",
      " Writing 'shifter_stage' to file /tmp/myirl_top_top_bs_oe45hckw/shifter_stage.vhdl \n",
      " Elaborating component barrel_shifter__wrapped_wrapper_s1_s1_s16_s4_s16_0_4 \n",
      " Writing 'barrel_shifter' to file /tmp/myirl_top_top_bs_oe45hckw/barrel_shifter.vhdl \n",
      " Elaborating component top_bs__wrapped_wrapper \n",
      " Writing 'top_bs' to file /tmp/myirl_top_top_bs_oe45hckw/top_bs.vhdl \n",
      " Creating library file /tmp/myirl_module_defs_2ohbpqhh/module_defs.vhdl \n",
      "==== COSIM stdout ====\n",
      "\n",
      "==== COSIM stderr ====\n",
      "\n",
      "==== COSIM stdout ====\n",
      "analyze /home/testing/.local/lib/python3.9/site-packages/myirl-0.0.0-py3.9-linux-x86_64.egg/myirl/targets/../test/vhdl/txt_util.vhdl\n",
      "analyze /home/testing/.local/lib/python3.9/site-packages/myirl-0.0.0-py3.9-linux-x86_64.egg/myirl/targets/libmyirl.vhdl\n",
      "analyze /tmp/myirl_top_top_bs_oe45hckw/cshift.vhdl\n",
      "analyze /tmp/myirl_top_top_bs_oe45hckw/cshift_1.vhdl\n",
      "analyze /tmp/myirl_top_top_bs_oe45hckw/shifter_stage.vhdl\n",
      "analyze /tmp/myirl_top_top_bs_oe45hckw/shifter_stage_1.vhdl\n",
      "analyze /tmp/myirl_top_top_bs_oe45hckw/shifter_stage_2.vhdl\n",
      "analyze /tmp/myirl_top_top_bs_oe45hckw/shifter_stage_3.vhdl\n",
      "analyze /tmp/myirl_top_top_bs_oe45hckw/barrel_shifter.vhdl\n",
      "analyze /tmp/myirl_top_top_bs_oe45hckw/top_bs.vhdl\n",
      "elaborate top_bs\n",
      "\n",
      "==== COSIM stderr ====\n",
      "\n",
      "==== COSIM stdout ====\n",
      "0xAD00\n",
      "0x8000\n",
      "/tmp/top_bs:info: simulation stopped by --stop-time @1us\n",
      "\n",
      "==== COSIM stderr ====\n",
      "\n"
     ]
    },
    {
     "data": {
      "text/plain": [
       "0"
      ]
     },
     "execution_count": 5,
     "metadata": {},
     "output_type": "execute_result"
    }
   ],
   "source": [
    "from myirl import targets\n",
    "from myirl.test.common_test import run_ghdl\n",
    "\n",
    "f = design.elab(targets.VHDL, elab_all = True)\n",
    "# print(f)\n",
    "run_ghdl(f, design, vcdfile = 'bs.vcd', debug = True)"
   ]
  },
  {
   "cell_type": "code",
   "execution_count": 6,
   "metadata": {},
   "outputs": [],
   "source": [
    "# !cat {f[-3]}"
   ]
  },
  {
   "cell_type": "markdown",
   "metadata": {},
   "source": [
    "## Optimization\n",
    "\n",
    "By implementing the often called `cshift` unit in IRL, we save a few cycles."
   ]
  },
  {
   "cell_type": "code",
   "execution_count": 7,
   "metadata": {},
   "outputs": [
    {
     "name": "stdout",
     "output_type": "stream",
     "text": [
      "\u001b[7;35m Declare obj 'cshift_irl' in context '(LIB: LibraryModule 'bs')' \u001b[0m\n"
     ]
    }
   ],
   "source": [
    "c = myirl.LibraryModule(\"bs\", targets.VHDL, debug = False)\n",
    "\n",
    "@myirl.component(c)\n",
    "def cshift_irl(q : Signal.Output, a : Signal, b : Signal, sbit : Signal, \n",
    "           msb : Signal,\n",
    "           # These can take a signal or a fixed bool:\n",
    "           asr, rotate,\n",
    "           WRAP : bool):\n",
    "    carry = Signal(bool(), name = \"carry\") # Carry bit\n",
    "    u, v = [ Signal(bool(), name = n) for n in \"uv\" ]\n",
    "    \n",
    "    \n",
    "    @myirl.genprocess()\n",
    "    def selector():\n",
    "        If = selector.If\n",
    "        yield [\n",
    "            If(asr == True).Then(\n",
    "                carry.set(sbit & msb)\n",
    "            ).Else(\n",
    "                carry.set(False)\n",
    "            ),\n",
    "\n",
    "            If(rotate == False).Then(\n",
    "                If(WRAP == True).Then(\n",
    "                    v.set(carry)\n",
    "                ).Else(\n",
    "                    v.set(b & sbit)\n",
    "                )\n",
    "            ).Else(\n",
    "                v.set(b & sbit)\n",
    "            ),    \n",
    "        ]\n",
    "    \n",
    "    wires = [\n",
    "        u.set(a & ~sbit),\n",
    "        q.set(u | v)\n",
    "    ]\n",
    "        \n",
    "    return locals()"
   ]
  },
  {
   "cell_type": "code",
   "execution_count": 8,
   "metadata": {},
   "outputs": [
    {
     "name": "stdout",
     "output_type": "stream",
     "text": [
      "\u001b[32m Module top_top_bs: Existing instance top_bs, rename to top_bs_1 \u001b[0m\n",
      "\u001b[32m Module top_top_bs: Existing instance barrel_shifter, rename to barrel_shifter_1 \u001b[0m\n",
      "DATA WIDTH 16 ROTATE False\n",
      "Stage 0\n",
      "\u001b[32m Module top_top_bs: Existing instance shifter_stage, rename to shifter_stage_4 \u001b[0m\n",
      "\u001b[32m Module bs: Existing instance cshift_irl, rename to cshift_irl_1 \u001b[0m\n",
      "Stage 1\n",
      "\u001b[32m Module top_top_bs: Existing instance shifter_stage, rename to shifter_stage_5 \u001b[0m\n",
      "Stage 2\n",
      "\u001b[32m Module top_top_bs: Existing instance shifter_stage, rename to shifter_stage_6 \u001b[0m\n",
      "Stage 3\n",
      "\u001b[32m Module top_top_bs: Existing instance shifter_stage, rename to shifter_stage_7 \u001b[0m\n",
      "Creating process 'barrel_shifter/assign' with sensitivity (clk'rising,)\n",
      "Creating sequential 'top_bs/stim' \n",
      "Finished test in 0.3276 secs\n"
     ]
    }
   ],
   "source": [
    "design = test(cshift_irl)"
   ]
  },
  {
   "cell_type": "code",
   "execution_count": 9,
   "metadata": {},
   "outputs": [
    {
     "name": "stdout",
     "output_type": "stream",
     "text": [
      " Elaborating component shifter_stage__ComponentObj_s16_s16_s1_8_s1_16_4_0_0 \n",
      " Writing 'shifter_stage_7' to file /tmp/myirl_top_top_bs_oe45hckw/shifter_stage_7.vhdl \n",
      " Elaborating component shifter_stage__ComponentObj_s16_s16_s1_4_s1_16_4_0_0 \n",
      " Writing 'shifter_stage_6' to file /tmp/myirl_top_top_bs_oe45hckw/shifter_stage_6.vhdl \n",
      " Elaborating component shifter_stage__ComponentObj_s16_s16_s1_2_s1_16_4_0_0 \n",
      " Writing 'shifter_stage_5' to file /tmp/myirl_top_top_bs_oe45hckw/shifter_stage_5.vhdl \n",
      " Elaborating component shifter_stage__ComponentObj_s16_s16_s1_1_s1_16_4_0_0 \n",
      " Writing 'shifter_stage_4' to file /tmp/myirl_top_top_bs_oe45hckw/shifter_stage_4.vhdl \n",
      " Elaborating component barrel_shifter__ComponentObj_s1_s1_s16_s4_s16_0_4 \n",
      " Writing 'barrel_shifter_1' to file /tmp/myirl_top_top_bs_oe45hckw/barrel_shifter_1.vhdl \n",
      " Elaborating component top_bs__ComponentObj \n",
      " Writing 'top_bs_1' to file /tmp/myirl_top_top_bs_oe45hckw/top_bs_1.vhdl \n",
      " Elaborating component shifter_stage__wrapped_wrapper_s16_s16_s1_8_s1_16_4_0_0 \n",
      " Writing 'shifter_stage_3' to file /tmp/myirl_top_top_bs_oe45hckw/shifter_stage_3.vhdl \n",
      " Elaborating component shifter_stage__wrapped_wrapper_s16_s16_s1_4_s1_16_4_0_0 \n",
      " Writing 'shifter_stage_2' to file /tmp/myirl_top_top_bs_oe45hckw/shifter_stage_2.vhdl \n",
      " Elaborating component shifter_stage__wrapped_wrapper_s16_s16_s1_2_s1_16_4_0_0 \n",
      " Writing 'shifter_stage_1' to file /tmp/myirl_top_top_bs_oe45hckw/shifter_stage_1.vhdl \n",
      " Elaborating component cshift_s1_s1_s1_s1_s1_0_0_1 \n",
      " Writing 'cshift_1' to file /tmp/myirl_top_top_bs_oe45hckw/cshift_1.vhdl \n",
      " Elaborating component cshift_s1_s1_s1_s1_s1_0_0_0 \n",
      " Writing 'cshift' to file /tmp/myirl_top_top_bs_oe45hckw/cshift.vhdl \n",
      " Elaborating component shifter_stage__wrapped_wrapper_s16_s16_s1_1_s1_16_4_0_0 \n",
      " Writing 'shifter_stage' to file /tmp/myirl_top_top_bs_oe45hckw/shifter_stage.vhdl \n",
      " Elaborating component barrel_shifter__wrapped_wrapper_s1_s1_s16_s4_s16_0_4 \n",
      " Writing 'barrel_shifter' to file /tmp/myirl_top_top_bs_oe45hckw/barrel_shifter.vhdl \n",
      " Elaborating component top_bs__wrapped_wrapper \n",
      " Writing 'top_bs' to file /tmp/myirl_top_top_bs_oe45hckw/top_bs.vhdl \n",
      " Creating library file /tmp/myirl_module_defs_35sbb9_z/module_defs.vhdl \n",
      " Elaborating component cshift_irl_s1_s1_s1_s1_s1_0_0_1 \n",
      " Writing 'cshift_irl_1' to file /tmp/myirl_bs_pqc0e8wj/cshift_irl_1.vhdl \n",
      " Elaborating component cshift_irl_s1_s1_s1_s1_s1_0_0_0 \n",
      " Writing 'cshift_irl' to file /tmp/myirl_bs_pqc0e8wj/cshift_irl.vhdl \n",
      " Creating library file /tmp/myirl_module_defs_c9401id4/module_defs.vhdl \n"
     ]
    },
    {
     "data": {
      "text/plain": [
       "0"
      ]
     },
     "execution_count": 9,
     "metadata": {},
     "output_type": "execute_result"
    }
   ],
   "source": [
    "f = design.elab(targets.VHDL, elab_all = True)\n",
    "f += c.elab(targets.VHDL)\n",
    "run_ghdl(f, design, vcdfile = 'bs.vcd', debug = False)"
   ]
  },
  {
   "cell_type": "markdown",
   "metadata": {},
   "source": [
    "## Optimization\n",
    "\n",
    "A bit more optimization can be done by moving the code into a cythonizeable library. See\n",
    "[Cythonized barrel shifter](example_cython_barrelshifter.ipynb)"
   ]
  }
 ],
 "metadata": {
  "kernelspec": {
   "display_name": "Python 3 (ipykernel)",
   "language": "python",
   "name": "python3"
  },
  "language_info": {
   "codemirror_mode": {
    "name": "ipython",
    "version": 3
   },
   "file_extension": ".py",
   "mimetype": "text/x-python",
   "name": "python",
   "nbconvert_exporter": "python",
   "pygments_lexer": "ipython3",
   "version": "3.9.2"
  }
 },
 "nbformat": 4,
 "nbformat_minor": 4
}

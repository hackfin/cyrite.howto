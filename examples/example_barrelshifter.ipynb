{
 "cells": [
  {
   "cell_type": "markdown",
   "metadata": {},
   "source": [
    "## Barrel Shifter\n",
    "\n",
    "A Barrel shifter performs the operation `v << s` (or `v >> s` with flipped bits) where `s` is not constant.\n",
    "An elegant implementation is the approach via cascaded multiplexer elements."
   ]
  },
  {
   "cell_type": "markdown",
   "metadata": {},
   "source": [
    "This `cshift` primitive is later instanced procedurally, iterating through the variable `i` "
   ]
  },
  {
   "cell_type": "code",
   "execution_count": 1,
   "metadata": {},
   "outputs": [],
   "source": [
    "from myirl.emulation.myhdl import *\n",
    "\n",
    "@block\n",
    "def cshift(q, a, b, sbit, msb, asr, rotate, WRAP):\n",
    "    carry = Signal(bool()) # Carry bit\n",
    "    u, v = [ Signal(bool()) for i in range(2) ]\n",
    "\n",
    "    @always_comb\n",
    "    def assign_carry():\n",
    "        if asr: # arithmetic shift right\n",
    "            carry.next = sbit & msb\n",
    "        else:\n",
    "            carry.next = 0\n",
    "\n",
    "    @always_comb\n",
    "    def assign():\n",
    "        u.next = a & ~sbit\n",
    "        \n",
    "        if rotate == False:         \n",
    "            if WRAP:\n",
    "                v.next = carry\n",
    "            else:\n",
    "                v.next = b & sbit\n",
    "        else:\n",
    "            v.next = b & sbit\n",
    "            \n",
    "    @always_comb\n",
    "    def assign_q():    \n",
    "        q.next = u | v\n",
    "        \n",
    "    return instances()"
   ]
  },
  {
   "cell_type": "markdown",
   "metadata": {},
   "source": [
    "### Shifter stage"
   ]
  },
  {
   "cell_type": "code",
   "execution_count": 2,
   "metadata": {},
   "outputs": [],
   "source": [
    "@block\n",
    "def shifter_stage(\n",
    "    shifter,\n",
    "    w_in : Signal,\n",
    "    w_out : Signal.Output,\n",
    "    msb : Signal,\n",
    "    nmux : int, sbit : bool, DATA_WIDTH : int, W_POWER : int, asr : bool, rotate : bool\n",
    "):\n",
    "    instances = []\n",
    "\n",
    "    # Create signal array\n",
    "    w = [ Signal(bool()) for i in range(DATA_WIDTH) ]\n",
    "    wo = concat(*reversed(w))\n",
    "    wi = [ w_in[i] for i in range(DATA_WIDTH) ]\n",
    "\n",
    "    MUX_W = DATA_WIDTH // nmux\n",
    "\n",
    "    for imux in range(nmux):\n",
    "        tmp = imux * MUX_W\n",
    "        print(imux)\n",
    "        for i in range(tmp, tmp + MUX_W):\n",
    "            j = i + MUX_W//2\n",
    "            m = j % DATA_WIDTH\n",
    "            instances.append(shifter(w[m], wi[m], wi[i], sbit, msb, asr, rotate,\n",
    "                         j >= DATA_WIDTH ))\n",
    "\n",
    "\n",
    "    @always_comb\n",
    "    def assign():\n",
    "        w_out.next = wo\n",
    "\n",
    "    instances.append(assign)    \n",
    "\n",
    "    return instances"
   ]
  },
  {
   "cell_type": "markdown",
   "metadata": {},
   "source": [
    "### The barrel shifter implementation"
   ]
  },
  {
   "cell_type": "code",
   "execution_count": 3,
   "metadata": {},
   "outputs": [],
   "source": [
    "@block\n",
    "def barrel_shifter(shifter, clk : ClkSignal, ce : Signal, val : Signal, s : Signal, result : Signal.Output, \\\n",
    "                   rotate = False, W_POWER = 5 ):\n",
    "    \n",
    "    DATA_WIDTH = 2 ** W_POWER\n",
    "    print(\"DATA WIDTH\", DATA_WIDTH, \"ROTATE\", rotate)\n",
    "        \n",
    "    worker = [ val ]\n",
    "    worker = worker + [ Signal(intbv()[DATA_WIDTH:]) for i in range(W_POWER) ]\n",
    "    msb = val[DATA_WIDTH-1]\n",
    "\n",
    "    sbit = [ s[i] for i in range(len(s))]\n",
    "    \n",
    "    shifter_stages = []\n",
    "    for stage in range(W_POWER):\n",
    "        K = W_POWER - stage - 1\n",
    "        print(\"Stage %d\" % stage)\n",
    "        shifter_stages.append( \\\n",
    "                shifter_stage(shifter, worker[stage], worker[stage + 1], msb, 2 ** stage, sbit[K], \\\n",
    "                            DATA_WIDTH, W_POWER, False, rotate) \\\n",
    "                             )\n",
    "        \n",
    "    @always(clk.posedge)\n",
    "    def assign():\n",
    "        if ce == True:\n",
    "            result.next = worker[W_POWER]\n",
    "        \n",
    "    return instances()"
   ]
  },
  {
   "cell_type": "code",
   "execution_count": 4,
   "metadata": {},
   "outputs": [
    {
     "name": "stdout",
     "output_type": "stream",
     "text": [
      "==============================\n",
      "Unparsing unit barrel_shifter\n",
      "==============================\n",
      "\n",
      "\n",
      "@block\n",
      "def barrel_shifter(shifter, clk: ClkSignal, ce: Signal, val: Signal, s: Signal, result: Signal.Output, rotate=False, W_POWER=5):\n",
      "    DATA_WIDTH = (2 ** W_POWER)\n",
      "    print('DATA WIDTH', DATA_WIDTH, 'ROTATE', rotate)\n",
      "    worker = [val]\n",
      "    worker = (worker + [Signal(intbv()[DATA_WIDTH:]) for i in range(W_POWER)])\n",
      "    msb = val[(DATA_WIDTH - 1)]\n",
      "    sbit = [s[i] for i in range(len(s))]\n",
      "    shifter_stages = []\n",
      "    for stage in range(W_POWER):\n",
      "        K = ((W_POWER - stage) - 1)\n",
      "        print(('Stage %d' % stage))\n",
      "        shifter_stages.append(shifter_stage(shifter, worker[stage], worker[(stage + 1)], msb, (2 ** stage), sbit[K], DATA_WIDTH, W_POWER, False, rotate))\n",
      "\n",
      "    @always_(clk.posedge)\n",
      "    def assign():\n",
      "        (yield [If((ce == True)).Then(result.set(worker[W_POWER]))])\n",
      "    return instances()\n",
      "\n"
     ]
    }
   ],
   "source": [
    "print(barrel_shifter.unparse())"
   ]
  },
  {
   "cell_type": "markdown",
   "metadata": {},
   "source": [
    "### Translate and test"
   ]
  },
  {
   "cell_type": "code",
   "execution_count": 5,
   "metadata": {},
   "outputs": [
    {
     "name": "stdout",
     "output_type": "stream",
     "text": [
      "DATA WIDTH 16 ROTATE False\n",
      "Stage 0\n",
      "0\n"
     ]
    },
    {
     "name": "stderr",
     "output_type": "stream",
     "text": [
      "/home/jovyan/.local/lib/python3.8/site-packages/myirl-0.0.0-py3.8-linux-x86_64.egg/myirl/kernel/components.py:1591: UserWarning: Type mismatch for 'msb': <class 'myirl.kernel.sig.Slice'> != <class 'myirl.emulation.signals.Signal'>\n",
      "  base.warnings.warn(msg)\n",
      "/home/jovyan/.local/lib/python3.8/site-packages/myirl-0.0.0-py3.8-linux-x86_64.egg/myirl/kernel/components.py:1591: UserWarning: Type mismatch for 'sbit': <class 'myirl.kernel.sig.Slice'> != <class 'bool'>\n",
      "  base.warnings.warn(msg)\n"
     ]
    },
    {
     "name": "stdout",
     "output_type": "stream",
     "text": [
      "\u001b[32m Module top_top_bs: Existing implementation cshift, rename to cshift_1 \u001b[0m\n",
      "Stage 1\n",
      "\u001b[32m Module top_top_bs: Existing implementation shifter_stage, rename to shifter_stage_1 \u001b[0m\n",
      "0\n",
      "1\n",
      "Stage 2\n",
      "\u001b[32m Module top_top_bs: Existing implementation shifter_stage, rename to shifter_stage_2 \u001b[0m\n",
      "0\n",
      "1\n",
      "2\n",
      "3\n",
      "Stage 3\n",
      "\u001b[32m Module top_top_bs: Existing implementation shifter_stage, rename to shifter_stage_3 \u001b[0m\n",
      "0\n",
      "1\n",
      "2\n",
      "3\n",
      "4\n",
      "5\n",
      "6\n",
      "7\n",
      "Creating process 'barrel_shifter/assign' with sensitivity (clk'rising,)\n",
      "Creating sequential 'top_bs/stim' \n"
     ]
    }
   ],
   "source": [
    "W_POWER = 4\n",
    "\n",
    "from myirl.test.common_test import gen_osc\n",
    "import myirl\n",
    "\n",
    "@block\n",
    "def top_bs(shifter):\n",
    "    clk = ClkSignal()\n",
    "    ce = Signal(bool())\n",
    "    val, result = [ Signal(intbv(0xaa00)[2 ** W_POWER:]) for i in range(2) ]\n",
    "    s = Signal(intbv()[W_POWER:])\n",
    "    \n",
    "    inst = [\n",
    "        barrel_shifter(shifter, clk, ce, val, s, result, False, W_POWER),\n",
    "        gen_osc(clk, 2)\n",
    "    ]\n",
    "    \n",
    "    \n",
    "    TEST_VALUES = [\n",
    "        (0xdead, 8, 0xad00),\n",
    "        (0x8f01, 15, 0x8000),\n",
    "    ]\n",
    "\n",
    "    @instance\n",
    "    def stim():\n",
    "        for item in TEST_VALUES:\n",
    "            ce.next = False\n",
    "            s.next = item[1]\n",
    "            val.next = item[0]\n",
    "            yield(clk.posedge)\n",
    "            ce.next = True\n",
    "            yield(clk.posedge)\n",
    "            yield(clk.posedge)\n",
    "\n",
    "            print(result)\n",
    "            assert result == _sequence.item[2] # XXX\n",
    "\n",
    "    \n",
    "    inst += [ stim ]\n",
    "    return inst\n",
    " \n",
    "def test(shifter_element):    \n",
    "    return top_bs(shifter_element)\n",
    "\n",
    "design = test(cshift)\n",
    "tmp = top_bs.ctx.path_prefix"
   ]
  },
  {
   "cell_type": "code",
   "execution_count": 6,
   "metadata": {},
   "outputs": [
    {
     "name": "stdout",
     "output_type": "stream",
     "text": [
      " DEBUG: Writing 'shifter_stage_3' to file /tmp/myirl00bg4h31/shifter_stage_3.vhdl \n",
      "Finished _elab in 0.0021 secs\n",
      " DEBUG: Writing 'shifter_stage_2' to file /tmp/myirl00bg4h31/shifter_stage_2.vhdl \n",
      "Finished _elab in 0.0017 secs\n",
      " DEBUG: Writing 'shifter_stage_1' to file /tmp/myirl00bg4h31/shifter_stage_1.vhdl \n",
      "Finished _elab in 0.0017 secs\n",
      " DEBUG: Writing 'cshift_1' to file /tmp/myirl00bg4h31/cshift_1.vhdl \n",
      "Finished _elab in 0.0011 secs\n",
      " DEBUG: Writing 'cshift' to file /tmp/myirl00bg4h31/cshift.vhdl \n",
      "Finished _elab in 0.0011 secs\n",
      " DEBUG: Writing 'shifter_stage' to file /tmp/myirl00bg4h31/shifter_stage.vhdl \n",
      "Finished _elab in 0.0015 secs\n",
      " DEBUG: Writing 'barrel_shifter' to file /tmp/myirl00bg4h31/barrel_shifter.vhdl \n",
      "Finished _elab in 0.0009 secs\n",
      " DEBUG: Writing 'top_bs' to file /tmp/myirl00bg4h31/top_bs.vhdl \n",
      "Finished _elab in 0.0011 secs\n",
      "Using library VHDL file /tmp/myirl00bg4h31/module_defs.vhdl\n",
      "==== COSIM stdout ====\n",
      "\n",
      "==== COSIM stderr ====\n",
      "\n",
      "==== COSIM stdout ====\n",
      "analyze /home/jovyan/.local/lib/python3.8/site-packages/myirl-0.0.0-py3.8-linux-x86_64.egg/myirl/targets/../test/vhdl/txt_util.vhdl\n",
      "analyze /home/jovyan/.local/lib/python3.8/site-packages/myirl-0.0.0-py3.8-linux-x86_64.egg/myirl/targets/libmyirl.vhdl\n",
      "analyze /tmp/myirl00bg4h31/cshift.vhdl\n",
      "analyze /tmp/myirl00bg4h31/cshift_1.vhdl\n",
      "analyze /tmp/myirl00bg4h31/shifter_stage.vhdl\n",
      "analyze /tmp/myirl00bg4h31/shifter_stage_1.vhdl\n",
      "analyze /tmp/myirl00bg4h31/shifter_stage_2.vhdl\n",
      "analyze /tmp/myirl00bg4h31/shifter_stage_3.vhdl\n",
      "analyze /tmp/myirl00bg4h31/barrel_shifter.vhdl\n",
      "analyze /tmp/myirl00bg4h31/top_bs.vhdl\n",
      "elaborate top_bs\n",
      "\n",
      "==== COSIM stderr ====\n",
      "\n",
      "==== COSIM stdout ====\n",
      "0xAD00\n",
      "0x8000\n",
      "./top_bs:info: simulation stopped by --stop-time @1us\n",
      "\n",
      "==== COSIM stderr ====\n",
      "\n"
     ]
    },
    {
     "data": {
      "text/plain": [
       "0"
      ]
     },
     "execution_count": 6,
     "metadata": {},
     "output_type": "execute_result"
    }
   ],
   "source": [
    "from myirl import targets\n",
    "from myirl.test.common_test import run_ghdl\n",
    "\n",
    "f = design.elab(targets.VHDL, elab_all = True)\n",
    "run_ghdl(f, design, vcdfile = 'bs.vcd', debug = True)"
   ]
  },
  {
   "cell_type": "code",
   "execution_count": 11,
   "metadata": {},
   "outputs": [
    {
     "name": "stdout",
     "output_type": "stream",
     "text": [
      "-- File generated from /usr/local/lib/python3.8/runpy.py\r\n",
      "-- (c) 2016-2021 section5.ch\r\n",
      "-- Modifications may be lost\r\n",
      "\r\n",
      "library IEEE;\r\n",
      "use IEEE.std_logic_1164.all;\r\n",
      "use IEEE.numeric_std.all;\r\n",
      "\r\n",
      "library work;\r\n",
      "\r\n",
      "use work.txt_util.all;\r\n",
      "use work.myirl_conversion.all;\r\n",
      "\r\n",
      "entity barrel_shifter is\r\n",
      "    port (\r\n",
      "        clk : in std_ulogic;\r\n",
      "        ce : in std_ulogic;\r\n",
      "        val : in unsigned(15 downto 0);\r\n",
      "        s : in unsigned(3 downto 0);\r\n",
      "        result : out unsigned(15 downto 0)\r\n",
      "    );\r\n",
      "end entity barrel_shifter;\r\n",
      "\r\n",
      "architecture MyIRL of barrel_shifter is\r\n",
      "    -- Local type declarations\r\n",
      "    -- Signal declarations\r\n",
      "    signal s_2b21 : unsigned(15 downto 0);\r\n",
      "    signal s_711a : unsigned(15 downto 0);\r\n",
      "    signal s_d424 : unsigned(15 downto 0);\r\n",
      "    signal s_04c3 : unsigned(15 downto 0);\r\n",
      "begin\r\n",
      "    \r\n",
      "assign:\r\n",
      "    process(clk)\r\n",
      "    begin\r\n",
      "        if rising_edge(clk) then\r\n",
      "            if (ce = '1') then\r\n",
      "                result <= s_2b21;\r\n",
      "            end if;\r\n",
      "        end if;\r\n",
      "    end process;\r\n",
      "    -- Instance shifter_stage\r\n",
      "    inst_shifter_stage_0: entity work.shifter_stage\r\n",
      "    port map (\r\n",
      "        w_in => val,\r\n",
      "        w_out => s_711a,\r\n",
      "        msb => val(15),\r\n",
      "        sbit => s(3)\r\n",
      "    );\r\n",
      "    -- Instance shifter_stage_1\r\n",
      "    inst_shifter_stage_1: entity work.shifter_stage_1\r\n",
      "    port map (\r\n",
      "        w_in => s_711a,\r\n",
      "        w_out => s_d424,\r\n",
      "        msb => val(15),\r\n",
      "        sbit => s(2)\r\n",
      "    );\r\n",
      "    -- Instance shifter_stage_2\r\n",
      "    inst_shifter_stage_2: entity work.shifter_stage_2\r\n",
      "    port map (\r\n",
      "        w_in => s_d424,\r\n",
      "        w_out => s_04c3,\r\n",
      "        msb => val(15),\r\n",
      "        sbit => s(1)\r\n",
      "    );\r\n",
      "    -- Instance shifter_stage_3\r\n",
      "    inst_shifter_stage_3: entity work.shifter_stage_3\r\n",
      "    port map (\r\n",
      "        w_in => s_04c3,\r\n",
      "        w_out => s_2b21,\r\n",
      "        msb => val(15),\r\n",
      "        sbit => s(0)\r\n",
      "    );\r\n",
      "end architecture MyIRL;\r\n",
      "\r\n"
     ]
    }
   ],
   "source": [
    "!cat {tmp}/barrel_shifter.vhdl"
   ]
  },
  {
   "cell_type": "code",
   "execution_count": null,
   "metadata": {},
   "outputs": [],
   "source": []
  }
 ],
 "metadata": {
  "kernelspec": {
   "display_name": "Python 3 (ipykernel)",
   "language": "python",
   "name": "python3"
  },
  "language_info": {
   "codemirror_mode": {
    "name": "ipython",
    "version": 3
   },
   "file_extension": ".py",
   "mimetype": "text/x-python",
   "name": "python",
   "nbconvert_exporter": "python",
   "pygments_lexer": "ipython3",
   "version": "3.8.5"
  }
 },
 "nbformat": 4,
 "nbformat_minor": 4
}

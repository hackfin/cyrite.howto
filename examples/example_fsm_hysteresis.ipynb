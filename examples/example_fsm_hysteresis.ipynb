{
 "cells": [
  {
   "cell_type": "markdown",
   "metadata": {},
   "source": [
    "# Example: Hysteresis with simple FSM"
   ]
  },
  {
   "cell_type": "code",
   "execution_count": 1,
   "metadata": {},
   "outputs": [],
   "source": [
    "from myirl.emulation.myhdl import *"
   ]
  },
  {
   "cell_type": "markdown",
   "metadata": {},
   "source": [
    "We create a little state machine with three states as shown below. Note: Upon reset, the `@always_seq` logic implicitely resets `state` variable to `NEUTRAL` state."
   ]
  },
  {
   "cell_type": "code",
   "execution_count": 2,
   "metadata": {},
   "outputs": [],
   "source": [
    "@block\n",
    "def hysteresis(\n",
    "    clk : ClkSignal,\n",
    "    reset : ResetSignal,\n",
    "    a   : Signal,\n",
    "    q0  : Signal.Output,\n",
    "    q1  : Signal.Output,\n",
    "    *,\n",
    "    LOWER : int = 0,\n",
    "    UPPER : int = 255\n",
    "):\n",
    "    t_state = enum('NEUTRAL', 'OVER', 'UNDER', name='t_state')\n",
    "    \n",
    "    state = Signal(t_state.NEUTRAL)\n",
    "    \n",
    "    @always_seq(clk.posedge, reset)\n",
    "    def worker():           \n",
    "        if state == t_state.OVER:\n",
    "            if a < LOWER:\n",
    "                state.next = t_state.UNDER    \n",
    "        elif state == t_state.UNDER:\n",
    "            if a > UPPER:\n",
    "                state.next = t_state.OVER\n",
    "        else:\n",
    "            if a < LOWER:\n",
    "                state.next = t_state.UNDER\n",
    "            elif a > UPPER:\n",
    "                state.next = t_state.OVER\n",
    "                \n",
    "    @always_comb\n",
    "    def assign():\n",
    "        if state == t_state.OVER:\n",
    "            q0.next = False\n",
    "            q1.next = True\n",
    "        elif state == t_state.UNDER:\n",
    "            q0.next = True\n",
    "            q1.next = False\n",
    "        else:\n",
    "            q0.next = False\n",
    "            q1.next = False\n",
    "\n",
    "    return instances()"
   ]
  },
  {
   "cell_type": "markdown",
   "metadata": {},
   "source": [
    "Then we create a test bench with a bit of ramping stimulus:"
   ]
  },
  {
   "cell_type": "code",
   "execution_count": 3,
   "metadata": {},
   "outputs": [],
   "source": [
    "from myirl.test.common_test import run_ghdl, gen_osc\n",
    "\n",
    "@block\n",
    "def testbench_hyst(SIZE = 6):\n",
    "    clk = ClkSignal()\n",
    "    rst = ResetSignal(0, 1, isasync = False)\n",
    "    val = Signal(intbv()[SIZE:])\n",
    "    lo, hi = [ Signal(bool()) for i in range(2) ]\n",
    "    \n",
    "    inst = hysteresis(clk = clk, reset = rst, a = val, q0 = lo, q1 = hi,\n",
    "                     LOWER = 4, UPPER = 16)\n",
    "\n",
    "    cg = gen_osc(clk, CYCLE = 1)\n",
    "    \n",
    "    N = 2 ** SIZE\n",
    "    \n",
    "    @instance\n",
    "    def stim():\n",
    "        val.next = 8\n",
    "        rst.next = True\n",
    "        yield delay(10)\n",
    "        rst.next = False\n",
    "        for i in range(8, N):\n",
    "            val.next = i\n",
    "            yield delay(2)\n",
    "\n",
    "        for i in range(N-1, -1, -1):\n",
    "            val.next = i\n",
    "            yield delay(2)\n",
    "\n",
    "        val.next = 8\n",
    "        rst.next = True\n",
    "        yield delay(10)\n",
    "        rst.next = False\n",
    "            \n",
    "        for i in range(8, -1, -1):\n",
    "            val.next = i\n",
    "            yield delay(5)\n",
    "            \n",
    "        for i in range(0, N):\n",
    "            val.next = i\n",
    "            yield delay(2)\n",
    "            \n",
    "    return instances()"
   ]
  },
  {
   "cell_type": "code",
   "execution_count": 4,
   "metadata": {},
   "outputs": [],
   "source": [
    "from myirl import targets\n",
    "\n",
    "def test():\n",
    "    tb = testbench_hyst()\n",
    "    files = tb.elab(targets.VHDL, elab_all = True)\n",
    "    run_ghdl(files, tb, vcdfile='hyst.vcd', debug=True)\n",
    "    return files"
   ]
  },
  {
   "cell_type": "code",
   "execution_count": 5,
   "metadata": {},
   "outputs": [
    {
     "name": "stdout",
     "output_type": "stream",
     "text": [
      "Using default for SIZE: 6\n",
      " SIZE: use default 6 \n",
      " SIZE: use default 6 \n",
      "\u001b[7;34m Set parameter LOWER := 4 \u001b[0m\n",
      "\u001b[7;34m Set parameter UPPER := 16 \u001b[0m\n",
      "Creating process 'hysteresis/worker' with sensitivity (clk'rising, <reset>)\n",
      "\u001b[32m Insert unit hysteresis_s1_s1_s6_s1_s1 \u001b[0m\n",
      "Creating sequential 'testbench_hyst/stim' \n",
      "\u001b[32m Insert unit testbench_hyst_6 \u001b[0m\n",
      " Writing 'hysteresis' to file /tmp/hysteresis.vhdl \n",
      "Finished _elab in 0.0015 secs\n",
      " Writing 'testbench_hyst' to file /tmp/testbench_hyst.vhdl \n",
      "Finished _elab in 0.0012 secs\n",
      " Creating library file /tmp/module_defs.vhdl \n",
      "==== COSIM stdout ====\n",
      "\n",
      "==== COSIM stderr ====\n",
      "\n",
      "==== COSIM stdout ====\n",
      "analyze /home/testing/.local/lib/python3.10/site-packages/myirl-0.0.0-py3.10-linux-x86_64.egg/myirl/targets/../test/vhdl/txt_util.vhdl\n",
      "analyze /home/testing/.local/lib/python3.10/site-packages/myirl-0.0.0-py3.10-linux-x86_64.egg/myirl/targets/libmyirl.vhdl\n",
      "analyze /tmp/hysteresis.vhdl\n",
      "analyze /tmp/testbench_hyst.vhdl\n",
      "elaborate testbench_hyst\n",
      "\n",
      "==== COSIM stderr ====\n",
      "\n",
      "==== COSIM stdout ====\n",
      "/tmp/testbench_hyst:info: simulation stopped by --stop-time @1us\n",
      "\n",
      "==== COSIM stderr ====\n",
      "\n"
     ]
    }
   ],
   "source": [
    "f = test()"
   ]
  },
  {
   "cell_type": "markdown",
   "metadata": {},
   "source": [
    "As a result, the wave trace (download [hyst.vcd](hyst.vcd)) displays as follows in GTKwave:"
   ]
  },
  {
   "cell_type": "markdown",
   "metadata": {},
   "source": [
    "![Wave trace](wave.png)"
   ]
  },
  {
   "cell_type": "code",
   "execution_count": 6,
   "metadata": {},
   "outputs": [
    {
     "name": "stdout",
     "output_type": "stream",
     "text": [
      "-- File generated from /usr/local/lib/python3.10/runpy.py\n",
      "-- (c) 2016-2021 section5.ch\n",
      "-- Modifications may be lost\n",
      "\n",
      "library IEEE;\n",
      "use IEEE.std_logic_1164.all;\n",
      "use IEEE.numeric_std.all;\n",
      "\n",
      "library work;\n",
      "\n",
      "use work.txt_util.all;\n",
      "use work.myirl_conversion.all;\n",
      "\n",
      "entity hysteresis is\n",
      "    generic (\n",
      "        LOWER: natural := 0;\n",
      "        UPPER: natural := 255\n",
      "    );\n",
      "    port (\n",
      "        clk : in std_ulogic;\n",
      "        reset : in std_ulogic;\n",
      "        a : in unsigned(5 downto 0);\n",
      "        q0 : out std_ulogic;\n",
      "        q1 : out std_ulogic\n",
      "    );\n",
      "end entity hysteresis;\n",
      "\n",
      "architecture MyIRL of hysteresis is\n",
      "    -- Local type declarations\n",
      "    type t_state is (\n",
      "        t_state_NEUTRAL,\n",
      "        t_state_OVER,\n",
      "        t_state_UNDER\n",
      "    );\n",
      "    -- Signal declarations\n",
      "    signal state : t_state;\n",
      "begin\n",
      "    \n",
      "worker:\n",
      "    process(clk, reset)\n",
      "    begin\n",
      "        if rising_edge(clk) then\n",
      "            if reset = '1' then\n",
      "                state <= t_state_NEUTRAL;\n",
      "            else\n",
      "                if (state = t_state_OVER) then\n",
      "                    if (LOWER > a) then\n",
      "                        state <= t_state_UNDER;\n",
      "                    end if;\n",
      "                elsif (state = t_state_UNDER) then\n",
      "                    if (a > UPPER) then\n",
      "                        state <= t_state_OVER;\n",
      "                    end if;\n",
      "                elsif (LOWER > a) then\n",
      "                    state <= t_state_UNDER;\n",
      "                elsif (a > UPPER) then\n",
      "                    state <= t_state_OVER;\n",
      "                end if;\n",
      "            end if;\n",
      "        end if;\n",
      "    end process;\n",
      "    \n",
      "assign:\n",
      "    process(state)\n",
      "    begin\n",
      "        if (state = t_state_OVER) then\n",
      "            q0 <= '0';\n",
      "            q1 <= '1';\n",
      "        elsif (state = t_state_UNDER) then\n",
      "            q0 <= '1';\n",
      "            q1 <= '0';\n",
      "        else\n",
      "            q0 <= '0';\n",
      "            q1 <= '0';\n",
      "        end if;\n",
      "    end process;\n",
      "\n",
      "end architecture MyIRL;\n",
      "\n"
     ]
    }
   ],
   "source": [
    "!cat {f[0]}"
   ]
  }
 ],
 "metadata": {
  "kernelspec": {
   "display_name": "Python 3 (ipykernel)",
   "language": "python",
   "name": "python3"
  },
  "language_info": {
   "codemirror_mode": {
    "name": "ipython",
    "version": 3
   },
   "file_extension": ".py",
   "mimetype": "text/x-python",
   "name": "python",
   "nbconvert_exporter": "python",
   "pygments_lexer": "ipython3",
   "version": "3.10.0"
  }
 },
 "nbformat": 4,
 "nbformat_minor": 4
}

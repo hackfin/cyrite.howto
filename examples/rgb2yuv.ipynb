{
 "cells": [
  {
   "cell_type": "markdown",
   "id": "1dfb41b6",
   "metadata": {},
   "source": [
    "# Vector/Pipelining scenario #1: RGB to YUV conversion\n",
    "\n",
    "Example RGB to YUV conversion (simplified, not clamping)\n",
    "\n",
    "**Note** Not verified for correct conversion, legacy example taken from MyHDL implementation. Can be implemented more elegantly.\n",
    "\n",
    "Makes use of the `VectorSig` data type and the simple `@pipeline` decorator."
   ]
  },
  {
   "cell_type": "code",
   "execution_count": 1,
   "id": "6d8214c3",
   "metadata": {},
   "outputs": [
    {
     "name": "stdout",
     "output_type": "stream",
     "text": [
      "\u001b[33mWARNING: You are using pip version 21.2.4; however, version 24.1.2 is available.\n",
      "You should consider upgrading via the '/usr/local/bin/python -m pip install --upgrade pip' command.\u001b[0m\n"
     ]
    }
   ],
   "source": [
    "!pip install numpy > /dev/null"
   ]
  },
  {
   "cell_type": "markdown",
   "id": "3b32d6ee",
   "metadata": {},
   "source": [
    "Import video types:"
   ]
  },
  {
   "cell_type": "code",
   "execution_count": 2,
   "id": "d3e79eea",
   "metadata": {},
   "outputs": [],
   "source": [
    "from video.color import *\n",
    "from video.videotypes import *"
   ]
  },
  {
   "cell_type": "markdown",
   "id": "2f79ee5c",
   "metadata": {},
   "source": [
    "Import pipeline and target auxiliaries:"
   ]
  },
  {
   "cell_type": "code",
   "execution_count": 3,
   "id": "56975585",
   "metadata": {},
   "outputs": [],
   "source": [
    "from myirl.library.pipeline import *\n",
    "from myirl import targets"
   ]
  },
  {
   "cell_type": "markdown",
   "id": "8d9edb7e",
   "metadata": {},
   "source": [
    "Construct the conversion matrix, in this case for JPEG-compliant YCrCb:"
   ]
  },
  {
   "cell_type": "code",
   "execution_count": 4,
   "id": "2b7ab395",
   "metadata": {},
   "outputs": [],
   "source": [
    "CLAMP = False\n",
    "LEVELSHIFT = False\n",
    "BPP        = 8\n",
    "FRACT_SIZE = 16\n",
    "CALCSIZE   = FRACT_SIZE + BPP\n",
    "SATURATION_VALUE_MAX = 127 # YUV maximum value (saturation)\n",
    "SATURATION_VALUE_MIN = -128 # YUV minimum value (saturation)\n",
    "\n",
    "\n",
    "# Signed matrix entries:\n",
    "Y_FROM_RGB = vector_to_fp(FRACT_SIZE, 1, mat_jpeg_rgb2yuv[0])\n",
    "U_FROM_RGB = vector_to_fp(FRACT_SIZE, 1, mat_jpeg_rgb2yuv[1])\n",
    "V_FROM_RGB = vector_to_fp(FRACT_SIZE, 1, mat_jpeg_rgb2yuv[2])\n",
    "\n",
    "def F(x, s = FRACT_SIZE):\n",
    "    return intbv(x)[s:]\n",
    "\n",
    "YUV_SLICE = slice(CALCSIZE-1, CALCSIZE-1 - BPP)\n",
    "\n",
    "MATRIX = [\n",
    "    [ F(Y_FROM_RGB[i]) for i in range(3) ],\n",
    "    [ F(U_FROM_RGB[i]) for i in range(3) ],\n",
    "    [ F(V_FROM_RGB[i]) for i in range(3) ]\n",
    "]\n",
    "\n",
    "from myirl.library.vectorsignal import VectorSignal\n",
    "\n",
    "I = lambda x: ( x[i]._val for i in range(3) )\n",
    "\n",
    "# @bulkwrapper()\n",
    "# class RGBParam:\n",
    "#     def __init__(self):\n",
    "#         self.y = VectorSig(3, MATRIX[0], initializer = I(MATRIX[0]))\n",
    "#         self.u = VectorSig(3, MATRIX[1], initializer = I(MATRIX[1]))\n",
    "#         self.v = VectorSig(3, MATRIX[1], initializer = I(MATRIX[2]))"
   ]
  },
  {
   "cell_type": "code",
   "execution_count": 5,
   "id": "6c10fdd7",
   "metadata": {},
   "outputs": [
    {
     "data": {
      "text/plain": [
       "[[intbv(9797), intbv(19234), intbv(3735)],\n",
       " [intbv(60007), intbv(54682), intbv(16384)],\n",
       " [intbv(16384), intbv(51817), intbv(62872)]]"
      ]
     },
     "execution_count": 5,
     "metadata": {},
     "output_type": "execute_result"
    }
   ],
   "source": [
    "MATRIX"
   ]
  },
  {
   "cell_type": "code",
   "execution_count": 6,
   "id": "f5ef10e3",
   "metadata": {},
   "outputs": [],
   "source": [
    "from myirl import simulation as sim\n",
    "from myirl.test.common_test import gen_osc\n",
    "\n",
    "@block\n",
    "def video_rgb_yuv(clk : ClkSignal,\n",
    "                  vin : VideoPort,\n",
    "                  rgb : Signal,\n",
    "                  param_matrix : list,\n",
    "                  vout : VideoPort.Output,\n",
    "                  yuv : Signal.Output,):\n",
    "    \"\"\"RGB to full range YUV422 converter, manual pipeline inference\"\"\"\n",
    "    \n",
    "    py, pu, pv = [\n",
    "        VectorSignal(3, F(0), initializer = I(param_matrix[i]), name = \"p_coef%d\" % i)  \\\n",
    "        for i in range(3)\n",
    "    ]\n",
    "    \n",
    "    # Use initializers:\n",
    "    py._init = True\n",
    "    pu._init = True\n",
    "    pv._init = True\n",
    "    \n",
    "    valid = Signal(bool())\n",
    "    \n",
    "    rgb_v = VectorSignal(3, FractUnsigned(0, BPP), name = 'rgbv')\n",
    "    \n",
    "    a = VectorSignal(3, FractSigned(0, CALCSIZE+2), name = \"add_res\")\n",
    "    y = VectorSignal(3, FractUnsigned(0, CALCSIZE), name = \"ydata\")\n",
    "    u, v = [ VectorSignal(3, FractSigned(0, CALCSIZE+1), name = n) for n in ['udata', 'vdata'] ]\n",
    "\n",
    "    # Wire up input RGB video:\n",
    "    wires = []\n",
    "    for i in range(3):\n",
    "        j = 3 - i\n",
    "        wires.append(rgb_v[i].wireup(rgb[j*BPP:(j-1)*BPP]))\n",
    "\n",
    "    # Predefine YUV slices\n",
    "    yuv_slices = (a[i][YUV_SLICE] for i in range(3) )\n",
    "         \n",
    "    wires += [\n",
    "        yuv.wireup(\n",
    "            concat(*yuv_slices)\n",
    "        )   \n",
    "    ]\n",
    "    \n",
    "    @pipeline(clk, None, ce = vin.dval, pass_in = vin, pass_out = vout)\n",
    "    def yuv_pipe(ctx):\n",
    "        \"\"\"This contains the two-stage transformation for the RGB-YUV matrix.\n",
    "Because it's a vector signal, we can use HDL notation (<=)\"\"\"\n",
    "        yield [        \n",
    "            y .set (py * rgb_v),\n",
    "            u .set (pu.signed() * rgb_v),\n",
    "            v .set (pv.signed() * rgb_v)        \n",
    "        ]\n",
    "\n",
    "        # Create sum expressions for readability:\n",
    "        _y, _u, _v = (i.sum() for i in [y, u, v])\n",
    "        \n",
    "        yield [ \n",
    "            a[0].set(_y.signed()),\n",
    "            a[1].set(_u),\n",
    "            a[2].set(_v) \n",
    "        ]\n",
    "\n",
    "    return locals()\n"
   ]
  },
  {
   "cell_type": "markdown",
   "id": "3677184a",
   "metadata": {},
   "source": [
    "### Testbench"
   ]
  },
  {
   "cell_type": "code",
   "execution_count": 7,
   "id": "7cb8ffd1",
   "metadata": {},
   "outputs": [
    {
     "name": "stdout",
     "output_type": "stream",
     "text": [
      "\u001b[7;35m Declare obj 'testbench_rgb2yuv' in context '(DesignModule 'top')'(<class 'myirl.kernel.instance.DesignModule'>) \u001b[0m\n"
     ]
    }
   ],
   "source": [
    "from myirl.targets import VHDL\n",
    "from myirl.test.common_test import run_ghdl\n",
    "\n",
    "d = DesignModule(\"top\", debug = True)\n",
    "\n",
    "@component(d)\n",
    "def testbench_rgb2yuv():\n",
    "    clk = ClkSignal(name = \"pclk\")\n",
    "    yuv = Signal(intbv(0)[3*BPP:])\n",
    "    vint, vout = [VideoPort() for _ in range(2)]\n",
    "    \n",
    "    yuv = Signal(intbv(0)[3*BPP:], name = 'yuv_data')\n",
    "    rgb = Signal(intbv(0)[3*BPP:], name = 'rgb_data')\n",
    "\n",
    "    \n",
    "    inst = video_rgb_yuv(clk = clk,\n",
    "                        vin = vint,\n",
    "                        rgb = rgb,\n",
    "                        param_matrix = MATRIX,\n",
    "                        vout = vout,\n",
    "                        yuv = yuv\n",
    "    )\n",
    "    \n",
    "    osc = gen_osc(clk, CYCLE = 5)\n",
    "    \n",
    "    @sim.generator\n",
    "    def stimulus():    \n",
    "        \n",
    "        # Feed a few color values:\n",
    "        values = sim.Iterator([0x00ffff, 0x7f7f7f, 0x008300, 0x1a840a])\n",
    "        \n",
    "        yield [\n",
    "            vint.dval.set(False), vint.fval.set(True), vint.lval.set(True),\n",
    "            sim.wait(4 * [ clk.posedge, ] ), \n",
    "            vint.dval.set(True),\n",
    "            sim.For(values)(\n",
    "                sim.wait('1 ns'),\n",
    "                rgb.set(values),\n",
    "                sim.wait(2 * [clk.posedge]),\n",
    "                sim.print_(yuv),\n",
    "            ),\n",
    "\n",
    "            sim.wait(3 * [ clk.posedge, ] ), \n",
    "            sim.assert_(vout.dval == True, \"Video not valid\"),\n",
    "        ]\n",
    "\n",
    "        for _ in range(3):\n",
    "            yield [\n",
    "                sim.print_(yuv),\n",
    "                sim.wait(clk.posedge), \n",
    "            ]\n",
    "\n",
    "        yield [\n",
    "            sim.raise_(sim.StopSimulation)\n",
    "        ]\n",
    "        \n",
    "    return locals()\n",
    "\n",
    "def test():\n",
    "    tb = testbench_rgb2yuv()\n",
    "    files = tb.elab(VHDL, elab_all = True)\n",
    "    run_ghdl(files, tb, debug = True, vcdfile=\"yuv.vcd\")\n",
    "    return files, tb"
   ]
  },
  {
   "cell_type": "code",
   "execution_count": 8,
   "id": "707357e9",
   "metadata": {
    "scrolled": true
   },
   "outputs": [
    {
     "name": "stderr",
     "output_type": "stream",
     "text": [
      "/home/cyrite/.local/lib/python3.10/site-packages/cyritehdl-0.1b0-py3.10-linux-x86_64.egg/myirl/kernel/components.py:116: UserWarning: Fallback: Pass through other argument for arg param_matrix (<class 'list'>)\n",
      "  base.warnings.warn(msg)\n",
      "/home/cyrite/.local/lib/python3.10/site-packages/cyritehdl-0.1b0-py3.10-linux-x86_64.egg/myirl/library/pipeline.py:285: TranslationWarning: yuv_pipe(): `ce` (type <class 'myirl.kernel._types.ChildAlias'>) is not a pipeline signal\n",
      "  base.warn(\"%s(): `ce` (type %s) is not a pipeline signal\" % (func.__name__, type(ce)))\n"
     ]
    },
    {
     "name": "stdout",
     "output_type": "stream",
     "text": [
      "\u001b[32m Insert unit video_rgb_yuvu_1dval_1u_lval_1u_fval_1u_24_l3dval_1u_lval_1u_fval_1u_24 \u001b[0m\n",
      "\u001b[32m Insert unit testbench_rgb2yuv \u001b[0m\n",
      "\u001b[32m DEBUG REGISTER module_defs: VideoPort \u001b[0m\n",
      "\u001b[32m DEBUG REGISTER top: VideoPort \u001b[0m\n",
      "\u001b[32m DEBUG REGISTER module_defs: VideoPort \u001b[0m\n",
      "\u001b[32m DEBUG REGISTER top: VideoPort \u001b[0m\n",
      "\u001b[32m DEBUG REGISTER module_defs: VideoPort \u001b[0m\n",
      "\u001b[32m DEBUG REGISTER top: VideoPort \u001b[0m\n",
      "\u001b[32m DEBUG REGISTER module_defs: VideoPort \u001b[0m\n",
      "\u001b[32m DEBUG REGISTER top: VideoPort \u001b[0m\n",
      "\u001b[32m DEBUG REGISTER module_defs: VideoPort \u001b[0m\n",
      "\u001b[32m DEBUG REGISTER top: VideoPort \u001b[0m\n",
      "\u001b[32m DEBUG REGISTER module_defs: VideoPort \u001b[0m\n",
      " Writing 'video_rgb_yuv' to file /tmp/video_rgb_yuv.vhdl \n",
      "Warning: Implicit truncation of ADD(ADD(vec_udata_0, vec_udata_1), vec_udata_2) result\n",
      "Warning: Implicit truncation of ADD(ADD(vec_vdata_0, vec_vdata_1), vec_vdata_2) result\n",
      " Writing 'testbench_rgb2yuv' to file /tmp/testbench_rgb2yuv.vhdl \n",
      " Creating library file module_defs.vhdl \n",
      "WORK DIR of instance [Instance testbench_rgb2yuv I/F: [// ID: testbench_rgb2yuv_0 ]] /tmp/\n",
      "==== COSIM stdout ====\n",
      "0xuuuuuu\n",
      "0xB22B80\n",
      "0x7E0000\n",
      "0x4CD4C9\n",
      "0x56D4D4\n",
      "0x56D4D4\n",
      "0x56D4D4\n",
      "simulation stopped @175ns\n",
      "\n"
     ]
    }
   ],
   "source": [
    "files, tb = test()"
   ]
  },
  {
   "cell_type": "code",
   "execution_count": 9,
   "id": "30cfbe8a",
   "metadata": {},
   "outputs": [
    {
     "name": "stdout",
     "output_type": "stream",
     "text": [
      "     1\t-- File generated from source:\n",
      "     2\t--     /tmp/ipykernel_97023/3889866912.py\n",
      "     3\t-- (c) 2016-2022 section5.ch\n",
      "     4\t-- Modifications may be lost, edit the source file instead.\n",
      "     5\t\n",
      "     6\tlibrary IEEE;\n",
      "     7\tuse IEEE.std_logic_1164.all;\n",
      "     8\tuse IEEE.numeric_std.all;\n",
      "     9\t\n",
      "    10\tlibrary work;\n",
      "    11\t\n",
      "    12\tuse work.module_defs.all;\n",
      "    13\tuse work.txt_util.all;\n",
      "    14\tuse work.myirl_conversion.all;\n",
      "    15\t\n",
      "    16\t\n",
      "    17\t\n",
      "    18\tentity video_rgb_yuv is\n",
      "    19\t    port (\n",
      "    20\t        clk : in std_ulogic;\n",
      "    21\t        vin : in t_VideoPort;\n",
      "    22\t        rgb : in unsigned(23 downto 0);\n",
      "    23\t        vout : out t_VideoPort;\n",
      "    24\t        yuv : out unsigned(23 downto 0)\n",
      "    25\t    );\n",
      "    26\tend entity video_rgb_yuv;\n",
      "    27\t\n",
      "    28\tarchitecture myIRL of video_rgb_yuv is\n",
      "    29\t    -- Local type declarations\n",
      "    30\t    -- Signal declarations\n",
      "    31\t    signal yuv_pipe_ce1 : std_ulogic;\n",
      "    32\t    signal yuv_pipe_ce2 : std_ulogic;\n",
      "    33\t    signal yuv_pipe_ce0 : std_ulogic;\n",
      "    34\t    type a_ydata is array (0 to 2) of unsigned(23 downto 0);\n",
      "    35\t    signal ydata : a_ydata    ;\n",
      "    36\t    type a_udata is array (0 to 2) of signed(24 downto 0);\n",
      "    37\t    signal udata : a_udata    ;\n",
      "    38\t    type a_vdata is array (0 to 2) of signed(24 downto 0);\n",
      "    39\t    signal vdata : a_vdata    ;\n",
      "    40\t    type a_add_res is array (0 to 2) of signed(25 downto 0);\n",
      "    41\t    signal add_res : a_add_res    ;\n",
      "    42\t    signal yuv_pipe_bypass1 : t_VideoPort;\n",
      "    43\t    signal yuv_pipe_bypass2 : t_VideoPort;\n",
      "    44\t    signal yuv_pipe_bypass0 : t_VideoPort;\n",
      "    45\t    type a_p_coef0 is array (0 to 2) of unsigned(15 downto 0);\n",
      "    46\t    signal p_coef0 : a_p_coef0     := (\n",
      "    47\t        x\"2645\",x\"4b22\",x\"0e97\"\n",
      "    48\t    );\n",
      "    49\t    type a_rgbv is array (0 to 2) of unsigned(7 downto 0);\n",
      "    50\t    signal rgbv : a_rgbv    ;\n",
      "    51\t    type a_p_coef1 is array (0 to 2) of unsigned(15 downto 0);\n",
      "    52\t    signal p_coef1 : a_p_coef1     := (\n",
      "    53\t        x\"ea67\",x\"d59a\",x\"4000\"\n",
      "    54\t    );\n",
      "    55\t    type a_p_coef2 is array (0 to 2) of unsigned(15 downto 0);\n",
      "    56\t    signal p_coef2 : a_p_coef2     := (\n",
      "    57\t        x\"4000\",x\"ca69\",x\"f598\"\n",
      "    58\t    );\n",
      "    59\tbegin\n",
      "    60\t    \n",
      "    61\tce_queue:\n",
      "    62\t    process(clk)\n",
      "    63\t    begin\n",
      "    64\t        if rising_edge(clk) then\n",
      "    65\t            yuv_pipe_ce1 <= yuv_pipe_ce0;\n",
      "    66\t            yuv_pipe_ce2 <= yuv_pipe_ce1;\n",
      "    67\t        end if;\n",
      "    68\t    end process;\n",
      "    69\t    yuv_pipe_ce0 <= vin.dval;\n",
      "    70\t    \n",
      "    71\tyuv_pipe_stage0:\n",
      "    72\t    process(clk)\n",
      "    73\t    begin\n",
      "    74\t        if rising_edge(clk) then\n",
      "    75\t            if (yuv_pipe_ce0 = '1') then\n",
      "    76\t                ydata(0) <= (p_coef0(0) * rgbv(0));\n",
      "    77\t                ydata(1) <= (p_coef0(1) * rgbv(1));\n",
      "    78\t                ydata(2) <= (p_coef0(2) * rgbv(2));\n",
      "    79\t                udata(0) <= signed(resize((signed(p_coef1(0)) * signed(resize(rgbv(0), 9))), 25));\n",
      "    80\t                udata(1) <= signed(resize((signed(p_coef1(1)) * signed(resize(rgbv(1), 9))), 25));\n",
      "    81\t                udata(2) <= signed(resize((signed(p_coef1(2)) * signed(resize(rgbv(2), 9))), 25));\n",
      "    82\t                vdata(0) <= signed(resize((signed(p_coef2(0)) * signed(resize(rgbv(0), 9))), 25));\n",
      "    83\t                vdata(1) <= signed(resize((signed(p_coef2(1)) * signed(resize(rgbv(1), 9))), 25));\n",
      "    84\t                vdata(2) <= signed(resize((signed(p_coef2(2)) * signed(resize(rgbv(2), 9))), 25));\n",
      "    85\t            end if;\n",
      "    86\t        end if;\n",
      "    87\t    end process;\n",
      "    88\t    \n",
      "    89\tyuv_pipe_stage1:\n",
      "    90\t    process(clk)\n",
      "    91\t    begin\n",
      "    92\t        if rising_edge(clk) then\n",
      "    93\t            if (yuv_pipe_ce1 = '1') then\n",
      "    94\t                add_res(0) <= signed((resize((ydata(0) + resize(ydata(1), 25)), 26) + ydata(2)));\n",
      "    95\t                add_res(1) <= signed(resize((signed(resize((udata(0) + signed(resize(udata(1), 26))), 27)) + udata(2)), 26));\n",
      "    96\t                add_res(2) <= signed(resize((signed(resize((vdata(0) + signed(resize(vdata(1), 26))), 27)) + vdata(2)), 26));\n",
      "    97\t            end if;\n",
      "    98\t        end if;\n",
      "    99\t    end process;\n",
      "   100\t    \n",
      "   101\tdelay_queue:\n",
      "   102\t    process(clk)\n",
      "   103\t    begin\n",
      "   104\t        if rising_edge(clk) then\n",
      "   105\t            yuv_pipe_bypass1 <= yuv_pipe_bypass0;\n",
      "   106\t            yuv_pipe_bypass2 <= yuv_pipe_bypass1;\n",
      "   107\t        end if;\n",
      "   108\t    end process;\n",
      "   109\t    vout <= yuv_pipe_bypass2;\n",
      "   110\t    yuv_pipe_bypass0 <= vin;\n",
      "   111\t    rgbv(0) <= rgb(24-1 downto 16);\n",
      "   112\t    rgbv(1) <= rgb(16-1 downto 8);\n",
      "   113\t    rgbv(2) <= rgb(8-1 downto 0);\n",
      "   114\t    yuv <= (unsigned(add_res(0)(23-1 downto 15)) & unsigned(add_res(1)(23-1 downto 15)) & unsigned(add_res(2)(23-1 downto 15)));\n",
      "   115\tend architecture myIRL;\n",
      "   116\t\n"
     ]
    }
   ],
   "source": [
    "!cat -n {files[0]}"
   ]
  },
  {
   "cell_type": "markdown",
   "id": "9aaec22a",
   "metadata": {},
   "source": [
    "## Waveform trace"
   ]
  },
  {
   "cell_type": "code",
   "execution_count": 10,
   "id": "513b09a3",
   "metadata": {},
   "outputs": [
    {
     "data": {
      "text/html": [
       "<div><script type=\"WaveDrom\">{\"signal\": [{\"name\": \"testbench_rgb2yuv.yuv_data[23:0]\", \"wave\": \"u..........=...=...=...=...........\", \"data\": \"b22b80 7e0000 4cd4c9 56d4d4 \"}, {\"name\": \"testbench_rgb2yuv.pclk\", \"wave\": \"01010101010101010101010101010101010\", \"data\": \"01010101010101010101010101010101010\"}, {\"name\": \"testbench_rgb2yuv.rgb_data[23:0]\", \"wave\": \"u.......=...=...=...=..............\", \"data\": \"ffff 7f7f7f 8300 1a840a \"}, {\"name\": \"testbench_rgb2yuv.inst_video_rgb_yuv_0.clk\", \"wave\": \"01010101010101010101010101010101010\", \"data\": \"01010101010101010101010101010101010\"}, {\"name\": \"testbench_rgb2yuv.inst_video_rgb_yuv_0.rgb[23:0]\", \"wave\": \"u.......=...=...=...=..............\", \"data\": \"ffff 7f7f7f 8300 1a840a \"}, {\"name\": \"testbench_rgb2yuv.inst_video_rgb_yuv_0.yuv[23:0]\", \"wave\": \"u..........=...=...=...=...........\", \"data\": \"b22b80 7e0000 4cd4c9 56d4d4 \"}, {\"name\": \"testbench_rgb2yuv.inst_video_rgb_yuv_0.yuv_pipe_ce1\", \"wave\": \"u0.......1.........................\", \"data\": \"01\"}, {\"name\": \"testbench_rgb2yuv.inst_video_rgb_yuv_0.yuv_pipe_ce2\", \"wave\": \"u..0.......1.......................\", \"data\": \"01\"}, {\"name\": \"testbench_rgb2yuv.inst_video_rgb_yuv_0.yuv_pipe_ce0\", \"wave\": \"0......1...........................\", \"data\": \"01\"}]}</script></div>"
      ]
     },
     "metadata": {},
     "output_type": "display_data"
    },
    {
     "data": {
      "application/javascript": [
       "new Promise(function(resolve, reject) {\n",
       "\tvar script = document.createElement(\"script\");\n",
       "\tscript.onload = resolve;\n",
       "\tscript.onerror = reject;\n",
       "\tscript.src = \"https://wavedrom.com/wavedrom.min.js\";\n",
       "\tdocument.head.appendChild(script);\n",
       "}).then(() => {\n",
       "new Promise(function(resolve, reject) {\n",
       "\tvar script = document.createElement(\"script\");\n",
       "\tscript.onload = resolve;\n",
       "\tscript.onerror = reject;\n",
       "\tscript.src = \"https://wavedrom.com/skins/narrow.js\";\n",
       "\tdocument.head.appendChild(script);\n",
       "}).then(() => {\n",
       "WaveDrom.ProcessAll();\n",
       "});\n",
       "});"
      ]
     },
     "metadata": {},
     "output_type": "display_data"
    }
   ],
   "source": [
    "from cyrite import waveutils\n",
    "\n",
    "waveutils.draw_wavetrace(tb, 'yuv.vcd', 'pclk', cfg = None)"
   ]
  },
  {
   "cell_type": "markdown",
   "id": "9162c1ae",
   "metadata": {},
   "source": [
    "Download full VCD trace [yuv.vcd](yuv.vcd)"
   ]
  },
  {
   "cell_type": "markdown",
   "id": "f921e8a5",
   "metadata": {},
   "source": [
    "## Verification exercise\n",
    "\n",
    "Using numpy, we can run our samples through the floating point matrix as well:"
   ]
  },
  {
   "cell_type": "code",
   "execution_count": 11,
   "id": "5e7e74b9",
   "metadata": {},
   "outputs": [],
   "source": [
    "v = numpy.matrix(mat_jpeg_rgb2yuv)\n",
    "rgb = numpy.matrix([ (127, 127, 127), (0, 255, 255), (0, 0x83, 0)]).T\n",
    "\n",
    "yuv = v * rgb"
   ]
  },
  {
   "cell_type": "code",
   "execution_count": 12,
   "id": "41a7c122",
   "metadata": {},
   "outputs": [
    {
     "data": {
      "text/plain": [
       "matrix([['7e', '00', '00'],\n",
       "        ['b2', '2b', '81'],\n",
       "        ['4c', 'd5', 'ca']], dtype='<U2')"
      ]
     },
     "execution_count": 12,
     "metadata": {},
     "output_type": "execute_result"
    }
   ],
   "source": [
    "g = lambda x: \"%02x\" % (int(x) & 0xff)\n",
    "f = numpy.vectorize(g)\n",
    "f(yuv.T)"
   ]
  },
  {
   "cell_type": "markdown",
   "id": "31a50b90",
   "metadata": {},
   "source": [
    "We note that the results don't entirely match. Why?"
   ]
  }
 ],
 "metadata": {
  "kernelspec": {
   "display_name": "Python 3 (ipykernel)",
   "language": "python",
   "name": "python3"
  },
  "language_info": {
   "codemirror_mode": {
    "name": "ipython",
    "version": 3
   },
   "file_extension": ".py",
   "mimetype": "text/x-python",
   "name": "python",
   "nbconvert_exporter": "python",
   "pygments_lexer": "ipython3",
   "version": "3.10.0"
  }
 },
 "nbformat": 4,
 "nbformat_minor": 5
}

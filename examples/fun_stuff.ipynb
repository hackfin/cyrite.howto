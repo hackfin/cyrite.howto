{
 "cells": [
  {
   "cell_type": "markdown",
   "metadata": {},
   "source": [
    "# Fun stuff\n",
    "\n",
    "This notebook is a collection of a few **WTF** moments you could have as Python enthusiast.\n",
    "Bottomline: This is not a recommended code style."
   ]
  },
  {
   "cell_type": "markdown",
   "metadata": {},
   "source": [
    "## HDL style signal assingment\n",
    "\n",
    "To mimic VHDL or Verilog assignment style, you *could* be tempted to redefine your assignments to emulate:\n",
    "\n",
    "```\n",
    "a <= x - 1\n",
    "```\n",
    "\n",
    "This is simply done by inheriting from the `Signal` class:"
   ]
  },
  {
   "cell_type": "code",
   "execution_count": 1,
   "metadata": {},
   "outputs": [
    {
     "name": "stderr",
     "output_type": "stream",
     "text": [
      "/usr/lib/python3.7/importlib/_bootstrap.py:219: RuntimeWarning: myirl.kernel.convertible.BinOp size changed, may indicate binary incompatibility. Expected 16 from C header, got 32 from PyObject\n",
      "  return f(*args, **kwds)\n",
      "/usr/lib/python3.7/importlib/_bootstrap.py:219: RuntimeWarning: myirl.kernel.convertible.BoolOp size changed, may indicate binary incompatibility. Expected 16 from C header, got 32 from PyObject\n",
      "  return f(*args, **kwds)\n"
     ]
    }
   ],
   "source": [
    "from myirl import *\n",
    "from myirl import targets\n",
    "from myhdl import intbv\n",
    "\n",
    "class HDLSignal(Signal):\n",
    "    def __le__(self, other):\n",
    "        return GenAssign(self, other)\n"
   ]
  },
  {
   "cell_type": "code",
   "execution_count": 2,
   "metadata": {},
   "outputs": [],
   "source": [
    "a, b = [ HDLSignal(intbv()[5:], name=n) for n in ['a', 'b'] ]\n",
    "\n",
    "logic = kernel.sensitivity.LogicContext()\n",
    "logic += [\n",
    "    a <= 5,\n",
    "    b <= a & b\n",
    "]"
   ]
  },
  {
   "cell_type": "code",
   "execution_count": 3,
   "metadata": {},
   "outputs": [
    {
     "name": "stdout",
     "output_type": "stream",
     "text": [
      "a <= \"00101\";\n",
      "b <= a and b;\n"
     ]
    }
   ],
   "source": [
    "d = DummyVHDLModule()\n",
    "for stmt in logic:\n",
    "    stmt.emit(d)"
   ]
  },
  {
   "cell_type": "markdown",
   "metadata": {},
   "source": [
    "However, there's a catch: You will not be able to use the `<=` operator for instancing of a comparator.\n",
    "With this abuse of the new `@` (matrix multiplication) operator, we can get some remedy (with side effects):"
   ]
  },
  {
   "cell_type": "code",
   "execution_count": 4,
   "metadata": {},
   "outputs": [],
   "source": [
    "class MyOp(base.ConvertibleExpr):\n",
    "    def __init__(self, func):\n",
    "        self.func = func\n",
    "    def __rmatmul__(self, other):\n",
    "        return MyOp(lambda t, self=self, other=other : self.func(other, t))\n",
    "    def __matmul__(self, other):\n",
    "        return self.func(other)\n",
    "    \n",
    "ge = MyOp(lambda x, y: base.Ge(x, y)) # Generate an operator\n",
    "le = MyOp(lambda x, y: base.Ge(y, x)) # swapped"
   ]
  },
  {
   "cell_type": "code",
   "execution_count": 5,
   "metadata": {},
   "outputs": [
    {
     "data": {
      "text/plain": [
       "b >= a"
      ]
     },
     "execution_count": 5,
     "metadata": {},
     "output_type": "execute_result"
    }
   ],
   "source": [
    "a @le@ b"
   ]
  },
  {
   "cell_type": "code",
   "execution_count": 6,
   "metadata": {},
   "outputs": [],
   "source": [
    "expr = a @ge@ b"
   ]
  },
  {
   "cell_type": "markdown",
   "metadata": {},
   "source": [
    "To verify it converts correctly, check:"
   ]
  },
  {
   "cell_type": "code",
   "execution_count": 7,
   "metadata": {},
   "outputs": [
    {
     "data": {
      "text/plain": [
       "(a >= b, 'from_bool(a >= b)')"
      ]
     },
     "execution_count": 7,
     "metadata": {},
     "output_type": "execute_result"
    }
   ],
   "source": [
    "expr, expr._convert(targets.VHDL, in_condition = False)"
   ]
  }
 ],
 "metadata": {
  "kernelspec": {
   "display_name": "Python 3",
   "language": "python",
   "name": "python3"
  },
  "language_info": {
   "codemirror_mode": {
    "name": "ipython",
    "version": 3
   },
   "file_extension": ".py",
   "mimetype": "text/x-python",
   "name": "python",
   "nbconvert_exporter": "python",
   "pygments_lexer": "ipython3",
   "version": "3.7.3"
  }
 },
 "nbformat": 4,
 "nbformat_minor": 4
}

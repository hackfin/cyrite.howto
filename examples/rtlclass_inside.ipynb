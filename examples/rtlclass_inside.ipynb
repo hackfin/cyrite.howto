{
 "cells": [
  {
   "cell_type": "markdown",
   "id": "51f25d15-aa1c-457a-b80e-7f7bdf9c4af1",
   "metadata": {},
   "source": [
    "# RTL class verification\n",
    "\n",
    "Let's examine a bit of the internal behaviour of the RTL class. We here use some evaluation techniques that allow us to insert processing steps in between the hardware description statements during transpilation into HDL. Thus, we can apply particular verification steps according to custom design rules in the future.\n",
    "\n",
    "During development of a variety of Signal and wire options that are potentially applicable to a RTL class hardware description, the dogma applies:\n",
    "\n",
    "**You can never fully trust anything**\n",
    "\n",
    "... until verified."
   ]
  },
  {
   "cell_type": "code",
   "execution_count": 1,
   "id": "a8863f55-6451-400a-a96d-1357ae36e7c5",
   "metadata": {},
   "outputs": [],
   "source": [
    "import sys\n",
    "sys.path.insert(0, '../..')\n",
    "\n",
    "from myirl.emulation.myhdl import *"
   ]
  },
  {
   "cell_type": "code",
   "execution_count": 2,
   "id": "6daddf20-cfc7-4856-a914-1a252f2f8b2c",
   "metadata": {},
   "outputs": [],
   "source": [
    "from myirl.library import rtlclass\n",
    "from myirl.emulation.factory_class import *"
   ]
  },
  {
   "cell_type": "markdown",
   "id": "b35026e4-263f-4afe-abb5-f432dd88847e",
   "metadata": {},
   "source": [
    "## Custom block example\n",
    "\n",
    "A custom RTL block class is derived from the `genblock` class. It does not define an interface yet, so it's regarded as a kind of evaluating test bench for now, just describing a bit of mixed logic.\n",
    "Note the `myhdl_worker` in MyHDL notation is decorated."
   ]
  },
  {
   "cell_type": "code",
   "execution_count": 3,
   "id": "1e626a11-968f-4c9c-b0b4-87fc0537a785",
   "metadata": {},
   "outputs": [],
   "source": [
    "class MyBlock(rtlclass.genblock):\n",
    "    x = 0xaa\n",
    "    \n",
    "    def worker(self, a, b):\n",
    "        \"MyIRL notation worker generator function\"\n",
    "        v = base.ConstSig(3, 5)\n",
    "        m = a.set(a + v)\n",
    "        yield [a.set(4), m, m]\n",
    "     \n",
    "    @factory.function\n",
    "    def myhdl_worker(self, a, b):\n",
    "        a.next = 0x54\n",
    "        b.next = a ^ self.x\n",
    "        yield delay(20)\n",
    "        # b.next = (b + 1)[8:]\n",
    "        b.next = b >> 3"
   ]
  },
  {
   "cell_type": "markdown",
   "id": "84647028-1f89-4567-978d-5e200ff13415",
   "metadata": {},
   "source": [
    "Let's create an 'evaluator' that steps through the commands, shows the conversion result and what is calculated. First, we augment the above `MyBlock` by an `.evaluate()` method:"
   ]
  },
  {
   "cell_type": "code",
   "execution_count": 4,
   "id": "da7c2af6-9792-4b89-bd53-e256f920c72c",
   "metadata": {},
   "outputs": [],
   "source": [
    "from myirl.kernel import struct_cond\n",
    "\n",
    "class EvalBlock(MyBlock):\n",
    "    def evaluate(self, proc):\n",
    "        objs = []\n",
    "        if isinstance(proc, list):\n",
    "            for p in proc:\n",
    "                gen = Evaluator(self, p, [])\n",
    "                objs.append(gen)\n",
    "        else:\n",
    "            gen = Evaluator(self, proc, [])\n",
    "            objs.append(gen)\n",
    "\n",
    "        return objs"
   ]
  },
  {
   "cell_type": "markdown",
   "id": "478776f5-f14b-4d5a-8d70-5c687679da38",
   "metadata": {},
   "source": [
    "Then an custom evaluator is derived from the rtlclass logic generator. It overrides the `.process_logic()` method which evaluates each assignment. Note this is a simplified, incomplete version which does not deal with loops or flow control statements."
   ]
  },
  {
   "cell_type": "code",
   "execution_count": 5,
   "id": "cadb77f0-085e-4ad3-a433-d90d36ea688f",
   "metadata": {},
   "outputs": [],
   "source": [
    "from myirl.targets.dummy import DummyTargetModule\n",
    "\n",
    "class Evaluator(rtlclass.MyGen):\n",
    "    def process_logic(self, gen, ctx = DummyTargetModule()):\n",
    "        \n",
    "        def _eval(i, ctx):\n",
    "            print(\"| \", i)\n",
    "            print(\"| \", i.trace_info())\n",
    "\n",
    "            i.emit(ctx)\n",
    "            if isinstance(i, base.GenAssign):\n",
    "                v = i.evaluate()\n",
    "                mask = ((1 << i.size()) - 1)\n",
    "                h = mask & v\n",
    "                print(\">> (%d) `%s` = %d -- 0x%x -- %s\" % (i.size(), i.destination().identifier, v, h, bin(h)))         \n",
    "\n",
    "            print()\n",
    "            \n",
    "        print(\"======================= %s ======================\" % (self.func.__name__) )\n",
    "        try:\n",
    "            for l in gen:\n",
    "                if isinstance(l, list):\n",
    "                    for i in l:\n",
    "                        _eval(i, ctx)\n",
    "                else:\n",
    "                    _eval(l, ctx)\n",
    "                    \n",
    "        except TypeError as e:\n",
    "            e.args = e.args + (\"Possibly generator does not yield anything\", )\n",
    "            raise e\n",
    "\n",
    "def dump(objs, ctx = DummyTargetModule()):\n",
    "    for i in objs:\n",
    "        if isinstance(i, Evaluator):\n",
    "            i()\n",
    "        else:\n",
    "            print(\"OTHER\", type(i))            \n",
    "            "
   ]
  },
  {
   "cell_type": "markdown",
   "id": "34439c92-68f8-4baa-b7e8-fe14c74090f6",
   "metadata": {},
   "source": [
    "The actual logic output is occuring in `.process_logic()` which emits the HDL conversion plus the result that is expected.\n",
    "\n",
    "The test routine again passes the signal types into the hardware description instance, here the `myhdl_worker`. The `.evaluate` method returns evaluator objects that handle each internal IRL statement."
   ]
  },
  {
   "cell_type": "code",
   "execution_count": 6,
   "id": "ec100c7c-1730-4bfe-aa64-3afb37b8a185",
   "metadata": {},
   "outputs": [],
   "source": [
    "import sys\n",
    "\n",
    "def test(signed = False):\n",
    "    blk = EvalBlock(\"eval\")\n",
    "    if signed:\n",
    "        a, b = [ Signal(intbv()[9:].signed(), name = n) for n in \"ab\" ]\n",
    "    else:\n",
    "        a, b = [ Signal(intbv()[8:], name = n) for n in \"ab\" ]\n",
    "        \n",
    "    logic1 = blk.myhdl_worker(a, b)\n",
    "\n",
    "    objs = blk.evaluate(logic1)\n",
    "    dump(objs)\n",
    "\n",
    "    \n",
    "    return "
   ]
  },
  {
   "cell_type": "code",
   "execution_count": 7,
   "id": "4ba16367-9516-41b5-98cf-3ad6341785c0",
   "metadata": {},
   "outputs": [
    {
     "name": "stdout",
     "output_type": "stream",
     "text": [
      "======================= myhdl_worker ======================\n",
      "|  a <= 84\n",
      "|  macro::myhdl_worker:12\n",
      "\u001b[94ma <= \"001010100\";\n",
      "\u001b[0m>> (9) `a` = 84 -- 0x54 -- 0b1010100\n",
      "\n",
      "|  b <= xor(a, C:170)\n",
      "|  macro::myhdl_worker:13\n",
      "\u001b[94mb <= (signed(resize(a, 10)) xor \"0010101010\");\n",
      "\u001b[0m>> (9) `b` = 254 -- 0xfe -- 0b11111110\n",
      "\n",
      "|  Wait: [ DeltaT 20 ns ]\n",
      "|  macro::myhdl_worker:14\n",
      "\u001b[94mwait for 20 ns;\n",
      "\u001b[0m\n",
      "|  b <= b >> C:3\n",
      "|  macro::myhdl_worker:16\n",
      "\u001b[94mb <= signed(resize(shift_right(resize(b, 9), 3), 9));\n",
      "\u001b[0m>> (9) `b` = 31 -- 0x1f -- 0b11111\n",
      "\n"
     ]
    }
   ],
   "source": [
    "test(True)"
   ]
  },
  {
   "cell_type": "markdown",
   "id": "5f25403b-3e9c-435e-8f8a-5cadae90384e",
   "metadata": {},
   "source": [
    "## Checkpoint verification\n",
    "\n",
    "Likewise, a simulation model in HDL can be output that is verified in a `known good` simulator against mismatches in evaluation of data type results.\n",
    "Instead of automatical emission, the user is given some control."
   ]
  },
  {
   "cell_type": "code",
   "execution_count": 8,
   "id": "8391b0a2-2c2a-4b4f-b390-906ef2190107",
   "metadata": {},
   "outputs": [],
   "source": [
    "from myirl.test.common_test import Checkpoint"
   ]
  },
  {
   "cell_type": "code",
   "execution_count": 9,
   "id": "5b7d29e0-5f09-48c3-92ab-385eb68aa00d",
   "metadata": {},
   "outputs": [],
   "source": [
    "from myirl import simulation as sim\n",
    "from myirl.kernel.components import ComponentObj\n",
    "\n",
    "class MyBlock2(MyBlock):\n",
    "    x = 0x85\n",
    "    \n",
    "    check = Checkpoint\n",
    "    \n",
    "    @factory.function\n",
    "    def myhdl_worker1(self, a, b):\n",
    "        a.next = 0x54\n",
    "        b.next = a ^ self.x\n",
    "        self.check(b, \"first check\")\n",
    "        b.next = (b + 1)[8:]\n",
    "        b.next = b >> 3\n",
    "        self.check(b, \"second check\")\n",
    "    \n",
    "    def handle_generator(self, func):\n",
    "        if isinstance(func, ComponentObj):\n",
    "            g = func(self)\n",
    "        else:\n",
    "            g = func    \n",
    "        return g\n",
    "\n",
    "    def verify(self, func, c = DummyTargetModule()):\n",
    "        g = self.handle_generator(func)\n",
    "        \n",
    "        for gen in g:\n",
    "            for stmt in gen:\n",
    "                if isinstance(stmt, Checkpoint):\n",
    "                    stmt()\n",
    "                    stmt.logic.emit(c)\n",
    "                    print(\"> \", stmt.trace_info())\n",
    "                else:\n",
    "                    stmt.emit(c)\n",
    "                    stmt.evaluate()"
   ]
  },
  {
   "cell_type": "markdown",
   "id": "c1ec44a9-c88b-4af7-8624-8329bd4a25fd",
   "metadata": {},
   "source": [
    "Then run the test. The trace info from statement preceding the check is inserted:"
   ]
  },
  {
   "cell_type": "code",
   "execution_count": 10,
   "id": "fe42c07c-7a35-4518-a47f-9144a3e4a50f",
   "metadata": {},
   "outputs": [
    {
     "name": "stdout",
     "output_type": "stream",
     "text": [
      "====================== MYHDL process ======================\n",
      "\u001b[94ma <= x\"54\";\n",
      "\u001b[0m\u001b[94mb <= (a xor x\"85\");\n",
      "\u001b[0m\u001b[94m-- Checkpoint first check {\n",
      "\u001b[0m\u001b[94mwait for 1 ns;\n",
      "\u001b[0m\u001b[94mprint(\"VAL\" & \" \" & \"0x\"& hstr(b));\n",
      "\u001b[0m\u001b[94massert (b = x\"d1\")\n",
      "\u001b[0m\u001b[94m    report \"first check -- expected: 209\" severity failure;\n",
      "\u001b[0m\u001b[94m-- }\n",
      "\u001b[0m>  macro::myhdl_worker1:13\n",
      "\u001b[94mb <= (resize(b, 9) + 1)(8-1 downto 0);\n",
      "\u001b[0m\u001b[94mb <= resize(shift_right(resize(b, 8), 3), 8);\n",
      "\u001b[0m\u001b[94m-- Checkpoint second check {\n",
      "\u001b[0m\u001b[94mwait for 1 ns;\n",
      "\u001b[0m\u001b[94mprint(\"VAL\" & \" \" & \"0x\"& hstr(b));\n",
      "\u001b[0m\u001b[94massert (b = x\"1a\")\n",
      "\u001b[0m\u001b[94m    report \"second check -- expected: 26\" severity failure;\n",
      "\u001b[0m\u001b[94m-- }\n",
      "\u001b[0m>  macro::myhdl_worker1:16\n",
      "====================== MYIRL process ======================\n",
      "\u001b[94ma <= x\"04\";\n",
      "\u001b[0mWarning: Implicit truncation of ADD(a, <C: 0x3:5>) result\n",
      "\u001b[94ma <= resize((resize(a, 9) + \"00011\"), 8);\n",
      "\u001b[0mWarning: Implicit truncation of ADD(a, <C: 0x3:5>) result\n",
      "\u001b[94ma <= resize((resize(a, 9) + \"00011\"), 8);\n",
      "\u001b[0m"
     ]
    }
   ],
   "source": [
    "def test(unit, signed = False):\n",
    "\n",
    "    blk = unit(\"verify\")\n",
    "    if signed:\n",
    "        a, b = [ Signal(intbv()[8:].signed(), name = n) for n in \"ab\" ]\n",
    "    else:\n",
    "        a, b = [ Signal(intbv()[8:], name = n) for n in \"ab\" ]\n",
    "    logic1 = blk.myhdl_worker1(a, b)\n",
    "    logic2 = blk.worker(a, b)\n",
    "    \n",
    "    print(\"====================== MYHDL process ======================\")\n",
    "    blk.verify(logic1)\n",
    "    print(\"====================== MYIRL process ======================\")\n",
    "    blk.verify(logic2)\n",
    "    \n",
    "test(MyBlock2, False)"
   ]
  },
  {
   "cell_type": "markdown",
   "id": "8cfd123e-1f4d-4eb9-b603-2e0a7c83aa29",
   "metadata": {},
   "source": [
    "Note: The above test with `signed = True` would fail early due to intbv limit checking."
   ]
  },
  {
   "cell_type": "markdown",
   "id": "af0e09c4-0d84-4742-bad2-9c484b7da87b",
   "metadata": {},
   "source": [
    "### In-Simulation tracing\n",
    "\n",
    "If the trace info was to be inserted into the simulation itself, we need a customized Checkpoint:"
   ]
  },
  {
   "cell_type": "code",
   "execution_count": 11,
   "id": "16a477f0-5e3f-4b41-8165-a92557e7b20b",
   "metadata": {},
   "outputs": [],
   "source": [
    "from myirl.kernel.sensitivity import LogicContext\n",
    "\n",
    "class MyCheck(Checkpoint):\n",
    "    def __call__(self, ctx = None):\n",
    "        t = self.trace_info()\n",
    "        # Set the message prefix:\n",
    "        self._msg_pre = t + \" : \"      \n",
    "        self.logic.clear() # When called multiple times\n",
    "        self._create_logic(ctx)"
   ]
  },
  {
   "cell_type": "code",
   "execution_count": 12,
   "id": "a6f5dd1b-70cc-4767-823b-c2566d3fc4de",
   "metadata": {},
   "outputs": [],
   "source": [
    "from myirl.kernel.utils import LOG_VERBOSE, LOG_OFF\n",
    "\n",
    "class MyBlockTrace(MyBlock2):\n",
    "    \n",
    "    check = MyCheck\n",
    "    \n",
    "    def worker(self, a, b):\n",
    "        \"MyIRL notation worker generator function\"\n",
    "        \n",
    "        u = base.ConstSig(3, 5)\n",
    "        v = base.ConstSig(2, 4)\n",
    "\n",
    "        ma = b.set(a - u)\n",
    "        mb = b.set(b + v) # Define a generator for this op\n",
    "        print(\"--- WORKER ----\")\n",
    "        yield [ma]\n",
    "        print(\"--- Procedural ----\")\n",
    "        l = []\n",
    "        # Note: Inside, several references to the *same*\n",
    "        # generator are casted. The generator must ensure\n",
    "        # to allow multiple calls, keep in mind that some\n",
    "        # generators append to their RTL body when called.\n",
    "        \n",
    "        # For traceback reasons, it is not recommended to create\n",
    "        # the check as a generator:\n",
    "        # c = self.check(b, \"addition\")\n",
    "        for i in range(3):\n",
    "            print(LOG_VERBOSE + \"Iteration %d\" % i + LOG_OFF)\n",
    "            l += [mb, self.check(b, \"addition%d\" % i)]\n",
    "        yield l\n",
    "    "
   ]
  },
  {
   "cell_type": "code",
   "execution_count": 13,
   "id": "b8636421-3216-4eb3-b047-7bf1ce65bcfc",
   "metadata": {},
   "outputs": [
    {
     "name": "stdout",
     "output_type": "stream",
     "text": [
      "====================== MYHDL process ======================\n",
      "\u001b[94ma <= x\"54\";\n",
      "\u001b[0m\u001b[94mb <= (a xor x\"85\");\n",
      "\u001b[0m\u001b[94m-- Checkpoint macro::myhdl_worker1:13 : first check {\n",
      "\u001b[0m\u001b[94mwait for 1 ns;\n",
      "\u001b[0m\u001b[94mprint(\"VAL\" & \" \" & \"0x\"& hstr(b));\n",
      "\u001b[0m\u001b[94massert (b = x\"d1\")\n",
      "\u001b[0m\u001b[94m    report \"macro::myhdl_worker1:13 : first check -- expected: 209\" severity failure;\n",
      "\u001b[0m\u001b[94m-- }\n",
      "\u001b[0m>  macro::myhdl_worker1:13\n",
      "\u001b[94mb <= (resize(b, 9) + 1)(8-1 downto 0);\n",
      "\u001b[0m\u001b[94mb <= resize(shift_right(resize(b, 8), 3), 8);\n",
      "\u001b[0m\u001b[94m-- Checkpoint macro::myhdl_worker1:16 : second check {\n",
      "\u001b[0m\u001b[94mwait for 1 ns;\n",
      "\u001b[0m\u001b[94mprint(\"VAL\" & \" \" & \"0x\"& hstr(b));\n",
      "\u001b[0m\u001b[94massert (b = x\"1a\")\n",
      "\u001b[0m\u001b[94m    report \"macro::myhdl_worker1:16 : second check -- expected: 26\" severity failure;\n",
      "\u001b[0m\u001b[94m-- }\n",
      "\u001b[0m>  macro::myhdl_worker1:16\n",
      "====================== MYIRL process ======================\n",
      "--- WORKER ----\n",
      "Warning: Implicit truncation of SUB(a, <C: 0x3:5>) result\n",
      "\u001b[94mb <= resize((resize(a, 9) - \"00011\"), 8);\n",
      "\u001b[0m--- Procedural ----\n",
      "\u001b[32mIteration 0\u001b[0m\n",
      "\u001b[32mIteration 1\u001b[0m\n",
      "\u001b[32mIteration 2\u001b[0m\n",
      "Warning: Implicit truncation of ADD(b, <C: 0x2:4>) result\n",
      "\u001b[94mb <= resize((resize(b, 9) + x\"2\"), 8);\n",
      "\u001b[0m\u001b[94m-- Checkpoint /tmp/ipykernel_21486/2690232996.py::worker:29 : addition0 {\n",
      "\u001b[0m\u001b[94mwait for 1 ns;\n",
      "\u001b[0m\u001b[94mprint(\"VAL\" & \" \" & \"0x\"& hstr(b));\n",
      "\u001b[0m\u001b[94massert (b = x\"53\")\n",
      "\u001b[0m\u001b[94m    report \"/tmp/ipykernel_21486/2690232996.py::worker:29 : addition0 -- expected: 83\" severity failure;\n",
      "\u001b[0m\u001b[94m-- }\n",
      "\u001b[0m>  /tmp/ipykernel_21486/2690232996.py::worker:29\n",
      "Warning: Implicit truncation of ADD(b, <C: 0x2:4>) result\n",
      "\u001b[94mb <= resize((resize(b, 9) + x\"2\"), 8);\n",
      "\u001b[0m\u001b[94m-- Checkpoint /tmp/ipykernel_21486/2690232996.py::worker:29 : addition1 {\n",
      "\u001b[0m\u001b[94mwait for 1 ns;\n",
      "\u001b[0m\u001b[94mprint(\"VAL\" & \" \" & \"0x\"& hstr(b));\n",
      "\u001b[0m\u001b[94massert (b = x\"55\")\n",
      "\u001b[0m\u001b[94m    report \"/tmp/ipykernel_21486/2690232996.py::worker:29 : addition1 -- expected: 85\" severity failure;\n",
      "\u001b[0m\u001b[94m-- }\n",
      "\u001b[0m>  /tmp/ipykernel_21486/2690232996.py::worker:29\n",
      "Warning: Implicit truncation of ADD(b, <C: 0x2:4>) result\n",
      "\u001b[94mb <= resize((resize(b, 9) + x\"2\"), 8);\n",
      "\u001b[0m\u001b[94m-- Checkpoint /tmp/ipykernel_21486/2690232996.py::worker:29 : addition2 {\n",
      "\u001b[0m\u001b[94mwait for 1 ns;\n",
      "\u001b[0m\u001b[94mprint(\"VAL\" & \" \" & \"0x\"& hstr(b));\n",
      "\u001b[0m\u001b[94massert (b = x\"57\")\n",
      "\u001b[0m\u001b[94m    report \"/tmp/ipykernel_21486/2690232996.py::worker:29 : addition2 -- expected: 87\" severity failure;\n",
      "\u001b[0m\u001b[94m-- }\n",
      "\u001b[0m>  /tmp/ipykernel_21486/2690232996.py::worker:29\n"
     ]
    }
   ],
   "source": [
    "test(MyBlockTrace)"
   ]
  },
  {
   "cell_type": "markdown",
   "id": "86e9aa7c-a795-44d8-99c2-ba405241bcb2",
   "metadata": {},
   "source": [
    "## Issues\n",
    "\n",
    "* For factorized code (AST-translated, i.e. MyHDL notation) as well as cythonized modules, the source file traceback may be not fully accurate or not possible for compiled code.\n",
    "  * In rare cases, line numbers are off by one. This is a Python parsing issue with various\n",
    "    Python interpreters\n",
    "  * Not all code can be accessed correctly when nested in a class or factory function. Also a Python issue\n",
    "  * Cython modules can only be traced back when source code and debug information is present\n",
    "* Evaluation does not regard initial values of a signal. It always requires explicit assignment."
   ]
  }
 ],
 "metadata": {
  "kernelspec": {
   "display_name": "Python 3 (ipykernel)",
   "language": "python",
   "name": "python3"
  },
  "language_info": {
   "codemirror_mode": {
    "name": "ipython",
    "version": 3
   },
   "file_extension": ".py",
   "mimetype": "text/x-python",
   "name": "python",
   "nbconvert_exporter": "python",
   "pygments_lexer": "ipython3",
   "version": "3.9.2"
  }
 },
 "nbformat": 4,
 "nbformat_minor": 5
}

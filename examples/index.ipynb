{
 "cells": [
  {
   "cell_type": "markdown",
   "id": "86e2fc22",
   "metadata": {},
   "source": [
    "# myhdl.v2we workspace\n",
    "\n",
    "This is the directory to collect example notebooks that are somewhat volatile, with regards to the documentation examples that are being tested.\n",
    "\n",
    "See also [Documentation examples/HOWTOs](../notebooks/index.ipynb) from myirl container\n",
    "\n",
    "## Index\n",
    "\n",
    "* [Fun stuff](fun_stuff.ipynb) - Things you could do but maybe shouldn't..."
   ]
  }
 ],
 "metadata": {
  "kernelspec": {
   "display_name": "Python 3",
   "language": "python",
   "name": "python3"
  },
  "language_info": {
   "codemirror_mode": {
    "name": "ipython",
    "version": 3
   },
   "file_extension": ".py",
   "mimetype": "text/x-python",
   "name": "python",
   "nbconvert_exporter": "python",
   "pygments_lexer": "ipython3",
   "version": "3.8.5"
  }
 },
 "nbformat": 4,
 "nbformat_minor": 5
}

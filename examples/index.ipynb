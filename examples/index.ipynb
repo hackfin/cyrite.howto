{
 "cells": [
  {
   "cell_type": "markdown",
   "id": "86e2fc22",
   "metadata": {},
   "source": [
    "# myhdl.v2we workspace\n",
    "\n",
    "This is the directory to collect example notebooks that are somewhat volatile.\n",
    "\n",
    "[Documentation examples/HOWTOs](../notebooks/index.ipynb) - The preliminary 'book' and incomplete reference. Check this out first.\n",
    "\n",
    "## Hacker space\n",
    "\n",
    "The notebooks from this repository are prototypes that are not continously tested.\n",
    "\n",
    "### myHDL emulation\n",
    "\n",
    "*v2we* does not try to be fully compatible. It is more of a draft of a 'next generation' syntax.\n",
    "\n",
    "For details, see [Syntactic Changes](myhdl_changes.ipynb).\n",
    "\n",
    "Basic examples:\n",
    "\n",
    "* [Gray counter](gray_counter.ipynb)\n",
    "* [Simple hysteresis example with FSM](example_fsm_hysteresis.ipynb)\n",
    "* [Barrel shifter](example_barrelshifter.ipynb)\n",
    "\n",
    "\n",
    "### IRL extension examples\n",
    "\n",
    "* [Generators](generator_functions.ipynb) - Advanced procedural generation of RTL\n",
    "* Creation by derivation  - Examples of library elements (Memory, ...)\n",
    "  * [Dual port memory (VHDL)](tdpram.ipynb)\n",
    "  * [Vector operations: RGB to YUV conversion](yuv2rgb.ipynb) - Pipeline and basic vector extensions\n",
    "  * [Fun stuff](fun_stuff.ipynb) - Things you could do but maybe shouldn't...\n",
    "    * Defining your own infix operators\n",
    "    * Using HDL style `<=` for signal assignments\n",
    "\n",
    "\n",
    "## Howto\n",
    "\n",
    "The [mybinder](https://mybinder.org) environment allows you to run your HDL simulation demos via the browser in a virtual machine, spinning somewhere in the Google cloud. This virtual machine is supplied as a Docker container `hackfin/myhdl_v2we:test`. If you don't feel safe with the cloud, you can also run it locally as specified in the [myhdl_v2we README](https://hub.docker.com/repository/docker/hackfin/myhdl_v2we).\n",
    "\n",
    "To create your own notebooks, you may simply use your own repo and pull them using git, such as this fork from @pcornier's project (unverified to synthesize):"
   ]
  },
  {
   "cell_type": "code",
   "execution_count": 1,
   "id": "1d506375",
   "metadata": {},
   "outputs": [
    {
     "name": "stdout",
     "output_type": "stream",
     "text": [
      "Cloning into '1pCPU'...\n",
      "remote: Enumerating objects: 58, done.\u001b[K\n",
      "remote: Counting objects: 100% (8/8), done.\u001b[K\n",
      "remote: Compressing objects: 100% (6/6), done.\u001b[K\n",
      "remote: Total 58 (delta 2), reused 8 (delta 2), pack-reused 50\u001b[K\n",
      "Unpacking objects: 100% (58/58), done.\n"
     ]
    }
   ],
   "source": [
    "!git clone https://github.com/hackfin/1pCPU.git -b v2we"
   ]
  },
  {
   "cell_type": "markdown",
   "id": "f6ce50cd",
   "metadata": {},
   "source": [
    "[Open 1pCPU](1pCPU/pCPU.ipynb)"
   ]
  },
  {
   "cell_type": "markdown",
   "id": "336ab2ed",
   "metadata": {},
   "source": [
    "Or, you might just create a fork of this project via github and change the code of the launch button in `README.md` (replace `hackfin` by your user ID).\n",
    "\n",
    "```\n",
    "[![Binder](https://mybinder.org/badge_logo.svg)](https://mybinder.org/v2/gh/hackfin/myhdl.v2we.git/HEAD?filepath=examples%2Findex.ipynb)\n",
    "```"
   ]
  },
  {
   "cell_type": "markdown",
   "id": "e7075df5",
   "metadata": {},
   "source": [
    "**Note**: One important thing to know: Google binders can time out and your work is then lost. For persistent storage of your notebook, you can:\n",
    "\n",
    "* Use an authentication token to push your changes to a git repo\n",
    "* Download the notebook and store locally\n",
    "\n",
    "The safest method is to run the container locally and mount your project's directory as `/work` volume."
   ]
  },
  {
   "cell_type": "markdown",
   "id": "dece3300",
   "metadata": {},
   "source": [
    "## Ideas/Roadmap (volatile) \n",
    "\n",
    "Open for comments, fork, add, file PR.\n",
    "\n",
    "* For now, VHDL output only. This will remain until the migration to the new structure is somewhat stable.\n",
    "  Transfer to net list/Verilog will take place via yosys support package.\n",
    "* For further output targets, the [hdlConvertorAst project](https://github.com/Nic30/hdlConvertorAst/) has demonstrated to be suitable, however it requires a tiny intermediate layer, as it is a true AST language representation and not a target agnostic IRL.\n",
    "* **Built-in Simulator missing**. Unclear how to move on:\n",
    "  * Rely on Co-Simulator (VPI)?\n",
    "  * Create [llhd](http://llhd.io/) interface for transpilation to binaries\n",
    "  * Evaluate CXXRTL?\n",
    "\n",
    "\n",
    "### TODO:\n",
    "\n",
    "* Unify myhdl and myirl testbenches\n",
    "  * Translate using `redbaron`\n",
    "  * Insert compatibility layer\n",
    "* Full (generated) support matrix of:\n",
    "  * Which signal type (extension) is supported in the interface (per target)\n",
    "  * `.evaluate` coverage for the built-in extensions\n",
    "  * Which extensions are Cython-compatible, cython-native"
   ]
  }
 ],
 "metadata": {
  "kernelspec": {
   "display_name": "Python 3 (ipykernel)",
   "language": "python",
   "name": "python3"
  },
  "language_info": {
   "codemirror_mode": {
    "name": "ipython",
    "version": 3
   },
   "file_extension": ".py",
   "mimetype": "text/x-python",
   "name": "python",
   "nbconvert_exporter": "python",
   "pygments_lexer": "ipython3",
   "version": "3.8.5"
  }
 },
 "nbformat": 4,
 "nbformat_minor": 5
}

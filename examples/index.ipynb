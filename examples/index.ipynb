{
 "cells": [
  {
   "cell_type": "markdown",
   "id": "86e2fc22",
   "metadata": {},
   "source": [
    "# myhdl.v2we workspace\n",
    "\n",
    "This is the directory to collect example notebooks that are somewhat volatile, with regards to the documentation examples that are being tested.\n",
    "\n",
    "See also [Documentation examples/HOWTOs](../notebooks/index.ipynb) from myirl container\n",
    "\n",
    "## Index\n",
    "\n",
    "* [Fun stuff](fun_stuff.ipynb) - Things you could do but maybe shouldn't...\n",
    "\n",
    "## Howto\n",
    "\n",
    "The [mybinder](https://mybinder.org) environment allows you to run your HDL simulation demos via the browser in a virtual machine, spinning somewhere in the Google cloud. This virtual machine is supplied as a Docker container `hackfin/myhdl_v2we:test`. If you don't feel safe with the cloud, you can also run it locally as specified in the [myhdl_v2we README](https://hub.docker.com/repository/docker/hackfin/myhdl_v2we).\n",
    "\n",
    "To create your own notebooks, you may simply use your own repo and pull them using git, such as this fork from @pcornier's project:"
   ]
  },
  {
   "cell_type": "code",
   "execution_count": 1,
   "id": "1d506375",
   "metadata": {},
   "outputs": [
    {
     "name": "stdout",
     "output_type": "stream",
     "text": [
      "Cloning into '1pCPU'...\n",
      "remote: Enumerating objects: 58, done.\u001b[K\n",
      "remote: Counting objects: 100% (8/8), done.\u001b[K\n",
      "remote: Compressing objects: 100% (6/6), done.\u001b[K\n",
      "remote: Total 58 (delta 2), reused 8 (delta 2), pack-reused 50\u001b[K\n",
      "Unpacking objects: 100% (58/58), done.\n"
     ]
    }
   ],
   "source": [
    "!git clone https://github.com/hackfin/1pCPU.git"
   ]
  },
  {
   "cell_type": "markdown",
   "id": "f6ce50cd",
   "metadata": {},
   "source": [
    "[Open 1pCPU](1pCPU/pCPU.ipynb)"
   ]
  },
  {
   "cell_type": "markdown",
   "id": "336ab2ed",
   "metadata": {},
   "source": [
    "Or, you might just create a fork of this project via github and change the code of the launch button in `README.md` (replace `hackfin` by your user ID).\n",
    "\n",
    "```\n",
    "[![Binder](https://mybinder.org/badge_logo.svg)](https://mybinder.org/v2/gh/hackfin/myhdl.v2we.git/HEAD?filepath=examples%2Findex.ipynb)\n",
    "```"
   ]
  },
  {
   "cell_type": "markdown",
   "id": "e7075df5",
   "metadata": {},
   "source": [
    "**Note**: One important thing to know: Google binders can time out and your work is then lost. For persistent storage of your notebook, you can:\n",
    "\n",
    "* Use an authentication token to push your changes to a git repo\n",
    "* Download the notebook and store locally\n",
    "\n",
    "The safest method is to run the container locally and mount your project's directory as `/work` volume."
   ]
  }
 ],
 "metadata": {
  "kernelspec": {
   "display_name": "Python 3",
   "language": "python",
   "name": "python3"
  },
  "language_info": {
   "codemirror_mode": {
    "name": "ipython",
    "version": 3
   },
   "file_extension": ".py",
   "mimetype": "text/x-python",
   "name": "python",
   "nbconvert_exporter": "python",
   "pygments_lexer": "ipython3",
   "version": "3.8.5"
  }
 },
 "nbformat": 4,
 "nbformat_minor": 5
}

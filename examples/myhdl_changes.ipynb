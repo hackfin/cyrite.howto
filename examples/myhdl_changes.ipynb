{
 "cells": [
  {
   "cell_type": "markdown",
   "metadata": {},
   "source": [
    "# MyHDL 'v2we': Front End Changes\n",
    "\n",
    "These are some crucial changes to the 'legacy' MyHDL syntax. In general, 'next generation' syntax will force you to follow a little different way of thinking.\n",
    "\n",
    "To outline the paradigm shifts:\n",
    "\n",
    "* Instead of trying to convert, enforce library concepts:\n",
    "  * Re-use verified V* HDL code by thin wrappers\n",
    "  * Inline-generate only where necessary\n",
    "* HDL is 'transpiled' (executed), not 'translated' (by AST-transformation)\n",
    "* Remember: conversion and implementation rules are buried in the extension objects (`@blackbox`es, custom signals, etc.)\n",
    "* Stricter interface rules, no implicit handling of mixed type parameters (constants, signals)\n",
    "\n",
    "TOC:\n",
    "\n",
    "1. [Interface](#Interface)\n",
    "0.  [Functions](#Functions)\n",
    "0.  [Signals](#Signals)\n",
    "    1.  [Shadow signals](#Shadow-signals)\n",
    "\n",
    "0.  [Variables](#Variables)\n",
    "0.  [Member assignment](#Member-assignment)\n",
    "0.  [Class signals](#Class-signals)\n",
    "0.  [Unsupported constructs](#Other-unsupported-constructs)"
   ]
  },
  {
   "cell_type": "code",
   "execution_count": 1,
   "metadata": {},
   "outputs": [],
   "source": [
    "from myirl.emulation.myhdl import *"
   ]
  },
  {
   "cell_type": "markdown",
   "metadata": {},
   "source": [
    "## Interface\n",
    "\n",
    "Type annotation helps to determine input and output types and are in most cases mandatory in order to create a sane interface. It is necessary to determine which signal is driven and which is consumed within the hierarchy. Currently no automated checking is done due to performance reasons (this may become an option).\n",
    "\n",
    "You may still pass down either a constant or a signal via a classic port parameter and omit the annotation ('legacy' myHDL style). However, this can have unwanted side effects. For example, it may require you to explicitely `.insert()` a signal into its parenting function, if it ends up undefined in the resulting HDL during conversion. This behaviour may change in later releases.\n",
    "\n",
    "For the code below, `s` can only be a `bool()` or Signal of it. To avoid warnings, we don't specify a type annotation for `s`."
   ]
  },
  {
   "cell_type": "code",
   "execution_count": 2,
   "metadata": {},
   "outputs": [],
   "source": [
    "@block\n",
    "def unit(a : Signal, q : Signal.Output, s):\n",
    "    @always_comb\n",
    "    def worker():\n",
    "        if s: # This is allowed with a bool or bit signal\n",
    "            q.next = a\n",
    "        else:\n",
    "            q.next = ~a\n",
    "    \n",
    "    return locals()"
   ]
  },
  {
   "cell_type": "markdown",
   "metadata": {},
   "source": [
    "Note also the new `locals()` call instead of `interfaces()` (which is in fact now identical within a Python context). This allows some more analysis (signals, etc.) in the future. It is **required** to use the `locals()` notation within a cythonizeable module."
   ]
  },
  {
   "cell_type": "code",
   "execution_count": 3,
   "metadata": {},
   "outputs": [
    {
     "name": "stdout",
     "output_type": "stream",
     "text": [
      "\u001b[32m Insert unit unit_s1_s1_0 \u001b[0m\n",
      " DEBUG: Writing 'unit' to file /tmp/unit.vhdl \n",
      "Finished _elab in 0.0009 secs\n"
     ]
    }
   ],
   "source": [
    "from myirl.test.common_test import run_ghdl, SYSTEM_DIR\n",
    "\n",
    "def test(MODE = 0):\n",
    "    a, q = [ Signal(bool())  for i in range(2) ]\n",
    "    if MODE:\n",
    "        s = Signal(bool())\n",
    "    else:\n",
    "        s = False\n",
    "    \n",
    "    inst = unit(a, q, s)\n",
    "    return inst\n",
    "\n",
    "inst = test()\n",
    "f = inst.elab(targets.VHDL)\n",
    "tmp0 = unit.ctx.path_prefix"
   ]
  },
  {
   "cell_type": "markdown",
   "metadata": {},
   "source": [
    "### Differences in VHDL output\n",
    "\n",
    "We output both scenarios and run the resulting VHDL code through analysis plus `diff` to see how the interface is inferred:"
   ]
  },
  {
   "cell_type": "code",
   "execution_count": 4,
   "metadata": {},
   "outputs": [
    {
     "data": {
      "text/plain": [
       "0"
      ]
     },
     "execution_count": 4,
     "metadata": {},
     "output_type": "execute_result"
    }
   ],
   "source": [
    "run_ghdl(f, inst, debug = False)"
   ]
  },
  {
   "cell_type": "code",
   "execution_count": 5,
   "metadata": {},
   "outputs": [
    {
     "name": "stdout",
     "output_type": "stream",
     "text": [
      "\u001b[32m Module top_unit: Existing implementation unit, rename to unit_1 \u001b[0m\n",
      "\u001b[32m Insert unit unit_s1_s1_s1 \u001b[0m\n",
      " DEBUG: Writing 'unit_1' to file /tmp/unit_1.vhdl \n",
      "Finished _elab in 0.0009 secs\n"
     ]
    }
   ],
   "source": [
    "inst = test(1)\n",
    "f = inst.elab(targets.VHDL)\n",
    "run_ghdl(f, inst)\n",
    "\n",
    "tmp1 = unit.ctx.path_prefix"
   ]
  },
  {
   "cell_type": "code",
   "execution_count": 6,
   "metadata": {
    "scrolled": true
   },
   "outputs": [
    {
     "name": "stdout",
     "output_type": "stream",
     "text": [
      "\u001b[1m--- unit\u001b[0m\r\n",
      "\u001b[1m+++ unit_1\u001b[0m\r\n",
      "\u001b[36m@@ -11,22 +11,23 @@\u001b[0m\r\n",
      " use work.txt_util.all;\r\n",
      " use work.myirl_conversion.all;\r\n",
      " \r\n",
      "\u001b[31m-entity unit is\u001b[0m\r\n",
      "\u001b[32m+entity unit_1 is\u001b[0m\r\n",
      "     port (\r\n",
      "         a : in std_ulogic;\r\n",
      "\u001b[31m-        q : out std_ulogic\u001b[0m\r\n",
      "\u001b[32m+        q : out std_ulogic;\u001b[0m\r\n",
      "\u001b[32m+        s : in std_ulogic\u001b[0m\r\n",
      "     );\r\n",
      "\u001b[31m-end entity unit;\u001b[0m\r\n",
      "\u001b[32m+end entity unit_1;\u001b[0m\r\n",
      " \r\n",
      "\u001b[31m-architecture MyIRL of unit is\u001b[0m\r\n",
      "\u001b[32m+architecture MyIRL of unit_1 is\u001b[0m\r\n",
      "     -- Local type declarations\r\n",
      "     -- Signal declarations\r\n",
      " begin\r\n",
      "     \r\n",
      " worker:\r\n",
      "\u001b[31m-    process(a)\u001b[0m\r\n",
      "\u001b[32m+    process(a, s)\u001b[0m\r\n",
      "     begin\r\n",
      "\u001b[31m-        if FALSE then\u001b[0m\r\n",
      "\u001b[32m+        if (s = '1') then\u001b[0m\r\n",
      "             q <= a;\r\n",
      "         else\r\n",
      "             q <= not a;\r\n"
     ]
    }
   ],
   "source": [
    "! diff --label unit --label unit_1 --color=always -u {tmp0}/unit.vhdl {tmp1}/unit_1.vhdl"
   ]
  },
  {
   "cell_type": "markdown",
   "metadata": {},
   "source": [
    "### Interface types\n",
    "\n",
    "Only `Signal` type derivatives will infer to a port. All others pass as 'run time' parameters, unless they are explicitely passed as parameter, specified past the PEP570 `*` delimiter. This has the following effects:\n",
    "\n",
    "* Bare class constructs don't pass the hierarchy over several layers (use BulkSignals)\n",
    "* A bare class unrolls into members and in/out direction is guessed\n",
    "* `dict` or `tuple` container types of signals will create local instances of their children"
   ]
  },
  {
   "cell_type": "code",
   "execution_count": 7,
   "metadata": {},
   "outputs": [],
   "source": [
    "@block\n",
    "def unit_local_inst(d, t):\n",
    "    \n",
    "    a = d['a']\n",
    "    b = d['b']\n",
    "    \n",
    "    q = t[0]\n",
    "    \n",
    "    s = concat(a, b)\n",
    "\n",
    "    @always_comb\n",
    "    def worker():\n",
    "        q.next = s\n",
    "    \n",
    "    return instances()"
   ]
  },
  {
   "cell_type": "code",
   "execution_count": 8,
   "metadata": {},
   "outputs": [
    {
     "name": "stdout",
     "output_type": "stream",
     "text": [
      "\u001b[32m Insert unit unit_local_inst__dict__tuple \u001b[0m\n",
      " DEBUG: Writing 'unit_local_inst' to file /tmp/unit_local_inst.vhdl \n",
      "Finished _elab in 0.0007 secs\n"
     ]
    },
    {
     "name": "stderr",
     "output_type": "stream",
     "text": [
      "/home/testing/.local/lib/python3.8/site-packages/myirl-0.0.0-py3.8-linux-x86_64.egg/myirl/kernel/components.py:481: UserWarning: Dictionaries/Tuples do not add to the interface.\n",
      "Local signal instances will be created. Use BulkSignal classes instead.\n",
      "  base.warnings.warn(\"\"\"Dictionaries/Tuples do not add to the interface.\n"
     ]
    }
   ],
   "source": [
    "def convert(uut):\n",
    "    a, b = [ Signal(intbv(0x5)[4:], name=n) for n in ('a', 'b') ]\n",
    "    q = Signal(intbv()[8:], name='q')\n",
    "    inst = uut({'a' : a, 'b' : b}, (q,))\n",
    "    inst.elab(myirl.targets.VHDL)\n",
    "convert(unit_local_inst)"
   ]
  },
  {
   "cell_type": "code",
   "execution_count": 9,
   "metadata": {},
   "outputs": [
    {
     "name": "stdout",
     "output_type": "stream",
     "text": [
      "    -- Local type declarations\r\n",
      "    -- Signal declarations\r\n",
      "    signal q : unsigned(7 downto 0);\r\n",
      "    signal a : unsigned(3 downto 0);\r\n",
      "    signal b : unsigned(3 downto 0);\r\n",
      "begin\r\n",
      "    \r\n",
      "worker:\r\n",
      "    process(a, b)\r\n",
      "    begin\r\n",
      "        q <= (a & b);\r\n",
      "    end process;\r\n"
     ]
    }
   ],
   "source": [
    "! grep -A 10 declarations {unit_local_inst.ctx.path_prefix}/unit_local_inst.vhdl"
   ]
  },
  {
   "cell_type": "markdown",
   "metadata": {},
   "source": [
    "### Inferred port signal types\n",
    "\n",
    "The hierarchical interfaces are restricted to signals with a well defined width, as if they were physical pins.\n",
    "\n",
    "Therefore, the following data types can not be used as `in`/`out` signal arguments:\n",
    "\n",
    "* Enum types\n",
    "* Vector types\n",
    "* Other custom types not derived from the `Signal` class."
   ]
  },
  {
   "cell_type": "markdown",
   "metadata": {},
   "source": [
    "### Type checking\n",
    "\n",
    "Currently, the type checking is lazy, meaning that only a warning is emitted for built-in signals.\n",
    "For custom signals, the check is customized, i.e. errors can be raised."
   ]
  },
  {
   "cell_type": "markdown",
   "metadata": {},
   "source": [
    "## Variables\n",
    "\n",
    "This has become stricter: First time variable assignment determines the type. In myHDL, this also counts, however it was possible to assign an expression first time. This is no longer possible."
   ]
  },
  {
   "cell_type": "code",
   "execution_count": 10,
   "metadata": {},
   "outputs": [],
   "source": [
    "@block\n",
    "def tb_var():\n",
    "    @instance\n",
    "    def seq():\n",
    "        v = intbv(10)[5:] # Intbv type\n",
    "        z = -1             # Unlimited integer\n",
    "        s = \"LUT\"\n",
    "        \n",
    "    return instances()"
   ]
  },
  {
   "cell_type": "markdown",
   "metadata": {},
   "source": [
    "Conversion to VHDL:"
   ]
  },
  {
   "cell_type": "code",
   "execution_count": 11,
   "metadata": {},
   "outputs": [
    {
     "name": "stdout",
     "output_type": "stream",
     "text": [
      "Creating sequential 'tb_var/seq' \n",
      "\u001b[32m Insert unit tb_var \u001b[0m\n",
      " DEBUG: Writing 'tb_var' to file /tmp/tb_var.vhdl \n",
      "Finished _elab in 0.0007 secs\n"
     ]
    },
    {
     "data": {
      "text/plain": [
       "[Instance tb_var I/F: [// ID: tb_var_0 to tb_var]]"
      ]
     },
     "execution_count": 11,
     "metadata": {},
     "output_type": "execute_result"
    }
   ],
   "source": [
    "def convert(uut):\n",
    "    inst = uut()\n",
    "    inst.elab(targets.VHDL)\n",
    "    return inst\n",
    "\n",
    "convert(tb_var)"
   ]
  },
  {
   "cell_type": "markdown",
   "metadata": {},
   "source": [
    "And resulting output:"
   ]
  },
  {
   "cell_type": "code",
   "execution_count": 12,
   "metadata": {},
   "outputs": [
    {
     "name": "stdout",
     "output_type": "stream",
     "text": [
      "    process\r\n",
      "    variable v : unsigned(4 downto 0);\r\n",
      "    variable z : integer;\r\n",
      "    variable s : string;\r\n",
      "    begin\r\n",
      "        v := \"01010\";\r\n",
      "        z := -1;\r\n",
      "        s := \"LUT\";\r\n",
      "        wait;\r\n",
      "    end process;\r\n",
      "end architecture MyIRL;\r\n",
      "\r\n"
     ]
    }
   ],
   "source": [
    "!grep -A 10 process {tb_var.ctx.path_prefix}tb_var.vhdl"
   ]
  },
  {
   "cell_type": "markdown",
   "metadata": {},
   "source": [
    "## Signals\n",
    "\n",
    "The `components.Signal` class emulates the myHDL signal with the native `intbv` wire type behaviour up to a few corner cases which are handled differently (in particular with arithmetics).\n",
    "\n",
    "However, there are new signal types introduced:\n",
    "* ClkSignal: A dedicated clock signal\n",
    "\n",
    "From the top level, a clock signal will require redefining to `ClkSignal()`."
   ]
  },
  {
   "cell_type": "markdown",
   "metadata": {},
   "source": [
    "### Shadow signals\n",
    "\n",
    "Slicing `ShadowSignal` instances are no longer necessary and are considered deprecated. Currently, they are emulated with a warning."
   ]
  },
  {
   "cell_type": "code",
   "execution_count": 13,
   "metadata": {},
   "outputs": [
    {
     "name": "stderr",
     "output_type": "stream",
     "text": [
      "/home/testing/.local/lib/python3.8/site-packages/myirl-0.0.0-py3.8-linux-x86_64.egg/myirl/emulation/signals.py:12: DeprecatedWarning: Deprecated indexing syntax, use `[]` instead\n",
      "  warnings.warn(*args, category)\n"
     ]
    }
   ],
   "source": [
    "a = Signal(intbv(0xaa)[8:])\n",
    "sa = a(4,0)"
   ]
  },
  {
   "cell_type": "code",
   "execution_count": 14,
   "metadata": {},
   "outputs": [
    {
     "data": {
      "text/plain": [
       "intbv(10)"
      ]
     },
     "execution_count": 14,
     "metadata": {},
     "output_type": "execute_result"
    }
   ],
   "source": [
    "sa.evaluate()"
   ]
  },
  {
   "cell_type": "markdown",
   "metadata": {},
   "source": [
    "**Note**: ShadowSignal emulations will not work fully throughout the hierarchy and are for now supported on local signals only"
   ]
  },
  {
   "cell_type": "markdown",
   "metadata": {},
   "source": [
    "### Concatenation\n",
    "\n",
    "The `concat()` function can be used in the behavioural as well as the structural section of the `@block`."
   ]
  },
  {
   "cell_type": "code",
   "execution_count": 15,
   "metadata": {},
   "outputs": [],
   "source": [
    "@block\n",
    "def unit(a, b, q, MODE=0):\n",
    "    \n",
    "    if MODE:\n",
    "        s = concat(a, b)\n",
    "    else:\n",
    "        s = ConcatSignal(a, b)\n",
    "    \n",
    "    @always_comb\n",
    "    def worker():\n",
    "        q.next = s\n",
    "    \n",
    "    return instances()"
   ]
  },
  {
   "cell_type": "code",
   "execution_count": 16,
   "metadata": {},
   "outputs": [
    {
     "name": "stdout",
     "output_type": "stream",
     "text": [
      "\u001b[32m Insert unit unit_s4_s4_s8_0 \u001b[0m\n",
      " DEBUG: Writing 'unit' to file /tmp/unit.vhdl \n",
      "Finished _elab in 0.0009 secs\n"
     ]
    },
    {
     "name": "stderr",
     "output_type": "stream",
     "text": [
      "/home/testing/.local/lib/python3.8/site-packages/myirl-0.0.0-py3.8-linux-x86_64.egg/myirl/emulation/signals.py:12: DeprecatedWarning: Deprecated ConcatSignal() syntax, use concat() instead\n",
      "  warnings.warn(*args, category)\n"
     ]
    },
    {
     "data": {
      "text/plain": [
       "['/tmp/unit.vhdl']"
      ]
     },
     "execution_count": 16,
     "metadata": {},
     "output_type": "execute_result"
    }
   ],
   "source": [
    "def convert(uut):\n",
    "    a, b = [ Signal(intbv(0x5)[4:], name=n) for n in ('a', 'b') ]\n",
    "    q = Signal(intbv()[8:], name='q')\n",
    "    inst = uut(a, b, q, MODE=0) # Change mode to '1' to make the warning disappear\n",
    "    return inst\n",
    "\n",
    "inst = convert(unit)\n",
    "inst.elab(myirl.targets.VHDL)"
   ]
  },
  {
   "cell_type": "markdown",
   "metadata": {},
   "source": [
    "The resulting process in VHDL:"
   ]
  },
  {
   "cell_type": "code",
   "execution_count": 17,
   "metadata": {},
   "outputs": [
    {
     "name": "stdout",
     "output_type": "stream",
     "text": [
      "worker:\r\n",
      "    process(a, b)\r\n",
      "    begin\r\n",
      "        q <= (a & b);\r\n",
      "    end process;\r\n",
      "\r\n"
     ]
    }
   ],
   "source": [
    "! grep -A 5 worker {unit.ctx.path_prefix}/unit.vhdl"
   ]
  },
  {
   "cell_type": "markdown",
   "metadata": {},
   "source": [
    "# Functions\n",
    "\n",
    "Functions are no longer translated to HDL, but executed. Therefore, you'll have to implement your previous function as a `@blackbox` or `@function` entity if you wish to specifically generate hardware, or transfer the functionality into a HDL block. Very simple operators can be also implemented by derival of `base.BinOp`, etc.\n",
    "\n",
    "Example of a `reduceOr` pseudo function that can resolve into different implementations, depending on the HDL target:"
   ]
  },
  {
   "cell_type": "code",
   "execution_count": 18,
   "metadata": {},
   "outputs": [
    {
     "name": "stdout",
     "output_type": "stream",
     "text": [
      "VHDL target: REGISTERING [Component 'reduce_xor/reduce_xor']\n",
      "VHDL target: REGISTERING [Component 'reduce_or/reduce_or']\n",
      "VHDL target: REGISTERING [Component 'reduce_and/reduce_and']\n"
     ]
    }
   ],
   "source": [
    "from myirl.library.reduce import reduceOr\n",
    "\n",
    "@block\n",
    "def unit1(a : Signal, q : Signal.Output):\n",
    "    @always_comb\n",
    "    def assign():\n",
    "        q.next = reduceOr(a)\n",
    "        \n",
    "    return instances()"
   ]
  },
  {
   "cell_type": "code",
   "execution_count": 19,
   "metadata": {},
   "outputs": [
    {
     "name": "stdout",
     "output_type": "stream",
     "text": [
      "\u001b[32m Insert unit unit1_s7_s1 \u001b[0m\n",
      "\u001b[32m DEBUG Inline blackbox [Component 'reduce_or/reduce_or'] \u001b[0m\n",
      " DEBUG: Writing 'unit1' to file /tmp/unit1.vhdl \n",
      "DEBUG Skipped [Component 'reduce_or/reduce_or']\n",
      "Finished _elab in 0.0012 secs\n"
     ]
    },
    {
     "data": {
      "text/plain": [
       "['/tmp/unit1.vhdl']"
      ]
     },
     "execution_count": 19,
     "metadata": {},
     "output_type": "execute_result"
    }
   ],
   "source": [
    "from myirl.wire import SLV\n",
    "def convert(uut):\n",
    "    a = Signal(SLV(\"1010100\"))\n",
    "    q = Signal(bool())\n",
    "    inst = uut(a, q)\n",
    "    return inst\n",
    "\n",
    "inst = convert(unit1)\n",
    "inst.elab(myirl.targets.VHDL)"
   ]
  },
  {
   "cell_type": "code",
   "execution_count": 20,
   "metadata": {},
   "outputs": [
    {
     "name": "stdout",
     "output_type": "stream",
     "text": [
      "begin\r\n",
      "    \r\n",
      "assign:\r\n",
      "    process(a)\r\n",
      "    begin\r\n",
      "        q <= or_reduce(a);\r\n",
      "    end process;\r\n",
      "\r\n",
      "end architecture MyIRL;\r\n",
      "\r\n"
     ]
    }
   ],
   "source": [
    "! grep -A 8 begin {unit1.ctx.path_prefix}unit1.vhdl"
   ]
  },
  {
   "cell_type": "markdown",
   "metadata": {},
   "source": [
    "## Member assignment\n",
    "\n",
    "Constructs like `s.next[i] = val` are no longer supported, but can be emulated using variables as shown below. (This particular example is somewhat bloated, as the `v` elements are used nowhere else)"
   ]
  },
  {
   "cell_type": "code",
   "execution_count": 21,
   "metadata": {},
   "outputs": [],
   "source": [
    "@block\n",
    "def unit_swap_bits(a : Signal, q : Signal.Output):\n",
    "    @always_comb\n",
    "    def worker():\n",
    "        v = intbv()[2:]\n",
    "\n",
    "        v[0] = a[1]\n",
    "        v[1] = a[0]\n",
    "        \n",
    "        q.next = v\n",
    "    \n",
    "    return instances()\n",
    "\n",
    "@block\n",
    "def top(uut):\n",
    "    a, b = [ Signal(intbv()[2:], name=n) for n in ('a', 'b') ]\n",
    "    \n",
    "    inst = uut(a, b)\n",
    "    return instances()"
   ]
  },
  {
   "cell_type": "code",
   "execution_count": 22,
   "metadata": {},
   "outputs": [
    {
     "name": "stdout",
     "output_type": "stream",
     "text": [
      "\u001b[32m Insert unit unit_swap_bits_s2_s2 \u001b[0m\n",
      "\u001b[32m Insert unit top__wrapped_wrapper \u001b[0m\n",
      " DEBUG: Writing 'unit_swap_bits' to file /tmp/unit_swap_bits.vhdl \n",
      "Finished _elab in 0.0008 secs\n",
      " DEBUG: Writing 'top' to file /tmp/top.vhdl \n",
      "Finished _elab in 0.0154 secs\n",
      "DEBUG Creating library file /tmp/module_defs.vhdl\n"
     ]
    }
   ],
   "source": [
    "def test_top(uut):\n",
    "    inst = top(uut)\n",
    "    f = inst.elab(targets.VHDL, elab_all=True)\n",
    "    run_ghdl(f, inst, analyze_only = True)\n",
    "test_top(unit_swap_bits)"
   ]
  },
  {
   "cell_type": "code",
   "execution_count": 23,
   "metadata": {},
   "outputs": [
    {
     "name": "stdout",
     "output_type": "stream",
     "text": [
      "worker:\r\n",
      "    process\r\n",
      "        variable v : unsigned(1 downto 0);\r\n",
      "    begin\r\n",
      "        v := \"00\";\r\n",
      "        v(0) := a(1);\r\n",
      "        v(1) := a(0);\r\n",
      "        q <= v;\r\n",
      "    end process;\r\n"
     ]
    }
   ],
   "source": [
    "! grep -A 8 worker {top.ctx.path_prefix}unit_swap_bits.vhdl"
   ]
  },
  {
   "cell_type": "markdown",
   "metadata": {},
   "source": [
    "A nicer/better coding style would be the snippet below (assuming the single bit `t` array signals would be used somewhere else, if not, we'd get by without them using `BLOAT = False`). \n",
    "**Note**: concat arguments are MSB..LSB order (which does the swapping the elegant way)"
   ]
  },
  {
   "cell_type": "code",
   "execution_count": 24,
   "metadata": {},
   "outputs": [],
   "source": [
    "@block\n",
    "def unit_swap_bits1(a : Signal, q : Signal.Output, BLOAT = True):\n",
    "    if BLOAT:\n",
    "        t = [ Signal(bool()) for i in range(2) ]\n",
    "\n",
    "        a0 = t[0].wireup(a[0]) # Create wire instance\n",
    "        a1 = t[1].wireup(a[1])\n",
    "        wiring = q.wireup(concat(*t)) # Note: this is in fact `concat(t[0], t[1])\n",
    "    else:\n",
    "        wiring = q.wireup(concat(a[0], a[1]))\n",
    "\n",
    "\n",
    "    return instances()"
   ]
  },
  {
   "cell_type": "code",
   "execution_count": 25,
   "metadata": {},
   "outputs": [
    {
     "name": "stdout",
     "output_type": "stream",
     "text": [
      "\u001b[32m Module top_top: Existing implementation top, rename to top_1 \u001b[0m\n",
      "Using default for BLOAT: True\n",
      " BLOAT: use default True \n",
      " BLOAT: use default True \n",
      "\u001b[32m Insert unit unit_swap_bits1_s2_s2_1 \u001b[0m\n",
      "\u001b[32m Insert unit top__wrapped_wrapper \u001b[0m\n",
      " DEBUG: Writing 'unit_swap_bits1' to file /tmp/unit_swap_bits1.vhdl \n",
      "Finished _elab in 0.0014 secs\n",
      " DEBUG: Writing 'top_1' to file /tmp/top_1.vhdl \n",
      "Finished _elab in 0.0008 secs\n",
      "DEBUG Creating library file /tmp/module_defs.vhdl\n"
     ]
    }
   ],
   "source": [
    "test_top(unit_swap_bits1)"
   ]
  },
  {
   "cell_type": "code",
   "execution_count": 26,
   "metadata": {},
   "outputs": [
    {
     "name": "stdout",
     "output_type": "stream",
     "text": [
      "begin\r\n",
      "    t0 <= a(0);\r\n",
      "    t1 <= a(1);\r\n",
      "    q <= (t0 & t1);\r\n",
      "end architecture MyIRL;\r\n"
     ]
    }
   ],
   "source": [
    "! grep -A 4 begin {top.ctx.path_prefix}unit_swap_bits1.vhdl"
   ]
  },
  {
   "cell_type": "markdown",
   "metadata": {},
   "source": [
    "## Class signals\n",
    "\n",
    "Bare classes are no longer supported, as the use cases are endlessly complex.\n",
    "\n",
    "It is very much recommended to use [Bulk Signals](bulksignals.ipynb) instead, as it's unlikely that support for nested hierarchies will be added soon.\n",
    "\n",
    "See also [Classes](classes.ipynb) for internal details.\n",
    "Basically, you can wrap a class using the `@bulkwrapper` construct, taking the supported target classes as argument:"
   ]
  },
  {
   "cell_type": "code",
   "execution_count": 27,
   "metadata": {},
   "outputs": [],
   "source": [
    "@bulkwrapper(targets.vhdl)\n",
    "class OnewaySignalContainer:\n",
    "    def __init__(self):\n",
    "        self.a, self.b = [ Signal(bool()) for _ in range(2) ]"
   ]
  },
  {
   "cell_type": "code",
   "execution_count": 28,
   "metadata": {},
   "outputs": [
    {
     "name": "stdout",
     "output_type": "stream",
     "text": [
      "VHDL target: REGISTERING <class 'myirl.library.bulksignals.OnewaySignalContainer'>\n",
      "\u001b[32m Insert unit unita_1_sb_1_s1_s1 \u001b[0m\n",
      "\u001b[32m Insert unit tb \u001b[0m\n",
      " DEBUG: Writing 'unit' to file /tmp/unit.vhdl \n",
      "Extension class uses no lib: c\n",
      "Finished _elab in 0.0013 secs\n",
      " DEBUG: Writing 'tb' to file /tmp/tb.vhdl \n",
      "Extension class uses no lib: <class 'myirl.library.bulksignals.OnewaySignalContainer'>\n",
      "Finished _elab in 0.0008 secs\n",
      "DEBUG Creating library file /tmp/module_defs.vhdl\n"
     ]
    }
   ],
   "source": [
    "@block\n",
    "def unit(c : OnewaySignalContainer, a : Signal.Output, b : Signal.Output):\n",
    "    @always_comb\n",
    "    def worker():\n",
    "        b.next = c.a\n",
    "        a.next = c.b\n",
    "    return instances()\n",
    "\n",
    "@block\n",
    "def tb():\n",
    "    b0, b1 = [ Signal(bool()) for _ in range(2) ]\n",
    "    c = OnewaySignalContainer()\n",
    "\n",
    "    inst = unit(c, b0, b1)\n",
    "    return instances()\n",
    "\n",
    "def test():\n",
    "    t = tb()\n",
    "    t.elab(targets.VHDL, elab_all = True)\n",
    "    \n",
    "test()"
   ]
  },
  {
   "cell_type": "code",
   "execution_count": 29,
   "metadata": {},
   "outputs": [
    {
     "name": "stdout",
     "output_type": "stream",
     "text": [
      "worker:\r\n",
      "    process(c.a, c.b)\r\n",
      "    begin\r\n",
      "        b <= c.a;\r\n",
      "        a <= c.b;\r\n",
      "    end process;\r\n",
      "\r\n",
      "end architecture MyIRL;\r\n",
      "\r\n"
     ]
    }
   ],
   "source": [
    "!grep -A 10 worker {tb.ctx.path_prefix}/unit.vhdl"
   ]
  },
  {
   "cell_type": "markdown",
   "metadata": {},
   "source": [
    "## Other unsupported constructs\n",
    "\n",
    "These should raise early exceptions:"
   ]
  },
  {
   "cell_type": "markdown",
   "metadata": {},
   "source": [
    "### Augmented assign to list of signals"
   ]
  },
  {
   "cell_type": "markdown",
   "metadata": {},
   "source": [
    "This one will fail early during AST analysis when using the augmented assign variant below:"
   ]
  },
  {
   "cell_type": "code",
   "execution_count": 30,
   "metadata": {},
   "outputs": [],
   "source": [
    "@block\n",
    "def kaputt():\n",
    "    worker = [ intbv(0)[1:] ]\n",
    "    # worker += [ Signal(intbv(i)[2:]) for i in range(3) ]\n",
    "    worker = worker + [ Signal(intbv(i)[2:]) for i in range(3) ]\n",
    "    return locals()"
   ]
  }
 ],
 "metadata": {
  "kernelspec": {
   "display_name": "Python 3 (ipykernel)",
   "language": "python",
   "name": "python3"
  },
  "language_info": {
   "codemirror_mode": {
    "name": "ipython",
    "version": 3
   },
   "file_extension": ".py",
   "mimetype": "text/x-python",
   "name": "python",
   "nbconvert_exporter": "python",
   "pygments_lexer": "ipython3",
   "version": "3.8.5"
  }
 },
 "nbformat": 4,
 "nbformat_minor": 4
}

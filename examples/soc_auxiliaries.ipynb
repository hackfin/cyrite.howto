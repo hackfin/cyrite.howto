{
 "cells": [
  {
   "cell_type": "markdown",
   "id": "89096261-a72a-4aa4-8ee0-10111e612bee",
   "metadata": {},
   "source": [
    "# System on Chip design auxiliaries\n",
    "\n",
    "For mass generation of bus decoders, a register bit map must be associated with corresponding control, status or data signals.\n",
    "This SoC concept follows the [*MaSoCist*](https://github.com/hackfin/MaSoCist) register map design rules:\n",
    "\n",
    "* Registers are mapped into memory space and are accessed by an address, hence.\n",
    "* They can be flagged read-only, write-only or volatile:\n",
    "  * READONLY: Writing to the register has no effect\n",
    "  * WRITEONLY: Reading from this register returns an undefined value\n",
    "  * VOLATILE: Write or read access triggers a pulse on the corresponding `select` lines.\n",
    "    This allows to implement `W1C` (write one to clear) behaviour, or optimized data in/out transfers.\n",
    "* Registers contain bit fields that can be READONLY or WRITEONLY\n",
    "* Two register definitions (one READONLY, one WRITEONLY) can be mapped to one address. This is used for data I/O."
   ]
  },
  {
   "cell_type": "code",
   "execution_count": 1,
   "id": "53ad5789-54f5-4363-b5b5-5f32119af093",
   "metadata": {},
   "outputs": [],
   "source": [
    "import sys\n",
    "#sys.path.insert(0, \"../../\")\n",
    "#sys.path.pop()"
   ]
  },
  {
   "cell_type": "markdown",
   "id": "f9d9a758-9645-411e-8891-9ee0af0c88bf",
   "metadata": {},
   "source": [
    "We import all needed MMR elements as follows:"
   ]
  },
  {
   "cell_type": "code",
   "execution_count": 2,
   "id": "4d94057a-4cd1-4ae7-8501-272e98db9ea2",
   "metadata": {},
   "outputs": [],
   "source": [
    "from cyrite.library.soc import *"
   ]
  },
  {
   "cell_type": "markdown",
   "id": "f2ac6798-f12e-41af-817a-777c50ec05e5",
   "metadata": {},
   "source": [
    "## Register definitions\n",
    "\n",
    "Add a few register with bit fields and flags (these are normally taken from an external module or generated from an XML description).\n",
    "\n",
    "This MMR scheme follows the register design scheme used by `gensoc` from the [MaSoCist SoC builder](https://github.com/hackfin/MaSoCist). Detailed information on how to interpret the register maps is found in the MaSoCist documentation."
   ]
  },
  {
   "cell_type": "code",
   "execution_count": 3,
   "id": "8efe074d-fd59-404e-a6c3-39872ce39de7",
   "metadata": {},
   "outputs": [],
   "source": [
    "reg01 = Reg(16,\n",
    "    [\n",
    "        BF(\"im\", 3, 1, flags = BF.READONLY),\n",
    "        BF(\"ex\", 7, 6),\n",
    "        BF(\"inv\", 4, 4, flags = BF.WRITEONLY),\n",
    "        BF(\"mode\", 14, 10, default = 2)\n",
    "    ]\n",
    ")\n",
    "\n",
    "reg02 = Reg(16,\n",
    "    [\n",
    "        BF(\"gna\", 6, 1, default = 8),\n",
    "        BF(\"reset\", 7, 7, default = True)\n",
    "    ],\n",
    "    flags = Reg.VOLATILE | Reg.WRITEONLY\n",
    ")"
   ]
  },
  {
   "cell_type": "markdown",
   "id": "e75f647a-e070-4f06-8766-7877bc1c96ed",
   "metadata": {},
   "source": [
    "**Note** `VOLATILE` flagged registers create a special output pin in the `.select` container of the RegisterSignal which is pulsed when an access was made. See wave trace below."
   ]
  },
  {
   "cell_type": "markdown",
   "id": "d4e8bfc3-d7d3-4953-864f-6ae3570984f7",
   "metadata": {},
   "source": [
    "## The MMR factory\n",
    "\n",
    "The code generation for the memory mapped registers is done by the `MMRGenerator` class. We derive from it and define a register map."
   ]
  },
  {
   "cell_type": "code",
   "execution_count": 4,
   "id": "14e66c15-12f0-4b8f-9e6f-bf31e0ea121d",
   "metadata": {},
   "outputs": [],
   "source": [
    "class MMRDesign(MMRGenerator):\n",
    "    # This is a description for an address map\n",
    "    regdesc = {\n",
    "        0x01: ['stat', reg01],\n",
    "        0x02: ['ctrl', reg02],\n",
    "        0x04: ['TXD',  Reg(16, [ BF(\"DATA\", 15, 0)], flags = Reg.WRITEONLY | Reg.VOLATILE) ],\n",
    "        0x05: ['RXD',  Reg(16, [ BF(\"DATA\", 15, 0)], flags = Reg.READONLY | Reg.VOLATILE)]\n",
    "    }\n",
    "\n",
    "    def build(self, p : MMRPort, interface : dict):\n",
    "        \"Creates an instance of a MMR decoder\"\n",
    "        inst = self.mmr_decode(\n",
    "            clk = p.clk,\n",
    "            reset = p.rst,\n",
    "            addr = p.addr,\n",
    "            wr = p.wr,\n",
    "            data_in = p.din,\n",
    "            data_out = p.dout,\n",
    "            REGDESC = self.regdesc,\n",
    "            **interface\n",
    "        )\n",
    "\n",
    "        return inst"
   ]
  },
  {
   "cell_type": "markdown",
   "id": "9407f4b8-749b-4e86-9125-5a75259aed88",
   "metadata": {},
   "source": [
    "## The test bench simulation class\n",
    "\n",
    "Now we derive from this class again in order to create a custom simulation class that includes a test bench.\n",
    "We will be using a co-simulation environment, where the test bench code below is run in native Python while the instanced MMR decoder runs as compiled hardware in the background.\n",
    "\n",
    "The test bench makes use of the MMRPort container, which supplies a few simulation macros to mimic write and read sequences. You can derive from this container to define own sequences."
   ]
  },
  {
   "cell_type": "code",
   "execution_count": 5,
   "id": "781ab894-7f10-4840-abcb-a3823fc61fe2",
   "metadata": {},
   "outputs": [],
   "source": [
    "from cyhdl import *\n",
    "\n",
    "class SimMMR(MMRDesign):\n",
    "    @cyrite_factory.testbench(\"ns\")\n",
    "    def testbench(self):\n",
    "        p = MMRPort(self)\n",
    "\n",
    "        clk = p.clk\n",
    "\n",
    "        interface = self.generate_interface(self.regdesc)\n",
    "        ctrl = interface['ctrl']\n",
    "        stat = interface['stat']\n",
    "\n",
    "        # This debug signal is not connected to the\n",
    "        # simulation back end\n",
    "        debug = self.Signal(bool(), name = 'debug')\n",
    "        \n",
    "        inst = self.build(p, interface)\n",
    "\n",
    "        @self.always(delay(2))\n",
    "        def clkgen():\n",
    "            clk.next = ~clk\n",
    "\n",
    "        @self.sequence\n",
    "        def main():\n",
    "            p.rst.next = True\n",
    "            stat.read.ex.next = 0\n",
    "\n",
    "            yield delay(10)\n",
    "\n",
    "            yield clk.posedge\n",
    "            print(\"START\")\n",
    "\n",
    "            debug.next = False\n",
    "            p.wr.next = False\n",
    "            p.addr.next = 0x001\n",
    "     \n",
    "            yield from p.reset_sequence()\n",
    "\n",
    "            print(\"DONE RESET\")\n",
    "\n",
    "            assert p.rst == False\n",
    "                    \n",
    "            yield clk.negedge\n",
    "            print(\"SETTING stat.read\")\n",
    "            stat.read.ex.next = 0\n",
    "            stat.read.mode.next = 4\n",
    "            stat.read.im.next = 2\n",
    "\n",
    "            yield clk.negedge\n",
    "            yield clk.negedge\n",
    "\n",
    "            p.assert_read(0x001, 0x1004)\n",
    "            yield clk.negedge\n",
    "            \n",
    "            yield from p.write_sequence(0x002, 0xfa)\n",
    "            debug.next = True\n",
    "            \n",
    "            yield clk.negedge\n",
    "            print(\"VAL\", ctrl.select.sel_w)\n",
    "            # assert ctrl.select.sel_w == True\n",
    "            assert ctrl.write.gna == 0x3d\n",
    "            yield clk.posedge\n",
    "            yield clk.negedge\n",
    "            assert ctrl.select.sel_w == False\n",
    "\n",
    "            yield from p.write_sequence(0x001, 0x10)\n",
    "            yield clk.negedge # Here, we can see different\n",
    "            # behaviour of icarus vs ghdl. Icarus needs this clk.negedge to\n",
    "            # update its signals, GHDL doesn't\n",
    "            assert stat.write.inv == True\n",
    "\n",
    "            yield 2 * (clk.posedge, )\n",
    "\n",
    "            yield delay(10)\n",
    "        \n",
    "            print(\"DONE\")\n",
    "\n",
    "            raise StopSimulation\n",
    "        \n",
    "        return instances()\n"
   ]
  },
  {
   "cell_type": "markdown",
   "id": "90d4841e-1e7b-4528-b3c3-b705a277ea6b",
   "metadata": {},
   "source": [
    "## Defining an architecture\n",
    "\n",
    "We define an RTL architecture for the a lattice ECP5 target, for instance:"
   ]
  },
  {
   "cell_type": "code",
   "execution_count": 6,
   "id": "fb16eb11-6048-4c41-8b52-7e9ac93d4d92",
   "metadata": {},
   "outputs": [],
   "source": [
    "from myirl.library.architecture import Architecture\n",
    "from library.targets import ECP5\n",
    "from yosys.simulator import CXXRTL\n",
    "\n",
    "class RTLArch(Architecture):\n",
    "\tdef __init__(self):\n",
    "\t\tself.sim_class = CXXRTL\n",
    "\t\tself.target_class = ECP5"
   ]
  },
  {
   "cell_type": "markdown",
   "id": "0c589f00-ed17-430a-b153-045ff4351c0d",
   "metadata": {},
   "source": [
    "Then we create a design instance and pass this architecture as target:"
   ]
  },
  {
   "cell_type": "code",
   "execution_count": 7,
   "id": "75191720-b8b7-411d-985e-22c73d7d8d2b",
   "metadata": {},
   "outputs": [
    {
     "name": "stdout",
     "output_type": "stream",
     "text": [
      "DEBUG: Dummysignal `s_9558` : False -> False\n",
      "DEBUG: Dummysignal `s_9558` : False -> False\n",
      "\u001b[7;35m Declare obj 'mmr_decode' in context '(SimMMR 'mmr')'(<class '__main__.SimMMR'>) \u001b[0m\n",
      "\u001b[32m Adding module with name `mmr_decode` \u001b[0m\n",
      "Open for writing: mmr.vcd\n",
      "\u001b[7;35m CXXRTL context: SKIP INTERFACE ITEM `self` \u001b[0m\n",
      "\u001b[7;35m CXXRTL context: SKIP INTERFACE ITEM `REGDESC` \u001b[0m\n",
      "START\n",
      "DONE RESET\n",
      "SETTING stat.read\n",
      "VAL <ctrl_select_sel_w> : False\n",
      "DONE\n"
     ]
    },
    {
     "name": "stderr",
     "output_type": "stream",
     "text": [
      "\u001b[32mUse Cython binding for dict\u001b[0m\n",
      "\u001b[32mDEBUG: not handling type <class 'dict'>\u001b[0m\n",
      "\u001b[32mDEBUG: not handling type <class 'myirl.container.container.<locals>.dummy.<locals>._mixin'>\u001b[0m\n",
      "\u001b[32mTolerate exception:\u001b[0m Module with name `mmr_decode` already existing\n",
      "\u001b[7;34mAttemping cold import of\u001b[0m mmr_decode\n",
      "\u001b[32mCosimulation: debug not connected to backend\u001b[0m\n",
      "\u001b[7;34mSTOP SIMULATION @78\u001b[0m\n"
     ]
    }
   ],
   "source": [
    "m = SimMMR(\"mmr\", RTLArch())\n",
    "tb = m.testbench()\n",
    "tb.debug()\n",
    "\n",
    "# tb.design.display_rtl()\n",
    "\n",
    "# Turn 'debug' on for simulation output\n",
    "tb.run(400, debug = True, wavetrace = 'mmr.vcd', recompile = False)\n"
   ]
  },
  {
   "cell_type": "markdown",
   "id": "95688510-f54f-4f93-aab7-141ffa28d7df",
   "metadata": {},
   "source": [
    "## Waveform display\n",
    "\n",
    "The `*.vcd` format hides the `MMRPort` record members from the trace. Therefore we need a few monitoring auxiliary signals.\n",
    "\n",
    "If we change signal names, we will also have to change the config below.\n",
    "In order to retrieve the signal names generated by the VCD trace, set the `cfg` parameter to None. This will then display all traced signals."
   ]
  },
  {
   "cell_type": "code",
   "execution_count": 8,
   "id": "cef473a2-447d-4986-9437-957779db8937",
   "metadata": {},
   "outputs": [],
   "source": [
    "from cyrite import waveutils"
   ]
  },
  {
   "cell_type": "code",
   "execution_count": 9,
   "id": "7bffa6d8-2750-4e1d-822f-ad6f4d0f57b3",
   "metadata": {},
   "outputs": [
    {
     "data": {
      "text/html": [
       "<div><script type=\"WaveDrom\">{\"signal\": [{\"name\": \".clk\", \"wave\": \"0101010101010101010101010101010101010101\", \"data\": \"0101010101010101010101010101010101010101\"}, {\"name\": \".reset\", \"wave\": \"1.....0.................................\", \"data\": \"10\"}, {\"name\": \".ctrl_select_sel_w\", \"wave\": \"0..................1.0..................\", \"data\": \"010\"}, {\"name\": \".data_in\", \"wave\": \"=.................=.......=.............\", \"data\": \"00 fa 10 \"}, {\"name\": \".data_out\", \"wave\": \"=............=..........................\", \"data\": \"00 1004 \"}, {\"name\": \".addr\", \"wave\": \"=....=............=.......=.............\", \"data\": \"00 01 02 01 \"}]}</script></div>"
      ]
     },
     "metadata": {},
     "output_type": "display_data"
    },
    {
     "data": {
      "application/javascript": [
       "new Promise(function(resolve, reject) {\n",
       "\tvar script = document.createElement(\"script\");\n",
       "\tscript.onload = resolve;\n",
       "\tscript.onerror = reject;\n",
       "\tscript.src = \"https://wavedrom.com/wavedrom.min.js\";\n",
       "\tdocument.head.appendChild(script);\n",
       "}).then(() => {\n",
       "new Promise(function(resolve, reject) {\n",
       "\tvar script = document.createElement(\"script\");\n",
       "\tscript.onload = resolve;\n",
       "\tscript.onerror = reject;\n",
       "\tscript.src = \"https://wavedrom.com/skins/narrow.js\";\n",
       "\tdocument.head.appendChild(script);\n",
       "}).then(() => {\n",
       "WaveDrom.ProcessAll();\n",
       "});\n",
       "});"
      ]
     },
     "metadata": {},
     "output_type": "display_data"
    }
   ],
   "source": [
    "config = {\n",
    "    '.clk' : None,\n",
    "    '.reset' : None,\n",
    "    '.ctrl_select_sel_w' : None,\n",
    "    '.data_in' : None,\n",
    "    '.data_out' : None,\n",
    "    '.addr' : None\n",
    "}\n",
    "\n",
    "waveutils.draw_wavetrace(tb, 'mmr.vcd', 'clk', cfg = config)"
   ]
  },
  {
   "cell_type": "markdown",
   "id": "72eb0cba-a2e3-4c33-867c-37e595320fb4",
   "metadata": {},
   "source": [
    "## Synthesis details\n",
    "\n",
    "To check the details of a particular sequence of mapping steps done inside yosys, we derive the `MMRDesign` again and augment it by a synthesis method.\n",
    "\n",
    "The `target.map` call actually maps the elaborated design to the target architecture. Then, we call 'stat' on the design via the yosys library:"
   ]
  },
  {
   "cell_type": "code",
   "execution_count": 10,
   "id": "5fc80757-fd15-496f-87d0-18af0c8a506c",
   "metadata": {},
   "outputs": [],
   "source": [
    "class SynMMR(MMRDesign):\n",
    "    def synthesis_stats(self):\n",
    "        p = MMRPort(self)\n",
    "        interface = self.generate_interface(self.regdesc)\n",
    "        inst = self.build(p, interface)\n",
    "        target = self.target_class(\"mmr\")\n",
    "        d = inst.elab(target)\n",
    "        target.map(capture = False)\n",
    "        design = d[0]\n",
    "        out = design.run(\"stat\", capture = None)\n",
    "        return out\n"
   ]
  },
  {
   "cell_type": "markdown",
   "id": "3ef00f1c-c2d8-41d8-aeee-fd3c6e39bdc9",
   "metadata": {},
   "source": [
    "Instance the `SynMMR` class and call its particular synthesis method:"
   ]
  },
  {
   "cell_type": "code",
   "execution_count": 11,
   "id": "288fb34a-da05-43c4-9290-327081bd8f1b",
   "metadata": {},
   "outputs": [
    {
     "name": "stdout",
     "output_type": "stream",
     "text": [
      "DEBUG: Dummysignal `s_403d` : False -> False\n",
      "DEBUG: Dummysignal `s_403d` : False -> False\n",
      "\u001b[7;35m Declare obj 'mmr_decode' in context '(SynMMR 'syn')'(<class '__main__.SynMMR'>) \u001b[0m\n",
      "\u001b[32m Adding module with name `mmr_decode` \u001b[0m\n",
      " Mapping to ECP5 technology \n"
     ]
    },
    {
     "name": "stderr",
     "output_type": "stream",
     "text": [
      "\u001b[32mUse Cython binding for dict\u001b[0m\n"
     ]
    }
   ],
   "source": [
    "m = SynMMR(\"syn\", RTLArch())\n",
    "out = m.synthesis_stats()"
   ]
  },
  {
   "cell_type": "markdown",
   "id": "36712943-91df-4531-82b7-7b12f4bf8da3",
   "metadata": {},
   "source": [
    "The stat command output finally can be obtained separately through the capture:"
   ]
  },
  {
   "cell_type": "code",
   "execution_count": 12,
   "id": "8a4260ce-5ba4-441c-b399-fd78e6707ad8",
   "metadata": {},
   "outputs": [
    {
     "name": "stdout",
     "output_type": "stream",
     "text": [
      "\n",
      "-- Running command `stat' --\n",
      "\n",
      "33. Printing statistics.\n",
      "\n",
      "=== mmr_decode ===\n",
      "\n",
      "   Number of wires:                 61\n",
      "   Number of wire bits:            274\n",
      "   Number of public wires:          24\n",
      "   Number of public wire bits:     162\n",
      "   Number of memories:               0\n",
      "   Number of memory bits:            0\n",
      "   Number of processes:              0\n",
      "   Number of cells:                166\n",
      "     $_AND_                         30\n",
      "     $_NOT_                         13\n",
      "     $_OR_                          57\n",
      "     TRELLIS_FF                     66\n",
      "\n",
      "\n"
     ]
    }
   ],
   "source": [
    "print(out)"
   ]
  },
  {
   "cell_type": "markdown",
   "id": "adf1835c-f1ae-4681-99d7-b0f90420dcf2",
   "metadata": {},
   "source": [
    "We can see the number of (virtual) primitives used by this logic past the mapping stage."
   ]
  }
 ],
 "metadata": {
  "kernelspec": {
   "display_name": "Python 3 (ipykernel)",
   "language": "python",
   "name": "python3"
  },
  "language_info": {
   "codemirror_mode": {
    "name": "ipython",
    "version": 3
   },
   "file_extension": ".py",
   "mimetype": "text/x-python",
   "name": "python",
   "nbconvert_exporter": "python",
   "pygments_lexer": "ipython3",
   "version": "3.10.0"
  }
 },
 "nbformat": 4,
 "nbformat_minor": 5
}

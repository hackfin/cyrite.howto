{
 "cells": [
  {
   "cell_type": "markdown",
   "id": "d6c71bb1",
   "metadata": {},
   "source": [
    "# Pipeline generators\n",
    "\n",
    "This demonstrates how Pipeline generation can occur even with native (unmodified) `intbv` types."
   ]
  },
  {
   "cell_type": "code",
   "execution_count": 1,
   "id": "2d6079fd",
   "metadata": {},
   "outputs": [],
   "source": [
    "import sys\n",
    "sys.path.insert(0, '../..')\n",
    "from myirl import *\n",
    "from myhdl import intbv\n",
    "\n",
    "d = DummyVHDLModule()"
   ]
  },
  {
   "cell_type": "markdown",
   "id": "8cb27f14",
   "metadata": {},
   "source": [
    "First, derive a PipelineProcess class from `Process`:"
   ]
  },
  {
   "cell_type": "code",
   "execution_count": 2,
   "id": "b1fbb8bb",
   "metadata": {},
   "outputs": [],
   "source": [
    "# @hls.generator\n",
    "class PipelineProcess(kernel.sensitivity.Process):\n",
    "    def __init__(self, func, clk, logic, stage):\n",
    "        def f():\n",
    "            print(\"FUNC RETURN LOGIC\", logic)\n",
    "            return logic\n",
    "    \n",
    "        self.func = f\n",
    "        f.__name__ = func.__name__ + \"_stage%d\" % stage\n",
    "        self.sensors = [clk]\n",
    "        self.edge = clk.POS\n",
    "        self.reset = None\n",
    "        self.logic = LogicContext()\n",
    "        self.logic += f()\n",
    "    # Note: This should never be called, so we don't need a __call__ method\n"
   ]
  },
  {
   "cell_type": "markdown",
   "id": "415a35cf",
   "metadata": {},
   "source": [
    "Then implement a Pipeline class for the `@pipeline` decorator magic:"
   ]
  },
  {
   "cell_type": "code",
   "execution_count": 3,
   "id": "56fa49e3",
   "metadata": {},
   "outputs": [],
   "source": [
    "class Pipeline(Generator):\n",
    "    def __init__(self, func, clk, queue):\n",
    "        self.clk = clk\n",
    "        self.queue = queue\n",
    "        super().__init__(func)\n",
    "\n",
    "    def __call__(self, ctx):\n",
    "        for i, g in enumerate(self.func()):\n",
    "            self.logic += [\n",
    "                PipelineProcess(self.func, self.clk, g, i)\n",
    "            ]\n",
    "        # Add a local reset signal:\n",
    "        lreset = ResetSignal(ResetSignal.NEG_SYNC)\n",
    "        \n",
    "        @genprocess(self.clk, EDGE=self.clk.POS, RESET=lreset)\n",
    "        def delay_queue():\n",
    "            en = self.queue\n",
    "            N = len(en)\n",
    "            for i in range(1, N):\n",
    "                yield [\n",
    "                    en[i].set(en[i-1])            \n",
    "                ]\n",
    "\n",
    "        # Important to call that process within the\n",
    "        # actual context:\n",
    "        delay_queue(ctx)\n",
    "\n",
    "        self.logic += [\n",
    "            delay_queue,\n",
    "            lreset.wireup(self.queue[0])\n",
    "        ]\n",
    "            \n",
    "    def collect_sources(self):\n",
    "        signals = {}\n",
    "        for i in self.logic:\n",
    "            signals.update(i.collect_sources())\n",
    "        \n",
    "        return signals\n",
    "\n",
    "    def collect_drivers(self):\n",
    "        signals = {}\n",
    "        for i in self.logic:\n",
    "            signals.update(i.collect_drivers())\n",
    "        \n",
    "        return signals    \n",
    "    \n",
    "def pipeline(clk, queue, *kwargs):\n",
    "    def pipeline_dec(func):\n",
    "        return Pipeline(func, clk, queue)\n",
    "\n",
    "    return pipeline_dec   "
   ]
  },
  {
   "cell_type": "markdown",
   "id": "1c0d6c6f",
   "metadata": {},
   "source": [
    "Now create a pipeline test:"
   ]
  },
  {
   "cell_type": "code",
   "execution_count": 4,
   "id": "f1addbaa",
   "metadata": {},
   "outputs": [
    {
     "name": "stdout",
     "output_type": "stream",
     "text": [
      "Creating generator '__init__/pipe' \n",
      "\u001b[32m Insert unit dummy_s1_s1_s5_s5_s1 \u001b[0m\n",
      "Creating delay 'gen_osc/CLKGEN' : 5 ns\n",
      "Creating sequential 'tb/seq' \n",
      "\u001b[32m Insert unit tb \u001b[0m\n",
      "FUNC RETURN LOGIC [v = MUL(din, <C: 0x2:2>), a <= <v:05>]\n",
      "FUNC RETURN LOGIC [q <= ADD_builtin(a, C:4)]\n",
      "FUNC RETURN LOGIC [p <= <q[6:1]>]\n",
      "Creating Generator process '__call__/delay_queue' with sensitivity (<clk>,)\n",
      "DEBUG CALL GENERATOR\n"
     ]
    },
    {
     "name": "stderr",
     "output_type": "stream",
     "text": [
      "../../myirl/kernel/components.py:789: UserWarning: Already collected en0\n",
      "  base.warnings.warn(\"Already collected %s\" % n)\n",
      "../../myirl/kernel/components.py:789: UserWarning: Already collected clk\n",
      "  base.warnings.warn(\"Already collected %s\" % n)\n"
     ]
    },
    {
     "name": "stdout",
     "output_type": "stream",
     "text": [
      " DEBUG: Writing 'dummy' to file /tmp/dummy.vhdl \n",
      "Finished _elab in 0.0014 secs\n"
     ]
    },
    {
     "name": "stderr",
     "output_type": "stream",
     "text": [
      "../../myirl/kernel/components.py:789: UserWarning: Already collected en\n",
      "  base.warnings.warn(\"Already collected %s\" % n)\n",
      "../../myirl/kernel/components.py:789: UserWarning: Already collected data_in\n",
      "  base.warnings.warn(\"Already collected %s\" % n)\n"
     ]
    },
    {
     "name": "stdout",
     "output_type": "stream",
     "text": [
      " DEBUG: Writing 'tb' to file /tmp/tb.vhdl \n",
      "Finished _elab in 0.0015 secs\n",
      "==== COSIM stdout ====\n",
      "\n",
      "==== COSIM stderr ====\n",
      "\n",
      "==== COSIM stdout ====\n",
      "analyze ../../myirl/targets/../test/vhdl/txt_util.vhdl\n",
      "analyze ../../myirl/targets/libmyirl.vhdl\n",
      "analyze /tmp/dummy.vhdl\n",
      "analyze /tmp/tb.vhdl\n",
      "elaborate tb\n",
      "\n",
      "==== COSIM stderr ====\n",
      "\n",
      "==== COSIM stdout ====\n",
      "data out: 0x0C\n",
      "/tmp/tb.vhdl:56:9:@85ns:(assertion failure): Stop Simulation\n",
      "./tb:error: assertion failed\n",
      "in process .tb(myirl).seq\n",
      "./tb:error: simulation failed\n",
      "\n",
      "==== COSIM stderr ====\n",
      "\n"
     ]
    }
   ],
   "source": [
    "@block\n",
    "def dummy(clk: ClkSignal, en : Signal, din : Signal,\n",
    "          dout: Signal.Output, valid : Signal.Output):\n",
    "    a = Signal(intbv()[7:], name = 'a')\n",
    "    \n",
    "    enable = [ Signal(bool(), name = 'en%d' % i) for i in range(4)]\n",
    "\n",
    "    q = Signal(intbv()[8:], name = 'q')\n",
    "    p = Signal(intbv()[5:], name = 'p')\n",
    "\n",
    "    @pipeline(clk, enable)\n",
    "    def pipe():\n",
    "        v = Variable('v', intbv(5)[7:])\n",
    "        # First stage\n",
    "        yield [\n",
    "            v.assign(din * base.ConstSig(2, 2)),\n",
    "            a.set(v),\n",
    "        ]\n",
    "        \n",
    "        # Second stage\n",
    "        yield [\n",
    "            q.set(a + 4),\n",
    "        ]\n",
    "        \n",
    "        # Third stage\n",
    "        yield [\n",
    "            p.set(q[6:1]), # value >> 1\n",
    "        ]\n",
    "        \n",
    "    wires = [\n",
    "        enable[0].wireup(en),\n",
    "        dout.wireup(p),\n",
    "        valid.wireup(enable[2])\n",
    "    ]\n",
    "        \n",
    "    return locals()\n",
    "\n",
    "from myirl.test.common_test import *\n",
    "from myirl.simulation import *\n",
    "\n",
    "@block\n",
    "def tb():\n",
    "    clk = ClkSignal(name = 'clk')\n",
    "    en, valid = [ Signal(bool()) for _ in range(2) ]\n",
    "    data_in = Signal(intbv()[5:])\n",
    "    data_out = Signal(intbv()[5:])\n",
    "    \n",
    "    inst = dummy(clk, en, data_in, data_out, valid)\n",
    " \n",
    "    osc = gen_osc(clk, CYCLE=5)\n",
    "    \n",
    "    @generator\n",
    "    def seq():\n",
    "        yield [ en.set(False) ]\n",
    "        for i in range(4):\n",
    "            yield [ wait(clk.posedge) ]\n",
    "            \n",
    "        yield [\n",
    "            data_in.set(0xa),\n",
    "            wait(clk.posedge),\n",
    "            en.set(True),\n",
    "            \n",
    "        ]\n",
    "            \n",
    "\n",
    "        \n",
    "        yield [ wait(clk.posedge, ) for i in range(4) ]\n",
    "        \n",
    "        yield [\n",
    "            print_(\"data out:\", data_out),\n",
    "            raise_(StopSimulation)\n",
    "        ]\n",
    "        yield [ wait(clk.posedge, ) for i in range(4) ]\n",
    "\n",
    "    return locals()\n",
    " \n",
    "def test():\n",
    "    inst = tb()\n",
    "    files = inst.elab(targets.VHDL, elab_all = True)\n",
    "    run_ghdl(files, inst, debug = True, vcdfile='/tmp/tb_pipe.vcd')\n",
    "    \n",
    "test()"
   ]
  },
  {
   "cell_type": "markdown",
   "id": "54579d9b",
   "metadata": {},
   "source": [
    "**Note again**: Incorrect wave display for the 'tb.valid'. GTKwave will display correctly."
   ]
  },
  {
   "cell_type": "code",
   "execution_count": 18,
   "id": "71e30043",
   "metadata": {},
   "outputs": [
    {
     "data": {
      "text/html": [
       "<div><script type=\"WaveDrom\">{\"signal\": [{\"name\": \"tb.clk\", \"wave\": \"01010101010101010\", \"data\": \"01010101010101010\"}, {\"name\": \"tb.valid\", \"wave\": \".0...........1...\", \"data\": \"01\"}, {\"name\": \"tb.data_out[4:0]\", \"wave\": \"x..x.........=...\", \"data\": \"0c \"}, {\"name\": \"tb.data_in[4:0]\", \"wave\": \"x......=.........\", \"data\": \"0a \"}, {\"name\": \"tb.inst_dummy_0.q[7:0]\", \"wave\": \"xx.........=.....\", \"data\": \"18 \"}, {\"name\": \"tb.inst_dummy_0.a[6:0]\", \"wave\": \"xx.......=.......\", \"data\": \"14 \"}]}</script></div>"
      ]
     },
     "metadata": {},
     "output_type": "display_data"
    },
    {
     "data": {
      "application/javascript": [
       "new Promise(function(resolve, reject) {\n",
       "\tvar script = document.createElement(\"script\");\n",
       "\tscript.onload = resolve;\n",
       "\tscript.onerror = reject;\n",
       "\tscript.src = \"https://wavedrom.com/wavedrom.min.js\";\n",
       "\tdocument.head.appendChild(script);\n",
       "}).then(() => {\n",
       "new Promise(function(resolve, reject) {\n",
       "\tvar script = document.createElement(\"script\");\n",
       "\tscript.onload = resolve;\n",
       "\tscript.onerror = reject;\n",
       "\tscript.src = \"https://wavedrom.com/skins/narrow.js\";\n",
       "\tdocument.head.appendChild(script);\n",
       "}).then(() => {\n",
       "WaveDrom.ProcessAll();\n",
       "});\n",
       "});"
      ]
     },
     "metadata": {},
     "output_type": "display_data"
    }
   ],
   "source": [
    "import wavedraw; import nbwavedrom\n",
    "TB = tb.name;\n",
    "cfg = {\n",
    "    'tb.clk' : None,\n",
    "    'tb.valid' : None, 'tb.data_out[4:0]' : None, 'tb.data_in[4:0]' : None, \n",
    "    'tb.inst_dummy_0.q[7:0]' : None, 'tb.inst_dummy_0.a[6:0]' : None,\n",
    "}\n",
    "waveform = wavedraw.vcd2wave(\"/tmp/tb_pipe.vcd\", TB + '.clk', cfg)\n",
    "nbwavedrom.draw(waveform)"
   ]
  },
  {
   "cell_type": "code",
   "execution_count": null,
   "id": "5a06681a",
   "metadata": {},
   "outputs": [],
   "source": []
  }
 ],
 "metadata": {
  "kernelspec": {
   "display_name": "Python 3",
   "language": "python",
   "name": "python3"
  },
  "language_info": {
   "codemirror_mode": {
    "name": "ipython",
    "version": 3
   },
   "file_extension": ".py",
   "mimetype": "text/x-python",
   "name": "python",
   "nbconvert_exporter": "python",
   "pygments_lexer": "ipython3",
   "version": "3.8.5"
  }
 },
 "nbformat": 4,
 "nbformat_minor": 5
}

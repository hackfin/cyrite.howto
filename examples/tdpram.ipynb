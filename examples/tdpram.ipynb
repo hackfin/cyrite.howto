{
 "cells": [
  {
   "cell_type": "markdown",
   "metadata": {},
   "source": [
    "# Memory\n",
    "\n",
    "Describing memory and getting it synthesized correcly is cumbersome.\n",
    "Therefore, this will only demonstrate a simple approach to generate memory.\n",
    "Using [Signal arrays](arrays.ipynb), a simple `r1w1` simplex dual port memory can be inferred to HDL.\n",
    "This modification enables shared variable output for VHDL to support true dual port behaviour.\n",
    "The general strategy with the MyIRL synthesis is to use a blackbox element (rely on the library)"
   ]
  },
  {
   "cell_type": "code",
   "execution_count": 1,
   "metadata": {},
   "outputs": [],
   "source": [
    "from myhdl import intbv\n",
    "from myirl import *\n",
    "import random"
   ]
  },
  {
   "cell_type": "markdown",
   "metadata": {},
   "source": [
    "## Dual port memories\n",
    "\n",
    "We can not use a `SigArray` for the RAM, because a true dual port RAM would provoke unresolved multiple drivers.\n",
    "Therefore we hack the `myirl.lists.SigArray` class by deriving and choosing a different element in return of the `__getitem__` member which uses a shared variable.\n",
    "\n",
    "**Note** Not working in VHDL-2008"
   ]
  },
  {
   "cell_type": "code",
   "execution_count": 2,
   "metadata": {},
   "outputs": [],
   "source": [
    "from myirl import lists\n",
    "from myirl.kernel import extensions, utils\n",
    "\n",
    "from myirl import targets\n",
    "\n",
    "class CellAssign:  # extensions.ElemAssign\n",
    "    def __init__(self, parent, portion, val, width):\n",
    "        self._vref = parent\n",
    "        self.portion = portion\n",
    "        self.value = val\n",
    "        self.width = width\n",
    "        \n",
    "    def emit(self, context):\n",
    "        tgt = context.target\n",
    "        if tgt.lang != 'VHDL':\n",
    "            raise TypeError(\"Unsupported target %s\" % type(tgt))\n",
    "        n, v = self._vref.identifier, self.value\n",
    "        p = self.portion\n",
    "        sz = self.width\n",
    "        context.output(\"%s(to_integer(%s)) := %s;\\n\" % (n, p, base.convert(v, tgt, sz)))        \n",
    "\n",
    "    def get_sources(self, srcs):\n",
    "        if isinstance(self.value, base.Sig):\n",
    "            self.value.get_sources(srcs)\n",
    "    \n",
    "    def get_drivers(self, drvs):\n",
    "        pass\n",
    "    \n",
    "class ArrayElem(lists.SigIndexed):\n",
    "    decl_type_vhdl = \"shared variable\"\n",
    "    \n",
    "    def set(self, val):\n",
    "        w = self.size()\n",
    "        return CellAssign(self.seq, self.index, val, w)\n",
    "\n",
    "class RamBuffer(lists.SigArray):    \n",
    "    def __getitem__(self, item):\n",
    "        if isinstance(item, (Sig, int)):\n",
    "            # We can not just return self.val[item], as the iterator\n",
    "            # has not initialized yet.\n",
    "            return ArrayElem(self, item)\n",
    "        else:\n",
    "            raise TypeError(\"Multi item slicing of iterator not supported\")"
   ]
  },
  {
   "cell_type": "markdown",
   "metadata": {},
   "source": [
    "Then define a RAM port (legacy class constructs will suffice) and the actual RAM implementation:"
   ]
  },
  {
   "cell_type": "code",
   "execution_count": 3,
   "metadata": {},
   "outputs": [],
   "source": [
    "class RamPort:\n",
    "    _inputs = ['we', 'wa', 'ra', 'wd']\n",
    "    _outputs = ['rd']\n",
    "    _other = ['clk']\n",
    "    def __init__(self, AWIDTH, DWIDTH):\n",
    "        self.clk = ClkSignal()\n",
    "        self.we = Signal(bool())\n",
    "        self.ra, self.wa = [ Signal(intbv()[AWIDTH:]) for i in range(2) ]\n",
    "        self.rd, self.wd = [ Signal(intbv()[DWIDTH:]) for i in range(2) ] \n",
    "        \n",
    "@block\n",
    "def tdp_ram(pa, pb, INITDATA):\n",
    "    inst = []\n",
    " \n",
    "    def gen_logic(p, i):\n",
    "        \"Generate port mechanics inline\"\n",
    "        @genprocess(p.clk, EDGE=p.clk.POS)\n",
    "        def proc():\n",
    "            yield [\n",
    "                proc.If(p.we == True).Then(\n",
    "                    buf[p.wa].set(p.wd)\n",
    "                ),\n",
    "                p.rd.set(buf[p.ra])\n",
    "            ]\n",
    "        proc.rename(\"proc%d\" % i)\n",
    "        return proc\n",
    "\n",
    "    buf = RamBuffer(INITDATA)\n",
    "    \n",
    "    for i, p in enumerate([pa, pb]):\n",
    "        inst.append(gen_logic(p, i))\n",
    "    \n",
    "    return inst"
   ]
  },
  {
   "cell_type": "markdown",
   "metadata": {},
   "source": [
    "### Basic checks\n",
    "\n",
    "Verify we can evaluate the content:"
   ]
  },
  {
   "cell_type": "code",
   "execution_count": 4,
   "metadata": {},
   "outputs": [
    {
     "data": {
      "text/plain": [
       "intbv(138)"
      ]
     },
     "execution_count": 4,
     "metadata": {},
     "output_type": "execute_result"
    }
   ],
   "source": [
    "a = RamBuffer([intbv(i + 0x80)[8:] for i in range(200) ])\n",
    "b = Signal(intbv(10)[5:])\n",
    "a[b].evaluate()"
   ]
  },
  {
   "cell_type": "code",
   "execution_count": 5,
   "metadata": {},
   "outputs": [
    {
     "data": {
      "text/plain": [
       "intbv(128)"
      ]
     },
     "execution_count": 5,
     "metadata": {},
     "output_type": "execute_result"
    }
   ],
   "source": [
    "a[0].wire"
   ]
  },
  {
   "cell_type": "code",
   "execution_count": 6,
   "metadata": {},
   "outputs": [],
   "source": [
    "from myirl import targets\n",
    "from myirl.test.common_test import run_ghdl\n",
    "\n",
    "random.seed(0)\n",
    "\n",
    "def test():\n",
    "    RAM_CONTENT = [ intbv(random.randint(0, 2 ** 9))[8:] for i in range(2 ** 9) ]\n",
    "    pa, pb = [ RamPort(AWIDTH=9, DWIDTH=8) for i in range(2) ]\n",
    "    inst = tdp_ram(pa, pb, RAM_CONTENT)\n",
    "    \n",
    "    f = inst.elab(targets.VHDL)\n",
    "    run_ghdl(f, inst, std = \"93\", debug = True) # Note we run with std '93'"
   ]
  },
  {
   "cell_type": "code",
   "execution_count": 7,
   "metadata": {},
   "outputs": [
    {
     "name": "stdout",
     "output_type": "stream",
     "text": [
      " Writing 'tdp_ram' to file /tmp/myirltp9dwr15/tdp_ram.vhdl \n",
      "Finished _elab in 0.0017 secs\n",
      "==== COSIM stdout ====\n",
      "\n",
      "==== COSIM stderr ====\n",
      "\n",
      "==== COSIM stdout ====\n",
      "analyze /home/testing/.local/lib/python3.10/site-packages/myirl-0.0.0-py3.10-linux-x86_64.egg/myirl/targets/../test/vhdl/txt_util.vhdl\n",
      "analyze /home/testing/.local/lib/python3.10/site-packages/myirl-0.0.0-py3.10-linux-x86_64.egg/myirl/targets/libmyirl.vhdl\n",
      "analyze /tmp/myirltp9dwr15/tdp_ram.vhdl\n",
      "elaborate tdp_ram\n",
      "\n",
      "==== COSIM stderr ====\n",
      "\n",
      "==== COSIM stdout ====\n",
      "\n",
      "==== COSIM stderr ====\n",
      "\n"
     ]
    }
   ],
   "source": [
    "test()"
   ]
  },
  {
   "cell_type": "code",
   "execution_count": 8,
   "metadata": {},
   "outputs": [
    {
     "name": "stdout",
     "output_type": "stream",
     "text": [
      "architecture MyIRL of tdp_ram is\n",
      "    -- Local type declarations\n",
      "    -- Signal declarations\n",
      "    type a_s_3104 is array (0 to 511) of unsigned(7 downto 0);\n",
      "    shared variable s_3104 : a_s_3104;\n",
      "begin\n",
      "    \n",
      "proc0:\n",
      "    process(pa_clk)\n",
      "    begin\n",
      "        if rising_edge(pa_clk) then\n",
      "            if (pa_we = '1') then\n",
      "                s_3104(to_integer(pa_wa)) := pa_wd;\n",
      "            end if;\n",
      "            pa_rd <= s_3104(to_integer(pa_ra));\n",
      "        end if;\n",
      "    end process;\n",
      "    \n",
      "proc1:\n",
      "    process(pb_clk)\n",
      "    begin\n",
      "--\n",
      "end architecture MyIRL;\n",
      "\n"
     ]
    }
   ],
   "source": [
    "! grep -A 20 MyIRL {tdp_ram.ctx.path_prefix}/tdp_ram.vhdl "
   ]
  }
 ],
 "metadata": {
  "kernelspec": {
   "display_name": "Python 3 (ipykernel)",
   "language": "python",
   "name": "python3"
  },
  "language_info": {
   "codemirror_mode": {
    "name": "ipython",
    "version": 3
   },
   "file_extension": ".py",
   "mimetype": "text/x-python",
   "name": "python",
   "nbconvert_exporter": "python",
   "pygments_lexer": "ipython3",
   "version": "3.10.0"
  }
 },
 "nbformat": 4,
 "nbformat_minor": 4
}

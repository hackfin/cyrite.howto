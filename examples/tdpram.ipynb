{
 "cells": [
  {
   "cell_type": "markdown",
   "metadata": {},
   "source": [
    "# Memory\n",
    "\n",
    "Describing memory and getting it synthesized correctly is cumbersome.\n",
    "Therefore, this will only demonstrate a simple approach to generate memory.\n",
    "Using [Signal arrays](arrays.ipynb), a simple `r1w1` simplex dual port memory can be inferred to HDL.\n",
    "This modification enables shared variable output for VHDL to support true dual port behaviour.\n",
    "The general strategy with the MyIRL synthesis is to use a blackbox element (rely on the library)"
   ]
  },
  {
   "cell_type": "code",
   "execution_count": 1,
   "metadata": {},
   "outputs": [],
   "source": [
    "import sys\n",
    "sys.path.insert(0, \"/home/testing/src/myhdl2\")\n",
    "\n",
    "from myhdl import intbv\n",
    "from myirl import *\n",
    "import random"
   ]
  },
  {
   "cell_type": "markdown",
   "metadata": {},
   "source": [
    "## Dual port memories\n",
    "\n",
    "We can not use a `SigArray` for the RAM, because a true dual port RAM would provoke unresolved multiple drivers.\n",
    "Therefore we hack the `myirl.lists.SigArray` class by deriving and choosing a different element in return of the `__getitem__` member which uses a shared variable.\n",
    "\n",
    "**Note** Not working in VHDL-2008"
   ]
  },
  {
   "cell_type": "code",
   "execution_count": 2,
   "metadata": {},
   "outputs": [],
   "source": [
    "from myirl import lists\n",
    "from myirl.kernel import extensions, utils\n",
    "\n",
    "from myirl import targets\n",
    "\n",
    "class CellAssign:  # extensions.ElemAssign\n",
    "    def __init__(self, parent, portion, val, width):\n",
    "        self._vref = parent\n",
    "        self.portion = portion\n",
    "        self.value = val\n",
    "        self.width = width\n",
    "        \n",
    "    def emit(self, context):\n",
    "        tgt = context.target\n",
    "        n, v = self._vref.identifier, self.value\n",
    "        p = self.portion\n",
    "        sz = self.width\n",
    "        if tgt.lang == 'VHDL':\n",
    "            context.output(\"%s(to_integer(%s)) := %s;\\n\" % (n, p, base.convert(v, tgt, sz)))        \n",
    "        elif tgt.lang == 'Verilog':\n",
    "            context.output(\"%s[%s] <= %s;\\n\" % (n, p, base.convert(v, tgt, sz)))           \n",
    "        else:\n",
    "            raise TypeError(\"Unsupported target %s\" % type(tgt))\n",
    "\n",
    "\n",
    "    def get_sources(self, srcs):\n",
    "        if isinstance(self.value, base.Sig):\n",
    "            self.value.get_sources(srcs)\n",
    "    \n",
    "    def get_drivers(self, drvs):\n",
    "        pass\n",
    "    \n",
    "t\n",
    "class RamBuffer(lists.SigArray):    \n",
    "    def __getitem__(self, item):\n",
    "        if isinstance(item, (Sig, int)):\n",
    "            # We can not just return self.val[item], as the iterator\n",
    "            # has not initialized yet.\n",
    "            return ArrayElem(self, item)\n",
    "        else:\n",
    "            raise TypeError(\"Multi item slicing of iterator not supported\")"
   ]
  },
  {
   "cell_type": "markdown",
   "metadata": {},
   "source": [
    "Then define a RAM port (legacy class constructs will suffice) and the actual RAM implementation:"
   ]
  },
  {
   "cell_type": "code",
   "execution_count": 3,
   "metadata": {},
   "outputs": [],
   "source": [
    "class RamPort:\n",
    "    _inputs = ['we', 'wa', 'ra', 'wd']\n",
    "    _outputs = ['rd']\n",
    "    _other = ['clk']\n",
    "    def __init__(self, AWIDTH, DWIDTH):\n",
    "        self.clk = ClkSignal()\n",
    "        self.we = Signal(bool())\n",
    "        self.ra, self.wa = [ Signal(intbv()[AWIDTH:]) for i in range(2) ]\n",
    "        self.rd, self.wd = [ Signal(intbv()[DWIDTH:]) for i in range(2) ] \n",
    "        \n",
    "@block\n",
    "def tdp_ram(pa, pb, INITDATA):\n",
    "    inst = []\n",
    " \n",
    "    def gen_logic(p, i):\n",
    "        \"Generate port mechanics inline\"\n",
    "        \n",
    "        rd = p.rd.clone(\"rd%d\" % i)\n",
    "        \n",
    "        @genprocess(p.clk, EDGE=p.clk.POS)\n",
    "        def proc():\n",
    "            yield [\n",
    "                proc.If(p.we == True).Then(\n",
    "                    buf[p.wa].set(p.wd)\n",
    "                ),\n",
    "                rd.set(buf[p.ra])\n",
    "            ]\n",
    "        proc.rename(\"proc%d\" % i)\n",
    "        wirings = [\n",
    "            p.rd.wireup(rd)\n",
    "        ]\n",
    "        return proc, wirings\n",
    "\n",
    "    buf = RamBuffer(INITDATA)\n",
    "    \n",
    "    for i, p in enumerate([pa, pb]):\n",
    "        inst += (gen_logic(p, i))\n",
    "    \n",
    "    return inst"
   ]
  },
  {
   "cell_type": "markdown",
   "metadata": {},
   "source": [
    "### Basic checks\n",
    "\n",
    "Verify we can evaluate the content:"
   ]
  },
  {
   "cell_type": "code",
   "execution_count": 4,
   "metadata": {},
   "outputs": [
    {
     "data": {
      "text/plain": [
       "intbv(138)"
      ]
     },
     "execution_count": 4,
     "metadata": {},
     "output_type": "execute_result"
    }
   ],
   "source": [
    "a = RamBuffer([intbv(i + 0x80)[8:] for i in range(200) ])\n",
    "b = Signal(intbv(10)[5:])\n",
    "a[b].evaluate()"
   ]
  },
  {
   "cell_type": "code",
   "execution_count": 5,
   "metadata": {},
   "outputs": [
    {
     "data": {
      "text/plain": [
       "intbv(128)"
      ]
     },
     "execution_count": 5,
     "metadata": {},
     "output_type": "execute_result"
    }
   ],
   "source": [
    "a[0].wire"
   ]
  },
  {
   "cell_type": "code",
   "execution_count": 6,
   "metadata": {},
   "outputs": [],
   "source": [
    "from myirl import targets\n",
    "from myirl.test.common_test import run_ghdl, run_icarus\n",
    "\n",
    "random.seed(0)\n",
    "\n",
    "def test_vhdl():\n",
    "    RAM_CONTENT = [ intbv(random.randint(0, 2 ** 9))[8:] for i in range(2 ** 9) ]\n",
    "    pa, pb = [ RamPort(AWIDTH=9, DWIDTH=8) for i in range(2) ]\n",
    "    inst = tdp_ram(pa, pb, RAM_CONTENT)\n",
    "    \n",
    "    f = inst.elab(targets.VHDL)\n",
    "    run_ghdl(f, inst, std = \"93\", debug = True) # Note we run with std '93'\n",
    "    return f"
   ]
  },
  {
   "cell_type": "code",
   "execution_count": 7,
   "metadata": {},
   "outputs": [
    {
     "name": "stdout",
     "output_type": "stream",
     "text": [
      "Adding INITDATA to port dict (fallback)\n",
      " Writing 'tdp_ram' to file /tmp/myirl_tdp_ram__tfeq0gj/tdp_ram.vhdl \n"
     ]
    }
   ],
   "source": [
    "f = test_vhdl()"
   ]
  },
  {
   "cell_type": "code",
   "execution_count": 9,
   "metadata": {},
   "outputs": [
    {
     "name": "stdout",
     "output_type": "stream",
     "text": [
      "architecture MyIRL of tdp_ram is\n",
      "    -- Local type declarations\n",
      "    -- Signal declarations\n",
      "    signal s_dd84 : unsigned(7 downto 0);\n",
      "    type a_v_f773 is array (0 to 511) of unsigned(7 downto 0);\n",
      "    shared variable v_f773 : a_v_f773;\n",
      "    signal s_ce16 : unsigned(7 downto 0);\n",
      "begin\n",
      "    \n",
      "proc0:\n",
      "    process(pa_clk)\n",
      "    begin\n",
      "        if rising_edge(pa_clk) then\n",
      "            if (pa_we = '1') then\n",
      "                v_f773(to_integer(pa_wa)) := pa_wd;\n",
      "            end if;\n",
      "            s_dd84 <= v_f773(to_integer(pa_ra));\n",
      "        end if;\n",
      "    end process;\n",
      "    pa_rd <= s_dd84;\n",
      "    \n",
      "--\n",
      "end architecture MyIRL;\n",
      "\n"
     ]
    }
   ],
   "source": [
    "! grep -A 20 MyIRL {f[0]}"
   ]
  },
  {
   "cell_type": "markdown",
   "metadata": {},
   "source": [
    "## Verilog variant\n",
    "\n",
    "The same design translated to Verilog, run through a syntax check only."
   ]
  },
  {
   "cell_type": "code",
   "execution_count": 8,
   "metadata": {},
   "outputs": [],
   "source": [
    "def test_verilog():\n",
    "    RAM_CONTENT = [ intbv(random.randint(0, 2 ** 9))[8:] for i in range(2 ** 9) ]\n",
    "    pa, pb = [ RamPort(AWIDTH=9, DWIDTH=8) for i in range(2) ]\n",
    "    inst = tdp_ram(pa, pb, RAM_CONTENT)\n",
    "    \n",
    "    f = inst.elab(targets.Verilog)\n",
    "    run_icarus(f, inst, debug = True)\n",
    "    return f"
   ]
  },
  {
   "cell_type": "code",
   "execution_count": 10,
   "metadata": {},
   "outputs": [
    {
     "name": "stdout",
     "output_type": "stream",
     "text": [
      "Adding INITDATA to port dict (fallback)\n",
      "\u001b[32m Module tdp_ram: Existing instance tdp_ram, rename to tdp_ram_1 \u001b[0m\n",
      " Writing 'tdp_ram_1' to file /tmp/myirl_tdp_ram_krcneh2w/tdp_ram_1.v \n",
      "DEBUG SKIP INST [pa_rd <= s_8a50] <class 'list'>\n",
      "DEBUG SKIP INST [pb_rd <= s_9a6a] <class 'list'>\n"
     ]
    }
   ],
   "source": [
    "f = test_verilog()"
   ]
  },
  {
   "cell_type": "code",
   "execution_count": 11,
   "metadata": {},
   "outputs": [
    {
     "name": "stdout",
     "output_type": "stream",
     "text": [
      "// File generated from source:\n",
      "//     /tmp/ipykernel_2176/330155752.py\n",
      "// (c) 2016-2022 section5.ch\n",
      "// Modifications may be lost, edit the source file instead.\n",
      "\n",
      "`timescale 1 ns / 1 ps\n",
      "`include \"aux.v\"\n",
      "\n",
      "module tdp_ram_1\n",
      "    (\n",
      "        input  pa_clk,\n",
      "        input  pa_we,\n",
      "        input [8:0] pa_ra,\n",
      "        input [8:0] pa_wa,\n",
      "        output [7:0] pa_rd,\n",
      "        input [7:0] pa_wd,\n",
      "        input  pb_clk,\n",
      "        input  pb_we,\n",
      "        input [8:0] pb_ra,\n",
      "        input [8:0] pb_wa,\n",
      "        output [7:0] pb_rd,\n",
      "        input [7:0] pb_wd\n",
      "    );\n",
      "    // Local type declarations\n",
      "    // Signal declarations\n",
      "    reg [7:0] s_8a50;\n",
      "    // Dummy array definition v_8c25\n",
      "    reg [7:0] v_8c25[0:511];\n",
      "    reg [7:0] s_9a6a;\n",
      "    always @ (posedge pa_clk ) begin : PROC0\n",
      "        if ((pa_we == 1'b1)) begin\n",
      "            v_8c25[pa_wa] <= pa_wd;\n",
      "        end\n",
      "        s_8a50 <= v_8c25[pa_ra];\n",
      "    end\n",
      "    assign pa_rd = s_8a50;\n",
      "    always @ (posedge pb_clk ) begin : PROC1\n",
      "        if ((pb_we == 1'b1)) begin\n",
      "            v_8c25[pb_wa] <= pb_wd;\n",
      "        end\n",
      "        s_9a6a <= v_8c25[pb_ra];\n",
      "    end\n",
      "    assign pb_rd = s_9a6a;\n",
      "endmodule // tdp_ram_1\n"
     ]
    }
   ],
   "source": [
    "!cat {f[0]}"
   ]
  }
 ],
 "metadata": {
  "kernelspec": {
   "display_name": "Python 3 (ipykernel)",
   "language": "python",
   "name": "python3"
  },
  "language_info": {
   "codemirror_mode": {
    "name": "ipython",
    "version": 3
   },
   "file_extension": ".py",
   "mimetype": "text/x-python",
   "name": "python",
   "nbconvert_exporter": "python",
   "pygments_lexer": "ipython3",
   "version": "3.9.2"
  }
 },
 "nbformat": 4,
 "nbformat_minor": 4
}

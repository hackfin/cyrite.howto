{
 "cells": [
  {
   "cell_type": "markdown",
   "metadata": {},
   "source": [
    "# Memory\n",
    "\n",
    "Describing memory and getting it synthesized correcly is cumbersome.\n",
    "Therefore, this will only demonstrate a simple approach to generate memory using the intermediate representation language dialect (IRL).\n",
    "This modification enables shared variable output for VHDL to support true dual port behaviour.\n",
    "The general strategy with the MyIRL synthesis is to use a blackbox element (rely on the library)"
   ]
  },
  {
   "cell_type": "code",
   "execution_count": 1,
   "metadata": {},
   "outputs": [
    {
     "name": "stderr",
     "output_type": "stream",
     "text": [
      "<frozen importlib._bootstrap>:219: RuntimeWarning: myirl.kernel.convertible.BinOp size changed, may indicate binary incompatibility. Expected 16 from C header, got 32 from PyObject\n",
      "<frozen importlib._bootstrap>:219: RuntimeWarning: myirl.kernel.convertible.BoolOp size changed, may indicate binary incompatibility. Expected 16 from C header, got 32 from PyObject\n",
      "<frozen importlib._bootstrap>:219: RuntimeWarning: myirl.kernel.convertible.Eq size changed, may indicate binary incompatibility. Expected 16 from C header, got 32 from PyObject\n",
      "<frozen importlib._bootstrap>:219: RuntimeWarning: myirl.kernel.convertible.And size changed, may indicate binary incompatibility. Expected 16 from C header, got 48 from PyObject\n",
      "<frozen importlib._bootstrap>:219: RuntimeWarning: myirl.kernel.convertible.Or size changed, may indicate binary incompatibility. Expected 16 from C header, got 48 from PyObject\n",
      "<frozen importlib._bootstrap>:219: RuntimeWarning: myirl.kernel.convertible.Not size changed, may indicate binary incompatibility. Expected 16 from C header, got 24 from PyObject\n"
     ]
    }
   ],
   "source": [
    "from myhdl import intbv\n",
    "from myirl import *\n",
    "import random\n",
    "\n",
    "import sys\n",
    "sys.path.append('../')\n"
   ]
  },
  {
   "cell_type": "markdown",
   "metadata": {},
   "source": [
    "## Dual port memories\n",
    "\n",
    "We can not use a `SigArray` for the RAM, because a true dual port RAM would provoke unresolved multiple drivers.\n",
    "Therefore we hack the `myirl.lists.SigArray` class by deriving and choosing a different element in return of the `__getitem__` member which uses a shared variable.\n",
    "\n",
    "**Note** Not working in VHDL-2008"
   ]
  },
  {
   "cell_type": "code",
   "execution_count": 2,
   "metadata": {},
   "outputs": [],
   "source": [
    "from myirl import lists\n",
    "from myirl.kernel import extensions, utils\n",
    "\n",
    "from myirl import targets\n",
    "\n",
    "class CellAssign:\n",
    "    def __init__(self, parent, portion, val, width):\n",
    "        self._vref = parent\n",
    "        self.portion = portion\n",
    "        self.value = val\n",
    "        self.width = width\n",
    "        \n",
    "    def emit(self, context):\n",
    "        tgt = context.target\n",
    "        if tgt.lang != 'VHDL':\n",
    "            raise TypeError(\"Unsupported target %s\" % type(tgt))\n",
    "        n, v = self._vref.identifier, self.value\n",
    "        p = self.portion\n",
    "        sz = self.width\n",
    "        context.output(\"%s(to_integer(%s)) := %s;\\n\" % (n, p, base.convert(v, tgt, sz)))        \n",
    "\n",
    "class ArrayElem(lists.SigArrayElem):\n",
    "    decl_type_vhdl = \"shared variable\"\n",
    "    \n",
    "    def set(self, val):\n",
    "        w = self.default().size()\n",
    "        return CellAssign(self.seq, self.index, val, w)\n",
    "\n",
    "class RamBuffer(lists.SigArray):    \n",
    "    def __getitem__(self, item):\n",
    "        if isinstance(item, (Sig, int)):\n",
    "            # We can not just return self.val[item], as the iterator\n",
    "            # has not initialized yet.\n",
    "            return ArrayElem(self, item)\n",
    "        else:\n",
    "            raise TypeError(\"Multi item slicing of iterator not supported\")"
   ]
  },
  {
   "cell_type": "code",
   "execution_count": 3,
   "metadata": {},
   "outputs": [],
   "source": [
    "class RamPort:\n",
    "    __slots__ = ('clk', 'we', 'ra', 'wa', 'rd', 'wd')\n",
    "    def __init__(self, AWIDTH, DWIDTH):\n",
    "        self.clk = ClkSignal()\n",
    "        self.we = Signal(bool())\n",
    "        self.ra, self.wa = [ Signal(intbv()[AWIDTH:]) for i in range(2) ]\n",
    "        self.rd, self.wd = [ Signal(intbv()[DWIDTH:]) for i in range(2) ] \n",
    "        \n",
    "@block\n",
    "def tdp_ram(pa, pb, INITDATA):\n",
    "    inst = []\n",
    " \n",
    "    def gen_logic(p, i):\n",
    "        \"Generate port mechanics inline\"\n",
    "        @process(p.clk, EDGE=p.clk.POS)\n",
    "        def proc(_logic):\n",
    "            _logic += [\n",
    "                _logic.If(p.we == True).Then(\n",
    "                    buf[p.wa].set(p.wd)\n",
    "                ),\n",
    "                p.rd.set(buf[p.ra])\n",
    "            ]\n",
    "        proc.rename(\"proc%d\" % i)\n",
    "        return proc\n",
    "\n",
    "    buf = RamBuffer(INITDATA)\n",
    "    \n",
    "    for i, p in enumerate([pa, pb]):\n",
    "        inst.append(gen_logic(p, i))\n",
    "    \n",
    "    return inst"
   ]
  },
  {
   "cell_type": "code",
   "execution_count": 4,
   "metadata": {},
   "outputs": [],
   "source": [
    "from myirl import targets\n",
    "from myirl.test.common_test import run_ghdl\n",
    "\n",
    "random.seed(0)\n",
    "\n",
    "def test():\n",
    "    RAM_CONTENT = [ intbv(random.randint(0, 2 ** 9))[8:] for i in range(2 ** 9) ]\n",
    "    pa, pb = [ RamPort(AWIDTH=9, DWIDTH=8) for i in range(2) ]\n",
    "    inst = tdp_ram(pa, pb, RAM_CONTENT)\n",
    "    \n",
    "    f = inst.elab(targets.VHDL)\n",
    "    run_ghdl(f, inst, std = \"93\", debug = True) # Note we run with std '93'"
   ]
  },
  {
   "cell_type": "code",
   "execution_count": 5,
   "metadata": {},
   "outputs": [
    {
     "name": "stdout",
     "output_type": "stream",
     "text": [
      "Creating process 'gen_logic/proc' with sensitivity (<pa_clk>,)\n",
      "Creating process 'gen_logic/proc' with sensitivity (<pb_clk>,)\n",
      "\u001b[32m Insert unit tdp_ram/__RamPort____RamPort____list__ \u001b[0m\n",
      " DEBUG: Writing 'tdp_ram' to file /tmp/tdp_ram.vhdl \n",
      "Finished _elab in 0.0027 secs\n",
      "==== COSIM stdout ====\n",
      "\n",
      "==== COSIM stderr ====\n",
      "\n",
      "==== COSIM stdout ====\n",
      "analyze /home/testing/.local/lib/python3.8/site-packages/myirl-0.0.0-py3.8-linux-x86_64.egg/myirl/targets/../test/vhdl/txt_util.vhdl\n",
      "analyze /home/testing/.local/lib/python3.8/site-packages/myirl-0.0.0-py3.8-linux-x86_64.egg/myirl/targets/libmyirl.vhdl\n",
      "analyze /tmp/tdp_ram.vhdl\n",
      "elaborate tdp_ram\n",
      "\n",
      "==== COSIM stderr ====\n",
      "\n",
      "==== COSIM stdout ====\n",
      "\n",
      "==== COSIM stderr ====\n",
      "\n"
     ]
    }
   ],
   "source": [
    "test()"
   ]
  },
  {
   "cell_type": "code",
   "execution_count": 6,
   "metadata": {},
   "outputs": [
    {
     "name": "stdout",
     "output_type": "stream",
     "text": [
      "architecture MyIRL of tdp_ram is\r\n",
      "    -- Local type declarations\r\n",
      "    -- Signal declarations\r\n",
      "    type a_s_1187 is array (0 to 511) of unsigned(7 downto 0);\r\n",
      "    shared variable s_1187 : a_s_1187 := (\r\n",
      "        x\"8a\",x\"ae\",x\"29\",x\"09\",x\"f1\",x\"9e\",x\"36\",x\"e8\",x\"6e\",x\"df\",\r\n",
      "        x\"8e\",x\"20\",x\"8f\",x\"61\",x\"00\",x\"96\",x\"3d\",x\"65\",x\"4b\",x\"52\",\r\n",
      "        x\"e3\",x\"67\",x\"6a\",x\"bc\",x\"43\",x\"d1\",x\"e8\",x\"c5\",x\"0a\",x\"3f\",\r\n",
      "        x\"0e\",x\"5f\",x\"98\",x\"01\",x\"f9\",x\"55\",x\"f9\",x\"4d\",x\"40\",x\"c3\",\r\n",
      "        x\"e3\",x\"f4\",x\"91\",x\"ca\",x\"5d\",x\"52\",x\"47\",x\"f5\",x\"6f\",x\"34\",\r\n",
      "        x\"2a\",x\"7f\",x\"54\",x\"d0\",x\"26\",x\"c7\",x\"5d\",x\"8a\",x\"44\",x\"f7\",\r\n",
      "        x\"29\",x\"bc\",x\"c1\",x\"bf\",x\"21\",x\"0a\",x\"e7\",x\"46\",x\"5b\",x\"85\",\r\n",
      "        x\"99\",x\"27\",x\"52\",x\"90\",x\"1a\",x\"f1\",x\"dc\",x\"ad\",x\"19\",x\"cd\",\r\n",
      "        x\"f8\",x\"6d\",x\"54\",x\"4c\",x\"76\",x\"f2\",x\"57\",x\"c2\",x\"f8\",x\"10\",\r\n",
      "        x\"15\",x\"77\",x\"e1\",x\"7c\",x\"ae\",x\"54\",x\"b4\",x\"3f\",x\"67\",x\"95\",\r\n",
      "        x\"e0\",x\"2e\",x\"4b\",x\"1b\",x\"7f\",x\"c1\",x\"7a\",x\"90\",x\"5d\",x\"7b\",\r\n",
      "        x\"76\",x\"25\",x\"16\",x\"c7\",x\"bd\",x\"7e\",x\"ea\",x\"d7\",x\"3e\",x\"17\",\r\n",
      "        x\"b3\",x\"67\",x\"0a\",x\"47\",x\"e2\",x\"49\",x\"34\",x\"66\",x\"be\",x\"b8\",\r\n",
      "        x\"3e\",x\"de\",x\"28\",x\"67\",x\"90\",x\"cc\",x\"0a\",x\"6f\",x\"e1\",x\"ad\",\r\n",
      "        x\"d0\",x\"3b\",x\"a2\",x\"a5\",x\"5e\",x\"00\",x\"78\",x\"c4\",x\"b3\",x\"0d\",\r\n",
      "        x\"e2\",x\"a3\",x\"3e\",x\"6d\",x\"8d\",x\"00\",x\"9d\",x\"0c\",x\"d4\",x\"50\",\r\n",
      "--\r\n",
      "end architecture MyIRL;\r\n",
      "\r\n"
     ]
    }
   ],
   "source": [
    "! grep -A 20 MyIRL /tmp/tdp_ram.vhdl "
   ]
  }
 ],
 "metadata": {
  "kernelspec": {
   "display_name": "Python 3",
   "language": "python",
   "name": "python3"
  },
  "language_info": {
   "codemirror_mode": {
    "name": "ipython",
    "version": 3
   },
   "file_extension": ".py",
   "mimetype": "text/x-python",
   "name": "python",
   "nbconvert_exporter": "python",
   "pygments_lexer": "ipython3",
   "version": "3.8.5"
  }
 },
 "nbformat": 4,
 "nbformat_minor": 4
}

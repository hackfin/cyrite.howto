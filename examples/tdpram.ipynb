{
 "cells": [
  {
   "cell_type": "markdown",
   "metadata": {},
   "source": [
    "# Memory\n",
    "\n",
    "Describing memory and getting it synthesized correcly is cumbersome.\n",
    "Therefore, this will only demonstrate a simple approach to generate memory using the intermediate representation language dialect (IRL).\n",
    "This modification enables shared variable output for VHDL to support true dual port behaviour.\n",
    "The general strategy with the MyIRL synthesis is to use a blackbox element (rely on the library)"
   ]
  },
  {
   "cell_type": "code",
   "execution_count": 1,
   "metadata": {},
   "outputs": [],
   "source": [
    "from myhdl import intbv\n",
    "from myirl import *\n",
    "import random"
   ]
  },
  {
   "cell_type": "markdown",
   "metadata": {},
   "source": [
    "## Dual port memories\n",
    "\n",
    "We can not use a `SigArray` for the RAM, because a true dual port RAM would provoke unresolved multiple drivers.\n",
    "Therefore we hack the `myirl.lists.SigArray` class by deriving and choosing a different element in return of the `__getitem__` member which uses a shared variable.\n",
    "\n",
    "**Note** Not working in VHDL-2008"
   ]
  },
  {
   "cell_type": "code",
   "execution_count": 2,
   "metadata": {},
   "outputs": [],
   "source": [
    "from myirl import lists\n",
    "from myirl.kernel import extensions, utils\n",
    "\n",
    "from myirl import targets\n",
    "\n",
    "class CellAssign:\n",
    "    def __init__(self, parent, portion, val, width):\n",
    "        self._vref = parent\n",
    "        self.portion = portion\n",
    "        self.value = val\n",
    "        self.width = width\n",
    "        \n",
    "    def emit(self, context):\n",
    "        tgt = context.target\n",
    "        if tgt.lang != 'VHDL':\n",
    "            raise TypeError(\"Unsupported target %s\" % type(tgt))\n",
    "        n, v = self._vref.identifier, self.value\n",
    "        sz = self.width\n",
    "        ps = self.portion.convert(tgt)\n",
    "        context.output(\"%s(to_integer(%s)) := %s;\\n\" % (n, ps, base.convert(v, tgt, sz)))        \n",
    "\n",
    "class ArrayElem(lists.SigIndexed):\n",
    "    decl_type_vhdl = \"shared variable\"\n",
    "    \n",
    "    def set(self, val):\n",
    "        w = self.size()\n",
    "        return CellAssign(self.seq, self.index, val, w)\n",
    "\n",
    "class RamBuffer(lists.SigArray):    \n",
    "    def __getitem__(self, item):\n",
    "        if isinstance(item, (Sig, int)):\n",
    "            # We can not just return self.val[item], as the iterator\n",
    "            # has not initialized yet.\n",
    "            return ArrayElem(self, item)\n",
    "        else:\n",
    "            raise TypeError(\"Multi item slicing of iterator not supported\")"
   ]
  },
  {
   "cell_type": "code",
   "execution_count": 3,
   "metadata": {},
   "outputs": [],
   "source": [
    "from myirl.library.bulksignals import bulkwrapper\n",
    "\n",
    "@bulkwrapper(targets.vhdl, TYPE='inout')\n",
    "class RamPort:\n",
    "    _inputs = ['we', 'wa', 'ra', 'wd']\n",
    "    _outputs = ['rd']\n",
    "    _other = ['clk']\n",
    "    def __init__(self, AWIDTH, DWIDTH):\n",
    "        self.clk = ClkSignal()\n",
    "        self.we = Signal(bool())\n",
    "        self.ra, self.wa = [ Signal(intbv()[AWIDTH:]) for i in range(2) ]\n",
    "        self.rd, self.wd = [ Signal(intbv()[DWIDTH:]) for i in range(2) ] \n",
    "        \n",
    "@block\n",
    "def tdp_ram(pa, pb, INITDATA):\n",
    "    inst = []\n",
    " \n",
    "    def gen_logic(p, i):\n",
    "        \"Generate port mechanics inline\"\n",
    "        @genprocess(p.clk, EDGE=p.clk.POS)\n",
    "        def proc():\n",
    "            yield [\n",
    "                proc.If(p.we == True).Then(\n",
    "                    buf[p.wa].set(p.wd)\n",
    "                ),\n",
    "                p.rd.set(buf[p.ra])\n",
    "            ]\n",
    "        proc.rename(\"proc%d\" % i)\n",
    "        return proc\n",
    "\n",
    "    buf = RamBuffer(INITDATA)\n",
    "    \n",
    "    for i, p in enumerate([pa, pb]):\n",
    "        inst.append(gen_logic(p, i))\n",
    "    \n",
    "    return inst"
   ]
  },
  {
   "cell_type": "code",
   "execution_count": 4,
   "metadata": {},
   "outputs": [],
   "source": [
    "@block\n",
    "def tb(RAM_CONTENT):\n",
    "    pa, pb = [ RamPort(AWIDTH=9, DWIDTH=8, name=n) for n in ['A', 'B'] ]\n",
    "    inst = tdp_ram(pa, pb, RAM_CONTENT)\n",
    "\n",
    "    return instances()"
   ]
  },
  {
   "cell_type": "code",
   "execution_count": 5,
   "metadata": {},
   "outputs": [],
   "source": [
    "from myirl import targets\n",
    "from myirl.test.common_test import run_ghdl\n",
    "\n",
    "random.seed(0)\n",
    "\n",
    "def test():\n",
    "    RAM_CONTENT = [ intbv(random.randint(0, 2 ** 9))[8:] for i in range(2 ** 9) ]\n",
    "    inst = tb(RAM_CONTENT)\n",
    "    \n",
    "    f = inst.elab(targets.VHDL, elab_all = True)\n",
    "    run_ghdl(f, inst, std = \"93\", debug = True) # Note we run with std '93'"
   ]
  },
  {
   "cell_type": "code",
   "execution_count": 6,
   "metadata": {},
   "outputs": [
    {
     "name": "stdout",
     "output_type": "stream",
     "text": [
      "VHDL target: REGISTERING `RamPort_9_8_in` <class 'myirl.library.bulksignals.RamPort_9_8_in'>\n",
      "VHDL target: REGISTERING `RamPort_9_8_out` <class 'myirl.library.bulksignals.RamPort_9_8_out'>\n",
      "VHDL target: REGISTERING `RamPort_9_8_aux` <class 'myirl.library.bulksignals.RamPort_9_8_aux'>\n",
      " Writing 'tdp_ram' to file /tmp/myirlee9itc_u/tdp_ram.vhdl \n",
      "Finished _elab in 0.0009 secs\n",
      " Writing 'tb' to file /tmp/myirlee9itc_u/tb.vhdl \n",
      "Finished _elab in 0.0007 secs\n",
      " Creating library file /tmp/myirluqw25xdi/module_defs.vhdl \n",
      "==== COSIM stdout ====\n",
      "\n",
      "==== COSIM stderr ====\n",
      "\n",
      "==== COSIM stdout ====\n",
      "analyze /home/testing/.local/lib/python3.10/site-packages/myirl-0.0.0-py3.10-linux-x86_64.egg/myirl/targets/../test/vhdl/txt_util.vhdl\n",
      "analyze /home/testing/.local/lib/python3.10/site-packages/myirl-0.0.0-py3.10-linux-x86_64.egg/myirl/targets/libmyirl.vhdl\n",
      "analyze /tmp/myirluqw25xdi/module_defs.vhdl\n",
      "analyze /tmp/myirlee9itc_u/tdp_ram.vhdl\n",
      "analyze /tmp/myirlee9itc_u/tb.vhdl\n",
      "elaborate tb\n",
      "\n",
      "==== COSIM stderr ====\n",
      "\n",
      "==== COSIM stdout ====\n",
      "\n",
      "==== COSIM stderr ====\n",
      "\n"
     ]
    }
   ],
   "source": [
    "test()"
   ]
  },
  {
   "cell_type": "code",
   "execution_count": 7,
   "metadata": {},
   "outputs": [
    {
     "name": "stdout",
     "output_type": "stream",
     "text": [
      "     1\t-- File generated from /usr/local/lib/python3.10/runpy.py\n",
      "     2\t-- (c) 2016-2021 section5.ch\n",
      "     3\t-- Modifications may be lost\n",
      "     4\t\n",
      "     5\tlibrary IEEE;\n",
      "     6\tuse IEEE.std_logic_1164.all;\n",
      "     7\tuse IEEE.numeric_std.all;\n",
      "     8\t\n",
      "     9\tlibrary work;\n",
      "    10\t\n",
      "    11\tuse work.module_defs.all;\n",
      "    12\tuse work.txt_util.all;\n",
      "    13\tuse work.myirl_conversion.all;\n",
      "    14\t\n",
      "    15\tentity tdp_ram is\n",
      "    16\t    port (\n",
      "    17\t        pa_bulk0682_in : in t_RamPort_9_8_in;\n",
      "    18\t        pa_bulk0682_out : out t_RamPort_9_8_out;\n",
      "    19\t        pa_bulk0682_aux : in t_RamPort_9_8_aux;\n",
      "    20\t        pb_bulk04c3_in : in t_RamPort_9_8_in;\n",
      "    21\t        pb_bulk04c3_out : out t_RamPort_9_8_out;\n",
      "    22\t        pb_bulk04c3_aux : in t_RamPort_9_8_aux\n",
      "    23\t    );\n",
      "    24\tend entity tdp_ram;\n",
      "    25\t\n",
      "    26\tarchitecture MyIRL of tdp_ram is\n",
      "    27\t    -- Local type declarations\n",
      "    28\t    -- Signal declarations\n",
      "    29\t    type a_s_3104 is array (0 to 511) of unsigned(7 downto 0);\n",
      "    30\t    shared variable s_3104 : a_s_3104;\n",
      "    31\tbegin\n",
      "    32\t    \n",
      "    33\tproc0:\n",
      "    34\t    process(pa_bulk0682_aux.clk)\n",
      "    35\t    begin\n",
      "    36\t        if rising_edge(pa_bulk0682_aux.clk) then\n",
      "    37\t            if (pa_bulk0682_in.we = '1') then\n",
      "    38\t                s_3104(to_integer(pa_bulk0682_in.wa)) := pa_bulk0682_in.wd;\n",
      "    39\t            end if;\n",
      "    40\t            pa_bulk0682_out.rd <= s_3104(to_integer(pa_bulk0682_in.ra));\n",
      "    41\t        end if;\n",
      "    42\t    end process;\n",
      "    43\t    \n",
      "    44\tproc1:\n",
      "    45\t    process(pb_bulk04c3_aux.clk)\n",
      "    46\t    begin\n",
      "    47\t        if rising_edge(pb_bulk04c3_aux.clk) then\n",
      "    48\t            if (pb_bulk04c3_in.we = '1') then\n",
      "    49\t                s_3104(to_integer(pb_bulk04c3_in.wa)) := pb_bulk04c3_in.wd;\n",
      "    50\t            end if;\n",
      "    51\t            pb_bulk04c3_out.rd <= s_3104(to_integer(pb_bulk04c3_in.ra));\n",
      "    52\t        end if;\n",
      "    53\t    end process;\n",
      "    54\tend architecture MyIRL;\n",
      "    55\t\n"
     ]
    }
   ],
   "source": [
    "! cat -n {tdp_ram.ctx.path_prefix}/tdp_ram.vhdl "
   ]
  }
 ],
 "metadata": {
  "kernelspec": {
   "display_name": "Python 3 (ipykernel)",
   "language": "python",
   "name": "python3"
  },
  "language_info": {
   "codemirror_mode": {
    "name": "ipython",
    "version": 3
   },
   "file_extension": ".py",
   "mimetype": "text/x-python",
   "name": "python",
   "nbconvert_exporter": "python",
   "pygments_lexer": "ipython3",
   "version": "3.10.0"
  }
 },
 "nbformat": 4,
 "nbformat_minor": 4
}

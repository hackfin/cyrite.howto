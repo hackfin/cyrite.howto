{
 "cells": [
  {
   "cell_type": "markdown",
   "metadata": {},
   "source": [
    "# MyHDL Legacy code migration notes\n",
    "\n",
    "When migrating legacy code to myHDL.v2we, the thumb rules are:\n",
    "\n",
    "* **Hierarchical resolution and (optional) strict typing in place**\n",
    "* **Everything outside a hardware generator (see below) is executed and 'pythonic'**:\n",
    "  * IRL constructs allow references to logical combinations\n",
    "  * Everything instanced by a variable in the `@block` context is an instance, signal, or reference and may be resolved into\n",
    "    hardware\n",
    "* Turn global variables determining conditional compilation/translation into function parameters (before the `*` PEP570 construct)\n",
    "* Clean up boolean constructs (see [Boolean Logic operations](../notebooks/myhdl_changes.ipynb#Logic-operations)):\n",
    "  * Make sure to use boolean logic only within conditional statements\n",
    "  * Translate to binary logic operations when assigning to a signal (**MIND THE OPERATOR PRECEDENCE!**)\n",
    "* Turn `sig.next[i]` into `sig[i].next`, see [Member assignment](../notebooks/member_assignment.ipynb)\n",
    "* Clean up variable usage (see [Variable usage](#Variable-usage)):\n",
    "  * First occurence of a variable (within a generator context only) defines its data type\n",
    "  * Do not use variables where possible, rather reserve an auxiliary signal or use a reference (outside the generator)\n",
    "* Function interface:\n",
    "  * Use strict typing for port types and generics that should resolve to HDL\n",
    "  * `@block`s only allow dedicated inputs or outputs, no inout signals (except [TristateSignals](../notebooks/tristate.ipynb))\n",
    "  * Signals passed as output can not be read from (to be discussed, if that should change)\n",
    "* Handle class derival hierarchies:\n",
    "  * Classes containing signals only are resolved as in/out upon their driver state\n",
    "  * Strictly interface typed classes must be decorated, see [Class signals](../notebooks/myhdl_changes.ipynb#Class-signals)\n",
    "* Auxiliary functions must -- for now -- be translated to a hardware unit (TBD: @hdlfunction inference)\n",
    "\n",
    "\n",
    "As *hardware generators* in general are considered functions that are decorated using a\n",
    "\n",
    "* `@always`, `@always_comb`, `@always_seq`\n",
    "\n",
    "as opposed to simulation constructs not generating hardware in particular: `@instance`"
   ]
  },
  {
   "cell_type": "markdown",
   "metadata": {},
   "source": [
    "## Test unit\n",
    "\n",
    "The following block is a simple example to start from. Modifications of this base will exhibit a few pitfalls during migration. First, we import from `emulation`:"
   ]
  },
  {
   "cell_type": "code",
   "execution_count": 1,
   "metadata": {},
   "outputs": [],
   "source": [
    "from myirl.emulation.myhdl import *"
   ]
  },
  {
   "cell_type": "markdown",
   "metadata": {},
   "source": [
    "Then we define an auxiliary for cheap unit testing using VHDL-93 dialect and GHDL for reference testing:"
   ]
  },
  {
   "cell_type": "code",
   "execution_count": 2,
   "metadata": {},
   "outputs": [],
   "source": [
    "def test(uut, param = (), debug = False):\n",
    "    inst = uut(*param)\n",
    "    vhdl93 = targets.vhdl.VHDL93()\n",
    "    f = inst.elab(vhdl93, elab_all=True)\n",
    "    run_ghdl(f, inst, debug = debug, std = '93', vcdfile = inst.name + '.vcd')"
   ]
  },
  {
   "cell_type": "code",
   "execution_count": 3,
   "metadata": {},
   "outputs": [
    {
     "name": "stdout",
     "output_type": "stream",
     "text": [
      "Creating sequential 'unit/stim' \n",
      "\u001b[32m Insert unit unit \u001b[0m\n",
      " Writing 'unit' to file /tmp/unit.vhdl \n",
      "Finished _elab in 0.0008 secs\n",
      " Creating library file /tmp/module_defs.vhdl \n"
     ]
    }
   ],
   "source": [
    "@block\n",
    "def unit():\n",
    "    a = Signal(intbv(0xaa)[8:])\n",
    "    a.init = True\n",
    "    q = Signal(bool())\n",
    "\n",
    "    @instance\n",
    "    def stim():\n",
    "        q.next = False\n",
    "        if a[0] == True and a[1] == False and a[7] == False:  # True boolean evaluation\n",
    "            q.next = True\n",
    "            \n",
    "        yield delay(1)\n",
    "        assert q == False\n",
    "    \n",
    "    return instances()\n",
    "\n",
    "\n",
    "test(unit)"
   ]
  },
  {
   "cell_type": "markdown",
   "metadata": {},
   "source": [
    "### Variations\n",
    "\n",
    "Instead of creating an auxiliary signal, we can create references to signal combinations inside the `@block` context.\n",
    "However, this may create redundant code when resolving to a HDL, as the reference is a true Python IRL object."
   ]
  },
  {
   "cell_type": "code",
   "execution_count": 4,
   "metadata": {},
   "outputs": [
    {
     "name": "stdout",
     "output_type": "stream",
     "text": [
      "Creating sequential 'unit/stim' \n",
      "\u001b[32m Insert unit unit \u001b[0m\n",
      " Writing 'unit' to file /tmp/unit.vhdl \n",
      "Finished _elab in 0.0015 secs\n",
      " Creating library file /tmp/module_defs.vhdl \n",
      "==== COSIM stdout ====\n",
      "\n",
      "==== COSIM stderr ====\n",
      "\n",
      "==== COSIM stdout ====\n",
      "analyze /home/testing/.local/lib/python3.10/site-packages/myirl-0.0.0-py3.10-linux-x86_64.egg/myirl/targets/../test/vhdl/txt_util.vhdl\n",
      "analyze /home/testing/.local/lib/python3.10/site-packages/myirl-0.0.0-py3.10-linux-x86_64.egg/myirl/targets/libmyirl.vhdl\n",
      "analyze /tmp/unit.vhdl\n",
      "elaborate unit\n",
      "\n",
      "==== COSIM stderr ====\n",
      "\n",
      "==== COSIM stdout ====\n",
      "\n",
      "==== COSIM stderr ====\n",
      "\n"
     ]
    }
   ],
   "source": [
    "@block\n",
    "def unit():\n",
    "    a = Signal(intbv(0xaa)[8:])\n",
    "    a.init = True\n",
    "    p, q = [ Signal(bool()) for _ in range(2) ]\n",
    "    \n",
    "    z = (a[7] == True) & (a[6] == False) & (a[0] == True) # Reference to binary combination of boolean expressions\n",
    "    \n",
    "    zb = a[7] & ~a[6] & a[0]  # True binary combination\n",
    "    \n",
    "    zs = Signal(bool())\n",
    "    \n",
    "    # New wiring 'generator' construct:\n",
    "    wires = [\n",
    "        zs.set(zb)\n",
    "    ]\n",
    "\n",
    "    @instance\n",
    "    def stim():\n",
    "        q.next = False\n",
    "        p.next = True\n",
    "        \n",
    "        yield delay(1)\n",
    "        if a[7] == True and a[6] == False and a[0] == True:  # True boolean evaluation\n",
    "            q.next = True\n",
    "            \n",
    "        yield delay(1)\n",
    "            \n",
    "        if z:  # Evaluate reference\n",
    "            q.next = True\n",
    "            \n",
    "        yield delay(1)\n",
    "\n",
    "        if zb: # Evaluate binary op reference\n",
    "            q.next = True\n",
    "            \n",
    "        if zs == True: # Check signal\n",
    "            q.next = True\n",
    "            \n",
    "        yield delay(1)\n",
    "        assert q == False\n",
    "\n",
    "        a.next = 0xa1\n",
    "        yield delay(1)\n",
    "        p.next = z\n",
    "        yield delay(1)\n",
    "\n",
    "        assert p == True\n",
    "    \n",
    "    return instances()\n",
    "\n",
    "\n",
    "test(unit, debug = True)"
   ]
  },
  {
   "cell_type": "code",
   "execution_count": 5,
   "metadata": {},
   "outputs": [
    {
     "name": "stdout",
     "output_type": "stream",
     "text": [
      "     1\t-- File generated from /usr/local/lib/python3.10/runpy.py\n",
      "     2\t-- (c) 2016-2021 section5.ch\n",
      "     3\t-- Modifications may be lost\n",
      "     4\t\n",
      "     5\tlibrary IEEE;\n",
      "     6\tuse IEEE.std_logic_1164.all;\n",
      "     7\tuse IEEE.numeric_std.all;\n",
      "     8\t\n",
      "     9\tlibrary work;\n",
      "    10\t\n",
      "    11\tuse work.txt_util.all;\n",
      "    12\tuse work.myirl_conversion.all;\n",
      "    13\t\n",
      "    14\tentity unit is\n",
      "    15\tend entity unit;\n",
      "    16\t\n",
      "    17\tarchitecture MyIRL of unit is\n",
      "    18\t    -- Local type declarations\n",
      "    19\t    -- Signal declarations\n",
      "    20\t    signal q : std_ulogic;\n",
      "    21\t    signal p : std_ulogic;\n",
      "    22\t    signal a : unsigned(7 downto 0) := x\"aa\";\n",
      "    23\t    signal zs : std_ulogic;\n",
      "    24\tbegin\n",
      "    25\t    \n",
      "    26\tstim:\n",
      "    27\t    process\n",
      "    28\t    begin\n",
      "    29\t        q <= '0';\n",
      "    30\t        p <= '1';\n",
      "    31\t        wait for 1 ns;\n",
      "    32\t        if (((a(7) = '1') and (a(6) = '0')) and (a(0) = '1')) then\n",
      "    33\t            q <= '1';\n",
      "    34\t        end if;\n",
      "    35\t        wait for 1 ns;\n",
      "    36\t        if (((a(7) = '1') and (a(6) = '0')) and (a(0) = '1')) then\n",
      "    37\t            q <= '1';\n",
      "    38\t        end if;\n",
      "    39\t        wait for 1 ns;\n",
      "    40\t        if (((a(7) and not a(6)) and a(0)) = '1') then\n",
      "    41\t            q <= '1';\n",
      "    42\t        end if;\n",
      "    43\t        if (zs = '1') then\n",
      "    44\t            q <= '1';\n",
      "    45\t        end if;\n",
      "    46\t        wait for 1 ns;\n",
      "    47\t        assert (q = '0')\n",
      "    48\t            report \"Failed in /tmp/ipykernel_19600/752317941.py:unit():41\" severity failure;\n",
      "    49\t        a <= x\"a1\";\n",
      "    50\t        wait for 1 ns;\n",
      "    51\t        p <= from_bool((((a(7) = '1') and (a(6) = '0')) and (a(0) = '1')));\n",
      "    52\t        wait for 1 ns;\n",
      "    53\t        assert (p = '1')\n",
      "    54\t            report \"Failed in /tmp/ipykernel_19600/752317941.py:unit():48\" severity failure;\n",
      "    55\t        wait;\n",
      "    56\t    end process;\n",
      "    57\t    zs <= ((a(7) and not a(6)) and a(0));\n",
      "    58\tend architecture MyIRL;\n",
      "    59\t\n"
     ]
    }
   ],
   "source": [
    "!cat -n {unit.ctx.path_prefix}unit.vhdl"
   ]
  },
  {
   "cell_type": "markdown",
   "metadata": {},
   "source": [
    "## Variable usage"
   ]
  },
  {
   "cell_type": "markdown",
   "metadata": {},
   "source": [
    "Work in progress. For now, avoid complicated variable scenarios.\n",
    "\n",
    "* bool() types may not resolve to std_logic when mixed with signals\n",
    "* A `Variable` type assigned to `False` yields a boolean type in the resulting HDL, whereas\n",
    "  a `Signal(bool())` type assigned to a Python bool results in a `std_logic` output.\n",
    "  \n",
    "\n",
    "**Note** Do not try generating hardware with variables in general. Use signals where possible."
   ]
  },
  {
   "cell_type": "markdown",
   "metadata": {},
   "source": [
    "### Configuration variables\n",
    "\n",
    "Make sure to put variables that are supposed to be generic parameters past the `*` and ensure they are given either a default (when desired in the HDL output) or a type hint:"
   ]
  },
  {
   "cell_type": "code",
   "execution_count": 6,
   "metadata": {},
   "outputs": [
    {
     "name": "stdout",
     "output_type": "stream",
     "text": [
      "==============================\n",
      "Unparsing unit unit1\n",
      "==============================\n",
      "\n",
      "\n",
      "@block\n",
      "def unit1(a: Signal, b: Signal.Output, *, PARAM: bool=False):\n",
      "\n",
      "    @always_comb_\n",
      "    def worker():\n",
      "        (yield [If((a == 5)).Then(b.set(0)).Elif(PARAM).Then(b.set(1))])\n",
      "    return instances()\n",
      "\n"
     ]
    }
   ],
   "source": [
    "@block\n",
    "def unit1(a : Signal, b: Signal.Output, * , PARAM : bool = False):\n",
    "    @always_comb\n",
    "    def worker():\n",
    "        if a == 5:\n",
    "            b.next = 0\n",
    "        elif PARAM:\n",
    "            b.next = 1\n",
    "    return instances()\n",
    "print(unit1.unparse())\n",
    "\n",
    "@block\n",
    "def tb(unit):\n",
    "    a, b = (Signal(intbv()[5:]) for _ in range(2))\n",
    "    uut = unit(a, b, PARAM = True)\n",
    "    \n",
    "    return instances()"
   ]
  },
  {
   "cell_type": "code",
   "execution_count": 7,
   "metadata": {},
   "outputs": [
    {
     "name": "stdout",
     "output_type": "stream",
     "text": [
      "\u001b[7;34m Set parameter PARAM := True \u001b[0m\n",
      "\u001b[32m Insert unit unit1_s5_s5 \u001b[0m\n",
      "\u001b[32m Insert unit tb__wrapped_wrapper \u001b[0m\n",
      " Writing 'unit1' to file /tmp/unit1.vhdl \n",
      "Finished _elab in 0.0009 secs\n",
      " Writing 'tb' to file /tmp/tb.vhdl \n",
      "Finished _elab in 0.0007 secs\n",
      " Creating library file /tmp/module_defs.vhdl \n"
     ]
    }
   ],
   "source": [
    "test(tb, (unit1, ), debug = False)"
   ]
  },
  {
   "cell_type": "markdown",
   "metadata": {},
   "source": [
    "### Run-time parameter variant\n",
    "\n",
    "When `PARAM` is not separated by a `*`, it will not be inferred to HDL but resolved. This is used for conditional compilation."
   ]
  },
  {
   "cell_type": "code",
   "execution_count": 8,
   "metadata": {},
   "outputs": [],
   "source": [
    "@block\n",
    "def unit2(a : Signal, b: Signal.Output, PARAM : bool = False):\n",
    "    @always_comb\n",
    "    def worker():\n",
    "        if a == 5:\n",
    "            b.next = 0\n",
    "        elif PARAM:\n",
    "            b.next = 1\n",
    "    return instances()"
   ]
  },
  {
   "cell_type": "code",
   "execution_count": 9,
   "metadata": {},
   "outputs": [
    {
     "name": "stdout",
     "output_type": "stream",
     "text": [
      "\u001b[32m Module top_tb: Existing implementation tb, rename to tb_1 \u001b[0m\n",
      "\u001b[32m Insert unit unit2_s5_s5_1 \u001b[0m\n",
      "\u001b[32m Insert unit tb__wrapped_wrapper \u001b[0m\n",
      " Writing 'unit2' to file /tmp/unit2.vhdl \n",
      "Finished _elab in 0.0010 secs\n",
      " Writing 'tb_1' to file /tmp/tb_1.vhdl \n",
      "Finished _elab in 0.0010 secs\n",
      " Creating library file /tmp/module_defs.vhdl \n"
     ]
    }
   ],
   "source": [
    "test(tb, (unit2, ), debug = False)"
   ]
  },
  {
   "cell_type": "markdown",
   "metadata": {},
   "source": [
    "Note that `PARAM` is not converted into a `generic`, and occurences in the HDL code are resolved statically."
   ]
  },
  {
   "cell_type": "code",
   "execution_count": 10,
   "metadata": {},
   "outputs": [
    {
     "name": "stdout",
     "output_type": "stream",
     "text": [
      "-- File generated from /usr/local/lib/python3.10/runpy.py\n",
      "-- (c) 2016-2021 section5.ch\n",
      "-- Modifications may be lost\n",
      "\n",
      "library IEEE;\n",
      "use IEEE.std_logic_1164.all;\n",
      "use IEEE.numeric_std.all;\n",
      "\n",
      "library work;\n",
      "\n",
      "use work.txt_util.all;\n",
      "use work.myirl_conversion.all;\n",
      "\n",
      "entity unit2 is\n",
      "    port (\n",
      "        a : in unsigned(4 downto 0);\n",
      "        b : out unsigned(4 downto 0)\n",
      "    );\n",
      "end entity unit2;\n",
      "\n",
      "architecture MyIRL of unit2 is\n",
      "    -- Local type declarations\n",
      "    -- Signal declarations\n",
      "begin\n",
      "    \n",
      "worker:\n",
      "    process(a)\n",
      "    begin\n",
      "        if (a = \"00101\") then\n",
      "            b <= \"00000\";\n",
      "        elsif TRUE then\n",
      "            b <= \"00001\";\n",
      "        end if;\n",
      "    end process;\n",
      "\n",
      "end architecture MyIRL;\n",
      "\n"
     ]
    }
   ],
   "source": [
    "!cat {unit2.ctx.path_prefix}unit2.vhdl"
   ]
  }
 ],
 "metadata": {
  "kernelspec": {
   "display_name": "Python 3 (ipykernel)",
   "language": "python",
   "name": "python3"
  },
  "language_info": {
   "codemirror_mode": {
    "name": "ipython",
    "version": 3
   },
   "file_extension": ".py",
   "mimetype": "text/x-python",
   "name": "python",
   "nbconvert_exporter": "python",
   "pygments_lexer": "ipython3",
   "version": "3.10.0"
  }
 },
 "nbformat": 4,
 "nbformat_minor": 4
}

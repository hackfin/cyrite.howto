{
 "cells": [
  {
   "cell_type": "markdown",
   "metadata": {},
   "source": [
    "# MyHDL Legacy code migration notes\n",
    "\n",
    "When migrating legacy code to myHDL.v2we, the thumb rules are:\n",
    "\n",
    "* **Hierarchical resolution and (optional) strict typing in place**\n",
    "* **Everything outside a hardware generator (see below) is a reference**:\n",
    "  * IRL constructs allow references to logical combinations\n",
    "  * Everything instanced by a variable in the `@block` context is an instance, signal, or reference and may be resolved into\n",
    "    hardware\n",
    "* Clean up boolean constructs (see [Boolean Logic operations](../notebooks/myhdl_changes.ipynb#Logic-operations)):\n",
    "  * Make sure to use boolean logic only within conditional statements\n",
    "  * Translate to binary logic operations when assigning to a signal (**MIND THE OPERATOR PRECEDENCE!**)\n",
    "* Clean up variable usage (see [Variable usage](#Variable-usage)):\n",
    "  * First occurence of a variable (within a generator context only) defines its data type\n",
    "  * Do not use variables where possible, rather reserve an auxiliary signal or use a reference (outside the generator)\n",
    "* Function interface:\n",
    "  * Use strict typing for port types and generics that should resolve to HDL\n",
    "  * `@block`s only allow dedicated inputs or outputs, no inout signals\n",
    "  * Signals passed as output can not be read from (to be discussed, if that should change)\n",
    "* Auxiliary functions must -- for now -- be translated to a hardware unit (TBD: @hdlfunction inference)\n",
    "\n",
    "\n",
    "As *hardware generators* in general are considered functions that are decorated using a\n",
    "\n",
    "* `@always`, `@always_comb`, `@always_seq`\n",
    "\n",
    "as opposed to simulation constructs not generating hardware in particular: `@instance`\n",
    "\n",
    "MyHDL hardware generators are translated to the *IRL* -- intermediate representation language (which is just executable Python using a meta programming functional approach).\n",
    "\n",
    "To use MyHDL code in emulation mode:"
   ]
  },
  {
   "cell_type": "code",
   "execution_count": 1,
   "metadata": {},
   "outputs": [],
   "source": [
    "from myirl.emulation.myhdl import *"
   ]
  },
  {
   "cell_type": "markdown",
   "metadata": {},
   "source": [
    "Then we define an auxiliary for cheap unit testing using VHDL-93 dialect and GHDL for reference testing:"
   ]
  },
  {
   "cell_type": "code",
   "execution_count": 2,
   "metadata": {},
   "outputs": [],
   "source": [
    "def test(uut, debug = False):\n",
    "    inst = uut()\n",
    "    vhdl93 = targets.vhdl.VHDL93()\n",
    "    f = inst.elab(vhdl93, elab_all=True)\n",
    "    run_ghdl(f, inst, debug = debug, std = '93', vcdfile = inst.name + '.vcd')"
   ]
  },
  {
   "cell_type": "markdown",
   "metadata": {},
   "source": [
    "## Test unit\n",
    "\n",
    "The following block is a simple example to start from. Modifications of this base will exhibit a few pitfalls during migration:"
   ]
  },
  {
   "cell_type": "code",
   "execution_count": 3,
   "metadata": {},
   "outputs": [
    {
     "name": "stdout",
     "output_type": "stream",
     "text": [
      "Creating sequential 'unit/stim' \n",
      "\u001b[32m Insert unit unit \u001b[0m\n",
      " DEBUG: Writing 'unit' to file /tmp/unit.vhdl \n",
      "Finished _elab in 0.0028 secs\n",
      "DEBUG Creating library file /tmp/module_defs.vhdl\n"
     ]
    }
   ],
   "source": [
    "@block\n",
    "def unit():\n",
    "    a = Signal(intbv(0xaa)[8:])\n",
    "    a.init = True\n",
    "    q = Signal(bool())\n",
    "\n",
    "    @instance\n",
    "    def stim():\n",
    "        q.next = False\n",
    "        if a[0] == True and a[1] == False and a[7] == False:  # True boolean evaluation\n",
    "            q.next = True\n",
    "            \n",
    "        yield delay(1)\n",
    "        assert q == False\n",
    "    \n",
    "    return instances()\n",
    "\n",
    "\n",
    "test(unit)"
   ]
  },
  {
   "cell_type": "markdown",
   "metadata": {},
   "source": [
    "### Variations\n",
    "\n",
    "Instead of creating an auxiliary signal, we can create references to signal combinations inside the `@block` context.\n",
    "However, this may create redundant code when resolving to a HDL, as the reference is a true Python IRL object."
   ]
  },
  {
   "cell_type": "code",
   "execution_count": 4,
   "metadata": {},
   "outputs": [
    {
     "name": "stdout",
     "output_type": "stream",
     "text": [
      "Creating sequential 'unit/stim' \n",
      "\u001b[32m Insert unit unit \u001b[0m\n",
      " DEBUG: Writing 'unit' to file /tmp/unit.vhdl \n",
      "Finished _elab in 0.0355 secs\n",
      "DEBUG Creating library file /tmp/module_defs.vhdl\n",
      "==== COSIM stdout ====\n",
      "\n",
      "==== COSIM stderr ====\n",
      "\n",
      "==== COSIM stdout ====\n",
      "analyze /home/testing/.local/lib/python3.8/site-packages/myirl-0.0.0-py3.8-linux-x86_64.egg/myirl/targets/../test/vhdl/txt_util.vhdl\n",
      "analyze /home/testing/.local/lib/python3.8/site-packages/myirl-0.0.0-py3.8-linux-x86_64.egg/myirl/targets/libmyirl.vhdl\n",
      "analyze /tmp/unit.vhdl\n",
      "elaborate unit\n",
      "\n",
      "==== COSIM stderr ====\n",
      "\n",
      "==== COSIM stdout ====\n",
      "\n",
      "==== COSIM stderr ====\n",
      "\n"
     ]
    }
   ],
   "source": [
    "@block\n",
    "def unit():\n",
    "    a = Signal(intbv(0xaa)[8:])\n",
    "    a.init = True\n",
    "    p, q = [ Signal(bool()) for _ in range(2) ]\n",
    "    \n",
    "    z = (a[7] == True) & (a[6] == False) & (a[0] == True) # Reference to binary combination of boolean expressions\n",
    "    \n",
    "    zb = a[7] & ~a[6] & a[0]  # True binary combination\n",
    "    \n",
    "    zs = Signal(bool())\n",
    "    \n",
    "    # New wiring 'generator' construct:\n",
    "    wires = [\n",
    "        zs.set(zb)\n",
    "    ]\n",
    "\n",
    "    @instance\n",
    "    def stim():\n",
    "        q.next = False\n",
    "        p.next = True\n",
    "        \n",
    "        yield delay(1)\n",
    "        if a[7] == True and a[6] == False and a[0] == True:  # True boolean evaluation\n",
    "            q.next = True\n",
    "            \n",
    "        yield delay(1)\n",
    "            \n",
    "        if z:  # Evaluate reference\n",
    "            q.next = True\n",
    "            \n",
    "        yield delay(1)\n",
    "\n",
    "        if zb: # Evaluate binary op reference\n",
    "            q.next = True\n",
    "            \n",
    "        if zs == True: # Check signal\n",
    "            q.next = True\n",
    "            \n",
    "        yield delay(1)\n",
    "        assert q == False\n",
    "\n",
    "        a.next = 0xa1\n",
    "        yield delay(1)\n",
    "        p.next = z\n",
    "        yield delay(1)\n",
    "\n",
    "        assert p == True\n",
    "    \n",
    "    return instances()\n",
    "\n",
    "\n",
    "test(unit, debug = True)"
   ]
  },
  {
   "cell_type": "code",
   "execution_count": 5,
   "metadata": {},
   "outputs": [
    {
     "name": "stdout",
     "output_type": "stream",
     "text": [
      "     1\t-- File generated from /usr/local/lib/python3.8/runpy.py\n",
      "     2\t-- (c) 2016-2021 section5.ch\n",
      "     3\t-- Modifications may be lost\n",
      "     4\t\n",
      "     5\tlibrary IEEE;\n",
      "     6\tuse IEEE.std_logic_1164.all;\n",
      "     7\tuse IEEE.numeric_std.all;\n",
      "     8\t\n",
      "     9\tlibrary work;\n",
      "    10\t\n",
      "    11\tuse work.txt_util.all;\n",
      "    12\tuse work.myirl_conversion.all;\n",
      "    13\t\n",
      "    14\tentity unit is\n",
      "    15\tend entity unit;\n",
      "    16\t\n",
      "    17\tarchitecture MyIRL of unit is\n",
      "    18\t    -- Local type declarations\n",
      "    19\t    -- Signal declarations\n",
      "    20\t    signal q : std_ulogic;\n",
      "    21\t    signal p : std_ulogic;\n",
      "    22\t    signal a : unsigned(7 downto 0) := x\"aa\";\n",
      "    23\t    signal zs : std_ulogic;\n",
      "    24\tbegin\n",
      "    25\t    \n",
      "    26\tstim:\n",
      "    27\t    process\n",
      "    28\t    begin\n",
      "    29\t        q <= '0';\n",
      "    30\t        p <= '1';\n",
      "    31\t        wait for 1 ns;\n",
      "    32\t        if (((a(7) = '1') and (a(6) = '0')) and (a(0) = '1')) then\n",
      "    33\t            q <= '1';\n",
      "    34\t        end if;\n",
      "    35\t        wait for 1 ns;\n",
      "    36\t        if (((a(7) = '1') and (a(6) = '0')) and (a(0) = '1')) then\n",
      "    37\t            q <= '1';\n",
      "    38\t        end if;\n",
      "    39\t        wait for 1 ns;\n",
      "    40\t        if (((a(7) and not a(6)) and a(0)) = '1') then\n",
      "    41\t            q <= '1';\n",
      "    42\t        end if;\n",
      "    43\t        if (zs = '1') then\n",
      "    44\t            q <= '1';\n",
      "    45\t        end if;\n",
      "    46\t        wait for 1 ns;\n",
      "    47\t        assert (q = '0')\n",
      "    48\t            report \"Failed in /tmp/ipykernel_21316/752317941.py:unit():41\" severity failure;\n",
      "    49\t        a <= x\"a1\";\n",
      "    50\t        wait for 1 ns;\n",
      "    51\t        p <= (((from_bool((a(7) = '1'))) and (from_bool((a(6) = '0')))) and (from_bool((a(0) = '1'))));\n",
      "    52\t        wait for 1 ns;\n",
      "    53\t        assert (p = '1')\n",
      "    54\t            report \"Failed in /tmp/ipykernel_21316/752317941.py:unit():48\" severity failure;\n",
      "    55\t        wait;\n",
      "    56\t    end process;\n",
      "    57\t    zs <= ((a(7) and not a(6)) and a(0));\n",
      "    58\tend architecture MyIRL;\n",
      "    59\t\n"
     ]
    }
   ],
   "source": [
    "!cat -n {unit.ctx.path_prefix}unit.vhdl"
   ]
  },
  {
   "cell_type": "code",
   "execution_count": 6,
   "metadata": {},
   "outputs": [
    {
     "name": "stdout",
     "output_type": "stream",
     "text": [
      "bs.vcd\t  tb_gray.vcd\ttestbench.vcd  unit1.vcd\n",
      "hyst.vcd  tb_gray1.vcd\tunit.vcd       yuv.vcd\n"
     ]
    }
   ],
   "source": [
    "!ls *.vcd"
   ]
  },
  {
   "cell_type": "markdown",
   "metadata": {},
   "source": [
    "## Variable usage"
   ]
  },
  {
   "cell_type": "code",
   "execution_count": null,
   "metadata": {},
   "outputs": [],
   "source": []
  },
  {
   "cell_type": "markdown",
   "metadata": {},
   "source": [
    "# Issues\n",
    "\n",
    "* Not translating to binary in `clkgen()`:"
   ]
  },
  {
   "cell_type": "code",
   "execution_count": 7,
   "metadata": {},
   "outputs": [
    {
     "name": "stdout",
     "output_type": "stream",
     "text": [
      "==============================\n",
      "Unparsing unit unit\n",
      "==============================\n",
      "\n",
      "\n",
      "@block\n",
      "def unit():\n",
      "\n",
      "    @always_(delay(1))\n",
      "    def clkgen():\n",
      "        (yield [clk.set((~ clk))])\n",
      "    return instances()\n",
      "\n"
     ]
    },
    {
     "name": "stderr",
     "output_type": "stream",
     "text": [
      "/home/testing/.local/lib/python3.8/site-packages/myirl-0.0.0-py3.8-linux-x86_64.egg/myirl/emulation/myhdl2irl.py:515: UserWarning: Replacing logical not by inversion\n",
      "  warnings.warn(\"Replacing logical not by inversion\")\n"
     ]
    }
   ],
   "source": [
    "@block\n",
    "def unit():\n",
    "    @always(delay(1))\n",
    "    def clkgen():\n",
    "        clk.next = not clk\n",
    "        \n",
    "    return instances()\n",
    "\n",
    "print(unit.unparse())"
   ]
  },
  {
   "cell_type": "code",
   "execution_count": 8,
   "metadata": {},
   "outputs": [
    {
     "name": "stdout",
     "output_type": "stream",
     "text": [
      "==============================\n",
      "Unparsing unit unit\n",
      "==============================\n",
      "\n",
      "\n",
      "@block\n",
      "def unit(a: Signal, b: Signal.Output, *, PARAM):\n",
      "\n",
      "    @always_comb_\n",
      "    def worker():\n",
      "        (yield [If((a == 5)).Then(b.set(0)).Elif(PARAM).Then(b.set(1))])\n",
      "    return instances()\n",
      "\n"
     ]
    }
   ],
   "source": [
    "@block\n",
    "def unit(a : Signal, b: Signal.Output, * , PARAM):\n",
    "    @always_comb\n",
    "    def worker():\n",
    "        if a == 5:\n",
    "            b.next = 0\n",
    "        elif PARAM:\n",
    "            b.next = 1\n",
    "    return instances()\n",
    "print(unit.unparse())\n",
    "\n",
    "@block\n",
    "def tb():\n",
    "    a, b = (Signal(intbv()[5:]) for _ in range(2))\n",
    "    uut = unit(a, b, True)\n",
    "    \n",
    "    return instances()"
   ]
  },
  {
   "cell_type": "code",
   "execution_count": 9,
   "metadata": {},
   "outputs": [
    {
     "name": "stdout",
     "output_type": "stream",
     "text": [
      "\u001b[7;34m use default parameter PARAM : <empty> \u001b[0m\n",
      "\u001b[32m Insert unit unit_s5_s5 \u001b[0m\n",
      "\u001b[32m Insert unit tb \u001b[0m\n"
     ]
    },
    {
     "ename": "TypeError",
     "evalue": "('/tmp/ipykernel_21316/3382091292.py:worker()', 'Line 7', \"Unexpected condition type <class 'myirl.kernel.components.Parameter'>\")",
     "output_type": "error",
     "traceback": [
      "\u001b[0;31m---------------------------------------------------------------------------\u001b[0m",
      "\u001b[0;31mTypeError\u001b[0m                                 Traceback (most recent call last)",
      "\u001b[0;32m/tmp/ipykernel_21316/900230168.py\u001b[0m in \u001b[0;36m<module>\u001b[0;34m\u001b[0m\n\u001b[0;32m----> 1\u001b[0;31m \u001b[0mtest\u001b[0m\u001b[0;34m(\u001b[0m\u001b[0mtb\u001b[0m\u001b[0;34m,\u001b[0m \u001b[0mdebug\u001b[0m \u001b[0;34m=\u001b[0m \u001b[0;32mTrue\u001b[0m\u001b[0;34m)\u001b[0m\u001b[0;34m\u001b[0m\u001b[0;34m\u001b[0m\u001b[0m\n\u001b[0m",
      "\u001b[0;32m/tmp/ipykernel_21316/2050225551.py\u001b[0m in \u001b[0;36mtest\u001b[0;34m(uut, debug)\u001b[0m\n\u001b[1;32m      2\u001b[0m     \u001b[0minst\u001b[0m \u001b[0;34m=\u001b[0m \u001b[0muut\u001b[0m\u001b[0;34m(\u001b[0m\u001b[0;34m)\u001b[0m\u001b[0;34m\u001b[0m\u001b[0;34m\u001b[0m\u001b[0m\n\u001b[1;32m      3\u001b[0m     \u001b[0mvhdl93\u001b[0m \u001b[0;34m=\u001b[0m \u001b[0mtargets\u001b[0m\u001b[0;34m.\u001b[0m\u001b[0mvhdl\u001b[0m\u001b[0;34m.\u001b[0m\u001b[0mVHDL93\u001b[0m\u001b[0;34m(\u001b[0m\u001b[0;34m)\u001b[0m\u001b[0;34m\u001b[0m\u001b[0;34m\u001b[0m\u001b[0m\n\u001b[0;32m----> 4\u001b[0;31m     \u001b[0mf\u001b[0m \u001b[0;34m=\u001b[0m \u001b[0minst\u001b[0m\u001b[0;34m.\u001b[0m\u001b[0melab\u001b[0m\u001b[0;34m(\u001b[0m\u001b[0mvhdl93\u001b[0m\u001b[0;34m,\u001b[0m \u001b[0melab_all\u001b[0m\u001b[0;34m=\u001b[0m\u001b[0;32mTrue\u001b[0m\u001b[0;34m)\u001b[0m\u001b[0;34m\u001b[0m\u001b[0;34m\u001b[0m\u001b[0m\n\u001b[0m\u001b[1;32m      5\u001b[0m     \u001b[0mrun_ghdl\u001b[0m\u001b[0;34m(\u001b[0m\u001b[0mf\u001b[0m\u001b[0;34m,\u001b[0m \u001b[0minst\u001b[0m\u001b[0;34m,\u001b[0m \u001b[0mdebug\u001b[0m \u001b[0;34m=\u001b[0m \u001b[0mdebug\u001b[0m\u001b[0;34m,\u001b[0m \u001b[0mstd\u001b[0m \u001b[0;34m=\u001b[0m \u001b[0;34m'93'\u001b[0m\u001b[0;34m,\u001b[0m \u001b[0mvcdfile\u001b[0m \u001b[0;34m=\u001b[0m \u001b[0minst\u001b[0m\u001b[0;34m.\u001b[0m\u001b[0mname\u001b[0m \u001b[0;34m+\u001b[0m \u001b[0;34m'.vcd'\u001b[0m\u001b[0;34m)\u001b[0m\u001b[0;34m\u001b[0m\u001b[0;34m\u001b[0m\u001b[0m\n",
      "\u001b[0;32m~/.local/lib/python3.8/site-packages/myirl-0.0.0-py3.8-linux-x86_64.egg/myirl/emulation/emulation_layer.py\u001b[0m in \u001b[0;36melab\u001b[0;34m(self, *args, **kwargs)\u001b[0m\n\u001b[1;32m     51\u001b[0m \u001b[0;34m\u001b[0m\u001b[0m\n\u001b[1;32m     52\u001b[0m         \u001b[0;32mdef\u001b[0m \u001b[0melab\u001b[0m\u001b[0;34m(\u001b[0m\u001b[0mself\u001b[0m\u001b[0;34m,\u001b[0m \u001b[0;34m*\u001b[0m\u001b[0margs\u001b[0m\u001b[0;34m,\u001b[0m \u001b[0;34m**\u001b[0m\u001b[0mkwargs\u001b[0m\u001b[0;34m)\u001b[0m\u001b[0;34m:\u001b[0m\u001b[0;34m\u001b[0m\u001b[0;34m\u001b[0m\u001b[0m\n\u001b[0;32m---> 53\u001b[0;31m                 \u001b[0mf\u001b[0m \u001b[0;34m=\u001b[0m \u001b[0msuper\u001b[0m\u001b[0;34m(\u001b[0m\u001b[0;34m)\u001b[0m\u001b[0;34m.\u001b[0m\u001b[0melab\u001b[0m\u001b[0;34m(\u001b[0m\u001b[0;34m*\u001b[0m\u001b[0margs\u001b[0m\u001b[0;34m,\u001b[0m \u001b[0;34m**\u001b[0m\u001b[0mkwargs\u001b[0m\u001b[0;34m)\u001b[0m\u001b[0;34m\u001b[0m\u001b[0;34m\u001b[0m\u001b[0m\n\u001b[0m\u001b[1;32m     54\u001b[0m                 \u001b[0;32mreturn\u001b[0m \u001b[0mf\u001b[0m\u001b[0;34m\u001b[0m\u001b[0;34m\u001b[0m\u001b[0m\n\u001b[1;32m     55\u001b[0m \u001b[0;34m\u001b[0m\u001b[0m\n",
      "\u001b[0;32m~/.local/lib/python3.8/site-packages/myirl-0.0.0-py3.8-linux-x86_64.egg/myirl/kernel/components.py\u001b[0m in \u001b[0;36melab\u001b[0;34m(self, target, path, elab_all, stdout, outpath)\u001b[0m\n\u001b[1;32m    987\u001b[0m                 \u001b[0mc\u001b[0m\u001b[0;34m.\u001b[0m\u001b[0mtarget\u001b[0m \u001b[0;34m=\u001b[0m \u001b[0mtarget\u001b[0m\u001b[0;34m\u001b[0m\u001b[0;34m\u001b[0m\u001b[0m\n\u001b[1;32m    988\u001b[0m                 \u001b[0;32mif\u001b[0m \u001b[0melab_all\u001b[0m\u001b[0;34m:\u001b[0m\u001b[0;34m\u001b[0m\u001b[0;34m\u001b[0m\u001b[0m\n\u001b[0;32m--> 989\u001b[0;31m                         \u001b[0;32mreturn\u001b[0m \u001b[0mc\u001b[0m\u001b[0;34m.\u001b[0m\u001b[0melab\u001b[0m\u001b[0;34m(\u001b[0m\u001b[0mtarget\u001b[0m\u001b[0;34m,\u001b[0m \u001b[0moutpath\u001b[0m \u001b[0;34m=\u001b[0m \u001b[0moutpath\u001b[0m\u001b[0;34m)\u001b[0m\u001b[0;34m\u001b[0m\u001b[0;34m\u001b[0m\u001b[0m\n\u001b[0m\u001b[1;32m    990\u001b[0m \u001b[0;34m\u001b[0m\u001b[0m\n\u001b[1;32m    991\u001b[0m                 \u001b[0mself\u001b[0m\u001b[0;34m.\u001b[0m\u001b[0manalyze\u001b[0m\u001b[0;34m(\u001b[0m\u001b[0mtarget\u001b[0m\u001b[0;34m,\u001b[0m \u001b[0mc\u001b[0m\u001b[0;34m.\u001b[0m\u001b[0mlib\u001b[0m\u001b[0;34m)\u001b[0m\u001b[0;34m\u001b[0m\u001b[0;34m\u001b[0m\u001b[0m\n",
      "\u001b[0;32m~/.local/lib/python3.8/site-packages/myirl-0.0.0-py3.8-linux-x86_64.egg/myirl/kernel/components.py\u001b[0m in \u001b[0;36melab\u001b[0;34m(self, target, outpath)\u001b[0m\n\u001b[1;32m   1733\u001b[0m                         \u001b[0;31m# print(\"Elaborating component %s\" % comp_id)\u001b[0m\u001b[0;34m\u001b[0m\u001b[0;34m\u001b[0m\u001b[0;34m\u001b[0m\u001b[0m\n\u001b[1;32m   1734\u001b[0m                         \u001b[0minst\u001b[0m \u001b[0;34m=\u001b[0m \u001b[0mself\u001b[0m\u001b[0;34m.\u001b[0m\u001b[0mcache\u001b[0m\u001b[0;34m[\u001b[0m\u001b[0mcomp_id\u001b[0m\u001b[0;34m]\u001b[0m\u001b[0;34m\u001b[0m\u001b[0;34m\u001b[0m\u001b[0m\n\u001b[0;32m-> 1735\u001b[0;31m                         \u001b[0minst\u001b[0m\u001b[0;34m.\u001b[0m\u001b[0manalyze\u001b[0m\u001b[0;34m(\u001b[0m\u001b[0mtarget\u001b[0m\u001b[0;34m,\u001b[0m \u001b[0mself\u001b[0m\u001b[0;34m.\u001b[0m\u001b[0mlib\u001b[0m\u001b[0;34m)\u001b[0m\u001b[0;34m\u001b[0m\u001b[0;34m\u001b[0m\u001b[0m\n\u001b[0m\u001b[1;32m   1736\u001b[0m                         \u001b[0mf\u001b[0m \u001b[0;34m=\u001b[0m \u001b[0minst\u001b[0m\u001b[0;34m.\u001b[0m\u001b[0m_elab\u001b[0m\u001b[0;34m(\u001b[0m\u001b[0moutpath\u001b[0m \u001b[0;34m=\u001b[0m \u001b[0moutpath\u001b[0m\u001b[0;34m)\u001b[0m\u001b[0;34m\u001b[0m\u001b[0;34m\u001b[0m\u001b[0m\n\u001b[1;32m   1737\u001b[0m                         \u001b[0;32mif\u001b[0m \u001b[0mf\u001b[0m \u001b[0;32mis\u001b[0m \u001b[0;32mNone\u001b[0m\u001b[0;34m:\u001b[0m\u001b[0;34m\u001b[0m\u001b[0;34m\u001b[0m\u001b[0m\n",
      "\u001b[0;32m~/.local/lib/python3.8/site-packages/myirl-0.0.0-py3.8-linux-x86_64.egg/myirl/kernel/components.py\u001b[0m in \u001b[0;36manalyze\u001b[0;34m(self, target, lib)\u001b[0m\n\u001b[1;32m    895\u001b[0m                                         \u001b[0minst\u001b[0m\u001b[0;34m(\u001b[0m\u001b[0mc\u001b[0m\u001b[0;34m)\u001b[0m\u001b[0;34m\u001b[0m\u001b[0;34m\u001b[0m\u001b[0m\n\u001b[1;32m    896\u001b[0m                                 \u001b[0;32mtry\u001b[0m\u001b[0;34m:\u001b[0m\u001b[0;34m\u001b[0m\u001b[0;34m\u001b[0m\u001b[0m\n\u001b[0;32m--> 897\u001b[0;31m                                         \u001b[0msources\u001b[0m \u001b[0;34m=\u001b[0m \u001b[0minst\u001b[0m\u001b[0;34m.\u001b[0m\u001b[0mcollect_sources\u001b[0m\u001b[0;34m(\u001b[0m\u001b[0;34m)\u001b[0m\u001b[0;34m\u001b[0m\u001b[0;34m\u001b[0m\u001b[0m\n\u001b[0m\u001b[1;32m    898\u001b[0m                                         \u001b[0mdrivers\u001b[0m \u001b[0;34m=\u001b[0m \u001b[0minst\u001b[0m\u001b[0;34m.\u001b[0m\u001b[0mcollect_drivers\u001b[0m\u001b[0;34m(\u001b[0m\u001b[0;34m)\u001b[0m\u001b[0;34m\u001b[0m\u001b[0;34m\u001b[0m\u001b[0m\n\u001b[1;32m    899\u001b[0m                                 \u001b[0;32mexcept\u001b[0m \u001b[0mValueError\u001b[0m \u001b[0;32mas\u001b[0m \u001b[0me\u001b[0m\u001b[0;34m:\u001b[0m\u001b[0;34m\u001b[0m\u001b[0;34m\u001b[0m\u001b[0m\n",
      "\u001b[0;32m~/.local/lib/python3.8/site-packages/myirl-0.0.0-py3.8-linux-x86_64.egg/myirl/kernel/sensitivity.py\u001b[0m in \u001b[0;36mcollect_sources\u001b[0;34m(self)\u001b[0m\n\u001b[1;32m    184\u001b[0m                         \u001b[0me\u001b[0m\u001b[0;34m.\u001b[0m\u001b[0margs\u001b[0m \u001b[0;34m=\u001b[0m \u001b[0;34m(\u001b[0m\u001b[0msrcname\u001b[0m\u001b[0;34m,\u001b[0m \u001b[0;34m)\u001b[0m \u001b[0;34m+\u001b[0m \u001b[0me\u001b[0m\u001b[0;34m.\u001b[0m\u001b[0margs\u001b[0m\u001b[0;34m\u001b[0m\u001b[0;34m\u001b[0m\u001b[0m\n\u001b[1;32m    185\u001b[0m \u001b[0;34m\u001b[0m\u001b[0m\n\u001b[0;32m--> 186\u001b[0;31m                         \u001b[0;32mraise\u001b[0m \u001b[0me\u001b[0m\u001b[0;34m\u001b[0m\u001b[0;34m\u001b[0m\u001b[0m\n\u001b[0m\u001b[1;32m    187\u001b[0m \u001b[0;34m\u001b[0m\u001b[0m\n\u001b[1;32m    188\u001b[0m \u001b[0;34m\u001b[0m\u001b[0m\n",
      "\u001b[0;32m~/.local/lib/python3.8/site-packages/myirl-0.0.0-py3.8-linux-x86_64.egg/myirl/kernel/sensitivity.py\u001b[0m in \u001b[0;36mcollect_sources\u001b[0;34m(self)\u001b[0m\n\u001b[1;32m    178\u001b[0m         \u001b[0;32mdef\u001b[0m \u001b[0mcollect_sources\u001b[0m\u001b[0;34m(\u001b[0m\u001b[0mself\u001b[0m\u001b[0;34m)\u001b[0m\u001b[0;34m:\u001b[0m\u001b[0;34m\u001b[0m\u001b[0;34m\u001b[0m\u001b[0m\n\u001b[1;32m    179\u001b[0m                 \u001b[0;32mtry\u001b[0m\u001b[0;34m:\u001b[0m\u001b[0;34m\u001b[0m\u001b[0;34m\u001b[0m\u001b[0m\n\u001b[0;32m--> 180\u001b[0;31m                         \u001b[0;32mreturn\u001b[0m \u001b[0mself\u001b[0m\u001b[0;34m.\u001b[0m\u001b[0mlogic\u001b[0m\u001b[0;34m.\u001b[0m\u001b[0mcollect_sources\u001b[0m\u001b[0;34m(\u001b[0m\u001b[0;34m)\u001b[0m\u001b[0;34m\u001b[0m\u001b[0;34m\u001b[0m\u001b[0m\n\u001b[0m\u001b[1;32m    181\u001b[0m                 \u001b[0;32mexcept\u001b[0m \u001b[0mException\u001b[0m \u001b[0;32mas\u001b[0m \u001b[0me\u001b[0m\u001b[0;34m:\u001b[0m\u001b[0;34m\u001b[0m\u001b[0;34m\u001b[0m\u001b[0m\n\u001b[1;32m    182\u001b[0m                         \u001b[0mf\u001b[0m \u001b[0;34m=\u001b[0m \u001b[0mself\u001b[0m\u001b[0;34m.\u001b[0m\u001b[0mfunc\u001b[0m\u001b[0;34m\u001b[0m\u001b[0;34m\u001b[0m\u001b[0m\n",
      "\u001b[0;32m~/.local/lib/python3.8/site-packages/myirl-0.0.0-py3.8-linux-x86_64.egg/myirl/kernel/sensitivity.py\u001b[0m in \u001b[0;36mcollect_sources\u001b[0;34m(self)\u001b[0m\n\u001b[1;32m    142\u001b[0m                         \u001b[0;32mexcept\u001b[0m \u001b[0mException\u001b[0m \u001b[0;32mas\u001b[0m \u001b[0me\u001b[0m\u001b[0;34m:\u001b[0m\u001b[0;34m\u001b[0m\u001b[0;34m\u001b[0m\u001b[0m\n\u001b[1;32m    143\u001b[0m                                 \u001b[0me\u001b[0m\u001b[0;34m.\u001b[0m\u001b[0margs\u001b[0m \u001b[0;34m=\u001b[0m \u001b[0;34m(\u001b[0m\u001b[0;34m\"Line %s\"\u001b[0m \u001b[0;34m%\u001b[0m \u001b[0mi\u001b[0m\u001b[0;34m.\u001b[0m\u001b[0mtrback\u001b[0m\u001b[0;34m,\u001b[0m \u001b[0;34m)\u001b[0m \u001b[0;34m+\u001b[0m \u001b[0me\u001b[0m\u001b[0;34m.\u001b[0m\u001b[0margs\u001b[0m\u001b[0;34m\u001b[0m\u001b[0;34m\u001b[0m\u001b[0m\n\u001b[0;32m--> 144\u001b[0;31m                                 \u001b[0;32mraise\u001b[0m \u001b[0me\u001b[0m\u001b[0;34m\u001b[0m\u001b[0;34m\u001b[0m\u001b[0m\n\u001b[0m\u001b[1;32m    145\u001b[0m \u001b[0;34m\u001b[0m\u001b[0m\n\u001b[1;32m    146\u001b[0m                 \u001b[0;32mreturn\u001b[0m \u001b[0msignals\u001b[0m\u001b[0;34m\u001b[0m\u001b[0;34m\u001b[0m\u001b[0m\n",
      "\u001b[0;32m~/.local/lib/python3.8/site-packages/myirl-0.0.0-py3.8-linux-x86_64.egg/myirl/kernel/sensitivity.py\u001b[0m in \u001b[0;36mcollect_sources\u001b[0;34m(self)\u001b[0m\n\u001b[1;32m    139\u001b[0m                 \u001b[0;32mfor\u001b[0m \u001b[0mi\u001b[0m \u001b[0;32min\u001b[0m \u001b[0mself\u001b[0m\u001b[0;34m.\u001b[0m\u001b[0mbody\u001b[0m\u001b[0;34m:\u001b[0m\u001b[0;34m\u001b[0m\u001b[0;34m\u001b[0m\u001b[0m\n\u001b[1;32m    140\u001b[0m                         \u001b[0;32mtry\u001b[0m\u001b[0;34m:\u001b[0m\u001b[0;34m\u001b[0m\u001b[0;34m\u001b[0m\u001b[0m\n\u001b[0;32m--> 141\u001b[0;31m                                 \u001b[0mget_sig_source\u001b[0m\u001b[0;34m(\u001b[0m\u001b[0mi\u001b[0m\u001b[0;34m,\u001b[0m \u001b[0msignals\u001b[0m\u001b[0;34m)\u001b[0m\u001b[0;34m\u001b[0m\u001b[0;34m\u001b[0m\u001b[0m\n\u001b[0m\u001b[1;32m    142\u001b[0m                         \u001b[0;32mexcept\u001b[0m \u001b[0mException\u001b[0m \u001b[0;32mas\u001b[0m \u001b[0me\u001b[0m\u001b[0;34m:\u001b[0m\u001b[0;34m\u001b[0m\u001b[0;34m\u001b[0m\u001b[0m\n\u001b[1;32m    143\u001b[0m                                 \u001b[0me\u001b[0m\u001b[0;34m.\u001b[0m\u001b[0margs\u001b[0m \u001b[0;34m=\u001b[0m \u001b[0;34m(\u001b[0m\u001b[0;34m\"Line %s\"\u001b[0m \u001b[0;34m%\u001b[0m \u001b[0mi\u001b[0m\u001b[0;34m.\u001b[0m\u001b[0mtrback\u001b[0m\u001b[0;34m,\u001b[0m \u001b[0;34m)\u001b[0m \u001b[0;34m+\u001b[0m \u001b[0me\u001b[0m\u001b[0;34m.\u001b[0m\u001b[0margs\u001b[0m\u001b[0;34m\u001b[0m\u001b[0;34m\u001b[0m\u001b[0m\n",
      "\u001b[0;32m~/.local/lib/python3.8/site-packages/myirl-0.0.0-py3.8-linux-x86_64.egg/myirl/kernel/sensitivity.py\u001b[0m in \u001b[0;36mget_sig_source\u001b[0;34m(node, signals)\u001b[0m\n\u001b[1;32m     47\u001b[0m         \u001b[0;32melif\u001b[0m \u001b[0misinstance\u001b[0m\u001b[0;34m(\u001b[0m\u001b[0mnode\u001b[0m\u001b[0;34m,\u001b[0m \u001b[0m_Then\u001b[0m\u001b[0;34m)\u001b[0m\u001b[0;34m:\u001b[0m\u001b[0;34m\u001b[0m\u001b[0;34m\u001b[0m\u001b[0m\n\u001b[1;32m     48\u001b[0m                 \u001b[0;32mfor\u001b[0m \u001b[0ms\u001b[0m \u001b[0;32min\u001b[0m \u001b[0mlist\u001b[0m\u001b[0;34m(\u001b[0m\u001b[0mnode\u001b[0m\u001b[0;34m)\u001b[0m\u001b[0;34m:\u001b[0m\u001b[0;34m\u001b[0m\u001b[0;34m\u001b[0m\u001b[0m\n\u001b[0;32m---> 49\u001b[0;31m                         \u001b[0mget_sig_source_cond\u001b[0m\u001b[0;34m(\u001b[0m\u001b[0ms\u001b[0m\u001b[0;34m,\u001b[0m \u001b[0msignals\u001b[0m\u001b[0;34m)\u001b[0m\u001b[0;34m\u001b[0m\u001b[0;34m\u001b[0m\u001b[0m\n\u001b[0m\u001b[1;32m     50\u001b[0m \u001b[0;34m\u001b[0m\u001b[0m\n\u001b[1;32m     51\u001b[0m \u001b[0;32mdef\u001b[0m \u001b[0mget_var_reference\u001b[0m\u001b[0;34m(\u001b[0m\u001b[0mnode\u001b[0m\u001b[0;34m,\u001b[0m \u001b[0mvariables\u001b[0m\u001b[0;34m)\u001b[0m\u001b[0;34m:\u001b[0m\u001b[0;34m\u001b[0m\u001b[0;34m\u001b[0m\u001b[0m\n",
      "\u001b[0;32m~/.local/lib/python3.8/site-packages/myirl-0.0.0-py3.8-linux-x86_64.egg/myirl/kernel/sensitivity.py\u001b[0m in \u001b[0;36mget_sig_source_cond\u001b[0;34m(node, signals)\u001b[0m\n\u001b[1;32m     39\u001b[0m                         \u001b[0msignals\u001b[0m\u001b[0;34m[\u001b[0m\u001b[0mt\u001b[0m\u001b[0;34m.\u001b[0m\u001b[0midentifier\u001b[0m\u001b[0;34m]\u001b[0m \u001b[0;34m=\u001b[0m \u001b[0mt\u001b[0m\u001b[0;34m\u001b[0m\u001b[0;34m\u001b[0m\u001b[0m\n\u001b[1;32m     40\u001b[0m                 \u001b[0;32melse\u001b[0m\u001b[0;34m:\u001b[0m\u001b[0;34m\u001b[0m\u001b[0;34m\u001b[0m\u001b[0m\n\u001b[0;32m---> 41\u001b[0;31m                         \u001b[0;32mraise\u001b[0m \u001b[0mTypeError\u001b[0m\u001b[0;34m(\u001b[0m\u001b[0;34m\"Unexpected condition type %s\"\u001b[0m \u001b[0;34m%\u001b[0m \u001b[0mtype\u001b[0m\u001b[0;34m(\u001b[0m\u001b[0mnode\u001b[0m\u001b[0;34m.\u001b[0m\u001b[0mcond\u001b[0m\u001b[0;34m)\u001b[0m\u001b[0;34m)\u001b[0m\u001b[0;34m\u001b[0m\u001b[0;34m\u001b[0m\u001b[0m\n\u001b[0m\u001b[1;32m     42\u001b[0m \u001b[0;34m\u001b[0m\u001b[0m\n\u001b[1;32m     43\u001b[0m \u001b[0;32mdef\u001b[0m \u001b[0mget_sig_source\u001b[0m\u001b[0;34m(\u001b[0m\u001b[0mnode\u001b[0m\u001b[0;34m,\u001b[0m \u001b[0msignals\u001b[0m\u001b[0;34m)\u001b[0m\u001b[0;34m:\u001b[0m\u001b[0;34m\u001b[0m\u001b[0;34m\u001b[0m\u001b[0m\n",
      "\u001b[0;31mTypeError\u001b[0m: ('/tmp/ipykernel_21316/3382091292.py:worker()', 'Line 7', \"Unexpected condition type <class 'myirl.kernel.components.Parameter'>\")"
     ]
    }
   ],
   "source": [
    "test(tb, debug = True)"
   ]
  },
  {
   "cell_type": "code",
   "execution_count": null,
   "metadata": {},
   "outputs": [],
   "source": []
  }
 ],
 "metadata": {
  "kernelspec": {
   "display_name": "Python 3 (ipykernel)",
   "language": "python",
   "name": "python3"
  },
  "language_info": {
   "codemirror_mode": {
    "name": "ipython",
    "version": 3
   },
   "file_extension": ".py",
   "mimetype": "text/x-python",
   "name": "python",
   "nbconvert_exporter": "python",
   "pygments_lexer": "ipython3",
   "version": "3.8.5"
  }
 },
 "nbformat": 4,
 "nbformat_minor": 4
}

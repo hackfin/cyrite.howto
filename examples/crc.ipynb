{
 "cells": [
  {
   "cell_type": "markdown",
   "id": "c3e4e074",
   "metadata": {},
   "source": [
    "# CRC checker generation\n",
    "\n",
    "This Notebook implements a simple arbitrary CRC unit generator. It makes use of the linear properties of the CRC operation and constructs 'participation' matrices out of the binary basis vector set `(1 << j)` (`j` being the coordinate). A given bit-serial implementation of a CRC is probed for each of these basis vectors and the final logic constructed out of the participation matrices."
   ]
  },
  {
   "cell_type": "code",
   "execution_count": 1,
   "id": "5f2143fe",
   "metadata": {},
   "outputs": [],
   "source": [
    "from myirl import *"
   ]
  },
  {
   "cell_type": "markdown",
   "id": "0720b67f",
   "metadata": {},
   "source": [
    "## Example serial CRC\n",
    "\n",
    "You may define your own serial CRC function here. For example, the CRC feedback register for the USB protocol:"
   ]
  },
  {
   "cell_type": "code",
   "execution_count": 2,
   "id": "29c1d487",
   "metadata": {},
   "outputs": [],
   "source": [
    "def serial_crc5_usb(c, din, M, dummy):\n",
    "    fb = (c >> (M-1)) ^ din\n",
    "    mask = (1 << M) - 1\n",
    "\n",
    "    return ((c << 1) & mask) ^ (fb << 2) | fb"
   ]
  },
  {
   "cell_type": "markdown",
   "id": "31131b06",
   "metadata": {},
   "source": [
    "Or a generic CRC with given polynom:"
   ]
  },
  {
   "cell_type": "code",
   "execution_count": 3,
   "id": "ff49ad1a",
   "metadata": {},
   "outputs": [],
   "source": [
    "def serial_crc(c, din, M, POLY):\n",
    "#     print(type(c))\n",
    "    mask = (1 << M) - 1\n",
    "    fb = (c >> (M-1)) ^ din\n",
    "\n",
    "    rotated = (c << 1) & mask\n",
    "    if fb:\n",
    "        v = rotated ^ (POLY & mask)\n",
    "    else:\n",
    "        v = rotated\n",
    "        \n",
    "    return v"
   ]
  },
  {
   "cell_type": "markdown",
   "id": "9298530b",
   "metadata": {},
   "source": [
    "To determine the CRC for a data word, we just create a function that runs the serial CRC sequence `N` times:"
   ]
  },
  {
   "cell_type": "code",
   "execution_count": 4,
   "id": "6057878d",
   "metadata": {},
   "outputs": [],
   "source": [
    "def crc_dataword(cstart, din, crc_serial, M, POLY):\n",
    "    _c0 = int(cstart)\n",
    "    N = len(din)\n",
    "    for i in range(N):\n",
    "        _c0 = crc_serial(_c0, din[i], M, POLY)\n",
    "    return _c0"
   ]
  },
  {
   "cell_type": "markdown",
   "id": "f1dc4bd2",
   "metadata": {},
   "source": [
    "Create the 'participation' tables for the data and current CRC bits."
   ]
  },
  {
   "cell_type": "code",
   "execution_count": 5,
   "id": "61079ace",
   "metadata": {
    "scrolled": true
   },
   "outputs": [],
   "source": [
    "def gen_matrices(M, N, crc_s, POLY):\n",
    "    \"Not so effective function to generate particular matrices\"\n",
    "    A = N * [ None, ]\n",
    "\n",
    "    c0, c1 = [ Signal(intbv(0)[M:]) for _ in range(2) ]\n",
    "\n",
    "    din = intbv(1)[N+1:]\n",
    "    for i in range(N):\n",
    "        v = crc_dataword(0, din[N:], crc_s, M, POLY)\n",
    "        din <<= 1\n",
    "        A[i] = int(v)\n",
    "\n",
    "    B = M * [ None, ]\n",
    "\n",
    "    m = intbv(1)[M+1:]\n",
    "    din = intbv(0)[N:]\n",
    "\n",
    "    for i in range(M):\n",
    "        v = crc_dataword(m, din, crc_s, M, POLY)\n",
    "        m <<= 1\n",
    "        B[i] = int(v)\n",
    "\n",
    "    return A, B"
   ]
  },
  {
   "cell_type": "markdown",
   "id": "253544f9",
   "metadata": {},
   "source": [
    "This function creates the wire connections and combinatorial logic according to the participation table:"
   ]
  },
  {
   "cell_type": "code",
   "execution_count": 6,
   "id": "7affc46c",
   "metadata": {},
   "outputs": [],
   "source": [
    "def gen_crc_xor(A, B, din, crc0, crc1):\n",
    "    m, n = len(B), len(A)\n",
    "    v = 1\n",
    "    connections = []\n",
    "    for i in range(m):\n",
    "        wires = []\n",
    "        md = \"\"\n",
    "        for j in range(n):\n",
    "            if A[j] & v:\n",
    "                wires += [ din[n-1-j] ]\n",
    "            md += '1' if A[j] & v else '0'\n",
    "        mc = \"\"\n",
    "        for j in range(m):\n",
    "            if B[j] & v:\n",
    "                wires += [ crc0[j] ]\n",
    "            mc += '1' if B[j] & v else '0'\n",
    "\n",
    "        v <<= 1\n",
    "\n",
    "        print(md, mc)\n",
    "        \n",
    "        if len(wires) > 0:\n",
    "            first = wires[0]\n",
    "            for e in wires[1:]:\n",
    "                first = first ^ e\n",
    "            connections += [ crc1[i].set(first) ]\n",
    "        else:\n",
    "            raise(ValueError, \"Bad CRC bit. Probably broken polynom.\")\n",
    "                \n",
    "    return connections\n"
   ]
  },
  {
   "cell_type": "markdown",
   "id": "6bb774be",
   "metadata": {},
   "source": [
    "## The CRC unit\n",
    "\n",
    "This actually creates the hardware. Note that we don't optimize logic here. We'll leave that to the synthesizer toolchain."
   ]
  },
  {
   "cell_type": "code",
   "execution_count": 7,
   "id": "52b772d2",
   "metadata": {},
   "outputs": [],
   "source": [
    "from myirl.library.basictypes import Bool\n",
    "\n",
    "@block\n",
    "def crc_unit(clk : ClkSignal, en : (Bool, bool), reset : ResetSignal,\n",
    "             din : Signal, crcout : Signal.Output, M, N, POLY, STARTVAL):\n",
    "    crc = Signal(intbv(STARTVAL)[M:])\n",
    "    crcnext = [ Signal(bool(), name = 'c%d' % i) for i in range(M) ]\n",
    "        \n",
    "    print(\"generate matrices...\") \n",
    "    M1, M2 = gen_matrices(M, N, serial_crc, POLY)\n",
    "    print(\"create xor map\")\n",
    "    wires = gen_crc_xor(M1, M2, din, crc, crcnext)\n",
    "    \n",
    "    @genprocess(clk, EDGE=clk.POS, RESET=reset)\n",
    "    def crc_init():\n",
    "        yield [ crc.set(concat(*reversed(crcnext))) ]      \n",
    "\n",
    "    connections = [ crcout.set(crc) ]\n",
    "    \n",
    "    return locals()"
   ]
  },
  {
   "cell_type": "code",
   "execution_count": 9,
   "id": "92a4157e",
   "metadata": {},
   "outputs": [],
   "source": [
    "def test(DW, CW, POLYNOM):\n",
    "    clk = ClkSignal()\n",
    "    data = Signal(intbv()[DW:])\n",
    "    crc = Signal(intbv()[CW:])\n",
    "    r = ResetSignal(ResetSignal.POS_SYNC)\n",
    "    inst = crc_unit(clk, True, r, data, crc, CW, DW, POLYNOM, 0xffffffff)\n",
    "    \n",
    "    tmp = inst.elab(targets.Verilog)\n",
    "    return tmp"
   ]
  },
  {
   "cell_type": "code",
   "execution_count": 10,
   "id": "d9651e49",
   "metadata": {},
   "outputs": [
    {
     "name": "stdout",
     "output_type": "stream",
     "text": [
      "generate matrices...\n",
      "create xor map\n",
      "01000001 00000000000000000000000010000010\n",
      "11000011 00000000000000000000000011000011\n",
      "11000111 00000000000000000000000011100011\n",
      "10001110 00000000000000000000000001110001\n",
      "01011101 00000000000000000000000010111010\n",
      "11111011 00000000000000000000000011011111\n",
      "11110110 00000000000000000000000001101111\n",
      "10101101 00000000000000000000000010110101\n",
      "00011011 10000000000000000000000011011000\n",
      "00110110 01000000000000000000000001101100\n",
      "00101101 00100000000000000000000010110100\n",
      "00011011 00010000000000000000000011011000\n",
      "01110111 00001000000000000000000011101110\n",
      "11101110 00000100000000000000000001110111\n",
      "11011100 00000010000000000000000000111011\n",
      "10111000 00000001000000000000000000011101\n",
      "00110001 00000000100000000000000010001100\n",
      "01100010 00000000010000000000000001000110\n",
      "11000100 00000000001000000000000000100011\n",
      "10001000 00000000000100000000000000010001\n",
      "00010000 00000000000010000000000000001000\n",
      "00100000 00000000000001000000000000000100\n",
      "00000001 00000000000000100000000010000000\n",
      "01000011 00000000000000010000000011000010\n",
      "10000110 00000000000000001000000001100001\n",
      "00001100 00000000000000000100000000110000\n",
      "01011001 00000000000000000010000010011010\n",
      "10110010 00000000000000000001000001001101\n",
      "01100100 00000000000000000000100000100110\n",
      "11001000 00000000000000000000010000010011\n",
      "10010000 00000000000000000000001000001001\n",
      "00100000 00000000000000000000000100000100\n",
      " Writing 'crc_unit' to file /tmp/myirl_crc_unit_n953rfod/crc_unit.v \n",
      "DEBUG Fallback wire for clk_c209\n",
      " DEBUG: omit `en` from interface, (passthrough type <class 'bool'>) \n",
      "DEBUG Fallback wire for s_4da5\n",
      " DEBUG: omit `M` from interface, (passthrough type <class 'int'>) \n",
      " DEBUG: omit `N` from interface, (passthrough type <class 'int'>) \n",
      " DEBUG: omit `POLY` from interface, (passthrough type <class 'int'>) \n",
      " DEBUG: omit `STARTVAL` from interface, (passthrough type <class 'int'>) \n"
     ]
    }
   ],
   "source": [
    "POLYNOM = 0b100000100110000010001110110110111\n",
    "\n",
    "tmp = test(8, 32, POLYNOM)"
   ]
  },
  {
   "cell_type": "code",
   "execution_count": 11,
   "id": "36213fb3",
   "metadata": {},
   "outputs": [
    {
     "name": "stdout",
     "output_type": "stream",
     "text": [
      "// File generated from source:\n",
      "//     /tmp/ipykernel_18392/3709520757.py\n",
      "// (c) 2016-2022 section5.ch\n",
      "// Modifications may be lost, edit the source file instead.\n",
      "\n",
      "`timescale 1 ns / 1 ps\n",
      "`include \"aux.v\"\n",
      "// Architecture myIRL\n",
      "\n",
      "module crc_unit\n",
      "    (\n",
      "        input wire /* std_ulogic */ clk,\n",
      "        input wire /* std_ulogic */ reset,\n",
      "        input wire [7:0] din,\n",
      "        output wire [31:0] crcout\n",
      "    );\n",
      "    // Local type declarations\n",
      "    // Signal declarations\n",
      "    reg [31:0] crc;\n",
      "    wire /* std_ulogic */ c31;\n",
      "    wire /* std_ulogic */ c30;\n",
      "    wire /* std_ulogic */ c29;\n",
      "    wire /* std_ulogic */ c28;\n",
      "    wire /* std_ulogic */ c27;\n",
      "    wire /* std_ulogic */ c26;\n",
      "    wire /* std_ulogic */ c25;\n",
      "    wire /* std_ulogic */ c24;\n",
      "    wire /* std_ulogic */ c23;\n",
      "    wire /* std_ulogic */ c22;\n",
      "    wire /* std_ulogic */ c21;\n",
      "    wire /* std_ulogic */ c20;\n",
      "    wire /* std_ulogic */ c19;\n",
      "    wire /* std_ulogic */ c18;\n",
      "    wire /* std_ulogic */ c17;\n",
      "    wire /* std_ulogic */ c16;\n",
      "    wire /* std_ulogic */ c15;\n",
      "    wire /* std_ulogic */ c14;\n",
      "    wire /* std_ulogic */ c13;\n",
      "    wire /* std_ulogic */ c12;\n",
      "    wire /* std_ulogic */ c11;\n",
      "    wire /* std_ulogic */ c10;\n",
      "    wire /* std_ulogic */ c9;\n",
      "    wire /* std_ulogic */ c8;\n",
      "    wire /* std_ulogic */ c7;\n",
      "    wire /* std_ulogic */ c6;\n",
      "    wire /* std_ulogic */ c5;\n",
      "    wire /* std_ulogic */ c4;\n",
      "    wire /* std_ulogic */ c3;\n",
      "    wire /* std_ulogic */ c2;\n",
      "    wire /* std_ulogic */ c1;\n",
      "    wire /* std_ulogic */ c0;\n",
      "    \n",
      "    always @ (posedge clk ) begin : CRC_INIT\n",
      "        if (reset == 1'b1) begin\n",
      "            crc <= 32'hffffffff; /* default */\n",
      "        end else begin\n",
      "            crc <= {c31, c30, c29, c28, c27, c26, c25, c24, c23, c22, c21, c20, c19, c18, c17, c16, c15, c14, c13, c12, c11, c10, c9, c8, c7, c6, c5, c4, c3, c2, c1, c0};\n",
      "        end\n",
      "    end\n",
      "    assign  c0 = (((din[6] ^ din[0]) ^ crc[24]) ^ crc[30]);\n",
      "    assign  c1 = (((((((din[7] ^ din[6]) ^ din[1]) ^ din[0]) ^ crc[24]) ^ crc[25]) ^ crc[30]) ^ crc[31]);\n",
      "    assign  c2 = (((((((((din[7] ^ din[6]) ^ din[2]) ^ din[1]) ^ din[0]) ^ crc[24]) ^ crc[25]) ^ crc[26]) ^ crc[30]) ^ crc[31]);\n",
      "    assign  c3 = (((((((din[7] ^ din[3]) ^ din[2]) ^ din[1]) ^ crc[25]) ^ crc[26]) ^ crc[27]) ^ crc[31]);\n",
      "    assign  c4 = (((((((((din[6] ^ din[4]) ^ din[3]) ^ din[2]) ^ din[0]) ^ crc[24]) ^ crc[26]) ^ crc[27]) ^ crc[28]) ^ crc[30]);\n",
      "    assign  c5 = (((((((((((((din[7] ^ din[6]) ^ din[5]) ^ din[4]) ^ din[3]) ^ din[1]) ^ din[0]) ^ crc[24]) ^ crc[25]) ^ crc[27]) ^ crc[28]) ^ crc[29]) ^ crc[30]) ^ crc[31]);\n",
      "    assign  c6 = (((((((((((din[7] ^ din[6]) ^ din[5]) ^ din[4]) ^ din[2]) ^ din[1]) ^ crc[25]) ^ crc[26]) ^ crc[28]) ^ crc[29]) ^ crc[30]) ^ crc[31]);\n",
      "    assign  c7 = (((((((((din[7] ^ din[5]) ^ din[3]) ^ din[2]) ^ din[0]) ^ crc[24]) ^ crc[26]) ^ crc[27]) ^ crc[29]) ^ crc[31]);\n",
      "    assign  c8 = ((((((((din[4] ^ din[3]) ^ din[1]) ^ din[0]) ^ crc[0]) ^ crc[24]) ^ crc[25]) ^ crc[27]) ^ crc[28]);\n",
      "    assign  c9 = ((((((((din[5] ^ din[4]) ^ din[2]) ^ din[1]) ^ crc[1]) ^ crc[25]) ^ crc[26]) ^ crc[28]) ^ crc[29]);\n",
      "    assign  c10 = ((((((((din[5] ^ din[3]) ^ din[2]) ^ din[0]) ^ crc[2]) ^ crc[24]) ^ crc[26]) ^ crc[27]) ^ crc[29]);\n",
      "    assign  c11 = ((((((((din[4] ^ din[3]) ^ din[1]) ^ din[0]) ^ crc[3]) ^ crc[24]) ^ crc[25]) ^ crc[27]) ^ crc[28]);\n",
      "    assign  c12 = ((((((((((((din[6] ^ din[5]) ^ din[4]) ^ din[2]) ^ din[1]) ^ din[0]) ^ crc[4]) ^ crc[24]) ^ crc[25]) ^ crc[26]) ^ crc[28]) ^ crc[29]) ^ crc[30]);\n",
      "    assign  c13 = ((((((((((((din[7] ^ din[6]) ^ din[5]) ^ din[3]) ^ din[2]) ^ din[1]) ^ crc[5]) ^ crc[25]) ^ crc[26]) ^ crc[27]) ^ crc[29]) ^ crc[30]) ^ crc[31]);\n",
      "    assign  c14 = ((((((((((din[7] ^ din[6]) ^ din[4]) ^ din[3]) ^ din[2]) ^ crc[6]) ^ crc[26]) ^ crc[27]) ^ crc[28]) ^ crc[30]) ^ crc[31]);\n",
      "    assign  c15 = ((((((((din[7] ^ din[5]) ^ din[4]) ^ din[3]) ^ crc[7]) ^ crc[27]) ^ crc[28]) ^ crc[29]) ^ crc[31]);\n",
      "    assign  c16 = ((((((din[5] ^ din[4]) ^ din[0]) ^ crc[8]) ^ crc[24]) ^ crc[28]) ^ crc[29]);\n",
      "    assign  c17 = ((((((din[6] ^ din[5]) ^ din[1]) ^ crc[9]) ^ crc[25]) ^ crc[29]) ^ crc[30]);\n",
      "    assign  c18 = ((((((din[7] ^ din[6]) ^ din[2]) ^ crc[10]) ^ crc[26]) ^ crc[30]) ^ crc[31]);\n",
      "    assign  c19 = ((((din[7] ^ din[3]) ^ crc[11]) ^ crc[27]) ^ crc[31]);\n",
      "    assign  c20 = ((din[4] ^ crc[12]) ^ crc[28]);\n",
      "    assign  c21 = ((din[5] ^ crc[13]) ^ crc[29]);\n",
      "    assign  c22 = ((din[0] ^ crc[14]) ^ crc[24]);\n",
      "    assign  c23 = ((((((din[6] ^ din[1]) ^ din[0]) ^ crc[15]) ^ crc[24]) ^ crc[25]) ^ crc[30]);\n",
      "    assign  c24 = ((((((din[7] ^ din[2]) ^ din[1]) ^ crc[16]) ^ crc[25]) ^ crc[26]) ^ crc[31]);\n",
      "    assign  c25 = ((((din[3] ^ din[2]) ^ crc[17]) ^ crc[26]) ^ crc[27]);\n",
      "    assign  c26 = ((((((((din[6] ^ din[4]) ^ din[3]) ^ din[0]) ^ crc[18]) ^ crc[24]) ^ crc[27]) ^ crc[28]) ^ crc[30]);\n",
      "    assign  c27 = ((((((((din[7] ^ din[5]) ^ din[4]) ^ din[1]) ^ crc[19]) ^ crc[25]) ^ crc[28]) ^ crc[29]) ^ crc[31]);\n",
      "    assign  c28 = ((((((din[6] ^ din[5]) ^ din[2]) ^ crc[20]) ^ crc[26]) ^ crc[29]) ^ crc[30]);\n",
      "    assign  c29 = ((((((din[7] ^ din[6]) ^ din[3]) ^ crc[21]) ^ crc[27]) ^ crc[30]) ^ crc[31]);\n",
      "    assign  c30 = ((((din[7] ^ din[4]) ^ crc[22]) ^ crc[28]) ^ crc[31]);\n",
      "    assign  c31 = ((din[5] ^ crc[23]) ^ crc[29]);\n",
      "    assign  crcout = crc;\n",
      "endmodule // crc_unit\n"
     ]
    }
   ],
   "source": [
    "!cat {tmp[0]}"
   ]
  },
  {
   "cell_type": "markdown",
   "id": "4155fa27-83da-4bdf-872d-987228bc0c0d",
   "metadata": {},
   "source": [
    "### TODO: Co-Simulation against 'golden' implementations"
   ]
  }
 ],
 "metadata": {
  "kernelspec": {
   "display_name": "Python 3 (ipykernel)",
   "language": "python",
   "name": "python3"
  },
  "language_info": {
   "codemirror_mode": {
    "name": "ipython",
    "version": 3
   },
   "file_extension": ".py",
   "mimetype": "text/x-python",
   "name": "python",
   "nbconvert_exporter": "python",
   "pygments_lexer": "ipython3",
   "version": "3.9.2"
  }
 },
 "nbformat": 4,
 "nbformat_minor": 5
}

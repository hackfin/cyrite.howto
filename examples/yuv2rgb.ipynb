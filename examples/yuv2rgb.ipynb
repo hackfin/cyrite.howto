{
 "cells": [
  {
   "cell_type": "markdown",
   "id": "1dfb41b6",
   "metadata": {},
   "source": [
    "# Vector ops scenario #1: YUV to RGB conversion\n",
    "\n",
    "Example YUV to RGB conversion (simplified, not clamping)\n",
    "\n",
    "**Note** Not verified for correct conversion, concept study only\n",
    "\n",
    "Makes use of the `VectorSig` data type"
   ]
  },
  {
   "cell_type": "code",
   "execution_count": 1,
   "id": "6d8214c3",
   "metadata": {},
   "outputs": [],
   "source": [
    "# !pip install numpy"
   ]
  },
  {
   "cell_type": "code",
   "execution_count": 2,
   "id": "be3b6602",
   "metadata": {},
   "outputs": [],
   "source": [
    "import sys\n",
    "sys.path.insert(0, '../..')"
   ]
  },
  {
   "cell_type": "code",
   "execution_count": 3,
   "id": "d3e79eea",
   "metadata": {},
   "outputs": [],
   "source": [
    "from video.color import *\n",
    "from video.videotypes import *"
   ]
  },
  {
   "cell_type": "code",
   "execution_count": 4,
   "id": "56975585",
   "metadata": {},
   "outputs": [],
   "source": [
    "from myirl.library.bulksignals import bulkwrapper\n",
    "from myirl import targets"
   ]
  },
  {
   "cell_type": "code",
   "execution_count": 5,
   "id": "2b7ab395",
   "metadata": {},
   "outputs": [],
   "source": [
    "CLAMP = False\n",
    "LEVELSHIFT = False\n",
    "BPP        = 8\n",
    "FRACT_SIZE = 16\n",
    "CALCSIZE   = FRACT_SIZE + BPP\n",
    "SATURATION_VALUE_MAX = 127 # YUV maximum value (saturation)\n",
    "SATURATION_VALUE_MIN = -128 # YUV minimum value (saturation)\n",
    "\n",
    "\n",
    "# Signed matrix entries:\n",
    "Y_FROM_RGB = vector_to_fp(FRACT_SIZE, 1, mat_jpeg_rgb2yuv[0])\n",
    "U_FROM_RGB = vector_to_fp(FRACT_SIZE, 1, mat_jpeg_rgb2yuv[1])\n",
    "V_FROM_RGB = vector_to_fp(FRACT_SIZE, 1, mat_jpeg_rgb2yuv[2])\n",
    "\n",
    "def F(x, s = FRACT_SIZE):\n",
    "    return intbv(x)[s:]\n",
    "\n",
    "YUV_SLICE = slice(CALCSIZE-1, CALCSIZE-1 - BPP)\n",
    "\n",
    "MATRIX = [\n",
    "    [ F(Y_FROM_RGB[i]) for i in range(3) ],\n",
    "    [ F(U_FROM_RGB[i]) for i in range(3) ],\n",
    "    [ F(V_FROM_RGB[i]) for i in range(3) ]\n",
    "]\n",
    "\n",
    "from myirl.vector import VectorSig\n",
    "\n",
    "I = lambda x: ( x[i]._val for i in range(3) )\n",
    "\n",
    "# @bulkwrapper()\n",
    "# class RGBParam:\n",
    "#     def __init__(self):\n",
    "#         self.y = VectorSig(3, MATRIX[0], initializer = I(MATRIX[0]))\n",
    "#         self.u = VectorSig(3, MATRIX[1], initializer = I(MATRIX[1]))\n",
    "#         self.v = VectorSig(3, MATRIX[1], initializer = I(MATRIX[2]))"
   ]
  },
  {
   "cell_type": "code",
   "execution_count": 6,
   "id": "6c10fdd7",
   "metadata": {},
   "outputs": [
    {
     "data": {
      "text/plain": [
       "[[intbv(9797), intbv(19234), intbv(3735)],\n",
       " [intbv(60007), intbv(54682), intbv(16384)],\n",
       " [intbv(16384), intbv(51817), intbv(62872)]]"
      ]
     },
     "execution_count": 6,
     "metadata": {},
     "output_type": "execute_result"
    }
   ],
   "source": [
    "MATRIX"
   ]
  },
  {
   "cell_type": "code",
   "execution_count": 7,
   "id": "f5ef10e3",
   "metadata": {},
   "outputs": [],
   "source": [
    "from myirl.library.style_hdl import *\n",
    "from myirl import simulation as sim\n",
    "from myirl.test.common_test import gen_osc\n",
    "\n",
    "@block\n",
    "def video_rgb_yuv(clk : ClkSignal,\n",
    "                  vin : VideoPort,\n",
    "                  rgb : Signal,\n",
    "                  param_matrix : list,\n",
    "                  vout : VideoPort.Output,\n",
    "                  yuv : Signal.Output,):\n",
    "    \"\"\"RGB to full range YUV422 converter\"\"\"\n",
    "\n",
    "    v1 = vin.clone(\"vp_work\")\n",
    "    \n",
    "    py, pu, pv = [\n",
    "        VectorSig(3, F(0), initializer = I(param_matrix[i]), name = \"p_coef%d\" % i)  \\\n",
    "        for i in range(3)\n",
    "    ]\n",
    "    \n",
    "    # Use initializers:\n",
    "    py._init = True\n",
    "    pu._init = True\n",
    "    pv._init = True\n",
    "    \n",
    "    rgb_v = VectorSig(3, FractUnsigned(0, BPP), name = 'rgbv')\n",
    "    \n",
    "    a = VectorSig(3, FractSigned(0, CALCSIZE+2), name = \"add_res\")\n",
    "    y = VectorSig(3, FractUnsigned(0, CALCSIZE), name = \"ydata\")\n",
    "    u, v = [ VectorSig(3, FractSigned(0, CALCSIZE+1), name = n) for n in ['udata', 'vdata'] ]\n",
    "\n",
    "    # Wire up input RGB video:\n",
    "    wires = []\n",
    "    for i in range(3):\n",
    "        j = 3 - i\n",
    "        wires.append(rgb_v[i].wireup(rgb[j*BPP:(j-1)*BPP]))\n",
    "\n",
    "\n",
    "    # Predefine YUV slices\n",
    "    yuv_slices = (a[i][YUV_SLICE] for i in range(3) )\n",
    "         \n",
    "    wires += [\n",
    "        yuv.wireup(\n",
    "            concat(*yuv_slices)\n",
    "        )   \n",
    "    ]\n",
    "    \n",
    "    @genprocess(clk, EDGE=clk.POS)\n",
    "    def s1_mul():\n",
    "        yield [        \n",
    "            v1.set(vin), # Note (slight) inconsistency: '<=' not supported for bulks\n",
    "            \n",
    "            If (vin.dval == True) .Then(\n",
    "                y <= py * rgb_v,\n",
    "                u <= pu.signed() * rgb_v,\n",
    "                v <= pv.signed() * rgb_v\n",
    "            )\n",
    "        ]\n",
    "\n",
    "    @genprocess(clk, EDGE=clk.POS)\n",
    "    def s1_acc():\n",
    "        _y = y.sum()\n",
    "        _u = u.sum()\n",
    "        _v = v.sum()\n",
    "        \n",
    "        yield [        \n",
    "            vout.set(v1),\n",
    "\n",
    "            If (v1.dval == True) .Then(   \n",
    "                a[0].set(_y.signed()),\n",
    "                a[1].set(_u),\n",
    "                a[2].set(_v)\n",
    "            )\n",
    "        ]\n",
    "\n",
    "    return locals()\n"
   ]
  },
  {
   "cell_type": "markdown",
   "id": "e8978741",
   "metadata": {},
   "source": [
    "**Inconsistency Note**: Signal element assignment uses `.set`."
   ]
  },
  {
   "cell_type": "code",
   "execution_count": 8,
   "id": "7cb8ffd1",
   "metadata": {},
   "outputs": [],
   "source": [
    "from myirl.targets import VHDL\n",
    "from myirl.test.common_test import run_ghdl\n",
    "\n",
    "@block\n",
    "def testbench_rgb2yuv():\n",
    "    clk = ClkSignal(name = \"pclk\")\n",
    "    yuv = Signal(intbv(0)[3*BPP:])\n",
    "    vint, vout = [VideoPort() for _ in range(2)]\n",
    "    \n",
    "    yuv = Signal(intbv(0)[3*BPP:], name = 'yuv_data')\n",
    "    rgb = Signal(intbv(0)[3*BPP:], name = 'rgb_data')\n",
    "\n",
    "    testbench_rgb2yuv.insert(vout)\n",
    "    \n",
    "    inst = video_rgb_yuv(clk = clk,\n",
    "                        vin = vint,\n",
    "                        rgb = rgb,\n",
    "                        param_matrix = MATRIX,\n",
    "                        vout = vout,\n",
    "                        yuv = yuv\n",
    "    )\n",
    "    \n",
    "    osc = gen_osc(clk, CYCLE = 5)\n",
    "    \n",
    "    @sim.generator\n",
    "    def stimulus():       \n",
    "        yield [\n",
    "            sim.wait('1 ns'),\n",
    "            rgb.set(0xff00ff),\n",
    "            vint.dval.set(True), vint.fval.set(True), vint.lval.set(True),\n",
    "            sim.wait(3 * [ clk.posedge, ] ), \n",
    "            sim.assert_(vout.dval == True, \"Video not valid\"),\n",
    "        ]\n",
    "\n",
    "        for _ in range(3):\n",
    "            yield [\n",
    "                sim.print_(yuv),\n",
    "                sim.wait(clk.posedge), \n",
    "            ]\n",
    "\n",
    "        \n",
    "    return locals()\n",
    "\n",
    "def test():\n",
    "    tb = testbench_rgb2yuv()\n",
    "    files = tb.elab(VHDL, elab_all = True)\n",
    "    files.append('/tmp/record_defs.vhdl')\n",
    "    video_rgb_yuv.ctx.create_library(\"record_defs\")\n",
    "    run_ghdl(files, tb, debug = True)"
   ]
  },
  {
   "cell_type": "code",
   "execution_count": 9,
   "id": "707357e9",
   "metadata": {},
   "outputs": [
    {
     "name": "stdout",
     "output_type": "stream",
     "text": [
      "VHDL target: REGISTERING <class 'myirl.library.bulksignals.VideoPort'>\n",
      "Creating HDL style process 'video_rgb_yuv/s1_mul' with sensitivity (<clk>,)\n",
      "Creating HDL style process 'video_rgb_yuv/s1_acc' with sensitivity (<clk>,)\n",
      "\u001b[32m Insert unit video_rgb_yuv_s1dval_1_slval_1_sfval_1_s24__listdval_1_slval_1_sfval_1_s24 \u001b[0m\n",
      "Creating delay 'gen_osc/CLKGEN' : 5 ns\n",
      "Creating sequential 'testbench_rgb2yuv/stimulus' \n",
      "\u001b[32m Insert unit testbench_rgb2yuv \u001b[0m\n"
     ]
    },
    {
     "name": "stderr",
     "output_type": "stream",
     "text": [
      "../../myirl/kernel/components.py:785: UserWarning: Already collected rgbv\n",
      "  base.warnings.warn(\"Already collected %s\" % n)\n",
      "../../myirl/kernel/components.py:785: UserWarning: Already collected pclk\n",
      "  base.warnings.warn(\"Already collected %s\" % n)\n"
     ]
    },
    {
     "name": "stdout",
     "output_type": "stream",
     "text": [
      " DEBUG: Writing 'video_rgb_yuv' to file /tmp/video_rgb_yuv.vhdl \n",
      "Warning: Implicit truncation of ADD_builtin(ADD_builtin(udata, udata), udata) result\n",
      "Warning: Implicit truncation of ADD_builtin(ADD_builtin(vdata, vdata), vdata) result\n",
      "Finished _elab in 0.0917 secs\n"
     ]
    },
    {
     "name": "stderr",
     "output_type": "stream",
     "text": [
      "../../myirl/kernel/components.py:785: UserWarning: Already collected rgb_data\n",
      "  base.warnings.warn(\"Already collected %s\" % n)\n",
      "../../myirl/kernel/components.py:1313: UserWarning: Type VideoPort already registered\n",
      "  base.warnings.warn(\"Type %s already registered\" % identifier)\n"
     ]
    },
    {
     "name": "stdout",
     "output_type": "stream",
     "text": [
      " DEBUG: Writing 'testbench_rgb2yuv' to file /tmp/testbench_rgb2yuv.vhdl \n",
      "Finished _elab in 0.0319 secs\n",
      "==== COSIM stdout ====\n",
      "\n",
      "==== COSIM stderr ====\n",
      "\n",
      "==== COSIM stdout ====\n",
      "analyze /tmp/record_defs.vhdl\n",
      "analyze ../../myirl/targets/../test/vhdl/txt_util.vhdl\n",
      "analyze ../../myirl/targets/libmyirl.vhdl\n",
      "analyze /tmp/video_rgb_yuv.vhdl\n",
      "analyze /tmp/testbench_rgb2yuv.vhdl\n",
      "elaborate testbench_rgb2yuv\n",
      "\n",
      "==== COSIM stderr ====\n",
      "\n",
      "==== COSIM stdout ====\n",
      "0x69546A\n",
      "0x69546A\n",
      "0x69546A\n",
      "./testbench_rgb2yuv:info: simulation stopped by --stop-time @1us\n",
      "\n",
      "==== COSIM stderr ====\n",
      "\n"
     ]
    }
   ],
   "source": [
    "test()"
   ]
  },
  {
   "cell_type": "code",
   "execution_count": 10,
   "id": "30cfbe8a",
   "metadata": {},
   "outputs": [
    {
     "name": "stdout",
     "output_type": "stream",
     "text": [
      "     1\t-- File generated from /usr/local/lib/python3.8/runpy.py\r\n",
      "     2\t-- (c) 2016-2021 section5.ch\r\n",
      "     3\t-- Modifications may be lost\r\n",
      "     4\t\r\n",
      "     5\tlibrary IEEE;\r\n",
      "     6\tuse IEEE.std_logic_1164.all;\r\n",
      "     7\tuse IEEE.numeric_std.all;\r\n",
      "     8\t\r\n",
      "     9\tlibrary work;\r\n",
      "    10\t\r\n",
      "    11\tuse work.record_defs.all;\r\n",
      "    12\tuse work.txt_util.all;\r\n",
      "    13\tuse work.myirl_conversion.all;\r\n",
      "    14\t\r\n",
      "    15\tentity video_rgb_yuv is\r\n",
      "    16\t    port (\r\n",
      "    17\t        clk : in std_ulogic;\r\n",
      "    18\t        vin : in t_VideoPort;\r\n",
      "    19\t        rgb : in unsigned(23 downto 0);\r\n",
      "    20\t        vout : out t_VideoPort;\r\n",
      "    21\t        yuv : out unsigned(23 downto 0)\r\n",
      "    22\t    );\r\n",
      "    23\tend entity video_rgb_yuv;\r\n",
      "    24\t\r\n",
      "    25\tarchitecture MyIRL of video_rgb_yuv is\r\n",
      "    26\t    -- Local type declarations\r\n",
      "    27\t    -- Signal declarations\r\n",
      "    28\t    signal vp_work : t_VideoPort;\r\n",
      "    29\t    type a_ydata is array (0 to 2) of unsigned(23 downto 0);\r\n",
      "    30\t    signal ydata : a_ydata    ;\r\n",
      "    31\t    type a_udata is array (0 to 2) of signed(24 downto 0);\r\n",
      "    32\t    signal udata : a_udata    ;\r\n",
      "    33\t    type a_vdata is array (0 to 2) of signed(24 downto 0);\r\n",
      "    34\t    signal vdata : a_vdata    ;\r\n",
      "    35\t    type a_p_coef0 is array (0 to 2) of unsigned(15 downto 0);\r\n",
      "    36\t    signal p_coef0 : a_p_coef0     := (\r\n",
      "    37\t        x\"2645\",x\"4b22\",x\"0e97\"\r\n",
      "    38\t    );\r\n",
      "    39\t    type a_rgbv is array (0 to 2) of unsigned(7 downto 0);\r\n",
      "    40\t    signal rgbv : a_rgbv    ;\r\n",
      "    41\t    type a_p_coef1 is array (0 to 2) of unsigned(15 downto 0);\r\n",
      "    42\t    signal p_coef1 : a_p_coef1     := (\r\n",
      "    43\t        x\"ea67\",x\"d59a\",x\"4000\"\r\n",
      "    44\t    );\r\n",
      "    45\t    type a_p_coef2 is array (0 to 2) of unsigned(15 downto 0);\r\n",
      "    46\t    signal p_coef2 : a_p_coef2     := (\r\n",
      "    47\t        x\"4000\",x\"ca69\",x\"f598\"\r\n",
      "    48\t    );\r\n",
      "    49\t    type a_add_res is array (0 to 2) of signed(25 downto 0);\r\n",
      "    50\t    signal add_res : a_add_res := (\r\n",
      "    51\t        \"00000000000000000000000000\",\"00000000000000000000000000\",\r\n",
      "    52\t        \"00000000000000000000000000\"\r\n",
      "    53\t    );\r\n",
      "    54\tbegin\r\n",
      "    55\t    \r\n",
      "    56\ts1_mul:\r\n",
      "    57\t    process(clk)\r\n",
      "    58\t    begin\r\n",
      "    59\t        if rising_edge(clk) then\r\n",
      "    60\t            vp_work <= vin;\r\n",
      "    61\t            if (vin.dval = '1') then\r\n",
      "    62\t                ydata(0) <= (p_coef0(0) * rgbv(0));\r\n",
      "    63\t                ydata(1) <= (p_coef0(1) * rgbv(1));\r\n",
      "    64\t                ydata(2) <= (p_coef0(2) * rgbv(2));\r\n",
      "    65\t                udata(0) <= resize(((signed(p_coef1(0)) * signed(resize((rgbv(0)), 9)))), 25);\r\n",
      "    66\t                udata(1) <= resize(((signed(p_coef1(1)) * signed(resize((rgbv(1)), 9)))), 25);\r\n",
      "    67\t                udata(2) <= resize(((signed(p_coef1(2)) * signed(resize((rgbv(2)), 9)))), 25);\r\n",
      "    68\t                vdata(0) <= resize(((signed(p_coef2(0)) * signed(resize((rgbv(0)), 9)))), 25);\r\n",
      "    69\t                vdata(1) <= resize(((signed(p_coef2(1)) * signed(resize((rgbv(1)), 9)))), 25);\r\n",
      "    70\t                vdata(2) <= resize(((signed(p_coef2(2)) * signed(resize((rgbv(2)), 9)))), 25);\r\n",
      "    71\t            end if;\r\n",
      "    72\t        end if;\r\n",
      "    73\t    end process;\r\n",
      "    74\t    \r\n",
      "    75\ts1_acc:\r\n",
      "    76\t    process(clk)\r\n",
      "    77\t    begin\r\n",
      "    78\t        if rising_edge(clk) then\r\n",
      "    79\t            vout <= vp_work;\r\n",
      "    80\t            if (vp_work.dval = '1') then\r\n",
      "    81\t                add_res(0) <= signed((resize(((ydata(0) + resize((ydata(1)), 25))), 26) + ydata(2)));\r\n",
      "    82\t                add_res(1) <= resize(((resize(((udata(0) + resize((udata(1)), 26))), 27) + udata(2))), 26);\r\n",
      "    83\t                add_res(2) <= resize(((resize(((vdata(0) + resize((vdata(1)), 26))), 27) + vdata(2))), 26);\r\n",
      "    84\t            end if;\r\n",
      "    85\t        end if;\r\n",
      "    86\t    end process;\r\n",
      "    87\t    rgbv(0) <= rgb(24-1 downto 16);\r\n",
      "    88\t    rgbv(1) <= rgb(16-1 downto 8);\r\n",
      "    89\t    rgbv(2) <= rgb(8-1 downto 0);\r\n",
      "    90\t    yuv <= (unsigned(add_res(0)(23-1 downto 15)) & unsigned(add_res(1)(23-1 downto 15)) & unsigned(add_res(2)(23-1 downto 15)));\r\n",
      "    91\tend architecture MyIRL;\r\n",
      "    92\t\r\n"
     ]
    }
   ],
   "source": [
    "!cat -n /tmp/video_rgb_yuv.vhdl "
   ]
  },
  {
   "cell_type": "code",
   "execution_count": 11,
   "id": "5074d1da",
   "metadata": {},
   "outputs": [
    {
     "name": "stdout",
     "output_type": "stream",
     "text": [
      "-- File generated from /usr/local/lib/python3.8/runpy.py\r\n",
      "-- (c) 2016-2021 section5.ch\r\n",
      "-- Modifications may be lost\r\n",
      "\r\n",
      "library IEEE;\r\n",
      "use IEEE.std_logic_1164.all;\r\n",
      "use IEEE.numeric_std.all;\r\n",
      "\r\n",
      "package record_defs is\r\n",
      "    type t_VideoPort is record\r\n",
      "        dval : std_ulogic;\r\n",
      "        lval : std_ulogic;\r\n",
      "        fval : std_ulogic;\r\n",
      "    end record;\r\n",
      "\r\n",
      "end package record_defs;\r\n",
      "\r\n"
     ]
    }
   ],
   "source": [
    "!cat /tmp/record_defs.vhdl"
   ]
  }
 ],
 "metadata": {
  "kernelspec": {
   "display_name": "Python 3",
   "language": "python",
   "name": "python3"
  },
  "language_info": {
   "codemirror_mode": {
    "name": "ipython",
    "version": 3
   },
   "file_extension": ".py",
   "mimetype": "text/x-python",
   "name": "python",
   "nbconvert_exporter": "python",
   "pygments_lexer": "ipython3",
   "version": "3.8.5"
  }
 },
 "nbformat": 4,
 "nbformat_minor": 5
}

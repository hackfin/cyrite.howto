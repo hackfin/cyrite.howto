{
 "cells": [
  {
   "cell_type": "markdown",
   "id": "1dfb41b6",
   "metadata": {},
   "source": [
    "# Vector/Pipelining scenario #1: YUV to RGB conversion\n",
    "\n",
    "Example YUV to RGB conversion (simplified, not clamping)\n",
    "\n",
    "**Note** Not verified for correct conversion, concept study only\n",
    "\n",
    "Makes use of the `VectorSig` data type and the simple `@pipeline` decorator."
   ]
  },
  {
   "cell_type": "code",
   "execution_count": 1,
   "id": "6d8214c3",
   "metadata": {},
   "outputs": [
    {
     "name": "stdout",
     "output_type": "stream",
     "text": [
      "Defaulting to user installation because normal site-packages is not writeable\n",
      "Requirement already satisfied: numpy in /home/testing/.local/lib/python3.8/site-packages (1.21.0)\n",
      "\u001b[33mWARNING: You are using pip version 21.1.1; however, version 21.1.3 is available.\n",
      "You should consider upgrading via the '/usr/local/bin/python -m pip install --upgrade pip' command.\u001b[0m\n"
     ]
    }
   ],
   "source": [
    "!pip install numpy"
   ]
  },
  {
   "cell_type": "code",
   "execution_count": 2,
   "id": "be3b6602",
   "metadata": {},
   "outputs": [],
   "source": [
    "import sys\n",
    "sys.path.insert(0, '../..')"
   ]
  },
  {
   "cell_type": "markdown",
   "id": "23a707a7",
   "metadata": {},
   "source": [
    "Import video types:"
   ]
  },
  {
   "cell_type": "code",
   "execution_count": 3,
   "id": "d3e79eea",
   "metadata": {},
   "outputs": [],
   "source": [
    "from video.color import *\n",
    "from video.videotypes import *"
   ]
  },
  {
   "cell_type": "markdown",
   "id": "4f9cb5e0",
   "metadata": {},
   "source": [
    "Import pipeline and target auxiliaries:"
   ]
  },
  {
   "cell_type": "code",
   "execution_count": 4,
   "id": "56975585",
   "metadata": {},
   "outputs": [],
   "source": [
    "from myirl.library.pipeline import *\n",
    "from myirl import targets"
   ]
  },
  {
   "cell_type": "markdown",
   "id": "48838f80",
   "metadata": {},
   "source": [
    "Construct the conversion matrix, in this case for JPEG-compliant YCrCb:"
   ]
  },
  {
   "cell_type": "code",
   "execution_count": 5,
   "id": "2b7ab395",
   "metadata": {},
   "outputs": [],
   "source": [
    "CLAMP = False\n",
    "LEVELSHIFT = False\n",
    "BPP        = 8\n",
    "FRACT_SIZE = 16\n",
    "CALCSIZE   = FRACT_SIZE + BPP\n",
    "SATURATION_VALUE_MAX = 127 # YUV maximum value (saturation)\n",
    "SATURATION_VALUE_MIN = -128 # YUV minimum value (saturation)\n",
    "\n",
    "\n",
    "# Signed matrix entries:\n",
    "Y_FROM_RGB = vector_to_fp(FRACT_SIZE, 1, mat_jpeg_rgb2yuv[0])\n",
    "U_FROM_RGB = vector_to_fp(FRACT_SIZE, 1, mat_jpeg_rgb2yuv[1])\n",
    "V_FROM_RGB = vector_to_fp(FRACT_SIZE, 1, mat_jpeg_rgb2yuv[2])\n",
    "\n",
    "def F(x, s = FRACT_SIZE):\n",
    "    return intbv(x)[s:]\n",
    "\n",
    "YUV_SLICE = slice(CALCSIZE-1, CALCSIZE-1 - BPP)\n",
    "\n",
    "MATRIX = [\n",
    "    [ F(Y_FROM_RGB[i]) for i in range(3) ],\n",
    "    [ F(U_FROM_RGB[i]) for i in range(3) ],\n",
    "    [ F(V_FROM_RGB[i]) for i in range(3) ]\n",
    "]\n",
    "\n",
    "from myirl.vector import VectorSignal\n",
    "\n",
    "I = lambda x: ( x[i]._val for i in range(3) )\n",
    "\n",
    "# @bulkwrapper()\n",
    "# class RGBParam:\n",
    "#     def __init__(self):\n",
    "#         self.y = VectorSig(3, MATRIX[0], initializer = I(MATRIX[0]))\n",
    "#         self.u = VectorSig(3, MATRIX[1], initializer = I(MATRIX[1]))\n",
    "#         self.v = VectorSig(3, MATRIX[1], initializer = I(MATRIX[2]))"
   ]
  },
  {
   "cell_type": "code",
   "execution_count": 6,
   "id": "6c10fdd7",
   "metadata": {},
   "outputs": [
    {
     "data": {
      "text/plain": [
       "[[intbv(9797), intbv(19234), intbv(3735)],\n",
       " [intbv(60007), intbv(54682), intbv(16384)],\n",
       " [intbv(16384), intbv(51817), intbv(62872)]]"
      ]
     },
     "execution_count": 6,
     "metadata": {},
     "output_type": "execute_result"
    }
   ],
   "source": [
    "MATRIX"
   ]
  },
  {
   "cell_type": "code",
   "execution_count": 7,
   "id": "f5ef10e3",
   "metadata": {},
   "outputs": [],
   "source": [
    "from myirl import simulation as sim\n",
    "from myirl.test.common_test import gen_osc\n",
    "\n",
    "@block\n",
    "def video_rgb_yuv(clk : ClkSignal,\n",
    "                  vin : VideoPort,\n",
    "                  rgb : Signal,\n",
    "                  param_matrix : list,\n",
    "                  vout : VideoPort.Output,\n",
    "                  yuv : Signal.Output,):\n",
    "    \"\"\"RGB to full range YUV422 converter, manual pipeline inference\"\"\"\n",
    "    \n",
    "    py, pu, pv = [\n",
    "        VectorSignal(3, F(0), initializer = I(param_matrix[i]), name = \"p_coef%d\" % i)  \\\n",
    "        for i in range(3)\n",
    "    ]\n",
    "    \n",
    "    # Use initializers:\n",
    "    py._init = True\n",
    "    pu._init = True\n",
    "    pv._init = True\n",
    "    \n",
    "    valid = Signal(bool())\n",
    "    \n",
    "    rgb_v = VectorSignal(3, FractUnsigned(0, BPP), name = 'rgbv')\n",
    "    \n",
    "    a = VectorSignal(3, FractSigned(0, CALCSIZE+2), name = \"add_res\")\n",
    "    y = VectorSignal(3, FractUnsigned(0, CALCSIZE), name = \"ydata\")\n",
    "    u, v = [ VectorSignal(3, FractSigned(0, CALCSIZE+1), name = n) for n in ['udata', 'vdata'] ]\n",
    "\n",
    "    # Wire up input RGB video:\n",
    "    wires = []\n",
    "    for i in range(3):\n",
    "        j = 3 - i\n",
    "        wires.append(rgb_v[i].wireup(rgb[j*BPP:(j-1)*BPP]))\n",
    "\n",
    "    # Predefine YUV slices\n",
    "    yuv_slices = (a[i][YUV_SLICE] for i in range(3) )\n",
    "         \n",
    "    wires += [\n",
    "        yuv.wireup(\n",
    "            concat(*yuv_slices)\n",
    "        )   \n",
    "    ]\n",
    "    \n",
    "    \n",
    "    @pipeline(clk, None, ce = vin.dval, pass_in = vin, pass_out = vout)\n",
    "    def yuv_pipe(ctx):\n",
    "        \"\"\"This contains the two-stage transformation for the RGB-YUV matrix\"\"\"\n",
    "        yield [        \n",
    "            y.set(py * rgb_v),\n",
    "            u.set(pu.signed() * rgb_v),\n",
    "            v.set(pv.signed() * rgb_v)        \n",
    "        ]\n",
    "\n",
    "        # Create sum expressions for readability:\n",
    "        _y, _u, _v = (i.sum() for i in [y, u, v])\n",
    "        \n",
    "        yield [ \n",
    "            a[0].set(_y.signed()),\n",
    "            a[1].set(_u),\n",
    "            a[2].set(_v) \n",
    "        ]\n",
    "\n",
    "    return locals()\n"
   ]
  },
  {
   "cell_type": "markdown",
   "id": "ce208a93",
   "metadata": {},
   "source": [
    "### Testbench"
   ]
  },
  {
   "cell_type": "code",
   "execution_count": 8,
   "id": "7cb8ffd1",
   "metadata": {},
   "outputs": [],
   "source": [
    "from myirl.targets import VHDL\n",
    "from myirl.test.common_test import run_ghdl\n",
    "\n",
    "@block\n",
    "def testbench_rgb2yuv():\n",
    "    clk = ClkSignal(name = \"pclk\")\n",
    "    yuv = Signal(intbv(0)[3*BPP:])\n",
    "    vint, vout = [VideoPort() for _ in range(2)]\n",
    "    \n",
    "    yuv = Signal(intbv(0)[3*BPP:], name = 'yuv_data')\n",
    "    rgb = Signal(intbv(0)[3*BPP:], name = 'rgb_data')\n",
    "\n",
    "    testbench_rgb2yuv.insert(vout)\n",
    "    \n",
    "    inst = video_rgb_yuv(clk = clk,\n",
    "                        vin = vint,\n",
    "                        rgb = rgb,\n",
    "                        param_matrix = MATRIX,\n",
    "                        vout = vout,\n",
    "                        yuv = yuv\n",
    "    )\n",
    "    \n",
    "    osc = gen_osc(clk, CYCLE = 5)\n",
    "    \n",
    "    @sim.generator\n",
    "    def stimulus():    \n",
    "        \n",
    "        # Feed a few color values:\n",
    "        values = sim.Iterator([0x00ffff, 0x7f7f7f, 0x008300, 0x1a840a])\n",
    "        \n",
    "        yield [\n",
    "            vint.dval.set(False), vint.fval.set(True), vint.lval.set(True),\n",
    "            sim.wait(4 * [ clk.posedge, ] ), \n",
    "            vint.dval.set(True),\n",
    "            sim.For(values)(\n",
    "                sim.wait('1 ns'),\n",
    "                rgb.set(values),\n",
    "                sim.wait(2 * [clk.posedge]),\n",
    "                sim.print_(yuv),\n",
    "            ),\n",
    "\n",
    "            sim.wait(3 * [ clk.posedge, ] ), \n",
    "            sim.assert_(vout.dval == True, \"Video not valid\"),\n",
    "        ]\n",
    "\n",
    "        for _ in range(3):\n",
    "            yield [\n",
    "                sim.print_(yuv),\n",
    "                sim.wait(clk.posedge), \n",
    "            ]\n",
    "\n",
    "        yield [\n",
    "            sim.raise_(sim.StopSimulation)\n",
    "        ]\n",
    "        \n",
    "    return locals()\n",
    "\n",
    "def test():\n",
    "    tb = testbench_rgb2yuv()\n",
    "    files = tb.elab(VHDL, elab_all = True)\n",
    "    run_ghdl(files, tb, debug = True, vcdfile=\"yuv.vcd\")\n",
    "    return tb"
   ]
  },
  {
   "cell_type": "code",
   "execution_count": 9,
   "id": "707357e9",
   "metadata": {},
   "outputs": [
    {
     "name": "stdout",
     "output_type": "stream",
     "text": [
      "VHDL target: REGISTERING <class 'myirl.library.bulksignals.VideoPort'>\n",
      "Creating sequential 'testbench_rgb2yuv/stimulus' \n",
      " DEBUG: Writing 'video_rgb_yuv' to file /tmp/myirludebawxx/video_rgb_yuv.vhdl \n",
      "Warning: Implicit truncation of ADD_builtin(ADD_builtin(udata, udata), udata) result\n",
      "Warning: Implicit truncation of ADD_builtin(ADD_builtin(vdata, vdata), vdata) result\n",
      "Finished _elab in 0.0031 secs\n",
      " DEBUG: Writing 'testbench_rgb2yuv' to file /tmp/myirludebawxx/testbench_rgb2yuv.vhdl \n",
      "Finished _elab in 0.1430 secs\n",
      "==== COSIM stdout ====\n",
      "\n",
      "==== COSIM stderr ====\n",
      "\n",
      "==== COSIM stdout ====\n",
      "analyze /tmp/myirludebawxx/module_defs.vhdl\n",
      "analyze ../../myirl/targets/../test/vhdl/txt_util.vhdl\n",
      "analyze ../../myirl/targets/libmyirl.vhdl\n",
      "analyze /tmp/myirludebawxx/video_rgb_yuv.vhdl\n",
      "analyze /tmp/myirludebawxx/testbench_rgb2yuv.vhdl\n",
      "elaborate testbench_rgb2yuv\n",
      "\n",
      "==== COSIM stderr ====\n",
      "\n",
      "==== COSIM stdout ====\n",
      "0x000000\n",
      "0xB22B80\n",
      "0x7E0000\n",
      "0x4CD4C9\n",
      "0x56D4D4\n",
      "0x56D4D4\n",
      "0x56D4D4\n",
      "/tmp/myirludebawxx/testbench_rgb2yuv.vhdl:89:9:@175ns:(assertion failure): Stop Simulation\n",
      "./testbench_rgb2yuv:error: assertion failed\n",
      "in process .testbench_rgb2yuv(myirl).stimulus\n",
      "./testbench_rgb2yuv:error: simulation failed\n",
      "\n",
      "==== COSIM stderr ====\n",
      "\n"
     ]
    }
   ],
   "source": [
    "tb = test()"
   ]
  },
  {
   "cell_type": "markdown",
   "id": "476dfeea",
   "metadata": {},
   "source": [
    "## Waveform trace"
   ]
  },
  {
   "cell_type": "code",
   "execution_count": 10,
   "id": "47b5569e",
   "metadata": {},
   "outputs": [
    {
     "data": {
      "text/html": [
       "<div><script type=\"WaveDrom\">{\"signal\": [{\"name\": \"testbench_rgb2yuv.yuv_data[23:0]\", \"wave\": \"=..........=...=...=...=...........\", \"data\": \"00 b22b80 7e0000 4cd4c9 56d4d4 \"}, {\"name\": \"testbench_rgb2yuv.pclk\", \"wave\": \"01010101010101010101010101010101010\", \"data\": \"01010101010101010101010101010101010\"}, {\"name\": \"testbench_rgb2yuv.rgb_data[23:0]\", \"wave\": \"x.......=...=...=...=..............\", \"data\": \"ffff 7f7f7f 8300 1a840a \"}, {\"name\": \"testbench_rgb2yuv.inst_video_rgb_yuv_0.clk\", \"wave\": \"01010101010101010101010101010101010\", \"data\": \"01010101010101010101010101010101010\"}, {\"name\": \"testbench_rgb2yuv.inst_video_rgb_yuv_0.rgb[23:0]\", \"wave\": \"x.......=...=...=...=..............\", \"data\": \"ffff 7f7f7f 8300 1a840a \"}, {\"name\": \"testbench_rgb2yuv.inst_video_rgb_yuv_0.yuv[23:0]\", \"wave\": \"=..........=...=...=...=...........\", \"data\": \"00 b22b80 7e0000 4cd4c9 56d4d4 \"}, {\"name\": \"testbench_rgb2yuv.inst_video_rgb_yuv_0.yuv_pipe_ce1\", \"wave\": \".0.......1.........................\", \"data\": \"01\"}, {\"name\": \"testbench_rgb2yuv.inst_video_rgb_yuv_0.yuv_pipe_ce2\", \"wave\": \"...0.......1.......................\", \"data\": \"01\"}, {\"name\": \"testbench_rgb2yuv.inst_video_rgb_yuv_0.yuv_pipe_ce0\", \"wave\": \"0......1...........................\", \"data\": \"01\"}]}</script></div>"
      ]
     },
     "metadata": {},
     "output_type": "display_data"
    },
    {
     "data": {
      "application/javascript": [
       "new Promise(function(resolve, reject) {\n",
       "\tvar script = document.createElement(\"script\");\n",
       "\tscript.onload = resolve;\n",
       "\tscript.onerror = reject;\n",
       "\tscript.src = \"https://wavedrom.com/wavedrom.min.js\";\n",
       "\tdocument.head.appendChild(script);\n",
       "}).then(() => {\n",
       "new Promise(function(resolve, reject) {\n",
       "\tvar script = document.createElement(\"script\");\n",
       "\tscript.onload = resolve;\n",
       "\tscript.onerror = reject;\n",
       "\tscript.src = \"https://wavedrom.com/skins/narrow.js\";\n",
       "\tdocument.head.appendChild(script);\n",
       "}).then(() => {\n",
       "WaveDrom.ProcessAll();\n",
       "});\n",
       "});"
      ]
     },
     "metadata": {},
     "output_type": "display_data"
    }
   ],
   "source": [
    "import wavedraw; import nbwavedrom\n",
    "TB = tb.name;\n",
    "cfg = {\n",
    "    'tb.pclk' : None, 'tb.en' : None, 'tb.reset' : None,\n",
    "    'tb.valid' : None, 'tb.data_out[4:0]' : None, 'tb.data_in[4:0]' : None, \n",
    "    'tb.inst_dummy_0.q[7:0]' : None, 'tb.inst_dummy_0.a[6:0]' : None,\n",
    "}\n",
    "waveform = wavedraw.vcd2wave(\"yuv.vcd\", TB + '.pclk', None)\n",
    "nbwavedrom.draw(waveform)"
   ]
  },
  {
   "cell_type": "markdown",
   "id": "902c39b8",
   "metadata": {},
   "source": [
    "**Note** Bug in wave display. See correct trace: (Download) [yuv.vcd](yuv.vcd)"
   ]
  },
  {
   "cell_type": "code",
   "execution_count": 11,
   "id": "30cfbe8a",
   "metadata": {},
   "outputs": [
    {
     "name": "stdout",
     "output_type": "stream",
     "text": [
      "     1\t-- File generated from /usr/local/lib/python3.8/runpy.py\r\n",
      "     2\t-- (c) 2016-2021 section5.ch\r\n",
      "     3\t-- Modifications may be lost\r\n",
      "     4\t\r\n",
      "     5\tlibrary IEEE;\r\n",
      "     6\tuse IEEE.std_logic_1164.all;\r\n",
      "     7\tuse IEEE.numeric_std.all;\r\n",
      "     8\t\r\n",
      "     9\tlibrary work;\r\n",
      "    10\t\r\n",
      "    11\tuse work.module_defs.all;\r\n",
      "    12\tuse work.txt_util.all;\r\n",
      "    13\tuse work.myirl_conversion.all;\r\n",
      "    14\t\r\n",
      "    15\tentity video_rgb_yuv is\r\n",
      "    16\t    port (\r\n",
      "    17\t        clk : in std_ulogic;\r\n",
      "    18\t        vin : in t_VideoPort;\r\n",
      "    19\t        rgb : in unsigned(23 downto 0);\r\n",
      "    20\t        vout : out t_VideoPort;\r\n",
      "    21\t        yuv : out unsigned(23 downto 0)\r\n",
      "    22\t    );\r\n",
      "    23\tend entity video_rgb_yuv;\r\n",
      "    24\t\r\n",
      "    25\tarchitecture MyIRL of video_rgb_yuv is\r\n",
      "    26\t    -- Local type declarations\r\n",
      "    27\t    -- Signal declarations\r\n",
      "    28\t    signal yuv_pipe_ce1 : std_ulogic;\r\n",
      "    29\t    signal yuv_pipe_ce2 : std_ulogic;\r\n",
      "    30\t    signal yuv_pipe_ce0 : std_ulogic;\r\n",
      "    31\t    type a_ydata is array (0 to 2) of unsigned(23 downto 0);\r\n",
      "    32\t    signal ydata : a_ydata    ;\r\n",
      "    33\t    type a_udata is array (0 to 2) of signed(24 downto 0);\r\n",
      "    34\t    signal udata : a_udata    ;\r\n",
      "    35\t    type a_vdata is array (0 to 2) of signed(24 downto 0);\r\n",
      "    36\t    signal vdata : a_vdata    ;\r\n",
      "    37\t    type a_add_res is array (0 to 2) of signed(25 downto 0);\r\n",
      "    38\t    signal add_res : a_add_res := (\r\n",
      "    39\t        \"00000000000000000000000000\",\"00000000000000000000000000\",\r\n",
      "    40\t        \"00000000000000000000000000\"\r\n",
      "    41\t    );\r\n",
      "    42\t    signal yuv_pipe_bypass1 : t_VideoPort;\r\n",
      "    43\t    signal yuv_pipe_bypass2 : t_VideoPort;\r\n",
      "    44\t    signal yuv_pipe_bypass0 : t_VideoPort;\r\n",
      "    45\t    type a_p_coef0 is array (0 to 2) of unsigned(15 downto 0);\r\n",
      "    46\t    signal p_coef0 : a_p_coef0     := (\r\n",
      "    47\t        x\"2645\",x\"4b22\",x\"0e97\"\r\n",
      "    48\t    );\r\n",
      "    49\t    type a_rgbv is array (0 to 2) of unsigned(7 downto 0);\r\n",
      "    50\t    signal rgbv : a_rgbv    ;\r\n",
      "    51\t    type a_p_coef1 is array (0 to 2) of unsigned(15 downto 0);\r\n",
      "    52\t    signal p_coef1 : a_p_coef1     := (\r\n",
      "    53\t        x\"ea67\",x\"d59a\",x\"4000\"\r\n",
      "    54\t    );\r\n",
      "    55\t    type a_p_coef2 is array (0 to 2) of unsigned(15 downto 0);\r\n",
      "    56\t    signal p_coef2 : a_p_coef2     := (\r\n",
      "    57\t        x\"4000\",x\"ca69\",x\"f598\"\r\n",
      "    58\t    );\r\n",
      "    59\tbegin\r\n",
      "    60\t    \r\n",
      "    61\tce_queue:\r\n",
      "    62\t    process(clk)\r\n",
      "    63\t    begin\r\n",
      "    64\t        if rising_edge(clk) then\r\n",
      "    65\t            yuv_pipe_ce1 <= yuv_pipe_ce0;\r\n",
      "    66\t            yuv_pipe_ce2 <= yuv_pipe_ce1;\r\n",
      "    67\t        end if;\r\n",
      "    68\t    end process;\r\n",
      "    69\t    yuv_pipe_ce0 <= vin.dval;\r\n",
      "    70\t    \r\n",
      "    71\tyuv_pipe_stage0:\r\n",
      "    72\t    process(clk)\r\n",
      "    73\t    begin\r\n",
      "    74\t        if rising_edge(clk) then\r\n",
      "    75\t            if (yuv_pipe_ce0 = '1') then\r\n",
      "    76\t                ydata(0) <= (p_coef0(0) * rgbv(0));\r\n",
      "    77\t                ydata(1) <= (p_coef0(1) * rgbv(1));\r\n",
      "    78\t                ydata(2) <= (p_coef0(2) * rgbv(2));\r\n",
      "    79\t                udata(0) <= resize(((signed(p_coef1(0)) * signed(resize((rgbv(0)), 9)))), 25);\r\n",
      "    80\t                udata(1) <= resize(((signed(p_coef1(1)) * signed(resize((rgbv(1)), 9)))), 25);\r\n",
      "    81\t                udata(2) <= resize(((signed(p_coef1(2)) * signed(resize((rgbv(2)), 9)))), 25);\r\n",
      "    82\t                vdata(0) <= resize(((signed(p_coef2(0)) * signed(resize((rgbv(0)), 9)))), 25);\r\n",
      "    83\t                vdata(1) <= resize(((signed(p_coef2(1)) * signed(resize((rgbv(1)), 9)))), 25);\r\n",
      "    84\t                vdata(2) <= resize(((signed(p_coef2(2)) * signed(resize((rgbv(2)), 9)))), 25);\r\n",
      "    85\t            end if;\r\n",
      "    86\t        end if;\r\n",
      "    87\t    end process;\r\n",
      "    88\t    \r\n",
      "    89\tyuv_pipe_stage1:\r\n",
      "    90\t    process(clk)\r\n",
      "    91\t    begin\r\n",
      "    92\t        if rising_edge(clk) then\r\n",
      "    93\t            if (yuv_pipe_ce1 = '1') then\r\n",
      "    94\t                add_res(0) <= signed((resize(((ydata(0) + resize((ydata(1)), 25))), 26) + ydata(2)));\r\n",
      "    95\t                add_res(1) <= resize(((resize(((udata(0) + resize((udata(1)), 26))), 27) + udata(2))), 26);\r\n",
      "    96\t                add_res(2) <= resize(((resize(((vdata(0) + resize((vdata(1)), 26))), 27) + vdata(2))), 26);\r\n",
      "    97\t            end if;\r\n",
      "    98\t        end if;\r\n",
      "    99\t    end process;\r\n",
      "   100\t    \r\n",
      "   101\tdelay_queue:\r\n",
      "   102\t    process(clk)\r\n",
      "   103\t    begin\r\n",
      "   104\t        if rising_edge(clk) then\r\n",
      "   105\t            yuv_pipe_bypass1 <= yuv_pipe_bypass0;\r\n",
      "   106\t            yuv_pipe_bypass2 <= yuv_pipe_bypass1;\r\n",
      "   107\t        end if;\r\n",
      "   108\t    end process;\r\n",
      "   109\t    vout <= yuv_pipe_bypass2;\r\n",
      "   110\t    yuv_pipe_bypass0 <= vin;\r\n",
      "   111\t    rgbv(0) <= rgb(24-1 downto 16);\r\n",
      "   112\t    rgbv(1) <= rgb(16-1 downto 8);\r\n",
      "   113\t    rgbv(2) <= rgb(8-1 downto 0);\r\n",
      "   114\t    yuv <= (unsigned(add_res(0)(23-1 downto 15)) & unsigned(add_res(1)(23-1 downto 15)) & unsigned(add_res(2)(23-1 downto 15)));\r\n",
      "   115\tend architecture MyIRL;\r\n",
      "   116\t\r\n"
     ]
    }
   ],
   "source": [
    "!cat -n {testbench_rgb2yuv.ctx.path_prefix}/video_rgb_yuv.vhdl "
   ]
  },
  {
   "cell_type": "markdown",
   "id": "a1b4666f",
   "metadata": {},
   "source": [
    "## Verification exercise\n",
    "\n",
    "Using numpy, we can run our samples through the floating point matrix as well:"
   ]
  },
  {
   "cell_type": "code",
   "execution_count": 12,
   "id": "02c5727b",
   "metadata": {},
   "outputs": [],
   "source": [
    "v = numpy.matrix(mat_jpeg_rgb2yuv)\n",
    "rgb = numpy.matrix([ (127, 127, 127), (0, 255, 255), (0, 0x83, 0)]).T\n",
    "\n",
    "yuv = v * rgb"
   ]
  },
  {
   "cell_type": "code",
   "execution_count": 13,
   "id": "4e19caec",
   "metadata": {},
   "outputs": [
    {
     "data": {
      "text/plain": [
       "matrix([['7e', '00', '00'],\n",
       "        ['b2', '2b', '81'],\n",
       "        ['4c', 'd5', 'ca']], dtype='<U2')"
      ]
     },
     "execution_count": 13,
     "metadata": {},
     "output_type": "execute_result"
    }
   ],
   "source": [
    "g = lambda x: \"%02x\" % (int(x) & 0xff)\n",
    "f = numpy.vectorize(g)\n",
    "f(yuv.T)"
   ]
  },
  {
   "cell_type": "markdown",
   "id": "1dc5c640",
   "metadata": {},
   "source": [
    "Why will the results not completely match their Fractional multiplication counter parts? **Exercise**"
   ]
  }
 ],
 "metadata": {
  "kernelspec": {
   "display_name": "Python 3 (ipykernel)",
   "language": "python",
   "name": "python3"
  },
  "language_info": {
   "codemirror_mode": {
    "name": "ipython",
    "version": 3
   },
   "file_extension": ".py",
   "mimetype": "text/x-python",
   "name": "python",
   "nbconvert_exporter": "python",
   "pygments_lexer": "ipython3",
   "version": "3.8.5"
  }
 },
 "nbformat": 4,
 "nbformat_minor": 5
}

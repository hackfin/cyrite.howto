{
 "cells": [
  {
   "cell_type": "markdown",
   "metadata": {},
   "source": [
    "# Procedural elements\n",
    "\n",
    "There are cases where you construct a logic out of a chain of primitive elements.\n",
    "Take a gray counter, for example. It is used often for cross-clock-domain negotations\n",
    "(dual clock FIFO fill counters).\n",
    "\n",
    "\n",
    "## Gray counter\n",
    "\n",
    "This gray counter example is a bit 'overdone' in comparison to the classical\n",
    "examples to demonstrate configureability and procedural concatenation of elements."
   ]
  },
  {
   "cell_type": "markdown",
   "metadata": {},
   "source": [
    "### Gray 'primitive'\n",
    "\n",
    "This `gray_unit` is a (configureable) element to construct gray counters of arbitrary length."
   ]
  },
  {
   "cell_type": "code",
   "execution_count": 1,
   "metadata": {},
   "outputs": [],
   "source": [
    "from myirl.emulation.myhdl import *\n",
    "\n",
    "_in = Signal\n",
    "_out = Signal.Output\n",
    "\n",
    "@block\n",
    "def gray_unit(\n",
    "    clk : ClkSignal,\n",
    "    ce : _in, reset : ResetSignal,\n",
    "    flavor : _in,\n",
    "    ia : _in,\n",
    "    ib: _in,\n",
    "    oa : _out,\n",
    "    ob : _out,\n",
    "    NEW_STYLE = False,\n",
    "    *, INITVAL = False\n",
    "):\n",
    "    a = Signal(INITVAL, name='a')\n",
    "\n",
    "    @always_seq(clk.posedge, reset)\n",
    "    def worker():\n",
    "        if ce == 1:\n",
    "            a.next = a ^ ((ia ^ flavor) & ib)\n",
    "            \n",
    "    if NEW_STYLE:\n",
    "        wire0 = oa.wireup(a)\n",
    "        wire1 = ob.wireup(ib & ~(ia ^ flavor)) \n",
    "    else: \n",
    "        @always_comb\n",
    "        def assign():\n",
    "            oa.next = a\n",
    "            ob.next = ib & ~(ia ^ flavor)\n",
    "\n",
    "    return instances()"
   ]
  },
  {
   "cell_type": "markdown",
   "metadata": {},
   "source": [
    "From this element, we construct a gray counter using a few auxiliaries:"
   ]
  },
  {
   "cell_type": "code",
   "execution_count": 2,
   "metadata": {},
   "outputs": [],
   "source": [
    "import myhdl\n",
    "\n",
    "def graycode(v, size):\n",
    "    bv = intbv(v)[size:]\n",
    "    z = bv ^ myhdl.concat(\"0\", bv[size:1])\n",
    "    # print \"Gray code:\", z, len(bv)\n",
    "    return intbv(z)[size:]\n",
    "\n",
    "def parity(v):\n",
    "    \"\"\"Return parity bit from value v\"\"\"\n",
    "    p = False\n",
    "    for i in v:\n",
    "        if i:\n",
    "            p = not p\n",
    "\n",
    "    return p"
   ]
  },
  {
   "cell_type": "code",
   "execution_count": 3,
   "metadata": {},
   "outputs": [],
   "source": [
    "@block\n",
    "def gray_counter(\n",
    "    clk : ClkSignal,\n",
    "    ce : Signal,\n",
    "    reset : ResetSignal,\n",
    "    rval : intbv,\n",
    "    direction : Signal,\n",
    "    val : Signal.Output\n",
    "):\n",
    "        \n",
    "    n = len(val)\n",
    "    p = parity(rval)\n",
    "    \n",
    "    z = not (p ^ direction) # Important to use `not` to get boolean result\n",
    "    \n",
    "    u = [ Signal(bool(z), name=\"u%d\" % (i)) for i in range(n+1) ]\n",
    "    u0 = u[0]\n",
    "\n",
    "    v = [ Signal(bool(), name='v%d' % i) for i in range(n+1) ]\n",
    "    s = Signal(bool())\n",
    "\n",
    "    tmp = list(reversed(u))[:-1]\n",
    "    out = concat(*tmp)\n",
    "    inst_gray = []\n",
    "\n",
    "    @always_seq(clk.posedge, reset)\n",
    "    def worker():\n",
    "        if ce == 1:\n",
    "            u0.next = ~u0\n",
    "\n",
    "    wires = [\n",
    "        val.wireup(out),\n",
    "        v[0].wireup(True)      \n",
    "    ]\n",
    "            \n",
    "    @always_comb\n",
    "    def assign():\n",
    "        if direction == True:\n",
    "            s.next = u[n-1] ^ u[n]\n",
    "        else:\n",
    "            s.next = u[n-1] | u[n]\n",
    "\n",
    "\n",
    "    for i in range(1, n):\n",
    "        inst_gray.append(gray_unit(clk, ce, reset, direction, u[i-1], v[i-1], u[i], v[i], INITVAL = rval[i-1]))\n",
    "\n",
    "    # and MSB:\n",
    "    inst_gray.append(    gray_unit(clk, ce, reset, direction, s,      v[n-1], u[n], v[n], INITVAL = rval[n-1]))\n",
    "\n",
    "    return instances()"
   ]
  },
  {
   "cell_type": "markdown",
   "metadata": {},
   "source": [
    "## Simulation"
   ]
  },
  {
   "cell_type": "markdown",
   "metadata": {},
   "source": [
    "For fun, we create a `Waveform` class from an Iterator"
   ]
  },
  {
   "cell_type": "code",
   "execution_count": 4,
   "metadata": {},
   "outputs": [],
   "source": [
    "from myirl.loops import Iterator\n",
    "\n",
    "class Waveform(Iterator):\n",
    "    def __init__(self, val, name = 'waveform'):\n",
    "        it = [ True if i == '1' else False for i in val]\n",
    "        super().__init__(it, name)\n",
    "    def convert(self, tgt, tsz = None):\n",
    "        return \"True\" if self.val else \"False\"\n",
    "    def resolve_type(self):\n",
    "        return bool"
   ]
  },
  {
   "cell_type": "code",
   "execution_count": 5,
   "metadata": {},
   "outputs": [
    {
     "name": "stdout",
     "output_type": "stream",
     "text": [
      "Creating process 'gray_counter/worker' with sensitivity (clk'rising, <reset>)\n",
      "Using default for NEW_STYLE: False\n",
      " NEW_STYLE: use default False \n",
      "Creating process 'gray_unit/worker' with sensitivity (clk'rising, <reset>)\n",
      "Using default for NEW_STYLE: False\n",
      " NEW_STYLE: use default False \n",
      "Using default for NEW_STYLE: False\n",
      " NEW_STYLE: use default False \n",
      "Using default for NEW_STYLE: False\n",
      " NEW_STYLE: use default False \n",
      "Creating sequential 'tb_gray/stim' \n",
      " Elaborating component gray_unit_s1_s1_s1_s1_s1_s1_s1_s1_0_0 \n",
      " Writing 'gray_unit' to file /tmp/myirl_top_tb_gray_3oyr0l9o/gray_unit.vhdl \n",
      " Elaborating component gray_counter_s1_s1_s1__intbv_s1_s4 \n",
      " Writing 'gray_counter' to file /tmp/myirl_top_tb_gray_3oyr0l9o/gray_counter.vhdl \n",
      " Elaborating component tb_gray_4 \n",
      " Writing 'tb_gray' to file /tmp/myirl_top_tb_gray_3oyr0l9o/tb_gray.vhdl \n",
      " Creating library file /tmp/myirl_module_defs_t_8wxf46/module_defs.vhdl \n",
      "==== COSIM stdout ====\n",
      "\n",
      "==== COSIM stderr ====\n",
      "\n",
      "==== COSIM stdout ====\n",
      "analyze /home/testing/.local/lib/python3.9/site-packages/myirl-0.0.0-py3.9-linux-x86_64.egg/myirl/targets/../test/vhdl/txt_util.vhdl\n",
      "analyze /home/testing/.local/lib/python3.9/site-packages/myirl-0.0.0-py3.9-linux-x86_64.egg/myirl/targets/libmyirl.vhdl\n",
      "analyze /tmp/myirl_top_tb_gray_3oyr0l9o/gray_unit.vhdl\n",
      "analyze /tmp/myirl_top_tb_gray_3oyr0l9o/gray_counter.vhdl\n",
      "analyze /tmp/myirl_top_tb_gray_3oyr0l9o/tb_gray.vhdl\n",
      "elaborate tb_gray\n",
      "\n",
      "==== COSIM stderr ====\n",
      "\n",
      "==== COSIM stdout ====\n",
      "/tmp/myirl_top_tb_gray_3oyr0l9o/tb_gray.vhdl:156:9:@256ns:(assertion failure): Stop Simulation\n",
      "/tmp/tb_gray:error: assertion failed\n",
      "in process .tb_gray(myirl).stim\n",
      "  from: [unknown caller]\n",
      "  from: .libc_start_main at libc-start.c:308\n",
      "/tmp/tb_gray:error: simulation failed\n",
      "\n",
      "==== COSIM stderr ====\n",
      "\n"
     ]
    }
   ],
   "source": [
    "from myirl.test.common_test import gen_osc\n",
    "\n",
    "@block\n",
    "def tb_gray(SIZE):\n",
    "    clk = ClkSignal(name='clk')\n",
    "    ce = Signal(bool(), name='ce')\n",
    "    direction = Signal(bool(1))\n",
    "    direction.init = True\n",
    "\n",
    "    reset = ResetSignal(0, 1, isasync = False)\n",
    "    dout = Signal(intbv()[SIZE:], name='dout')\n",
    "\n",
    "    o = Signal(intbv()[SIZE:])    \n",
    "    rv = graycode(0, SIZE)\n",
    "    gc = gray_counter(clk, ce, reset, rv, direction, o, USE_ALIAS=True)\n",
    "    \n",
    "    osc = gen_osc(clk, 4)\n",
    "\n",
    "    @always_comb\n",
    "    def assign():\n",
    "        dout.next = o\n",
    "        \n",
    "    @instance\n",
    "    def stim():\n",
    "        ce.next = False\n",
    "        direction.next = False\n",
    "        reset.next = True\n",
    "        yield delay(10)\n",
    "        reset.next = False\n",
    "        for i in Waveform(\"0011111111100000\"):\n",
    "            ce.next = i       \n",
    "            yield clk.negedge\n",
    "        direction.next = True\n",
    "        for i in Waveform(\"001111000111110\"):\n",
    "            ce.next = i       \n",
    "            yield clk.negedge\n",
    "\n",
    "        raise StopSimulation\n",
    "\n",
    "\n",
    "    return instances()\n",
    "\n",
    "from myirl import targets\n",
    "from myirl.test.common_test import run_ghdl\n",
    "\n",
    "def run_testbench(SIZE):\n",
    "    tb = tb_gray(SIZE)\n",
    "    files = tb.elab(targets.VHDL, elab_all=True)\n",
    "    run_ghdl(files, tb, debug = True, vcdfile='tb_gray.vcd')\n",
    "    return files\n",
    "\n",
    "    \n",
    "GRAY_COUNTER_SIZE = 4\n",
    "f = run_testbench(GRAY_COUNTER_SIZE)"
   ]
  },
  {
   "cell_type": "markdown",
   "metadata": {},
   "source": [
    "In the non-parametrized variant, two implementations of `gray_unit` are emitted. We dump the first:"
   ]
  },
  {
   "cell_type": "code",
   "execution_count": 6,
   "metadata": {},
   "outputs": [
    {
     "name": "stdout",
     "output_type": "stream",
     "text": [
      "     1\t-- File generated from source:\n",
      "     2\t--     /tmp/ipykernel_42709/2642985506.py\n",
      "     3\t-- (c) 2016-2021 section5.ch\n",
      "     4\t-- Modifications may be lost, edit the source file instead.\n",
      "     5\t\n",
      "     6\tlibrary IEEE;\n",
      "     7\tuse IEEE.std_logic_1164.all;\n",
      "     8\tuse IEEE.numeric_std.all;\n",
      "     9\t\n",
      "    10\tlibrary work;\n",
      "    11\t\n",
      "    12\tuse work.txt_util.all;\n",
      "    13\tuse work.myirl_conversion.all;\n",
      "    14\t\n",
      "    15\tentity gray_unit is\n",
      "    16\t    generic (\n",
      "    17\t        INITVAL: boolean := FALSE\n",
      "    18\t    );\n",
      "    19\t    port (\n",
      "    20\t        clk : in std_ulogic;\n",
      "    21\t        ce : in std_ulogic;\n",
      "    22\t        reset : in std_ulogic;\n",
      "    23\t        flavor : in std_ulogic;\n",
      "    24\t        ia : in std_ulogic;\n",
      "    25\t        ib : in std_ulogic;\n",
      "    26\t        oa : out std_ulogic;\n",
      "    27\t        ob : out std_ulogic\n",
      "    28\t    );\n",
      "    29\tend entity gray_unit;\n",
      "    30\t\n",
      "    31\tarchitecture MyIRL of gray_unit is\n",
      "    32\t    -- Local type declarations\n",
      "    33\t    -- Signal declarations\n",
      "    34\t    signal a : std_ulogic;\n",
      "    35\tbegin\n",
      "    36\t    \n",
      "    37\tworker:\n",
      "    38\t    process(clk, reset)\n",
      "    39\t    begin\n",
      "    40\t        if rising_edge(clk) then\n",
      "    41\t            if reset = '1' then\n",
      "    42\t                a <= '0';\n",
      "    43\t            else\n",
      "    44\t                if (ce = '1') then\n",
      "    45\t                    a <= (a xor ((ia xor flavor) and ib));\n",
      "    46\t                end if;\n",
      "    47\t            end if;\n",
      "    48\t        end if;\n",
      "    49\t    end process;\n",
      "    50\t    \n",
      "    51\tassign:\n",
      "    52\t    process(a, ib, ia, flavor)\n",
      "    53\t    begin\n",
      "    54\t        oa <= a;\n",
      "    55\t        ob <= (ib and (ia xor flavor));\n",
      "    56\t    end process;\n",
      "    57\t\n",
      "    58\tend architecture MyIRL;\n",
      "    59\t\n"
     ]
    }
   ],
   "source": [
    "! cat -n {f[0]}"
   ]
  },
  {
   "cell_type": "markdown",
   "metadata": {},
   "source": [
    "## Waveform display"
   ]
  },
  {
   "cell_type": "code",
   "execution_count": 7,
   "metadata": {},
   "outputs": [
    {
     "name": "stdout",
     "output_type": "stream",
     "text": [
      "tb_gray.clk\n",
      "tb_gray.reset\n",
      "tb_gray.dout[3:0]\n",
      "tb_gray.ce\n",
      "tb_gray.inst_gray_counter_0.reset\n",
      "tb_gray.inst_gray_counter_0.u0\n",
      "tb_gray.inst_gray_counter_0.u1\n",
      "tb_gray.inst_gray_counter_0.u2\n",
      "tb_gray.inst_gray_counter_0.u3\n",
      "tb_gray.inst_gray_counter_0.u4\n"
     ]
    },
    {
     "data": {
      "text/html": [
       "<div><script type=\"WaveDrom\">{\"signal\": [{\"name\": \"tb_gray.clk\", \"wave\": \"0101010101010101010101010101010101010101010101010101010101010101\", \"data\": \"0101010101010101010101010101010101010101010101010101010101010101\"}, {\"name\": \"tb_gray.reset\", \"wave\": \"1..0............................................................\", \"data\": \"10\"}, {\"name\": \"tb_gray.dout[3:0]\", \"wave\": \"u=.......=...=...=...=...................=...=.........=...=....\", \"data\": \"00 01 02 03 04 03 02 01 00 \"}, {\"name\": \"tb_gray.ce\", \"wave\": \"0.....1.................0.............1.......0.....1.........0.\", \"data\": \"0101010\"}, {\"name\": \"tb_gray.inst_gray_counter_0.reset\", \"wave\": \"1..0............................................................\", \"data\": \"10\"}, {\"name\": \"tb_gray.inst_gray_counter_0.u0\", \"wave\": \"u0.....1.0.1.0.1.0.1.0.1...............0.1.0.1.......0.1.0.1.0..\", \"data\": \"0101010101010101010\"}, {\"name\": \"tb_gray.inst_gray_counter_0.u1\", \"wave\": \"u0.......1...0...1...0...................1...0.........1...0....\", \"data\": \"010101010\"}, {\"name\": \"tb_gray.inst_gray_counter_0.u2\", \"wave\": \"u0...........1.......0...................1.............0........\", \"data\": \"01010\"}, {\"name\": \"tb_gray.inst_gray_counter_0.u3\", \"wave\": \"u0...................1...................0......................\", \"data\": \"010\"}, {\"name\": \"tb_gray.inst_gray_counter_0.u4\", \"wave\": \"u0..............................................................\", \"data\": \"0\"}]}</script></div>"
      ]
     },
     "metadata": {},
     "output_type": "display_data"
    },
    {
     "data": {
      "application/javascript": [
       "new Promise(function(resolve, reject) {\n",
       "\tvar script = document.createElement(\"script\");\n",
       "\tscript.onload = resolve;\n",
       "\tscript.onerror = reject;\n",
       "\tscript.src = \"https://wavedrom.com/wavedrom.min.js\";\n",
       "\tdocument.head.appendChild(script);\n",
       "}).then(() => {\n",
       "new Promise(function(resolve, reject) {\n",
       "\tvar script = document.createElement(\"script\");\n",
       "\tscript.onload = resolve;\n",
       "\tscript.onerror = reject;\n",
       "\tscript.src = \"https://wavedrom.com/skins/narrow.js\";\n",
       "\tdocument.head.appendChild(script);\n",
       "}).then(() => {\n",
       "WaveDrom.ProcessAll();\n",
       "});\n",
       "});"
      ]
     },
     "metadata": {},
     "output_type": "display_data"
    }
   ],
   "source": [
    "import wavedraw\n",
    "import nbwavedrom\n",
    "\n",
    "TB = \"tb_gray\"\n",
    "\n",
    "# Configure waveform:\n",
    "cfg = wavedraw.config(TB, {\n",
    "    '.clk' : None,\n",
    "    '.reset' : None, '.dout[%d:0]' % (GRAY_COUNTER_SIZE-1) : None, '.ce' : None})\n",
    "\n",
    "cfg[TB + '.inst_gray_counter_0.reset'] = None\n",
    "\n",
    "u = [ TB + \".inst_gray_counter_0.u%d\" % i for i in range(GRAY_COUNTER_SIZE+1) ]\n",
    "\n",
    "for s in u:\n",
    "    cfg[s] = None\n",
    "\n",
    "waveform = wavedraw.vcd2wave(\"tb_gray.vcd\", TB + '.clk', cfg, delta = 10)\n",
    "    \n",
    "nbwavedrom.draw(waveform)"
   ]
  },
  {
   "cell_type": "markdown",
   "metadata": {},
   "source": [
    "### Observations\n",
    "\n",
    "* The gray counter begins with a start value (`rval`) corresponding to an index\n",
    "* Whenever `ce` is active, it advances according to the `direction` parameter\n",
    "* Note that on every advance, only one bit flips in the counter output (`u[1..n]` bits)\n",
    "\n",
    "### Exercises\n",
    "\n",
    "* Change direction\n",
    "* Try another start value"
   ]
  },
  {
   "cell_type": "markdown",
   "metadata": {},
   "source": [
    "## Alternative implementation via yosys\n",
    "\n",
    "For a more realistic, more compact implementation, we use only a bit of procedural connection generator syntax.\n",
    "We also skip direction (downcounting) and initializer support."
   ]
  },
  {
   "cell_type": "code",
   "execution_count": 8,
   "metadata": {},
   "outputs": [],
   "source": [
    "@block\n",
    "def gray_counter1(clk : ClkSignal,\n",
    "                  enable : Signal,\n",
    "                  reset : ResetSignal,\n",
    "                  gray_count :Signal.Output):\n",
    "\n",
    "    n = len(gray_count)\n",
    "    gray_bits = [ Signal(bool(), name=\"u%d\" % i) for i in range(n) ]\n",
    "    code, work = [ Signal(modbv()[n:]) for _ in range(2) ]\n",
    "    flags = [ Signal(bool(), name=\"flags%d\" % i) for i in range(n + 1) ]\n",
    "    toggle = Signal(bool(1))\n",
    "\n",
    "    # This creates connection instances:\n",
    "    connections = [\n",
    "        flags[0].wireup(False),\n",
    "        code.wireup(concat(*reversed(gray_bits))),\n",
    "        work.wireup(concat(\"1\", code[n-2:], toggle))\n",
    "    ]  \n",
    "        \n",
    "    for i in range(n):\n",
    "        v = work[i] & ~flags[i]\n",
    "        connections += [\n",
    "            gray_bits[i].wireup(v ^ gray_count[i]),\n",
    "            flags[i + 1].wireup(flags[i] | v )\n",
    "        ]\n",
    "                \n",
    "    @always_seq(clk.posedge, reset)\n",
    "    def worker():\n",
    "        if enable == True:\n",
    "            gray_count.next = code\n",
    "            toggle.next = ~toggle\n",
    "\n",
    "    return instances()"
   ]
  },
  {
   "cell_type": "markdown",
   "metadata": {},
   "source": [
    "### CXXRTL simulation\n",
    "\n",
    "This time we create a test bench based on yosys' CXXRTL simulator backend.\n",
    "The above code is elaborated implicitely using direct RTL transfer, compiled into C++ code and executed. The result of this is a trace dump into a VCD file."
   ]
  },
  {
   "cell_type": "code",
   "execution_count": 9,
   "metadata": {},
   "outputs": [],
   "source": [
    "from myirl.test.common_test import gen_osc\n",
    "\n",
    "from yosys.simulator import CXXRTL\n",
    "\n",
    "from simulation import *\n",
    "\n",
    "@sim.testbench(CXXRTL, time_unit = 'ns')\n",
    "def tb_gray1(SIZE):\n",
    "    clk = ClkSignal(name='clk')\n",
    "    ce = Signal(bool(), name='ce')\n",
    "\n",
    "    reset = ResetSignal(0, 1, isasync = True)\n",
    "    dout = Signal(intbv()[SIZE:], name='dout')\n",
    "\n",
    "    dout = Signal(intbv()[SIZE:])    \n",
    "    gc = gray_counter1(clk, ce, reset, dout)\n",
    "    \n",
    "    @always(delay(2))\n",
    "    def clkgen():\n",
    "        clk.next = ~clk\n",
    "    \n",
    "    @instance\n",
    "    def stim():\n",
    "        ce.next = False\n",
    "        reset.next = True\n",
    "        yield delay(6)\n",
    "        reset.next = False\n",
    "        for i in Waveform(\"0011111111111111111111111111111111000\"):\n",
    "            ce.next = i       \n",
    "            yield clk.negedge\n",
    "\n",
    "        raise StopSimulation\n",
    "\n",
    "    return instances()    "
   ]
  },
  {
   "cell_type": "markdown",
   "metadata": {},
   "source": [
    "Run the test bench for a few cycles."
   ]
  },
  {
   "cell_type": "code",
   "execution_count": 10,
   "metadata": {},
   "outputs": [
    {
     "name": "stdout",
     "output_type": "stream",
     "text": [
      "Creating process 'gray_counter1/worker' with sensitivity (clk'rising, <reset>)\n",
      "\u001b[32m Adding module with name `gray_counter1` \u001b[0m\n",
      "\u001b[7;34m FINALIZE implementation `gray_counter1` of `gray_counter1` \u001b[0m\n",
      "Compiling /tmp/myirl_top_gray_counter1_h97ejyp2/gray_counter1_1516.pyx because it changed.\n",
      "[1/1] Cythonizing /tmp/myirl_top_gray_counter1_h97ejyp2/gray_counter1_1516.pyx\n",
      "running build_ext\n",
      "building 'gray_counter1_1516' extension\n",
      "creating build/temp.linux-x86_64-3.9/tmp/myirl_top_gray_counter1_h97ejyp2\n",
      "x86_64-linux-gnu-gcc -pthread -Wno-unused-result -Wsign-compare -DNDEBUG -g -fwrapv -O2 -Wall -g -ffile-prefix-map=/build/python3.9-RNBry6/python3.9-3.9.2=. -fstack-protector-strong -Wformat -Werror=format-security -g -fwrapv -O2 -g -ffile-prefix-map=/build/python3.9-RNBry6/python3.9-3.9.2=. -fstack-protector-strong -Wformat -Werror=format-security -Wdate-time -D_FORTIFY_SOURCE=2 -fPIC -I/home/testing/.local/lib/python3.9/site-packages/myirl-0.0.0-py3.9-linux-x86_64.egg/myirl/../ -I/tmp/myirl_top_gray_counter1_h97ejyp2/ -I/usr/share/yosys/include -I/usr/include/python3.9 -c /tmp/myirl_top_gray_counter1_h97ejyp2/gray_counter1_1516.cpp -o build/temp.linux-x86_64-3.9/tmp/myirl_top_gray_counter1_h97ejyp2/gray_counter1_1516.o\n",
      "x86_64-linux-gnu-gcc -pthread -Wno-unused-result -Wsign-compare -DNDEBUG -g -fwrapv -O2 -Wall -g -ffile-prefix-map=/build/python3.9-RNBry6/python3.9-3.9.2=. -fstack-protector-strong -Wformat -Werror=format-security -g -fwrapv -O2 -g -ffile-prefix-map=/build/python3.9-RNBry6/python3.9-3.9.2=. -fstack-protector-strong -Wformat -Werror=format-security -Wdate-time -D_FORTIFY_SOURCE=2 -fPIC -I/home/testing/.local/lib/python3.9/site-packages/myirl-0.0.0-py3.9-linux-x86_64.egg/myirl/../ -I/tmp/myirl_top_gray_counter1_h97ejyp2/ -I/usr/share/yosys/include -I/usr/include/python3.9 -c /tmp/myirl_top_gray_counter1_h97ejyp2/gray_counter1_1516_rtl.cpp -o build/temp.linux-x86_64-3.9/tmp/myirl_top_gray_counter1_h97ejyp2/gray_counter1_1516_rtl.o\n",
      "x86_64-linux-gnu-g++ -pthread -shared -Wl,-O1 -Wl,-Bsymbolic-functions -Wl,-z,relro -g -fwrapv -O2 -Wl,-z,relro -g -fwrapv -O2 -g -ffile-prefix-map=/build/python3.9-RNBry6/python3.9-3.9.2=. -fstack-protector-strong -Wformat -Werror=format-security -Wdate-time -D_FORTIFY_SOURCE=2 build/temp.linux-x86_64-3.9/tmp/myirl_top_gray_counter1_h97ejyp2/gray_counter1_1516.o build/temp.linux-x86_64-3.9/tmp/myirl_top_gray_counter1_h97ejyp2/gray_counter1_1516_rtl.o -o build/lib.linux-x86_64-3.9/gray_counter1_1516.cpython-39-x86_64-linux-gnu.so\n",
      "copying build/lib.linux-x86_64-3.9/gray_counter1_1516.cpython-39-x86_64-linux-gnu.so -> \n",
      "Open for writing: tb_gray1.vcd\n",
      "STOP SIMULATION @152 \n"
     ]
    }
   ],
   "source": [
    "GRAY_COUNTER_SIZE = 5\n",
    "tb = tb_gray1(GRAY_COUNTER_SIZE)\n",
    "tb.run(180)"
   ]
  },
  {
   "cell_type": "markdown",
   "metadata": {},
   "source": [
    "### Waveform display\n",
    "\n",
    "The resulting waveform is displayed using a signal filter configuration:"
   ]
  },
  {
   "cell_type": "code",
   "execution_count": 11,
   "metadata": {},
   "outputs": [
    {
     "name": "stdout",
     "output_type": "stream",
     "text": [
      ".reset\n",
      ".clk\n",
      ".code\n",
      ".enable\n",
      ".u0\n",
      ".u1\n",
      ".u2\n",
      ".u3\n"
     ]
    },
    {
     "data": {
      "text/html": [
       "<div><script type=\"WaveDrom\">{\"signal\": [{\"name\": \".reset\", \"wave\": \"1..0........................................................................\", \"data\": \"10\"}, {\"name\": \".clk\", \"wave\": \"0101010101010101010101010101010101010101010101010101010101010101010101010101\", \"data\": \"0101010101010101010101010101010101010101010101010101010101010101010101010101\"}, {\"name\": \".code\", \"wave\": \"=......=.=.=.=.=.=.=.=.=.=.=.=.=.=.=.=.=.=.=.=.=.=.=.=.=.=.=.=.=.=.=.=......\", \"data\": \"01 03 02 06 07 05 04 0c 0d 0f 0e 0a 0b 09 08 18 19 1b 1a 1e 1f 1d 1c 14 15 17 16 12 13 11 10 00 01 \"}, {\"name\": \".enable\", \"wave\": \"0.....1...............................................................0.....\", \"data\": \"010\"}, {\"name\": \".u0\", \"wave\": \"1........0...1...0...1...0...1...0...1...0...1...0...1...0...1...0...1......\", \"data\": \"10101010101010101\"}, {\"name\": \".u1\", \"wave\": \"0......1.......0.......1.......0.......1.......0.......1.......0............\", \"data\": \"010101010\"}, {\"name\": \".u2\", \"wave\": \"0..........1...............0...............1...............0................\", \"data\": \"01010\"}, {\"name\": \".u3\", \"wave\": \"0..................1...............................0........................\", \"data\": \"010\"}]}</script></div>"
      ]
     },
     "metadata": {},
     "output_type": "display_data"
    },
    {
     "data": {
      "application/javascript": [
       "new Promise(function(resolve, reject) {\n",
       "\tvar script = document.createElement(\"script\");\n",
       "\tscript.onload = resolve;\n",
       "\tscript.onerror = reject;\n",
       "\tscript.src = \"https://wavedrom.com/wavedrom.min.js\";\n",
       "\tdocument.head.appendChild(script);\n",
       "}).then(() => {\n",
       "new Promise(function(resolve, reject) {\n",
       "\tvar script = document.createElement(\"script\");\n",
       "\tscript.onload = resolve;\n",
       "\tscript.onerror = reject;\n",
       "\tscript.src = \"https://wavedrom.com/skins/narrow.js\";\n",
       "\tdocument.head.appendChild(script);\n",
       "}).then(() => {\n",
       "WaveDrom.ProcessAll();\n",
       "});\n",
       "});"
      ]
     },
     "metadata": {},
     "output_type": "display_data"
    }
   ],
   "source": [
    "TB = \"\"\n",
    "\n",
    "# Configure waveform:\n",
    "cfg = wavedraw.config(TB, \n",
    "      { '.reset' : None, '.clk' : None, '.code': None, '.enable' : None }\n",
    ")\n",
    "\n",
    "u = [ TB + \".u%d\" % i for i in range(GRAY_COUNTER_SIZE-1) ]\n",
    "\n",
    "for s in u:\n",
    "    cfg[s] = None\n",
    "\n",
    "waveform = wavedraw.vcd2wave(\"tb_gray1.vcd\", '.clk', cfg, delta = 1)\n",
    "    \n",
    "nbwavedrom.draw(waveform)"
   ]
  }
 ],
 "metadata": {
  "kernelspec": {
   "display_name": "Python 3 (ipykernel)",
   "language": "python",
   "name": "python3"
  },
  "language_info": {
   "codemirror_mode": {
    "name": "ipython",
    "version": 3
   },
   "file_extension": ".py",
   "mimetype": "text/x-python",
   "name": "python",
   "nbconvert_exporter": "python",
   "pygments_lexer": "ipython3",
   "version": "3.9.2"
  }
 },
 "nbformat": 4,
 "nbformat_minor": 4
}

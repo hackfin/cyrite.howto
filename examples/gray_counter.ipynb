{
 "cells": [
  {
   "cell_type": "markdown",
   "metadata": {},
   "source": [
    "# Procedural elements\n",
    "\n",
    "There are cases where you construct a logic out of a chain of primitive elements.\n",
    "Take a gray counter, for example. It is used often for cross-clock-domain negotations\n",
    "(dual clock FIFO fill counters).\n",
    "\n",
    "\n",
    "## Gray counter\n",
    "\n",
    "This gray counter example is a bit 'overdone' in comparison to the classical\n",
    "examples to demonstrate configureability and procedural concatenation of elements."
   ]
  },
  {
   "cell_type": "markdown",
   "metadata": {},
   "source": [
    "### Gray 'primitive'\n",
    "\n",
    "This `gray_unit` is a (configureable) element to construct gray counters of arbitrary length."
   ]
  },
  {
   "cell_type": "code",
   "execution_count": 1,
   "metadata": {},
   "outputs": [],
   "source": [
    "from myirl.emulation.myhdl import *\n",
    "\n",
    "_in = Signal\n",
    "_out = Signal.Output\n",
    "\n",
    "@block\n",
    "def gray_unit(\n",
    "    clk : ClkSignal,\n",
    "    ce : _in, reset : ResetSignal,\n",
    "    flavor : _in,\n",
    "    ia : _in,\n",
    "    ib: _in,\n",
    "    oa : _out,\n",
    "    ob : _out,\n",
    "    NEW_STYLE = False,\n",
    "    *, INITVAL = False\n",
    "):\n",
    "    a = Signal(INITVAL, name='a')\n",
    "\n",
    "    @always_seq(clk.posedge, reset)\n",
    "    def worker():\n",
    "        if ce == 1:\n",
    "            a.next = a ^ ((ia ^ flavor) & ib)\n",
    "            \n",
    "    if NEW_STYLE:\n",
    "        wire0 = oa.wireup(a)\n",
    "        wire1 = ob.wireup(ib & ~(ia ^ flavor)) \n",
    "    else: \n",
    "        @always_comb\n",
    "        def assign():\n",
    "            oa.next = a\n",
    "            ob.next = ib & ~(ia ^ flavor)\n",
    "\n",
    "    return instances()"
   ]
  },
  {
   "cell_type": "markdown",
   "metadata": {},
   "source": [
    "From this element, we construct a gray counter using a few auxiliaries:"
   ]
  },
  {
   "cell_type": "code",
   "execution_count": 2,
   "metadata": {},
   "outputs": [],
   "source": [
    "import myhdl\n",
    "\n",
    "def graycode(v, size):\n",
    "    bv = intbv(v)[size:]\n",
    "    z = bv ^ myhdl.concat(\"0\", bv[size:1])\n",
    "    # print \"Gray code:\", z, len(bv)\n",
    "    return intbv(z)[size:]\n",
    "\n",
    "def parity(v):\n",
    "    \"\"\"Return parity bit from value v\"\"\"\n",
    "    p = False\n",
    "    for i in v:\n",
    "        if i:\n",
    "            p = not p\n",
    "\n",
    "    return p"
   ]
  },
  {
   "cell_type": "code",
   "execution_count": 3,
   "metadata": {},
   "outputs": [],
   "source": [
    "@block\n",
    "def gray_counter(\n",
    "    clk : ClkSignal,\n",
    "    ce : Signal,\n",
    "    reset : ResetSignal,\n",
    "    rval : intbv,\n",
    "    direction : Signal,\n",
    "    val : Signal.Output\n",
    "):\n",
    "        \n",
    "    n = len(val)\n",
    "    p = parity(rval)\n",
    "    \n",
    "    z = not (p ^ direction) # Important to use `not` to get boolean result\n",
    "    \n",
    "    u = [ Signal(bool(z), name=\"u%d\" % (i)) for i in range(n+1) ]\n",
    "    u0 = u[0]\n",
    "\n",
    "    v = [ Signal(bool(), name='v%d' % i) for i in range(n+1) ]\n",
    "    s = Signal(bool())\n",
    "\n",
    "    tmp = list(reversed(u))[:-1]\n",
    "    out = concat(*tmp)\n",
    "    inst_gray = []\n",
    "\n",
    "    @always_seq(clk.posedge, reset)\n",
    "    def worker():\n",
    "        if ce == 1:\n",
    "            u0.next = ~u0\n",
    "\n",
    "    wires = [\n",
    "        val.wireup(out),\n",
    "        v[0].wireup(True)      \n",
    "    ]\n",
    "            \n",
    "    @always_comb\n",
    "    def assign():\n",
    "        if direction == True:\n",
    "            s.next = u[n-1] ^ u[n]\n",
    "        else:\n",
    "            s.next = u[n-1] | u[n]\n",
    "\n",
    "\n",
    "    for i in range(1, n):\n",
    "        inst_gray.append(gray_unit(clk, ce, reset, direction, u[i-1], v[i-1], u[i], v[i], INITVAL = rval[i-1]))\n",
    "\n",
    "    # and MSB:\n",
    "    inst_gray.append(    gray_unit(clk, ce, reset, direction, s,      v[n-1], u[n], v[n], INITVAL = rval[n-1]))\n",
    "\n",
    "    return instances()"
   ]
  },
  {
   "cell_type": "markdown",
   "metadata": {},
   "source": [
    "## Simulation"
   ]
  },
  {
   "cell_type": "markdown",
   "metadata": {},
   "source": [
    "For fun, we create a `Waveform` class from an Iterator"
   ]
  },
  {
   "cell_type": "code",
   "execution_count": 4,
   "metadata": {},
   "outputs": [],
   "source": [
    "from myirl.loops import Iterator\n",
    "\n",
    "class Waveform(Iterator):\n",
    "    def __init__(self, val, name = 'waveform'):\n",
    "        it = [ True if i == '1' else False for i in val]\n",
    "        super().__init__(it, name)\n",
    "    def convert(self, tgt, tsz = None):\n",
    "        return \"'1'\" if self.val else \"'0'\"\n",
    "    def resolve_type(self):\n",
    "        return bool"
   ]
  },
  {
   "cell_type": "code",
   "execution_count": 5,
   "metadata": {},
   "outputs": [
    {
     "name": "stdout",
     "output_type": "stream",
     "text": [
      "Creating process 'gray_counter/worker' with sensitivity (clk'rising, <reset>)\n",
      "Using default for NEW_STYLE: False\n",
      " NEW_STYLE: use default False \n",
      "\u001b[7;34m Set parameter INITVAL := False \u001b[0m\n",
      " NEW_STYLE: use default False \n",
      "Creating process 'gray_unit/worker' with sensitivity (clk'rising, <reset>)\n",
      "\u001b[32m Insert unit gray_unit_s1_s1_s1_s1_s1_s1_s1_s1_0 \u001b[0m\n",
      "Using default for NEW_STYLE: False\n",
      " NEW_STYLE: use default False \n",
      "\u001b[7;34m Set parameter INITVAL := False \u001b[0m\n",
      " NEW_STYLE: use default False \n",
      "\u001b[32m DEBUG: Cached unit gray_unit_s1_s1_s1_s1_s1_s1_s1_s1_0 \u001b[0m\n",
      "Using default for NEW_STYLE: False\n",
      " NEW_STYLE: use default False \n",
      "\u001b[7;34m Set parameter INITVAL := False \u001b[0m\n",
      " NEW_STYLE: use default False \n",
      "\u001b[32m DEBUG: Cached unit gray_unit_s1_s1_s1_s1_s1_s1_s1_s1_0 \u001b[0m\n",
      "Using default for NEW_STYLE: False\n",
      " NEW_STYLE: use default False \n",
      "\u001b[7;34m Set parameter INITVAL := False \u001b[0m\n",
      " NEW_STYLE: use default False \n",
      "\u001b[32m DEBUG: Cached unit gray_unit_s1_s1_s1_s1_s1_s1_s1_s1_0 \u001b[0m\n",
      "\u001b[32m Insert unit gray_counter_s1_s1_s1__intbv_s1_s4 \u001b[0m\n",
      "Creating sequential 'tb_gray/stim' \n",
      "\u001b[32m Insert unit tb_gray_4 \u001b[0m\n",
      " Writing 'gray_unit' to file /tmp/gray_unit.vhdl \n",
      "Finished _elab in 0.0010 secs\n",
      " Writing 'gray_counter' to file /tmp/gray_counter.vhdl \n",
      "Finished _elab in 0.0014 secs\n",
      " Writing 'tb_gray' to file /tmp/tb_gray.vhdl \n",
      "Finished _elab in 0.0014 secs\n",
      " Creating library file /tmp/module_defs.vhdl \n"
     ]
    }
   ],
   "source": [
    "from myirl.test.common_test import gen_osc\n",
    "\n",
    "@block\n",
    "def tb_gray(SIZE):\n",
    "    clk = ClkSignal(name='clk')\n",
    "    ce = Signal(bool(), name='ce')\n",
    "    direction = Signal(bool(1))\n",
    "    direction.init = True\n",
    "\n",
    "    reset = ResetSignal(0, 1, isasync = False)\n",
    "    dout = Signal(intbv()[SIZE:], name='dout')\n",
    "\n",
    "    o = Signal(intbv()[SIZE:])    \n",
    "    rv = graycode(0, SIZE)\n",
    "    gc = gray_counter(clk, ce, reset, rv, direction, o, USE_ALIAS=True)\n",
    "    \n",
    "    osc = gen_osc(clk, 4)\n",
    "\n",
    "    @always_comb\n",
    "    def assign():\n",
    "        dout.next = o\n",
    "        \n",
    "    @instance\n",
    "    def stim():\n",
    "        ce.next = False\n",
    "        direction.next = False\n",
    "        reset.next = True\n",
    "        yield delay(10)\n",
    "        reset.next = False\n",
    "        for i in Waveform(\"0011111111100000\"):\n",
    "            ce.next = i       \n",
    "            yield clk.negedge\n",
    "        direction.next = True\n",
    "        for i in Waveform(\"001111000111110\"):\n",
    "            ce.next = i       \n",
    "            yield clk.negedge\n",
    "\n",
    "        raise StopSimulation\n",
    "\n",
    "\n",
    "    return instances()\n",
    "\n",
    "from myirl import targets\n",
    "from myirl.test.common_test import run_ghdl\n",
    "\n",
    "def run_testbench(SIZE):\n",
    "    tb = tb_gray(SIZE)\n",
    "    files = tb.elab(targets.VHDL, elab_all=True)\n",
    "    run_ghdl(files, tb, vcdfile='tb_gray.vcd')\n",
    "\n",
    "    \n",
    "GRAY_COUNTER_SIZE = 4\n",
    "run_testbench(GRAY_COUNTER_SIZE)\n",
    "tmp = tb_gray.ctx.path_prefix"
   ]
  },
  {
   "cell_type": "markdown",
   "metadata": {},
   "source": [
    "In the non-parametrized variant, two implementations of `gray_unit` are emitted. We dump the first:"
   ]
  },
  {
   "cell_type": "code",
   "execution_count": 6,
   "metadata": {},
   "outputs": [
    {
     "name": "stdout",
     "output_type": "stream",
     "text": [
      "     1\t-- File generated from /usr/local/lib/python3.10/runpy.py\n",
      "     2\t-- (c) 2016-2021 section5.ch\n",
      "     3\t-- Modifications may be lost\n",
      "     4\t\n",
      "     5\tlibrary IEEE;\n",
      "     6\tuse IEEE.std_logic_1164.all;\n",
      "     7\tuse IEEE.numeric_std.all;\n",
      "     8\t\n",
      "     9\tlibrary work;\n",
      "    10\t\n",
      "    11\tuse work.txt_util.all;\n",
      "    12\tuse work.myirl_conversion.all;\n",
      "    13\t\n",
      "    14\tentity gray_unit is\n",
      "    15\t    generic (\n",
      "    16\t        INITVAL: boolean := FALSE\n",
      "    17\t    );\n",
      "    18\t    port (\n",
      "    19\t        clk : in std_ulogic;\n",
      "    20\t        ce : in std_ulogic;\n",
      "    21\t        reset : in std_ulogic;\n",
      "    22\t        flavor : in std_ulogic;\n",
      "    23\t        ia : in std_ulogic;\n",
      "    24\t        ib : in std_ulogic;\n",
      "    25\t        oa : out std_ulogic;\n",
      "    26\t        ob : out std_ulogic\n",
      "    27\t    );\n",
      "    28\tend entity gray_unit;\n",
      "    29\t\n",
      "    30\tarchitecture MyIRL of gray_unit is\n",
      "    31\t    -- Local type declarations\n",
      "    32\t    -- Signal declarations\n",
      "    33\t    signal a : std_ulogic;\n",
      "    34\tbegin\n",
      "    35\t    \n",
      "    36\tworker:\n",
      "    37\t    process(clk, reset)\n",
      "    38\t    begin\n",
      "    39\t        if rising_edge(clk) then\n",
      "    40\t            if reset = '1' then\n",
      "    41\t                a <= '0';\n",
      "    42\t            else\n",
      "    43\t                if (ce = '1') then\n",
      "    44\t                    a <= (a xor ((ia xor flavor) and ib));\n",
      "    45\t                end if;\n",
      "    46\t            end if;\n",
      "    47\t        end if;\n",
      "    48\t    end process;\n",
      "    49\t    \n",
      "    50\tassign:\n",
      "    51\t    process(a, ib, ia, flavor)\n",
      "    52\t    begin\n",
      "    53\t        oa <= a;\n",
      "    54\t        ob <= (ib and not (ia xor flavor));\n",
      "    55\t    end process;\n",
      "    56\t\n",
      "    57\tend architecture MyIRL;\n",
      "    58\t\n"
     ]
    }
   ],
   "source": [
    "! cat -n {gray_unit.ctx.path_prefix}/gray_unit.vhdl"
   ]
  },
  {
   "cell_type": "markdown",
   "metadata": {},
   "source": [
    "## Waveform display"
   ]
  },
  {
   "cell_type": "code",
   "execution_count": 7,
   "metadata": {},
   "outputs": [
    {
     "name": "stdout",
     "output_type": "stream",
     "text": [
      "tb_gray.clk\n",
      "tb_gray.reset\n",
      "tb_gray.dout[3:0]\n",
      "tb_gray.ce\n",
      "tb_gray.inst_gray_counter_0.reset\n",
      "tb_gray.inst_gray_counter_0.u0\n",
      "tb_gray.inst_gray_counter_0.u1\n",
      "tb_gray.inst_gray_counter_0.u2\n",
      "tb_gray.inst_gray_counter_0.u3\n",
      "tb_gray.inst_gray_counter_0.u4\n"
     ]
    },
    {
     "data": {
      "text/html": [
       "<div><script type=\"WaveDrom\">{\"signal\": [{\"name\": \"tb_gray.clk\", \"wave\": \"0101010101010101010101010101010101010101010101010101010101010101\", \"data\": \"0101010101010101010101010101010101010101010101010101010101010101\"}, {\"name\": \"tb_gray.reset\", \"wave\": \"1..0............................................................\", \"data\": \"10\"}, {\"name\": \"tb_gray.dout[3:0]\", \"wave\": \"u=.......=.=.=.=.=.=.=.=...............=.=.=.=.......=.=.=.=.=..\", \"data\": \"00 01 03 02 06 07 05 04 0c 0e 0f 07 06 04 05 01 00 02 \"}, {\"name\": \"tb_gray.ce\", \"wave\": \"0.....1.................0.............1.......0.....1.........0.\", \"data\": \"0101010\"}, {\"name\": \"tb_gray.inst_gray_counter_0.reset\", \"wave\": \"1..0............................................................\", \"data\": \"10\"}, {\"name\": \"tb_gray.inst_gray_counter_0.u0\", \"wave\": \"u0.....1.0.1.0.1.0.1.0.1...............0.1.0.1.......0.1.0.1.0..\", \"data\": \"0101010101010101010\"}, {\"name\": \"tb_gray.inst_gray_counter_0.u1\", \"wave\": \"u0.......1...0...1...0...................1...0.........1...0....\", \"data\": \"010101010\"}, {\"name\": \"tb_gray.inst_gray_counter_0.u2\", \"wave\": \"u0.........1.......0...................1.............0.......1..\", \"data\": \"010101\"}, {\"name\": \"tb_gray.inst_gray_counter_0.u3\", \"wave\": \"u0.............1.........................................0......\", \"data\": \"010\"}, {\"name\": \"tb_gray.inst_gray_counter_0.u4\", \"wave\": \"u0.....................1...................0....................\", \"data\": \"010\"}]}</script></div>"
      ]
     },
     "metadata": {},
     "output_type": "display_data"
    },
    {
     "data": {
      "application/javascript": [
       "new Promise(function(resolve, reject) {\n",
       "\tvar script = document.createElement(\"script\");\n",
       "\tscript.onload = resolve;\n",
       "\tscript.onerror = reject;\n",
       "\tscript.src = \"https://wavedrom.com/wavedrom.min.js\";\n",
       "\tdocument.head.appendChild(script);\n",
       "}).then(() => {\n",
       "new Promise(function(resolve, reject) {\n",
       "\tvar script = document.createElement(\"script\");\n",
       "\tscript.onload = resolve;\n",
       "\tscript.onerror = reject;\n",
       "\tscript.src = \"https://wavedrom.com/skins/narrow.js\";\n",
       "\tdocument.head.appendChild(script);\n",
       "}).then(() => {\n",
       "WaveDrom.ProcessAll();\n",
       "});\n",
       "});"
      ]
     },
     "metadata": {},
     "output_type": "display_data"
    }
   ],
   "source": [
    "import wavedraw\n",
    "import nbwavedrom\n",
    "\n",
    "TB = \"tb_gray\"\n",
    "\n",
    "# Configure waveform:\n",
    "cfg = wavedraw.config(TB, {\n",
    "    '.clk' : None,\n",
    "    '.reset' : None, '.dout[%d:0]' % (GRAY_COUNTER_SIZE-1) : None, '.ce' : None})\n",
    "\n",
    "cfg[TB + '.inst_gray_counter_0.reset'] = None\n",
    "\n",
    "u = [ TB + \".inst_gray_counter_0.u%d\" % i for i in range(GRAY_COUNTER_SIZE+1) ]\n",
    "\n",
    "for s in u:\n",
    "    cfg[s] = None\n",
    "\n",
    "waveform = wavedraw.vcd2wave(\"tb_gray.vcd\", TB + '.clk', cfg, delta = 10)\n",
    "    \n",
    "nbwavedrom.draw(waveform)"
   ]
  },
  {
   "cell_type": "markdown",
   "metadata": {},
   "source": [
    "### Observations\n",
    "\n",
    "* The gray counter begins with a start value (`rval`) corresponding to an index\n",
    "* Whenever `ce` is active, it advances according to the `direction` parameter\n",
    "* Note that on every advance, only one bit flips in the counter output (`u[1..n]` bits)\n",
    "\n",
    "### Exercises\n",
    "\n",
    "* Change direction\n",
    "* Try another start value"
   ]
  },
  {
   "cell_type": "markdown",
   "metadata": {},
   "source": [
    "## Alternative implementation\n",
    "\n",
    "For a more realistic, more compact implementation, we use a bit of 'next generation' syntax using a `@generator`.\n",
    "Instead of a `for` loop output to HDL, we unroll it using a `yield`. We also skip direction (downcounting) and initializer support."
   ]
  },
  {
   "cell_type": "code",
   "execution_count": 8,
   "metadata": {},
   "outputs": [],
   "source": [
    "\n",
    "@block\n",
    "def gray_counter1(clk : ClkSignal,\n",
    "                  enable : Signal,\n",
    "                  reset : ResetSignal,\n",
    "                  gray_count :Signal.Output):\n",
    "\n",
    "    n = len(gray_count)\n",
    "    gray_bits = [ Signal(bool(), name=\"u%d\" % i) for i in range(n) ]\n",
    "    code, work = [ Signal(modbv()[n:]) for _ in range(2) ]\n",
    "    flags = [ Signal(bool(), name=\"flags%d\" % i) for i in range(n + 1) ]\n",
    "    toggle = Signal(bool(1))\n",
    "\n",
    "    # This creats connection instances:\n",
    "    connections = [\n",
    "        flags[0].wireup(False),\n",
    "        code.wireup(concat(*reversed(gray_bits))),\n",
    "        work.wireup(concat(\"1\", code[n-2:], toggle))\n",
    "    ]  \n",
    "        \n",
    "    for i in range(n):\n",
    "        v = work[i] & ~flags[i]\n",
    "        connections += [\n",
    "            gray_bits[i].wireup(v ^ gray_count[i]),\n",
    "            flags[i + 1].wireup(flags[i] | v )\n",
    "        ]\n",
    "                \n",
    "    @always_seq(clk.posedge, reset)\n",
    "    def worker():\n",
    "        if enable == True:\n",
    "            gray_count.next = code\n",
    "            toggle.next = ~toggle\n",
    "\n",
    "    return instances()"
   ]
  },
  {
   "cell_type": "markdown",
   "metadata": {},
   "source": [
    "Test bench:"
   ]
  },
  {
   "cell_type": "code",
   "execution_count": 9,
   "metadata": {},
   "outputs": [],
   "source": [
    "from myirl.test.common_test import gen_osc\n",
    "\n",
    "@block\n",
    "def tb_gray1(SIZE):\n",
    "    clk = ClkSignal(name='clk')\n",
    "    ce = Signal(bool(), name='ce')\n",
    "\n",
    "    reset = ResetSignal(0, 1, isasync = True)\n",
    "    dout = Signal(intbv()[SIZE:], name='dout')\n",
    "\n",
    "    o = Signal(intbv()[SIZE:])    \n",
    "    rv = graycode(0, SIZE)\n",
    "    gc = gray_counter1(clk, ce, reset, o)\n",
    "    \n",
    "    osc = gen_osc(clk, 2)\n",
    "\n",
    "    @always_comb\n",
    "    def assign():\n",
    "        dout.next = o\n",
    "        \n",
    "    @instance\n",
    "    def stim():\n",
    "        ce.next = False\n",
    "        reset.next = True\n",
    "        yield delay(6)\n",
    "        reset.next = False\n",
    "        for i in Waveform(\"0011111111111111111111111111111111000\"):\n",
    "            ce.next = i       \n",
    "            yield clk.negedge\n",
    "\n",
    "        raise StopSimulation\n",
    "\n",
    "    return instances()\n",
    "\n",
    "from myirl import targets\n",
    "from myirl.test.common_test import run_ghdl\n",
    "\n",
    "def run_testbench(SIZE):\n",
    "    tb = tb_gray1(SIZE)\n",
    "    tb.rename(\"tb_gray1\") # Rename explicitely so that we can rerun\n",
    "    # in interactive mode\n",
    "    files = tb.elab(targets.VHDL, elab_all=True)\n",
    "    run_ghdl(files, tb, vcdfile='tb_gray1.vcd')\n",
    "\n",
    "    "
   ]
  },
  {
   "cell_type": "code",
   "execution_count": 10,
   "metadata": {},
   "outputs": [
    {
     "name": "stdout",
     "output_type": "stream",
     "text": [
      "Creating process 'gray_counter1/worker' with sensitivity (clk'rising, <reset>)\n",
      "\u001b[32m Insert unit gray_counter1_s1_s1_s1_s4 \u001b[0m\n",
      "Creating sequential 'tb_gray1/stim' \n",
      "\u001b[32m Insert unit tb_gray1_4 \u001b[0m\n",
      " Writing 'gray_counter1' to file /tmp/gray_counter1.vhdl \n",
      "Finished _elab in 0.0013 secs\n",
      " Writing 'tb_gray1' to file /tmp/tb_gray1.vhdl \n",
      "Finished _elab in 0.0013 secs\n",
      " Creating library file /tmp/module_defs.vhdl \n"
     ]
    }
   ],
   "source": [
    "GRAY_COUNTER_SIZE = 4\n",
    "run_testbench(GRAY_COUNTER_SIZE)"
   ]
  },
  {
   "cell_type": "code",
   "execution_count": 11,
   "metadata": {},
   "outputs": [
    {
     "name": "stdout",
     "output_type": "stream",
     "text": [
      "tb_gray1.reset\n",
      "tb_gray1.dout[3:0]\n",
      "tb_gray1.ce\n",
      "tb_gray1.inst_gray_counter1_0.reset\n",
      "tb_gray1.inst_gray_counter1_0.u0\n",
      "tb_gray1.inst_gray_counter1_0.u1\n",
      "tb_gray1.inst_gray_counter1_0.u2\n",
      "tb_gray1.inst_gray_counter1_0.u3\n"
     ]
    },
    {
     "data": {
      "text/html": [
       "<div><script type=\"WaveDrom\">{\"signal\": [{\"name\": \"tb_gray1.reset\", \"wave\": \"1..0........................................................................\", \"data\": \"10\"}, {\"name\": \"tb_gray1.dout[3:0]\", \"wave\": \"=......=.=.=.=.=.=.=.=.=.=.=.=.=.=.=.=.=.=.=.=.=.=.=.=.=.=.=.=.=.=.=.=......\", \"data\": \"00 01 03 02 06 07 05 04 0c 0d 0f 0e 0a 0b 09 08 00 01 03 02 06 07 05 04 0c 0d 0f 0e 0a 0b 09 08 00 \"}, {\"name\": \"tb_gray1.ce\", \"wave\": \"0.....1...............................................................0.....\", \"data\": \"010\"}, {\"name\": \"tb_gray1.inst_gray_counter1_0.reset\", \"wave\": \"1..0........................................................................\", \"data\": \"10\"}, {\"name\": \"tb_gray1.inst_gray_counter1_0.u0\", \"wave\": \"1......1.0.0.1.1.0.0.1.1.0.0.1.1.0.0.1.1.0.0.1.1.0.0.1.1.0.0.1.1.0.0.1......\", \"data\": \"110011001100110011001100110011001\"}, {\"name\": \"tb_gray1.inst_gray_counter1_0.u1\", \"wave\": \"0......1.1.1...0.0.0...1.1.1...0.0.0...1.1.1...0.0.0...1.1.1...0.0.0........\", \"data\": \"0111000111000111000111000\"}, {\"name\": \"tb_gray1.inst_gray_counter1_0.u2\", \"wave\": \"0..........1.1.1...1.......0.0.0...0.......1.1.1...1.......0.0.0...0........\", \"data\": \"01111000011110000\"}, {\"name\": \"tb_gray1.inst_gray_counter1_0.u3\", \"wave\": \"0......0...0.......1.1.1...1.......0.0.0...0.......1.1.1...1.......0.0......\", \"data\": \"00011110000111100\"}]}</script></div>"
      ]
     },
     "metadata": {},
     "output_type": "display_data"
    },
    {
     "data": {
      "application/javascript": [
       "new Promise(function(resolve, reject) {\n",
       "\tvar script = document.createElement(\"script\");\n",
       "\tscript.onload = resolve;\n",
       "\tscript.onerror = reject;\n",
       "\tscript.src = \"https://wavedrom.com/wavedrom.min.js\";\n",
       "\tdocument.head.appendChild(script);\n",
       "}).then(() => {\n",
       "new Promise(function(resolve, reject) {\n",
       "\tvar script = document.createElement(\"script\");\n",
       "\tscript.onload = resolve;\n",
       "\tscript.onerror = reject;\n",
       "\tscript.src = \"https://wavedrom.com/skins/narrow.js\";\n",
       "\tdocument.head.appendChild(script);\n",
       "}).then(() => {\n",
       "WaveDrom.ProcessAll();\n",
       "});\n",
       "});"
      ]
     },
     "metadata": {},
     "output_type": "display_data"
    }
   ],
   "source": [
    "TB = \"tb_gray1\"\n",
    "\n",
    "# Configure waveform:\n",
    "cfg = wavedraw.config(TB, \n",
    "      { '.reset' : None, '.dout[%d:0]' % (GRAY_COUNTER_SIZE-1) : None, '.ce' : None\n",
    "      }\n",
    ")\n",
    "\n",
    "cfg[TB + '.inst_gray_counter1_0.reset'] = None\n",
    "\n",
    "u = [ TB + \".inst_gray_counter1_0.u%d\" % i for i in range(GRAY_COUNTER_SIZE) ]\n",
    "\n",
    "for s in u:\n",
    "    cfg[s] = None\n",
    "\n",
    "    \n",
    "waveform = wavedraw.vcd2wave(\"tb_gray1.vcd\", TB + '.clk', cfg, delta = 1)\n",
    "    \n",
    "nbwavedrom.draw(waveform)"
   ]
  },
  {
   "cell_type": "code",
   "execution_count": 12,
   "metadata": {},
   "outputs": [
    {
     "name": "stdout",
     "output_type": "stream",
     "text": [
      "-- File generated from /usr/local/lib/python3.10/runpy.py\n",
      "-- (c) 2016-2021 section5.ch\n",
      "-- Modifications may be lost\n",
      "\n",
      "library IEEE;\n",
      "use IEEE.std_logic_1164.all;\n",
      "use IEEE.numeric_std.all;\n",
      "\n",
      "library work;\n",
      "\n",
      "use work.txt_util.all;\n",
      "use work.myirl_conversion.all;\n",
      "\n",
      "entity gray_counter1 is\n",
      "    port (\n",
      "        clk : in std_ulogic;\n",
      "        enable : in std_ulogic;\n",
      "        reset : in std_ulogic;\n",
      "        gray_count : out unsigned(3 downto 0)\n",
      "    );\n",
      "end entity gray_counter1;\n",
      "\n",
      "architecture MyIRL of gray_counter1 is\n",
      "    -- Local type declarations\n",
      "    -- Signal declarations\n",
      "    signal toggle : std_ulogic;\n",
      "    signal code : unsigned(3 downto 0);\n",
      "    signal flags0 : std_ulogic;\n",
      "    signal u3 : std_ulogic;\n",
      "    signal u2 : std_ulogic;\n",
      "    signal u1 : std_ulogic;\n",
      "    signal u0 : std_ulogic;\n",
      "    signal work : unsigned(3 downto 0);\n",
      "    signal flags1 : std_ulogic;\n",
      "    signal flags2 : std_ulogic;\n",
      "    signal flags3 : std_ulogic;\n",
      "    signal flags4 : std_ulogic;\n",
      "begin\n",
      "    \n",
      "worker:\n",
      "    process(clk, reset)\n",
      "    begin\n",
      "        if reset = '1' then\n",
      "            gray_count <= x\"0\";\n",
      "            toggle <= '1';\n",
      "        elsif rising_edge(clk) then\n",
      "            if (enable = '1') then\n",
      "                gray_count <= code;\n",
      "                toggle <= not toggle;\n",
      "            end if;\n",
      "        end if;\n",
      "    end process;\n",
      "    flags0 <= '0';\n",
      "    code <= (u3 & u2 & u1 & u0);\n",
      "    work <= ('1' & code(2-1 downto 0) & toggle);\n",
      "    u0 <= ((work(0) and not flags0) xor gray_count(0));\n",
      "    flags1 <= (flags0 or (work(0) and not flags0));\n",
      "    u1 <= ((work(1) and not flags1) xor gray_count(1));\n",
      "    flags2 <= (flags1 or (work(1) and not flags1));\n",
      "    u2 <= ((work(2) and not flags2) xor gray_count(2));\n",
      "    flags3 <= (flags2 or (work(2) and not flags2));\n",
      "    u3 <= ((work(3) and not flags3) xor gray_count(3));\n",
      "    flags4 <= (flags3 or (work(3) and not flags3));\n",
      "end architecture MyIRL;\n",
      "\n"
     ]
    }
   ],
   "source": [
    "!cat {gray_counter1.ctx.path_prefix}/gray_counter1.vhdl"
   ]
  }
 ],
 "metadata": {
  "kernelspec": {
   "display_name": "Python 3 (ipykernel)",
   "language": "python",
   "name": "python3"
  },
  "language_info": {
   "codemirror_mode": {
    "name": "ipython",
    "version": 3
   },
   "file_extension": ".py",
   "mimetype": "text/x-python",
   "name": "python",
   "nbconvert_exporter": "python",
   "pygments_lexer": "ipython3",
   "version": "3.10.0"
  }
 },
 "nbformat": 4,
 "nbformat_minor": 4
}

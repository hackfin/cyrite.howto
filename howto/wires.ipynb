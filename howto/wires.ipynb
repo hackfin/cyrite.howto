{
 "cells": [
  {
   "cell_type": "markdown",
   "id": "abad8345-198e-4f79-a6f1-363a735964a1",
   "metadata": {},
   "source": [
    "# Wire type extensions\n",
    "\n",
    "## bv - bit vector with length accounting"
   ]
  },
  {
   "cell_type": "code",
   "execution_count": 1,
   "id": "8d07a784-9a1d-4c30-8d92-167e1812ff2e",
   "metadata": {},
   "outputs": [],
   "source": [
    "import sys\n",
    "sys.path.insert(0, '../../')"
   ]
  },
  {
   "cell_type": "code",
   "execution_count": 2,
   "id": "f082bc7a-6f14-4d74-843d-22961cb32163",
   "metadata": {},
   "outputs": [],
   "source": [
    "from cyhdl import *\n",
    "\n",
    "from myirl.emulation.bv import bv"
   ]
  },
  {
   "cell_type": "code",
   "execution_count": 3,
   "id": "d5b72bce-c97a-41e1-9116-a613386c1af3",
   "metadata": {},
   "outputs": [],
   "source": [
    "a = bv(12)[5:]\n",
    "\n",
    "b = a + 104"
   ]
  },
  {
   "cell_type": "code",
   "execution_count": 4,
   "id": "eedf143d-5089-4d7d-9485-10ba3840b786",
   "metadata": {},
   "outputs": [
    {
     "data": {
      "text/plain": [
       "(8, bv(0x74))"
      ]
     },
     "execution_count": 4,
     "metadata": {},
     "output_type": "execute_result"
    }
   ],
   "source": [
    "len(b), b"
   ]
  },
  {
   "cell_type": "code",
   "execution_count": 5,
   "id": "c82cd467-89c3-4f32-b998-663725aba6de",
   "metadata": {},
   "outputs": [
    {
     "name": "stdout",
     "output_type": "stream",
     "text": [
      "Warning: Implicit truncation of ADD(s_c209, s_4248) result\n",
      "\u001b[94ms_4248 <= signed(resize((s_c209 + signed(resize(s_4248, 6))), 5));\n",
      "\u001b[0mWarning: Implicit truncation of ADD(s_67a9, s_4da5) result\n",
      "\u001b[94ms_4da5 <= signed(resize((s_67a9 + signed(resize(s_4da5, 6))), 5));\n",
      "\u001b[0m"
     ]
    }
   ],
   "source": [
    "from myirl.targets.dummy import DummyTargetModule\n",
    "\n",
    "d = DummyTargetModule()\n",
    "\n",
    "a, b = [ Signal(bv()[5:].signed()) for _ in range(2) ]\n",
    "ia, ib = [ Signal(intbv()[5:].signed()) for _ in range(2) ]\n",
    "\n",
    "assign = b.set(a + b)\n",
    "iassign = ib.set(ia + ib)\n",
    "\n",
    "assign.emit(d)\n",
    "iassign.emit(d)"
   ]
  },
  {
   "cell_type": "markdown",
   "id": "280265f9-7fb8-42b6-a570-be3d3ac82f15",
   "metadata": {},
   "source": [
    "## intbv : MyHDL compatible integer bit vector\n",
    "\n",
    "The MyHDL intbv layer was in some parts taken 'as is' and ported to the cyrite emulation layer."
   ]
  },
  {
   "cell_type": "code",
   "execution_count": 6,
   "id": "3f459147-267b-4668-b8ba-fbc2f8f59ea7",
   "metadata": {},
   "outputs": [],
   "source": [
    "a = intbv(12)[5:]\n",
    "\n",
    "b = a + 103"
   ]
  },
  {
   "cell_type": "markdown",
   "id": "af9273a3-2ac0-458a-ac39-f758371f0e0d",
   "metadata": {},
   "source": [
    "Unlike the `bv` type, an addition result does not account for its bit length. This is the classic MyHDL `intbv` behaviour."
   ]
  },
  {
   "cell_type": "code",
   "execution_count": 7,
   "id": "a592b39a-5459-4287-a95f-aac8a91456cc",
   "metadata": {},
   "outputs": [
    {
     "data": {
      "text/plain": [
       "(115, int)"
      ]
     },
     "execution_count": 7,
     "metadata": {},
     "output_type": "execute_result"
    }
   ],
   "source": [
    "b, type(b)"
   ]
  },
  {
   "cell_type": "markdown",
   "id": "ab0cdd05-be2c-4cc8-958f-fe81288ce1fb",
   "metadata": {},
   "source": [
    "The result is hence a Python `int` with no defined length."
   ]
  },
  {
   "cell_type": "markdown",
   "id": "91d10b28-aa6b-4cea-924b-9212e72a0596",
   "metadata": {},
   "source": [
    "## fixbv and flexbv - (adaptive size) fixpoint values\n",
    "\n",
    "This particular type is reserved for the HLS subsystem.\n",
    "It is left undocumented."
   ]
  },
  {
   "cell_type": "markdown",
   "id": "aac5865a-72ce-4766-9878-d78397337dda",
   "metadata": {},
   "source": [
    "## Wire extensions\n",
    "\n",
    "In most cases, wire extensions are not necessary, in fact it is more practical to define extended `Signal` types based on the basic wires.\n",
    "\n",
    "However, when emulation of extended VHDL types is required, for example bare `std_logic_vector` types that handle tristate interfacing, the `SLV` data type extension may come into play.\n",
    "\n",
    "It is autocasted between `BuiltinIntType` types.\n",
    "See [Standard logic](stdlogic.ipynb) for more information."
   ]
  }
 ],
 "metadata": {
  "kernelspec": {
   "display_name": "Python 3 (ipykernel)",
   "language": "python",
   "name": "python3"
  },
  "language_info": {
   "codemirror_mode": {
    "name": "ipython",
    "version": 3
   },
   "file_extension": ".py",
   "mimetype": "text/x-python",
   "name": "python",
   "nbconvert_exporter": "python",
   "pygments_lexer": "ipython3",
   "version": "3.10.0"
  }
 },
 "nbformat": 4,
 "nbformat_minor": 5
}

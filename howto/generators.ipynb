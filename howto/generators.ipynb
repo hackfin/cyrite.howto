{
 "cells": [
  {
   "cell_type": "markdown",
   "id": "9f5c4253-f9fe-4b17-b6ff-5667f00a67f0",
   "metadata": {},
   "source": [
    "# Generator basics\n",
    "\n",
    "This is a somewhat extensive explanation for the advanced Python developer. Normally, one will not have to dive into these details, unless complex macro structures are created. You might want to look at the simpler [Thumb rules](#Thumb-rules) instead.\n",
    "\n",
    "CyriteHDL is internally driven by generator machinery, rather than  particular processing into a target representation by AST translation.\n",
    "\n",
    "When writing extension functions, it is important to know the generator internals, as the rules apply: You don't always get what you see (due to internal translation).\n",
    "\n",
    "Take a simple conditional function in native Python:"
   ]
  },
  {
   "cell_type": "code",
   "execution_count": 1,
   "id": "b62f8ab6-7ef7-4b06-91fb-ed8db7a9b912",
   "metadata": {
    "tags": []
   },
   "outputs": [],
   "source": [
    "def native(a, b, z):\n",
    "    if a == 1:\n",
    "        b.next = 2\n",
    "        z.next = True\n",
    "    else:\n",
    "        b.next = 0\n",
    "        z.next = False"
   ]
  },
  {
   "cell_type": "markdown",
   "id": "9701687b-17fa-41a5-9a57-5a053198ec88",
   "metadata": {},
   "source": [
    "When this function is run, it determines at runtime when to branch, and not visit code inside condition statements that are not met. In order to translate this code to a target, a different internal representation is more practical:"
   ]
  },
  {
   "cell_type": "code",
   "execution_count": 2,
   "id": "86bd5c86-48bd-44b9-b80f-10e8556a4f17",
   "metadata": {
    "tags": []
   },
   "outputs": [],
   "source": [
    "def generator_func(context, a, b, z):\n",
    "    yield (\n",
    "        context.If(a == 1).Then(\n",
    "            b.set(2), z.set(True)\n",
    "        ).Else(\n",
    "            b.set(0), z.set(False)\n",
    "        )\n",
    "    )"
   ]
  },
  {
   "cell_type": "markdown",
   "id": "86f83d93-2f8b-4bf2-ac26-afc76c66c235",
   "metadata": {},
   "source": [
    "A specific caller is able to extract the entire branch tree from this construct, given a `context.If` class hierarchy that manages it. We create a simple context ad hoc:"
   ]
  },
  {
   "cell_type": "code",
   "execution_count": 3,
   "id": "8a9e7777-0736-4b3e-9812-59c85010a01b",
   "metadata": {
    "tags": []
   },
   "outputs": [],
   "source": [
    "from myirl.kernel.struct_cond import If\n",
    "\n",
    "class AdHocContext:\n",
    "    If = If"
   ]
  },
  {
   "cell_type": "markdown",
   "id": "ad23a7a1-d620-4efc-8c1e-d1240796063b",
   "metadata": {},
   "source": [
    "Then we iterate through the generation function and print out the statements in their debug-style representation:"
   ]
  },
  {
   "cell_type": "code",
   "execution_count": 4,
   "id": "f2392651-d8a8-4f11-9af1-10f0505cedf9",
   "metadata": {
    "tags": []
   },
   "outputs": [
    {
     "name": "stdout",
     "output_type": "stream",
     "text": [
      "If (a == C:1)\n",
      "Then {(b <= 2, z <= B:true)}\n",
      "Then {(b <= 0, z <= B:false)}\n"
     ]
    }
   ],
   "source": [
    "from myirl import *\n",
    "\n",
    "a, b = [ Signal(intbv()[6:], name = n) for n in \"ab\" ]\n",
    "z = Signal(bool(), name = 'z')\n",
    "\n",
    "context = AdHocContext()\n",
    "\n",
    "def walk(context, func, emit, *args):\n",
    "    for g in func(context, *args):\n",
    "        emit(g)\n",
    "\n",
    "def _emit(g):\n",
    "    if isinstance(g, CondIterable):\n",
    "        for s in reversed(list(g)):\n",
    "            print(s)\n",
    "        \n",
    "walk(context, generator_func, _emit, a, b, z)"
   ]
  },
  {
   "cell_type": "markdown",
   "id": "710d4e7f-7710-4c15-8e06-6eeb1a5d72f6",
   "metadata": {},
   "source": [
    "**Note**: The `Else` branch lists also as `Then` in the internal representation.\n",
    "\n",
    "A more complex target is a HDL language target instanced as follows:"
   ]
  },
  {
   "cell_type": "code",
   "execution_count": 5,
   "id": "6ac3645c-c61b-45a2-90ee-674f0885c44f",
   "metadata": {
    "tags": []
   },
   "outputs": [
    {
     "name": "stdout",
     "output_type": "stream",
     "text": [
      "\u001b[94mcase a is\n",
      "\u001b[0m\u001b[94mwhen \"000001\" =>\u001b[0m\u001b[94m\n",
      "\u001b[0m\u001b[94m    b <= \"000010\";\n",
      "\u001b[0m\u001b[94m    z <= '1';\n",
      "\u001b[0m\u001b[94m\u001b[0m\u001b[94mwhen others =>\n",
      "\u001b[0m\u001b[94m    b <= \"000000\";\n",
      "\u001b[0m\u001b[94m    z <= '0';\n",
      "\u001b[0m\u001b[94m\u001b[0m\u001b[94mend case;\n",
      "\u001b[0m"
     ]
    }
   ],
   "source": [
    "from myirl.targets.dummy import DummyTargetModule\n",
    "\n",
    "d = DummyTargetModule(targets.VHDL)\n",
    "walk(d, generator_func, lambda x: x.emit(d), a, b, z)"
   ]
  },
  {
   "cell_type": "markdown",
   "id": "cd794f8b-aa89-4322-9c1f-7aa9e1c8f519",
   "metadata": {},
   "source": [
    "## Conclusion\n",
    "\n",
    "We note: There can be two representations of a Python routine. Since Python does neither allow us to use custom If..Else classes in its native dialect, nor can we override an assignment of a variable, we are a priori required to explicitely write down a dual representation for the same thing, if we want to execute and generate. The other, context sensitive option, is to use a decorator for a routine that does the following:\n",
    "* AST translation within a generator context to a generator representation using `yield`\n",
    "* Untouched execution of the function when in a native python execution context\n",
    "\n",
    "## The myIRL internal representation\n",
    "\n",
    "When decorating a top level function with a cyhdl `@block` statement, its child funclets will be examined for specific decorator keywords and translation to the **IRL** (internal representation language) will occur. Note that there is a `@myirl.block` wrapper - not to be mixed up - that does not translate, but tag a hardware component in general (like a Verilog module).\n",
    "\n",
    "This is a static construct and allows to emulate HDL python dialects such as MyHDL up to some extent.\n",
    "\n",
    "Dynamic selection is provided by specific factory classes that are context sensitive. This means, depending on the target configuration, code is either emit to a HDL target, compiled directly into a hardware simulation or is run natively in conjunction with a simulation. This is also referred to as 'Co-Simulation'."
   ]
  },
  {
   "cell_type": "markdown",
   "id": "46e6f145-cb27-4962-b8ee-66ab2ce77c9d",
   "metadata": {},
   "source": [
    "## HDL macros\n",
    "\n",
    "In many cases, setting a set of signals repeatedly would call for a function or macro. This is covered by the `@hdlmacro` function or method decorator. It has the following properties:\n",
    "\n",
    "* From outside, it is called like a function\n",
    "* Inside, it is using generator notation to create hardware\n",
    "* it is not context sensitive, but explicit. It can therefore\n",
    "   not contain context based if construct"
   ]
  },
  {
   "cell_type": "code",
   "execution_count": 6,
   "id": "8392ded4-6514-41ed-981b-1d7069d9adfb",
   "metadata": {
    "tags": []
   },
   "outputs": [],
   "source": [
    "class Port:\n",
    "    def __init__(self, n = 8):\n",
    "        self.a = Signal(intbv()[n:])\n",
    "        self.b = Signal(intbv()[n:])\n",
    "        \n",
    "    @hdlmacro\n",
    "    def init(self, v):\n",
    "        print(\"Initializing to\", v)\n",
    "        yield [\n",
    "            self.a.set(v), self.b.set(v)\n",
    "        ]\n",
    "        print(\"Done\")"
   ]
  },
  {
   "cell_type": "code",
   "execution_count": 7,
   "id": "6acc0b56-021b-4035-8427-14ba23a363d3",
   "metadata": {
    "tags": []
   },
   "outputs": [
    {
     "name": "stdout",
     "output_type": "stream",
     "text": [
      "Initializing to 2\n",
      "Done\n"
     ]
    },
    {
     "data": {
      "text/plain": [
       "intbv(0)"
      ]
     },
     "execution_count": 7,
     "metadata": {},
     "output_type": "execute_result"
    }
   ],
   "source": [
    "def test_port(p):\n",
    "    gen = p.init(2)\n",
    "    return gen\n",
    "\n",
    "p = Port(5)\n",
    "g = test_port(p)\n",
    "p.a.evaluate()"
   ]
  },
  {
   "cell_type": "code",
   "execution_count": 8,
   "id": "00c5aa9e-e279-4fcc-9a5b-cc4b25be064f",
   "metadata": {
    "tags": []
   },
   "outputs": [],
   "source": [
    "g.evaluate()\n",
    "assert p.a.evaluate() == 2 and p.b.evaluate() == 2"
   ]
  },
  {
   "cell_type": "markdown",
   "id": "510c4cf8-e03a-4b67-bf18-9bbe8d2a33fd",
   "metadata": {
    "tags": []
   },
   "source": [
    "A pure `@hdlmacro` does not allow to be called using `yield from`."
   ]
  },
  {
   "cell_type": "markdown",
   "id": "d5414f3b-510f-4b6b-b203-0c5eda548273",
   "metadata": {},
   "source": [
    "## When to use yield and when not\n",
    "\n",
    "Because code is either translated or executed, it is not always transparent in which of the dual forms HDL code should be authored. In some cases it might be desirable to mix native code with procedural constructs in IRL notation.\n",
    "\n",
    "The IRL provides generator constructs through decorators that work like statements inside a IRL sequence or process. In native form, an undecorated generator functions would be used using `yield from`. Inside a IRL statement list however, a decorated Generator object will be iterated through automatically. This can cause confusion, as shown with the `@hdlmacro` construct below.\n",
    "\n",
    "First, we must import the augmented `Signal` class from the simulation module. This class is able to evaluate assignments behind the curtains and is thus usable for verification the 'inline' way."
   ]
  },
  {
   "cell_type": "code",
   "execution_count": 9,
   "id": "3c6932da-b5fd-4f1b-b778-d53f3edfc618",
   "metadata": {
    "tags": []
   },
   "outputs": [],
   "source": [
    "from cyrite.simulation import Signal as SimSignal\n",
    "\n",
    "@hdlmacro\n",
    "def genfunc(a, b):\n",
    "    print(\"RUN MACRO\")\n",
    "    yield [\n",
    "        a.set(b),\n",
    "        b.set(b + 1),\n",
    "    ]\n",
    "    print(\"FINISH MACRO\")"
   ]
  },
  {
   "cell_type": "markdown",
   "id": "262bd880-3e3d-433e-805b-97d63de485ae",
   "metadata": {},
   "source": [
    "Because the `@hdlmacro` is generating expressions, but has not actually evaluated their values yet, we have to explicitely call `evaluate()` in order to see updated values.\n",
    "\n",
    "We construct a generator sequence that is run *as is*, i.e. untranslated. We refer to this as a **native context**."
   ]
  },
  {
   "cell_type": "code",
   "execution_count": 10,
   "id": "432494e1-443f-4231-9fcb-733c0dbd1563",
   "metadata": {
    "tags": []
   },
   "outputs": [],
   "source": [
    "def walk_sequence(a, b):\n",
    "    \n",
    "    a.next = 0\n",
    "    b.next = 3\n",
    "    yield 1\n",
    "    # @hdlmacro is explicitely *called* and must be evaluated:\n",
    "    genfunc(a, b).evaluate()\n",
    "    # This is not allowed:\n",
    "    try:\n",
    "        yield from genfunc(a, b)\n",
    "        assert False\n",
    "    except RuntimeError:\n",
    "        pass\n",
    "    \n",
    "    # Note the genfunc assignments have\n",
    "    # not updated yet, because it's a hdlmacro. We must\n",
    "    # insert a yield timestep:\n",
    "    assert a == 0 and  b == 3  \n",
    "    \n",
    "    yield 1\n",
    "   \n",
    "    assert a == 3 and b == 4\n",
    "    \n",
    "    print(\"STOP\")"
   ]
  },
  {
   "cell_type": "markdown",
   "id": "6b237530-17db-4f9b-9eaa-8aa4546623c8",
   "metadata": {},
   "source": [
    "To iterate over this generator, we use the DummySimulator classes `handle_sequence()` method. This simply updates the simulator signals to their `.next` assignment when a time step is taken via `yield`."
   ]
  },
  {
   "cell_type": "code",
   "execution_count": 11,
   "id": "a8211f36-d6d8-42e3-8b4a-4b39717584b2",
   "metadata": {
    "tags": []
   },
   "outputs": [
    {
     "name": "stdout",
     "output_type": "stream",
     "text": [
      "[ STEP: 1 -> 1 ]\n",
      "RUN MACRO\n",
      "FINISH MACRO\n",
      "RUN MACRO\n",
      "FINISH MACRO\n",
      "[ STEP: 1 -> 2 ]\n",
      "STOP\n"
     ]
    }
   ],
   "source": [
    "from myirl.targets.dummy import DummySimulator\n",
    "\n",
    "sim = DummySimulator()\n",
    "\n",
    "a, b = [ sim.Signal(intbv()[4:], name = n) for n in \"ab\" ]\n",
    "\n",
    "sim.handle_sequence(walk_sequence(a, b))\n"
   ]
  },
  {
   "cell_type": "markdown",
   "id": "2da8037c-a062-41be-bd1a-fab1a6611517",
   "metadata": {},
   "source": [
    "The next thing to take notice: `genfunc` is a true hardware generator and requires evaluation in the simulation context. Otherwise, the assertion will fail.\n",
    "\n",
    "Note that a hardware generator will pass an explicit context to `.evaluate()`, whereas a native caller may omit this.\n",
    "\n",
    "The `Macro` class behind the `@hdlmacro` decorator prohibits to use `yield from` from within a native context. The reason is, that the native context should only see time steps as yielded expression."
   ]
  },
  {
   "cell_type": "markdown",
   "id": "236a4985-5655-4e86-a0e8-17c9c559fa07",
   "metadata": {},
   "source": [
    "However, when we wish to generate code for external simulators, the game is different: In this case `walk_sequence()` would need to be a generator function and we might have to explicitely rewrite it - if we did not have an auxiliary: We can use said decorators to silently turn it into a generator under the hood.\n",
    "This context situation is referred to as **generator context** where decorated funclets are translated to the IRL representation.\n",
    "\n",
    "## Code contexts\n",
    "\n",
    "We can create decorators with dual use functionality, such that a function is *executed* in one context or *generates* in the other.\n",
    "\n",
    "A hardware function, for example a IRL `@process`, always runs in parallel with other processes. A simulation specific sequence of stimuli again runs like a program with wait/delay statements.\n",
    "\n",
    "A `@hdlmacro` is a priori a hardware-minded function which does not describe a timed simulation sequence, therefore it should be emphasized again that it is a pure and explicit generator. When called within a sequential simulation context, it must be evaluated.\n",
    "\n",
    "**Note**: A `@hdlmacro` is not a portable construct. Never call it from a dual use `@cyrite_method`."
   ]
  },
  {
   "cell_type": "markdown",
   "id": "a06d6786-5097-44f6-a5b9-b62eba93d216",
   "metadata": {
    "tags": []
   },
   "source": [
    "## CAVEATS\n",
    " \n",
    "We also elaborate on the `@hdlmacro` pitfall again, when forgetting to evaluate:"
   ]
  },
  {
   "cell_type": "code",
   "execution_count": 12,
   "id": "92dde758-eb2e-4629-be39-231113b3f913",
   "metadata": {
    "tags": []
   },
   "outputs": [
    {
     "name": "stdout",
     "output_type": "stream",
     "text": [
      "[ STEP: 1 -> 3 ]\n",
      "RUN MACRO\n",
      "FINISH MACRO\n",
      "assertion FAILED, re-evaluate\n",
      "[ STEP: 1 -> 4 ]\n"
     ]
    }
   ],
   "source": [
    "def sequence():\n",
    "    a, b = [ sim.Signal(intbv()[4:], name = n) for n in \"ab\" ]\n",
    "    a.next = 4\n",
    "    b.next = 2\n",
    "    yield 1\n",
    "    assert a == 4 and b == 2 # Values valid after time step!\n",
    "    ret = genfunc(a, b)\n",
    "    try:\n",
    "        assert a == 2 and b == 3 # Expect failure\n",
    "    except AssertionError:\n",
    "        print(\"assertion FAILED, re-evaluate\")\n",
    "        ret.evaluate()\n",
    "        yield 1 # And step to settle signals\n",
    "        \n",
    "    # Try again:\n",
    "    assert a == 2 and b == 3 # Values valid after evaluation\n",
    "    \n",
    "\n",
    "sim.handle_sequence(sequence())"
   ]
  },
  {
   "cell_type": "markdown",
   "id": "4c8bcc76-6918-44a2-8bc8-36dae682202e",
   "metadata": {},
   "source": [
    "So: only after an explicit evaluation, the action is executed.\n",
    "In case it is really meant to call an uncedorated hardware related function from a native sequence, you may want to use the following construct (note this is a very rarely used, internal construct for some outdated context implementations):"
   ]
  },
  {
   "cell_type": "code",
   "execution_count": 13,
   "id": "155ac5dd-8d11-4d57-ab63-800ea077abdd",
   "metadata": {
    "tags": []
   },
   "outputs": [],
   "source": [
    "def bare_dual_func(a, b, v):\n",
    "    a.next = b\n",
    "    b.next = v\n",
    "    yield [ a.set(b), b.set(v) ]\n",
    "\n",
    "def native_seq():\n",
    "    assert bare_func(a, b, 3) == None"
   ]
  },
  {
   "cell_type": "markdown",
   "id": "41661f82-cb9e-4731-97da-9548baad174a",
   "metadata": {},
   "source": [
    "In this case you will not miss a generator being returned by the called function.\n",
    "\n",
    "**Note**: When you really **must** call a `@hdlmacro` from a  `@cyrite_method` function, you *must* obtain the current context and pass it to `.evaluate()` in an out-of-band helper function called by the `@cyrite_method` function.\n",
    "\n",
    "See also [Out of band tricks](#Out-of-band-tricks)"
   ]
  },
  {
   "cell_type": "markdown",
   "id": "96ba62ae-9890-44c8-a38c-e1632c3d8251",
   "metadata": {},
   "source": [
    "## Portability\n",
    "\n",
    "A decorated function may be written such that it is valid for both the native and the generator context. Thus, a function object is created that is context sensitive, decides which variant to iterate through or call depending on the context.\n",
    "\n",
    "This leads to portability issues, as return values of functions can have different meanings in the dual context world."
   ]
  },
  {
   "cell_type": "markdown",
   "id": "4182d5fc-b9ab-441a-96ef-fd14e18d4aa3",
   "metadata": {},
   "source": [
    "## Thumb rules\n",
    "\n",
    "* Avoid to insert `simulation.wait` statements into `@hdlmacro` functions, if you intend to co-simulate.\n",
    "\n",
    "### Macros, sequences, functions\n",
    "\n",
    "A native context is not passed automatically to a dual use funclet. A RTL function (not generator) must be `.run` explicitely by passing a context argument in order to actually execute.\n",
    "Since this is not portable to the generator context, the main rule was distilled as follows:\n",
    "\n",
    "* **Always** call by `yield from` from a sequential simulation context (even if they contain no `yield` statements):\n",
    "   * `@rtl_function`\n",
    "   * `cyrite_method.sequence`\n",
    "   * `cyrite_method.function`    \n",
    "   In this case, the generator context is None and the internal  \n",
    "   wrapper must deal with it.\n",
    "\n",
    "* call as a function from a pure hardware generation context, i.e.\n",
    "  inside a `@always()` process. \n",
    "   * `@rtl_function`\n",
    "   * `cyrite_method.function`\n",
    "   * `@hdlmacro`\n",
    "\n",
    "`@hdlmacros` as non-portable constructs are thus called by hardware generators, typically.\n",
    " \n",
    "When a hdl macro is called from within a dual use function without evaluation, it may render the dual use function unportable, i.e. such a construct will only work for transpiled output. Some advanced context wrappers may be able to process nested alternating contexts, but typically, you will get an error."
   ]
  },
  {
   "cell_type": "markdown",
   "id": "a67a4148-b363-4887-8948-18f306e3a678",
   "metadata": {},
   "source": [
    "## Code verification - externally\n",
    "\n",
    "The Cyrite emulation layer provides a `@sequence` decorator to automatically translate a sub-function into a generator.\n",
    "\n",
    "However, there's a catch: When simply copying the `walk_sequence()` function, an external simulator will fail. Why? When assigning a `Signal` to a value, the value is not immediately valid, rather, a delta time step will have to be taken in order for the signal to update.\n",
    "\n",
    "Therefore, we have to insert a `delay()` statement before each time we make use of a signals content. We construct a test bench `@block` with an adapted `@sequence`:"
   ]
  },
  {
   "cell_type": "code",
   "execution_count": 14,
   "id": "7910d004-3285-4c75-903a-c9bb5238e320",
   "metadata": {
    "tags": []
   },
   "outputs": [],
   "source": [
    "from cyhdl import *\n",
    "\n",
    "@block\n",
    "def testbench():\n",
    "    a, b = [ Signal(intbv()[4:], name = n) for n in \"ab\" ]\n",
    "\n",
    "    @sequence\n",
    "    def main():\n",
    "        a.next = 0\n",
    "        b.next = 3\n",
    "        \n",
    "        yield delay(1) # Wait to settle\n",
    "        \n",
    "        # @hdlmacro is explicitely *called*\n",
    "        genfunc(a, b) # non-portable!\n",
    "\n",
    "        yield delay(1) # Again, wait to settle signal values\n",
    "        print(a, b)\n",
    "        \n",
    "        assert a == 3\n",
    "        assert b == 4\n",
    "\n",
    "        print(\"STOP\")\n",
    "\n",
    "    return instances()"
   ]
  },
  {
   "cell_type": "markdown",
   "id": "be208983-6723-4a4a-9594-0bca4be89b94",
   "metadata": {},
   "source": [
    "Note that we can use the `yield from` notation here. It is silently translated into a call inside the resulting yield sequence. We can display this by calling `.unparse()`:"
   ]
  },
  {
   "cell_type": "code",
   "execution_count": 15,
   "id": "dd896ea6-da67-43a1-ad5e-bc5bdb36fc0a",
   "metadata": {
    "tags": []
   },
   "outputs": [
    {
     "name": "stdout",
     "output_type": "stream",
     "text": [
      "==============================\n",
      "Unparsing unit testbench\n",
      "==============================\n",
      "\n",
      "\n",
      "@block\n",
      "def testbench():\n",
      "    (a, b) = [Signal(intbv()[4:], name=n) for n in 'ab']\n",
      "\n",
      "    @generator_ctx\n",
      "    def main(_context):\n",
      "        (yield [a.set(0), b.set(3), wait(delay(1)), genfunc(a, b), wait(delay(1)), print_(a, b), assert_((a == 3), 'Failed in /tmp/ipykernel_3944/4070373390.py:testbench():20'), assert_((b == 4), 'Failed in /tmp/ipykernel_3944/4070373390.py:testbench():21'), print_('STOP')])\n",
      "    return instances()\n",
      "\n"
     ]
    }
   ],
   "source": [
    "print(testbench.unparse())"
   ]
  },
  {
   "cell_type": "code",
   "execution_count": 16,
   "id": "20b332de-9127-44de-957f-d0cf0faab5f4",
   "metadata": {
    "tags": []
   },
   "outputs": [
    {
     "name": "stdout",
     "output_type": "stream",
     "text": [
      "RUN MACRO\n",
      "FINISH MACRO\n",
      " Writing 'testbench' to file /tmp/testbench.vhdl \n",
      "Warning: Implicit truncation of ADD(b, C:1) result\n",
      " Creating library file /tmp/module_defs.vhdl \n",
      "WORK DIR of instance [Instance testbench I/F: [// ID: testbench_0 to testbench]] /tmp/myirl_testbench_e9i7man4/\n",
      "==== COSIM stdout ====\n",
      "0x3 0x4\n",
      "STOP\n",
      "\n"
     ]
    },
    {
     "data": {
      "text/plain": [
       "0"
      ]
     },
     "execution_count": 16,
     "metadata": {},
     "output_type": "execute_result"
    }
   ],
   "source": [
    "from myirl.test.common_test import Simulator\n",
    "tb = testbench()\n",
    "\n",
    "s = Simulator(targets.VHDL)\n",
    "s.run(tb, 200, debug = True)"
   ]
  },
  {
   "cell_type": "markdown",
   "id": "a842b3aa-01f6-45af-8c81-a7d3ffe3b280",
   "metadata": {},
   "source": [
    "The simulation hence passes, however, try removing a `delay()` statement and it will fail. This behaviour is always wanted in the simulation world. Because our simulation signals are initialized by a dummy simulation signal internally and receive their assignments immediately, the behaviour is *not* the same."
   ]
  },
  {
   "cell_type": "markdown",
   "id": "ac5e8ffd-e5e8-409b-9159-51a0fd780c40",
   "metadata": {},
   "source": [
    "Finally, we may want to have a look at the transpiled resulting VHDL file:"
   ]
  },
  {
   "cell_type": "code",
   "execution_count": 17,
   "id": "bcb27c50-a21c-4518-9f6b-90c14c4af691",
   "metadata": {
    "tags": []
   },
   "outputs": [
    {
     "name": "stdout",
     "output_type": "stream",
     "text": [
      "-- File generated from source:\r\n",
      "--     /tmp/ipykernel_235/4070373390.py\r\n",
      "-- (c) 2016-2022 section5.ch\r\n",
      "-- Modifications may be lost, edit the source file instead.\r\n",
      "\r\n",
      "library IEEE;\r\n",
      "use IEEE.std_logic_1164.all;\r\n",
      "use IEEE.numeric_std.all;\r\n",
      "\r\n",
      "library work;\r\n",
      "\r\n",
      "use work.txt_util.all;\r\n",
      "use work.myirl_conversion.all;\r\n",
      "\r\n",
      "entity testbench is\r\n",
      "end entity testbench;\r\n",
      "\r\n",
      "architecture cyriteHDL of testbench is\r\n",
      "    -- Local type declarations\r\n",
      "    -- Signal declarations\r\n",
      "    signal a : unsigned(3 downto 0);\r\n",
      "    signal b : unsigned(3 downto 0);\r\n",
      "begin\r\n",
      "    \r\n",
      "main:\r\n",
      "    process\r\n",
      "    begin\r\n",
      "        a <= x\"0\";\r\n",
      "        b <= x\"3\";\r\n",
      "        wait for 1 ns;\r\n",
      "        a <= b;\r\n",
      "        b <= resize((resize(b, 5) + 1), 4);\r\n",
      "        wait for 1 ns;\r\n",
      "        print(\"0x\"& hstr(a) & \" \" & \"0x\"& hstr(b));\r\n",
      "        assert (a = x\"3\")\r\n",
      "            report \"Failed in /tmp/ipykernel_235/4070373390.py:testbench():20\" severity failure;\r\n",
      "        assert (b = x\"4\")\r\n",
      "            report \"Failed in /tmp/ipykernel_235/4070373390.py:testbench():21\" severity failure;\r\n",
      "        print(\"STOP\");\r\n",
      "        wait;\r\n",
      "    end process;\r\n",
      "end architecture cyriteHDL;\r\n",
      "\r\n"
     ]
    }
   ],
   "source": [
    "!cat {s.used_files[0]}"
   ]
  },
  {
   "cell_type": "markdown",
   "id": "be242130-9536-45d1-9a18-64535448ecea",
   "metadata": {},
   "source": [
    "### Hardware generation versus simulation\n",
    "\n",
    "The classical HDL languages don't explicitely differentiate between constructs that translate to real hardware elements or are mainly meant for simulation.\n",
    "\n",
    "One could thus be tempted to insert `delay()` specifications into a `@hdlmacro` generator in order to simplify the main() sequence.\n",
    "However this is a deprecated method, because a `@hdlmacro`is particularely meant to generate a hardware construct.\n",
    "\n",
    "A Python simulation routine however makes the distinction between time steps and events versus hardware elements by the `yield` statement. To keep hardware only and simulation constructs separate, specific decorators are used for sequential statements, such as `@cyrite_method.sequence`. See also [Port classes](ports.ipynb) for examples."
   ]
  },
  {
   "cell_type": "markdown",
   "id": "cc791c1a-9f1a-4dcd-bfd4-85001ab423b3",
   "metadata": {},
   "source": [
    "## Out of band tricks\n",
    "\n",
    "For all functions with a dual use nature, context sensitivity is typically carried out by the transpiler.\n",
    "\n",
    "In some cases however one might insert special hooks depending on the context. Since a `@cyrite_method` function called from a generator context is turned into a generator as well, we need to except commands that are not emitted to a target structure but are executed. This is referred to as *out of band* code."
   ]
  },
  {
   "cell_type": "markdown",
   "id": "6cabe0a3-ecf2-4208-8ba5-3ae4eeee9aff",
   "metadata": {},
   "source": [
    "A IRL representation for those dual bands looks as follows: The `print` statement is executed and explicitely not emitted."
   ]
  },
  {
   "cell_type": "code",
   "execution_count": 18,
   "id": "0f886439-49b9-4fa5-9d32-8be93e0325f9",
   "metadata": {
    "tags": []
   },
   "outputs": [],
   "source": [
    "@hdlmacro\n",
    "def gen(a):\n",
    "    print(\"Inverting\", a)\n",
    "    yield [ a.set(~a) ]"
   ]
  },
  {
   "cell_type": "markdown",
   "id": "31480636-f933-4fca-9936-03b4ce345592",
   "metadata": {},
   "source": [
    "A sequential function construct represented in CyHDL notation and interpreted in dual ways however can not make use of that. We have to create an out of band @hdlmacro that just yields an empty list (we must not yield `None`):"
   ]
  },
  {
   "cell_type": "code",
   "execution_count": 19,
   "id": "7e9af6ae-3058-4989-b3d4-b1a13c1f371a",
   "metadata": {
    "tags": []
   },
   "outputs": [],
   "source": [
    "@hdlmacro\n",
    "def report(msg):\n",
    "    print(msg)\n",
    "    yield []"
   ]
  },
  {
   "cell_type": "markdown",
   "id": "06e6857d-941b-4c5a-9cd9-255713972c31",
   "metadata": {},
   "source": [
    "Then we call this from a dual `@seq_function`:"
   ]
  },
  {
   "cell_type": "code",
   "execution_count": 20,
   "id": "3df5067b-cb0b-4118-9e55-73622b5d721e",
   "metadata": {
    "tags": []
   },
   "outputs": [],
   "source": [
    "from myirl.emulation.factory_wrapper import seq_function\n",
    "\n",
    "@seq_function\n",
    "def test_sequence(a, b):\n",
    "    a.next = b\n",
    "    yield delay(1)\n",
    "    report(\"Set %s to %s\" % (repr(a), repr(b)))"
   ]
  },
  {
   "cell_type": "markdown",
   "id": "4078f943-0453-421c-bcf2-fc4e9185e4a5",
   "metadata": {},
   "source": [
    "We create a test bench to emit to a HDL language:"
   ]
  },
  {
   "cell_type": "code",
   "execution_count": 21,
   "id": "f8bd7543-480b-4646-bdfc-5b083df385cc",
   "metadata": {
    "tags": []
   },
   "outputs": [],
   "source": [
    "from cyhdl import *\n",
    "\n",
    "@block\n",
    "def tb():\n",
    "    a, b = [ Signal(intbv()[5:]) for _ in range(2) ]\n",
    "    @sequence\n",
    "    def main():\n",
    "        a.next = 5\n",
    "        b.next = 0\n",
    "        yield from test_sequence(a, b)\n",
    "        assert a == b\n",
    "        raise StopSimulation\n",
    "    \n",
    "    return instances()"
   ]
  },
  {
   "cell_type": "markdown",
   "id": "313f0401-908a-4460-be5f-f13e516ec524",
   "metadata": {
    "tags": []
   },
   "source": [
    "### HDL output\n",
    "\n",
    "Finally, we elaborate into a HDL. The `@hdlmacro` is iterated upon evaluation, in this case at the elaboration time:"
   ]
  },
  {
   "cell_type": "code",
   "execution_count": 22,
   "id": "67985f64-6515-4a6a-8f1c-5c3baff77e74",
   "metadata": {
    "tags": []
   },
   "outputs": [],
   "source": [
    "t = tb()"
   ]
  },
  {
   "cell_type": "code",
   "execution_count": 23,
   "id": "25830914-a95f-44e6-91a4-1e1c9d6faf90",
   "metadata": {
    "tags": []
   },
   "outputs": [
    {
     "name": "stdout",
     "output_type": "stream",
     "text": [
      "Set <a> to <b>\n",
      " Writing 'tb' to file /tmp/myirl_tb_9ae4kzi7/tb.vhdl \n"
     ]
    }
   ],
   "source": [
    "files = t.elab(targets.VHDL)"
   ]
  },
  {
   "cell_type": "markdown",
   "id": "57b515cd-545c-4cbb-b59f-9a9aa6c835ab",
   "metadata": {},
   "source": [
    "And we observe the report command not being emitted to the target HDL:"
   ]
  },
  {
   "cell_type": "code",
   "execution_count": 24,
   "id": "72b38875-8214-487b-9d05-0d59d76d0398",
   "metadata": {
    "tags": []
   },
   "outputs": [
    {
     "name": "stdout",
     "output_type": "stream",
     "text": [
      "    signal b : unsigned(4 downto 0);\r\n",
      "begin\r\n",
      "    \r\n",
      "main:\r\n",
      "    process\r\n",
      "    begin\r\n",
      "        a <= \"00101\";\r\n",
      "        b <= \"00000\";\r\n",
      "        a <= b;\r\n",
      "--\r\n",
      "        assert (a = b)\r\n",
      "            report \"Failed in /tmp/ipykernel_235/1687103223.py:tb():11\" severity failure;\r\n",
      "        std.env.stop;\r\n",
      "        wait;\r\n",
      "    end process;\r\n",
      "end architecture cyriteHDL;\r\n",
      "\r\n"
     ]
    }
   ],
   "source": [
    "!grep -4 process {files[0]}"
   ]
  }
 ],
 "metadata": {
  "kernelspec": {
   "display_name": "Python 3 (ipykernel)",
   "language": "python",
   "name": "python3"
  },
  "language_info": {
   "codemirror_mode": {
    "name": "ipython",
    "version": 3
   },
   "file_extension": ".py",
   "mimetype": "text/x-python",
   "name": "python",
   "nbconvert_exporter": "python",
   "pygments_lexer": "ipython3",
   "version": "3.10.0"
  }
 },
 "nbformat": 4,
 "nbformat_minor": 5
}

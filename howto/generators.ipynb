{
 "cells": [
  {
   "cell_type": "markdown",
   "id": "9f5c4253-f9fe-4b17-b6ff-5667f00a67f0",
   "metadata": {},
   "source": [
    "# Generator basics\n",
    "\n",
    "CyriteHDL is internally driven by generator machinery, rather than  particular processing into a target representation by AST translation.\n",
    "\n",
    "Take a simple conditional function in native Python:"
   ]
  },
  {
   "cell_type": "code",
   "execution_count": 1,
   "id": "d3ffe908-1557-42d9-92b7-e65bb04e1e3c",
   "metadata": {},
   "outputs": [],
   "source": [
    "import sys\n",
    "sys.path.insert(0, \"../../\")"
   ]
  },
  {
   "cell_type": "code",
   "execution_count": 2,
   "id": "b62f8ab6-7ef7-4b06-91fb-ed8db7a9b912",
   "metadata": {},
   "outputs": [],
   "source": [
    "def native(a, b, z):\n",
    "    if a == 1:\n",
    "        b.next = 2\n",
    "        z.next = True\n",
    "    else:\n",
    "        b.next = 0\n",
    "        z.next = False"
   ]
  },
  {
   "cell_type": "markdown",
   "id": "9701687b-17fa-41a5-9a57-5a053198ec88",
   "metadata": {},
   "source": [
    "When this function is run, it determines at runtime when to branch, and not visit code inside condition statements that are not met. In order to translate this code to a target, a different internal representation is more practical:"
   ]
  },
  {
   "cell_type": "code",
   "execution_count": 3,
   "id": "86bd5c86-48bd-44b9-b80f-10e8556a4f17",
   "metadata": {},
   "outputs": [],
   "source": [
    "def generator_func(context, a, b, z):\n",
    "    yield (\n",
    "        context.If(a == 1).Then(\n",
    "            b.set(2), z.set(True)\n",
    "        ).Else(\n",
    "            b.set(0), z.set(False)\n",
    "        )\n",
    "    )"
   ]
  },
  {
   "cell_type": "markdown",
   "id": "86f83d93-2f8b-4bf2-ac26-afc76c66c235",
   "metadata": {},
   "source": [
    "A specific caller is able to extract the entire branch tree from this construct, given a `context.If` class hierarchy that manages it. We create a simple context ad hoc:"
   ]
  },
  {
   "cell_type": "code",
   "execution_count": 4,
   "id": "8a9e7777-0736-4b3e-9812-59c85010a01b",
   "metadata": {},
   "outputs": [],
   "source": [
    "from myirl.kernel.struct_cond import If\n",
    "\n",
    "class AdHocContext:\n",
    "    def __init__(self):\n",
    "        self.If = If  "
   ]
  },
  {
   "cell_type": "markdown",
   "id": "ad23a7a1-d620-4efc-8c1e-d1240796063b",
   "metadata": {},
   "source": [
    "Then we iterate through the generation function and print out the statements in their debug-style representation:"
   ]
  },
  {
   "cell_type": "code",
   "execution_count": 5,
   "id": "f2392651-d8a8-4f11-9af1-10f0505cedf9",
   "metadata": {},
   "outputs": [
    {
     "name": "stdout",
     "output_type": "stream",
     "text": [
      "If (a == C:1)\n",
      "Then {(b <= 2, z <= B:true)}\n",
      "Then {(b <= 0, z <= B:false)}\n"
     ]
    }
   ],
   "source": [
    "from myirl import *\n",
    "\n",
    "a, b = [ Signal(intbv()[6:], name = n) for n in \"ab\" ]\n",
    "z = Signal(bool(), name = 'z')\n",
    "\n",
    "context = AdHocContext()\n",
    "\n",
    "def walk(context, func, emit, *args):\n",
    "    for g in func(context, *args):\n",
    "        emit(g)\n",
    "\n",
    "def _emit(g):\n",
    "    if isinstance(g, CondIterable):\n",
    "        for s in reversed(list(g)):\n",
    "            print(s)\n",
    "        \n",
    "walk(context, generator_func, _emit, a, b, z)"
   ]
  },
  {
   "cell_type": "markdown",
   "id": "710d4e7f-7710-4c15-8e06-6eeb1a5d72f6",
   "metadata": {},
   "source": [
    "A more complex target is a HDL language target instanced as follows:"
   ]
  },
  {
   "cell_type": "code",
   "execution_count": 6,
   "id": "6ac3645c-c61b-45a2-90ee-674f0885c44f",
   "metadata": {},
   "outputs": [
    {
     "name": "stdout",
     "output_type": "stream",
     "text": [
      "\u001b[94mcase a is\n",
      "\u001b[0m\u001b[94mwhen \"000001\" =>\u001b[0m\u001b[94m\n",
      "\u001b[0m\u001b[94m    b <= \"000010\";\n",
      "\u001b[0m\u001b[94m    z <= '1';\n",
      "\u001b[0m\u001b[94m\u001b[0m\u001b[94mwhen others =>\n",
      "\u001b[0m\u001b[94m    b <= \"000000\";\n",
      "\u001b[0m\u001b[94m    z <= '0';\n",
      "\u001b[0m\u001b[94m\u001b[0m\u001b[94mend case;\n",
      "\u001b[0m"
     ]
    }
   ],
   "source": [
    "from myirl.targets.dummy import DummyTargetModule\n",
    "\n",
    "d = DummyTargetModule(targets.VHDL)\n",
    "walk(d, generator_func, lambda x: x.emit(d), a, b, z)"
   ]
  },
  {
   "cell_type": "markdown",
   "id": "cd794f8b-aa89-4322-9c1f-7aa9e1c8f519",
   "metadata": {},
   "source": [
    "## Conclusion\n",
    "\n",
    "We note: There can be two representations of a Python routine. Since Python does neither allow us to use custom If..Else classes in its native dialect, nor can we override an assignment of a variable, we are a priori required to explicitely write down a dual representation for the same thing, if we want to execute and generate. The other, context sensitive option, is to use a decorator for a routine that does the following:\n",
    "* AST translation within a generator context to a generator representation using `yield`\n",
    "* Untouched execution of the function when in a native python execution context\n",
    "\n",
    "## The myIRL internal representation\n",
    "\n",
    "When decorating a top level function with a `@block` statement, its child funclets will be examined for specific decorator keywords and translation to the **IRL** (internal representation language) will occur.\n",
    "\n",
    "This is a static construct and allows to emulate HDL python dialects such as MyHDL up to some extent.\n",
    "\n",
    "Dynamic selection is provided by specific factory classes that are context sensitive. This means, depending on the target configuration, code is either emit to a HDL target, compiled directly into a hardware simulation or is run natively in conjunction with a simulation. This is also referred to as 'Co-Simulation'."
   ]
  },
  {
   "cell_type": "markdown",
   "id": "d5414f3b-510f-4b6b-b203-0c5eda548273",
   "metadata": {},
   "source": [
    "## When to use yield and when not\n",
    "\n",
    "Because code is either translated or executed, it is not always transparent in which of the dual forms HDL code should be authored. In some cases it might be desirable to mix native code with procedural constructs in IRL notation.\n",
    "\n",
    "The IRL provides generator constructs through decorators that work like statements inside a IRL sequence or process. In native form, an undecorated generator functions would be used using `yield from`. Inside a IRL statement list however, a decorated Generator object will be iterated through automatically. This can cause confusion, as shown with the `@hdlmacro` construct below.\n",
    "\n",
    "First, we must import the augmented `Signal` class from the simulation module. This class is able to evaluate assignments behind the curtains and is thus usable for verification up to some extent."
   ]
  },
  {
   "cell_type": "code",
   "execution_count": 128,
   "id": "3f801206-844f-4dec-a861-7ee47f3ddd3a",
   "metadata": {},
   "outputs": [],
   "source": [
    "from cyrite.simulation import Signal\n",
    "\n",
    "@hdlmacro\n",
    "def genfunc(a, b):\n",
    "    print(\"RUN MACRO\")\n",
    "    yield [\n",
    "        a.set(b),\n",
    "        b.set(b + 1),\n",
    "    ]\n",
    "    print(\"FINISH MACRO\")\n",
    "    \n",
    "def walk_sequence(a, b):\n",
    "    \n",
    "    a.next = 0\n",
    "    b.next = 3\n",
    "    # @hdlmacro is explicitely *called*\n",
    "    genfunc(a, b)\n",
    "    # This is not correct:\n",
    "    # yield from genfunc(a, b)\n",
    "    print(a, b)\n",
    "   \n",
    "    assert a == 3\n",
    "    assert b == 4\n",
    "    \n",
    "    \n",
    "    print(\"STOP\")"
   ]
  },
  {
   "cell_type": "code",
   "execution_count": 129,
   "id": "a8211f36-d6d8-42e3-8b4a-4b39717584b2",
   "metadata": {},
   "outputs": [
    {
     "name": "stdout",
     "output_type": "stream",
     "text": [
      "RUN MACRO\n",
      "FINISH MACRO\n",
      "<a> : 0x3 <b> : 0x4\n",
      "STOP\n"
     ]
    }
   ],
   "source": [
    "a, b = [ Signal(intbv()[4:], name = n) for n in \"ab\" ]\n",
    "\n",
    "walk_sequence(a, b)"
   ]
  },
  {
   "cell_type": "markdown",
   "id": "2da8037c-a062-41be-bd1a-fab1a6611517",
   "metadata": {},
   "source": [
    "Because we're effectively executing `walk_sequence()` and no iteration is taking place on this level, genfunc() is called and **must** be decorated with `@hdlmacro`.  If we did not decorate, the macro in the `yield` form is actually not unrolling."
   ]
  },
  {
   "cell_type": "markdown",
   "id": "236a4985-5655-4e86-a0e8-17c9c559fa07",
   "metadata": {},
   "source": [
    "However, when we wish to generate code for external simulators, the game is different: In this case `walk_sequence()` would need to be a generator function and we might have to explicitely rewrite it - if we did not have an auxiliary: We can use said decorators to silently turn it into a generator under the hood.\n",
    "\n",
    "## Code contexts\n",
    "\n",
    "We can create decorators with dual use functionality, such that a function is *executed* in one context or *generates* in the other.\n",
    "\n",
    "A hardware function, for example a IRL `@process`, always runs in parallel with other processes. A simulation specific sequence of stimuli again runs like a program with wait/delay statements.\n",
    "\n",
    "A `@hdlmacro` is a priori a hardware-minded function which does not describe a timed simulation sequence, therefore it is a pure and explicit generator. When called within a sequential simulation context, it will work because the corresponding wrapper executes the generator function implicitely."
   ]
  },
  {
   "cell_type": "markdown",
   "id": "a67a4148-b363-4887-8948-18f306e3a678",
   "metadata": {},
   "source": [
    "## Code verification - externally\n",
    "\n",
    "The Cyrite emulation layer provides a `@sequence` decorator to automatically translate a sub-function into a generator.\n",
    "\n",
    "However, there's a catch: When simply copying the `walk_sequence()` function, an external simulator will fail. Why? When assigning a `Signal` to a value, the value is not immediately valid, rather, a delta time step will have to be taken in order for the signal to update.\n",
    "\n",
    "Therefore, we have to insert a `delay()` statement before each time we make use of a signals content. We construct a test bench `@block` with an adapted `@sequence`:"
   ]
  },
  {
   "cell_type": "code",
   "execution_count": 135,
   "id": "7910d004-3285-4c75-903a-c9bb5238e320",
   "metadata": {},
   "outputs": [],
   "source": [
    "from cyhdl import *\n",
    "\n",
    "@block\n",
    "def testbench():\n",
    "    a, b = [ Signal(intbv()[4:], name = n) for n in \"ab\" ]\n",
    "\n",
    "    @sequence\n",
    "    def main():\n",
    "        a.next = 0\n",
    "        b.next = 3\n",
    "        \n",
    "        yield delay(1) # Wait to settle\n",
    "        \n",
    "        # @hdlmacro is explicitely *called*\n",
    "        # genfunc(a, b)\n",
    "        # This is allowed in this context:\n",
    "        yield from genfunc(a, b)\n",
    "\n",
    "        yield delay(1) # Again, wait to settle signal values\n",
    "        print(a, b)\n",
    "        \n",
    "        assert a == 3\n",
    "        assert b == 4\n",
    "\n",
    "        print(\"STOP\")\n",
    "\n",
    "    return instances()"
   ]
  },
  {
   "cell_type": "markdown",
   "id": "be208983-6723-4a4a-9594-0bca4be89b94",
   "metadata": {},
   "source": [
    "Note that we can use the `yield from` notation here. It is silently translated into a call inside the resulting yield sequence. We can display this by calling `.unparse()`:"
   ]
  },
  {
   "cell_type": "code",
   "execution_count": 138,
   "id": "dd896ea6-da67-43a1-ad5e-bc5bdb36fc0a",
   "metadata": {},
   "outputs": [
    {
     "name": "stdout",
     "output_type": "stream",
     "text": [
      "==============================\n",
      "Unparsing unit testbench\n",
      "==============================\n",
      "\n",
      "\n",
      "@block\n",
      "def testbench():\n",
      "    (a, b) = [Signal(intbv()[4:], name=n) for n in 'ab']\n",
      "\n",
      "    @sequential\n",
      "    def main(_sequence):\n",
      "        _sequence += [a.set(0), b.set(3), wait(delay(1)), genfunc(a, b), wait(delay(1)), print_(a, b), assert_((a == 3), 'Failed in /tmp/ipykernel_18868/1627005758.py:testbench():22'), assert_((b == 4), 'Failed in /tmp/ipykernel_18868/1627005758.py:testbench():23'), print_('STOP')]\n",
      "    return instances()\n",
      "\n"
     ]
    }
   ],
   "source": [
    "print(testbench.unparse())"
   ]
  },
  {
   "cell_type": "code",
   "execution_count": 136,
   "id": "20b332de-9127-44de-957f-d0cf0faab5f4",
   "metadata": {},
   "outputs": [
    {
     "name": "stdout",
     "output_type": "stream",
     "text": [
      "RUN MACRO\n",
      "FINISH MACRO\n",
      "DEBUG: CALL MACRO (VOID) [Macro 'genfunc']\n",
      " Writing 'testbench' to file /tmp/testbench.vhdl \n",
      "Warning: Implicit truncation of ADD(b, C:1) result\n",
      " Creating library file /tmp/module_defs.vhdl \n",
      "WORK DIR of instance [Instance testbench I/F: [// ID: testbench_0 to testbench]] /tmp/myirl_testbench_72b2grat/\n",
      "==== COSIM stdout ====\n",
      "0x3 0x4\n",
      "STOP\n",
      "\n"
     ]
    },
    {
     "data": {
      "text/plain": [
       "0"
      ]
     },
     "execution_count": 136,
     "metadata": {},
     "output_type": "execute_result"
    }
   ],
   "source": [
    "from myirl.test.common_test import Simulator\n",
    "tb = testbench()\n",
    "\n",
    "s = Simulator(targets.VHDL)\n",
    "s.run(tb, 200, debug = True)"
   ]
  },
  {
   "cell_type": "markdown",
   "id": "a842b3aa-01f6-45af-8c81-a7d3ffe3b280",
   "metadata": {},
   "source": [
    "The simulation hence passes, however, try removing a `delay()` statement and it will fail. This behaviour is always wanted in the simulation world. Because our simulation signals are initialized by a dummy simulation signal internally and receive their assignments immediately, the behaviour is *not* the same."
   ]
  },
  {
   "cell_type": "markdown",
   "id": "ac5e8ffd-e5e8-409b-9159-51a0fd780c40",
   "metadata": {},
   "source": [
    "Finally, we may want to have a look at the transpiled resulting VHDL file:"
   ]
  },
  {
   "cell_type": "code",
   "execution_count": 113,
   "id": "bcb27c50-a21c-4518-9f6b-90c14c4af691",
   "metadata": {},
   "outputs": [
    {
     "name": "stdout",
     "output_type": "stream",
     "text": [
      "-- File generated from source:\n",
      "--     ../../myirl/emulation/myhdl.py\n",
      "-- (c) 2016-2022 section5.ch\n",
      "-- Modifications may be lost, edit the source file instead.\n",
      "\n",
      "library IEEE;\n",
      "use IEEE.std_logic_1164.all;\n",
      "use IEEE.numeric_std.all;\n",
      "\n",
      "library work;\n",
      "\n",
      "use work.txt_util.all;\n",
      "use work.myirl_conversion.all;\n",
      "\n",
      "entity testbench is\n",
      "end entity testbench;\n",
      "\n",
      "architecture myhdl_emulation of testbench is\n",
      "    -- Local type declarations\n",
      "    -- Signal declarations\n",
      "    signal a : unsigned(3 downto 0);\n",
      "    signal b : unsigned(3 downto 0);\n",
      "begin\n",
      "    \n",
      "main:\n",
      "    process\n",
      "    begin\n",
      "        a <= x\"0\";\n",
      "        b <= x\"3\";\n",
      "        wait for 1 ns;\n",
      "        a <= b;\n",
      "        b <= resize((resize(b, 5) + 1), 4);\n",
      "        wait for 1 ns;\n",
      "        print(\"0x\"& hstr(a) & \" \" & \"0x\"& hstr(b));\n",
      "        assert (a = x\"3\")\n",
      "            report \"Failed in /tmp/ipykernel_18868/1223585289.py:testbench():22\" severity failure;\n",
      "        assert (b = x\"4\")\n",
      "            report \"Failed in /tmp/ipykernel_18868/1223585289.py:testbench():23\" severity failure;\n",
      "        print(\"STOP\");\n",
      "        wait;\n",
      "    end process;\n",
      "end architecture myhdl_emulation;\n",
      "\n"
     ]
    }
   ],
   "source": [
    "!cat {s.used_files[0]}"
   ]
  },
  {
   "cell_type": "markdown",
   "id": "be242130-9536-45d1-9a18-64535448ecea",
   "metadata": {},
   "source": [
    "### Hardware generation versus simulation\n",
    "\n",
    "The classical HDL languages don't explicitely differentiate between constructs that translate to real hardware elements or are mainly meant for simulation.\n",
    "\n",
    "One could thus be tempted to insert `delay()` specifications into a `@hdlmacro` generator in order to simplify the main() sequence.\n",
    "However this is a deprecated method, as `@hdlmacro` constructs are meant to create hardware in particular.\n",
    "\n",
    "A Python simulation routine however makes the distinction between time steps and events versus hardware elements by the `yield` statement. To keep hardware only and simulation constructs separate, specific decorators are used for sequential statements, such as `@cyrite_method.sequence`.\n",
    "\n",
    "See also [Factory class: HDL macros](../notebooks/factory_class_arch.ipynb#HDL-macros) for some details on various context sensitive macro approaches."
   ]
  }
 ],
 "metadata": {
  "kernelspec": {
   "display_name": "Python 3 (ipykernel)",
   "language": "python",
   "name": "python3"
  },
  "language_info": {
   "codemirror_mode": {
    "name": "ipython",
    "version": 3
   },
   "file_extension": ".py",
   "mimetype": "text/x-python",
   "name": "python",
   "nbconvert_exporter": "python",
   "pygments_lexer": "ipython3",
   "version": "3.9.2"
  }
 },
 "nbformat": 4,
 "nbformat_minor": 5
}

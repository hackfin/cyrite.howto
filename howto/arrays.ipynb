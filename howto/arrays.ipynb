{
 "cells": [
  {
   "cell_type": "markdown",
   "id": "cfc3a5e0-e0a3-452b-bc1e-139f5e51a49e",
   "metadata": {},
   "source": [
    "# Arrays, memories, vectors\n",
    "\n",
    "A few array types of the following sort may be required:\n",
    "\n",
    "* Arrays of signals\n",
    "* Specific array signals\n",
    "\n",
    "Array support is currently imported from the `lists` module. It is not part of the kernel.\n",
    "\n",
    "**Note** Array types can by default not be used in the interface. However, they can be unrolled automatically using procedural interface types, see [UnrollArray](#Procedural-arrays)"
   ]
  },
  {
   "cell_type": "code",
   "execution_count": 1,
   "id": "3af46772-b6e2-4495-92bf-ad4bce980602",
   "metadata": {},
   "outputs": [],
   "source": [
    "from cyhdl import *\n",
    "from myirl.lists import *"
   ]
  },
  {
   "cell_type": "markdown",
   "id": "388aead9-a8d4-465f-a9b7-a266db8bff28",
   "metadata": {},
   "source": [
    "In order to elaborate on the HDL equivalents of the array constructs, we instance a dummy target for direct output:"
   ]
  },
  {
   "cell_type": "code",
   "execution_count": 2,
   "id": "d0600f55-a292-49d0-9404-f1e5ba10e131",
   "metadata": {},
   "outputs": [],
   "source": [
    "from myirl.targets.dummy import DummyTargetModule\n",
    "vl = DummyTargetModule(targets.Verilog)\n",
    "vh = DummyTargetModule(targets.VHDL)"
   ]
  },
  {
   "cell_type": "markdown",
   "id": "38049e39-3c6b-4c04-a31f-6f30475db69a",
   "metadata": {},
   "source": [
    "## Arrays of signals\n",
    "\n",
    "Arrays of signals are simply defined as follows"
   ]
  },
  {
   "cell_type": "code",
   "execution_count": 3,
   "id": "56383c07-dde0-4caf-abf8-cca9b79e86db",
   "metadata": {},
   "outputs": [],
   "source": [
    "from cyhdl import *\n",
    "\n",
    "a = [ Signal(bool(), name = \"a%d\" % i) for i in range(18) ]"
   ]
  },
  {
   "cell_type": "markdown",
   "id": "e41f5bc0-900d-44a1-ae4d-7ae756f40d69",
   "metadata": {},
   "source": [
    "and are simply used in expressions using indexing:"
   ]
  },
  {
   "cell_type": "code",
   "execution_count": 4,
   "id": "2001b138-9d95-4d79-88c2-c504c469be23",
   "metadata": {},
   "outputs": [
    {
     "data": {
      "text/plain": [
       "ADD(a0, MUL(a1, a4))"
      ]
     },
     "execution_count": 4,
     "metadata": {},
     "output_type": "execute_result"
    }
   ],
   "source": [
    "a[0] + a[1] * a[4]"
   ]
  },
  {
   "cell_type": "markdown",
   "id": "025f198c-d2c9-4d37-98c7-f455f4860c5c",
   "metadata": {},
   "source": [
    "## Specific Array signals\n",
    "\n",
    "Arrays of signals **can not** take a variable as index, unlike the special array signal types listed below."
   ]
  },
  {
   "cell_type": "code",
   "execution_count": 5,
   "id": "3d2e5ba5-b4d5-414e-9576-57e656fb4629",
   "metadata": {},
   "outputs": [],
   "source": [
    "seq = [ intbv()[6:] for _ in range(8) ]\n",
    "s = SigArray(seq, name='sequence', init=True, elem_size = 7)"
   ]
  },
  {
   "cell_type": "code",
   "execution_count": 6,
   "id": "c607c20a-0dc1-4a66-ac9f-526bf821f87a",
   "metadata": {},
   "outputs": [
    {
     "name": "stdout",
     "output_type": "stream",
     "text": [
      "\u001b[94mtype a_sequence is array (0 to 7) of unsigned(5 downto 0);\n",
      "\u001b[0m\u001b[94msignal sequence : a_sequence := (\n",
      "\u001b[0m\u001b[94m    \"000000\",\"000000\",\"000000\",\"000000\",\"000000\",\"000000\",\n",
      "\u001b[0m\u001b[94m    \"000000\",\"000000\"\n",
      "\u001b[0m\u001b[94m);\n",
      "\u001b[0m"
     ]
    }
   ],
   "source": [
    "for i in s.declare_vhdl(vh, s.identifier):\n",
    "    vh.output(i)"
   ]
  },
  {
   "cell_type": "code",
   "execution_count": 7,
   "id": "cc71ad81-4724-4aca-b59a-4c65141b5448",
   "metadata": {},
   "outputs": [
    {
     "name": "stdout",
     "output_type": "stream",
     "text": [
      "\u001b[94mwire [5:0] sequence[7:0];\n",
      "\u001b[0m\u001b[94minitial begin\n",
      "\u001b[0m\u001b[94m\tsequence[0] = 6'b000000;\n",
      "\u001b[0m\u001b[94m\tsequence[1] = 6'b000000;\n",
      "\u001b[0m\u001b[94m\tsequence[2] = 6'b000000;\n",
      "\u001b[0m\u001b[94m\tsequence[3] = 6'b000000;\n",
      "\u001b[0m\u001b[94m\tsequence[4] = 6'b000000;\n",
      "\u001b[0m\u001b[94m\tsequence[5] = 6'b000000;\n",
      "\u001b[0m\u001b[94m\tsequence[6] = 6'b000000;\n",
      "\u001b[0m\u001b[94m\tsequence[7] = 6'b000000;\n",
      "\u001b[0m\u001b[94mend\n",
      "\u001b[0m"
     ]
    }
   ],
   "source": [
    "for i in s.declare_verilog(vl, s.identifier, 'wire'):\n",
    "    vl.output(i)"
   ]
  },
  {
   "cell_type": "markdown",
   "id": "bc6dd0a9-81ae-4ca2-8ca9-1703280ecc37",
   "metadata": {},
   "source": [
    "Such signal arrays are declared like signals in the declarative body of the `@block`. For examples, see [RAM and ROM instancing](#RAM-and-ROM-instancing)."
   ]
  },
  {
   "cell_type": "markdown",
   "id": "8e41a1ee-c977-4ca9-ac91-a6dd99adadb9",
   "metadata": {},
   "source": [
    "## RAM and ROM instancing\n",
    "\n",
    "For simple, single port ROM or RAM instances, you can use derivations of the above `SigArray` type, like `MemArray`.\n",
    "\n",
    "See also:\n",
    "\n",
    "* [myirl.library.memory](../../myirl/library/memory.py) - Memory auxiliaries\n",
    "* [Cyrite RAM library](cyrite_memories.ipynb)\n",
    "* Examples: [True dual port RAM](../examples/tdpram.ipynb)\n",
    "\n",
    "For more complicated RAM types with specific properties, such as true dual port RAMs with various transparency options, it is recommended to use external blackbox libraries for your specific synthesis target."
   ]
  },
  {
   "cell_type": "markdown",
   "id": "620a8ca4-5b53-42c0-8c4c-2625d9d07cb2",
   "metadata": {},
   "source": [
    "## Vector signals\n",
    "\n",
    "Vector signals are basically signal arrays extended by some arithmetic operations."
   ]
  },
  {
   "cell_type": "code",
   "execution_count": 8,
   "id": "1ec544a6-1509-4dae-b0a2-16af71f43cb2",
   "metadata": {},
   "outputs": [],
   "source": [
    "from myirl.library.vectorsignal import VectorSignal, _VectorSignalAlias"
   ]
  },
  {
   "cell_type": "code",
   "execution_count": 9,
   "id": "9e1fe7f3-7e38-4804-b3c4-ab8d5dca81d7",
   "metadata": {},
   "outputs": [],
   "source": [
    "a = VectorSignal(3, intbv()[7:])\n",
    "b = VectorSignal(3, intbv()[7:])\n",
    "assert isinstance(a, SigArray)"
   ]
  },
  {
   "cell_type": "code",
   "execution_count": 10,
   "id": "85c5252c-e281-4a0b-a9df-2073bfa63f34",
   "metadata": {},
   "outputs": [
    {
     "data": {
      "text/plain": [
       "[intbv(3), intbv(2), intbv(5)]"
      ]
     },
     "execution_count": 10,
     "metadata": {},
     "output_type": "execute_result"
    }
   ],
   "source": [
    "a.set((3, 2, 1)).evaluate()\n",
    "b.set((0, 0, 4)).evaluate()\n",
    "\n",
    "c = VectorSignal(3, intbv()[8:])\n",
    "op_add = c.set(a + b)\n",
    "op_add.evaluate()\n",
    "c.evaluate()"
   ]
  },
  {
   "cell_type": "markdown",
   "id": "43854924-bce3-49cf-8742-1955613c4a6e",
   "metadata": {},
   "source": [
    "## Procedural arrays"
   ]
  },
  {
   "cell_type": "markdown",
   "id": "3321133d-ba9f-4f0a-86a1-0d7004727e7e",
   "metadata": {},
   "source": [
    "### UnrollSignal and UnrollArray\n",
    "\n",
    "All the above array type constructs can not be used in the interface as such, or not in a portable way, because the HDL may not support it.\n",
    "\n",
    "To unroll an array or vector type in the interface into a basic, supported type, an internal auto-casting mechanism is provided to pass vectors as function arguments to a `@block`. During interface construction, they are automatically unrolled into port members.\n",
    "\n",
    "Likewise, UnrollSignals can be used to create black boxes with single bit I/O requirements, like various FPGA primitives, without the need to list each pin explicitely."
   ]
  },
  {
   "cell_type": "code",
   "execution_count": 11,
   "id": "2a40582c-4da0-4066-bce7-90797fa27ea6",
   "metadata": {},
   "outputs": [],
   "source": [
    "from myirl.library.procedural import UnrollSignal, UnrollArray\n",
    "from myirl.vector import VectorSig"
   ]
  },
  {
   "cell_type": "markdown",
   "id": "4f9d0ef3-2f97-40fe-b494-33cbce81e1d4",
   "metadata": {},
   "source": [
    "Since the interface requires some strictness, we define an ad-hoc datatype:"
   ]
  },
  {
   "cell_type": "code",
   "execution_count": 12,
   "id": "1200fdf9-de91-48a3-be32-b2d0c96eb8f2",
   "metadata": {},
   "outputs": [],
   "source": [
    "VectorInterface3 = UnrollArray.Type(intbv()[8:], 3)"
   ]
  },
  {
   "cell_type": "markdown",
   "id": "72b484d6-30ac-44b8-9956-b6accd536a26",
   "metadata": {},
   "source": [
    "Then we can define a unit making use of this strict type:"
   ]
  },
  {
   "cell_type": "code",
   "execution_count": 13,
   "id": "e4d0035f-f849-4dcf-9476-70858e032831",
   "metadata": {},
   "outputs": [
    {
     "name": "stdout",
     "output_type": "stream",
     "text": [
      " Writing 'unit' to file /tmp/myirl_unit_vwnxetc3/unit.v \n",
      "DEBUG: Source 'v_8133' is logic: <class 'myirl.vector.VectorSig'>\n",
      " Array not used: v_8133 \n"
     ]
    },
    {
     "name": "stderr",
     "output_type": "stream",
     "text": [
      "\u001b[7;31mDEBUG: SKIP NON SIGNAL\u001b[0m ARRAY(v_8133)\n"
     ]
    }
   ],
   "source": [
    "@block\n",
    "def unit(a : VectorInterface3, q: VectorInterface3.Output):\n",
    "    v = VectorSig(3, intbv()[8:])\n",
    "    \n",
    "    wires = [\n",
    "        v.wireup(a),\n",
    "        q.wireup(v)\n",
    "    ]\n",
    "    return wires\n",
    "\n",
    "a, b = [ VectorSig(3, intbv()[8:]) for _ in range(2) ]\n",
    "\n",
    "u = unit(a, b)\n",
    "files = u.elab(targets.Verilog)"
   ]
  },
  {
   "cell_type": "code",
   "execution_count": 14,
   "id": "ed6332b6-097a-4715-80ae-ddb2e1e82b41",
   "metadata": {},
   "outputs": [
    {
     "name": "stdout",
     "output_type": "stream",
     "text": [
      "// File generated from source:\r\n",
      "//     /tmp/ipykernel_84016/1425352769.py\r\n",
      "// (c) 2016-2022 section5.ch\r\n",
      "// Modifications may be lost, edit the source file instead.\r\n",
      "\r\n",
      "`timescale 1 ns / 1 ps\r\n",
      "`include \"aux.v\"\r\n",
      "// Architecture cyriteHDL\r\n",
      "\r\n",
      "module unit\r\n",
      "    (\r\n",
      "        input wire [7:0] a0,\r\n",
      "        input wire [7:0] a1,\r\n",
      "        input wire [7:0] a2,\r\n",
      "        output wire [7:0] q0,\r\n",
      "        output wire [7:0] q1,\r\n",
      "        output wire [7:0] q2\r\n",
      "    );\r\n",
      "    // Local type declarations\r\n",
      "    // Signal declarations\r\n",
      "    /* unused? */ wire [7:0] v_8133[0:2];\r\n",
      "    assign  v_8133[0] = a0; /* fallback */\r\n",
      "    assign  v_8133[1] = a1; /* fallback */\r\n",
      "    assign  v_8133[2] = a2; /* fallback */\r\n",
      "    q0 <= v_8133[0]; /* Unrolled */\r\n",
      "    q1 <= v_8133[1]; /* Unrolled */\r\n",
      "    q2 <= v_8133[2]; /* Unrolled */\r\n",
      "endmodule // unit\r\n"
     ]
    }
   ],
   "source": [
    "!cat {files[0]}"
   ]
  },
  {
   "cell_type": "markdown",
   "id": "eaac5248-05cc-4a8b-b570-99947627339d",
   "metadata": {},
   "source": [
    "## Arrays of values [VHDL]\n",
    "\n",
    "Arrays of values are supported for VHDL code only."
   ]
  },
  {
   "cell_type": "code",
   "execution_count": 15,
   "id": "d7a86545-2b9c-454e-8539-cc185dadb126",
   "metadata": {},
   "outputs": [],
   "source": [
    "lut = [ i+5 for i in range(10) ]\n",
    "v = ValueList(lut, name=\"values\")"
   ]
  },
  {
   "cell_type": "markdown",
   "id": "1549e556-8f63-4bb7-b68f-1b70351109be",
   "metadata": {},
   "source": [
    "A value list will result in a VHDL declaration of the following:"
   ]
  },
  {
   "cell_type": "code",
   "execution_count": 16,
   "id": "f4747c8c-4f2b-490b-b7ad-9c09b32a83d7",
   "metadata": {},
   "outputs": [
    {
     "name": "stdout",
     "output_type": "stream",
     "text": [
      "\u001b[94mtype a_values is array (0 to 9) of natural; -- ArrayType\n",
      "\u001b[0m\u001b[94mvariable values : a_values := (\n",
      "\u001b[0m\u001b[94m    5,6,7,8,9,10,11,12,13,14\n",
      "\u001b[0m\u001b[94m);\n",
      "\u001b[0m"
     ]
    }
   ],
   "source": [
    "gen = v[0].declare_vhdl(vh, v.identifier)\n",
    "for i in gen:\n",
    "    vh.output(i)"
   ]
  }
 ],
 "metadata": {
  "kernelspec": {
   "display_name": "Python 3 (ipykernel)",
   "language": "python",
   "name": "python3"
  },
  "language_info": {
   "codemirror_mode": {
    "name": "ipython",
    "version": 3
   },
   "file_extension": ".py",
   "mimetype": "text/x-python",
   "name": "python",
   "nbconvert_exporter": "python",
   "pygments_lexer": "ipython3",
   "version": "3.10.0"
  }
 },
 "nbformat": 4,
 "nbformat_minor": 5
}

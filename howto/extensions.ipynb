{
 "cells": [
  {
   "cell_type": "markdown",
   "id": "a08f694e-1ae9-4ca2-a958-1b9bd829c182",
   "metadata": {},
   "source": [
    "# Writing extensions\n",
    "\n",
    "An extension might be desireable when, for example, signal setters are to be overriden with guard routines, or a latency parameter is to be maintained along for pipelined signal chains.\n",
    "\n",
    "Like MyHDL, a lot of implicit configuration is buried in a `Signal` type. Therefore, special properties can be attached to derivations of the `Signal` class without actually changing the hardware description.\n",
    "\n",
    "## Signal extensions\n",
    "\n",
    "Typically, a class factory routine as the following is sufficient, to create an augmented class of a base class.\n",
    "\n",
    "First, we create a MixIn style class with no direct derival:"
   ]
  },
  {
   "cell_type": "code",
   "execution_count": 1,
   "id": "6dc658ca-4329-4128-9592-58fc0f44cde0",
   "metadata": {},
   "outputs": [],
   "source": [
    "class DebugMixin:\n",
    "    def __init__(self, *args, **kwargs):\n",
    "        super().__init__(*args, **kwargs)\n",
    "        self.usage_count = 0\n",
    "        self.super = super()\n",
    "\n",
    "    @classmethod\n",
    "    def _set(cls, this, val):\n",
    "        return cls._sig.set(this, val)\n",
    "\n",
    "    def set(self, val):\n",
    "        ret = self._set(self, val)\n",
    "        print(\"DEBUG SET %s = %s\" % (self.identifier, val))\n",
    "        self.usage_count += 1\n",
    "        return ret"
   ]
  },
  {
   "cell_type": "markdown",
   "id": "af1860c7-f319-4122-a2d9-4fd4c5801309",
   "metadata": {},
   "source": [
    "Then we create a type wrapper that creates a new class type from a specified Signal type:"
   ]
  },
  {
   "cell_type": "code",
   "execution_count": 2,
   "id": "87b926eb-569b-4336-a263-9998dabed4ee",
   "metadata": {},
   "outputs": [],
   "source": [
    "def debug_setter(sig):\n",
    "    bases = (DebugMixin, sig)\n",
    "    cls = type(\"DebugSetter\" + sig.__name__, bases, {})\n",
    "    cls._sig = sig # Store original signal type\n",
    "    return cls"
   ]
  },
  {
   "cell_type": "code",
   "execution_count": 3,
   "id": "f24954ad-647d-491c-920a-2fc14b36477c",
   "metadata": {},
   "outputs": [],
   "source": [
    "from cyhdl import Signal, ClkSignal, intbv\n",
    "\n",
    "DS = debug_setter(Signal)\n",
    "DC = debug_setter(ClkSignal)\n",
    "s = DS(intbv()[4:])\n",
    "c = DC()"
   ]
  },
  {
   "cell_type": "markdown",
   "id": "130bbea6-798f-48bf-a1e0-d3a7758a78b2",
   "metadata": {},
   "source": [
    "Now we can show the behaviour of this signal in IRL (try repeated execution of the cell below):"
   ]
  },
  {
   "cell_type": "code",
   "execution_count": 4,
   "id": "7718ff1c-f9c9-4156-a80d-82095784bd14",
   "metadata": {},
   "outputs": [
    {
     "name": "stdout",
     "output_type": "stream",
     "text": [
      "DEBUG SET s_c209 = 15\n"
     ]
    },
    {
     "data": {
      "text/plain": [
       "1"
      ]
     },
     "execution_count": 4,
     "metadata": {},
     "output_type": "execute_result"
    }
   ],
   "source": [
    "action_s = s.set(15)\n",
    "action_s.evaluate()\n",
    "s.usage_count"
   ]
  },
  {
   "cell_type": "markdown",
   "id": "e28d6c27-f010-4824-9b73-a3b66ca06a8e",
   "metadata": {},
   "source": [
    "### Example from the library\n",
    "\n",
    "A questionable example for HDL minded assignment style is found in the library below. This allows assignments using the `<=` operator.\n",
    "\n",
    "**This is not a recommended code style and can lead to issues**"
   ]
  },
  {
   "cell_type": "code",
   "execution_count": 5,
   "id": "ce820d12-28a4-4253-aba2-5da31b1ca5c9",
   "metadata": {},
   "outputs": [
    {
     "name": "stdout",
     "output_type": "stream",
     "text": [
      "[ Maybe s <= C:128 ] => 128\n",
      "[ Maybe t_signed <= SGN(<s>) ] => -128\n"
     ]
    }
   ],
   "source": [
    "from myirl.library.style_hdl import _hdlstyle\n",
    "from myirl.kernel.sig import SigAssign\n",
    "\n",
    "HS = _hdlstyle(Signal)\n",
    "\n",
    "s = HS(intbv()[8:], name = 's')\n",
    "t = HS(intbv()[12:].signed(), name = 't_signed')\n",
    "\n",
    "actions = [\n",
    "    s <= 128, t <= s.signed()\n",
    "]\n",
    "\n",
    "for a in actions:\n",
    "    v = a.evaluate()\n",
    "    print(a, '=>', int(v))\n",
    "\n",
    "assert v == -128"
   ]
  },
  {
   "cell_type": "markdown",
   "id": "ce7f1a21-b9a0-4266-8150-ba833100f650",
   "metadata": {},
   "source": [
    "## Generator extensions\n",
    "\n",
    "Some constructs might be better represented by a pretty python'ish data type instead of an elaborate hardware description.\n",
    "\n",
    "Thus, logic extensions can easily be constructed by derivation from a `sensitivity.Generator`.\n",
    "\n",
    "Note that a generator construct is a priori **not transpiled**, i.e. the decorated function typically returns an IRL construct.\n",
    "\n",
    "If a custom generator requires CyHDL syntax inside its decorated function, it must be registered in particular. This is not covered here."
   ]
  },
  {
   "cell_type": "code",
   "execution_count": 6,
   "id": "8723d3f9-c656-4040-aa21-f6545eba1245",
   "metadata": {
    "tags": []
   },
   "outputs": [],
   "source": [
    "from myirl.kernel.sensitivity import Generator, genprocess_ctx\n",
    "\n",
    "class MyGenerator(Generator):\n",
    "    def __init__(self, func, idata, odata):\n",
    "        self.func = func\n",
    "        self.idata = idata\n",
    "        self.odata = odata\n",
    "        # Important to init with func, not self!\n",
    "        # Otherwise we'll run into recursion.\n",
    "        super().__init__(func)\n",
    "        \n",
    "    def __call__(self, context):\n",
    "        d = self.func(context)\n",
    "        _in, _out = self.idata, self.odata\n",
    "        \n",
    "        expr = _out.set(_in ^ d)\n",
    "        \n",
    "        @genprocess_ctx(_in)\n",
    "        def user_proc(context):\n",
    "             yield [ expr ]\n",
    "\n",
    "        self.add_instance(user_proc)\n"
   ]
  },
  {
   "cell_type": "markdown",
   "id": "8e00b916-7bd0-4958-bf81-b3bd9d196746",
   "metadata": {},
   "source": [
    "### Details\n",
    "\n",
    "When a generator class is instanced inside a hardware unit, it is not generating any logic **until** it is casted by the parenting hardware generation context. This context is in general the top design module, however it can also be the immediate parenting hardware generator for custom type generators. The decision which context is chosen is made by the parenting generator.\n",
    "\n",
    "A Generator using a function is normally accompanied by a decorator construct for generic usage as follows:"
   ]
  },
  {
   "cell_type": "code",
   "execution_count": 7,
   "id": "7e219521-4623-4280-9ec2-05986c167282",
   "metadata": {
    "tags": []
   },
   "outputs": [],
   "source": [
    "def mygen(i, o):\n",
    "    def _proc_deco(func):\n",
    "        return MyGenerator(func, i, o)\n",
    "    return _proc_deco"
   ]
  },
  {
   "cell_type": "markdown",
   "id": "4f19fe81-72e9-4c99-8a9e-4ffa4cff3572",
   "metadata": {
    "tags": []
   },
   "source": [
    "Finally, we create an example block making use of the generator:"
   ]
  },
  {
   "cell_type": "code",
   "execution_count": 8,
   "id": "170d385b-dd62-4fe8-9124-cbb926ca6a47",
   "metadata": {
    "tags": []
   },
   "outputs": [
    {
     "name": "stderr",
     "output_type": "stream",
     "text": [
      "/home/cyrite/.local/lib/python3.10/site-packages/cyritehdl-0.1b0-py3.10-linux-x86_64.egg/myirl/emulation/myhdl2irl.py:582: UserWarning: Not translating unregistered decorator function`mygen`\n",
      "  warnings.warn(\"Not translating unregistered decorator function`%s`\" % n)\n"
     ]
    }
   ],
   "source": [
    "from cyhdl import *\n",
    "\n",
    "@block\n",
    "def unit_ext():\n",
    "    a, b = [ Signal(intbv()[5:]) for _ in range(2) ]\n",
    "    \n",
    "    @mygen(a, b)\n",
    "    def worker(context):\n",
    "        if context.target.lang == 'VHDL':\n",
    "            print(\"Allow VHDL constructs\")\n",
    "        elif context.target.lang == 'Verilog':\n",
    "            print(\"Allow Verilog specific constructs\")\n",
    "        return a | b\n",
    "    \n",
    "    return instances()\n",
    "        "
   ]
  },
  {
   "cell_type": "markdown",
   "id": "4634c6a9-2e55-4602-9c92-8c97c78016ca",
   "metadata": {
    "tags": []
   },
   "source": [
    "Elaborating this construct into Verilog:"
   ]
  },
  {
   "cell_type": "code",
   "execution_count": 9,
   "id": "1697d40f-1fbe-4f0e-9131-e1e7152d9150",
   "metadata": {
    "tags": []
   },
   "outputs": [
    {
     "name": "stdout",
     "output_type": "stream",
     "text": [
      "Allow Verilog specific constructs\n",
      " Writing 'unit_ext' to file /tmp/myirl_unit_ext_iz44ne1y/unit_ext.v \n"
     ]
    }
   ],
   "source": [
    "uut = unit_ext()\n",
    "files = uut.elab(targets.Verilog)"
   ]
  },
  {
   "cell_type": "markdown",
   "id": "e583497a-bf17-4c88-985f-305f9381a051",
   "metadata": {},
   "source": [
    "The resulting Verilog output:"
   ]
  },
  {
   "cell_type": "code",
   "execution_count": 10,
   "id": "56637d37-6000-4a77-90fe-afa22297321d",
   "metadata": {
    "tags": []
   },
   "outputs": [
    {
     "name": "stdout",
     "output_type": "stream",
     "text": [
      "// File generated from source:\r\n",
      "//     /tmp/ipykernel_814/224027657.py\r\n",
      "// (c) 2016-2022 section5.ch\r\n",
      "// Modifications may be lost, edit the source file instead.\r\n",
      "\r\n",
      "`timescale 1 ns / 1 ps\r\n",
      "`include \"aux.v\"\r\n",
      "// Architecture cyriteHDL\r\n",
      "\r\n",
      "module unit_ext\r\n",
      "    ();\r\n",
      "    // Local type declarations\r\n",
      "    // Signal declarations\r\n",
      "    wire [4:0] b;\r\n",
      "    wire [4:0] a;\r\n",
      "    \r\n",
      "    always @ (a) begin : WORKER_USER_PROC\r\n",
      "        b = (a ^ (a | b)); /*Generatorprocess 'worker_user_proc'*/\r\n",
      "    end\r\n",
      "endmodule // unit_ext\r\n"
     ]
    }
   ],
   "source": [
    "!cat {files[0]}"
   ]
  },
  {
   "cell_type": "markdown",
   "id": "7a562750-a3ef-4630-8bf8-2da2bca844f7",
   "metadata": {},
   "source": [
    "## Further examples\n",
    "\n",
    "As this is not of real world use, more examples are found in the `myirl.library`:\n",
    "\n",
    "* [LUT generators](../src/myirl/library/lut.py)\n",
    "* [Hardware sequence generators](../src/myirl/library/custom_generators.py)\n",
    "\n",
    "For usage, please refer to the corresponding test units.\n",
    "\n",
    "They are normally found in the `myirl/library/test` directory, however, migration may not be complete, see also `myirl/test`."
   ]
  }
 ],
 "metadata": {
  "kernelspec": {
   "display_name": "Python 3 (ipykernel)",
   "language": "python",
   "name": "python3"
  },
  "language_info": {
   "codemirror_mode": {
    "name": "ipython",
    "version": 3
   },
   "file_extension": ".py",
   "mimetype": "text/x-python",
   "name": "python",
   "nbconvert_exporter": "python",
   "pygments_lexer": "ipython3",
   "version": "3.10.0"
  }
 },
 "nbformat": 4,
 "nbformat_minor": 5
}

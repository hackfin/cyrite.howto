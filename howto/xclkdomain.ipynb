{
 "cells": [
  {
   "cell_type": "markdown",
   "id": "ee0ec563-3e1b-47c1-8981-6ffbe01d895b",
   "metadata": {},
   "source": [
    "# Cross clock domain logic\n",
    "\n",
    "When several independent clocks are present in a design and data needs to be passed between those clock domains, a few extensions may come in handy.\n",
    "For instance, an ethernet interface may run on 25 MHz master clock, whereas the CPU core is run on 54 MHz. To pass data between the DMA logic of the CPU and the Ethernet core, a packet fifo may come in handy, that uses dual port RAM to allow data streaming in an efficient manner.\n",
    "Such packet FIFO designs are normally based on gray counters, plus they might need to contain logic to pass flags reliably from one domain to the other.\n",
    "\n",
    "The `xcd` library supplies a few primitives for transferring a pulse across clock domains.\n",
    "\n",
    "## Single pulse transfer\n",
    "\n",
    "The unit below takes two differing input clocks with input `a` and output `b`, respectively. An input pulse of a duration of one clock period of `clka` will result in a `clkb`-synchronized output pulse. This is achieved by the `XClkDomainSynced` logic which is called like a function, returning a `Signal`. The `xpulse` signal is synchronous to `xclk`, whereas the returned signal is synchronous to `clk`.\n",
    "\n",
    "If the input pulse is longer than a clock period, a `DERIVE` option should be passed in order to receive exactly one output pulse per event. See simulation below."
   ]
  },
  {
   "cell_type": "code",
   "execution_count": 1,
   "id": "b66edd1d-2e2a-4530-ae57-033b5904a90f",
   "metadata": {},
   "outputs": [],
   "source": [
    "from cyrite.library.xcd.xclkdomain import XClkDomainSynced\n",
    "from cyhdl import *\n",
    "\n",
    "Bool = Signal.Type(bool)\n",
    "\n",
    "@block\n",
    "def unit_dc(reset : ResetSignal,\n",
    "            clka : ClkSignal,\n",
    "            clkb : ClkSignal,\n",
    "            in_a  : Bool,\n",
    "            out_b : Bool.Output\n",
    "           ):\n",
    "\n",
    "    x = XClkDomainSynced(reset = reset,\n",
    "                         xclk = clka,\n",
    "                         clk = clkb,\n",
    "                         xpulse = in_a,\n",
    "                        DERIVE = 'rising')\n",
    "\n",
    "    wires = [\n",
    "        out_b    .wireup  (x)\n",
    "    ]\n",
    "    return instances()"
   ]
  },
  {
   "cell_type": "markdown",
   "id": "e9b902f1-c307-47c8-937e-24fc1a9e7f1b",
   "metadata": {},
   "source": [
    "### Test bench and simulation\n",
    "\n",
    "The test bench below uses a 1:3 ratio between the clocks for a sane display of the simplified wave trace."
   ]
  },
  {
   "cell_type": "code",
   "execution_count": 2,
   "id": "c347ffa6-170d-4fe0-934d-87728a982f13",
   "metadata": {},
   "outputs": [],
   "source": [
    "from cyrite.simulation import sim, icarus, ghdl\n",
    "\n",
    "@sim.testbench(icarus.ICARUS, 'ns')\n",
    "@block\n",
    "def tb_dc():\n",
    "    reset = ResetSignal(False, True, isasync = True)\n",
    "    a, b = [ Bool(name = n) for n in \"ab\" ]\n",
    "    clk_a = ClkSignal(name = 'clka')\n",
    "    clk_b = ClkSignal(name = 'clkb')\n",
    "\n",
    "    uut = unit_dc(reset, clk_a, clk_b, a, b)\n",
    "\n",
    "    @always(delay(6))\n",
    "    def clkgen_a():\n",
    "        clk_a.next = ~clk_a\n",
    "\n",
    "    @always(delay(2))\n",
    "    def clkgen_b():\n",
    "        clk_b.next = ~clk_b\n",
    "\n",
    "    @sequence\n",
    "    def main():\n",
    "        yield delay(1)\n",
    "        a.next = False\n",
    "        reset.next = True\n",
    "        yield delay(13)\n",
    "        reset.next = False\n",
    "\n",
    "        yield delay(10)\n",
    "\n",
    "        yield clk_a.negedge\n",
    "        a.next = True\n",
    "        yield 5 * (clk_a.negedge, )\n",
    "        a.next = False\n",
    "\n",
    "        yield delay(10)\n",
    "        raise StopSimulation\n",
    "    return instances()"
   ]
  },
  {
   "cell_type": "code",
   "execution_count": 3,
   "id": "6a6d0aca-4271-4c11-afad-c8cfd2db0943",
   "metadata": {},
   "outputs": [
    {
     "name": "stderr",
     "output_type": "stream",
     "text": [
      "/home/cyrite/.local/lib/python3.10/site-packages/cyritehdl-0.1b0-py3.10-linux-x86_64.egg/myirl/kernel/components.py:118: UserWarning: Fallback: Pass through other argument for arg DERIVE (<class 'str'>)\n",
      "  base.warnings.warn(msg)\n"
     ]
    }
   ],
   "source": [
    "tb = tb_dc()"
   ]
  },
  {
   "cell_type": "markdown",
   "id": "ff186d87-6679-4de7-9c3d-993cc32e7d11",
   "metadata": {},
   "source": [
    "Then run the test bench:"
   ]
  },
  {
   "cell_type": "code",
   "execution_count": 4,
   "id": "f7bdb716-75ec-4ac0-80d7-711a4188b1bc",
   "metadata": {},
   "outputs": [
    {
     "name": "stdout",
     "output_type": "stream",
     "text": [
      " Writing 'flagx' to file /tmp/flagx.v \n",
      "DEBUG NAME do <class 'myirl.library.shift.SAlias'>\n",
      "DEBUG Fallback wire for reset\n",
      "DEBUG Fallback wire for clka\n",
      "DEBUG Fallback wire for clkb\n",
      " Writing 'unit_dc' to file /tmp/unit_dc.v \n",
      " Writing 'tb_dc' to file /tmp/tb_dc.v \n",
      " Note: Changing library path prefix to /tmp/ \n",
      " Creating library file /tmp/module_defs.v \n",
      "DEBUG FILES ['/tmp/flagx.v', '/tmp/unit_dc.v', '/tmp/tb_dc.v']\n",
      "==== COSIM stdout ====\n",
      "VCD info: dumpfile tb_dc.vcd opened for output.\n",
      "Stop Simulation\n",
      "\n"
     ]
    },
    {
     "name": "stderr",
     "output_type": "stream",
     "text": [
      "/home/cyrite/.local/lib/python3.10/site-packages/cyritehdl-0.1b0-py3.10-linux-x86_64.egg/cyrite/simulation/icarus.py:51: UserWarning: Ignoring wavetrace argument for Verilog simulator\n",
      "  warnings.warn(\"Ignoring wavetrace argument for Verilog simulator\")\n"
     ]
    },
    {
     "data": {
      "text/plain": [
       "0"
      ]
     },
     "execution_count": 4,
     "metadata": {},
     "output_type": "execute_result"
    }
   ],
   "source": [
    "tb.run(200, wavetrace = True, debug = True)"
   ]
  },
  {
   "cell_type": "markdown",
   "id": "bbfa7b67-b868-4e23-aa2a-12325b5a5216",
   "metadata": {},
   "source": [
    "### The wave trace\n",
    "\n",
    "Note we have to take the faster clock of `clka` and `clkb` as sampling clock. Aliasing may occur in the simple wave trace below if the clocks don't have an integer ratio."
   ]
  },
  {
   "cell_type": "code",
   "execution_count": 5,
   "id": "09e756dd-2c47-48ca-b644-dd09010b45da",
   "metadata": {},
   "outputs": [
    {
     "data": {
      "text/html": [
       "<div><script type=\"WaveDrom\">{\"signal\": [{\"name\": \"tb_dc.clka\", \"wave\": \"0..1..0..1..0..1..0..1..0..1..0..1..0..1..0..1..\", \"data\": \"0101010101010101\"}, {\"name\": \"tb_dc.a\", \"wave\": \"x0..........1.............................0.....\", \"data\": \"x010\"}, {\"name\": \"tb_dc.clkb\", \"wave\": \"010101010101010101010101010101010101010101010101\", \"data\": \"010101010101010101010101010101010101010101010101\"}, {\"name\": \"tb_dc.b\", \"wave\": \"x0.................1.0..........................\", \"data\": \"x010\"}, {\"name\": \"tb_dc.reset\", \"wave\": \"01.....0........................................\", \"data\": \"010\"}]}</script></div>"
      ]
     },
     "metadata": {},
     "output_type": "display_data"
    },
    {
     "data": {
      "application/javascript": [
       "new Promise(function(resolve, reject) {\n",
       "\tvar script = document.createElement(\"script\");\n",
       "\tscript.onload = resolve;\n",
       "\tscript.onerror = reject;\n",
       "\tscript.src = \"https://wavedrom.com/wavedrom.min.js\";\n",
       "\tdocument.head.appendChild(script);\n",
       "}).then(() => {\n",
       "new Promise(function(resolve, reject) {\n",
       "\tvar script = document.createElement(\"script\");\n",
       "\tscript.onload = resolve;\n",
       "\tscript.onerror = reject;\n",
       "\tscript.src = \"https://wavedrom.com/skins/narrow.js\";\n",
       "\tdocument.head.appendChild(script);\n",
       "}).then(() => {\n",
       "WaveDrom.ProcessAll();\n",
       "});\n",
       "});"
      ]
     },
     "metadata": {},
     "output_type": "display_data"
    }
   ],
   "source": [
    "from cyrite import waveutils\n",
    "cfg = { 'tb_dc.clka' : None , 'tb_dc.a' : None, 'tb_dc.clkb' : None,\n",
    "       'tb_dc.b' : None, 'tb_dc.reset' : None, \n",
    "      }\n",
    "waveutils.draw_wavetrace(tb, 'tb_dc.vcd', 'clkb', cfg = cfg)"
   ]
  },
  {
   "cell_type": "markdown",
   "id": "14509360-cb66-4683-8300-5696f1c5fc52",
   "metadata": {},
   "source": [
    "## Notes\n",
    "\n",
    "* `XClkDomainSynced` is a composite class that creates logic and returns a signal instance.\n",
    "* It can also take `bv` bit vectors as arguments and will operate on each bit\n",
    "* When using this function to pass register values across clock domains, it is recommended to derive one enable pulse only and cumulate enable and data into one bit vector that is passed through the synchronizer with `DERIVE='none'`.\n",
    "* The reset pulse must cover both clock periods when synchronous (which is the default)."
   ]
  },
  {
   "cell_type": "markdown",
   "id": "2efda394-2e9a-44b0-bb31-ef09fa780c08",
   "metadata": {},
   "source": [
    "## Register passing\n",
    "\n",
    "The `XClkDomainSynced` logic is not restricted to single bit I/O and can also take a bit vector. This could be abused for units measuring pulse durations synchronized to a different clock. When using the RegisterSignal abstraction layer, this can be done as follows:"
   ]
  },
  {
   "cell_type": "code",
   "execution_count": 6,
   "id": "7bc8f55b-4716-47dd-9499-b766bab48e19",
   "metadata": {},
   "outputs": [],
   "source": [
    "from cyrite.library.soc import *"
   ]
  },
  {
   "cell_type": "markdown",
   "id": "c70a0b4e-0d58-4b16-af1a-d94a7028ca0e",
   "metadata": {},
   "source": [
    "We define a register with data and valid bitfields, plus flag it `WRITEONLY | VOLATILE`:"
   ]
  },
  {
   "cell_type": "code",
   "execution_count": 7,
   "id": "e4b4fb41-f847-4dd6-a224-1d9db7fee4ef",
   "metadata": {},
   "outputs": [],
   "source": [
    "reg01 = Reg(9,\n",
    "    [\n",
    "        BF('valid', 8, 8),\n",
    "        BF(\"data\", 7, 0),\n",
    "    ], flags = Reg.VOLATILE | Reg.WRITEONLY\n",
    ")"
   ]
  },
  {
   "cell_type": "markdown",
   "id": "2d775a9e-360c-4fc4-8473-f72fcad4fadb",
   "metadata": {},
   "source": [
    "The cross clock register unit. We pass the `RegisterSignal` through the interface. This actually infers in the HDL as a container with input and output signals. Before creating the test unit, we derive from the RegisterSignal and augment it by a simulation auxiliary method to simulate a register write access:"
   ]
  },
  {
   "cell_type": "code",
   "execution_count": 8,
   "id": "161a4c07-09d3-425f-8a58-8cda1b029d44",
   "metadata": {},
   "outputs": [],
   "source": [
    "class MyRegSignal(RegisterSignal):\n",
    "    \n",
    "    @cyrite_method.sequence\n",
    "    def _write(self, clk, en, val):\n",
    "        yield clk.negedge\n",
    "        en.next = True\n",
    "        self.read.valid.next = True\n",
    "        self.read.data.next = val\n",
    "        yield clk.negedge\n",
    "        self.read.valid.next = False\n",
    "        en.next = False\n",
    "        \n",
    "    @cyrite_method.sequence\n",
    "    def _init(self):\n",
    "        self.read.data.next = 0x00\n",
    "        self.read.valid.next = False\n",
    "        yield delay(1)"
   ]
  },
  {
   "cell_type": "markdown",
   "id": "48ecfc6f-73d1-42c7-add8-eea4ec09869a",
   "metadata": {},
   "source": [
    "## Test unit\n",
    "\n",
    "The register transfer test unit uses an extra `en` pin to signal when the register was written. This is passed through the synchronizer to the `select.sel_w` signal of the RegisterSignal container."
   ]
  },
  {
   "cell_type": "code",
   "execution_count": 9,
   "id": "96e2bc69-045f-483a-9e9c-9a221febdc76",
   "metadata": {},
   "outputs": [],
   "source": [
    "@block\n",
    "def xregister(reset : ResetSignal,\n",
    "              clk_a : ClkSignal,\n",
    "              clk_b : ClkSignal,\n",
    "              en    : Bool,\n",
    "              r : RegisterSignal):\n",
    "    \n",
    "    a = Signal(intbv()[9:])\n",
    "\n",
    "    @always(clk_b)\n",
    "    def ff():\n",
    "        # Requires a registered driver for Verilog.\n",
    "        r.set(u)\n",
    "        r.select.sel_w.next = v \n",
    "\n",
    "    v = XClkDomainSynced(reset = reset,\n",
    "                     xclk = clk_a,\n",
    "                     clk = clk_b,\n",
    "                     xpulse = en)\n",
    "\n",
    "    u = XClkDomainSynced(reset = reset,\n",
    "                     xclk = clk_a,\n",
    "                     clk = clk_b,\n",
    "                     xpulse = a)\n",
    "    wires = [ r.assign(a)]\n",
    "\n",
    "    return instances()\n"
   ]
  },
  {
   "cell_type": "markdown",
   "id": "21108c27-26a0-4842-ad6f-ebdce9b9c2b5",
   "metadata": {},
   "source": [
    "### Testbench\n",
    "\n",
    "This setup is currently restricted to VHDL output:"
   ]
  },
  {
   "cell_type": "code",
   "execution_count": 10,
   "id": "0ff1bb53-4eec-49d4-8949-892d1ee5ae00",
   "metadata": {},
   "outputs": [],
   "source": [
    "@sim.testbench(ghdl.GHDL, 'ns')\n",
    "@block\n",
    "def tb_xreg():\n",
    "    reset = ResetSignal(False, True, isasync = True)\n",
    "    clk_a = ClkSignal(name = 'clka')\n",
    "    clk_b = ClkSignal(name = 'clkb')\n",
    "    en = Bool()\n",
    "    en_out = Bool()\n",
    "\n",
    "    rs = MyRegSignal(\"regsig\", template = reg01)\n",
    "    data_out = Signal(intbv()[9:])\n",
    "\n",
    "    uut = xregister(reset, clk_a, clk_b, en, rs)\n",
    "\n",
    "    connections = [\n",
    "        en_out.wireup(rs.select.sel_w),\n",
    "        data_out.wireup(rs.write.data)\n",
    "    ]\n",
    "    \n",
    "    @always(delay(6))\n",
    "    def clkgen_a():\n",
    "        clk_a.next = ~clk_a\n",
    "\n",
    "    @always(delay(2))\n",
    "    def clkgen_b():\n",
    "        clk_b.next = ~clk_b\n",
    "\n",
    "    @sequence\n",
    "    def main():\n",
    "        yield delay(1)\n",
    "        en.next = False\n",
    "        reset.next = True\n",
    "        yield delay(13)\n",
    "        reset.next = False\n",
    "\n",
    "        rs._init()\n",
    "        \n",
    "        yield delay(10)\n",
    "\n",
    "        yield from rs._write(clk_a, en, 0xaa)\n",
    "\n",
    "        yield delay(30)\n",
    "        raise StopSimulation\n",
    "    return instances()"
   ]
  },
  {
   "cell_type": "code",
   "execution_count": 11,
   "id": "2a5d51b3-c86b-47c5-bc00-050839a854e1",
   "metadata": {},
   "outputs": [
    {
     "name": "stdout",
     "output_type": "stream",
     "text": [
      "\u001b[32m Module tb_xreg: Existing instance flagx, rename to flagx_1 \u001b[0m\n",
      "\u001b[32m Module tb_xreg: Existing instance flagx, rename to flagx_2 \u001b[0m\n",
      " Writing 'flagx_2' to file /tmp/myirl_tb_xreg_wkgp0hlj/flagx_2.vhdl \n",
      " Writing 'flagx_1' to file /tmp/myirl_tb_xreg_wkgp0hlj/flagx_1.vhdl \n",
      " Writing 'xregister' to file /tmp/myirl_tb_xreg_wkgp0hlj/xregister.vhdl \n",
      " Writing 'tb_xreg' to file /tmp/myirl_tb_xreg_wkgp0hlj/tb_xreg.vhdl \n",
      " Creating library file module_defs.vhdl \n"
     ]
    },
    {
     "name": "stderr",
     "output_type": "stream",
     "text": [
      "/home/cyrite/.local/lib/python3.10/site-packages/cyritehdl-0.1b0-py3.10-linux-x86_64.egg/myirl/kernel/components.py:118: UserWarning: Fallback: Pass through other argument for arg DERIVE (<class 'str'>)\n",
      "  base.warnings.warn(msg)\n"
     ]
    },
    {
     "data": {
      "text/plain": [
       "0"
      ]
     },
     "execution_count": 11,
     "metadata": {},
     "output_type": "execute_result"
    }
   ],
   "source": [
    "tb = tb_xreg()\n",
    "tb.run(200, wavetrace = True, debug = False)"
   ]
  },
  {
   "cell_type": "markdown",
   "id": "5b420d29-4b95-4a51-9f16-67c293ea8fb8",
   "metadata": {},
   "source": [
    "## Wave trace\n",
    "\n",
    "The test bench writes an `0xaa` from the `clka` domain. When the output to the `clkb` domain is valid, the `en_out` is pulsed."
   ]
  },
  {
   "cell_type": "code",
   "execution_count": 12,
   "id": "44960cb0-3ed5-419b-8283-62c7722b453e",
   "metadata": {},
   "outputs": [
    {
     "data": {
      "text/html": [
       "<div><script type=\"WaveDrom\">{\"signal\": [{\"name\": \"tb_xreg.clka\", \"wave\": \"0..1..0..1..0..1..0..1..0..1..0..1..0..\", \"data\": \"0101010101010\"}, {\"name\": \"tb_xreg.en\", \"wave\": \"u0................1.....0..............\", \"data\": \"010\"}, {\"name\": \"tb_xreg.clkb\", \"wave\": \"010101010101010101010101010101010101010\", \"data\": \"010101010101010101010101010101010101010\"}, {\"name\": \"tb_xreg.inst_xregister_0.a[8:0]\", \"wave\": \"u......=..........=.....=..............\", \"data\": \"00 1aa aa \"}, {\"name\": \"tb_xreg.reset\", \"wave\": \"01.....0...............................\", \"data\": \"010\"}, {\"name\": \"tb_xreg.en_out\", \"wave\": \"u0........................1.0..........\", \"data\": \"010\"}, {\"name\": \"tb_xreg.data_out[8:0]\", \"wave\": \"x=........................=.=...=.=...=\", \"data\": \"00 aa 00 aa 00 aa \"}]}</script></div>"
      ]
     },
     "metadata": {},
     "output_type": "display_data"
    },
    {
     "data": {
      "application/javascript": [
       "new Promise(function(resolve, reject) {\n",
       "\tvar script = document.createElement(\"script\");\n",
       "\tscript.onload = resolve;\n",
       "\tscript.onerror = reject;\n",
       "\tscript.src = \"https://wavedrom.com/wavedrom.min.js\";\n",
       "\tdocument.head.appendChild(script);\n",
       "}).then(() => {\n",
       "new Promise(function(resolve, reject) {\n",
       "\tvar script = document.createElement(\"script\");\n",
       "\tscript.onload = resolve;\n",
       "\tscript.onerror = reject;\n",
       "\tscript.src = \"https://wavedrom.com/skins/narrow.js\";\n",
       "\tdocument.head.appendChild(script);\n",
       "}).then(() => {\n",
       "WaveDrom.ProcessAll();\n",
       "});\n",
       "});"
      ]
     },
     "metadata": {},
     "output_type": "display_data"
    }
   ],
   "source": [
    "from cyrite import waveutils\n",
    "cfg = { 'tb_xreg.clka' : None , 'tb_xreg.en' : None, 'tb_xreg.clkb' : None,\n",
    "       'tb_xreg.inst_xregister_0.a[8:0]' : None, 'tb_xreg.reset' : None, \n",
    "       'tb_xreg.en_out' : None, 'tb_xreg.data_out[8:0]' : None\n",
    "      }\n",
    "waveutils.draw_wavetrace(tb, 'tb_xreg.vcd', 'clkb', cfg = cfg)"
   ]
  },
  {
   "cell_type": "markdown",
   "id": "ee43c730-6169-4d5f-a2a4-5d9436b64049",
   "metadata": {},
   "source": [
    "## Design issues\n",
    "\n",
    "We observe that the data_out signals are repeatedly toggled by the synchronizing pipeline.\n",
    "This is not pretty and is due to the synchronizer treating each bit as a pulse instead of a static data bit.\n",
    "\n",
    "A more resource saving approach is, to use the specific `datax` module."
   ]
  },
  {
   "cell_type": "code",
   "execution_count": 13,
   "id": "449daf9a-75f4-41ac-acdf-49badb35661f",
   "metadata": {},
   "outputs": [
    {
     "name": "stdout",
     "output_type": "stream",
     "text": [
      "'reset'   :     <class 'myirl.kernel._types.ResetSignal'>\n",
      "'clki'   :     <class 'myirl.kernel._types.ClkSignal'>\n",
      "'eni'   :     [ Signal Type <class 'myirl.kernel._types._LogicBool'>:1 ]\n",
      "'di'   :     <class 'myirl.kernel._types.Signal'>\n",
      "'clko'   :     <class 'myirl.kernel._types.ClkSignal'>\n",
      "'eno'   :     [ Signal Type <class 'myirl.kernel._types._LogicBool'>:1 ]\n",
      "'do'   :     <class 'myirl.kernel._types._SigOut'>\n"
     ]
    }
   ],
   "source": [
    "from cyrite.library.xcd.xclkdomain import datax\n",
    "import inspect\n",
    "s = inspect.signature(datax.func)\n",
    "for n, i in s.parameters.items():\n",
    "    print(\"'%s'   :    \" % n, i.annotation)"
   ]
  },
  {
   "cell_type": "markdown",
   "id": "5da05458-881a-4ca1-9e36-c9099657f97e",
   "metadata": {},
   "source": [
    "Here, the `en*` signals are separate valid bits and the data is passed along internally when no simultaneous clock event takes place."
   ]
  },
  {
   "cell_type": "markdown",
   "id": "62c103de-dd43-4db8-9b96-3ba112afb949",
   "metadata": {},
   "source": [
    "## Caveats\n",
    "\n",
    "Due to the internal pipeline length of three samples, a dead time applies to this synchronizer logic. This is minimum three cycles of the slower clock of the two."
   ]
  }
 ],
 "metadata": {
  "kernelspec": {
   "display_name": "Python 3 (ipykernel)",
   "language": "python",
   "name": "python3"
  },
  "language_info": {
   "codemirror_mode": {
    "name": "ipython",
    "version": 3
   },
   "file_extension": ".py",
   "mimetype": "text/x-python",
   "name": "python",
   "nbconvert_exporter": "python",
   "pygments_lexer": "ipython3",
   "version": "3.10.0"
  }
 },
 "nbformat": 4,
 "nbformat_minor": 5
}

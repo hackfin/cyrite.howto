{
 "cells": [
  {
   "cell_type": "markdown",
   "id": "749a3d53-3d4a-4c1e-9af1-6eb8c56a055c",
   "metadata": {},
   "source": [
    "# Simulation and verification\n",
    "\n",
    "When modelling an algorithm for output to a target language or hardware synthesis, one would - in Python - typically begin with a classic set of functions that are executed sequentially.\n",
    "\n",
    "For emission to hardware, the corresponding logic and signal structure is conceived, a timing/clock concept and state machines or pipelines introduced.\n",
    "\n",
    "Then, the synthesizeable hardware should do the same as the prototyped algorithm.\n",
    "\n",
    "This is where verification comes into play. The IRL language provides an `.evaluate()` method for generators and expressions, so that functionality can be verified - inside the Python environment.\n",
    "\n",
    "Then, verification of correct functionality may occur at later stages:\n",
    "  1. Post HDL translation: correct functional description for a synthesis tool\n",
    "  2. Post mapping: Correct inference to logic elements, verification based on vendor element primitives\n",
    "  3. Post placement: Simulation including gate timings\n",
    "  \n",
    "This chapter will only elaborate on the means to do your own verification. For instance, you may want to run a Python model and a synthesized edition of it in parallel."
   ]
  },
  {
   "cell_type": "markdown",
   "id": "7828574e-b794-479e-b46e-3c3be158ad5d",
   "metadata": {},
   "source": [
    "## A simple simulator dummy\n",
    "\n",
    "A simulation normally creates external stimuli of a virtual hardware model via a sequence. It can also be in fact a working hardware counterpart and the testbench would then only consist of clocks, reset and a data I/O FIFO to communicate with external software. However, a unit test typically requires a seuquential stimulus approach.\n",
    "\n",
    "To elaborate, we create a simple sequence using a simulator dummy to see what happens:"
   ]
  },
  {
   "cell_type": "code",
   "execution_count": 1,
   "id": "1608169f-b9d9-40cc-8652-5f9c6cad3d7a",
   "metadata": {
    "tags": []
   },
   "outputs": [],
   "source": [
    "from myirl.targets.dummy import DummySimulator\n",
    "from cyhdl import *\n",
    "\n",
    "sim = DummySimulator()\n",
    "\n",
    "a = sim.Signal(intbv()[5:].signed())\n",
    "b = sim.Signal(intbv()[8:])"
   ]
  },
  {
   "cell_type": "markdown",
   "id": "7592bd46-d82b-4d93-bc73-9c949122ae2a",
   "metadata": {},
   "source": [
    "We have to use a `sim.Signal` for this, because we are handling a simulation from native python, and not generating logic at this point."
   ]
  },
  {
   "cell_type": "code",
   "execution_count": 2,
   "id": "0ced34a6-0595-4596-b391-f47521d1dc67",
   "metadata": {
    "tags": []
   },
   "outputs": [],
   "source": [
    "a.next  = 4\n",
    "b.next = 0"
   ]
  },
  {
   "cell_type": "markdown",
   "id": "2b25a5ba-600d-4243-b038-a14b229559f9",
   "metadata": {
    "tags": []
   },
   "source": [
    "If we evaluate the signal value at this point, we will get an error:"
   ]
  },
  {
   "cell_type": "code",
   "execution_count": 3,
   "id": "ac723181-2b5c-46c4-9c1b-c112138a95ac",
   "metadata": {
    "tags": []
   },
   "outputs": [
    {
     "name": "stdout",
     "output_type": "stream",
     "text": [
      "Signal `s_c209` (or element) not initialized. Refusing to Co-Simulate.\n"
     ]
    }
   ],
   "source": [
    "try:\n",
    "    a.evaluate()\n",
    "except Exception as e:\n",
    "    print(e)"
   ]
  },
  {
   "cell_type": "markdown",
   "id": "1495c655-1d01-494d-82e1-15ea318be70d",
   "metadata": {},
   "source": [
    "The reason is, that the signal is a priori uninitialized and will get its value upon the next simulation time step:"
   ]
  },
  {
   "cell_type": "code",
   "execution_count": 4,
   "id": "3adc624a-e981-45cf-9277-6d752431d92b",
   "metadata": {
    "tags": []
   },
   "outputs": [],
   "source": [
    "sim.proceed(1)"
   ]
  },
  {
   "cell_type": "code",
   "execution_count": 5,
   "id": "e9c8efcf-6ea8-4cf7-b1d3-f5f477bcb60c",
   "metadata": {
    "tags": []
   },
   "outputs": [
    {
     "data": {
      "text/plain": [
       "(4, 0)"
      ]
     },
     "execution_count": 5,
     "metadata": {},
     "output_type": "execute_result"
    }
   ],
   "source": [
    "int(a), int(b)"
   ]
  },
  {
   "cell_type": "markdown",
   "id": "fe2a68ec-1a3d-4ac4-829d-ba32c7c896b3",
   "metadata": {},
   "source": [
    "This introduces an unusual aspect for a sequential minded programmer. Values would, for instance, swap using the following code:"
   ]
  },
  {
   "cell_type": "code",
   "execution_count": 6,
   "id": "f69af9fa-0800-4ca3-a0e2-84c8623182b7",
   "metadata": {
    "tags": []
   },
   "outputs": [
    {
     "data": {
      "text/plain": [
       "(0, 4)"
      ]
     },
     "execution_count": 6,
     "metadata": {},
     "output_type": "execute_result"
    }
   ],
   "source": [
    "a.next = b\n",
    "b.next = a\n",
    "sim.proceed(1)\n",
    "int(a), int(b)"
   ]
  },
  {
   "cell_type": "markdown",
   "id": "e7b194bf-2e3f-4b05-9ead-c56f47b7bf75",
   "metadata": {},
   "source": [
    "We however note, that this is only valid in hardware when inside a synchronous process, that executes this action only at a particular clock edge. Otherwise we would create combinatorial loops."
   ]
  },
  {
   "cell_type": "markdown",
   "id": "49be1af8-45a7-4888-87ea-588a2634933d",
   "metadata": {},
   "source": [
    "## A test bench sequence\n",
    "\n",
    "To test a few basic operations in a sequential way, we can create this simple test bench:"
   ]
  },
  {
   "cell_type": "code",
   "execution_count": 7,
   "id": "edff0788-270e-4745-875b-49538d90b866",
   "metadata": {
    "tags": []
   },
   "outputs": [],
   "source": [
    "def testbench(a, b):\n",
    "    a.next = 3\n",
    "    b.next = 5\n",
    "    yield 1\n",
    "    a.next = b\n",
    "    b.next = a\n",
    "    assert a == 3 and b == 5\n",
    "    yield 1 # Values are now swapped\n",
    "    assert a == 5 and b == 3\n",
    "    \n",
    "    a.next  = a * b\n",
    "    print(\"Done multiplicating\")\n",
    "    yield 1"
   ]
  },
  {
   "cell_type": "markdown",
   "id": "5b3c4fa5-2076-4b74-a149-79b427de7b0f",
   "metadata": {
    "tags": []
   },
   "source": [
    "We pass this to the simulator dummy:"
   ]
  },
  {
   "cell_type": "code",
   "execution_count": 8,
   "id": "6d6fbc6c-fb96-4d06-a173-68d44a3f00e3",
   "metadata": {
    "tags": []
   },
   "outputs": [
    {
     "name": "stdout",
     "output_type": "stream",
     "text": [
      "[ STEP: 1 -> 3 ]\n",
      "[ STEP: 1 -> 4 ]\n",
      "Done multiplicating\n",
      "[ STEP: 1 -> 5 ]\n",
      "<u> : 0x0f <v> : 0x03\n"
     ]
    }
   ],
   "source": [
    "u, v = [ sim.Signal(intbv()[8:], name = n) for n in \"uv\" ]\n",
    "sim.handle_sequence(testbench(u, v))\n",
    "\n",
    "print(u, v)"
   ]
  },
  {
   "cell_type": "markdown",
   "id": "6ea309cd-43f6-4010-84dc-55a3eb06056d",
   "metadata": {},
   "source": [
    "Note that repeated calling of the simulator handler will increase the current time and also maintain the state of the signals. It is up to the simulator, to actually update a signal change upon the next time step."
   ]
  },
  {
   "cell_type": "markdown",
   "id": "ad21a34f-90de-4597-a22e-e66aa0ee6ae2",
   "metadata": {},
   "source": [
    "## Co-Simulation versus simulation\n",
    "\n",
    "This simulation clearly runs in native Python `as is`, using explicit time steps given by yield. This is the only main stimulus here (and we can only have one, for this dummy simulator).\n",
    "\n",
    "However for a real parallel-alike simulation, we these stimuli need to propagate into hardware. There are several methods to achieve this:\n",
    "\n",
    "* Translate the entire hardware and simulation sequence to a HDL and execute\n",
    "* Translate only the hardware to a simulation kernel target and drive it externally from a Python native sequence\n",
    "\n",
    "The latter is referred to as co-simulation. From the top level, we have Python signals, inside synthesizeable hardware, we map them to their corresponding entities.\n",
    "\n",
    "The cyrite simulation concept follows the goal to allow switching between simulation domains without having to rewrite the code.\n",
    "However, this also implies that you don't always see what you get, because code is interpreted in two ways, like a testbench `@sequence` construct will turn out:\n",
    "* in a silently translated generator to emit HDL\n",
    "* to be a natively run co-routine interacting with a CoSimulator back end\n",
    "\n",
    "In any case, a simulation is not always portable, and you might be bound to one specific simulator.\n",
    "\n",
    "A few examples scenarios:\n",
    "\n",
    "\n",
    "* VHDL only, timing accurate simulation required: ghdl.GHDL simulator interface\n",
    "* Verilog only, timing accurate: icarus.ICARUS\n",
    "* All HDL, but Co-Simulation: yosys.CXXRTL\n",
    "   * Hardware elements emitted as executable hardware emulation\n",
    "   * Timing specific elements in Python native domain\n",
    "   \n",
    "Further reading: [Simulation](simulation.ipynb)"
   ]
  }
 ],
 "metadata": {
  "kernelspec": {
   "display_name": "Python 3 (ipykernel)",
   "language": "python",
   "name": "python3"
  },
  "language_info": {
   "codemirror_mode": {
    "name": "ipython",
    "version": 3
   },
   "file_extension": ".py",
   "mimetype": "text/x-python",
   "name": "python",
   "nbconvert_exporter": "python",
   "pygments_lexer": "ipython3",
   "version": "3.10.0"
  }
 },
 "nbformat": 4,
 "nbformat_minor": 5
}

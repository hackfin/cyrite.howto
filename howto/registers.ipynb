{
 "cells": [
  {
   "cell_type": "markdown",
   "id": "b45e34aa-b3d0-4278-b7d1-07f59f3250f4",
   "metadata": {},
   "source": [
    "# Registers\n",
    "\n",
    "In memory mapped register ('MMR') decoders there is a need for a certain abstraction in order to maintain adressable registers."
   ]
  },
  {
   "cell_type": "code",
   "execution_count": 11,
   "id": "c706c696-ec56-4345-a907-c98c573287ba",
   "metadata": {},
   "outputs": [],
   "source": [
    "from cyhdl import *\n",
    "from myirl.library.registers import *"
   ]
  },
  {
   "cell_type": "markdown",
   "id": "b84911c4-d95e-4b2d-9ff5-6b15e24bff3a",
   "metadata": {},
   "source": [
    "## Bitfield and Register classes\n",
    "\n",
    "A Register contains a set of bit fields which can have a specific value. For bus decoding, it is often necessary to map a register item to a plain data bus signal."
   ]
  },
  {
   "cell_type": "code",
   "execution_count": 12,
   "id": "c224686a-55ea-42f3-be19-d3279ebae8f9",
   "metadata": {
    "tags": []
   },
   "outputs": [],
   "source": [
    "BF = NamedBitfield\n",
    "A = BF(\"im\", 3, 1)\n",
    "B = BF(\"ex\", 7, 6)\n",
    "C = BF(\"inv\", 4, 4)\n",
    "D = BF(\"mode\", 14, 10)\n",
    "\n",
    "r = Register(16, [A, B, C, D])"
   ]
  },
  {
   "cell_type": "markdown",
   "id": "a65f452f-09aa-460e-99ee-fd056e2f540c",
   "metadata": {},
   "source": [
    "Dump bit map in MSB->LSB order. Bits listed as `None` are undefined. When reading from a MMR, undefined values may be not asserted to the bus, or assigned to a default value, depeding on the inference rules."
   ]
  },
  {
   "cell_type": "code",
   "execution_count": 13,
   "id": "75fbac76-bd4b-4dea-b958-667964406605",
   "metadata": {
    "tags": []
   },
   "outputs": [
    {
     "data": {
      "text/plain": [
       "[[None 15:15],\n",
       " [mode 14:10],\n",
       " [None 9:8],\n",
       " [ex 7:6],\n",
       " [None 5:5],\n",
       " [inv 4:4],\n",
       " [im 3:1],\n",
       " [None 0:0]]"
      ]
     },
     "execution_count": 13,
     "metadata": {},
     "output_type": "execute_result"
    }
   ],
   "source": [
    "list(reversed(r.layout))"
   ]
  },
  {
   "cell_type": "markdown",
   "id": "211f298e-f6b3-4c7e-a7b6-e478592e2fcd",
   "metadata": {},
   "source": [
    "### Concat composition\n",
    "\n",
    "To return a concatenation, we use the `.compose` notation below.\n",
    "We first instance a dummy target module (VHDL by default) to elaborate on the HDL equivalent."
   ]
  },
  {
   "cell_type": "code",
   "execution_count": 14,
   "id": "b1017c01-8971-45fb-838b-5e55daad2f11",
   "metadata": {
    "tags": []
   },
   "outputs": [],
   "source": [
    "from myirl.targets.dummy import DummyTargetModule\n",
    "\n",
    "d = DummyTargetModule()"
   ]
  },
  {
   "cell_type": "code",
   "execution_count": 15,
   "id": "efff7805-326c-4845-bc3f-be811ce9f666",
   "metadata": {
    "tags": []
   },
   "outputs": [
    {
     "name": "stdout",
     "output_type": "stream",
     "text": [
      "\u001b[94mq <= ('0' & \"00101\" & \"00\" & \"11\" & '0' & '0' & s & '0');\n",
      "\u001b[0m"
     ]
    }
   ],
   "source": [
    "s = Signal(intbv()[3:], name = 's')\n",
    "\n",
    "c = r.compose(im = s, ex = 3, mode = 5)\n",
    "\n",
    "q = Signal(intbv()[16:], name = 'q')\n",
    "a = q.set(c)\n",
    "\n",
    "a.emit(d)"
   ]
  },
  {
   "cell_type": "markdown",
   "id": "4593c3b1-1022-4b4c-addc-036b4318ea9b",
   "metadata": {},
   "source": [
    "### Partial assignment\n",
    "\n",
    "The partial assignment is not supported with standard `Signal` types, a `PASignal` must be used instead for the alternative composition, returning generators. Note that a PASignal can **not** be passed through the interface.\n",
    "Also note that assigning PASignal slices directly (such as `pa[5:3].set(5)` is not fully portable. The proper coding practise is to use PAsignals together in combination with the `register.assign()` method listed below."
   ]
  },
  {
   "cell_type": "code",
   "execution_count": 16,
   "id": "c09ad03c-c9e7-46b0-ab3d-aea802058273",
   "metadata": {
    "tags": []
   },
   "outputs": [],
   "source": [
    "p = PASignal(intbv()[16:], name = 'p')"
   ]
  },
  {
   "cell_type": "code",
   "execution_count": 17,
   "id": "0a1eb860-abfc-4af6-9fc4-7c7590bb0260",
   "metadata": {
    "tags": []
   },
   "outputs": [],
   "source": [
    "gen = r.assign(p, im = s, ex = 3, mode = 5)"
   ]
  },
  {
   "cell_type": "code",
   "execution_count": 18,
   "id": "cbd8be0f-cdc1-4ce4-873a-84f91cecb75d",
   "metadata": {
    "tags": []
   },
   "outputs": [
    {
     "name": "stdout",
     "output_type": "stream",
     "text": [
      "\u001b[94mp(3 downto 1) <= s;\n",
      "\u001b[0m\u001b[94mp(7 downto 6) <= \"11\";\n",
      "\u001b[0m\u001b[94mp(14 downto 10) <= \"00101\";\n",
      "\u001b[0m"
     ]
    }
   ],
   "source": [
    "gen.emit(d)"
   ]
  },
  {
   "cell_type": "markdown",
   "id": "85f121a2-c683-4f89-9011-f15d2b4ca8af",
   "metadata": {},
   "source": [
    "### Issues\n",
    "\n",
    "Partial assignments cause some issues in internal driver resolving and can under some circumstances create more logic congestion than actually necessary.\n",
    "\n",
    "The recommended approach is to use the `.compose` method to explicitely assign all bits of a signal. For the register class, the `.undefined` method can be overriden to use other default values:"
   ]
  },
  {
   "cell_type": "code",
   "execution_count": 19,
   "id": "4a35d689-50cb-436b-8b0a-8c771403cf4a",
   "metadata": {},
   "outputs": [],
   "source": [
    "from myirl.library.dontcare import DontCare\n",
    "\n",
    "class MyRegister(Register):\n",
    "    def undefined(self, size):\n",
    "        return DontCare(size, '?')"
   ]
  },
  {
   "cell_type": "code",
   "execution_count": 20,
   "id": "d4d3e70a-1909-4dd4-bf26-4a5f224d41df",
   "metadata": {},
   "outputs": [
    {
     "name": "stdout",
     "output_type": "stream",
     "text": [
      "\u001b[94massign  q = {1'b?, 5'b00101, 2'b??, 2'b11, 1'b?, 1'b0, s, 1'b?}; /* fallback */\n",
      "\u001b[0m"
     ]
    }
   ],
   "source": [
    "r = MyRegister(16, [A, B, C, D])\n",
    "s = Signal(intbv()[3:], name = 's')\n",
    "\n",
    "vlog = DummyTargetModule(targets.Verilog)\n",
    "c = r.compose(im = s, ex = 3, mode = 5)\n",
    "q.set(c).emit(vlog)"
   ]
  },
  {
   "cell_type": "code",
   "execution_count": null,
   "id": "a4081cd0-338a-4097-8a4f-fbfca48f7e08",
   "metadata": {},
   "outputs": [],
   "source": []
  }
 ],
 "metadata": {
  "kernelspec": {
   "display_name": "Python 3 (ipykernel)",
   "language": "python",
   "name": "python3"
  },
  "language_info": {
   "codemirror_mode": {
    "name": "ipython",
    "version": 3
   },
   "file_extension": ".py",
   "mimetype": "text/x-python",
   "name": "python",
   "nbconvert_exporter": "python",
   "pygments_lexer": "ipython3",
   "version": "3.10.0"
  }
 },
 "nbformat": 4,
 "nbformat_minor": 5
}

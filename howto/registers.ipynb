{
 "cells": [
  {
   "cell_type": "markdown",
   "id": "b45e34aa-b3d0-4278-b7d1-07f59f3250f4",
   "metadata": {},
   "source": [
    "# Registers\n",
    "\n",
    "In memory mapped register ('MMR') decoders there is a need for a certain abstraction in order to maintain adressable registers."
   ]
  },
  {
   "cell_type": "code",
   "execution_count": 1,
   "id": "c706c696-ec56-4345-a907-c98c573287ba",
   "metadata": {},
   "outputs": [],
   "source": [
    "from cyhdl import *\n",
    "from myirl.library.registers import *"
   ]
  },
  {
   "cell_type": "markdown",
   "id": "b84911c4-d95e-4b2d-9ff5-6b15e24bff3a",
   "metadata": {},
   "source": [
    "## Bitfield and Register classes\n",
    "\n",
    "A Register contains a set of bit fields which can have a specific value. For bus decoding, it is often necessary to map a register item to a plain data bus signal."
   ]
  },
  {
   "cell_type": "code",
   "execution_count": 2,
   "id": "c224686a-55ea-42f3-be19-d3279ebae8f9",
   "metadata": {
    "tags": []
   },
   "outputs": [],
   "source": [
    "BF = NamedBitfield\n",
    "A = BF(\"im\", 3, 1)\n",
    "B = BF(\"ex\", 7, 6)\n",
    "C = BF(\"inv\", 4, 4)\n",
    "D = BF(\"mode\", 14, 10)\n",
    "\n",
    "r = Register(16, [A, B, C, D])"
   ]
  },
  {
   "cell_type": "markdown",
   "id": "a65f452f-09aa-460e-99ee-fd056e2f540c",
   "metadata": {},
   "source": [
    "Dump bit map in MSB->LSB order. Bits listed as `None` are undefined. When reading from a MMR, undefined values may be not asserted to the bus, or assigned to a default value, depeding on the inference rules."
   ]
  },
  {
   "cell_type": "code",
   "execution_count": 3,
   "id": "75fbac76-bd4b-4dea-b958-667964406605",
   "metadata": {
    "tags": []
   },
   "outputs": [
    {
     "data": {
      "text/plain": [
       "[[None 15:15],\n",
       " [mode 14:10],\n",
       " [None 9:8],\n",
       " [ex 7:6],\n",
       " [None 5:5],\n",
       " [inv 4:4],\n",
       " [im 3:1],\n",
       " [None 0:0]]"
      ]
     },
     "execution_count": 3,
     "metadata": {},
     "output_type": "execute_result"
    }
   ],
   "source": [
    "list(reversed(r.layout))"
   ]
  },
  {
   "cell_type": "markdown",
   "id": "211f298e-f6b3-4c7e-a7b6-e478592e2fcd",
   "metadata": {},
   "source": [
    "### Concat composition\n",
    "\n",
    "To return a concatenation, we use the `.compose` notation below.\n",
    "We first instance a dummy target module (VHDL by default) to elaborate on the HDL equivalent."
   ]
  },
  {
   "cell_type": "code",
   "execution_count": 4,
   "id": "b1017c01-8971-45fb-838b-5e55daad2f11",
   "metadata": {
    "tags": []
   },
   "outputs": [],
   "source": [
    "from myirl.targets.dummy import DummyTargetModule\n",
    "\n",
    "d = DummyTargetModule()"
   ]
  },
  {
   "cell_type": "code",
   "execution_count": 5,
   "id": "efff7805-326c-4845-bc3f-be811ce9f666",
   "metadata": {
    "tags": []
   },
   "outputs": [
    {
     "name": "stdout",
     "output_type": "stream",
     "text": [
      "\u001b[94mq <= ('0' & \"00101\" & \"00\" & \"11\" & '0' & '0' & s & '0');\n",
      "\u001b[0m"
     ]
    }
   ],
   "source": [
    "s = Signal(intbv()[3:], name = 's')\n",
    "\n",
    "c = r.compose(im = s, ex = 3, mode = 5)\n",
    "\n",
    "q = Signal(intbv()[16:], name = 'q')\n",
    "a = q.set(c)\n",
    "\n",
    "a.emit(d)"
   ]
  },
  {
   "cell_type": "markdown",
   "id": "4593c3b1-1022-4b4c-addc-036b4318ea9b",
   "metadata": {},
   "source": [
    "### Partial assignment\n",
    "\n",
    "The partial assignment is not supported with standard `Signal` types, a `PASignal` must be used instead for the alternative composition, returning generators. Note that a PASignal can **not** be passed through the interface.\n",
    "Also note that assigning PASignal slices directly (such as `pa[5:3].set(5)` is not fully portable. The proper coding practise is to use PAsignals together in combination with the `register.assign()` method listed below."
   ]
  },
  {
   "cell_type": "code",
   "execution_count": 6,
   "id": "c09ad03c-c9e7-46b0-ab3d-aea802058273",
   "metadata": {
    "tags": []
   },
   "outputs": [],
   "source": [
    "p = PASignal(intbv()[16:], name = 'p')"
   ]
  },
  {
   "cell_type": "code",
   "execution_count": 7,
   "id": "0a1eb860-abfc-4af6-9fc4-7c7590bb0260",
   "metadata": {
    "tags": []
   },
   "outputs": [],
   "source": [
    "gen = r.assign(p, im = s, ex = 3, mode = 5)"
   ]
  },
  {
   "cell_type": "code",
   "execution_count": 8,
   "id": "cbd8be0f-cdc1-4ce4-873a-84f91cecb75d",
   "metadata": {
    "tags": []
   },
   "outputs": [
    {
     "name": "stdout",
     "output_type": "stream",
     "text": [
      "\u001b[94mp(3 downto 1) <= s;\n",
      "\u001b[0m\u001b[94mp(7 downto 6) <= \"11\";\n",
      "\u001b[0m\u001b[94mp(14 downto 10) <= \"00101\";\n",
      "\u001b[0m"
     ]
    }
   ],
   "source": [
    "gen.emit(d)"
   ]
  },
  {
   "cell_type": "markdown",
   "id": "85f121a2-c683-4f89-9011-f15d2b4ca8af",
   "metadata": {},
   "source": [
    "### Issues\n",
    "\n",
    "Partial assignments cause some issues in internal driver resolving and can under some circumstances create more logic congestion than actually necessary.\n",
    "\n",
    "The recommended approach is to use the `.compose` method to explicitely assign all bits of a signal. For the register class, the `.undefined` method can be overriden to use other default values:"
   ]
  },
  {
   "cell_type": "code",
   "execution_count": 9,
   "id": "4a35d689-50cb-436b-8b0a-8c771403cf4a",
   "metadata": {},
   "outputs": [],
   "source": [
    "from myirl.library.dontcare import DontCare\n",
    "\n",
    "class MyRegister(Register):\n",
    "    def undefined(self, size):\n",
    "        return DontCare(size, '?')"
   ]
  },
  {
   "cell_type": "code",
   "execution_count": 10,
   "id": "d4d3e70a-1909-4dd4-bf26-4a5f224d41df",
   "metadata": {},
   "outputs": [
    {
     "name": "stdout",
     "output_type": "stream",
     "text": [
      "\u001b[94massign  q = {1'b?, 5'b00101, 2'b??, 2'b11, 1'b?, 1'b0, s, 1'b?}; /* fallback */\n",
      "\u001b[0m"
     ]
    }
   ],
   "source": [
    "r = MyRegister(16, [A, B, C, D])\n",
    "s = Signal(intbv()[3:], name = 's')\n",
    "\n",
    "vlog = DummyTargetModule(targets.Verilog)\n",
    "c = r.compose(im = s, ex = 3, mode = 5)\n",
    "q.set(c).emit(vlog)"
   ]
  },
  {
   "cell_type": "markdown",
   "id": "042d5129-2979-42d3-baa0-089b0608c858",
   "metadata": {},
   "source": [
    "## Register Signals\n",
    "\n",
    "Register signals are containers that create a set of input and output signals, according to a passed `Reg` template.\n",
    "Unlike a `@container(CONTAINER_INTERFACE` class, they use separate members for write and read signals.\n",
    "\n",
    "It requires an augmented `Register` type from the `soc` library, so a redefinition of the above register is required:"
   ]
  },
  {
   "cell_type": "code",
   "execution_count": 11,
   "id": "57547bc0-189d-4f34-8c62-20fbd57c8549",
   "metadata": {},
   "outputs": [],
   "source": [
    "from cyrite.library.soc import RegisterSignal, Reg, BF\n",
    "\n",
    "r0 = Reg(16,\n",
    "    [\n",
    "        BF(\"im\", 3, 1, flags = BF.READONLY),\n",
    "        BF(\"ex\", 7, 6),\n",
    "        BF(\"inv\", 4, 4, flags = BF.WRITEONLY),\n",
    "        BF(\"mode\", 14, 10, default = 2)\n",
    "    ]\n",
    ")\n",
    "\n",
    "\n",
    "rs = RegisterSignal(\"regsig\", template = r0)"
   ]
  },
  {
   "cell_type": "markdown",
   "id": "870c74ba-8238-4911-93a3-157d2736a422",
   "metadata": {},
   "source": [
    "When part of an interface, the `read` part of the container serves as inputs, whereas `write` members are outputs. So keep in mind to manipulate the `read` members from the testbench."
   ]
  },
  {
   "cell_type": "code",
   "execution_count": 12,
   "id": "b5ee4208-a351-4f10-b05d-d072afd92090",
   "metadata": {},
   "outputs": [
    {
     "data": {
      "text/plain": [
       "{'im': <regsig_read.im>, 'ex': <regsig_read.ex>, 'mode': <regsig_read.mode>}"
      ]
     },
     "execution_count": 12,
     "metadata": {},
     "output_type": "execute_result"
    }
   ],
   "source": [
    "rs.read.members()"
   ]
  },
  {
   "cell_type": "markdown",
   "id": "2b4deee8-4dd3-46a7-b144-af291b098014",
   "metadata": {},
   "source": [
    "We note that `WRITEONLY` members do not appear in the `read` port."
   ]
  },
  {
   "cell_type": "code",
   "execution_count": 13,
   "id": "18d6ab87-8efb-40af-a75d-87e9ade6ab68",
   "metadata": {},
   "outputs": [
    {
     "data": {
      "text/plain": [
       "{'ex': <regsig_write.ex>,\n",
       " 'inv': <regsig_write.inv>,\n",
       " 'mode': <regsig_write.mode>}"
      ]
     },
     "execution_count": 13,
     "metadata": {},
     "output_type": "execute_result"
    }
   ],
   "source": [
    "rs.write.members()"
   ]
  },
  {
   "cell_type": "code",
   "execution_count": 14,
   "id": "b71e1462-6a17-4e79-94e5-44debbe99ef0",
   "metadata": {},
   "outputs": [
    {
     "data": {
      "text/plain": [
       "{'read': {`<class '__main__.regsig_read'>` | 'im', 'ex', 'mode'},\n",
       " 'write': {`<class '__main__.regsig_write'>` | 'ex', 'inv', 'mode'}}"
      ]
     },
     "execution_count": 14,
     "metadata": {},
     "output_type": "execute_result"
    }
   ],
   "source": [
    "rs.get_children()"
   ]
  },
  {
   "cell_type": "markdown",
   "id": "5df592bf-be94-489a-9991-d91b90f9fe85",
   "metadata": {},
   "source": [
    "### RegisterSignal with sensitivity\n",
    "\n",
    "Sometimes, logic wants to be notified in particular when a value is written. A register signal therefore can be flagged `WRITEONLY | VOLATILE` as a whole.\n",
    "\n",
    "Whenever a CPU is writing a new value, a separate `select` pin is pulsed.\n",
    "\n",
    "Note that `flags` is specified in the register argument. The `VOLATILE` flag is **not** supported for single bit fields, as it was considered deprecated design practise."
   ]
  },
  {
   "cell_type": "code",
   "execution_count": 15,
   "id": "4cab92ce-5195-40c2-9608-278921927e9c",
   "metadata": {},
   "outputs": [],
   "source": [
    "r1 = Reg(16,\n",
    "    [\n",
    "        BF(\"data\", 7, 0),\n",
    "    ], flags = Reg.VOLATILE | Reg.WRITEONLY\n",
    ")"
   ]
  },
  {
   "cell_type": "code",
   "execution_count": 16,
   "id": "d4f049e9-bdc0-4aa0-aa4c-baabe443aefd",
   "metadata": {},
   "outputs": [
    {
     "data": {
      "text/plain": [
       "{'read': {`<class '__main__.regsig_read'>` | 'data'},\n",
       " 'write': {`<class '__main__.regsig_write'>` | 'data'},\n",
       " 'select': {`<class '__main__.regsig_sel'>` | 'sel_w'}}"
      ]
     },
     "execution_count": 16,
     "metadata": {},
     "output_type": "execute_result"
    }
   ],
   "source": [
    "rs = RegisterSignal(\"regsig\", template = r1)\n",
    "rs.get_children()"
   ]
  },
  {
   "cell_type": "markdown",
   "id": "75db151c-e90b-49ad-98a5-9f80b2403df7",
   "metadata": {},
   "source": [
    "We can access this select signal as follows:"
   ]
  },
  {
   "cell_type": "code",
   "execution_count": 17,
   "id": "7e9c6a76-ae43-4f75-94b4-93e7cb0ea74c",
   "metadata": {},
   "outputs": [
    {
     "data": {
      "text/plain": [
       "1"
      ]
     },
     "execution_count": 17,
     "metadata": {},
     "output_type": "execute_result"
    }
   ],
   "source": [
    "len(rs.select.sel_w)"
   ]
  },
  {
   "cell_type": "markdown",
   "id": "52dd2f83-3941-424f-8726-848393228a29",
   "metadata": {},
   "source": [
    "## Examples\n",
    "\n",
    "* [Cross clock domain passing of register values](xclkdomain.ipynb#Register-passing)"
   ]
  }
 ],
 "metadata": {
  "kernelspec": {
   "display_name": "Python 3 (ipykernel)",
   "language": "python",
   "name": "python3"
  },
  "language_info": {
   "codemirror_mode": {
    "name": "ipython",
    "version": 3
   },
   "file_extension": ".py",
   "mimetype": "text/x-python",
   "name": "python",
   "nbconvert_exporter": "python",
   "pygments_lexer": "ipython3",
   "version": "3.10.0"
  }
 },
 "nbformat": 4,
 "nbformat_minor": 5
}

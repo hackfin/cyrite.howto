{
 "cells": [
  {
   "cell_type": "markdown",
   "id": "824423f3-b505-4f1c-a72a-16c694d33db5",
   "metadata": {},
   "source": [
    "# High level synthesis introduction\n",
    "\n",
    "The cyrite `hls` subsystem provides a few library auxiliaries to enable generation of digital signal processing pipelines for various architectures.\n",
    "\n",
    "Unlike other HLS tools, the `hls` subsystem does not provide a ready-made solution to translate a C alike routine into hardware elements. The work flow is more like:\n",
    "\n",
    "* Take a Python processing routine as prototype\n",
    "* Transform this routine into processing parts in another notation that translates to a pipeline\n",
    "* Verify that the numerical errors are within a certain range -- this is relevant when moving from float to fixed point elements\n",
    "* Specify a synthesis rule in the parenting context that:\n",
    "    * Emits the code into pure hardware elements for direct synthesis, suitable for co-simulation\n",
    "    * Maps micro-code to perform the calculations using a **fixed** set of arithmetic primitives\n",
    "    * Outputs HDL core for verification purposes\n",
    "* Reuse the same 'trusted' code for various target verification flows\n",
    "\n",
    "By default, the `hls` subsystem works with fixed point arithmetics internally and uses float types only for interfacing. The core wire type is`flexbv`: an `intbv` derivation that can have some adaptive properties within a pipeline.\n",
    "\n",
    "For this introduction, we use `intbv` however (for the time being)."
   ]
  },
  {
   "cell_type": "markdown",
   "id": "b0329148-c858-4b03-8aa1-991a9c940685",
   "metadata": {},
   "source": [
    "## Pipelines\n",
    "\n",
    "When a series of values is to be processed at each clock cycle using several operations such as multiplications chained with additions (like matrix multiplications), pipelines come into play. The general philosophy of a `hls` style processing description is to separate the description of the calculation steps from the actual inference rules.\n",
    "The caller thus decides, according to the `@pipeline` decorator, on how to lay out the resulting HDL.\n",
    "\n",
    "Therefore, a `@pipeline` style RTL function reads like a sequential description of calculation steps that are returned using `yield` in the explicit MyIRL notation."
   ]
  },
  {
   "cell_type": "markdown",
   "id": "e08ad4cb-3469-48e3-bdcb-009927bd52f4",
   "metadata": {},
   "source": [
    "The following unit implements a simple addition with a pipeline of depth one, obviously."
   ]
  },
  {
   "cell_type": "code",
   "execution_count": 1,
   "id": "4a967944-c276-4db1-9bcc-95aac7ffb259",
   "metadata": {},
   "outputs": [],
   "source": [
    "from cyrite.library.hls.mypipe import pipelined_block, pipelined, pipe\n",
    "from cyhdl import *\n",
    "\n",
    "PS = pipelined(Signal)\n",
    "PipeEn = PS.Type(bool)\n",
    "\n",
    "@pipelined_block\n",
    "def unit_add(clk : ClkSignal, ce : PipeEn, valid: PipeEn.Output,\n",
    "\ta  : PS, b : PS, q : PS.Output):\n",
    "\n",
    "\tz = q.clone()\n",
    "\n",
    "\t@pipe(clk, None, ce, None, valid)\n",
    "\tdef gen_add(ctx):\n",
    "\t\tyield [\n",
    "\t\t\tz .set (a + b)\n",
    "\t\t]\n",
    "\t\t\n",
    "\twires = [\n",
    "\t\tq.wireup(z)\n",
    "\t]\n",
    "\treturn locals()\n"
   ]
  },
  {
   "cell_type": "markdown",
   "id": "cd92de9b-60b9-4643-8378-f24d0215102b",
   "metadata": {},
   "source": [
    "Note:\n",
    "\n",
    "* The `@pipe` decorator denotes that a pipeline is to be created from the `gen_add` generator routine. It requires a ClkSignal as parameter.\n",
    "* Every `yield []` statement generates a pipeline stage. No transpilation is taking place in this context, but you can call `@rtl_function`s.\n",
    "* For latency accounting, a specific `pipelined()` construct is used create a specific `PipelinedTracker` type class.\n",
    "* The output port (here `q`) can not be assigned to within the pipeline. A separate `.wireup` statement is required.\n",
    "\n",
    "We now perform an analysis on this unit as follows:"
   ]
  },
  {
   "cell_type": "code",
   "execution_count": 2,
   "id": "2c655302-758b-4d43-99ef-8dd0732163c9",
   "metadata": {},
   "outputs": [],
   "source": [
    "clk = ClkSignal()\n",
    "dv0, dv1 = [ PipeEn() for _ in range(2) ]\n",
    "a, b = [ PS(intbv()[6:]) for _ in range(2) ]\n",
    "q = PS(intbv()[7:])\n",
    "\n",
    "u = unit_add(clk, dv0, dv1, a, b, q)\n",
    "u.analyze()"
   ]
  },
  {
   "cell_type": "markdown",
   "id": "08804972-a1bb-4aff-be33-5e49cb026cc9",
   "metadata": {},
   "source": [
    "After analysis, we can verify that the result `q` is delayed with respect to `a` and `b` by a latency of `1`:"
   ]
  },
  {
   "cell_type": "code",
   "execution_count": 3,
   "id": "90625289-768b-47b4-8835-3e09f547537a",
   "metadata": {},
   "outputs": [],
   "source": [
    "assert q.latency() == 1"
   ]
  },
  {
   "cell_type": "markdown",
   "id": "4accea2d-77a9-42a4-b3b5-4fda9cf095ed",
   "metadata": {},
   "source": [
    "### Pipelined signals and parameters\n",
    "\n",
    "In more complex, parallel computing units, it has to be ensured that latencies match. Assume we are adding two values that are computed by separately running pipelines, in this case the latencies must be the same.\n",
    "\n",
    "In case of an accumulation (e.g. `z.set(z + r)`) however, a latency check would not make sense.\n",
    "\n",
    "The default `pipelined()` signal class factory performs simple latency checks within pipeline generation. We exercise this later with a deeper pipeline."
   ]
  },
  {
   "cell_type": "markdown",
   "id": "72d9fed2-c380-4726-b28b-507daf72ff1c",
   "metadata": {},
   "source": [
    "## Example #1: Complex multiplication\n",
    "\n",
    "Let us calculate a simple complex multiplication. However, myirl has no support for the builtin `complex` data type, therefore we need to yet be verbose:"
   ]
  },
  {
   "cell_type": "code",
   "execution_count": 4,
   "id": "f1b59dda-de15-4bbd-9309-caa0cdb9e3a2",
   "metadata": {},
   "outputs": [],
   "source": [
    "ra, ia = [ PS(intbv()[12:]) for _ in range(2) ]\n",
    "rb, ib = [ PS(intbv()[12:]) for _ in range(2) ]"
   ]
  },
  {
   "cell_type": "markdown",
   "id": "d588f101-c677-4e2a-97c2-5366ff5f8613",
   "metadata": {},
   "source": [
    "A multiplication of such a complex value pair would be performed as follows:"
   ]
  },
  {
   "cell_type": "code",
   "execution_count": 5,
   "id": "129ae6c3-9390-40ec-8f58-70bd3b9443f5",
   "metadata": {},
   "outputs": [
    {
     "data": {
      "text/plain": [
       "SUB(MUL(s_4021:0, s_e6f4:0), MUL(s_fb97:0, s_bad6:0))"
      ]
     },
     "execution_count": 5,
     "metadata": {},
     "output_type": "execute_result"
    }
   ],
   "source": [
    "rq_op = ra * rb - ia * ib\n",
    "iq_op = ra * ib + rb * ia\n",
    "rq_op"
   ]
  },
  {
   "cell_type": "code",
   "execution_count": 6,
   "id": "b013f486-9da7-4a84-82cc-d96d9ed3a848",
   "metadata": {},
   "outputs": [],
   "source": [
    "@pipelined_block\n",
    "def unit_cmul(clk : ClkSignal, ce : PipeEn, valid: PipeEn.Output,\n",
    "        ra  : PS, ia : PS, rb : PS, ib : PS,\n",
    "        rq : PS.Output,\n",
    "        iq : PS.Output):\n",
    "\n",
    "    N = len(ra) * 2\n",
    "    rz = [ PS(intbv()[N:]) for _ in range(2) ]\n",
    "    iz = [ PS(intbv()[N:]) for _ in range(2) ]\n",
    "    x, y = [ PS(intbv()[N+1:]) for _ in range(2) ]\n",
    "\n",
    "    @pipe(clk, None, ce, None, valid)\n",
    "    def gen_cmul(ctx):\n",
    "        # Stage 0:\n",
    "        yield [\n",
    "            rz[0].set(ra * rb),\n",
    "            rz[1].set(ia * ib),\n",
    "            iz[0].set(ra * ib),\n",
    "            iz[1].set(rb * ia)\n",
    "        ]\n",
    "        # Stage 1:\n",
    "        yield [\n",
    "            x.set(rz[0] - rz[1]),\n",
    "            y.set(iz[0] + iz[1])\n",
    "        ]\n",
    "        \n",
    "    wires = [\n",
    "        rq.wireup(x), iq.wireup(y)\n",
    "    ]\n",
    "    return locals()\n"
   ]
  },
  {
   "cell_type": "code",
   "execution_count": 7,
   "id": "35fe2768-e204-4ffe-ab9c-d25b4589d5c6",
   "metadata": {},
   "outputs": [],
   "source": [
    "rq, iq = [ PS(intbv()[25:]) for _ in range(2) ]\n",
    "\n",
    "u = unit_cmul(clk, dv0, dv1, ra, ia, rb, ib, rq, iq)"
   ]
  },
  {
   "cell_type": "code",
   "execution_count": 8,
   "id": "902229d0-f67d-4602-b950-e48cd3b3ff6f",
   "metadata": {
    "scrolled": true
   },
   "outputs": [],
   "source": [
    "u.analyze()\n",
    "assert rq.latency() == 2"
   ]
  },
  {
   "cell_type": "markdown",
   "id": "8383620e-86c6-4588-8504-27b8bf30f9cf",
   "metadata": {},
   "source": [
    "We note:\n",
    "* A pipeline inference would allocate four multiplier elements in hardware for stage '0' and two adders for stage '1'\n",
    "* We might actually split this up in two configureable multiplier/adder units using a 'subtract' option.\n",
    "\n",
    "First, we create hardware elements and run this unit in a basic HDL simulation."
   ]
  },
  {
   "cell_type": "markdown",
   "id": "f3af07e8-8961-423e-bdf9-e6960658246e",
   "metadata": {},
   "source": [
    "### Simulation\n",
    "\n",
    "For simulation, we feed a few values and delay a computed result through a `.delayed(clk, cycles)` signal delay composite type (which creates a signal and instances a `sigdelay` unit at the same time). The compare unit `cmp` compares those two results and throws an assertion exception if they mismatch.\n",
    "\n",
    "Now the question is, where do we want to do the actual calculation of the result:\n",
    "* Pure native Python?\n",
    "* Transpiled HDL language?\n",
    "\n",
    "Because everything inside a specific HDL test bench's `@sequence` function is transpiled, we need to do Python native calculations the explicite way outside the test bench in a special generator function, `@evalmacro`. This auxiliary allows to separate native execution from what is actually emitted to HDL. However, unlike a hdlmacro, it allows evaluation of passed iterators at the time where emission to HDL occurs."
   ]
  },
  {
   "cell_type": "code",
   "execution_count": 9,
   "id": "24143ecd-5879-4bd3-a1da-56dba74c68b5",
   "metadata": {},
   "outputs": [],
   "source": [
    "from cyrite.simulation import sim, ghdl\n",
    "from cyhdl import *\n",
    "from myirl.library.custom_generators import evalmacro\n",
    "\n",
    "@evalmacro\n",
    "def calc_complex(values, isig):\n",
    "    \"Do a complex calculation in the Python native domain and return a generator assignment\"\n",
    "    ra, ia, rb, ib = values.evaluate()\n",
    "    print(\"EVAL MACRO[%d]\" % values.index, ra, ia, rb, ib)\n",
    "    va = complex(ra, ia)\n",
    "    vb = complex(rb, ib)\n",
    "    z = va * vb\n",
    "    yield [\n",
    "        isig[0].set(int(z.real)),\n",
    "        isig[1].set(int(z.imag))\n",
    "    ]"
   ]
  },
  {
   "cell_type": "markdown",
   "id": "3f9c6c8c-defc-4c3e-a721-7cf776966a8e",
   "metadata": {},
   "source": [
    "### Test bench unrolling\n",
    "Now we create the test bench. Because we might want to extend such a design later, we create a `cyrite_factory.Module` class with a testbench method.\n",
    "\n",
    "Inside the sequential part of the testbench, we pass a series of test values in a sequential way that are run through the evaluating macro function. Meanwhile, the test values are passed through the generated HDL.\n",
    "\n",
    "Because the `@evalmacro` runs in the Python domain and we don't create a HDL procedure from it, the test value series iteration actually unrolls in the resulting HDL."
   ]
  },
  {
   "cell_type": "code",
   "execution_count": 10,
   "id": "a88bfb26-e3d2-4514-9a0e-c47f9cc6dcab",
   "metadata": {},
   "outputs": [],
   "source": [
    "class TBDesign(cyrite_factory.Module):\n",
    "\n",
    "    @cyrite_factory.testbench('ns')\n",
    "    def tb_unit(self, signals : dict, unit):\n",
    "        for n, s in signals.items():\n",
    "            s.rename(n)\n",
    "        clk = signals['clk']\n",
    "        uut = unit(**signals)\n",
    "    \n",
    "        # We analyze the `uut` now in order to\n",
    "        # retrieve the latency of the output signal\n",
    "        uut.analyze(targets.VHDL)\n",
    "        LATENCY = signals['rq'].latency()\n",
    "    \n",
    "        # Create an internal signal with same properties\n",
    "        # as the result signal:\n",
    "        int_r = signals['rq'].clone(), signals['iq'].clone()\n",
    "    \n",
    "        # Create a FIFO delay line:\n",
    "        del_r0 = [ i.delayed(clk, LATENCY) for i in int_r ]\n",
    "        \n",
    "        @self.always(delay(2))\n",
    "        def clkgen():\n",
    "            clk.next = ~clk\n",
    "    \n",
    "        @self.always(clk.posedge)\n",
    "        def cmp():\n",
    "            if signals['valid']:\n",
    "                print(\"DEBUG SIG\", signals['rq'], signals['iq'])\n",
    "                assert del_r0[0] == signals['rq']\n",
    "                assert del_r0[1] == signals['iq']\n",
    "    \n",
    "    \n",
    "        @self.sequence\n",
    "        def main():\n",
    "            signals['ce'].next = False\n",
    "            yield delay(10)\n",
    "            yield clk.negedge\n",
    "    \n",
    "            signals['ce'].next = True\n",
    "    \n",
    "            for values in [ (1, 0, 0, 1), (2, 1, 2, 2), (4, 2, 1, 0) ]:\n",
    "                signals['ra'].next = values[0]\n",
    "                signals['ia'].next = values[1]\n",
    "                signals['rb'].next = values[2]\n",
    "                signals['ib'].next = values[3]\n",
    "                calc_complex(values, int_r) # Must use explicit, nonportable call to macro\n",
    "                \n",
    "                yield clk.negedge\n",
    "                \n",
    "            signals['ce'].next = False\n",
    "    \n",
    "            yield delay(20)\n",
    "            raise StopSimulation\n",
    "        return locals()\n",
    "            "
   ]
  },
  {
   "cell_type": "markdown",
   "id": "37c29727-72c0-4e1e-9183-f8b9522af03c",
   "metadata": {},
   "source": [
    "We create a set of signals to pass to the test bench as one possible signal configuration. Here, we still define the sizes explicitely and use `intbv`:"
   ]
  },
  {
   "cell_type": "code",
   "execution_count": 11,
   "id": "f5b2f264-c3a3-437f-9aea-d34518426506",
   "metadata": {},
   "outputs": [],
   "source": [
    "N, M = 12, 25\n",
    "\n",
    "signals = {\n",
    "    'clk' : ClkSignal(),\n",
    "    'ce' : PipeEn(),\n",
    "    'valid' : PipeEn(),\n",
    "    'ra'    : PS(intbv()[N:]),\n",
    "    'ia'    : PS(intbv()[N:]),\n",
    "    'rb'    : PS(intbv()[N:]),\n",
    "    'ib'    : PS(intbv()[N:]),\n",
    "    'rq'    : PS(intbv()[M:]),\n",
    "    'iq'    : PS(intbv()[M:])\n",
    "}"
   ]
  },
  {
   "cell_type": "markdown",
   "id": "3f2ad49c-848b-4c7b-980e-e1e2d0e5f105",
   "metadata": {},
   "source": [
    "Then instance the test bench and run:"
   ]
  },
  {
   "cell_type": "code",
   "execution_count": 12,
   "id": "9289acf2-1e0f-45f3-8ad6-7df1970501db",
   "metadata": {},
   "outputs": [
    {
     "name": "stdout",
     "output_type": "stream",
     "text": [
      "\u001b[7;35m Declare obj 'tb_unit' in context '(TBDesign 'tb')'(<class '__main__.TBDesign'>) \u001b[0m\n",
      "\u001b[32m Module tb: Existing instance unit_cmul, rename to unit_cmul_1 \u001b[0m\n",
      "\u001b[7;35m Declare obj 'sigdelay' in context '(TBDesign 'tb')'(<class '__main__.TBDesign'>) \u001b[0m\n",
      "\u001b[32m DEBUG Inline instance [CompInline 'sigdelay/sigdelay'] \u001b[0m\n",
      "\u001b[32m DEBUG Inline instance [CompInline 'sigdelay/sigdelay'] \u001b[0m\n"
     ]
    }
   ],
   "source": [
    "m = TBDesign(\"tb\", ghdl.GHDL)\n",
    "\n",
    "tb = m.tb_unit(signals, unit_cmul)\n",
    "# print(tb_unit.obj.unparse())"
   ]
  },
  {
   "cell_type": "code",
   "execution_count": 13,
   "id": "a0a3132e-8bef-45b9-a51d-2723d45bf2b0",
   "metadata": {},
   "outputs": [
    {
     "name": "stdout",
     "output_type": "stream",
     "text": [
      "EVAL MACRO[0] 1 0 0 1\n",
      " Writing 'sigdelay' to file /tmp/sigdelay.vhdl \n",
      " Writing 'unit_cmul_1' to file /tmp/unit_cmul_1.vhdl \n",
      " Writing 'tb_unit' to file /tmp/tb_unit.vhdl \n",
      "EVAL MACRO[0] 1 0 0 1\n",
      "EVAL MACRO[1] 2 1 2 2\n",
      "EVAL MACRO[2] 4 2 1 0\n",
      " Creating library file /tmp/module_defs.vhdl \n",
      "DEBUG_FILES ['/tmp/sigdelay.vhdl', '/tmp/unit_cmul_1.vhdl', '/tmp/tb_unit.vhdl', '/tmp/module_defs.vhdl', '/home/cyrite/.local/lib/python3.10/site-packages/cyritehdl-0.1b0-py3.10-linux-x86_64.egg/myirl/targets/vhdl/libmyirl.vhdl', '/home/cyrite/.local/lib/python3.10/site-packages/cyritehdl-0.1b0-py3.10-linux-x86_64.egg/myirl/targets/vhdl/txt_util.vhdl']\n",
      "==== COSIM stdout ====\n",
      "analyze /home/cyrite/.local/lib/python3.10/site-packages/cyritehdl-0.1b0-py3.10-linux-x86_64.egg/myirl/targets/vhdl/txt_util.vhdl\n",
      "analyze /home/cyrite/.local/lib/python3.10/site-packages/cyritehdl-0.1b0-py3.10-linux-x86_64.egg/myirl/targets/vhdl/libmyirl.vhdl\n",
      "analyze /tmp/unit_cmul_1.vhdl\n",
      "analyze /tmp/sigdelay.vhdl\n",
      "analyze /tmp/tb_unit.vhdl\n",
      "elaborate tb_unit\n",
      "\n",
      "==== COSIM stdout ====\n",
      "DEBUG SIG 0x0000000 0x0000001\n",
      "DEBUG SIG 0x0000002 0x0000006\n",
      "DEBUG SIG 0x0000004 0x0000002\n",
      "simulation stopped @44ns\n",
      "\n"
     ]
    },
    {
     "data": {
      "text/plain": [
       "0"
      ]
     },
     "execution_count": 13,
     "metadata": {},
     "output_type": "execute_result"
    }
   ],
   "source": [
    "tb.run(200, debug = True, wavetrace= True)"
   ]
  },
  {
   "cell_type": "markdown",
   "id": "b85afdd7-3b1d-482d-afb3-b05e6513680f",
   "metadata": {},
   "source": [
    "### Wave trace\n",
    "\n",
    "Using the code below, we dump a few selected signals from the wave trace and display them."
   ]
  },
  {
   "cell_type": "code",
   "execution_count": 14,
   "id": "96d1d121-2f11-4c14-90bf-3f36047e753a",
   "metadata": {},
   "outputs": [],
   "source": [
    "from cyrite.waveutils import draw_wavetrace\n",
    "selection = {\n",
    "    'tb_unit.clk' : None,\n",
    "    'tb_unit.ce' : None,\n",
    "    'tb_unit.ra[11:0]' : None,\n",
    "    'tb_unit.rb[11:0]' : None,\n",
    "    'tb_unit.ia[11:0]' : None,\n",
    "    'tb_unit.ib[11:0]' : None,\n",
    "    'tb_unit.valid' : None,\n",
    "\n",
    "    'tb_unit.rq[24:0]' : None,\n",
    "    'tb_unit.iq[24:0]' : None\n",
    "}"
   ]
  },
  {
   "cell_type": "code",
   "execution_count": 15,
   "id": "9f051339-f457-4849-a550-ba462545a3c2",
   "metadata": {},
   "outputs": [
    {
     "data": {
      "text/html": [
       "<div><script type=\"WaveDrom\">{\"signal\": [{\"name\": \"tb_unit.clk\", \"wave\": \"0101010101010101010101\", \"data\": \"0101010101010101010101\"}, {\"name\": \"tb_unit.ce\", \"wave\": \"0.....1.....0.........\", \"data\": \"010\"}, {\"name\": \"tb_unit.ra[11:0]\", \"wave\": \"u.....=.=.=...........\", \"data\": \"01 02 04 \"}, {\"name\": \"tb_unit.rb[11:0]\", \"wave\": \"u.....=.=.=...........\", \"data\": \"00 02 01 \"}, {\"name\": \"tb_unit.ia[11:0]\", \"wave\": \"u.....=.=.=...........\", \"data\": \"00 01 02 \"}, {\"name\": \"tb_unit.ib[11:0]\", \"wave\": \"u.....=.=.=...........\", \"data\": \"01 02 00 \"}, {\"name\": \"tb_unit.valid\", \"wave\": \"u..0.....1.....0......\", \"data\": \"010\"}, {\"name\": \"tb_unit.rq[24:0]\", \"wave\": \"u........=.=.=........\", \"data\": \"00 02 04 \"}, {\"name\": \"tb_unit.iq[24:0]\", \"wave\": \"u........=.=.=........\", \"data\": \"01 06 02 \"}]}</script></div>"
      ]
     },
     "metadata": {},
     "output_type": "display_data"
    },
    {
     "data": {
      "application/javascript": [
       "new Promise(function(resolve, reject) {\n",
       "\tvar script = document.createElement(\"script\");\n",
       "\tscript.onload = resolve;\n",
       "\tscript.onerror = reject;\n",
       "\tscript.src = \"https://wavedrom.com/wavedrom.min.js\";\n",
       "\tdocument.head.appendChild(script);\n",
       "}).then(() => {\n",
       "new Promise(function(resolve, reject) {\n",
       "\tvar script = document.createElement(\"script\");\n",
       "\tscript.onload = resolve;\n",
       "\tscript.onerror = reject;\n",
       "\tscript.src = \"https://wavedrom.com/skins/narrow.js\";\n",
       "\tdocument.head.appendChild(script);\n",
       "}).then(() => {\n",
       "WaveDrom.ProcessAll();\n",
       "});\n",
       "});"
      ]
     },
     "metadata": {},
     "output_type": "display_data"
    }
   ],
   "source": [
    "draw_wavetrace(tb, 'tb_unit.vcd', sample_clk = 'clk', cfg = selection)"
   ]
  },
  {
   "cell_type": "markdown",
   "id": "f5b9249a-de95-4aa8-ad98-36ba2ec68917",
   "metadata": {},
   "source": [
    "Here we can clearly see that the results are delayed by two clock cycles with respect to the input."
   ]
  },
  {
   "cell_type": "markdown",
   "id": "2fce74a6-82c0-4079-a79c-fcd92587185e",
   "metadata": {},
   "source": [
    "### Conclusion\n",
    "\n",
    "Using the `calc_complex` generator function, we calculate the results in native python and emit the literal result value to the HDL test bench which is asserting the values match using a compare and delayed signals. This way we probe a set of values using a HDL simulator.\n",
    "\n",
    "Another option would be to use Co-Simulation. Here, we would not need to do any out of band tricks, as everything on the test bench level would be running natively in Python.\n",
    "\n",
    "A few more notable points:\n",
    "* The macro is called once at creation time to collect drivers and sources from the logic it will generate\n",
    "* Unlike a `@hdlmacro`, it is repeatedly called during emission, i.e. here another N times during the `for` iteration. The logic is then generated ad-hoc after evaluation of the iterator values."
   ]
  }
 ],
 "metadata": {
  "kernelspec": {
   "display_name": "Python 3 (ipykernel)",
   "language": "python",
   "name": "python3"
  },
  "language_info": {
   "codemirror_mode": {
    "name": "ipython",
    "version": 3
   },
   "file_extension": ".py",
   "mimetype": "text/x-python",
   "name": "python",
   "nbconvert_exporter": "python",
   "pygments_lexer": "ipython3",
   "version": "3.10.0"
  }
 },
 "nbformat": 4,
 "nbformat_minor": 5
}

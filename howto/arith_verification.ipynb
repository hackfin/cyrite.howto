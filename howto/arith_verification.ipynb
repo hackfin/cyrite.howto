{
 "cells": [
  {
   "cell_type": "markdown",
   "id": "c7ea9120-e110-4adf-a414-811e4c1264ac",
   "metadata": {},
   "source": [
    "# Bit vector arithmetics (verification)\n",
    "\n",
    "The cyrite library and kernel is coming from a signal processing background where arithmetic operations are pipelined. This implies extended requirements to signal data types.\n",
    "\n",
    "The MyHDL originating `intbv` data was regarded as 'state of the art' with respect to simplicity and numeric stability, however there are still issues to be pointed out when conversion to VHDL and Verilog comes into play. This is a short introduction giving you an idea what to watch out for."
   ]
  },
  {
   "cell_type": "markdown",
   "id": "4707457e-c229-4f2c-b1f3-de95162bd899",
   "metadata": {},
   "source": [
    "### The intbv data type\n",
    "\n",
    "An intbv is a priori an integer value in a certain range. In hardware, it is a bit vector. Let us just define two signals using `intbv` wires. We can here use different notations:"
   ]
  },
  {
   "cell_type": "code",
   "execution_count": 1,
   "id": "4e358339-400d-4831-9c02-668778672036",
   "metadata": {},
   "outputs": [],
   "source": [
    "from cyhdl import *\n",
    "\n",
    "a = Signal(intbv(min=-12, max = 18), name = 'a')\n",
    "bu = Signal(intbv()[7:], name = 'bu')\n",
    "bs = Signal(intbv()[7:].signed(), name = 'bs')\n",
    "c = Signal(intbv()[8:], name = 'c')\n",
    "d = Signal(intbv()[12:].signed(), name = 'd')"
   ]
  },
  {
   "cell_type": "markdown",
   "id": "e4b4d244-8ee2-4d21-9c71-b64df7eadfe4",
   "metadata": {},
   "source": [
    "For `a`, the length is implicit:"
   ]
  },
  {
   "cell_type": "code",
   "execution_count": 2,
   "id": "7f69f116-0fed-4ce7-bd68-8d23e322f1d6",
   "metadata": {},
   "outputs": [
    {
     "data": {
      "text/plain": [
       "(6, True)"
      ]
     },
     "execution_count": 2,
     "metadata": {},
     "output_type": "execute_result"
    }
   ],
   "source": [
    "len(a), a.is_signed()"
   ]
  },
  {
   "cell_type": "markdown",
   "id": "ccb7e21e-9e92-4eaa-af2e-e1f631938454",
   "metadata": {},
   "source": [
    "We now define a few expressions of additions and use the .evaluate() function to verify the arithmetics.\n",
    "\n",
    "Here in interactive mode we don't use the `.next` style assignment but the internal representations's '.set()' method:"
   ]
  },
  {
   "cell_type": "code",
   "execution_count": 3,
   "id": "4b3edcc6-4c2f-456f-9ae0-d6d12df3f655",
   "metadata": {},
   "outputs": [],
   "source": [
    "assign = bs.set(0x40)"
   ]
  },
  {
   "cell_type": "markdown",
   "id": "dede7fcc-ccda-4f64-a6bb-8230715aea33",
   "metadata": {},
   "source": [
    "Evaluating this assignment actually performs the initialization, but it is expected to fail:"
   ]
  },
  {
   "cell_type": "code",
   "execution_count": 4,
   "id": "2daf2f39-6e36-4452-b774-b9c85727dec8",
   "metadata": {},
   "outputs": [
    {
     "name": "stdout",
     "output_type": "stream",
     "text": [
      "Error: ('intbv value 64 >= maximum 64',)\n"
     ]
    }
   ],
   "source": [
    "try:\n",
    "    assign.evaluate()\n",
    "except ValueError as e:\n",
    "    print(\"Error:\", e.args)"
   ]
  },
  {
   "cell_type": "markdown",
   "id": "d9ba0a13-5036-4998-ae5e-da2ea463d064",
   "metadata": {},
   "source": [
    "We try again and run an addition:"
   ]
  },
  {
   "cell_type": "code",
   "execution_count": 5,
   "id": "44b3f2f1-1c6a-47c2-9d19-dff28d9ec2dd",
   "metadata": {},
   "outputs": [],
   "source": [
    "statements = [\n",
    "    bs.set(0x20),\n",
    "    c.set(bs + bs)\n",
    "]"
   ]
  },
  {
   "cell_type": "markdown",
   "id": "65a16289-f4f9-4b66-915e-6289ba941fca",
   "metadata": {},
   "source": [
    "We observe though that `bs` is a signed value whereas the result `c` is unsigned. If is was signed, we would get an overflow.\n",
    "When evaluating this statement chain, we should see a `0x40` as a result:"
   ]
  },
  {
   "cell_type": "code",
   "execution_count": 6,
   "id": "67b03ec4-90d6-49f2-ae1a-ed10332fb9b6",
   "metadata": {},
   "outputs": [
    {
     "data": {
      "text/plain": [
       "'0x40'"
      ]
     },
     "execution_count": 6,
     "metadata": {},
     "output_type": "execute_result"
    }
   ],
   "source": [
    "for stmt in statements:\n",
    "    v = stmt.evaluate()\n",
    "\n",
    "hex(v)"
   ]
  },
  {
   "cell_type": "markdown",
   "id": "d2d331b4-623b-4259-8354-b9e1b02881a8",
   "metadata": {},
   "source": [
    "This is just what Python does. When we translate this operation to hardware elements, we may wish to verify it's correctly calculating as well. Because we normally emit to a established HDL understood by hardware synthesis tools, we would like to check this behaviour against its HDL edition."
   ]
  },
  {
   "cell_type": "markdown",
   "id": "c7ee8aad-df2a-40e6-881c-83b23e25c44c",
   "metadata": {},
   "source": [
    "## HDL translation and simulation\n",
    "\n",
    "To output statements to a V*HDL in a granular way, the DummyTargetModule is imported. Emission of statements results in HDL output to the standard output."
   ]
  },
  {
   "cell_type": "code",
   "execution_count": 7,
   "id": "dd53076d-d71f-4bbf-97a3-ce29290567b0",
   "metadata": {},
   "outputs": [
    {
     "name": "stdout",
     "output_type": "stream",
     "text": [
      "\u001b[94mbs <= \"0100000\";\n",
      "\u001b[0m\u001b[94mc <= unsigned((bs + signed(resize(bs, 8))));\n",
      "\u001b[0m"
     ]
    },
    {
     "name": "stderr",
     "output_type": "stream",
     "text": [
      "/home/cyrite/.local/lib/python3.10/site-packages/cyritehdl-0.1b0-py3.10-linux-x86_64.egg/myirl/kernel/_types.py:104: UserWarning: Implicit sign conversion <c> <= ADD(bs, bs)\n",
      "  base.warnings.warn(\"Implicit sign conversion %s <= %s\" % (repr(self), repr(v)))\n"
     ]
    }
   ],
   "source": [
    "from myirl.targets.dummy import DummyTargetModule\n",
    "\n",
    "d = DummyTargetModule(targets.VHDL)\n",
    "# Try targets.Verilog as alternative\n",
    "\n",
    "for stmt in statements:\n",
    "    stmt.emit(d)"
   ]
  },
  {
   "cell_type": "markdown",
   "id": "d670a0b9-b679-40c9-9569-d6f037756fae",
   "metadata": {},
   "source": [
    "### Simulation\n",
    "\n",
    "For the simulation and verification, we may want to pack the above test sequence into a function. We modify it however to add values that are initialized as unsigned, while being cased to signed values before addition.\n",
    "\n",
    "The most generic way to write a functional description that is reusable in various ways is to use a RTL function. A RTL function is always encapsulated by a class structure.\n",
    "\n",
    "Note that we use the '.next' assignment notation here. The reason is that the code below has a dual function, depending on the RTL context:\n",
    "\n",
    "1. It can run as native Python code with Simulation type signals\n",
    "2. It can transpile to HDL, hence it is translated to IRL (the intermediate representation)"
   ]
  },
  {
   "cell_type": "code",
   "execution_count": 8,
   "id": "f2a8590e-1efa-4a73-a9be-f3a39043d869",
   "metadata": {},
   "outputs": [],
   "source": [
    "class RTLMethods:\n",
    "    @rtl_function\n",
    "    def arith_test1(rtl, a, b, q, val):\n",
    "        a.next = val[0]\n",
    "        b.next = val[1]\n",
    "        yield rtl.delay(1)\n",
    "        q.next = a.signed() + b.signed()\n",
    "        yield rtl.delay(1)"
   ]
  },
  {
   "cell_type": "markdown",
   "id": "3635d1be-8eb3-4cb1-8b07-168164c139c9",
   "metadata": {},
   "source": [
    "A RTL function receives the current RTL context as first parameter, not a class instance of `RTLMethods`.\n",
    "\n",
    "When called from a `cyrite_factory.Module` class, `self` is passed as `rtl` context. To allow customization of the delay, it is good practise to use a `yield rtl.delay(1)` call to pass control to the simulator.\n",
    "\n",
    "We write a cyrite_factory module as follows:"
   ]
  },
  {
   "cell_type": "code",
   "execution_count": 9,
   "id": "64083760-0a54-429d-af0b-efe4a1fe9301",
   "metadata": {},
   "outputs": [],
   "source": [
    "from cyrite.simulation import sim, ghdl, icarus\n",
    "\n",
    "class MyDesign(cyrite_factory.Module):\n",
    "    _rtl = RTLMethods\n",
    "    def delay(self, val):\n",
    "        return delay(val)\n",
    "    @cyrite_factory.testbench('ns')\n",
    "    def tb_arith(self):\n",
    "        @self.sequence\n",
    "        def main():\n",
    "            yield from self._rtl.arith_test1(self.a, self.b, self.q, self.initval)\n",
    "            print(\"RESULT\", self.q)\n",
    "            assert self.q == self.expected_result\n",
    "            print(\"Simulation done.\")\n",
    "            raise StopSimulation\n",
    "    \n",
    "        return instances()\n",
    "        "
   ]
  },
  {
   "cell_type": "markdown",
   "id": "52771ecb-8ba6-4934-ae90-33cc84cd08a8",
   "metadata": {},
   "source": [
    "Then we call the test bench. We add one bit of head room to the destination signal in order to avoid truncation."
   ]
  },
  {
   "cell_type": "code",
   "execution_count": 10,
   "id": "2d3a76e6-cde0-4806-a6f1-148d3256f901",
   "metadata": {},
   "outputs": [
    {
     "name": "stdout",
     "output_type": "stream",
     "text": [
      "\u001b[7;35m Declare obj 'tb_arith' in context '(MyDesign 'design')'(<class '__main__.MyDesign'>) \u001b[0m\n",
      " Writing 'tb_arith' to file /tmp/tb_arith.vhdl \n",
      " Creating library file /tmp/module_defs.vhdl \n",
      "DEBUG_FILES ['/tmp/tb_arith.vhdl', '/tmp/module_defs.vhdl']\n"
     ]
    },
    {
     "name": "stderr",
     "output_type": "stream",
     "text": [
      "/home/cyrite/.local/lib/python3.10/site-packages/cyritehdl-0.1b0-py3.10-linux-x86_64.egg/myirl/kernel/_types.py:104: UserWarning: Implicit sign conversion <c> <= ADD(SGN(<a>), SGN(<b>))\n",
      "  base.warnings.warn(\"Implicit sign conversion %s <= %s\" % (repr(self), repr(v)))\n"
     ]
    },
    {
     "name": "stdout",
     "output_type": "stream",
     "text": [
      "==== COSIM stdout ====\n",
      "analyze /home/cyrite/.local/lib/python3.10/site-packages/cyritehdl-0.1b0-py3.10-linux-x86_64.egg/myirl/targets/../test/vhdl/txt_util.vhdl\n",
      "analyze /home/cyrite/.local/lib/python3.10/site-packages/cyritehdl-0.1b0-py3.10-linux-x86_64.egg/myirl/targets/libmyirl.vhdl\n",
      "analyze /tmp/tb_arith.vhdl\n",
      "elaborate tb_arith\n",
      "\n",
      "==== COSIM stdout ====\n",
      "RESULT 0x80\n",
      "Simulation done.\n",
      "simulation stopped @2ns\n",
      "\n"
     ]
    },
    {
     "data": {
      "text/plain": [
       "0"
      ]
     },
     "execution_count": 10,
     "metadata": {},
     "output_type": "execute_result"
    }
   ],
   "source": [
    "m = MyDesign(\"design\", ghdl.GHDL)\n",
    "m.a, m.b = ( Signal(intbv()[7:], name = n) for n in \"ab\")\n",
    "m.q = Signal(intbv()[8:], name = 'c')\n",
    "\n",
    "m.initval, m.expected_result = (0x40, 0x40), 0x80\n",
    "tb = m.tb_arith()\n",
    "tb.run(200, debug = True)"
   ]
  },
  {
   "cell_type": "markdown",
   "id": "40a7ad84-8d51-4aa8-b8e2-68a392db220e",
   "metadata": {},
   "source": [
    "We do this again with different values, to verify signed casting does the right thing."
   ]
  },
  {
   "cell_type": "code",
   "execution_count": 11,
   "id": "76c1833c-cd40-4309-b743-157ef028196f",
   "metadata": {},
   "outputs": [
    {
     "name": "stdout",
     "output_type": "stream",
     "text": [
      " Writing 'tb_arith' to file /tmp/tb_arith.vhdl \n",
      " Creating library file /tmp/module_defs.vhdl \n",
      "DEBUG_FILES ['/tmp/tb_arith.vhdl', '/tmp/module_defs.vhdl']\n"
     ]
    },
    {
     "name": "stderr",
     "output_type": "stream",
     "text": [
      "/home/cyrite/.local/lib/python3.10/site-packages/cyritehdl-0.1b0-py3.10-linux-x86_64.egg/myirl/kernel/_types.py:104: UserWarning: Implicit sign conversion <c> <= ADD(SGN(<a>), SGN(<b>))\n",
      "  base.warnings.warn(\"Implicit sign conversion %s <= %s\" % (repr(self), repr(v)))\n"
     ]
    },
    {
     "name": "stdout",
     "output_type": "stream",
     "text": [
      "==== COSIM stdout ====\n",
      "analyze /home/cyrite/.local/lib/python3.10/site-packages/cyritehdl-0.1b0-py3.10-linux-x86_64.egg/myirl/targets/../test/vhdl/txt_util.vhdl\n",
      "analyze /home/cyrite/.local/lib/python3.10/site-packages/cyritehdl-0.1b0-py3.10-linux-x86_64.egg/myirl/targets/libmyirl.vhdl\n",
      "analyze /tmp/tb_arith.vhdl\n",
      "elaborate tb_arith\n",
      "\n",
      "==== COSIM stdout ====\n",
      "RESULT 0x1F\n",
      "Simulation done.\n",
      "simulation stopped @2ns\n",
      "\n"
     ]
    },
    {
     "data": {
      "text/plain": [
       "0"
      ]
     },
     "execution_count": 11,
     "metadata": {},
     "output_type": "execute_result"
    }
   ],
   "source": [
    "m.initval, m.expected_result = (0x3f, -0x20 & 0x7f), 0x1f\n",
    "tb.run(200, debug = True)"
   ]
  },
  {
   "cell_type": "markdown",
   "id": "c7091ac4-09ff-4499-84c2-389ae3ac1bd2",
   "metadata": {},
   "source": [
    "## Custom arithmetics\n",
    "\n",
    "We can define our own integer type by derivation from the BuiltinIntType. However, this does not necessarily guarantee for correct HDL inference. separate fixup routines may be needed. We illustrate this with a simple class that only implements the '__add__' operation."
   ]
  },
  {
   "cell_type": "code",
   "execution_count": 12,
   "id": "969a05ee-87d3-4319-a7b4-09171cd652c8",
   "metadata": {},
   "outputs": [],
   "source": [
    "from myirl.kernel.extensions import BuiltinIntType\n",
    "from myirl.kernel import sig as base\n",
    "\n",
    "class MyIntAddOnly(BuiltinIntType):\n",
    "    def __init__(self, val):\n",
    "        if isinstance(val, int):\n",
    "            self._val = val\n",
    "            self._nbits = val.bit_length()\n",
    "            if val < 0:\n",
    "                self._signed = True\n",
    "            else:\n",
    "                self._signed = False\n",
    "        elif isinstance(val, str):\n",
    "            mval = val.replace('_', '')\n",
    "            self._val = int(mval, 2)\n",
    "            self._nbits = len(mval)\n",
    "        else:\n",
    "            raise TypeError(\"Unsupported argument\", type(val))\n",
    "    \n",
    "    def __add__(self, other):\n",
    "        return self._val + other._val\n",
    "\n",
    "    def __int__(self):\n",
    "        return self._val\n",
    "\n",
    "    def __len__(self):\n",
    "        return self._nbits\n",
    "\n",
    "    def size(self, effective = None):\n",
    "        return self._nbits\n",
    "\n",
    "    def signal_type(self, tgt, size = None):\n",
    "        if size is None:\n",
    "            size = self.size()\n",
    "        n = size - 1\n",
    "        if self.is_signed():\n",
    "            typestr = tgt.type_signed_vector % (n)\t\n",
    "        else:\n",
    "            typestr = tgt.type_vector % (n)\n",
    "        return typestr\n",
    "\n",
    "    def is_signed(self):\n",
    "        return self._signed"
   ]
  },
  {
   "cell_type": "markdown",
   "id": "dff6b680-26d7-485b-a6a9-56680461c008",
   "metadata": {},
   "source": [
    "We initialize two signals of this wire type:"
   ]
  },
  {
   "cell_type": "code",
   "execution_count": 13,
   "id": "99fb1d29-f206-4e39-99e1-36c60634422b",
   "metadata": {},
   "outputs": [],
   "source": [
    "s = Signal(MyIntAddOnly(32), name = 's')\n",
    "t = Signal(MyIntAddOnly(64), name = 't')"
   ]
  },
  {
   "cell_type": "markdown",
   "id": "46c3d387-4411-4e5d-b9b6-acafef334113",
   "metadata": {},
   "source": [
    "We check their bit vector size:"
   ]
  },
  {
   "cell_type": "code",
   "execution_count": 14,
   "id": "47319aab-8499-4e63-909e-100299282f7b",
   "metadata": {},
   "outputs": [
    {
     "data": {
      "text/plain": [
       "(6, 7)"
      ]
     },
     "execution_count": 14,
     "metadata": {},
     "output_type": "execute_result"
    }
   ],
   "source": [
    "len(s), len(t)"
   ]
  },
  {
   "cell_type": "code",
   "execution_count": 15,
   "id": "89abd791-2e65-4859-b81e-316e4a6a55a4",
   "metadata": {},
   "outputs": [
    {
     "data": {
      "text/plain": [
       "7"
      ]
     },
     "execution_count": 15,
     "metadata": {},
     "output_type": "execute_result"
    }
   ],
   "source": [
    "z = s.signed() + s.signed()\n",
    "len(z)"
   ]
  },
  {
   "cell_type": "markdown",
   "id": "be37b1dd-f46c-4b12-aaa8-17604353e073",
   "metadata": {},
   "source": [
    "We then write an explicit addition logic statement and emit it to the stdout VHDL translator:"
   ]
  },
  {
   "cell_type": "code",
   "execution_count": 16,
   "id": "7848d159-a777-433d-8362-94f2648c9d37",
   "metadata": {},
   "outputs": [],
   "source": [
    "add_s = t.set(s.signed() + s.signed())"
   ]
  },
  {
   "cell_type": "code",
   "execution_count": 17,
   "id": "49143580-ec61-4c54-9257-88efbaacc9d0",
   "metadata": {},
   "outputs": [
    {
     "name": "stdout",
     "output_type": "stream",
     "text": [
      "\u001b[94mt <= unsigned((signed(s) + signed(s)));\n",
      "\u001b[0m"
     ]
    },
    {
     "name": "stderr",
     "output_type": "stream",
     "text": [
      "/home/cyrite/.local/lib/python3.10/site-packages/cyritehdl-0.1b0-py3.10-linux-x86_64.egg/myirl/kernel/_types.py:104: UserWarning: Implicit sign conversion <t> <= ADD(SGN(<s>), SGN(<s>))\n",
      "  base.warnings.warn(\"Implicit sign conversion %s <= %s\" % (repr(self), repr(v)))\n"
     ]
    }
   ],
   "source": [
    "add_s.emit(d)"
   ]
  },
  {
   "cell_type": "code",
   "execution_count": 18,
   "id": "de932021-036e-4c66-b0d5-d2a3517adeaa",
   "metadata": {},
   "outputs": [
    {
     "name": "stdout",
     "output_type": "stream",
     "text": [
      "\u001b[94mc <= unsigned((signed(bs) + signed(resize(signed(bs), 8))));\n",
      "\u001b[0m"
     ]
    },
    {
     "name": "stderr",
     "output_type": "stream",
     "text": [
      "/home/cyrite/.local/lib/python3.10/site-packages/cyritehdl-0.1b0-py3.10-linux-x86_64.egg/myirl/kernel/_types.py:104: UserWarning: Implicit sign conversion <c> <= ADD(SGN(<bs>), SGN(<bs>))\n",
      "  base.warnings.warn(\"Implicit sign conversion %s <= %s\" % (repr(self), repr(v)))\n"
     ]
    }
   ],
   "source": [
    "c.set(bs.signed() + bs.signed()).emit(d)"
   ]
  },
  {
   "cell_type": "markdown",
   "id": "26f4ed7f-169f-40f0-a346-6393d30c6908",
   "metadata": {},
   "source": [
    "This construct looks somewhat non-obvious to non-VHDL experts with respect to what will happen to the bits in particular."
   ]
  },
  {
   "cell_type": "markdown",
   "id": "3da79e8d-b57c-4025-9fc5-584c7787ac58",
   "metadata": {},
   "source": [
    "Now re run the simulation with these rudimentary signal types:"
   ]
  },
  {
   "cell_type": "code",
   "execution_count": 19,
   "id": "c45046f5-f537-4a05-976f-e4658d91a2c6",
   "metadata": {},
   "outputs": [],
   "source": [
    "def run_sim_hdl(sim, s, t):\n",
    "    m = MyDesign(\"design\", sim)\n",
    "    m.a, m.b = ( Signal(MyIntAddOnly(32), name = 's%d' % i) for i in range(2) )\n",
    "    m.q = t\n",
    "    m.initval, m.expected_result = (0x20, 0x20), 0x40\n",
    "    tb = m.tb_arith()\n",
    "    tb.run(200, debug = True)"
   ]
  },
  {
   "cell_type": "code",
   "execution_count": 20,
   "id": "b05a794f-eaa2-45bd-a822-a7837647dc12",
   "metadata": {},
   "outputs": [
    {
     "name": "stdout",
     "output_type": "stream",
     "text": [
      "\u001b[7;35m Declare obj 'tb_arith' in context '(MyDesign 'design')'(<class '__main__.MyDesign'>) \u001b[0m\n",
      " Writing 'tb_arith' to file /tmp/tb_arith.vhdl \n",
      " Creating library file /tmp/module_defs.vhdl \n",
      "DEBUG_FILES ['/tmp/tb_arith.vhdl', '/tmp/module_defs.vhdl']\n"
     ]
    },
    {
     "name": "stderr",
     "output_type": "stream",
     "text": [
      "/home/cyrite/.local/lib/python3.10/site-packages/cyritehdl-0.1b0-py3.10-linux-x86_64.egg/myirl/kernel/_types.py:104: UserWarning: Implicit sign conversion <t> <= ADD(SGN(<s0>), SGN(<s1>))\n",
      "  base.warnings.warn(\"Implicit sign conversion %s <= %s\" % (repr(self), repr(v)))\n"
     ]
    },
    {
     "name": "stdout",
     "output_type": "stream",
     "text": [
      "==== COSIM stdout ====\n",
      "analyze /home/cyrite/.local/lib/python3.10/site-packages/cyritehdl-0.1b0-py3.10-linux-x86_64.egg/myirl/targets/../test/vhdl/txt_util.vhdl\n",
      "analyze /home/cyrite/.local/lib/python3.10/site-packages/cyritehdl-0.1b0-py3.10-linux-x86_64.egg/myirl/targets/libmyirl.vhdl\n",
      "analyze /tmp/tb_arith.vhdl\n",
      "elaborate tb_arith\n",
      "\n",
      "==== COSIM stdout ====\n",
      "/tmp/tb_arith:error: bound check failure at /tmp/tb_arith.vhdl:32\n",
      "in process .tb_arith(irl_uncached).main\n",
      "/tmp/tb_arith:error: simulation failed\n",
      "\n",
      "Simulation run failed\n"
     ]
    }
   ],
   "source": [
    "try:\n",
    "    run_sim_hdl(ghdl.GHDL, s, t)\n",
    "except Exception as e:\n",
    "    print(e)"
   ]
  },
  {
   "cell_type": "markdown",
   "id": "74669f58-e122-4392-a0b6-18cb538a71c4",
   "metadata": {},
   "source": [
    "\n",
    "\n",
    "For example: A 6 bit vector with value 0x20 has only its MSB set. When casted to signed, this is interpreted as -32. Adding this vector to itself results in -64 which requires 7 bits when casted back to unsigned: 0x40. If we would use a 6 bit falue for the result, the bound check error will disappear, and the result will be truncated to 0x00 which is expected."
   ]
  },
  {
   "cell_type": "markdown",
   "id": "5e8e6efe-f42e-4240-b580-330ebfd6033c",
   "metadata": {},
   "source": [
    "### Verilog version\n",
    "\n",
    "The same emitted to a Verilog simulation will not cause an error. This is because Verilog handles vector length extension more implicitely.\n",
    "\n",
    "Conclusion: For HDL portability, integer data types need internal fixups."
   ]
  },
  {
   "cell_type": "code",
   "execution_count": 21,
   "id": "4814a0d6-4f03-40f6-8d51-26442429d85f",
   "metadata": {},
   "outputs": [
    {
     "name": "stdout",
     "output_type": "stream",
     "text": [
      "\u001b[7;35m Declare obj 'tb_arith' in context '(MyDesign 'design')'(<class '__main__.MyDesign'>) \u001b[0m\n",
      " Writing 'tb_arith' to file /tmp/tb_arith.v \n",
      " Note: Changing library path prefix to /tmp/ \n",
      " Creating library file /tmp/module_defs.v \n",
      "DEBUG FILES ['/tmp/tb_arith.v']\n"
     ]
    },
    {
     "name": "stderr",
     "output_type": "stream",
     "text": [
      "/home/cyrite/.local/lib/python3.10/site-packages/cyritehdl-0.1b0-py3.10-linux-x86_64.egg/myirl/kernel/_types.py:104: UserWarning: Implicit sign conversion <t> <= ADD(SGN(<s0>), SGN(<s1>))\n",
      "  base.warnings.warn(\"Implicit sign conversion %s <= %s\" % (repr(self), repr(v)))\n"
     ]
    },
    {
     "name": "stdout",
     "output_type": "stream",
     "text": [
      "==== COSIM stdout ====\n",
      "VCD info: dumpfile tb_arith.vcd opened for output.\n",
      "RESULT 0b1000000 \n",
      "Simulation done. \n",
      "Stop Simulation\n",
      "\n"
     ]
    }
   ],
   "source": [
    "run_sim_hdl(icarus.ICARUS, s, t)"
   ]
  },
  {
   "cell_type": "markdown",
   "id": "860d876b-9a32-4539-a784-d6bca37f50d7",
   "metadata": {},
   "source": [
    "## Semi-automated verification\n",
    "\n",
    "Above, we specified the result we expected. However, we could also let Python evaluate the code and determine the expected result automatically when emitting to HDL.\n",
    "\n",
    "Internally, this uses a modified sequence generator using an evaluating context as below:"
   ]
  },
  {
   "cell_type": "code",
   "execution_count": 22,
   "id": "7bc9fd1d-a289-4485-b7f1-3e93a33fb67a",
   "metadata": {},
   "outputs": [],
   "source": [
    "from myirl.library.verification import _EvalContext, Checkpoint\n",
    "from myirl.simulation import sequential\n",
    "\n",
    "class my_generator(sequential):\n",
    "\n",
    "\tdef __repr__(self):\n",
    "\t\treturn \"[SimGeneratorCTX `%s`]\" % (self.func.__name__)\n",
    "\t\"yield based generator process with context\"\n",
    "\n",
    "\tdef __call__(self, ctx):\n",
    "\t\tself.sequence = _EvalContext(ctx)\n",
    "\t\tself.sequence.inherit(ctx)\n",
    "\t\tret = self.func(self.sequence)\n",
    "\t\tself._collect(ctx, ret)\n",
    "\n",
    "\t\treturn ret\n"
   ]
  },
  {
   "cell_type": "markdown",
   "id": "dc10d40d-d1bb-452f-8910-38394bc84255",
   "metadata": {},
   "source": [
    "We then rewrite the MyDesign class slightly, by using a `self.check` function. This inserts Checkpoint generators that evaluate the argument via native python and emit a comparison statement to HDL where the signal is checked for its expected value that was determined by evaluation of the statement sequence."
   ]
  },
  {
   "cell_type": "code",
   "execution_count": 23,
   "id": "b9e1e060-3932-42de-9bbf-0327142d7f49",
   "metadata": {},
   "outputs": [],
   "source": [
    "class MyDesignAuto(MyDesign):\n",
    "\n",
    "    check = Checkpoint\n",
    "    \n",
    "    def __init__(self, name, target):\n",
    "        super().__init__(name, target)\n",
    "        if self.translate:\n",
    "            self.sequence = my_generator\n",
    "\n",
    "    @cyrite_factory.testbench('ns')\n",
    "    def tb_arith(self):\n",
    "        @self.sequence\n",
    "        def main():\n",
    "            yield from self._rtl.arith_test1(self.a, self.b, self.q, self.initval)\n",
    "            print(\"RESULT\", self.q)\n",
    "            # assert self.q == self.expected_result\n",
    "            self.check(self.q, \"Verifying result of addition\")\n",
    "            print(\"Simulation done.\")\n",
    "            raise StopSimulation\n",
    "\n",
    "        return instances()"
   ]
  },
  {
   "cell_type": "markdown",
   "id": "ee5030bd-257f-4d84-bd5d-5f77ed92ab6b",
   "metadata": {},
   "source": [
    "Then we run the design again as above:"
   ]
  },
  {
   "cell_type": "code",
   "execution_count": 24,
   "id": "6b78dbe6-30b5-453c-bdf2-9205cce11dea",
   "metadata": {},
   "outputs": [
    {
     "name": "stdout",
     "output_type": "stream",
     "text": [
      "\u001b[7;35m Declare obj 'tb_arith' in context '(MyDesignAuto 'design')'(<class '__main__.MyDesignAuto'>) \u001b[0m\n",
      " Writing 'tb_arith' to file /tmp/tb_arith.vhdl \n",
      " Creating library file /tmp/module_defs.vhdl \n",
      "DEBUG_FILES ['/tmp/tb_arith.vhdl', '/tmp/module_defs.vhdl']\n"
     ]
    },
    {
     "name": "stderr",
     "output_type": "stream",
     "text": [
      "/home/cyrite/.local/lib/python3.10/site-packages/cyritehdl-0.1b0-py3.10-linux-x86_64.egg/myirl/kernel/_types.py:104: UserWarning: Implicit sign conversion <c> <= ADD(SGN(<bs>), SGN(<bs>))\n",
      "  base.warnings.warn(\"Implicit sign conversion %s <= %s\" % (repr(self), repr(v)))\n"
     ]
    },
    {
     "name": "stdout",
     "output_type": "stream",
     "text": [
      "==== COSIM stdout ====\n",
      "analyze /home/cyrite/.local/lib/python3.10/site-packages/cyritehdl-0.1b0-py3.10-linux-x86_64.egg/myirl/targets/../test/vhdl/txt_util.vhdl\n",
      "analyze /home/cyrite/.local/lib/python3.10/site-packages/cyritehdl-0.1b0-py3.10-linux-x86_64.egg/myirl/targets/libmyirl.vhdl\n",
      "analyze /tmp/tb_arith.vhdl\n",
      "elaborate tb_arith\n",
      "\n",
      "==== COSIM stdout ====\n",
      "RESULT 0x40\n",
      "VAL 0x40\n",
      "Simulation done.\n",
      "simulation stopped @3ns\n",
      "\n"
     ]
    },
    {
     "data": {
      "text/plain": [
       "0"
      ]
     },
     "execution_count": 24,
     "metadata": {},
     "output_type": "execute_result"
    }
   ],
   "source": [
    "m = MyDesignAuto(\"design\", ghdl.GHDL)\n",
    "m.a, m.b = bs, bs\n",
    "m.q = c\n",
    "m.initval, m.expected_result = (0x20, 0x20), 0x40\n",
    "tb = m.tb_arith()\n",
    "tb.run(200, debug = True)"
   ]
  },
  {
   "cell_type": "markdown",
   "id": "a0e0f281-2765-46b3-a765-fd85bd3ba072",
   "metadata": {},
   "source": [
    "Inspection of the resulting VHDL test bench displays the Checkpoint generator sequence (encapsulated by `{}` brackets):"
   ]
  },
  {
   "cell_type": "code",
   "execution_count": 25,
   "id": "238a5ba3-e4c8-4dd4-baf8-dcd657d94573",
   "metadata": {},
   "outputs": [
    {
     "name": "stdout",
     "output_type": "stream",
     "text": [
      "-- File generated from source:\n",
      "--     /tmp/ipykernel_82334/3187735675.py\n",
      "-- (c) 2016-2022 section5.ch\n",
      "-- Modifications may be lost, edit the source file instead.\n",
      "\n",
      "library IEEE;\n",
      "use IEEE.std_logic_1164.all;\n",
      "use IEEE.numeric_std.all;\n",
      "\n",
      "library work;\n",
      "\n",
      "use work.txt_util.all;\n",
      "use work.myirl_conversion.all;\n",
      "\n",
      "entity tb_arith is\n",
      "end entity tb_arith;\n",
      "\n",
      "architecture irl_uncached of tb_arith is\n",
      "    -- Local type declarations\n",
      "    -- Signal declarations\n",
      "    signal bs : signed(6 downto 0);\n",
      "    signal c : unsigned(7 downto 0);\n",
      "begin\n",
      "    \n",
      "main:\n",
      "    process\n",
      "    begin\n",
      "        bs <= \"0100000\";\n",
      "        bs <= \"0100000\";\n",
      "        wait for 1 ns;\n",
      "        c <= unsigned((signed(bs) + signed(resize(signed(bs), 8))));\n",
      "        wait for 1 ns;\n",
      "        print(\"RESULT\" & \" \" & \"0x\"& hstr(c));\n",
      "        -- Checkpoint Verifying result of addition {\n",
      "        wait for 1 ns;\n",
      "        print(\"VAL\" & \" \" & \"0x\"& hstr(c));\n",
      "        assert (c = x\"40\")\n",
      "            report \"Verifying result of addition -- expected: 64\" severity failure;\n",
      "        -- }\n",
      "        print(\"Simulation done.\");\n",
      "        std.env.stop;\n",
      "        wait;\n",
      "    end process;\n",
      "end architecture irl_uncached;\n",
      "\n"
     ]
    }
   ],
   "source": [
    "!cat /tmp/tb_arith.vhdl"
   ]
  },
  {
   "cell_type": "markdown",
   "id": "6c52fb4d-a32a-4612-8f59-f845102f3e31",
   "metadata": {},
   "source": [
    "### Limitations\n",
    "\n",
    "The auto-verification sequencer is incomplete in this release and will not work inside generated for or while loops, obviously. In more complex cases, it might be better to use co-simulation."
   ]
  },
  {
   "cell_type": "markdown",
   "id": "6a1be246-e475-4c17-bdeb-3184dbcdecc0",
   "metadata": {},
   "source": [
    "# intbv versus bv\n",
    "\n",
    "The `bv` type differs from the MyHDL originating intbv:"
   ]
  },
  {
   "cell_type": "code",
   "execution_count": 26,
   "id": "34532681-3a90-4b45-8721-bd07f22b197a",
   "metadata": {},
   "outputs": [],
   "source": [
    "from myirl.emulation.bv import bv"
   ]
  },
  {
   "cell_type": "code",
   "execution_count": 45,
   "id": "b6be8606-c598-4281-9290-921a7d25ecdd",
   "metadata": {},
   "outputs": [],
   "source": [
    "a0, a1 = [ Signal(bv()[6:]) for _ in range(2) ]\n",
    "q = Signal(bv()[9:].signed())"
   ]
  },
  {
   "cell_type": "code",
   "execution_count": 46,
   "id": "0f41e945-4b11-4e8a-b7dc-c71a3df9498f",
   "metadata": {},
   "outputs": [
    {
     "name": "stdout",
     "output_type": "stream",
     "text": [
      " Writing 'tb_arith' to file /tmp/tb_arith.vhdl \n",
      " Creating library file /tmp/module_defs.vhdl \n",
      "DEBUG_FILES ['/tmp/tb_arith.vhdl', '/tmp/module_defs.vhdl']\n",
      "==== COSIM stdout ====\n",
      "analyze /home/cyrite/.local/lib/python3.10/site-packages/cyritehdl-0.1b0-py3.10-linux-x86_64.egg/myirl/targets/../test/vhdl/txt_util.vhdl\n",
      "analyze /home/cyrite/.local/lib/python3.10/site-packages/cyritehdl-0.1b0-py3.10-linux-x86_64.egg/myirl/targets/libmyirl.vhdl\n",
      "analyze /tmp/tb_arith.vhdl\n",
      "elaborate tb_arith\n",
      "\n",
      "==== COSIM stdout ====\n",
      "RESULT 0x000\n",
      "VAL 0x000\n",
      "/tmp/tb_arith.vhdl:55:9:@3ns:(assertion failure): Verifying result of addition -- expected: -64\n",
      "/tmp/tb_arith:error: assertion failed\n",
      "in process .tb_arith(irl_uncached).main\n",
      "/tmp/tb_arith:error: simulation failed\n",
      "\n"
     ]
    },
    {
     "ename": "RuntimeError",
     "evalue": "Simulation run failed",
     "output_type": "error",
     "traceback": [
      "\u001b[0;31m---------------------------------------------------------------------------\u001b[0m",
      "\u001b[0;31mRuntimeError\u001b[0m                              Traceback (most recent call last)",
      "Cell \u001b[0;32mIn[46], line 5\u001b[0m\n\u001b[1;32m      2\u001b[0m m\u001b[38;5;241m.\u001b[39mq \u001b[38;5;241m=\u001b[39m q\n\u001b[1;32m      4\u001b[0m m\u001b[38;5;241m.\u001b[39minitval, m\u001b[38;5;241m.\u001b[39mexpected_result \u001b[38;5;241m=\u001b[39m (\u001b[38;5;241m0x20\u001b[39m, \u001b[38;5;241m0x20\u001b[39m), \u001b[38;5;241m0x40\u001b[39m\n\u001b[0;32m----> 5\u001b[0m \u001b[43mtb\u001b[49m\u001b[38;5;241;43m.\u001b[39;49m\u001b[43mrun\u001b[49m\u001b[43m(\u001b[49m\u001b[38;5;241;43m200\u001b[39;49m\u001b[43m,\u001b[49m\u001b[43m \u001b[49m\u001b[43mdebug\u001b[49m\u001b[43m \u001b[49m\u001b[38;5;241;43m=\u001b[39;49m\u001b[43m \u001b[49m\u001b[38;5;28;43;01mTrue\u001b[39;49;00m\u001b[43m)\u001b[49m\n",
      "File \u001b[0;32m~/.local/lib/python3.10/site-packages/cyritehdl-0.1b0-py3.10-linux-x86_64.egg/cyrite/simulation/ghdl.py:88\u001b[0m, in \u001b[0;36mGHDLTestbench.run\u001b[0;34m(self, cycles, debug, wavetrace, recompile)\u001b[0m\n\u001b[1;32m     85\u001b[0m \t\t\twavearg \u001b[38;5;241m=\u001b[39m \u001b[38;5;124m'\u001b[39m\u001b[38;5;124m--vcd=\u001b[39m\u001b[38;5;132;01m%s\u001b[39;00m\u001b[38;5;124m'\u001b[39m \u001b[38;5;241m%\u001b[39m wavetrace\n\u001b[1;32m     86\u001b[0m \targs \u001b[38;5;241m+\u001b[39m\u001b[38;5;241m=\u001b[39m [ wavearg ]\n\u001b[0;32m---> 88\u001b[0m \u001b[38;5;28;01mreturn\u001b[39;00m \u001b[43mg\u001b[49m\u001b[38;5;241;43m.\u001b[39;49m\u001b[43mrun\u001b[49m\u001b[43m(\u001b[49m\u001b[43mtop\u001b[49m\u001b[38;5;241;43m=\u001b[39;49m\u001b[43mname\u001b[49m\u001b[43m,\u001b[49m\u001b[43m \u001b[49m\u001b[43mextra_args\u001b[49m\u001b[43m \u001b[49m\u001b[38;5;241;43m=\u001b[39;49m\u001b[43m \u001b[49m\u001b[43margs\u001b[49m\u001b[43m)\u001b[49m\n",
      "File \u001b[0;32m~/.local/lib/python3.10/site-packages/cyritehdl-0.1b0-py3.10-linux-x86_64.egg/cyrite/simulation/ghdl.py:169\u001b[0m, in \u001b[0;36mGHDL.run\u001b[0;34m(self, top, extra_args)\u001b[0m\n\u001b[1;32m    166\u001b[0m ret \u001b[38;5;241m=\u001b[39m \u001b[38;5;28mself\u001b[39m\u001b[38;5;241m.\u001b[39m_check(p)\n\u001b[1;32m    168\u001b[0m \u001b[38;5;28;01mif\u001b[39;00m ret \u001b[38;5;241m!=\u001b[39m \u001b[38;5;241m0\u001b[39m:\n\u001b[0;32m--> 169\u001b[0m \t\u001b[38;5;28;01mraise\u001b[39;00m \u001b[38;5;167;01mRuntimeError\u001b[39;00m(\u001b[38;5;124m\"\u001b[39m\u001b[38;5;124mSimulation run failed\u001b[39m\u001b[38;5;124m\"\u001b[39m)\n\u001b[1;32m    170\u001b[0m \u001b[38;5;28;01mreturn\u001b[39;00m ret\n",
      "\u001b[0;31mRuntimeError\u001b[0m: Simulation run failed"
     ]
    }
   ],
   "source": [
    "m.a, m.b = (a0, a1)\n",
    "m.q = q\n",
    "\n",
    "m.initval, m.expected_result = (0x20, 0x20), 0x40\n",
    "tb.run(200, debug = True)"
   ]
  },
  {
   "cell_type": "code",
   "execution_count": null,
   "id": "6ff867c5-b6e7-4745-ac01-966e474c9c10",
   "metadata": {},
   "outputs": [],
   "source": [
    "!cat -n /tmp/tb_arith.vhdl"
   ]
  },
  {
   "cell_type": "code",
   "execution_count": null,
   "id": "99bda645-88e1-4108-99a9-88bec1eb0811",
   "metadata": {},
   "outputs": [],
   "source": []
  }
 ],
 "metadata": {
  "kernelspec": {
   "display_name": "Python 3 (ipykernel)",
   "language": "python",
   "name": "python3"
  },
  "language_info": {
   "codemirror_mode": {
    "name": "ipython",
    "version": 3
   },
   "file_extension": ".py",
   "mimetype": "text/x-python",
   "name": "python",
   "nbconvert_exporter": "python",
   "pygments_lexer": "ipython3",
   "version": "3.10.0"
  }
 },
 "nbformat": 4,
 "nbformat_minor": 5
}

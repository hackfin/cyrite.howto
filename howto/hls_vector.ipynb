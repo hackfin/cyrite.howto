{
 "cells": [
  {
   "cell_type": "markdown",
   "id": "824423f3-b505-4f1c-a72a-16c694d33db5",
   "metadata": {},
   "source": [
    "# High level synthesis #2: Vectors\n",
    "\n",
    "For somewhat complex handling of data structures, for example transformations such as a Digital Cosine Transformation used for JPEG encoding, it is desirable to work with vectors. This is an introduction to vector processing using the `hls` subsystem.\n",
    "\n",
    "The complex multiplication example can also be handled using a vector extension.\n",
    "There are a few reasons to use arithmetic extensions for vector pipelines as well, depending on the architecture that the code is generated for:\n",
    "\n",
    "* classic inference of DSP elements where a synthesis back end decides on the mapping\n",
    "* more controlled 'inline synthesis' where a fixed number of primitives is allocated/cascaded and micro-code is emitted\n",
    "\n",
    "The microcode approach is not elaborated here. It offers greater flexibility, but requires more complexity on the back end for optimum pipelining. However, we will look into primitive instancing with somewhat transparent inline components."
   ]
  },
  {
   "cell_type": "code",
   "execution_count": 1,
   "id": "e4757cfc-1263-4f3d-a2bc-253eb96a778b",
   "metadata": {},
   "outputs": [],
   "source": [
    "from cyhdl import *"
   ]
  },
  {
   "cell_type": "markdown",
   "id": "2e6b779f-e7c6-4f81-b151-655edd6c14f9",
   "metadata": {},
   "source": [
    "## Vector signals\n",
    "\n",
    "Instead of using two separate signals for a complex vector, a `Vector` data type can be pipelined as well. Here, we always use a 2D vector type.\n",
    "\n",
    "This has the advantage that vector operations can be declared that can operate as binary operation within a pipeline stage.\n",
    "\n",
    "We import a few auxiliaries from the pipelined vector module:"
   ]
  },
  {
   "cell_type": "code",
   "execution_count": 2,
   "id": "98bb2731-6d22-4a94-a711-8e8fee40b2f5",
   "metadata": {},
   "outputs": [],
   "source": [
    "from cyrite.library.hls.pipelined_vector import VectorSignal as Vector, CustomVectorOp"
   ]
  },
  {
   "cell_type": "code",
   "execution_count": 3,
   "id": "b1dd8c56-38ee-4e29-812e-b8eedc24f96c",
   "metadata": {},
   "outputs": [],
   "source": [
    "v0, v1, v2 = [ Vector(2, intbv()[12:]) for _ in range(3) ]"
   ]
  },
  {
   "cell_type": "markdown",
   "id": "6e906742-be42-4bcd-a4f6-d8e88f2cdde1",
   "metadata": {},
   "source": [
    "A standard vector addition and assignment to a signal is performed as follows:"
   ]
  },
  {
   "cell_type": "code",
   "execution_count": 4,
   "id": "f248ff0a-edab-4583-9626-7df3f13d9ba0",
   "metadata": {},
   "outputs": [
    {
     "data": {
      "text/plain": [
       "<myirl.vector._VectorAssign at 0x7f8b5cdd60c0>"
      ]
     },
     "execution_count": 4,
     "metadata": {},
     "output_type": "execute_result"
    }
   ],
   "source": [
    "v0.set(v1 + v2)"
   ]
  },
  {
   "cell_type": "markdown",
   "id": "c7d2b0c6-41c6-432f-909b-ff7a34dcad90",
   "metadata": {},
   "source": [
    "Other operations are left undefined for this basic vector class and may not translate or synthesize."
   ]
  },
  {
   "cell_type": "markdown",
   "id": "965ef5e2-c0fe-4089-a210-53d147ce5527",
   "metadata": {},
   "source": [
    "### Vector primitives\n",
    "\n",
    "Let's assume we have a built-in primitive in our configureable logic, that can perform a few extra vector operations, depending on a `mode` parameter. The functional model would look like below (note we are not using any strict interface declaration):"
   ]
  },
  {
   "cell_type": "code",
   "execution_count": 5,
   "id": "5ac6c20d-e835-4d34-b0dd-8182bf3f8359",
   "metadata": {},
   "outputs": [],
   "source": [
    "class vector_primitives:\n",
    "    t_alu = enum('ADD', 'SUB', 'ADDSUB', 'ASSIGN', name = \"t_alu\") \n",
    "\n",
    "    @rtl_function\n",
    "    def vector_op(rtl, v, a, b, mode, t_alu):\t   \n",
    "        if mode == t_alu.ADD:\n",
    "            v.next = (a[0] + b[0], a[1] + b[1])\n",
    "        elif mode == t_alu.ADDSUB:\n",
    "            v.next = (a[0] + b[0], a[1] - b[1])\n",
    "        elif mode == t_alu.SUB:\n",
    "            v.next = (a[0] - b[0], a[1] - b[1])\n",
    "        else:\n",
    "            v.next = (b[0], b[1])"
   ]
  },
  {
   "cell_type": "markdown",
   "id": "cb15021d-6c96-4c0f-92f9-047c23abcd6a",
   "metadata": {},
   "source": [
    "As a RTL function, it can be executed either as a native python function or a logic generator, depending on the `rtl` context.\n",
    "We assume an existing primitive as hardware implementation for the time being, meaning, that there is a built-in blackbox primitive referenced in some way.\n",
    "\n",
    "However, we can a priori not make use of such a blackbox within a `@pipe` construct in a functional way. In a classic V* HDL, we would have to create instances manually and wire them up for the correct pipe stages. A more readable way is to define custom operators as follows."
   ]
  },
  {
   "cell_type": "markdown",
   "id": "aa4909bf-6398-466b-96b7-93eb7efff41e",
   "metadata": {},
   "source": [
    "### Defining custom operators\n",
    "\n",
    "We can define new infix operators on a class, like addition of the first, subtraction of the second item. They are framed by a `@` decorator (which is actually an abused matrix multiplication).\n",
    "\n",
    "We pull in the Vector extension from the ALU DSP library:"
   ]
  },
  {
   "cell_type": "code",
   "execution_count": 6,
   "id": "d2d9d711-0d3d-45e9-8ce7-35c46d182460",
   "metadata": {},
   "outputs": [],
   "source": [
    "from cyrite.library.hls.lib_dspalu import Vector as VectorExt"
   ]
  },
  {
   "cell_type": "markdown",
   "id": "2646a85e-d229-4958-afca-d3a660445fa8",
   "metadata": {},
   "source": [
    "Finally, we make use of a `VectorExt.addsub` custom vector operation below, using a one stage pipeline and a bit of raw data slicing into vector elements:"
   ]
  },
  {
   "cell_type": "code",
   "execution_count": 7,
   "id": "18c1ac6d-9f33-4826-a162-db00e638cd37",
   "metadata": {},
   "outputs": [
    {
     "name": "stderr",
     "output_type": "stream",
     "text": [
      "/home/cyrite/.local/lib/python3.10/site-packages/cyritehdl-0.1b0-py3.10-linux-x86_64.egg/myirl/emulation/myhdl2irl.py:589: UserWarning: Not translating unregistered decorator function`pipe`\n",
      "  warnings.warn(\"Not translating unregistered decorator function`%s`\" % n)\n"
     ]
    }
   ],
   "source": [
    "from cyrite.library.hls.mypipe import pipelined, pipe\n",
    "\n",
    "PipeEn = pipelined(Signal).Type(bool)\n",
    "\n",
    "Data = Signal.Type(intbv, 24)\n",
    "\n",
    "@block\n",
    "def unit_comp(clk : ClkSignal, en : PipeEn,\n",
    "                   d0 : Data, d1 : Data,  q: Data.Output, valid : PipeEn.Output):\n",
    "\n",
    "    a, b = [ Vector(2, intbv()[12:]) for _ in range(2) ]\n",
    "    iq = Vector(2, intbv()[13:])\n",
    "\n",
    "    @pipe(clk, None, en, None, valid)\n",
    "    def worker(ctx):\n",
    "        yield [\n",
    "            iq <= a @VectorExt.addsub@ b\n",
    "        ]\n",
    "\n",
    "    connections = [\n",
    "        a[0] @assign@ d0[12:], a[1] @assign@ d0[:12],\n",
    "        b[0] @assign@ d1[12:], b[1] @assign@ d1[:12],\n",
    "        q @assign@ concat(iq[0][12:], iq[1][12:])\n",
    "    ]\n",
    "    \n",
    "    return instances()"
   ]
  },
  {
   "cell_type": "markdown",
   "id": "dedc4b65-3559-4a2a-8e68-c1a662030340",
   "metadata": {},
   "source": [
    "We instance this unit and elaborate for VHDL output:"
   ]
  },
  {
   "cell_type": "code",
   "execution_count": 8,
   "id": "41e4e301-aeab-42a1-b536-10568ecee5a1",
   "metadata": {},
   "outputs": [
    {
     "name": "stdout",
     "output_type": "stream",
     "text": [
      "\u001b[32m DEBUG Inline builtin instance [pipe_block_inline 'vector_op/vector_op'] \u001b[0m\n",
      "\u001b[7;35m Declare obj 'vector_op' in context '(EmulationModule 'unit_comp')'(<class 'myirl.emulation.myhdl2irl.EmulationModule'>) \u001b[0m\n",
      " Writing 'unit_comp' to file /tmp/myirl_unit_comp_2hgc2v74/unit_comp.vhdl \n"
     ]
    },
    {
     "name": "stderr",
     "output_type": "stream",
     "text": [
      "/home/cyrite/.local/lib/python3.10/site-packages/cyritehdl-0.1b0-py3.10-linux-x86_64.egg/myirl/kernel/components.py:116: UserWarning: Fallback: Pass through other argument for arg mode (<class 'myirl.enumtypes.EnumItem'>)\n",
      "  base.warnings.warn(msg)\n"
     ]
    }
   ],
   "source": [
    "clk = ClkSignal()\n",
    "a, b = [ Data() for _ in range(2) ]\n",
    "q = Data()\n",
    "en, valid = [ PipeEn() for _ in range(2) ]\n",
    "\n",
    "u = unit_comp(clk, en, a, b, q, valid)\n",
    "f = u.elab(targets.VHDL)"
   ]
  },
  {
   "cell_type": "markdown",
   "id": "ac7ee80d-6ff8-4397-b337-ddd6c264ed47",
   "metadata": {},
   "source": [
    "### Resulting HDL\n",
    "\n",
    "By outputting the resulting VHDL code below, we can see that a `vector_op` unit is referenced from the `work` library, however, as a blackbox reference, it is not created by the above elaboration. Uncomment the command below to see the full VHDL source."
   ]
  },
  {
   "cell_type": "code",
   "execution_count": 9,
   "id": "77492d28-14c1-48e4-9340-214c2c48e249",
   "metadata": {},
   "outputs": [],
   "source": [
    "# !cat {f[0]}"
   ]
  },
  {
   "cell_type": "markdown",
   "id": "8bc44881-f3b2-448d-a301-c73245a71282",
   "metadata": {},
   "source": [
    "We will also note that the `t_alu` parameter is not used. The reason is, that a static constant value is passed to the inline function in this implementation. Different constants will also cause several implementations of the `vector_op` unit being emitted. This is because the `vector_op` inline component was declared as a whitebox component in `lib_dspalu`.\n",
    "\n",
    "If a blackbox, built-in component was instanced, the `t_alu` parameter might be inferred into a internal constant signal. The `@inference` rule of the inline component effectively decides on how to handle flexible parameters, it may also decide to allocate extra logic."
   ]
  },
  {
   "cell_type": "markdown",
   "id": "8196c595-85ea-49ba-b5f2-ee4cedbdcced",
   "metadata": {},
   "source": [
    "## Complex multiplication (vector)\n",
    "\n",
    "We can now finally tackle complex multiplication from the HLS introduction using the above vector type. It is however no longer as simple as a basic vector op, because we do not want to multiply and add in the same clock cycle. The complex multiplication will thus operate on a higher level. But eventually, we'll want to define a `CVect.mul` operator, just that in this case we need to forward at minimum a clock plus validity signals telling when the output is ready.\n",
    "\n",
    "This user-defined operation is typically implemented as a inline whitebox component. Their `_level` property defines in what hierarchy context they are allowed in. For the `InlineContainer` class below, we need to adapt the default level:"
   ]
  },
  {
   "cell_type": "code",
   "execution_count": 10,
   "id": "7b459fc4-a38b-446d-b11f-ececba5f3591",
   "metadata": {},
   "outputs": [],
   "source": [
    "from myirl.library.blackbox import _inline_whitebox_component\n",
    "\n",
    "def inline_whitebox_component(func):\n",
    "    def _inline(self, *args, **kwargs):\n",
    "        c = _inline_whitebox_component(self, func)\n",
    "        c._level = 2 # Adapt level\n",
    "        c.blackbox = True\n",
    "        return c(self, *args, **kwargs)\n",
    "\n",
    "    return _inline\n"
   ]
  },
  {
   "cell_type": "markdown",
   "id": "f1105866-e335-41b0-a33c-7a2a456b4b9b",
   "metadata": {},
   "source": [
    "Here we use an Inline container class that takes `clk` and `enable` parameters, and provides a `mul` member as infix operator:"
   ]
  },
  {
   "cell_type": "code",
   "execution_count": 11,
   "id": "e9850b7e-77ab-4cea-bf20-b903634f2a84",
   "metadata": {},
   "outputs": [],
   "source": [
    "from myirl.kernel.components import InlineContainer\n",
    "\n",
    "class CVect(InlineContainer):\n",
    "    def __init__(self, clk, en, valid):\n",
    "        self.clk = clk\n",
    "        self.dv = en, valid\n",
    "        self.mul = CustomVectorOp(lambda x, y : cvmul(self.clk,\n",
    "                                                      self.dv[0],\n",
    "                                                      self.dv[1],\n",
    "                                                      x[0], x[1], y[0], y[1]))"
   ]
  },
  {
   "cell_type": "markdown",
   "id": "2e9c5ecf-d5f6-4cfd-91bc-18f87d1cd073",
   "metadata": {},
   "source": [
    "Obviously, latency/delays comes into play. Let's model a unit that does such a multiplication.\n",
    "\n",
    "We use a strict interface this time, using the same mapping as the `unit_cmul` component from the [HLS introduction](hls.ipynb)"
   ]
  },
  {
   "cell_type": "code",
   "execution_count": 12,
   "id": "47d8c271-4b87-4599-84c2-bc853574b653",
   "metadata": {},
   "outputs": [],
   "source": [
    "PS = pipelined(Signal)\n",
    "\n",
    "CData = PS.Type(intbv, 12)\n",
    "CRData = PS.Type(intbv, 25)\n",
    "\n",
    "@block\n",
    "def unit_cvmul(clk : ClkSignal, ce : PipeEn, valid: PipeEn.Output,\n",
    "        ra  : CData, ia : CData, rb : CData, ib : CData,\n",
    "        rq : CRData.Output,\n",
    "        iq : CRData.Output):\n",
    "\n",
    "    a, b = [ Vector(2, intbv()[len(ra):]) for _ in range(2) ]\n",
    "    q = Vector(2, intbv()[len(rq):])\n",
    "\n",
    "    dv = PipeEn()\n",
    "    \n",
    "    c = CVect(clk, en, dv) # Instance factory\n",
    "    \n",
    "    # Here, we `.wireup` stmt for the Vector type\n",
    "    logic = [\n",
    "        q.wireup(a @c.mul@ b),\n",
    "        a.wireup((ra, ia)),  # Vector 'wireup'\n",
    "        b.wireup((rb, ib)),\n",
    "        rq   @assign@  q[0],\n",
    "        iq   @assign@  q[1],\n",
    "        valid  @assign@  dv\n",
    "    ]\n",
    "\n",
    "    return instances()"
   ]
  },
  {
   "cell_type": "markdown",
   "id": "93f27a5f-8c42-456d-8fc9-e7a595509ea2",
   "metadata": {},
   "source": [
    "Next, we implement a `cvmul` unit. We use the basic myirl Signal type in order to stay compatible with other extensions that derive from this signal class:"
   ]
  },
  {
   "cell_type": "code",
   "execution_count": 13,
   "id": "9388f345-b9b3-4f09-bbf6-13cf51a57f71",
   "metadata": {},
   "outputs": [],
   "source": [
    "import myirl\n",
    "_Signal = myirl.Signal\n",
    "\n",
    "@block\n",
    "def cvmul_impl(clk : ClkSignal, dvin : PipeEn, dvout : PipeEn.Output,\n",
    "              x0 : _Signal, x1 : _Signal, y0 : _Signal, y1 : _Signal,\n",
    "              q0 : _Signal.Output, q1 : _Signal.Output ):\n",
    "\n",
    "    N = len(x0)\n",
    "    za, zb = [ Vector(2, intbv()[2*N:]) for _ in range(2) ]\n",
    "\n",
    "    q = Vector(2, intbv()[len(q0):])\n",
    "    \n",
    "    @pipe(clk, None, dvin, None, dvout)\n",
    "    def worker(ctx):\n",
    "        yield [\n",
    "            za[1].set(x0 * y0),\n",
    "            za[0].set(x0 * y1),\n",
    "            zb[0].set(x1 * y0),\n",
    "            zb[1].set(x1 * y1)\n",
    "        ]\n",
    "        yield [\n",
    "            q.set(za @VectorExt.addsub@ zb)\n",
    "        ]\n",
    "\n",
    "    wires = [\n",
    "        q0.wireup(q[1]), q1.wireup(q[0])\n",
    "    ]\n",
    "\n",
    "    return instances()\n"
   ]
  },
  {
   "cell_type": "markdown",
   "id": "2aff6006-d0a3-4f91-9292-5094ac709ce2",
   "metadata": {},
   "source": [
    "Then, we create a corresponding `@inline_whitebox` that allows us to call a multiplication like a function, silently instancing a pipelined unit."
   ]
  },
  {
   "cell_type": "code",
   "execution_count": 14,
   "id": "9d48b61b-6e9b-441b-bcbc-219a417a63a7",
   "metadata": {},
   "outputs": [],
   "source": [
    "from myirl.library.blackbox import inline_whitebox, PortSpec\n",
    "\n",
    "@inline_whitebox(cvmul_impl)\n",
    "def cvmul(clk : ClkSignal, dvin : PipeEn, dvout : PipeEn.Output,\n",
    "              x0 : _Signal, x1 : _Signal, y0 : _Signal, y1 : _Signal):\n",
    "    @myirl.inference(myirl.base.IRL)\n",
    "    def generate(instance, interface, rule):\n",
    "        \"Generate signals and logic instances in the caller (module).\"\n",
    "        N = len(x0) * 2 + 1\n",
    "        t0, t1 = [ Signal(intbv()[N:]) for _ in range(2) ]\n",
    "\n",
    "        # Explicitely add Port:\n",
    "        interface.addPort('q0', PortSpec(PortSpec.OUT, t0), t0)\n",
    "        interface.addPort('q1', PortSpec(PortSpec.OUT, t1), t1)\n",
    "        return (t0, t1)\n",
    "\n",
    "    return generate"
   ]
  },
  {
   "cell_type": "markdown",
   "id": "a375c597-e878-475e-9c1d-475929b36295",
   "metadata": {},
   "source": [
    "Finally, we run a test instance to see if all resolves:"
   ]
  },
  {
   "cell_type": "code",
   "execution_count": 15,
   "id": "0ae56dbd-656c-4a6d-9c54-da33cdd725cd",
   "metadata": {},
   "outputs": [
    {
     "name": "stdout",
     "output_type": "stream",
     "text": [
      "\u001b[32m DEBUG Inline builtin instance [block_inline 'cvmul/cvmul'] \u001b[0m\n",
      "\u001b[7;35m Declare obj 'cvmul' in context '(EmulationModule 'unit_cvmul')'(<class 'myirl.emulation.myhdl2irl.EmulationModule'>) \u001b[0m\n",
      "\u001b[32m DEBUG Inline builtin instance [pipe_block_inline 'vector_op/vector_op'] \u001b[0m\n",
      "\u001b[7;35m Declare obj 'vector_op' in context '(EmulationModule 'unit_cvmul')'(<class 'myirl.emulation.myhdl2irl.EmulationModule'>) \u001b[0m\n",
      " Collected inline component vector_opu_24u_24u_24u_24u_25u_25E_ADDSUB2 \n",
      "\u001b[7;35m Register type enum_ALUMODE_type in context 'module_defs' \u001b[0m\n",
      " Writing 'vector_op' to file /tmp/vector_op.vhdl \n",
      " Writing 'cvmul' to file /tmp/cvmul.vhdl \n",
      " Writing 'unit_cvmul' to file /tmp/unit_cvmul.vhdl \n",
      " Creating library file /tmp/module_defs.vhdl \n"
     ]
    }
   ],
   "source": [
    "sigs = unit_cvmul.signals_from_interface()\n",
    "uut = unit_cvmul(**sigs)\n",
    "files = uut.elab(targets.VHDL, elab_all = True, outpath = '/tmp')"
   ]
  },
  {
   "cell_type": "code",
   "execution_count": 16,
   "id": "6406ba04-1d3a-40cd-ad19-925244ff7a14",
   "metadata": {},
   "outputs": [
    {
     "name": "stdout",
     "output_type": "stream",
     "text": [
      "-- File generated from source:\n",
      "--     /tmp/ipykernel_4650/2801045659.py\n",
      "-- (c) 2016-2022 section5.ch\n",
      "-- Modifications may be lost, edit the source file instead.\n",
      "\n",
      "library IEEE;\n",
      "use IEEE.std_logic_1164.all;\n",
      "use IEEE.numeric_std.all;\n",
      "\n",
      "library work;\n",
      "\n",
      "use work.module_defs.all;\n",
      "use work.txt_util.all;\n",
      "use work.myirl_conversion.all;\n",
      "\n",
      "entity cvmul is\n",
      "    port (\n",
      "        clk : in std_ulogic;\n",
      "        dvin : in std_ulogic;\n",
      "        dvout : out std_ulogic;\n",
      "        x0 : in unsigned(11 downto 0);\n",
      "        x1 : in unsigned(11 downto 0);\n",
      "        y0 : in unsigned(11 downto 0);\n",
      "        y1 : in unsigned(11 downto 0);\n",
      "        q0 : out unsigned(24 downto 0);\n",
      "        q1 : out unsigned(24 downto 0)\n",
      "    );\n",
      "end entity cvmul;\n",
      "\n",
      "architecture myIRL of cvmul is\n",
      "    -- Local type declarations\n",
      "    -- Signal declarations\n",
      "    signal worker_ce1 : std_ulogic;\n",
      "    signal worker_ce2 : std_ulogic;\n",
      "    signal worker_ce0 : std_ulogic;\n",
      "    type a_v_8a50 is array (0 to 1) of unsigned(23 downto 0);\n",
      "    signal v_8a50 : a_v_8a50    ;\n",
      "    type a_v_9a6a is array (0 to 1) of unsigned(23 downto 0);\n",
      "    signal v_9a6a : a_v_9a6a    ;\n",
      "    type a_v_71ea is array (0 to 1) of unsigned(24 downto 0);\n",
      "    signal v_71ea : a_v_71ea    ;\n",
      "    signal s_6288 : unsigned(24 downto 0);\n",
      "    signal s_4a53 : unsigned(24 downto 0);\n",
      "begin\n",
      "    \n",
      "ce_queue:\n",
      "    process(clk)\n",
      "    begin\n",
      "        if rising_edge(clk) then\n",
      "            worker_ce1 <= worker_ce0;\n",
      "            worker_ce2 <= worker_ce1;\n",
      "        end if;\n",
      "    end process;\n",
      "    worker_ce0 <= dvin;\n",
      "    \n",
      "worker_stage0:\n",
      "    process(clk)\n",
      "    begin\n",
      "        if rising_edge(clk) then\n",
      "            if (worker_ce0 = '1') then\n",
      "                v_8a50(1) <= (x0 * y0);\n",
      "                v_8a50(0) <= (x0 * y1);\n",
      "                v_9a6a(0) <= (x1 * y0);\n",
      "                v_9a6a(1) <= (x1 * y1);\n",
      "            end if;\n",
      "        end if;\n",
      "    end process;\n",
      "    \n",
      "worker_stage1:\n",
      "    process(clk)\n",
      "    begin\n",
      "        if rising_edge(clk) then\n",
      "            if (worker_ce1 = '1') then\n",
      "                v_71ea(0) <= s_6288;\n",
      "                v_71ea(1) <= s_4a53;\n",
      "            end if;\n",
      "        end if;\n",
      "    end process;\n",
      "    dvout <= worker_ce2;\n",
      "    q0 <= v_71ea(1);\n",
      "    q1 <= v_71ea(0);\n",
      "    \n",
      "    -- Instance vector_op\n",
      "    inst_vector_op_1: entity work.vector_op\n",
      "    port map (\n",
      "        a0 => v_8a50(0),\n",
      "        a1 => v_8a50(1),\n",
      "        b0 => v_9a6a(0),\n",
      "        b1 => v_9a6a(1),\n",
      "        q0 => s_6288,\n",
      "        q1 => s_4a53\n",
      "    );\n",
      "end architecture myIRL;\n",
      "\n"
     ]
    }
   ],
   "source": [
    "!cat {files[1]}"
   ]
  },
  {
   "cell_type": "markdown",
   "id": "cdcdde12-8a9f-41af-bf78-076926a16356",
   "metadata": {},
   "source": [
    "## Verification\n",
    "\n",
    "In the [HLS Introduction](hls.ipynb) we have already modelled a complex multiplication and a test bench. We rerun this notebook:"
   ]
  },
  {
   "cell_type": "code",
   "execution_count": 17,
   "id": "eae5e555-7cf2-44a3-907d-8f5d3924484d",
   "metadata": {},
   "outputs": [
    {
     "name": "stdout",
     "output_type": "stream",
     "text": [
      "\u001b[7;35m Declare obj 'tb_unit' in context '(TBDesign 'tb')'(<class '__main__.TBDesign'>) \u001b[0m\n",
      "\u001b[32m Module tb: Existing instance unit_cmul, rename to unit_cmul_1 \u001b[0m\n",
      "\u001b[7;35m Declare obj 'sigdelay' in context '(TBDesign 'tb')'(<class '__main__.TBDesign'>) \u001b[0m\n",
      "\u001b[32m DEBUG Inline instance [CompInline 'sigdelay/sigdelay'] \u001b[0m\n",
      "\u001b[32m DEBUG Inline instance [CompInline 'sigdelay/sigdelay'] \u001b[0m\n",
      "EVAL MACRO[0] 1 0 0 1\n",
      " Writing 'sigdelay' to file /tmp/sigdelay.vhdl \n",
      " Writing 'unit_cmul_1' to file /tmp/unit_cmul_1.vhdl \n",
      " Writing 'tb_unit' to file /tmp/tb_unit.vhdl \n",
      "EVAL MACRO[0] 1 0 0 1\n",
      "EVAL MACRO[1] 2 1 2 2\n",
      "EVAL MACRO[2] 4 2 1 0\n",
      " Creating library file /tmp/module_defs.vhdl \n",
      "DEBUG_FILES ['/tmp/sigdelay.vhdl', '/tmp/unit_cmul_1.vhdl', '/tmp/tb_unit.vhdl', '/tmp/module_defs.vhdl', '/home/cyrite/.local/lib/python3.10/site-packages/cyritehdl-0.1b0-py3.10-linux-x86_64.egg/myirl/targets/vhdl/libmyirl.vhdl', '/home/cyrite/.local/lib/python3.10/site-packages/cyritehdl-0.1b0-py3.10-linux-x86_64.egg/myirl/targets/vhdl/txt_util.vhdl']\n",
      "==== COSIM stdout ====\n",
      "analyze /home/cyrite/.local/lib/python3.10/site-packages/cyritehdl-0.1b0-py3.10-linux-x86_64.egg/myirl/targets/vhdl/txt_util.vhdl\n",
      "analyze /home/cyrite/.local/lib/python3.10/site-packages/cyritehdl-0.1b0-py3.10-linux-x86_64.egg/myirl/targets/vhdl/libmyirl.vhdl\n",
      "analyze /tmp/unit_cmul_1.vhdl\n",
      "analyze /tmp/sigdelay.vhdl\n",
      "analyze /tmp/tb_unit.vhdl\n",
      "elaborate tb_unit\n",
      "\n",
      "==== COSIM stdout ====\n",
      "DEBUG SIG 0x0000000 0x0000001\n",
      "DEBUG SIG 0x0000002 0x0000006\n",
      "DEBUG SIG 0x0000004 0x0000002\n",
      "simulation stopped @44ns\n",
      "\n"
     ]
    },
    {
     "data": {
      "text/html": [
       "<div><script type=\"WaveDrom\">{\"signal\": [{\"name\": \"tb_unit.clk\", \"wave\": \"0101010101010101010101\", \"data\": \"0101010101010101010101\"}, {\"name\": \"tb_unit.ce\", \"wave\": \"0.....1.....0.........\", \"data\": \"010\"}, {\"name\": \"tb_unit.ra[11:0]\", \"wave\": \"u.....=.=.=...........\", \"data\": \"01 02 04 \"}, {\"name\": \"tb_unit.rb[11:0]\", \"wave\": \"u.....=.=.=...........\", \"data\": \"00 02 01 \"}, {\"name\": \"tb_unit.ia[11:0]\", \"wave\": \"u.....=.=.=...........\", \"data\": \"00 01 02 \"}, {\"name\": \"tb_unit.ib[11:0]\", \"wave\": \"u.....=.=.=...........\", \"data\": \"01 02 00 \"}, {\"name\": \"tb_unit.valid\", \"wave\": \"u..0.....1.....0......\", \"data\": \"010\"}, {\"name\": \"tb_unit.rq[24:0]\", \"wave\": \"u........=.=.=........\", \"data\": \"00 02 04 \"}, {\"name\": \"tb_unit.iq[24:0]\", \"wave\": \"u........=.=.=........\", \"data\": \"01 06 02 \"}]}</script></div>"
      ]
     },
     "metadata": {},
     "output_type": "display_data"
    },
    {
     "data": {
      "application/javascript": [
       "new Promise(function(resolve, reject) {\n",
       "\tvar script = document.createElement(\"script\");\n",
       "\tscript.onload = resolve;\n",
       "\tscript.onerror = reject;\n",
       "\tscript.src = \"https://wavedrom.com/wavedrom.min.js\";\n",
       "\tdocument.head.appendChild(script);\n",
       "}).then(() => {\n",
       "new Promise(function(resolve, reject) {\n",
       "\tvar script = document.createElement(\"script\");\n",
       "\tscript.onload = resolve;\n",
       "\tscript.onerror = reject;\n",
       "\tscript.src = \"https://wavedrom.com/skins/narrow.js\";\n",
       "\tdocument.head.appendChild(script);\n",
       "}).then(() => {\n",
       "WaveDrom.ProcessAll();\n",
       "});\n",
       "});"
      ]
     },
     "metadata": {},
     "output_type": "display_data"
    }
   ],
   "source": [
    "%run hls.ipynb"
   ]
  },
  {
   "cell_type": "markdown",
   "id": "8434ec9f-0546-46d4-a5a4-599a2e298ae3",
   "metadata": {},
   "source": [
    "This time we use our vector unit:"
   ]
  },
  {
   "cell_type": "code",
   "execution_count": 18,
   "id": "44e8eee0-a524-4805-b91d-31df5e15e805",
   "metadata": {},
   "outputs": [
    {
     "name": "stdout",
     "output_type": "stream",
     "text": [
      "\u001b[7;35m Declare obj 'tb_unit' in context '(TBDesign 'tb')'(<class '__main__.TBDesign'>) \u001b[0m\n",
      "\u001b[32m Module tb: Existing instance unit_cvmul, rename to unit_cvmul_1 \u001b[0m\n",
      "\u001b[32m DEBUG Inline builtin instance [block_inline 'cvmul/cvmul'] \u001b[0m\n",
      "\u001b[7;35m Declare obj 'cvmul' in context '(TBDesign 'tb')'(<class '__main__.TBDesign'>) \u001b[0m\n",
      "\u001b[7;35m Declare obj 'sigdelay' in context '(TBDesign 'tb')'(<class '__main__.TBDesign'>) \u001b[0m\n",
      "\u001b[32m DEBUG Inline instance [CompInline 'sigdelay/sigdelay'] \u001b[0m\n",
      "\u001b[32m DEBUG Inline instance [CompInline 'sigdelay/sigdelay'] \u001b[0m\n"
     ]
    },
    {
     "name": "stderr",
     "output_type": "stream",
     "text": [
      "/home/cyrite/.local/lib/python3.10/site-packages/cyritehdl-0.1b0-py3.10-linux-x86_64.egg/myirl/kernel/components.py:116: UserWarning: Fallback: Pass through other argument for arg mode (<class 'myirl.enumtypes.EnumItem'>)\n",
      "  base.warnings.warn(msg)\n"
     ]
    },
    {
     "name": "stdout",
     "output_type": "stream",
     "text": [
      "\u001b[32m DEBUG Inline builtin instance [pipe_block_inline 'vector_op/vector_op'] \u001b[0m\n",
      "\u001b[7;35m Declare obj 'vector_op' in context '(TBDesign 'tb')'(<class '__main__.TBDesign'>) \u001b[0m\n",
      "EVAL MACRO[0] 1 0 0 1\n",
      " Collected inline component vector_opu_24u_24u_24u_24u_25u_25E_ADDSUB2 \n",
      "\u001b[7;35m Register type enum_ALUMODE_type in context 'module_defs' \u001b[0m\n",
      " Writing 'vector_op' to file /tmp/vector_op.vhdl \n",
      " Writing 'sigdelay' to file /tmp/sigdelay.vhdl \n",
      " Writing 'cvmul' to file /tmp/cvmul.vhdl \n",
      " Writing 'unit_cvmul_1' to file /tmp/unit_cvmul_1.vhdl \n",
      " Writing 'tb_unit' to file /tmp/tb_unit.vhdl \n",
      "EVAL MACRO[0] 1 0 0 1\n",
      "EVAL MACRO[1] 2 1 2 2\n",
      "EVAL MACRO[2] 4 2 1 0\n",
      " Creating library file /tmp/module_defs.vhdl \n",
      "DEBUG_FILES ['/tmp/vector_op.vhdl', '/tmp/sigdelay.vhdl', '/tmp/cvmul.vhdl', '/tmp/unit_cvmul_1.vhdl', '/tmp/tb_unit.vhdl', '/tmp/module_defs.vhdl', '/home/cyrite/.local/lib/python3.10/site-packages/cyritehdl-0.1b0-py3.10-linux-x86_64.egg/myirl/targets/vhdl/libmyirl.vhdl', '/home/cyrite/.local/lib/python3.10/site-packages/cyritehdl-0.1b0-py3.10-linux-x86_64.egg/myirl/targets/vhdl/txt_util.vhdl']\n",
      "==== COSIM stdout ====\n",
      "analyze /tmp/module_defs.vhdl\n",
      "analyze /home/cyrite/.local/lib/python3.10/site-packages/cyritehdl-0.1b0-py3.10-linux-x86_64.egg/myirl/targets/vhdl/txt_util.vhdl\n",
      "analyze /home/cyrite/.local/lib/python3.10/site-packages/cyritehdl-0.1b0-py3.10-linux-x86_64.egg/myirl/targets/vhdl/libmyirl.vhdl\n",
      "analyze /tmp/vector_op.vhdl\n",
      "analyze /tmp/cvmul.vhdl\n",
      "analyze /tmp/unit_cvmul_1.vhdl\n",
      "analyze /tmp/sigdelay.vhdl\n",
      "analyze /tmp/tb_unit.vhdl\n",
      "elaborate tb_unit\n",
      "\n",
      "==== COSIM stdout ====\n",
      "simulation stopped @44ns\n",
      "\n"
     ]
    },
    {
     "data": {
      "text/plain": [
       "0"
      ]
     },
     "execution_count": 18,
     "metadata": {},
     "output_type": "execute_result"
    }
   ],
   "source": [
    "m = TBDesign(\"tb\", ghdl.GHDL)\n",
    "tb = m.tb_unit(signals, unit_cvmul)\n",
    "tb.run(200, debug = True)"
   ]
  },
  {
   "cell_type": "markdown",
   "id": "e18623c5-8e20-46d3-a5a6-43b192b1f7d9",
   "metadata": {},
   "source": [
    "## Conclusion\n",
    "\n",
    "We have run a vectorized variant of our complex multiplication through a simple test bench for our previous bare metal implementation and have (very cheaply) verified it is doing the same thing. However, this is no *proof* yet that this is the case, as we are simply just checking output results.\n",
    "\n",
    "To actually create a chain of proofs, we need to start with a trusted component, then work our way forward by proof of induction, based on the assumption that the previous operation was correct. For pipelines of the above, this is automatized in several ways:\n",
    "\n",
    "* Latency checks of involved signals\n",
    "* Bit size or overflow checks during inference\n",
    "\n",
    "This is where a new data type family is introduced: the `flexbv` fixed point arithmetics.\n",
    "\n",
    "To be documented..."
   ]
  }
 ],
 "metadata": {
  "kernelspec": {
   "display_name": "Python 3 (ipykernel)",
   "language": "python",
   "name": "python3"
  },
  "language_info": {
   "codemirror_mode": {
    "name": "ipython",
    "version": 3
   },
   "file_extension": ".py",
   "mimetype": "text/x-python",
   "name": "python",
   "nbconvert_exporter": "python",
   "pygments_lexer": "ipython3",
   "version": "3.10.0"
  }
 },
 "nbformat": 4,
 "nbformat_minor": 5
}

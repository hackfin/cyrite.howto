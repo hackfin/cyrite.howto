{
 "cells": [
  {
   "cell_type": "markdown",
   "id": "73a6e117-811a-4e52-8f7d-d5fde62eca65",
   "metadata": {},
   "source": [
    "# Cyrite memory library\n",
    "\n",
    "The cyrite library provides a few memory implementations that synthesize for most targets via HDL transfer. However synthesis tool specific issues come into play with generic memory models.\n",
    "\n",
    "Therefore, only functionally correct HDL simulation and synthesis via yosys is currently maintained.\n",
    "For pure engineering purposes, it is recommended to wrap external descriptions via a `@blackbox` entity."
   ]
  },
  {
   "cell_type": "markdown",
   "id": "ce4e2c76-379d-41f1-97a5-d196dbc714db",
   "metadata": {},
   "source": [
    "## Simple dual port RAM\n",
    "\n",
    "This RAM implementation can read/write from one port and read only from the other. It uses memory port containers as interface. There is also a dual clock version `sdpram_dc` present, but not documented here.\n",
    "\n",
    "Import the sdpram module from the RAM library:"
   ]
  },
  {
   "cell_type": "code",
   "execution_count": 1,
   "id": "4a1541d6-f706-42d0-a7c2-8a32e08fced7",
   "metadata": {},
   "outputs": [],
   "source": [
    "from cyhdl import *\n",
    "from cyrite.library.ram import sdpram"
   ]
  },
  {
   "cell_type": "markdown",
   "id": "26052936-6976-48a1-95f2-bc2d557c9e1c",
   "metadata": {},
   "source": [
    "We augment the memory port classes by a few simulation macros:"
   ]
  },
  {
   "cell_type": "code",
   "execution_count": 2,
   "id": "a2716e08-85d9-4d08-ae97-3878b33be831",
   "metadata": {},
   "outputs": [],
   "source": [
    "class SimMemPort_W(sdpram.MemPort_W):\n",
    "\tdef __init__(self, ctx, ADDR_W = 12, DATA_W = 32):\n",
    "\t\tsuper().__init__(ctx, ADDR_W = ADDR_W, DATA_W = DATA_W)\n",
    "\n",
    "\t@cyrite_method.sequence\n",
    "\tdef write(self, clk, addr, data):\n",
    "\t\tprint(\"WRITE\", addr, data)\n",
    "\t\tyield clk.negedge\n",
    "\t\tself.addr.next = addr\n",
    "\t\tself.idata.next = data\n",
    "\t\tself.we.next = True\n",
    "\t\tyield clk.negedge\n",
    "\t\tself.we.next = False\n",
    "\n",
    "class SimMemPort_R(sdpram.MemPort_R):\n",
    "\tdef __init__(self, ctx, ADDR_W = 12, DATA_W = 32):\n",
    "\t\tsuper().__init__(ctx, ADDR_W = ADDR_W, DATA_W = DATA_W)\n",
    "\n",
    "\t@cyrite_method.sequence\n",
    "\tdef check_sequence(self, clk, sequence):\n",
    "\t\tfor i in sequence:\n",
    "\t\t\tyield clk.negedge\n",
    "\t\t\tself.iaddr.next = i[0]\n",
    "\t\t\tyield clk.negedge\n",
    "\t\t\tassert q == i[1]\n",
    "\n"
   ]
  },
  {
   "cell_type": "markdown",
   "id": "0281a050-e8a4-4fed-af0e-607f6e79d213",
   "metadata": {},
   "source": [
    "## Testbench\n",
    "\n",
    "We use the test class below to carry out some tests on a `sdpram` unit. This one uses a single clock for both ports."
   ]
  },
  {
   "cell_type": "code",
   "execution_count": 3,
   "id": "c7c41d11-f5b7-4a99-8985-93c8f0b2644b",
   "metadata": {},
   "outputs": [],
   "source": [
    "from myirl.library.memory import MemArray\n",
    "\n",
    "class SDPTest(cyrite_factory.Module):\n",
    "\t\"\"\"Simple dual port RAM test suite. This uses:\n",
    "\t* a single clock for two ports\n",
    "\t* Asymmetrical dual read, single write\"\"\"\n",
    "\n",
    "\tdef __init__(self, target, BRAM_W = 10, DATA_W = 8):\n",
    "\t\tsuper().__init__(\"sdptest\", target)\n",
    "\t\tself.period = 10\n",
    "\t\tself.BRAM_W = BRAM_W\n",
    "\t\tself.DATA_W = DATA_W\n",
    "\n",
    "\tdef create_data(self):\n",
    "\t\tram_data = [ intbv(i)[self.DATA_W:] for i in range(2**self.BRAM_W) ]\n",
    "\n",
    "\t\tinit_ram = MemArray(ram_data,\n",
    "\t\t\tname = 'ram_sig',\n",
    "\t\t\tinit = True,\n",
    "\t\telem_size = self.DATA_W)\n",
    "\n",
    "\t\treturn init_ram\n",
    "\t\n",
    "\t@cyrite_factory.testbench(\"ns\")\n",
    "\tdef testbench(self, uut, TRANSPARENT):\n",
    "\t\tclk = self.ClkSignal(name = 'clk')\n",
    "\n",
    "\t\tpr = SimMemPort_R(self, ADDR_W = self.BRAM_W, DATA_W = self.DATA_W, name = \"pr\")\n",
    "\t\tpw = SimMemPort_W(self, ADDR_W = self.BRAM_W, DATA_W = self.DATA_W, name = \"pw\")\n",
    "\n",
    "\t\t@self.always(delay(self.period))\n",
    "\t\tdef clkgen():\n",
    "\t\t\tclk.next = ~clk\n",
    "\n",
    "\t\tinst = uut(clk, port_r = pr, port_rw = pw, ram = self.create_data(),\n",
    "\t\t\tTRANSPARENT = TRANSPARENT)\n",
    "\n",
    "\t\tq = pr.odata\n",
    "\n",
    "\t\t@self.hdlmacro\n",
    "\t\tdef transparency_check(addr, value):\n",
    "\t\t\tpr.addr.next = addr\n",
    "\t\t\t# Write and verify that we're not bypassing:\n",
    "\t\t\t# i.e. the value is expected to be the initial one\n",
    "\t\t\tyield from pw.write(clk, addr, value)\n",
    "\t\t\tif TRANSPARENT:\n",
    "\t\t\t\tassert q == value\n",
    "\t\t\telse:\n",
    "\t\t\t\tassert q == addr # Initialized value\n",
    "\t\t\t# Now make sure we're getting the written value\n",
    "\t\t\tyield clk.negedge\n",
    "\t\t\tassert q == value\n",
    "\n",
    "\t\t@self.sequence\n",
    "\t\tdef main():\n",
    "\t\t\tpw.we.next = False\n",
    "\t\t\tyield delay(5)\n",
    "\t\t\tyield from transparency_check(0x20, 0xaa)\n",
    "\t\t\tyield delay(40)\n",
    "\n",
    "\t\t\traise StopSimulation\n",
    "\n",
    "\t\treturn instances()\n",
    "\n"
   ]
  },
  {
   "cell_type": "markdown",
   "id": "2fb3ec0a-15a9-4ca1-bab3-334401239f9f",
   "metadata": {},
   "source": [
    "Now we run the test bench through the icarus Verilog simulator:"
   ]
  },
  {
   "cell_type": "code",
   "execution_count": 4,
   "id": "5fe0d7ce-c9ce-457f-a39e-0d7ac9a19216",
   "metadata": {},
   "outputs": [
    {
     "name": "stdout",
     "output_type": "stream",
     "text": [
      "\u001b[7;35m Declare obj 'testbench' in context '(SDPTest 'sdptest')'(<class '__main__.SDPTest'>) \u001b[0m\n",
      " Writing 'sdpram' to file /tmp/sdpram.v \n",
      "DEBUG: Source 'ram_sig' is logic: <class 'myirl.library.memory.MemArray'>\n",
      "DEBUG NAME port_r_pr_out_odata <class 'myirl.kernel._types.ChildAlias'>\n",
      " Writing 'testbench' to file /tmp/testbench.v \n",
      "DEBUG NAME pw_in_we <class 'myirl.kernel._types.ChildAlias'>\n",
      "DEBUG NAME pr_in_addr <class 'myirl.kernel._types.ChildAlias'>\n",
      "DEBUG NAME pw_in_addr <class 'myirl.kernel._types.ChildAlias'>\n",
      "DEBUG NAME pw_in_idata <class 'myirl.kernel._types.ChildAlias'>\n",
      " Note: Changing library path prefix to /tmp/ \n",
      " Creating library file /tmp/module_defs.v \n",
      "DEBUG FILES ['/tmp/sdpram.v', '/tmp/testbench.v']\n",
      "==== COSIM stdout ====\n",
      "VCD info: dumpfile testbench.vcd opened for output.\n",
      "WRITE          32         170 \n",
      "Stop Simulation\n",
      "\n"
     ]
    },
    {
     "name": "stderr",
     "output_type": "stream",
     "text": [
      "/home/cyrite/.local/lib/python3.10/site-packages/cyritehdl-0.1b0-py3.10-linux-x86_64.egg/cyrite/simulation/icarus.py:51: UserWarning: Ignoring wavetrace argument for Verilog simulator\n",
      "  warnings.warn(\"Ignoring wavetrace argument for Verilog simulator\")\n"
     ]
    }
   ],
   "source": [
    "from cyrite.simulation import icarus\n",
    "\n",
    "def test_sdpram(target, TRANSPARENT):\n",
    "    t = SDPTest(target)\n",
    "\n",
    "    tb = t.testbench(sdpram.sdpram, TRANSPARENT)\n",
    "\n",
    "    tb.run(200, debug = True, recompile = True, wavetrace = True)\n",
    "    return tb\n",
    "\n",
    "tb = test_sdpram(icarus.ICARUS, True)"
   ]
  },
  {
   "cell_type": "markdown",
   "id": "ee162307-3562-4065-b64f-c09daef1b4f9",
   "metadata": {},
   "source": [
    "### Wave display\n",
    "\n",
    "We can observe that transparency is sane:"
   ]
  },
  {
   "cell_type": "code",
   "execution_count": 5,
   "id": "c32ae6b1-873b-498c-942f-c03a00394cd2",
   "metadata": {},
   "outputs": [
    {
     "data": {
      "text/html": [
       "<div><script type=\"WaveDrom\">{\"signal\": [{\"name\": \"testbench.clk\", \"wave\": \"01010101010\", \"data\": \"01010101010\"}, {\"name\": \"testbench.pw_in_addr[9:0]\", \"wave\": \"x.=........\", \"data\": \"20 \"}, {\"name\": \"testbench.pr_in_addr[9:0]\", \"wave\": \"x=.........\", \"data\": \"20 \"}, {\"name\": \"testbench.pw_in_idata[7:0]\", \"wave\": \"x.=........\", \"data\": \"aa \"}, {\"name\": \"testbench.pw_in_we\", \"wave\": \"0.1.0......\", \"data\": \"010\"}, {\"name\": \"testbench.pr_out_odata[7:0]\", \"wave\": \"x=.=.......\", \"data\": \"20 aa \"}]}</script></div>"
      ]
     },
     "metadata": {},
     "output_type": "display_data"
    },
    {
     "data": {
      "application/javascript": [
       "new Promise(function(resolve, reject) {\n",
       "\tvar script = document.createElement(\"script\");\n",
       "\tscript.onload = resolve;\n",
       "\tscript.onerror = reject;\n",
       "\tscript.src = \"https://wavedrom.com/wavedrom.min.js\";\n",
       "\tdocument.head.appendChild(script);\n",
       "}).then(() => {\n",
       "new Promise(function(resolve, reject) {\n",
       "\tvar script = document.createElement(\"script\");\n",
       "\tscript.onload = resolve;\n",
       "\tscript.onerror = reject;\n",
       "\tscript.src = \"https://wavedrom.com/skins/narrow.js\";\n",
       "\tdocument.head.appendChild(script);\n",
       "}).then(() => {\n",
       "WaveDrom.ProcessAll();\n",
       "});\n",
       "});"
      ]
     },
     "metadata": {},
     "output_type": "display_data"
    }
   ],
   "source": [
    "from cyrite import waveutils\n",
    "c = {\n",
    "    \"testbench.clk\" : None, \"testbench.pw_in_addr[9:0]\"  : None,\n",
    "    \"testbench.pr_in_addr[9:0]\"  : None,\n",
    "    \"testbench.pw_in_idata[7:0]\" : None, \"testbench.pw_in_we\" : None,\n",
    "    \"testbench.pr_out_odata[7:0]\" : None\n",
    "\n",
    "}\n",
    "\n",
    "waveutils.draw_wavetrace(tb, \"testbench.vcd\", \"clk\", cfg = c)"
   ]
  },
  {
   "cell_type": "markdown",
   "id": "44805d8c-057c-4f69-b6d5-cce8631e2f69",
   "metadata": {},
   "source": [
    "## True dual port RAM\n",
    "\n",
    "See [True dual port RAM examples](../examples/tdpram.ipynb)"
   ]
  },
  {
   "cell_type": "markdown",
   "id": "4c03b07f-ce22-46f8-9feb-f2a0396ead90",
   "metadata": {},
   "source": [
    "## Direct synthesis support for RAM\n",
    "\n",
    "The RTLIL target conversion detects some behavioural descriptions of RAM and turns them into yosys primitives that can be processed further.\n",
    "Due to the complex memory handling architecture of yosys, the entire RAM API is frozen to a possibly outdated version and supports CXXRTL output in particular. All other FPGA architecture specific configurations were removed due to maintenance complexity.\n",
    "\n",
    "As an example to verify proper conversion to your target, see:\n",
    "\n",
    "* [Yosys memory inference](../examples/yosys_memory.ipynb)\n",
    "\n",
    "The recommended approach to implement a design for a specific RAM architecture is to use `@blackbox` wrappers for an existing working Verilog model or a primitive."
   ]
  }
 ],
 "metadata": {
  "kernelspec": {
   "display_name": "Python 3 (ipykernel)",
   "language": "python",
   "name": "python3"
  },
  "language_info": {
   "codemirror_mode": {
    "name": "ipython",
    "version": 3
   },
   "file_extension": ".py",
   "mimetype": "text/x-python",
   "name": "python",
   "nbconvert_exporter": "python",
   "pygments_lexer": "ipython3",
   "version": "3.10.0"
  }
 },
 "nbformat": 4,
 "nbformat_minor": 5
}

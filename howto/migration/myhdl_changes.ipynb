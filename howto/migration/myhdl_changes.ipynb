{
 "cells": [
  {
   "cell_type": "markdown",
   "metadata": {},
   "source": [
    "# Cyrite HDL: Guide for migration from MyHDL\n",
    "\n",
    "These are some crucial differences to the MyHDL internals when migrating towards cyHDL. The `cyhdl` layer with its built-in generation syntax will force you to follow a little different way of thinking.\n",
    "\n",
    "To outline the paradigm shifts:\n",
    "\n",
    "* Modular translation instead of flattened hierarchy: May require strict types (see below)\n",
    "* MyHDL code `@block` components are AST translated to an intermediate Python notation ('IRL')\n",
    "* IRL is 'transpiled' to the target HDL (executed) from myIRL, unlike 'translated' (by AST-transformation)\n",
    "* Conversion and implementation rules may be buried the extension objects (`@blackbox`es, custom signals, etc.)\n",
    "* Stricter interface rules (**Type annotation**), less implicit handling of mixed type parameters (constants, signals)\n",
    "* Arithmetics: the MyHDL datatype `intbv` is inherited from MyHDL almost 'as is' and its arithmetic behaviour is identical in simulation. However, some statements may require explicit casting when signed conversions are involved. So, the emulation framework may be more strict in some cases and enforce some code discipline according to particular design rules."
   ]
  },
  {
   "cell_type": "markdown",
   "metadata": {},
   "source": [
    "Import in emulation mode:"
   ]
  },
  {
   "cell_type": "code",
   "execution_count": 1,
   "metadata": {
    "tags": []
   },
   "outputs": [],
   "source": [
    "from cyhdl import *"
   ]
  },
  {
   "cell_type": "markdown",
   "metadata": {},
   "source": [
    "## Interface\n",
    "\n",
    "The interface represents the port/parameter layer connecting hierarchical modules, which is distilled from the function parameters during analysis. However, not all function parameters infer to an interface (more below).\n",
    "\n",
    "Type annotation is optional, but highly recommended for signals routed through the hierarchy. Missing annotation will now result in a warning.\n",
    "\n",
    "You may still pass down either a constant or a signal via a classic port parameter and omit the annotation ('legacy' myHDL style). However, this can have unwanted side effects. For example, it may require you to explicitely `.insert()` a signal into its parenting function, if it ends up undefined in the resulting HDL during conversion. This behaviour may change in later releases.\n",
    "\n",
    "Type annotation may also come into play to explicitely infer a specific interface in the resulting HDL.\n",
    "\n",
    "For the code below, `s` can only be a `bool()` or Signal of it. To avoid warnings, we don't specify a type annotation for `s`."
   ]
  },
  {
   "cell_type": "code",
   "execution_count": 2,
   "metadata": {
    "tags": []
   },
   "outputs": [],
   "source": [
    "@block\n",
    "def unit(a : Signal, q : Signal.Output, s):\n",
    "    @always_comb\n",
    "    def worker():\n",
    "        if s: # This is allowed with a bool or bit signal\n",
    "            q.next = a\n",
    "        else:\n",
    "            q.next = ~a\n",
    "    \n",
    "    return locals()"
   ]
  },
  {
   "cell_type": "markdown",
   "metadata": {},
   "source": [
    "Note also the `locals()` call instead of `instances()` (which is in fact now identical within a Python context). This allows some more analysis (signals, etc.) in the future. It is **required** to use the `locals()` notation within a cythonizeable (compiled) module."
   ]
  },
  {
   "cell_type": "code",
   "execution_count": 3,
   "metadata": {
    "tags": []
   },
   "outputs": [
    {
     "name": "stdout",
     "output_type": "stream",
     "text": [
      " Writing 'unit' to file /tmp/myirl_unit_5g72z6bd/unit.vhdl \n"
     ]
    }
   ],
   "source": [
    "from myirl.test.common_test import run_ghdl, SYSTEM_DIR\n",
    "\n",
    "def testx(uut, MODE = 0):\n",
    "    a, q = [ Signal(bool())  for i in range(2) ]\n",
    "    if MODE:\n",
    "        s = Signal(bool())\n",
    "    else:\n",
    "        s = False\n",
    "    \n",
    "    inst = uut(a, q, s)\n",
    "    return inst\n",
    "\n",
    "inst = testx(unit)\n",
    "f0 = inst.elab(targets.VHDL)"
   ]
  },
  {
   "cell_type": "markdown",
   "metadata": {},
   "source": [
    "For details of the interface generation, see IRL details [Interfaces](interfaces.ipynb)."
   ]
  },
  {
   "cell_type": "markdown",
   "metadata": {},
   "source": [
    "### Strict wire type interface\n",
    "\n",
    "The strict wire type is created by a `Signal.Type` invocation. When a type annotation is a tuple of types, arguments are checked against each item and the first match wins."
   ]
  },
  {
   "cell_type": "code",
   "execution_count": 4,
   "metadata": {
    "tags": []
   },
   "outputs": [
    {
     "name": "stdout",
     "output_type": "stream",
     "text": [
      " Writing 'unit_s' to file /tmp/myirl_unit_s_8nipb0sf/unit_s.vhdl \n"
     ]
    }
   ],
   "source": [
    "Bool = Signal.Type(bool)\n",
    "\n",
    "@block\n",
    "def unit_s(a : Bool, q : Bool.Output, s : (Bool, bool)):\n",
    "    @always_comb\n",
    "    def worker():\n",
    "        if s: # This is allowed with a bool or bit signal\n",
    "            q.next = a\n",
    "        else:\n",
    "            q.next = ~a\n",
    "    \n",
    "    return locals()\n",
    "\n",
    "inst = testx(unit_s)\n",
    "f0 = inst.elab(targets.VHDL)"
   ]
  },
  {
   "cell_type": "markdown",
   "metadata": {},
   "source": [
    "### Differences in VHDL output\n",
    "\n",
    "We output both scenarios and run the resulting VHDL code through analysis plus `diff` to see how the interface is inferred:"
   ]
  },
  {
   "cell_type": "code",
   "execution_count": 5,
   "metadata": {
    "tags": []
   },
   "outputs": [
    {
     "data": {
      "text/plain": [
       "0"
      ]
     },
     "execution_count": 5,
     "metadata": {},
     "output_type": "execute_result"
    }
   ],
   "source": [
    "run_ghdl(f0, inst, debug = False)"
   ]
  },
  {
   "cell_type": "code",
   "execution_count": 6,
   "metadata": {
    "tags": []
   },
   "outputs": [
    {
     "name": "stdout",
     "output_type": "stream",
     "text": [
      "\u001b[32m Module unit_s: Existing instance unit_s, rename to unit_s_1 \u001b[0m\n",
      " Writing 'unit_s_1' to file /tmp/myirl_unit_s_hazfu0ly/unit_s_1.vhdl \n"
     ]
    },
    {
     "data": {
      "text/plain": [
       "0"
      ]
     },
     "execution_count": 6,
     "metadata": {},
     "output_type": "execute_result"
    }
   ],
   "source": [
    "inst = testx(unit_s, 1)\n",
    "f1 = inst.elab(targets.VHDL)\n",
    "run_ghdl(f1, inst)"
   ]
  },
  {
   "cell_type": "code",
   "execution_count": 7,
   "metadata": {
    "scrolled": true,
    "tags": []
   },
   "outputs": [
    {
     "name": "stdout",
     "output_type": "stream",
     "text": [
      "\u001b[1m--- unit\u001b[0m\r\n",
      "\u001b[1m+++ unit_1\u001b[0m\r\n",
      "\u001b[36m@@ -12,22 +12,23 @@\u001b[0m\r\n",
      " use work.txt_util.all;\r\n",
      " use work.myirl_conversion.all;\r\n",
      " \r\n",
      "\u001b[31m-entity unit_s is\u001b[0m\r\n",
      "\u001b[32m+entity unit_s_1 is\u001b[0m\r\n",
      "     port (\r\n",
      "         a : in std_ulogic;\r\n",
      "\u001b[31m-        q : out std_ulogic\u001b[0m\r\n",
      "\u001b[32m+        q : out std_ulogic;\u001b[0m\r\n",
      "\u001b[32m+        s : in std_ulogic\u001b[0m\r\n",
      "     );\r\n",
      "\u001b[31m-end entity unit_s;\u001b[0m\r\n",
      "\u001b[32m+end entity unit_s_1;\u001b[0m\r\n",
      " \r\n",
      "\u001b[31m-architecture cyriteHDL of unit_s is\u001b[0m\r\n",
      "\u001b[32m+architecture cyriteHDL of unit_s_1 is\u001b[0m\r\n",
      "     -- Local type declarations\r\n",
      "     -- Signal declarations\r\n",
      " begin\r\n",
      "     \r\n",
      " worker:\r\n",
      "\u001b[31m-    process(a)\u001b[0m\r\n",
      "\u001b[32m+    process(a, s)\u001b[0m\r\n",
      "     begin\r\n",
      "\u001b[31m-        if FALSE then\u001b[0m\r\n",
      "\u001b[32m+        if (s = '1') then\u001b[0m\r\n",
      "             q <= a;\r\n",
      "         else\r\n",
      "             q <= not a;\r\n"
     ]
    }
   ],
   "source": [
    "! diff --label unit --label unit_1 --color=always -u {f0[0]} {f1[0]}"
   ]
  },
  {
   "cell_type": "markdown",
   "metadata": {},
   "source": [
    "### Interface types\n",
    "\n",
    "Only `Signal` type derivatives will infer to a port. All others pass as 'run time' parameters, unless they are explicitely passed as parameter, specified past the PEP570 `*` delimiter. This has the following effects:\n",
    "\n",
    "* Bare (undecorated) class support is experimental and translates Signals members, only.\n",
    "* A bare class unrolls into members and in/out direction is guessed\n",
    "* `dict` or `tuple` container types of signals will create local instances of their children"
   ]
  },
  {
   "cell_type": "code",
   "execution_count": 8,
   "metadata": {
    "tags": []
   },
   "outputs": [],
   "source": [
    "@block\n",
    "def unit_local_inst(d : PassThrough(dict), t : PassThrough(tuple)):\n",
    "    \n",
    "    a = d['a']\n",
    "    b = d['b']\n",
    "    \n",
    "    q = t[0]\n",
    "    \n",
    "    s = concat(a, b)\n",
    "\n",
    "    @always_comb\n",
    "    def worker():\n",
    "        q.next = s\n",
    "    \n",
    "    return instances()"
   ]
  },
  {
   "cell_type": "markdown",
   "metadata": {},
   "source": [
    "To explicitely pass through an argument without warning, we use the PassThrough() type construct. This is recommended practise."
   ]
  },
  {
   "cell_type": "code",
   "execution_count": 9,
   "metadata": {
    "tags": []
   },
   "outputs": [
    {
     "name": "stdout",
     "output_type": "stream",
     "text": [
      " Writing 'unit_local_inst' to file /tmp/myirl_unit_local_inst__705fvl7/unit_local_inst.vhdl \n"
     ]
    }
   ],
   "source": [
    "def convert(uut):\n",
    "    a, b = [ Signal(intbv(0x5)[4:], name=n) for n in ('a', 'b') ]\n",
    "    q = Signal(intbv()[8:], name='q')\n",
    "    inst = uut({'a' : a, 'b' : b}, (q,))\n",
    "    return inst.elab(targets.VHDL)\n",
    "f = convert(unit_local_inst)"
   ]
  },
  {
   "cell_type": "code",
   "execution_count": 10,
   "metadata": {
    "tags": []
   },
   "outputs": [
    {
     "name": "stdout",
     "output_type": "stream",
     "text": [
      "    -- Local type declarations\r\n",
      "    -- Signal declarations\r\n",
      "    signal q : unsigned(7 downto 0);\r\n",
      "    signal a : unsigned(3 downto 0);\r\n",
      "    signal b : unsigned(3 downto 0);\r\n",
      "begin\r\n",
      "    \r\n",
      "worker:\r\n",
      "    process(a, b)\r\n",
      "    begin\r\n",
      "        q <= (a & b);\r\n",
      "    end process;\r\n"
     ]
    }
   ],
   "source": [
    "! grep -A 10 declarations {f[0]}"
   ]
  },
  {
   "cell_type": "markdown",
   "metadata": {},
   "source": [
    "### Inferred port signal types\n",
    "\n",
    "The hierarchical interfaces are restricted to signals with a well defined width, as if they were physical pins.\n",
    "\n",
    "Therefore, the following data types can not be used as `in`/`out` signal arguments:\n",
    "\n",
    "* Vector/Array data types\n",
    "* Other custom types not derived from the `Signal` class."
   ]
  },
  {
   "cell_type": "markdown",
   "metadata": {},
   "source": [
    "### Type checking\n",
    "\n",
    "Errors will now be raised on type mismatches. See [Type checking](typechecking.ipynb) for details."
   ]
  },
  {
   "cell_type": "markdown",
   "metadata": {},
   "source": [
    "## Loops\n",
    "\n",
    "Loops are no longer supported *inside* logic generators, except `@instance` functions that generate sequential statements.\n",
    "\n",
    "Support is currently rather limited to the constructs below.\n",
    "\n",
    "### Iteration and range"
   ]
  },
  {
   "cell_type": "code",
   "execution_count": 11,
   "metadata": {
    "tags": []
   },
   "outputs": [
    {
     "name": "stdout",
     "output_type": "stream",
     "text": [
      " Writing 'tb_for_loop' to file /tmp/myirl_tb_for_loop_qt05h6eb/tb_for_loop.vhdl \n",
      "Warning: Implicit truncation of ADD(a, C:1) result\n"
     ]
    }
   ],
   "source": [
    "@block\n",
    "def tb_for_loop():\n",
    "    s, a = [ Signal(intbv()[4:]) for _ in range(2) ]\n",
    "\n",
    "    @always_comb\n",
    "    def worker():\n",
    "        s.next = a + 1\n",
    "\n",
    "    @instance\n",
    "    def stim():\n",
    "        for j in range(3):\n",
    "            a.next = j\n",
    "            yield delay(1)\n",
    "            assert s == (j + 1)\n",
    "\n",
    "        for it in [ (0, 1), (12, 13) ]:\n",
    "            a.next = it[0]\n",
    "            yield delay(1)\n",
    "            assert s == it[1]\n",
    "\n",
    "    return instances()\n",
    "\n",
    "\n",
    "def test_for_loop():\n",
    "    uut = tb_for_loop()\n",
    "    f = uut.elab(targets.VHDL)\n",
    "    run_ghdl(f, tb_for_loop)\n",
    "\n",
    "test_for_loop()"
   ]
  },
  {
   "cell_type": "markdown",
   "metadata": {},
   "source": [
    "## Variables\n",
    "\n",
    "Variables in general have shown to be cumbersome in HDL translation and are causes for many pitfalls and confusing debug scenarios. Therefore: handle with care, **try avoiding variables in the HDL generation** where possible. For RTLIL direct synthesis, Variable types are **no longer** supported.\n",
    "\n",
    "However, variables support is maintained for the **test bench** (`@simulation.generator`) IRL functionality. As of now, IRL and myHDL constructs can be mixed.\n",
    "\n",
    "To define a variable 'myhdl style', the first assignment in the local sub function counts and defines the type (which can not be altered). Therefore, logical expressions are not valid for first time assignment.\n",
    "\n",
    "**Note** : Variable support is incomplete:\n",
    " * Do not use booleans for std_logic synthesis"
   ]
  },
  {
   "cell_type": "code",
   "execution_count": 12,
   "metadata": {
    "tags": []
   },
   "outputs": [],
   "source": [
    "@block\n",
    "def tb_var():\n",
    "    @instance\n",
    "    def seq():\n",
    "        v = intbv(10)[5:] # Intbv type\n",
    "        z = -1             # Unlimited integer\n",
    "        s = \"LUT\"\n",
    "        \n",
    "    return instances()"
   ]
  },
  {
   "cell_type": "markdown",
   "metadata": {},
   "source": [
    "Conversion to VHDL:"
   ]
  },
  {
   "cell_type": "code",
   "execution_count": 13,
   "metadata": {
    "tags": []
   },
   "outputs": [
    {
     "name": "stdout",
     "output_type": "stream",
     "text": [
      " Writing 'tb_var' to file /tmp/myirl_tb_var_l2cxbvmc/tb_var.vhdl \n"
     ]
    }
   ],
   "source": [
    "def convert(uut):\n",
    "    inst = uut()\n",
    "    files = inst.elab(targets.VHDL)\n",
    "    return files\n",
    "\n",
    "f = convert(tb_var)"
   ]
  },
  {
   "cell_type": "markdown",
   "metadata": {},
   "source": [
    "And resulting output:"
   ]
  },
  {
   "cell_type": "code",
   "execution_count": 14,
   "metadata": {
    "tags": []
   },
   "outputs": [
    {
     "name": "stdout",
     "output_type": "stream",
     "text": [
      "    process\r\n",
      "    variable v : unsigned(4 downto 0);\r\n",
      "    variable z : integer;\r\n",
      "    variable s : string;\r\n",
      "    begin\r\n",
      "        v := \"01010\";\r\n",
      "        z := -1;\r\n",
      "        s := \"LUT\";\r\n",
      "        wait;\r\n",
      "    end process;\r\n",
      "end architecture cyriteHDL;\r\n",
      "\r\n"
     ]
    }
   ],
   "source": [
    "!grep -A 10 process {f[0]}"
   ]
  },
  {
   "cell_type": "markdown",
   "metadata": {},
   "source": [
    "For further verification using GHDL, we insert an auxiliary:"
   ]
  },
  {
   "cell_type": "code",
   "execution_count": 15,
   "metadata": {
    "tags": []
   },
   "outputs": [],
   "source": [
    "def test_top(uut):\n",
    "    inst = top(uut)\n",
    "    f = inst.elab(targets.VHDL, elab_all=True)\n",
    "    run_ghdl(f, inst, analyze_only = True)\n",
    "    return f\n",
    "\n",
    "def test_unit(uut, debug = False):\n",
    "    inst = uut()\n",
    "    vhdl93 = targets.vhdl.VHDL93()\n",
    "    f = inst.elab(vhdl93, elab_all=True)\n",
    "    run_ghdl(f, inst, debug = debug, std = '93')\n",
    "    return f"
   ]
  },
  {
   "cell_type": "markdown",
   "metadata": {},
   "source": [
    "## Signals\n",
    "\n",
    "The `components.Signal` class emulates the myHDL signal with the native `intbv` wire type behaviour up to a few corner cases which are handled differently (in particular with arithmetics).\n",
    "\n",
    "However, there are new signal types introduced:\n",
    "* ClkSignal: A dedicated clock signal\n",
    "\n",
    "From the top level, a clock signal will require redefining to `ClkSignal()`.\n",
    "\n",
    "See more about signal types in [Signals](../notebooks/signals.ipynb)."
   ]
  },
  {
   "cell_type": "markdown",
   "metadata": {},
   "source": [
    "## Logic operations\n",
    "\n",
    "In myHDL, you can more or less freely treat boolean signals, logical combinations and mixtures of those the same.\n",
    "However, the internal representation reduces all that to binary logic operations, therefore legacy myHDL style is translated accordingly.\n",
    "\n",
    "This is tricky, as coding style previously had an impact to the translation to various VHDL standards, for instance, VHDL-08 is more relaxed with respect to boolean and signal treatment.\n",
    "\n",
    "**Note:** *Boolean* combinations are allowed only within conditional statements. When assigning logical combinations to a signal, you *must* use a bitwise operator.\n",
    "\n",
    "See also [myIRL reference on operations](../notebooks/operations.ipynb)."
   ]
  },
  {
   "cell_type": "code",
   "execution_count": 16,
   "metadata": {
    "tags": []
   },
   "outputs": [
    {
     "name": "stdout",
     "output_type": "stream",
     "text": [
      " Writing 'tb_ck' to file /tmp/myirl_tb_ck_lnsraksv/tb_ck.vhdl \n",
      " Creating library file module_defs.vhdl \n"
     ]
    },
    {
     "name": "stderr",
     "output_type": "stream",
     "text": [
      "/home/cyrite/.local/lib/python3.10/site-packages/cyritehdl-0.1b0-py3.10-linux-x86_64.egg/myirl/emulation/myhdl2irl.py:741: UserWarning: /tmp/ipykernel_14293/4270055741.py:tb_ck():7 Replacing logical `not` by inversion\n",
      "  warnings.warn(self.get_location(node) + \\\n"
     ]
    }
   ],
   "source": [
    "@block\n",
    "def tb_ck():\n",
    "    clk = ClkSignal()\n",
    "    \n",
    "    @always(delay(1))\n",
    "    def clkgen():\n",
    "        clk.next = not clk\n",
    "        \n",
    "    return instances()\n",
    "\n",
    "try:\n",
    "    test_unit(tb_ck)\n",
    "except ValueError as e:\n",
    "    print(\"EXPECTED\", e)"
   ]
  },
  {
   "cell_type": "markdown",
   "metadata": {},
   "source": [
    "On a sidenote: see the translation to IRL of the above tb_ck unit:"
   ]
  },
  {
   "cell_type": "code",
   "execution_count": 17,
   "metadata": {
    "tags": []
   },
   "outputs": [
    {
     "name": "stdout",
     "output_type": "stream",
     "text": [
      "==============================\n",
      "Unparsing unit tb_ck\n",
      "==============================\n",
      "\n",
      "\n",
      "@block\n",
      "def tb_ck():\n",
      "    clk = ClkSignal()\n",
      "\n",
      "    @always_(delay(1))\n",
      "    def clkgen(_context):\n",
      "        (yield [clk.set((~ clk))])\n",
      "    return instances()\n",
      "\n"
     ]
    }
   ],
   "source": [
    "print(tb_ck.unparse())"
   ]
  },
  {
   "cell_type": "markdown",
   "metadata": {},
   "source": [
    "The following unit translates a condition using boolean logic as follows:"
   ]
  },
  {
   "cell_type": "code",
   "execution_count": 18,
   "metadata": {
    "tags": []
   },
   "outputs": [
    {
     "name": "stdout",
     "output_type": "stream",
     "text": [
      " Writing 'unit' to file /tmp/myirl_unit_we3v48g3/unit.vhdl \n",
      " Creating library file module_defs.vhdl \n"
     ]
    },
    {
     "data": {
      "text/plain": [
       "['/tmp/myirl_unit_we3v48g3/unit.vhdl', 'module_defs.vhdl']"
      ]
     },
     "execution_count": 18,
     "metadata": {},
     "output_type": "execute_result"
    }
   ],
   "source": [
    "@block\n",
    "def unit():\n",
    "    a = Signal(intbv(0xaa)[8:])\n",
    "    a.init = True\n",
    "    q = Signal(bool())\n",
    "\n",
    "    @instance\n",
    "    def stim():\n",
    "        q.next = False\n",
    "        if a[0] == True and a[1] == False and a[7] == False:\n",
    "            q.next = True\n",
    "            \n",
    "        yield delay(1)\n",
    "        assert q == False\n",
    "    \n",
    "    return instances()\n",
    "\n",
    "test_unit(unit)"
   ]
  },
  {
   "cell_type": "markdown",
   "metadata": {},
   "source": [
    "Booleans for variables are also implemented:"
   ]
  },
  {
   "cell_type": "code",
   "execution_count": 19,
   "metadata": {
    "tags": []
   },
   "outputs": [
    {
     "name": "stdout",
     "output_type": "stream",
     "text": [
      " Writing 'unit_var' to file /tmp/myirl_unit_var_75j_xeh7/unit_var.vhdl \n",
      " Creating library file module_defs.vhdl \n"
     ]
    }
   ],
   "source": [
    "@block\n",
    "def unit_var():\n",
    "    a = Signal(intbv(0xaa)[8:])\n",
    "    a.init = True\n",
    "    q = Signal(bool())\n",
    "\n",
    "    @instance\n",
    "    def stim():\n",
    "        v = False\n",
    "        v = (a[0] == True) & (a[1] == False) & (a[7] == False)\n",
    "        q.next = False\n",
    "        yield delay(1) # Must wait to settle\n",
    "        if v: # Make sure to not use `v == True`:\n",
    "            q.next = True\n",
    "            \n",
    "        yield delay(1)\n",
    "        assert q == False\n",
    "    \n",
    "    return instances()\n",
    "try:\n",
    "    test_unit(unit_var, debug = False)\n",
    "except Exception as e:\n",
    "    print(\"Expected failure\", e)"
   ]
  },
  {
   "cell_type": "markdown",
   "metadata": {},
   "source": [
    "However when you use a reference instead of a variable, outside the logic generator, avoiding comparison functions:"
   ]
  },
  {
   "cell_type": "code",
   "execution_count": 20,
   "metadata": {
    "tags": []
   },
   "outputs": [
    {
     "name": "stdout",
     "output_type": "stream",
     "text": [
      " Writing 'unit_ref' to file /tmp/myirl_unit_ref_2kc7g8uk/unit_ref.vhdl \n",
      " Creating library file module_defs.vhdl \n"
     ]
    },
    {
     "data": {
      "text/plain": [
       "['/tmp/myirl_unit_ref_2kc7g8uk/unit_ref.vhdl', 'module_defs.vhdl']"
      ]
     },
     "execution_count": 20,
     "metadata": {},
     "output_type": "execute_result"
    }
   ],
   "source": [
    "@block\n",
    "def unit_ref():\n",
    "    a = Signal(intbv(0xaa)[8:])\n",
    "        \n",
    "    a.init = True\n",
    "    q = Signal(bool())\n",
    "    \n",
    "    v = (a[0]) & (~a[1]) & (a[7]) # compact bit wise operations\n",
    "\n",
    "    @instance\n",
    "    def stim():\n",
    "        q.next = False\n",
    "        yield delay(1) # Must wait to settle\n",
    "        if v == True:\n",
    "            q.next = True\n",
    "            \n",
    "        yield delay(1)\n",
    "        assert q == False\n",
    "    \n",
    "    return instances()\n",
    "\n",
    "test_unit(unit_ref)"
   ]
  },
  {
   "cell_type": "markdown",
   "metadata": {},
   "source": [
    "### Shadow signals\n",
    "\n",
    "Slicing `ShadowSignal` instances are no longer necessary and are considered deprecated. Currently, they are emulated with a warning."
   ]
  },
  {
   "cell_type": "code",
   "execution_count": 21,
   "metadata": {
    "tags": []
   },
   "outputs": [
    {
     "name": "stderr",
     "output_type": "stream",
     "text": [
      "/home/cyrite/.local/lib/python3.10/site-packages/cyritehdl-0.1b0-py3.10-linux-x86_64.egg/myirl/emulation/signals.py:16: DeprecatedWarning: Deprecated indexing syntax, use `[]` instead\n",
      "  warnings.warn(*args, category)\n"
     ]
    }
   ],
   "source": [
    "a = Signal(intbv(0xaa)[8:])\n",
    "sa = a(4,0)"
   ]
  },
  {
   "cell_type": "code",
   "execution_count": 22,
   "metadata": {
    "tags": []
   },
   "outputs": [
    {
     "data": {
      "text/plain": [
       "intbv(10)"
      ]
     },
     "execution_count": 22,
     "metadata": {},
     "output_type": "execute_result"
    }
   ],
   "source": [
    "sa.evaluate()"
   ]
  },
  {
   "cell_type": "markdown",
   "metadata": {},
   "source": [
    "**Note**: ShadowSignal emulations will not work fully throughout the hierarchy and are for now supported on local signals only"
   ]
  },
  {
   "cell_type": "markdown",
   "metadata": {},
   "source": [
    "### Concatenation\n",
    "\n",
    "The `concat()` function can be used in the behavioural as well as the structural section of the `@block`."
   ]
  },
  {
   "cell_type": "code",
   "execution_count": 23,
   "metadata": {
    "tags": []
   },
   "outputs": [],
   "source": [
    "from myirl.emulation.signals import ConcatSignal # deprecated\n",
    "\n",
    "@block\n",
    "def unit(a : Signal, b : Signal, q : Signal.Output, MODE=0):\n",
    "    \n",
    "    if MODE:\n",
    "        s = concat(a, b)\n",
    "    else:\n",
    "        s = ConcatSignal(a, b)\n",
    "    \n",
    "    @always_comb\n",
    "    def worker():\n",
    "        q.next = s\n",
    "    \n",
    "    return instances()"
   ]
  },
  {
   "cell_type": "code",
   "execution_count": 24,
   "metadata": {},
   "outputs": [
    {
     "name": "stdout",
     "output_type": "stream",
     "text": [
      " Writing 'unit' to file /tmp/myirl_unit_p_ademe4/unit.vhdl \n"
     ]
    },
    {
     "name": "stderr",
     "output_type": "stream",
     "text": [
      "/home/cyrite/.local/lib/python3.10/site-packages/cyritehdl-0.1b0-py3.10-linux-x86_64.egg/myirl/emulation/signals.py:16: DeprecatedWarning: Deprecated ConcatSignal() syntax, use concat() instead\n",
      "  warnings.warn(*args, category)\n"
     ]
    }
   ],
   "source": [
    "def convert(uut):\n",
    "    a, b = [ Signal(intbv(0x5)[4:], name=n) for n in ('a', 'b') ]\n",
    "    q = Signal(intbv()[8:], name='q')\n",
    "    inst = uut(a, b, q, MODE=0) # Change mode to '1' to make the warning disappear\n",
    "    return inst\n",
    "\n",
    "inst = convert(unit)\n",
    "f = inst.elab(targets.VHDL)"
   ]
  },
  {
   "cell_type": "markdown",
   "metadata": {},
   "source": [
    "The resulting process in VHDL:"
   ]
  },
  {
   "cell_type": "code",
   "execution_count": 25,
   "metadata": {},
   "outputs": [
    {
     "name": "stdout",
     "output_type": "stream",
     "text": [
      "worker:\r\n",
      "    process(a, b)\r\n",
      "    begin\r\n",
      "        q <= (a & b);\r\n",
      "    end process;\r\n",
      "\r\n"
     ]
    }
   ],
   "source": [
    "! grep -A 5 worker {f[0]}"
   ]
  },
  {
   "cell_type": "markdown",
   "metadata": {},
   "source": [
    "# Functions\n",
    "\n",
    "Functions are no longer translated to HDL, but executed. Therefore, you'll have to implement your previous function as a `@blackbox` or `@hdlmacro` entity if you wish to specifically generate hardware, or transfer the functionality into a HDL block. Very simple operators can be also implemented by derival of `base.BinOp`, etc."
   ]
  },
  {
   "cell_type": "markdown",
   "metadata": {},
   "source": [
    "### Functional logic generation\n",
    "\n",
    "These undecorated variants will just be called and unroll in the resulting transfer representation (such as VHDL). As an example, a full adder function can be instanced as follows:"
   ]
  },
  {
   "cell_type": "code",
   "execution_count": 26,
   "metadata": {},
   "outputs": [],
   "source": [
    "def full_adder0(a, b, cin, q, c):\n",
    "    x = a ^ b\n",
    "    return [\n",
    "        q.set(x ^ cin), c.set((a & b) | (cin & x))\n",
    "    ]"
   ]
  },
  {
   "cell_type": "markdown",
   "metadata": {},
   "source": [
    "In the resulting VHDL, this will unroll as:"
   ]
  },
  {
   "cell_type": "code",
   "execution_count": 27,
   "metadata": {},
   "outputs": [
    {
     "name": "stdout",
     "output_type": "stream",
     "text": [
      " Writing 'simple_adder0' to file /tmp/myirl_simple_adder0_rp2vm6xc/simple_adder0.vhdl \n",
      " Creating library file module_defs.vhdl \n"
     ]
    }
   ],
   "source": [
    "@block\n",
    "def simple_adder0():\n",
    "    a, b = [ Signal(intbv()[2:], name = n) for n in \"ab\" ]\n",
    "    c = Signal(bool())\n",
    "    q = [ Signal(bool()) for _ in range(3)]\n",
    "    result = Signal(intbv()[3:], name = \"res\")\n",
    "    \n",
    "    wires = [\n",
    "        *full_adder0(a[0], b[0], False, q[0], c),\n",
    "        *full_adder0(a[1], b[1], c, q[1], q[2]),\n",
    "        result.set(concat(*reversed(q)))\n",
    "    ]\n",
    "    \n",
    "    return instances()\n",
    "\n",
    "f = test_unit(simple_adder0, debug = False)"
   ]
  },
  {
   "cell_type": "code",
   "execution_count": 28,
   "metadata": {},
   "outputs": [
    {
     "name": "stdout",
     "output_type": "stream",
     "text": [
      "begin\r\n",
      "    q0 <= (a(0) xor b(0));\r\n",
      "    c <= ((a(0) and b(0)) or '0');\r\n",
      "    q1 <= ((a(1) xor b(1)) xor c);\r\n",
      "    q2 <= ((a(1) and b(1)) or (c and (a(1) xor b(1))));\r\n",
      "    res <= (q2 & q1 & q0);\r\n",
      "end architecture cyriteHDL;\r\n",
      "\r\n"
     ]
    }
   ],
   "source": [
    "! grep -A 10 begin {f[0]}"
   ]
  },
  {
   "cell_type": "markdown",
   "metadata": {},
   "source": [
    "### HDL macros\n",
    "\n",
    "A more elegant way is to decorate the function with `@hdlmacro` to avoid the `*` notation. Note that the hardware elements are returned using `yield`."
   ]
  },
  {
   "cell_type": "code",
   "execution_count": 29,
   "metadata": {},
   "outputs": [],
   "source": [
    "@hdlmacro\n",
    "def full_adder(a, b, cin, q, c):\n",
    "    x = a ^ b\n",
    "    yield [\n",
    "        q.set(x ^ cin), c.set((a & b) | (cin & x))\n",
    "    ]"
   ]
  },
  {
   "cell_type": "code",
   "execution_count": 30,
   "metadata": {},
   "outputs": [
    {
     "name": "stdout",
     "output_type": "stream",
     "text": [
      " Writing 'simple_adder' to file /tmp/myirl_simple_adder_jgvv7z73/simple_adder.vhdl \n",
      " Creating library file module_defs.vhdl \n"
     ]
    }
   ],
   "source": [
    "@block\n",
    "def simple_adder():\n",
    "    a, b = [ Signal(intbv()[2:], name = n) for n in \"ab\" ]\n",
    "    c = Signal(bool())\n",
    "    q = [ Signal(bool()) for _ in range(3)]\n",
    "    result = Signal(intbv()[3:], name = \"res\")\n",
    "    \n",
    "    wires = [\n",
    "        full_adder(a[0], b[0], False, q[0], c),\n",
    "        full_adder(a[1], b[1], c, q[1], q[2]),\n",
    "        result.set(concat(*reversed(q)))\n",
    "    ]\n",
    "    \n",
    "    return instances()\n",
    "\n",
    "f = test_unit(simple_adder, debug = False)"
   ]
  },
  {
   "cell_type": "markdown",
   "metadata": {},
   "source": [
    "**Note:** `@hdlmacro` functions in sequential simulation specific code may not be portable to co-simulation test benches. It is recommended to use this construct for hardware specific descriptions only."
   ]
  },
  {
   "cell_type": "markdown",
   "metadata": {},
   "source": [
    "### Function wrappers"
   ]
  },
  {
   "cell_type": "markdown",
   "metadata": {},
   "source": [
    "Example of a `reduceOr` pseudo function that can resolve into different implementations, depending on the HDL target:"
   ]
  },
  {
   "cell_type": "code",
   "execution_count": 31,
   "metadata": {},
   "outputs": [],
   "source": [
    "from myirl.library.reduce import reduceOr\n",
    "\n",
    "@block\n",
    "def unit1(a : Signal, q : Signal.Output):\n",
    "    @always_comb\n",
    "    def assign():\n",
    "        q.next = reduceOr(a)\n",
    "        \n",
    "    return instances()"
   ]
  },
  {
   "cell_type": "code",
   "execution_count": 32,
   "metadata": {},
   "outputs": [
    {
     "name": "stdout",
     "output_type": "stream",
     "text": [
      " Writing 'unit1' to file /tmp/myirl_unit1_f4s6xi0f/unit1.vhdl \n",
      "DEBUG Type descriptor [function 'reduce_or/reduce_or'] not owned by a lib. Skipping <class 'myirl.kernel.components.function'>\n"
     ]
    }
   ],
   "source": [
    "def convert(uut):\n",
    "    a = Signal(intbv(\"1010100\"))\n",
    "    q = Signal(bool())\n",
    "    inst = uut(a, q)\n",
    "    return inst\n",
    "\n",
    "inst = convert(unit1)\n",
    "f = inst.elab(targets.VHDL)"
   ]
  },
  {
   "cell_type": "code",
   "execution_count": 33,
   "metadata": {},
   "outputs": [
    {
     "name": "stdout",
     "output_type": "stream",
     "text": [
      "begin\r\n",
      "    \r\n",
      "assign:\r\n",
      "    process(a)\r\n",
      "    begin\r\n",
      "        q <= or_reduce(STD_LOGIC_VECTOR(a));\r\n",
      "    end process;\r\n",
      "\r\n",
      "end architecture cyriteHDL;\r\n",
      "\r\n"
     ]
    }
   ],
   "source": [
    "! grep -A 8 begin {f[0]}"
   ]
  },
  {
   "cell_type": "markdown",
   "metadata": {
    "tags": []
   },
   "source": [
    "## Member assignment\n",
    "\n",
    "Constructs like `s.next[i] = val` are no longer supported.\n",
    "\n",
    "The reasons:\n",
    "   * The `next[i]` construct does no longer translate simply into a proper setter. Problematic in Co-Simulation.\n",
    "   * It complicates direct synthesis a lot, as particular driver tables need to be maintained for signal members\n",
    "   * It is simply considered unlogic notation as opposed to `s[i].next`\n",
    "\n",
    "    \n",
    "It can be emulated using variables as shown below. (This particular example is somewhat bloated, as the `v` elements are used nowhere else). However, this notation is not portable and is only tested for VHDL transfer."
   ]
  },
  {
   "cell_type": "code",
   "execution_count": 34,
   "metadata": {},
   "outputs": [
    {
     "name": "stdout",
     "output_type": "stream",
     "text": [
      "==============================\n",
      "Unparsing unit unit_swap_bits\n",
      "==============================\n",
      "\n",
      "\n",
      "@block\n",
      "def unit_swap_bits(a: Signal, q: Signal.Output):\n",
      "\n",
      "    @always_comb_\n",
      "    def worker(_context):\n",
      "        v = Variable('v', intbv()[2:])\n",
      "        (yield [v.assign(intbv()[2:]), ElemAssign(v, 0, a[1]), ElemAssign(v, 1, a[0]), q.set(v)])\n",
      "    return instances()\n",
      "\n"
     ]
    }
   ],
   "source": [
    "@block\n",
    "def unit_swap_bits(a : Signal, q : Signal.Output):\n",
    "    @always_comb\n",
    "    def worker():\n",
    "        v = intbv()[2:]\n",
    "\n",
    "        v[0] = a[1]\n",
    "        v[1] = a[0]\n",
    "        \n",
    "        q.next = v\n",
    "    \n",
    "    return instances()\n",
    "\n",
    "@block\n",
    "def top(uut):\n",
    "    a, b = [ Signal(intbv()[2:], name=n) for n in ('a', 'b') ]\n",
    "    \n",
    "    inst = uut(a, b)\n",
    "    return instances()\n",
    "\n",
    "print(unit_swap_bits.unparse())"
   ]
  },
  {
   "cell_type": "code",
   "execution_count": 35,
   "metadata": {},
   "outputs": [
    {
     "name": "stdout",
     "output_type": "stream",
     "text": [
      " Writing 'unit_swap_bits' to file /tmp/myirl_top__7zyly5m/unit_swap_bits.vhdl \n",
      " Writing 'top' to file /tmp/myirl_top__7zyly5m/top.vhdl \n",
      " Creating library file module_defs.vhdl \n"
     ]
    }
   ],
   "source": [
    "f = test_top(unit_swap_bits)"
   ]
  },
  {
   "cell_type": "code",
   "execution_count": 36,
   "metadata": {},
   "outputs": [
    {
     "name": "stdout",
     "output_type": "stream",
     "text": [
      "worker:\r\n",
      "    process(a)\r\n",
      "        variable v : unsigned(1 downto 0);\r\n",
      "    begin\r\n",
      "        v := \"00\";\r\n",
      "        v(0) := a(1);\r\n",
      "        v(1) := a(0);\r\n",
      "        q <= v;\r\n",
      "    end process;\r\n"
     ]
    }
   ],
   "source": [
    "! grep -A 8 worker {f[0]}"
   ]
  },
  {
   "cell_type": "markdown",
   "metadata": {},
   "source": [
    "A nicer/better coding style would be the snippet below (assuming the single bit `t` array signals would be used somewhere else, if not, we'd get by without them using `BLOAT = False`). \n",
    "**Note**: concat arguments are MSB..LSB order (which does the swapping the elegant way)"
   ]
  },
  {
   "cell_type": "code",
   "execution_count": 37,
   "metadata": {},
   "outputs": [],
   "source": [
    "@block\n",
    "def unit_swap_bits1(a : Signal, q : Signal.Output, BLOAT = True):\n",
    "    if BLOAT:\n",
    "        t = [ Signal(bool()) for i in range(2) ]\n",
    "\n",
    "        a0 = t[0].wireup(a[0]) # Create wire instance\n",
    "        a1 = t[1].wireup(a[1])\n",
    "        wiring = q.wireup(concat(*t)) # Note: this is in fact `concat(t[0], t[1])\n",
    "    else:\n",
    "        wiring = q.wireup(concat(a[0], a[1]))\n",
    "\n",
    "    return instances()"
   ]
  },
  {
   "cell_type": "code",
   "execution_count": 38,
   "metadata": {},
   "outputs": [
    {
     "name": "stdout",
     "output_type": "stream",
     "text": [
      "\u001b[32m Module top: Existing instance top, rename to top_1 \u001b[0m\n",
      "Using default for BLOAT: True\n",
      " BLOAT: use default True \n",
      " Writing 'unit_swap_bits1' to file /tmp/myirl_top_a_dbocrm/unit_swap_bits1.vhdl \n",
      " Writing 'top_1' to file /tmp/myirl_top_a_dbocrm/top_1.vhdl \n",
      " Creating library file module_defs.vhdl \n"
     ]
    }
   ],
   "source": [
    "f = test_top(unit_swap_bits1)"
   ]
  },
  {
   "cell_type": "code",
   "execution_count": 39,
   "metadata": {},
   "outputs": [
    {
     "name": "stdout",
     "output_type": "stream",
     "text": [
      "begin\r\n",
      "    t0 <= a(0);\r\n",
      "    t1 <= a(1);\r\n",
      "    q <= (t0 & t1);\r\n",
      "end architecture cyriteHDL;\r\n"
     ]
    }
   ],
   "source": [
    "! grep -A 4 begin {f[0]}"
   ]
  },
  {
   "cell_type": "markdown",
   "metadata": {},
   "source": [
    "If member assignment is necessary, a different (derived) Signal type has to be used. See [Member assignment](../notebooks/member_assignment.ipynb).\n",
    "\n",
    "In general, cyrite HDL coding considers member assignment as deprecated, as it can lead into all sort of confusing scenarios or undesired effects and mismatches between synthesis and simulation.\n",
    "In most design cases, partial assignment is only used in memory mapped register decoding. This is handled by the cyrite library on a higher design\n",
    "abstraction layer.\n",
    "See [Register assignments](registers.ipynb) for the proper way to portable encode partial signal assignments. This also gives you full, switcheable control over how undefined or don't care signals are handled internally."
   ]
  },
  {
   "cell_type": "markdown",
   "metadata": {},
   "source": [
    "## Class signals\n",
    "\n",
    "Basic legacy class is supported, however, non decorated classes unroll into their signal members while input and outputs are guessed from their driven or consumed state.\n",
    "\n",
    "See also [Classes](../notebooks/classes.ipynb) for internal details.\n",
    "Basically, you can wrap a class using the `@container` construct, taking a type generator class as argument. In myHDL emulation, this is represented by the `LEGACY_CLASS`, internally identical with `myirl.library.typegen.BareClass`. The type generator defines, how the signal class is unrolled in the resulting HDL or RTL representation."
   ]
  },
  {
   "cell_type": "code",
   "execution_count": 40,
   "metadata": {},
   "outputs": [],
   "source": [
    "@container(CONTAINER_LEGACY)\n",
    "class SignalContainer:\n",
    "    def __init__(self):\n",
    "        self.a, self.b = [ Signal(bool()) for _ in range(2) ]"
   ]
  },
  {
   "cell_type": "code",
   "execution_count": 41,
   "metadata": {},
   "outputs": [
    {
     "name": "stdout",
     "output_type": "stream",
     "text": [
      " Writing 'unit' to file /tmp/myirl_tb_ka6lilvp/unit.vhdl \n",
      " Writing 'tb' to file /tmp/myirl_tb_ka6lilvp/tb.vhdl \n",
      " Creating library file module_defs.vhdl \n"
     ]
    }
   ],
   "source": [
    "@block\n",
    "def unit(c : SignalContainer, a : Signal.Output, b : Signal.Output):\n",
    "    @always_comb\n",
    "    def worker():\n",
    "        b.next = c.a\n",
    "        a.next = c.b\n",
    "    return instances()\n",
    "\n",
    "@block\n",
    "def tb():\n",
    "    b0, b1 = [ Signal(bool()) for _ in range(2) ]\n",
    "    c = SignalContainer()\n",
    "\n",
    "    inst = unit(c, b0, b1)\n",
    "    return instances()\n",
    "\n",
    "def test():\n",
    "    t = tb()\n",
    "    f = t.elab(targets.VHDL, elab_all = True)\n",
    "    return f\n",
    "    \n",
    "f = test()"
   ]
  },
  {
   "cell_type": "code",
   "execution_count": 42,
   "metadata": {},
   "outputs": [
    {
     "name": "stdout",
     "output_type": "stream",
     "text": [
      "    port (\r\n",
      "        c_a : in std_ulogic;\r\n",
      "        c_b : in std_ulogic;\r\n",
      "        a : out std_ulogic;\r\n",
      "        b : out std_ulogic\r\n",
      "    );\r\n",
      "end entity unit;\r\n"
     ]
    }
   ],
   "source": [
    "!grep -A 6 port {f[0]}"
   ]
  },
  {
   "cell_type": "code",
   "execution_count": 43,
   "metadata": {},
   "outputs": [
    {
     "name": "stdout",
     "output_type": "stream",
     "text": [
      "worker:\r\n",
      "    process(c_a, c_b)\r\n",
      "    begin\r\n",
      "        b <= c_a;\r\n",
      "        a <= c_b;\r\n",
      "    end process;\r\n",
      "\r\n",
      "end architecture cyriteHDL;\r\n",
      "\r\n"
     ]
    }
   ],
   "source": [
    "!grep -A 10 worker {f[0]}"
   ]
  },
  {
   "cell_type": "markdown",
   "metadata": {},
   "source": [
    "### Bidirectional interface classes\n",
    "\n",
    "Classes with inputs, outputs and special auxiliary signals use the `@container()` decorator without argument. However, they require special class members denoting input, output and auxiliar (other) signal member names. Signal names can *not* start with an underscore."
   ]
  },
  {
   "cell_type": "code",
   "execution_count": 44,
   "metadata": {},
   "outputs": [],
   "source": [
    "@container(CONTAINER_INTERFACE)\n",
    "class BidirSignalContainer:\n",
    "    _inputs = ['a']\n",
    "    _outputs = ['b']\n",
    "    _other = []\n",
    "    \n",
    "    def __init__(self):\n",
    "        self.a, self.b = [ Signal(bool()) for _ in range(2) ]"
   ]
  },
  {
   "cell_type": "markdown",
   "metadata": {},
   "source": [
    "When migrating from legacy classes, keep in mind that the new API is stricter with input/output handling when resolving the hierarchy.\n",
    "Therefore you may run into errors when a class signal designated as output is being read from.\n",
    "\n",
    "If a `container()` class is used in the interface, a structure/record is created for each `_inputs`, `_outputs` and `_other` set. If a unit requires the reverse direction (for example, being a master instead of a slave), you must annotate the type accordingly using `BidirSignalContainer.reverse()`."
   ]
  },
  {
   "cell_type": "markdown",
   "metadata": {},
   "source": [
    "## Conditional translation, parameters\n",
    "\n",
    "A `@block` unit that uses configuration variables to generate hardware dependent on their state should take these configuration values as a parameter, if this unit is to be used several times in different configurations within the design. The reason is that a signature is created from the interface such that equal configurations are not re-created. When using a global variable for conditional translation, this will fail."
   ]
  },
  {
   "cell_type": "markdown",
   "metadata": {},
   "source": [
    "## Constructs with issues\n",
    "\n",
    "This is a list of constructs that has or has had issues."
   ]
  },
  {
   "cell_type": "markdown",
   "metadata": {},
   "source": [
    "### Partially fixed: Augmented assign to list of signals"
   ]
  },
  {
   "cell_type": "code",
   "execution_count": 45,
   "metadata": {},
   "outputs": [
    {
     "name": "stdout",
     "output_type": "stream",
     "text": [
      "==============================\n",
      "Unparsing unit augassign_fixed\n",
      "==============================\n",
      "\n",
      "\n",
      "@block\n",
      "def augassign_fixed():\n",
      "    worker = [intbv(0)[1:]]\n",
      "    worker += [Signal(intbv(i)[2:]) for i in range(3)]\n",
      "\n",
      "    @generator_ctx\n",
      "    def stim(_context):\n",
      "        (yield [worker[1].set(worker[0]), worker[2].set(1)])\n",
      "    return locals()\n",
      "\n"
     ]
    }
   ],
   "source": [
    "@block\n",
    "def augassign_fixed():\n",
    "    worker = [ intbv(0)[1:] ]\n",
    "    worker += [ Signal(intbv(i)[2:]) for i in range(3) ]\n",
    "    # worker = worker + [ Signal(intbv(i)[2:]) for i in range(3) ]\n",
    "    \n",
    "    @instance\n",
    "    def stim():\n",
    "        # Note: Can't replace worker[0]:\n",
    "        # worker[0][:] = 0\n",
    "        worker[1].next = worker[0]\n",
    "        worker[2].next = 1\n",
    "    return locals()\n",
    "\n",
    "print(augassign_fixed.unparse())"
   ]
  },
  {
   "cell_type": "markdown",
   "metadata": {},
   "source": [
    "### Fixed: Top level creation\n",
    "\n",
    "Earlier versions did not allow instancing in global namespace (top level):"
   ]
  },
  {
   "cell_type": "code",
   "execution_count": 46,
   "metadata": {},
   "outputs": [
    {
     "name": "stdout",
     "output_type": "stream",
     "text": [
      " Writing 'augassign_fixed' to file /tmp/myirl_augassign_fixed_4ml3e8t_/augassign_fixed.vhdl \n"
     ]
    }
   ],
   "source": [
    "u = augassign_fixed()\n",
    "f = u.elab(targets.VHDL)"
   ]
  },
  {
   "cell_type": "markdown",
   "metadata": {
    "tags": []
   },
   "source": [
    "### Legacy Delayed signals\n",
    "\n",
    "Delays are no longer a basic signal class property. If a particular delay behaviour is desired, a custom class should be derived from the `Signal` class.\n",
    "The internal `SigAssign` generator has notion of a delay specification, however this is not a portable construct, i.e. its behaviour is target specific and should not be used from a synthesizeable design at all.\n",
    "\n",
    "**This is a deprecated approach and is no longer supported**\n",
    "\n",
    "For some simulation specific `DelaySignal` classes, it is possible to use\n",
    "\n",
    "```\n",
    "s.set(a, delay = 2)\n",
    "```\n",
    "\n",
    "where the time unit is a property of the Signal class.\n",
    "\n",
    "Unlike MyHDL, this delay specification propagates into the resulting HDL simulation target.\n",
    "\n",
    "For simulation output to native HDLs such as Verilog or VHDL, the `simulation` API (not `myirl.simulation`) provides various methods:\n",
    "\n",
    "* `@always(delay(m))` decorator: Delays all containing assignments by a given cycle respective delta time\n",
    "* `simulation.delayed(expr, timeval)` : A unary operator with a given delta, causing emission of a delay statement\n",
    "\n",
    "These statements only make sense within simulation specific HDL contexts. They are neither synthesizeable, nor portable.\n",
    "\n",
    "The reason for not supporting the `delay` attribute is a cleaner separation between synthesis and simulation instances. It was also necessary to provide extended target language support."
   ]
  }
 ],
 "metadata": {
  "kernelspec": {
   "display_name": "Python 3 (ipykernel)",
   "language": "python",
   "name": "python3"
  },
  "language_info": {
   "codemirror_mode": {
    "name": "ipython",
    "version": 3
   },
   "file_extension": ".py",
   "mimetype": "text/x-python",
   "name": "python",
   "nbconvert_exporter": "python",
   "pygments_lexer": "ipython3",
   "version": "3.10.0"
  }
 },
 "nbformat": 4,
 "nbformat_minor": 4
}

{
 "cells": [
  {
   "cell_type": "markdown",
   "id": "421a250e-ce0d-43c6-9b1b-2a0b6a0c69d2",
   "metadata": {},
   "source": [
    "# Creating hardware in Python using CyriteHDL\n",
    "\n",
    "CyriteHDL or short CyHDL is a **hardware definition toolkit** based on a kernel using an internal representation python notation to generate hardware or code procedurally. It is featured by an emulation layer to provide some (not full) language compatibility to the MyHDL dialect, with the following major differences:\n",
    "\n",
    "* Strictly typed interfaces\n",
    "* Signal extensions to elleviate complex bus system designs\n",
    "* Modular output to VHDL and Verilog\n",
    "* Support for blackboxes, builtins and libraries\n",
    "* Direct synthesis via yosys, fast CXXRTL simulations\n",
    "\n",
    "Moreover, it is possible to write closed source code generators using an augmented MyHDL syntax. Note though that Cyrite enforces some stricter design rules and some constructs are no longer supported.\n",
    "\n",
    "If you are aiming at a fresh start with a Python based HDL framework, this howto should get you going with the following basics:\n",
    "\n",
    "1. The (in)famous [blinky](blinky.ipynb)\n",
    "   1. Designing a counter, state machine and configuration register\n",
    "   1. Testing and simulating its function\n",
    "2. Synthesizing a design for a FPGA target\n",
    "   1. Creating the board supply package\n",
    "   1. Direct synthesis to yosys\n",
    "   1. Synthesis via transfer language (Verilog, VHDL)"
   ]
  },
  {
   "cell_type": "markdown",
   "id": "fcf44c01-ae89-426e-8c80-1275f3df1ece",
   "metadata": {},
   "source": [
    "## Short peek into internals\n",
    "\n",
    "The cyrite library is based on a generator kernel that creates the resulting hardware or language target elements by execution rather than AST translation. This internal representation layer is referred to as the myirl kernel. All cyrite or MyHDL alike hardware descriptions on top however are AST-translated into a generator form. An example:"
   ]
  },
  {
   "cell_type": "code",
   "execution_count": 1,
   "id": "035a7f4c-e8ff-43a9-824d-69af31e48521",
   "metadata": {},
   "outputs": [],
   "source": [
    "import sys\n",
    "sys.path.insert(0, \"../../\")"
   ]
  },
  {
   "cell_type": "markdown",
   "id": "6c62a7a5-a9a3-4f25-8f6d-56046ffe9d0e",
   "metadata": {},
   "source": [
    "### A simple multiplexer unit\n",
    "\n",
    "Normally, you would write a behavioral model for a multiplexer as follows:"
   ]
  },
  {
   "cell_type": "code",
   "execution_count": 2,
   "id": "3266797c-e70c-4fec-9152-8fa9d13188ac",
   "metadata": {},
   "outputs": [],
   "source": [
    "from cyhdl import *\n",
    "\n",
    "@block\n",
    "def mux_unit(en: Signal, a_in : Signal, b_out : Signal):\n",
    "    @always(en, a_in)\n",
    "    def muxer():\n",
    "        if en:\n",
    "            b_out.next = a_in\n",
    "        else:\n",
    "            b_out.next = ~a_in\n",
    "    return muxer\n",
    "\n",
    "    @sequence\n",
    "    def main():\n",
    "        a.next = 0"
   ]
  },
  {
   "cell_type": "markdown",
   "id": "0ac54c0f-d2f0-4d8a-b2cb-7e1ed603895c",
   "metadata": {},
   "source": [
    "Simple top level `@block` can be displayed in their explicit IRL:"
   ]
  },
  {
   "cell_type": "code",
   "execution_count": 3,
   "id": "6cf0a6a5-4a06-4677-8a18-fc0b724aaed7",
   "metadata": {},
   "outputs": [
    {
     "name": "stdout",
     "output_type": "stream",
     "text": [
      "==============================\n",
      "Unparsing unit mux_unit\n",
      "==============================\n",
      "\n",
      "\n",
      "@block\n",
      "def mux_unit(en: Signal, a_in: Signal, b_out: Signal):\n",
      "\n",
      "    @always_(en, a_in)\n",
      "    def muxer(_context):\n",
      "        (yield [_context.If(en).Then(b_out.set(a_in)).Else(b_out.set((~ a_in)))])\n",
      "    return muxer\n",
      "\n",
      "    @sequential\n",
      "    def main(_sequence):\n",
      "        _sequence += [a.set(0)]\n",
      "\n"
     ]
    }
   ],
   "source": [
    "print(mux_unit.unparse())"
   ]
  },
  {
   "cell_type": "markdown",
   "id": "b1502268-44ec-4f1c-be1b-455d83218e7f",
   "metadata": {},
   "source": [
    "To display the resulting HDL, we instance a DummyTargetModule design context. When emitting instances within that context, HDL results are sent to sys.stdout. This allows us to examine language constructs in a granular way."
   ]
  },
  {
   "cell_type": "code",
   "execution_count": 4,
   "id": "1a4a82d2-2894-4483-83e3-c5ad4904d226",
   "metadata": {},
   "outputs": [
    {
     "name": "stdout",
     "output_type": "stream",
     "text": [
      "\u001b[94m\n",
      "\u001b[0m\u001b[94malways @ (en or a_in) begin : MUXER\n",
      "\u001b[0m\u001b[94m    if (en)\u001b[0m\u001b[94m begin\n",
      "\u001b[0m\u001b[94m        b_out <= a_in; /* fallback */\n",
      "\u001b[0m\u001b[94m\u001b[0m\u001b[94m    end else begin\n",
      "\u001b[0m\u001b[94m        b_out <= ~a_in; /* fallback */\n",
      "\u001b[0m\u001b[94m\u001b[0m\u001b[94m    end\n",
      "\u001b[0m\u001b[94mend\n",
      "\u001b[0m"
     ]
    }
   ],
   "source": [
    "en = Signal(bool())\n",
    "s = [ Signal(intbv()[4:]) for _ in range(2) ]\n",
    "\n",
    "from myirl.targets.dummy import DummyTargetModule\n",
    "ctx = DummyTargetModule(targets.Verilog)\n",
    "\n",
    "uut = mux_unit(en, s[0], s[1])\n",
    "\n",
    "for inst in uut.instances:\n",
    "    inst(ctx) # Call instances to within context\n",
    "    inst.emit(ctx)"
   ]
  },
  {
   "cell_type": "markdown",
   "id": "35ca54b3-b693-4506-abc0-9a784768a0e0",
   "metadata": {},
   "source": [
    "Note: at this stage, no distinction between Verilog type reg and wire happens, because no signal analysis has been done. Therefore a 'fallback' tag comment is inserted by the translation."
   ]
  },
  {
   "cell_type": "markdown",
   "id": "f56cb682-bd87-495b-97a0-754b0223e0ee",
   "metadata": {},
   "source": [
    "## The Cyrite API reference\n",
    "\n",
    "**Under construction. Please refer to the MyIRL internals for the time being**\n",
    "\n",
    "One important note: The Cyrite HDL is split in several layers:\n",
    "\n",
    "* Cyrite library layer: top level HDL syntax, MyHDL alike\n",
    "* myirl 'intermediate representation layer' kernel layer: Procedural, generator style syntax and library\n",
    "  \n",
    "\n",
    "When dealing with development of new extensions, one is mostly operating in the `myirl` domain. Thus, `myirl.library` elements mostly use IRL (intermediate representation layer) notation.\n",
    "Some elements are only documented in the IRL domain, however can be used from the cyrite layer. This is yet not fully coverage-tested."
   ]
  },
  {
   "cell_type": "markdown",
   "id": "3bfc164e-20e5-4e6c-a364-957fe25394b8",
   "metadata": {},
   "source": [
    "* [Generator basics](generators.ipynb) - When to use `yield` and when not\n",
    "* [Signal types and Interfaces](signals_interfaces.ipynb)\n",
    "  * [Port classes](ports.ipynb)\n",
    "  * [Tristate and undefined signals](stdlogic.ipynb)\n",
    "* [Library concepts: Organizing your code](library.ipynb)\n",
    "    * [Blackboxes, external HDL modules](library.ipynb#External-HDL-libraries)\n",
    "    * Inference and design modules\n",
    "* Cyrite/MyIRL Library and extensions\n",
    "    * [MyIRL library reference](../../myirl/library/index.ipynb)\n",
    "    * [Register concepts](../notebooks/registers.ipynb)\n",
    "         * Partially assigneable signals [[myirl kernel ref]](../notebooks/member_assignment.ipynb)\n",
    "         * Address decoders, [Busses](../notebooks/busses.ipynb)\n",
    "         * Memory mapped range registers\n",
    "* Synthesis versus simulation\n",
    "    * [Simulation examples](simulation.ipynb) and scenarios, waveform displays\n",
    "    * [Simulation constructs](../notebooks/simulation.ipynb)\n",
    "       * [Timing delays, delayed signals](../notebooks/simulation.ipynb#Delay-modelling)\n",
    "    * [Co-Simulation](../notebooks/simulation.ipynb#Co-Simulation-abstraction): Driving virtual hardware via CXXRTL\n",
    "    * [Simulation commands reference](../notebooks/simulation.ipynb#Simulation-command-reference)"
   ]
  },
  {
   "cell_type": "code",
   "execution_count": null,
   "id": "ee9faa0f-ad56-47ac-af18-bc1fe0b4f63f",
   "metadata": {},
   "outputs": [],
   "source": []
  }
 ],
 "metadata": {
  "kernelspec": {
   "display_name": "Python 3 (ipykernel)",
   "language": "python",
   "name": "python3"
  },
  "language_info": {
   "codemirror_mode": {
    "name": "ipython",
    "version": 3
   },
   "file_extension": ".py",
   "mimetype": "text/x-python",
   "name": "python",
   "nbconvert_exporter": "python",
   "pygments_lexer": "ipython3",
   "version": "3.9.2"
  }
 },
 "nbformat": 4,
 "nbformat_minor": 5
}

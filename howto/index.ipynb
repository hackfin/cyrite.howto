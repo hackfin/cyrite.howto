{
 "cells": [
  {
   "cell_type": "markdown",
   "id": "421a250e-ce0d-43c6-9b1b-2a0b6a0c69d2",
   "metadata": {},
   "source": [
    "# Creating hardware in Python using CyriteHDL\n",
    "\n",
    "CyriteHDL or short CyHDL is a **hardware definition toolkit** based on a kernel using an internal representation python notation to generate hardware or other code (such as another HDL or machine/micro code) procedurally. It is featured by an emulation layer to provide some (not full) language compatibility to the MyHDL dialect. It is assumed that you have some knowledge of Verilog or VHDL.\n",
    "\n",
    "If you are aiming at a fresh start with a Python based HDL framework, this howto should get you going with the following basics:\n",
    "\n",
    "0. Need to know [inference basics](basics.ipynb)\n",
    "1. The (in)famous [blinky](blinky.ipynb)\n",
    "   1. Designing a counter, state machine and configuration register\n",
    "   1. Testing and simulating its function\n",
    "2. Design methods and factory classes: Organizing your code to be reusable, portable...\n",
    "   1. [Contexts, modules, functions](methods.ipynb)   \n",
    "       * RTL functions: context sensitive functional descriptions\n",
    "   2. [Simulation and verification](sim_intro.ipynb)\n",
    "3. Translation or synthesis\n",
    "   1. [Supported targets](targets.ipynb)\n",
    "   1. [Direct synthesis to yosys](rtlil.ipynb)\n",
    "5. Compiling a design for a FPGA target ( **OMITTED** )\n",
    "   1. Creating the board supply package\n",
    "   2. Precompiled board supply packages:\n",
    "      * ECP5 Versa development kit\n",
    "      * ECP5 EVDK\n",
    "      * Gatemate evaluation kit (planned)"
   ]
  },
  {
   "cell_type": "markdown",
   "id": "f56cb682-bd87-495b-97a0-754b0223e0ee",
   "metadata": {},
   "source": [
    "## The Cyrite reference\n",
    "\n",
    "The Cyrite HDL is split in several layers:\n",
    "\n",
    "* Cyrite library layer: top level HDL syntax with partial MyHDL compatibility\n",
    "* myirl 'intermediate representation layer' kernel layer: Procedural, generator style syntax and library\n",
    "  \n",
    "\n",
    "When dealing with development of new extensions, one is mostly operating in the `myirl` domain. Thus, `myirl.library` elements mostly use IRL (intermediate representation layer) notation.\n",
    "Some elements are only documented in the IRL domain, however can be used from the cyrite layer. This is yet not fully coverage-tested."
   ]
  },
  {
   "cell_type": "markdown",
   "id": "3bfc164e-20e5-4e6c-a364-957fe25394b8",
   "metadata": {},
   "source": [
    "* [Signals, wires and operations](operations.ipynb)\n",
    "* [Generator basics](generators.ipynb) - When to use `yield` and when not\n",
    "* [Signal types and Interfaces](signals_interfaces.ipynb)\n",
    "   * [Port classes](ports.ipynb)\n",
    "   * [Tristate and undefined signals](stdlogic.ipynb)\n",
    "   * [Arrays, Memories, Vectors](arrays.ipynb)\n",
    "   * [Memory library](cyrite_memories.ipynb)\n",
    "* [Library concepts: Organizing your code](library.ipynb)\n",
    "   * [Blackboxes, external HDL modules](library.ipynb#External-HDL-libraries)\n",
    "   * Inference and design modules\n",
    "* Cyrite/MyIRL Library and extensions\n",
    "   * [MyIRL library reference](../src/myirl/library/index.ipynb)\n",
    "   * [Cross clock](xclkdomain.ipynb) domain transition auxiliaries\n",
    "   * [Register concepts](registers.ipynb)\n",
    "       * Bit fields\n",
    "       * Partially assigneable signals\n",
    "       * Address decoders, [Busses](busses.ipynb)\n",
    "       * [Memory mapped range registers](../examples/soc_auxiliaries.ipynb)\n",
    "    * High level synthesis: The HLS subsystem\n",
    "        * [Introduction](hls.ipynb): Pipelines\n",
    "        * [Vector operations](hls_vector.ipynb)\n",
    "        * Arithmetics: the `flexbv` data type\n",
    "        * Automated pipeline verification\n",
    "* Simulation:\n",
    "   * [Simulation examples](simulation.ipynb) and scenarios, waveform displays\n",
    "   * [Test bench strategies](testbenches.ipynb): resuable test benches\n",
    "   * [Co-Verification tricks](co-verification.ipynb) -- Simple co-process mechanisms to run Python and backend simulation in parallel (a.k.a virtual poor man's LockStep)"
   ]
  },
  {
   "cell_type": "markdown",
   "id": "e916a607-dfad-4d4a-8be0-6b165d46c452",
   "metadata": {},
   "source": [
    "## Licensing and game rules\n",
    "\n",
    "For the time being, there are no OpenSource licenses involved with the Cyrite libraries and kernel.\n",
    "\n",
    "This distribution, i.e. the Docker container, Jupyter notebook and software setup is shared for a priori educational purposes.\n",
    "\n",
    "There are compiled (closed source) and Python source parts in this distribution. When directly deriving from a class available in open source, you are not required to publish your derivation as Python source. You are free to distribute the (possibly obfuscated) HDL output, but not alter the copyright header. \n",
    "\n",
    "A few more rules apply:\n",
    "\n",
    "* When publishing a GHDL simulation executable in particular, you are required to publish the generated VHDL code as well, as it is subject to the libgrt licensing terms by linking against it (This is a third party licensing issue).\n",
    "* When you *distribute* a compiled hardware generator project for commercial purposes:\n",
    "    * ..and derive from an open source class or component, you are required to publish the source as well\n",
    "    * ..and derive from a closed source component, you need to contact the author via github in order to discuss licensing terms for this special case\n",
    "\n",
    "Note that a *distribution* is considered as:\n",
    "* Publishing your IP core on the web as compiled `.so` module or simulation executable\n",
    "* Sending such an IP core to anyone who is not a member of your organisation"
   ]
  }
 ],
 "metadata": {
  "kernelspec": {
   "display_name": "Python 3 (ipykernel)",
   "language": "python",
   "name": "python3"
  },
  "language_info": {
   "codemirror_mode": {
    "name": "ipython",
    "version": 3
   },
   "file_extension": ".py",
   "mimetype": "text/x-python",
   "name": "python",
   "nbconvert_exporter": "python",
   "pygments_lexer": "ipython3",
   "version": "3.10.0"
  }
 },
 "nbformat": 4,
 "nbformat_minor": 5
}

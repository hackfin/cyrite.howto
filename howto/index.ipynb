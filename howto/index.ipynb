{
 "cells": [
  {
   "cell_type": "markdown",
   "id": "421a250e-ce0d-43c6-9b1b-2a0b6a0c69d2",
   "metadata": {},
   "source": [
    "# Creating hardware in Python using CyriteHDL\n",
    "\n",
    "CyriteHDL or short CyHDL is a **hardware definition toolkit** based on a kernel using an internal representation python notation to generate hardware or code procedurally. It is featured by an emulation layer to provide some (not full) language compatibility to the MyHDL dialect. It is assumed that you have some knowledge of Verilog or VHDL.\n",
    "\n",
    "If you are aiming at a fresh start with a Python based HDL framework, this howto should get you going with the following basics:\n",
    "\n",
    "0. Need to know [inference basics](basics.ipynb)\n",
    "1. The (in)famous [blinky](blinky.ipynb)\n",
    "   1. Designing a counter, state machine and configuration register\n",
    "   1. Testing and simulating its function\n",
    "2. Design methods:\n",
    "   1. [Contexts, modules, functions](methods.ipynb)   \n",
    "       * RTL functions: context sensitive functional descriptions\n",
    "   2. [Simulation and verification](sim_intro.ipynb)\n",
    "3. Synthesis\n",
    "   1. [Direct synthesis to yosys](rtlil.ipynb)\n",
    "   1. Synthesis via vendor tools\n",
    "4. Compiling a design for a FPGA target ( **OMITTED** )\n",
    "   1. Creating the board supply package\n",
    "   2. Precompiled board supply packages:\n",
    "      * ECP5 Versa development kit\n",
    "      * ECP5 EVDK\n",
    "      * Gatemate evaluation kit (planned)\n",
    "   \n",
    "Advanced:\n",
    "* [API reference](#The-Cyrite-API-reference)"
   ]
  },
  {
   "cell_type": "markdown",
   "id": "f56cb682-bd87-495b-97a0-754b0223e0ee",
   "metadata": {},
   "source": [
    "## The Cyrite API reference\n",
    "\n",
    "**Under construction. Please refer to the MyIRL internals for the time being**\n",
    "\n",
    "One important note: The Cyrite HDL is split in several layers:\n",
    "\n",
    "* Cyrite library layer: top level HDL syntax with partial MyHDL compatibility\n",
    "* myirl 'intermediate representation layer' kernel layer: Procedural, generator style syntax and library\n",
    "  \n",
    "\n",
    "When dealing with development of new extensions, one is mostly operating in the `myirl` domain. Thus, `myirl.library` elements mostly use IRL (intermediate representation layer) notation.\n",
    "Some elements are only documented in the IRL domain, however can be used from the cyrite layer. This is yet not fully coverage-tested."
   ]
  },
  {
   "cell_type": "markdown",
   "id": "3bfc164e-20e5-4e6c-a364-957fe25394b8",
   "metadata": {},
   "source": [
    "* [Signals, wires and operations](operations.ipynb)\n",
    "* [Generator basics](generators.ipynb) - When to use `yield` and when not\n",
    "* [Signal types and Interfaces](signals_interfaces.ipynb)\n",
    "  * [Port classes](ports.ipynb)\n",
    "  * [Tristate and undefined signals](stdlogic.ipynb)\n",
    "* [Library concepts: Organizing your code](library.ipynb)\n",
    "    * [Blackboxes, external HDL modules](library.ipynb#External-HDL-libraries)\n",
    "    * Inference and design modules\n",
    "* Cyrite/MyIRL Library and extensions\n",
    "    * [MyIRL library reference](../../myirl/library/index.ipynb)\n",
    "    * [Register concepts](../notebooks/registers.ipynb)\n",
    "         * Partially assigneable signals [[myirl kernel ref]](../notebooks/member_assignment.ipynb)\n",
    "         * Address decoders, [Busses](../notebooks/busses.ipynb)\n",
    "         * Memory mapped range registers\n",
    "* Simulation:\n",
    "    * [Simulation examples](simulation.ipynb) and scenarios, waveform displays\n",
    "    * [Simulation constructs](../notebooks/simulation.ipynb)\n",
    "       * [Timing delays, delayed signals](../notebooks/simulation.ipynb#Delay-modelling)\n",
    "    * [Co-Simulation](../notebooks/simulation.ipynb#Co-Simulation-abstraction): Driving virtual hardware via CXXRTL\n",
    "    * [Simulation commands reference](../notebooks/simulation.ipynb#Simulation-command-reference)"
   ]
  }
 ],
 "metadata": {
  "kernelspec": {
   "display_name": "Python 3 (ipykernel)",
   "language": "python",
   "name": "python3"
  },
  "language_info": {
   "codemirror_mode": {
    "name": "ipython",
    "version": 3
   },
   "file_extension": ".py",
   "mimetype": "text/x-python",
   "name": "python",
   "nbconvert_exporter": "python",
   "pygments_lexer": "ipython3",
   "version": "3.9.2"
  }
 },
 "nbformat": 4,
 "nbformat_minor": 5
}

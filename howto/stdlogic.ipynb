{
 "cells": [
  {
   "cell_type": "markdown",
   "id": "9d4b36ab-987d-4cac-952c-601dcb7e8fa5",
   "metadata": {},
   "source": [
    "# Standard logic: 'U', 'Z', 'X' and others\n",
    "\n",
    "The standard logic packages from VHDL allow to simulate other signal states than the default True or False. In some cases, simulation entities may want to make use of them, however, the MyHDL compatible `intbv` type does not support it.\n",
    "\n",
    "Therefore, the `StandardLogicSignal` functions as extension to the default signal types and can be used to interface legacy VHDL modules where type conversion is required. A limited support for Verilog is present, however not thoroughly tested. Some constructs may not be portable.\n",
    "\n",
    "The specific `TristateSignal` class is another higher level construct to switch `inout` ports according to a somewhat strict design rule."
   ]
  },
  {
   "cell_type": "markdown",
   "id": "b06e5c81-bae2-448f-839f-a03f6710d9c7",
   "metadata": {},
   "source": [
    "## Standard logic vectors"
   ]
  },
  {
   "cell_type": "code",
   "execution_count": 1,
   "id": "bc242a8f-5d5b-4c52-9713-8f3d9db8a618",
   "metadata": {},
   "outputs": [],
   "source": [
    "from myirl.library.stdlogic import StandardLogicSignal\n",
    "\n",
    "s = StandardLogicSignal(\"11UU11\")\n",
    "t = StandardLogicSignal(\"10UUUU\")\n",
    "a = StandardLogicSignal(8 * 'Z')"
   ]
  },
  {
   "cell_type": "markdown",
   "id": "dcc07ab3-82f2-435a-9d30-8fa5dba57f02",
   "metadata": {},
   "source": [
    "The internal properties of the `stdlogic.slbv` data type provide a bit of evaluation for multi state bit logic, so constructs like the following output as:"
   ]
  },
  {
   "cell_type": "code",
   "execution_count": 2,
   "id": "8e0c0567-2134-445d-a985-017c41a2ea7e",
   "metadata": {},
   "outputs": [
    {
     "data": {
      "text/plain": [
       "SLV(10\u001b[0;31mX\u001b[0m\u001b[0;31mX\u001b[0m\u001b[0;31mX\u001b[0m\u001b[0;31mX\u001b[0m)"
      ]
     },
     "execution_count": 2,
     "metadata": {},
     "output_type": "execute_result"
    }
   ],
   "source": [
    "expr = s & t\n",
    "expr.evaluate()"
   ]
  },
  {
   "cell_type": "markdown",
   "id": "f59a9646-85ec-47e9-b2ca-e72dc68d482a",
   "metadata": {},
   "source": [
    "Internally, conversion between `intbv` and `slbv` is casted, however not within interface mapping. Explicit `slbv` signals must be registered for external object wrappers."
   ]
  },
  {
   "cell_type": "markdown",
   "id": "93e0cfd7-29dc-4c0b-971f-6d97e5f2eab7",
   "metadata": {},
   "source": [
    "## Tri state signals\n",
    "\n",
    "Tristate signals are meant to represent a tri state bus driver at the peripheral edge. They must never occur inside a hardware design, for bidirectional communication, use Port signal classes.\n",
    "\n",
    "A TriStateSignal is initialized with 'weak' values that are actually overriden by its `.driver()`. It can simultaneously be read from and driven by the internal driver."
   ]
  },
  {
   "cell_type": "markdown",
   "id": "2238be43-19dd-4f08-acb3-445b4c042b27",
   "metadata": {},
   "source": [
    "### Initialization\n",
    "\n",
    "You can only initialize with:\n",
    "* `L`: Pulldown\n",
    "* `H`: Pullup\n",
    "* `Z`: High Z"
   ]
  },
  {
   "cell_type": "code",
   "execution_count": 3,
   "id": "d58ec77e-e6c5-456f-be4a-5e42b5b34553",
   "metadata": {},
   "outputs": [
    {
     "data": {
      "text/plain": [
       "<tristate_inout>"
      ]
     },
     "execution_count": 3,
     "metadata": {},
     "output_type": "execute_result"
    }
   ],
   "source": [
    "from myirl.library.tristate import *\n",
    "from cyhdl import *\n",
    "\n",
    "ts = TristateSignal(\"LHZZZZZZZ\", name = \"tristate_inout\")\n",
    "ts"
   ]
  },
  {
   "cell_type": "markdown",
   "id": "e0a386f7-4377-48b7-98e0-558dd6545f06",
   "metadata": {},
   "source": [
    "The internal driver id is however differen, because it is in fact a different signal:"
   ]
  },
  {
   "cell_type": "code",
   "execution_count": 4,
   "id": "06cde428-fa4b-4f1c-af26-ad1d6888c2fe",
   "metadata": {},
   "outputs": [
    {
     "data": {
      "text/plain": [
       "<tristate_inout_drv>"
      ]
     },
     "execution_count": 4,
     "metadata": {},
     "output_type": "execute_result"
    }
   ],
   "source": [
    "ts.driver()"
   ]
  },
  {
   "cell_type": "markdown",
   "id": "c789a8d9-2876-4c8d-90c9-942064bb1380",
   "metadata": {},
   "source": [
    "The actual decision whether the `TristateSignal` is  driven, is made by a `.select` statement, which (in a HDL language) typically infers into a simple ternary if assignment which is understood by most Simulators.\n",
    "\n",
    "The `sel` line below functions as drive enable."
   ]
  },
  {
   "cell_type": "code",
   "execution_count": 5,
   "id": "15f6d3f8-41b6-4aba-9050-858beb1113de",
   "metadata": {},
   "outputs": [],
   "source": [
    "data = Signal(intbv()[9:], name = \"data\")\n",
    "sel = Signal(bool(), \"en\")\n",
    "\n",
    "m = ts.select(data, sel)"
   ]
  },
  {
   "cell_type": "markdown",
   "id": "fb3ad563-05f0-4f9a-8f08-fab64f8c65bd",
   "metadata": {},
   "source": [
    "We elaborate to VHDL to confirm its function:"
   ]
  },
  {
   "cell_type": "code",
   "execution_count": 6,
   "id": "008cb9d0-c1f6-401a-8b42-06c7b371f1ac",
   "metadata": {},
   "outputs": [
    {
     "name": "stdout",
     "output_type": "stream",
     "text": [
      "\u001b[94mtristate_inout <= STD_LOGIC_VECTOR(data) when (en = '1') else \"LHZZZZZZZ\";\n",
      "\u001b[0m"
     ]
    }
   ],
   "source": [
    "from myirl.targets.dummy import DummyTargetModule\n",
    "\n",
    "d = DummyTargetModule()\n",
    "m.emit(d)"
   ]
  },
  {
   "cell_type": "markdown",
   "id": "9b6b5b14-11a2-47a8-8802-0b985bc2873b",
   "metadata": {},
   "source": [
    "## Example\n",
    "\n",
    "To make use of the TristateSignal in a top level unit, you typically specify a `BidirectionalSignal` data type.\n",
    "\n",
    "In this example, we also model a delay to mimic bus behaviour.\n",
    "\n",
    "**Important**: The main sequential stimulation routine should be called `main()` in order to output a VCD trace for Verilog. For VHDL, this is not relevant, but a `wavetrace` argument will be taken instead to the Simulator call."
   ]
  },
  {
   "cell_type": "code",
   "execution_count": 7,
   "id": "d870a674-0732-4a9e-9dc7-fdd19ca1f7af",
   "metadata": {},
   "outputs": [],
   "source": [
    "@block\n",
    "def unit(ts : BidirectionalSignal, sel : Signal, data : Signal):\n",
    "    idata = data.clone('idata')\n",
    "    \n",
    "    @always(delay(2))\n",
    "    def wireup():\n",
    "        ts.select(data, sel) # A macro behind the curtains\n",
    "\n",
    "    connections = [\n",
    "        idata.wireup(ts)\n",
    "    ]\n",
    "\n",
    "    return instances()\n",
    "\n",
    "@block\n",
    "def tb():\n",
    "    t = TristateSignal(8 * 'Z')\n",
    "    sample_clk = ClkSignal(name=\"sample_clk\")\n",
    "    sel = Signal(bool())\n",
    "    data = Signal(intbv()[8:])\n",
    "    \n",
    "    u = unit(t, sel, data)\n",
    "    \n",
    "    @always(delay(1))\n",
    "    def clkgen():\n",
    "        sample_clk.set(~sample_clk)\n",
    "    \n",
    "    @sequence\n",
    "    def main():\n",
    "        sel.next = False\n",
    "        data.next = 0xaa\n",
    "        yield delay(5)\n",
    "        sel.next = True\n",
    "        yield 3 * (sample_clk.posedge,)\n",
    "        assert t == 0xaa\n",
    "        sel.next = False\n",
    "        yield 2 * (sample_clk.posedge,)\n",
    "        assert t != 0xaa, \"Failed Z\"\n",
    "        yield 2 * (sample_clk.posedge,)\n",
    "        data.next = 0xbb\n",
    "        sel.next = True\n",
    "        yield 2 * (sample_clk.posedge,)\n",
    "        assert t == 0xbb, \"Failed 0xbb\"\n",
    "        yield delay(4)\n",
    "        sel.next = False\n",
    "        yield delay(8),\n",
    "\n",
    "        raise StopSimulation\n",
    "    \n",
    "    \n",
    "    return locals()"
   ]
  },
  {
   "cell_type": "markdown",
   "id": "88eaaaf9-627f-4f11-8382-8b5efed79473",
   "metadata": {},
   "source": [
    "For more internals, check [TristateSignals](../../notebooks/tristate.ipynb)"
   ]
  },
  {
   "cell_type": "markdown",
   "id": "e8e2db6b-ff0c-44ce-bf0f-076b37f75246",
   "metadata": {},
   "source": [
    "## Simulation of example\n",
    "\n",
    "This will simulate for both VHDL and Verilog targets, however only the VHDL output precisely shows the tristate behaviour."
   ]
  },
  {
   "cell_type": "code",
   "execution_count": 10,
   "id": "716e1f0c-efa6-4ac9-bc86-561296ac9817",
   "metadata": {},
   "outputs": [
    {
     "name": "stdout",
     "output_type": "stream",
     "text": [
      "\u001b[32m Module tb: Existing instance tb, rename to tb_1 \u001b[0m\n",
      "\u001b[32m Module tb: Existing instance unit, rename to unit_1 \u001b[0m\n",
      " Writing 'unit_1' to file /tmp/myirl_tb_p159x5j9/unit_1.vhdl \n",
      " Writing 'tb_1' to file /tmp/myirl_tb_p159x5j9/tb_1.vhdl \n",
      " Creating library file module_defs.vhdl \n"
     ]
    }
   ],
   "source": [
    "from myirl.test.common_test import Simulator\n",
    "\n",
    "def test():\n",
    "    t = tb()\n",
    "    s = Simulator(targets.VHDL)\n",
    "    s.run(t, 200, debug = False, wavetrace = 'tri.vcd')\n",
    "    \n",
    "    return s.used_files\n",
    "f = test()"
   ]
  },
  {
   "cell_type": "markdown",
   "id": "3fbb44e2-0fd3-45a1-9e82-661a9dd6aa51",
   "metadata": {},
   "source": [
    "A rudimentary waveform display to show the simulation output (clock synchronous):"
   ]
  },
  {
   "cell_type": "code",
   "execution_count": 9,
   "id": "aeee3c2f-8d76-4ea3-8c14-cc90ee5411a9",
   "metadata": {},
   "outputs": [
    {
     "data": {
      "text/html": [
       "<div><script type=\"WaveDrom\">{\"signal\": [{\"name\": \"tb.t[7:0]\", \"wave\": \"u.z....=.....z.......=.......z.....\", \"data\": \"aa bb \"}, {\"name\": \"tb.sel\", \"wave\": \"0....1.....0.......1.......0.......\", \"data\": \"01010\"}, {\"name\": \"tb.data[7:0]\", \"wave\": \"=..................=...............\", \"data\": \"aa bb \"}, {\"name\": \"tb.sample_clk\", \"wave\": \"01010101010101010101010101010101010\", \"data\": \"01010101010101010101010101010101010\"}, {\"name\": \"tb.inst_unit_0.ts[7:0]\", \"wave\": \"u.z....=.....z.......=.......z.....\", \"data\": \"aa bb \"}, {\"name\": \"tb.inst_unit_0.sel\", \"wave\": \"0....1.....0.......1.......0.......\", \"data\": \"01010\"}, {\"name\": \"tb.inst_unit_0.data[7:0]\", \"wave\": \"=..................=...............\", \"data\": \"aa bb \"}, {\"name\": \"tb.inst_unit_0.idata[7:0]\", \"wave\": \"u.z....=.....z.......=.......z.....\", \"data\": \"aa bb \"}]}</script></div>"
      ]
     },
     "metadata": {},
     "output_type": "display_data"
    },
    {
     "data": {
      "application/javascript": [
       "new Promise(function(resolve, reject) {\n",
       "\tvar script = document.createElement(\"script\");\n",
       "\tscript.onload = resolve;\n",
       "\tscript.onerror = reject;\n",
       "\tscript.src = \"https://wavedrom.com/wavedrom.min.js\";\n",
       "\tdocument.head.appendChild(script);\n",
       "}).then(() => {\n",
       "new Promise(function(resolve, reject) {\n",
       "\tvar script = document.createElement(\"script\");\n",
       "\tscript.onload = resolve;\n",
       "\tscript.onerror = reject;\n",
       "\tscript.src = \"https://wavedrom.com/skins/narrow.js\";\n",
       "\tdocument.head.appendChild(script);\n",
       "}).then(() => {\n",
       "WaveDrom.ProcessAll();\n",
       "});\n",
       "});"
      ]
     },
     "metadata": {},
     "output_type": "display_data"
    }
   ],
   "source": [
    "import wavedraw; import nbwavedrom\n",
    "TB = tb.name;\n",
    "\n",
    "waveform = wavedraw.vcd2wave(\"tri.vcd\", TB + '.sample_clk', None)\n",
    "nbwavedrom.draw(waveform)"
   ]
  }
 ],
 "metadata": {
  "kernelspec": {
   "display_name": "Python 3 (ipykernel)",
   "language": "python",
   "name": "python3"
  },
  "language_info": {
   "codemirror_mode": {
    "name": "ipython",
    "version": 3
   },
   "file_extension": ".py",
   "mimetype": "text/x-python",
   "name": "python",
   "nbconvert_exporter": "python",
   "pygments_lexer": "ipython3",
   "version": "3.9.2"
  }
 },
 "nbformat": 4,
 "nbformat_minor": 5
}

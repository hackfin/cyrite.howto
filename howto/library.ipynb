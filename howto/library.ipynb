{
 "cells": [
  {
   "cell_type": "markdown",
   "id": "e6571cb3-d195-472a-8a83-fb28da97ee66",
   "metadata": {},
   "source": [
    "# Libraries, organizing your code\n",
    "\n",
    "The classic HDL way is to write a simple file with one `@block` decorated hardware unit and import it as a module. However this is not sufficient in some cases when full portability or extended configureability is desired.\n",
    "\n",
    "Also, one might use a library of existing, external VHDL or Verilog code.\n",
    "\n",
    "## User libraries\n",
    "\n",
    "When starting a new set of hardware elements from scratch, the best approach is to create `@block_component` objects inside a module class.\n",
    "\n",
    "In particular, when a hardware description should simulate and synthesize, it is desirable to have a base class and use inheritance to implement more\n",
    "features or architecture-specific variants.\n",
    "\n",
    "* [Library concepts: Library classes](../notebooks/library_concepts.ipynb#Library-classes)\n"
   ]
  },
  {
   "cell_type": "markdown",
   "id": "ab24b105-4349-46d8-a756-2d3964cd677a",
   "metadata": {},
   "source": [
    "## External HDL libraries\n",
    "\n",
    "\n",
    "* [External black boxes](../notebooks/blackboxes.ipynb#External-implementations): Wrapping external HDL files for cyrite usage"
   ]
  }
 ],
 "metadata": {
  "kernelspec": {
   "display_name": "Python 3 (ipykernel)",
   "language": "python",
   "name": "python3"
  },
  "language_info": {
   "codemirror_mode": {
    "name": "ipython",
    "version": 3
   },
   "file_extension": ".py",
   "mimetype": "text/x-python",
   "name": "python",
   "nbconvert_exporter": "python",
   "pygments_lexer": "ipython3",
   "version": "3.9.2"
  }
 },
 "nbformat": 4,
 "nbformat_minor": 5
}

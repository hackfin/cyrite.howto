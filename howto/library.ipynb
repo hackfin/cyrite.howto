{
 "cells": [
  {
   "cell_type": "markdown",
   "id": "e6571cb3-d195-472a-8a83-fb28da97ee66",
   "metadata": {},
   "source": [
    "# Libraries, organizing your code\n",
    "\n",
    "The classic HDL way is to write a simple file with one `@block` decorated hardware unit and import it as a module. However this is not sufficient in some cases when full portability or extended configureability is desired.\n",
    "\n",
    "Also, one might use a library of existing, external VHDL or Verilog code.\n",
    "\n",
    "## User libraries\n",
    "\n",
    "When starting a new set of hardware elements from scratch, the best approach is to create `@cyrite_factory.block_component` objects inside a `@cyrite_factory.Module` class descendant. By well- derival, hardware modules can be reused.\n",
    "\n",
    "In particular, when a hardware description should simulate and synthesize, it is desirable to have a base class and use inheritance to implement more\n",
    "features or architecture-specific variants.\n",
    "\n",
    "When designing internal libraries that mostly create procedural code in IRL notation, you might however use bare metal LibraryModule classes.\n",
    "\n",
    "**Note**: LibraryModule `@block_components` can refer to external objects (@block or @blackbox components), but will not emit them during elaboration."
   ]
  },
  {
   "cell_type": "code",
   "execution_count": 1,
   "id": "1eed1a50-1089-4162-b7d0-3c097799506e",
   "metadata": {},
   "outputs": [],
   "source": [
    "import myirl\n",
    "\n",
    "class MyLib(myirl.LibraryModule):\n",
    "    t_mode = myirl.enum('ADD', 'SUB')\n",
    "    @myirl.block_component\n",
    "    def addsub(self,\n",
    "              a : myirl.Signal,\n",
    "              b : myirl.Signal,\n",
    "              m : (type(t_mode.ADD), myirl.Signal.Type(t_mode.ADD)),\n",
    "              q : myirl.Signal.Output):\n",
    "\n",
    "        @myirl.genprocess_ctx(a, b)\n",
    "        def worker(ctx):\n",
    "            yield [\n",
    "                ctx.If(m == self.t_mode.ADD).Then(\n",
    "                    q .set (a + b)\n",
    "                ).Else(\n",
    "                    q .set (a - b)\n",
    "                )\n",
    "            ]\n",
    "\n",
    "        return instances()"
   ]
  },
  {
   "cell_type": "markdown",
   "id": "c19c7e71-92e0-4529-afa1-07c269b3d452",
   "metadata": {},
   "source": [
    "Note that the `addsub` interface is *not* strict, as it allows passing a constant instead of a signal. This will possibly generate several implementations, depending on the argument, as we can see below."
   ]
  },
  {
   "cell_type": "markdown",
   "id": "e56cb899-fbef-4024-991b-0a805722cb5c",
   "metadata": {},
   "source": [
    "### Including libraries in designs\n",
    "\n",
    "To make use of automatic collection of relevant library files, instance a library in the class body as below:"
   ]
  },
  {
   "cell_type": "code",
   "execution_count": 2,
   "id": "de5f6e67-e992-40b6-ab6c-bf26e5b817ae",
   "metadata": {},
   "outputs": [],
   "source": [
    "from cyhdl import *"
   ]
  },
  {
   "cell_type": "code",
   "execution_count": 3,
   "id": "240ad1b3-b35e-43f8-93ca-98a361cd798d",
   "metadata": {},
   "outputs": [],
   "source": [
    "class MyDesign(cyrite_factory.Module):\n",
    "\n",
    "    mylib = MyLib(\"mine\")\n",
    "\n",
    "    @cyrite_factory.block_component\n",
    "    def my_unit(self, clk : ClkSignal,\n",
    "                a : Signal.Type(intbv, 8),\n",
    "                b : Signal.Type(intbv, 9).Output):\n",
    "\n",
    "        y = b.clone()\n",
    "        z = b.clone()\n",
    "\n",
    "        uut0 = self.mylib.addsub(a, a,\n",
    "                                self.mylib.t_mode.ADD,\n",
    "                               y)\n",
    "\n",
    "        uut1 = self.mylib.addsub(a, a,\n",
    "                                self.mylib.t_mode.SUB,\n",
    "                               z)\n",
    "\n",
    "        wires = [\n",
    "            b    .wireup (y ^ z)\n",
    "        ]\n",
    "        \n",
    "        return instances()\n"
   ]
  },
  {
   "cell_type": "markdown",
   "id": "18f40eb8-e4a0-4807-a2fa-6ce51fbb1b0c",
   "metadata": {},
   "source": [
    "Note the `addsub` unit is instanced twice with different parameters and we are being warned about a constant 'pass through' argument. We are creating an instance of this design:"
   ]
  },
  {
   "cell_type": "code",
   "execution_count": 4,
   "id": "a4f3e274-3fc4-41c9-bb97-e48fe5a7515a",
   "metadata": {},
   "outputs": [
    {
     "name": "stdout",
     "output_type": "stream",
     "text": [
      "\u001b[7;35m Declare obj 'my_unit' in context '(MyDesign 'test')'(<class '__main__.MyDesign'>) \u001b[0m\n",
      "\u001b[7;35m Declare obj 'addsub' in context '(LIB: MyLib 'mine')'(<class '__main__.MyLib'>) \u001b[0m\n",
      "\u001b[32m Module mine: Existing instance addsub, rename to addsub_1 \u001b[0m\n",
      "\u001b[7;35m Skip registration of (LIB: MyLib 'mine')/<class '__main__.MyLib'> \u001b[0m\n",
      " Writing 'my_unit' to file /tmp/myirl_test__9cw1wdg/my_unit.vhdl \n",
      " Creating library file module_defs.vhdl \n"
     ]
    },
    {
     "name": "stderr",
     "output_type": "stream",
     "text": [
      "/home/cyrite/.local/lib/python3.10/site-packages/cyritehdl-0.1b0-py3.10-linux-x86_64.egg/myirl/kernel/components.py:116: UserWarning: Fallback: Pass through other argument for arg m (<class 'myirl.enumtypes.EnumItem'>)\n",
      "  base.warnings.warn(msg)\n"
     ]
    },
    {
     "data": {
      "text/plain": [
       "['/tmp/myirl_test__9cw1wdg/my_unit.vhdl', 'module_defs.vhdl']"
      ]
     },
     "execution_count": 4,
     "metadata": {},
     "output_type": "execute_result"
    }
   ],
   "source": [
    "from cyrite.simulation import ghdl\n",
    "\n",
    "d = MyDesign(\"test\", ghdl.GHDL)\n",
    "a = Signal(intbv()[8:])\n",
    "q = Signal(intbv()[9:])\n",
    "clk = ClkSignal()\n",
    "\n",
    "uut = d.my_unit(clk, a, q)\n",
    "files = d.elab(targets.VHDL)\n",
    "files"
   ]
  },
  {
   "cell_type": "markdown",
   "id": "15eb72c1-f14f-4e56-ac04-dfd796160a9c",
   "metadata": {},
   "source": [
    "This does not yet include the library files. We collect them manually from the instanced library:"
   ]
  },
  {
   "cell_type": "code",
   "execution_count": 5,
   "id": "d440b93f-a6ce-4593-bd91-fe6d834a7e2f",
   "metadata": {},
   "outputs": [
    {
     "name": "stdout",
     "output_type": "stream",
     "text": [
      " Writing 'addsub_1' to file ./addsub_1.vhdl \n",
      " Writing 'addsub' to file ./addsub.vhdl \n",
      " Not emitting design types library \n"
     ]
    },
    {
     "data": {
      "text/plain": [
       "['./addsub_1.vhdl', './addsub.vhdl']"
      ]
     },
     "execution_count": 5,
     "metadata": {},
     "output_type": "execute_result"
    }
   ],
   "source": [
    "d.mylib.collect_libfiles(targets.VHDL)"
   ]
  },
  {
   "cell_type": "markdown",
   "id": "31787ae9-36db-484f-bdb4-8282db18f002",
   "metadata": {},
   "source": [
    "We can see in the result that two implementations are generated for each constant value that is passed."
   ]
  },
  {
   "cell_type": "code",
   "execution_count": 6,
   "id": "2ab9c3fe-f047-4ac4-84d5-3aa152099296",
   "metadata": {},
   "outputs": [
    {
     "data": {
      "text/plain": [
       "['addsub_obj_MyLibu_8u_8E_ADD1u_9', 'addsub_obj_MyLibu_8u_8E_SUB1u_9']"
      ]
     },
     "execution_count": 6,
     "metadata": {},
     "output_type": "execute_result"
    }
   ],
   "source": [
    "d.mylib.components"
   ]
  },
  {
   "cell_type": "markdown",
   "id": "f662d5c0-7380-48ad-afa7-4468d61ef5a0",
   "metadata": {},
   "source": [
    "We display the actual unit instantiation in HDL:"
   ]
  },
  {
   "cell_type": "code",
   "execution_count": 7,
   "id": "40de2ec1-fe84-4472-b7db-a69432b97a25",
   "metadata": {},
   "outputs": [
    {
     "name": "stdout",
     "output_type": "stream",
     "text": [
      "-- File generated from source:\r\n",
      "--     None\r\n",
      "-- (c) 2016-2022 section5.ch\r\n",
      "-- Modifications may be lost, edit the source file instead.\r\n",
      "\r\n",
      "library IEEE;\r\n",
      "use IEEE.std_logic_1164.all;\r\n",
      "use IEEE.numeric_std.all;\r\n",
      "\r\n",
      "library work;\r\n",
      "\r\n",
      "use work.txt_util.all;\r\n",
      "use work.myirl_conversion.all;\r\n",
      "\r\n",
      "entity my_unit is\r\n",
      "    port (\r\n",
      "        clk : in std_ulogic;\r\n",
      "        a : in unsigned(7 downto 0);\r\n",
      "        b : out unsigned(8 downto 0)\r\n",
      "    );\r\n",
      "end entity my_unit;\r\n",
      "\r\n",
      "architecture myIRL of my_unit is\r\n",
      "    -- Local type declarations\r\n",
      "    -- Signal declarations\r\n",
      "    signal y : unsigned(8 downto 0);\r\n",
      "    signal z : unsigned(8 downto 0);\r\n",
      "begin\r\n",
      "    \r\n",
      "    -- Instance addsub\r\n",
      "    inst_addsub_0: entity work.addsub\r\n",
      "    port map (\r\n",
      "        a => a,\r\n",
      "        b => a,\r\n",
      "        q => y\r\n",
      "    );\r\n",
      "    \r\n",
      "    -- Instance addsub_1\r\n",
      "    inst_addsub_1: entity work.addsub_1\r\n",
      "    port map (\r\n",
      "        a => a,\r\n",
      "        b => a,\r\n",
      "        q => z\r\n",
      "    );\r\n",
      "    b <= (y xor z);\r\n",
      "end architecture myIRL;\r\n",
      "\r\n"
     ]
    }
   ],
   "source": [
    "!cat {files[0]}"
   ]
  },
  {
   "cell_type": "markdown",
   "id": "6d78cd8d-5d5f-4ed5-b73d-e76cc5f9dd2f",
   "metadata": {},
   "source": [
    "### Issues\n",
    "\n",
    "Putting the library in the `Module` header has one drawback: since this is a persistent instance inside the class definition, it will also record all implementations of its `@block_components`. Thus, several calls, for instance within a complex pytest regression test may emit the same module several times. This can cause errors with direct synthesis, therefore you might want to put an explicit `self.mylib.clear()` command in the `Module.__init__` function when creating different configurations."
   ]
  },
  {
   "cell_type": "markdown",
   "id": "c56e44e2-c3b1-4a58-9769-e8be93204915",
   "metadata": {},
   "source": [
    "### Conclusion and guidelines\n",
    "\n",
    "`LibraryModule` classes allow block components with non-strict interfaces, therefore they are considered ad-hoc libraries such as a 'work' library in VHDL. They can be created in inhomogenous variants, depending on parameters. Also, only implementations that are used will be created within a project. So they are not suitable to create VHDL library packages."
   ]
  },
  {
   "cell_type": "markdown",
   "id": "1b0936d7-ddb9-4137-84c7-6a5335c0e0b8",
   "metadata": {},
   "source": [
    "## External HDL libraries\n",
    "\n",
    "External HDL files are technically treated as black boxes and are referenced as a stub within the target design.\n",
    "\n",
    "Some targets might support file-only blackboxes. The `@blackbox` decorator itself just reserves the stub, but does not provide means to pull the file.\n",
    "\n",
    "For a library, this is inconvenient, we'd rather see that automated and explicitely mapping to a target language.\n",
    "The `@blackbox_verilog` decorator takes a `path_prefix` to the file whose filename is automatically constructed from the function name. Likewise, there is a `@blackbox_vhdl` decorator."
   ]
  },
  {
   "cell_type": "code",
   "execution_count": 8,
   "id": "a09da464-a9fd-4228-9f77-dae32a087bf9",
   "metadata": {
    "tags": []
   },
   "outputs": [],
   "source": [
    "from cyhdl import *\n",
    "\n",
    "Bool = Signal.Type(bool)\n",
    "Byte = Signal.Type(intbv()[8:])\n",
    "\n",
    "from myirl.blackbox_ext import *\n",
    "\n",
    "@blackbox_verilog(path_prefix=\"./verilog\")\n",
    "def debug(clk : ClkSignal, en : Bool, i_data : Byte, o_data : Byte):\n",
    "    pass"
   ]
  },
  {
   "cell_type": "markdown",
   "id": "9aad26f2-f62f-4888-9f6f-b18a94de899e",
   "metadata": {},
   "source": [
    "Verify the reference to the external Verilog file:"
   ]
  },
  {
   "cell_type": "code",
   "execution_count": 9,
   "id": "2f5e1d07-871c-42cc-9d67-a10bcb5217ec",
   "metadata": {
    "tags": []
   },
   "outputs": [
    {
     "data": {
      "text/plain": [
       "['./verilog/debug.v']"
      ]
     },
     "execution_count": 9,
     "metadata": {},
     "output_type": "execute_result"
    }
   ],
   "source": [
    "debug.get_sources()"
   ]
  },
  {
   "cell_type": "markdown",
   "id": "7176388a-fc8e-4d9f-b0e1-1bfdf9227c26",
   "metadata": {},
   "source": [
    "### Existing VHDL packages\n",
    "\n",
    "If you wish to integrate an existing VHDL library package, you can derive from a blackbox `ExternalLibrary` class and define `@blackbox_component` methods for each component declaration. This is not covered by this documentation in detail.\n",
    "\n",
    "For a VHDL library, instancing a library method will:\n",
    "\n",
    "* Create a `use.<library>.all` directive in the header\n",
    "* Reference an instance as *builtin*, i.e. `inst : module`, unlike a reference to the current work library: `inst : entity work.module`.\n",
    "\n",
    "For Verilog, this will just add a library file to the project.\n",
    "\n"
   ]
  },
  {
   "cell_type": "markdown",
   "id": "d043263f-30c1-4033-bec7-73ec40882c61",
   "metadata": {},
   "source": [
    "## Builtin Primitives\n",
    "\n",
    "**Warning** Synthesizer specific\n",
    "\n",
    "Some synthesis packages offer a library of built-in primitives that can be instanced directly from your code as a component.\n",
    "\n",
    "Even though they can be considered white or gray boxes, they are treated as a special `@blackbox` component on the IRL kernel level, because they may not provide a native Python description that may possibly simulate. In most cases, external vendor specific simulation models are provided.\n",
    "\n",
    "For **yosys** and a few supported architectures, wrappers are provided for the openly available simulation models.\n",
    "\n",
    "\n",
    "### Example"
   ]
  },
  {
   "cell_type": "code",
   "execution_count": 10,
   "id": "c77ee29b-9ab4-4ce1-bc9d-7054153d91c4",
   "metadata": {
    "tags": []
   },
   "outputs": [],
   "source": [
    "from yosys.builtins import builtins\n",
    "\n",
    "@block\n",
    "def unit(clk : ClkSignal, data_in : Signal, data_out : Signal.Output):\n",
    "    \n",
    "    # tmp = data_out.clone()\n",
    "    \n",
    "    inst_dff = builtins.Dff(CLK = clk,\n",
    "                            D = data_in,\n",
    "                            Q = data_out,\n",
    "                            CLK_POLARITY = True,\n",
    "                            WIDTH = data_in.size()\n",
    "                           )\n",
    "    \n",
    "    return [ inst_dff ]"
   ]
  },
  {
   "cell_type": "code",
   "execution_count": 11,
   "id": "694cc8f4-05f5-4a89-af29-092f7b4cd56e",
   "metadata": {
    "tags": []
   },
   "outputs": [
    {
     "name": "stdout",
     "output_type": "stream",
     "text": [
      "DEBUG INIT IN CONTEXT Dff (LIB: _Builtins '_yosys_builtins_')\n",
      "\u001b[7;35m [_builtin_method 'Dff/Dff'] blackbox not returning instances \u001b[0m\n",
      " DEBUG components ['unitu_1u_12u_12'] (DesignModule 'unit') \n",
      "\u001b[32m Adding module with name `unit` \u001b[0m\n",
      "\u001b[7;34m PARAM CLK_POLARITY --> True \u001b[0m\n",
      "\u001b[7;34m PARAM WIDTH --> 12 \u001b[0m\n",
      "\u001b[7;34m FINALIZE implementation `unit` of `unit` \u001b[0m\n"
     ]
    },
    {
     "name": "stderr",
     "output_type": "stream",
     "text": [
      "/home/cyrite/.local/lib/python3.10/site-packages/cyritehdl-0.1b0-py3.10-linux-x86_64.egg/myirl/kernel/components.py:203: UserWarning: @component `unit` interface :Output data_out not driven\n",
      "  base.warnings.warn(self._err(\"Output %s not driven\" % \\\n"
     ]
    }
   ],
   "source": [
    "a, b = [ Signal(intbv()[12:], name = n) for n in \"ab\" ]\n",
    "clk = ClkSignal()\n",
    "\n",
    "u = unit(clk, a, b)\n",
    "\n",
    "from myirl.targets.pyosys import RTLIL\n",
    "RTL = RTLIL(\"default\")\n",
    "\n",
    "objs = u.elab(RTL)\n",
    "d = objs[0]"
   ]
  },
  {
   "cell_type": "code",
   "execution_count": 12,
   "id": "0b081312-0b49-4ed3-b20a-1a11fa06d66b",
   "metadata": {
    "tags": []
   },
   "outputs": [],
   "source": [
    "d.display_rtl(selection = unit, fmt='dot')"
   ]
  },
  {
   "cell_type": "code",
   "execution_count": 13,
   "id": "2a5d561d-b023-4668-9a86-36318ed93e52",
   "metadata": {
    "tags": []
   },
   "outputs": [
    {
     "data": {
      "text/html": [
       "\n",
       "        <div class=\"svg_container_1723214253\">\n",
       "            <style>\n",
       "                .svg_container_1723214253 {\n",
       "                    overflow:hidden\n",
       "                }\n",
       "                .svg_container_1723214253 SVG {\n",
       "                    height:auto\n",
       "                }\n",
       "            </style>\n",
       "            <script src=\"https://section5.ch/svg-pan-zoom.min.js\"></script>\n",
       "            <script type=\"text/javascript\">\n",
       "                attempts = 5;\n",
       "                var existCondition = setInterval(function() {\n",
       "                  console.log(attempts);\n",
       "                  svg_el = document.querySelector(\".svg_container_1723214253 svg\");\n",
       "                  if (svg_el != null) {\n",
       "                      console.log(\"Exists!\");\n",
       "                      clearInterval(existCondition);\n",
       "                      svgPanZoom(svg_el, {controlIconsEnabled: true, zoomScaleSensitivity: 0.4, minZoom: 0.2});\n",
       "                  }\n",
       "                  if (--attempts == 0) {\n",
       "                      console.warn(\"SVG element not found, zoom wont work\");\n",
       "                      clearInterval(existCondition);\n",
       "                  }\n",
       "                }, 100); // check every 100ms\n",
       "            </script>\n",
       "            <svg xmlns=\"http://www.w3.org/2000/svg\" xmlns:xlink=\"http://www.w3.org/1999/xlink\" width=\"413pt\" height=\"175pt\" viewBox=\"0.00 0.00 413.42 175.00\">\n",
       "<g id=\"graph0\" class=\"graph\" transform=\"scale(1 1) rotate(0) translate(4 171)\">\n",
       "<title>unit</title>\n",
       "<polygon fill=\"white\" stroke=\"transparent\" points=\"-4,4 -4,-171 409.42,-171 409.42,4 -4,4\"/>\n",
       "<text text-anchor=\"middle\" x=\"202.71\" y=\"-7.8\" font-family=\"Times,serif\" font-size=\"14.00\">unit</text>\n",
       "<!-- n1 -->\n",
       "<g id=\"node1\" class=\"node\">\n",
       "<title>n1</title>\n",
       "<polygon fill=\"none\" stroke=\"black\" points=\"405.29,-60.54 405.29,-75.46 373.22,-86 327.87,-86 295.8,-75.46 295.8,-60.54 327.87,-50 373.22,-50 405.29,-60.54\"/>\n",
       "<text text-anchor=\"middle\" x=\"350.55\" y=\"-64.3\" font-family=\"Times,serif\" font-size=\"14.00\">data_out</text>\n",
       "</g>\n",
       "<!-- n2 -->\n",
       "<g id=\"node2\" class=\"node\">\n",
       "<title>n2</title>\n",
       "<polygon fill=\"none\" stroke=\"black\" points=\"95.51,-33.54 95.51,-48.46 67.59,-59 28.09,-59 0.16,-48.46 0.16,-33.54 28.09,-23 67.59,-23 95.51,-33.54\"/>\n",
       "<text text-anchor=\"middle\" x=\"47.84\" y=\"-37.3\" font-family=\"Times,serif\" font-size=\"14.00\">data_in</text>\n",
       "</g>\n",
       "<!-- c7 -->\n",
       "<g id=\"node4\" class=\"node\">\n",
       "<title>c7</title>\n",
       "<polygon fill=\"none\" stroke=\"black\" points=\"131.67,-45 131.67,-91 259.67,-91 259.67,-45 131.67,-45\"/>\n",
       "<text text-anchor=\"middle\" x=\"155.17\" y=\"-75.8\" font-family=\"Times,serif\" font-size=\"14.00\">CLK</text>\n",
       "<polyline fill=\"none\" stroke=\"black\" points=\"131.67,-68 178.67,-68 \"/>\n",
       "<text text-anchor=\"middle\" x=\"155.17\" y=\"-52.8\" font-family=\"Times,serif\" font-size=\"14.00\">D</text>\n",
       "<polyline fill=\"none\" stroke=\"black\" points=\"178.67,-45 178.67,-91 \"/>\n",
       "<text text-anchor=\"middle\" x=\"205.17\" y=\"-71.8\" font-family=\"Times,serif\" font-size=\"14.00\">Dff_0</text>\n",
       "<text text-anchor=\"middle\" x=\"205.17\" y=\"-56.8\" font-family=\"Times,serif\" font-size=\"14.00\">$dff</text>\n",
       "<polyline fill=\"none\" stroke=\"black\" points=\"231.67,-45 231.67,-91 \"/>\n",
       "<text text-anchor=\"middle\" x=\"245.67\" y=\"-64.3\" font-family=\"Times,serif\" font-size=\"14.00\">Q</text>\n",
       "</g>\n",
       "<!-- n2&#45;&gt;c7 -->\n",
       "<g id=\"edge2\" class=\"edge\">\n",
       "<title>n2:e-&gt;c7:w</title>\n",
       "<path fill=\"none\" stroke=\"black\" stroke-width=\"3\" d=\"M95.67,-41C108.95,-41 112.84,-49.79 121.71,-53.91\"/>\n",
       "<polygon fill=\"black\" stroke=\"black\" stroke-width=\"3\" points=\"121.17,-57.38 131.67,-56 122.6,-50.53 121.17,-57.38\"/>\n",
       "</g>\n",
       "<!-- n3 -->\n",
       "<g id=\"node3\" class=\"node\">\n",
       "<title>n3</title>\n",
       "<polygon fill=\"none\" stroke=\"black\" points=\"74.84,-87.54 74.84,-102.46 59.02,-113 36.65,-113 20.84,-102.46 20.84,-87.54 36.65,-77 59.02,-77 74.84,-87.54\"/>\n",
       "<text text-anchor=\"middle\" x=\"47.84\" y=\"-91.3\" font-family=\"Times,serif\" font-size=\"14.00\">clk</text>\n",
       "</g>\n",
       "<!-- n3&#45;&gt;c7 -->\n",
       "<g id=\"edge3\" class=\"edge\">\n",
       "<title>n3:e-&gt;c7:w</title>\n",
       "<path fill=\"none\" stroke=\"black\" d=\"M75.84,-95C97.72,-95 104.19,-84.12 121.5,-80.89\"/>\n",
       "<polygon fill=\"black\" stroke=\"black\" points=\"122.02,-84.36 131.67,-80 121.41,-77.39 122.02,-84.36\"/>\n",
       "</g>\n",
       "<!-- c7&#45;&gt;n1 -->\n",
       "<g id=\"edge1\" class=\"edge\">\n",
       "<title>c7:e-&gt;n1:w</title>\n",
       "<path fill=\"none\" stroke=\"black\" stroke-width=\"3\" d=\"M259.67,-68C271.67,-68 276.92,-68 285.55,-68\"/>\n",
       "<polygon fill=\"black\" stroke=\"black\" stroke-width=\"3\" points=\"285.68,-71.5 295.67,-68 285.67,-64.5 285.68,-71.5\"/>\n",
       "</g>\n",
       "<!-- \\n -->\n",
       "<g id=\"node5\" class=\"node\">\n",
       "<title>\\n</title>\n",
       "<ellipse fill=\"none\" stroke=\"black\" cx=\"47.84\" cy=\"-149\" rx=\"27\" ry=\"18\"/>\n",
       "</g>\n",
       "</g>\n",
       "</svg>\n",
       "        </div>\n",
       "    "
      ],
      "text/plain": [
       "<IPython.core.display.HTML object>"
      ]
     },
     "execution_count": 13,
     "metadata": {},
     "output_type": "execute_result"
    }
   ],
   "source": [
    "from yosys import display\n",
    "display.display_dot(d.name)"
   ]
  },
  {
   "cell_type": "markdown",
   "id": "95fd2664-c852-41ed-be26-3e1c27b81d7a",
   "metadata": {},
   "source": [
    "## General vendor blackbox issues\n",
    "\n",
    "If a FPGA vendor's blackbox is to be instanced directly, it may be important to sort out at an early stage if:\n",
    "\n",
    "* It is supplied with a binding for synthesis\n",
    "* If is supplied with a non-encrypted simulation file for the OpenSource simulators GHDL or Verilog\n",
    "\n",
    "In the case of encrypted simulation files, the only legal way to output towards simulation is:\n",
    "\n",
    "* Choose the provided simulator for your FPGA target\n",
    "* Output your design to Verilog\n",
    "\n",
    "### CXXRTL compatibility\n",
    "\n",
    "From the vendor's perspective, the it is to be kept in mind that black box models must be synthesizeable using yosys and may not contain specific timing information. Therefore, all sorts of clock generators such as PLLs can not be compiled into a simulation."
   ]
  },
  {
   "cell_type": "markdown",
   "id": "4abf8045-a4d8-43d1-8a25-1e4233af7fb8",
   "metadata": {},
   "source": [
    "## Inline blackboxes\n",
    "\n",
    "Inline blackboxes are called like functions and create an expression. Silently, an instance of a builtin-primitive and an output signal is created. From the front, an inline component is considered a blackbox with a referred implementation, the latter being a usual block component with a possibly strict interface.\n",
    "\n",
    "Inline blackboxes *generate* their interface ad-hoc, thus have freedom to proceduralle create instances.\n",
    "\n",
    "Currently, inline blackboxes are not documented in detail for *cyhdl* usage."
   ]
  }
 ],
 "metadata": {
  "kernelspec": {
   "display_name": "Python 3 (ipykernel)",
   "language": "python",
   "name": "python3"
  },
  "language_info": {
   "codemirror_mode": {
    "name": "ipython",
    "version": 3
   },
   "file_extension": ".py",
   "mimetype": "text/x-python",
   "name": "python",
   "nbconvert_exporter": "python",
   "pygments_lexer": "ipython3",
   "version": "3.10.0"
  }
 },
 "nbformat": 4,
 "nbformat_minor": 5
}

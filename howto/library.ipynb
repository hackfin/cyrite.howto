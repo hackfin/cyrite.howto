{
 "cells": [
  {
   "cell_type": "markdown",
   "id": "e6571cb3-d195-472a-8a83-fb28da97ee66",
   "metadata": {},
   "source": [
    "# Libraries, organizing your code\n",
    "\n",
    "The classic HDL way is to write a simple file with one `@block` decorated hardware unit and import it as a module. However this is not sufficient in some cases when full portability or extended configureability is desired.\n",
    "\n",
    "Also, one might use a library of existing, external VHDL or Verilog code.\n",
    "\n",
    "## User libraries\n",
    "\n",
    "When starting a new set of hardware elements from scratch, the best approach is to create `@block_component` objects inside a module class.\n",
    "\n",
    "In particular, when a hardware description should simulate and synthesize, it is desirable to have a base class and use inheritance to implement more\n",
    "features or architecture-specific variants.\n",
    "\n",
    "* [Library concepts: Library classes](../notebooks/library_concepts.ipynb#Library-classes)\n"
   ]
  },
  {
   "cell_type": "markdown",
   "id": "1b0936d7-ddb9-4137-84c7-6a5335c0e0b8",
   "metadata": {},
   "source": [
    "## External HDL libraries\n",
    "\n",
    "External HDL files are technically treated as black boxes and are referenced as a stub within the target design.\n",
    "\n",
    "Some targets might support file-only blackboxes. The `@blackbox` decorator itself just reserves the stub, but does not provide means to pull the file.\n",
    "\n",
    "For a library, this is inconvenient, we'd rather see that automated and explicitely mapping to a target language.\n",
    "The `@blackbox_verilog` decorator takes a `path_prefix` to the file whose filename is automatically constructed from the function name. Likewise, there is a `@blackbox_vhdl` decorator."
   ]
  },
  {
   "cell_type": "code",
   "execution_count": 1,
   "id": "a09da464-a9fd-4228-9f77-dae32a087bf9",
   "metadata": {
    "tags": []
   },
   "outputs": [],
   "source": [
    "from cyhdl import *\n",
    "\n",
    "Bool = Signal.Type(bool)\n",
    "Byte = Signal.Type(intbv()[8:])\n",
    "\n",
    "from myirl.blackbox_ext import *\n",
    "\n",
    "@blackbox_verilog(path_prefix=\"./verilog\")\n",
    "def debug(clk : ClkSignal, en : Bool, i_data : Byte, o_data : Byte):\n",
    "    pass"
   ]
  },
  {
   "cell_type": "markdown",
   "id": "9aad26f2-f62f-4888-9f6f-b18a94de899e",
   "metadata": {},
   "source": [
    "Verify the reference to the external Verilog file:"
   ]
  },
  {
   "cell_type": "code",
   "execution_count": 2,
   "id": "2f5e1d07-871c-42cc-9d67-a10bcb5217ec",
   "metadata": {
    "tags": []
   },
   "outputs": [
    {
     "data": {
      "text/plain": [
       "['./verilog/debug.v']"
      ]
     },
     "execution_count": 2,
     "metadata": {},
     "output_type": "execute_result"
    }
   ],
   "source": [
    "debug.get_sources()"
   ]
  },
  {
   "cell_type": "markdown",
   "id": "d043263f-30c1-4033-bec7-73ec40882c61",
   "metadata": {},
   "source": [
    "## Primitives\n",
    "\n",
    "**Warning** Synthesizer specific\n",
    "\n",
    "Some synthesis packages offer a library of built-in primitives that can be instanced directly from your code a a component.\n",
    "\n",
    "Even though they can be considered white or gray boxes, they are treated as a special `@blackbox` component on the IRL kernel level, because they may not provide a native Python description that may possibly simulate. In most cases, external vendor specific simulation models are provided.\n",
    "\n",
    "For **yosys** and a few supported architectures, wrappers are provided for the openly available simulation models.\n",
    "\n",
    "\n",
    "### Example"
   ]
  },
  {
   "cell_type": "code",
   "execution_count": 3,
   "id": "c77ee29b-9ab4-4ce1-bc9d-7054153d91c4",
   "metadata": {
    "tags": []
   },
   "outputs": [],
   "source": [
    "from yosys.builtins import builtins\n",
    "\n",
    "@block\n",
    "def unit(clk : ClkSignal, data_in : Signal, data_out : Signal.Output):\n",
    "    \n",
    "    # tmp = data_out.clone()\n",
    "    \n",
    "    inst_dff = builtins.Dff(CLK = clk,\n",
    "                            D = data_in,\n",
    "                            Q = data_out,\n",
    "                            CLK_POLARITY = True,\n",
    "                            WIDTH = data_in.size()\n",
    "                           )\n",
    "    \n",
    "    return [ inst_dff ]"
   ]
  },
  {
   "cell_type": "code",
   "execution_count": 4,
   "id": "694cc8f4-05f5-4a89-af29-092f7b4cd56e",
   "metadata": {
    "tags": []
   },
   "outputs": [
    {
     "name": "stdout",
     "output_type": "stream",
     "text": [
      "DEBUG INIT IN CONTEXT Dff (LIB: _Builtins '_yosys_builtins_')\n",
      "\u001b[7;35m [_builtin_method 'Dff/Dff'] blackbox not returning instances \u001b[0m\n",
      "\u001b[32m Adding module with name `unit` \u001b[0m\n",
      "\u001b[7;34m PARAM CLK_POLARITY --> True \u001b[0m\n",
      "\u001b[7;34m PARAM WIDTH --> 12 \u001b[0m\n",
      "\u001b[7;34m FINALIZE implementation `unit` of `unit` \u001b[0m\n"
     ]
    },
    {
     "name": "stderr",
     "output_type": "stream",
     "text": [
      "/home/cyrite/.local/lib/python3.10/site-packages/cyritehdl-0.1b0-py3.10-linux-x86_64.egg/myirl/kernel/components.py:205: UserWarning: @component `unit` interface :Output data_out not driven\n",
      "  base.warnings.warn(self._err(\"Output %s not driven\" % \\\n"
     ]
    }
   ],
   "source": [
    "a, b = [ Signal(intbv()[12:], name = n) for n in \"ab\" ]\n",
    "clk = ClkSignal()\n",
    "\n",
    "u = unit(clk, a, b)\n",
    "\n",
    "from myirl.targets.pyosys import RTLIL\n",
    "RTL = RTLIL(\"default\")\n",
    "\n",
    "objs = u.elab(RTL)\n",
    "d = objs[0]"
   ]
  },
  {
   "cell_type": "code",
   "execution_count": 5,
   "id": "0b081312-0b49-4ed3-b20a-1a11fa06d66b",
   "metadata": {
    "tags": []
   },
   "outputs": [],
   "source": [
    "d.display_rtl(selection = unit, fmt='dot')"
   ]
  },
  {
   "cell_type": "code",
   "execution_count": 6,
   "id": "2a5d561d-b023-4668-9a86-36318ed93e52",
   "metadata": {
    "tags": []
   },
   "outputs": [
    {
     "data": {
      "text/html": [
       "\n",
       "        <div class=\"svg_container_1713981461\">\n",
       "            <style>\n",
       "                .svg_container_1713981461 {\n",
       "                    overflow:hidden\n",
       "                }\n",
       "                .svg_container_1713981461 SVG {\n",
       "                    height:auto\n",
       "                }\n",
       "            </style>\n",
       "            <script src=\"https://section5.ch/svg-pan-zoom.min.js\"></script>\n",
       "            <script type=\"text/javascript\">\n",
       "                attempts = 5;\n",
       "                var existCondition = setInterval(function() {\n",
       "                  console.log(attempts);\n",
       "                  svg_el = document.querySelector(\".svg_container_1713981461 svg\");\n",
       "                  if (svg_el != null) {\n",
       "                      console.log(\"Exists!\");\n",
       "                      clearInterval(existCondition);\n",
       "                      svgPanZoom(svg_el, {controlIconsEnabled: true, zoomScaleSensitivity: 0.4, minZoom: 0.2});\n",
       "                  }\n",
       "                  if (--attempts == 0) {\n",
       "                      console.warn(\"SVG element not found, zoom wont work\");\n",
       "                      clearInterval(existCondition);\n",
       "                  }\n",
       "                }, 100); // check every 100ms\n",
       "            </script>\n",
       "            <svg xmlns=\"http://www.w3.org/2000/svg\" xmlns:xlink=\"http://www.w3.org/1999/xlink\" width=\"413pt\" height=\"175pt\" viewBox=\"0.00 0.00 413.42 175.00\">\n",
       "<g id=\"graph0\" class=\"graph\" transform=\"scale(1 1) rotate(0) translate(4 171)\">\n",
       "<title>unit</title>\n",
       "<polygon fill=\"white\" stroke=\"transparent\" points=\"-4,4 -4,-171 409.42,-171 409.42,4 -4,4\"/>\n",
       "<text text-anchor=\"middle\" x=\"202.71\" y=\"-7.8\" font-family=\"Times,serif\" font-size=\"14.00\">unit</text>\n",
       "<!-- n1 -->\n",
       "<g id=\"node1\" class=\"node\">\n",
       "<title>n1</title>\n",
       "<polygon fill=\"none\" stroke=\"black\" points=\"405.29,-60.54 405.29,-75.46 373.22,-86 327.87,-86 295.8,-75.46 295.8,-60.54 327.87,-50 373.22,-50 405.29,-60.54\"/>\n",
       "<text text-anchor=\"middle\" x=\"350.55\" y=\"-64.3\" font-family=\"Times,serif\" font-size=\"14.00\">data_out</text>\n",
       "</g>\n",
       "<!-- n2 -->\n",
       "<g id=\"node2\" class=\"node\">\n",
       "<title>n2</title>\n",
       "<polygon fill=\"none\" stroke=\"black\" points=\"95.51,-33.54 95.51,-48.46 67.59,-59 28.09,-59 0.16,-48.46 0.16,-33.54 28.09,-23 67.59,-23 95.51,-33.54\"/>\n",
       "<text text-anchor=\"middle\" x=\"47.84\" y=\"-37.3\" font-family=\"Times,serif\" font-size=\"14.00\">data_in</text>\n",
       "</g>\n",
       "<!-- c7 -->\n",
       "<g id=\"node4\" class=\"node\">\n",
       "<title>c7</title>\n",
       "<polygon fill=\"none\" stroke=\"black\" points=\"131.67,-45 131.67,-91 259.67,-91 259.67,-45 131.67,-45\"/>\n",
       "<text text-anchor=\"middle\" x=\"155.17\" y=\"-75.8\" font-family=\"Times,serif\" font-size=\"14.00\">CLK</text>\n",
       "<polyline fill=\"none\" stroke=\"black\" points=\"131.67,-68 178.67,-68 \"/>\n",
       "<text text-anchor=\"middle\" x=\"155.17\" y=\"-52.8\" font-family=\"Times,serif\" font-size=\"14.00\">D</text>\n",
       "<polyline fill=\"none\" stroke=\"black\" points=\"178.67,-45 178.67,-91 \"/>\n",
       "<text text-anchor=\"middle\" x=\"205.17\" y=\"-71.8\" font-family=\"Times,serif\" font-size=\"14.00\">Dff_0</text>\n",
       "<text text-anchor=\"middle\" x=\"205.17\" y=\"-56.8\" font-family=\"Times,serif\" font-size=\"14.00\">$dff</text>\n",
       "<polyline fill=\"none\" stroke=\"black\" points=\"231.67,-45 231.67,-91 \"/>\n",
       "<text text-anchor=\"middle\" x=\"245.67\" y=\"-64.3\" font-family=\"Times,serif\" font-size=\"14.00\">Q</text>\n",
       "</g>\n",
       "<!-- n2&#45;&gt;c7 -->\n",
       "<g id=\"edge2\" class=\"edge\">\n",
       "<title>n2:e-&gt;c7:w</title>\n",
       "<path fill=\"none\" stroke=\"black\" stroke-width=\"3\" d=\"M95.67,-41C108.95,-41 112.84,-49.79 121.71,-53.91\"/>\n",
       "<polygon fill=\"black\" stroke=\"black\" stroke-width=\"3\" points=\"121.17,-57.38 131.67,-56 122.6,-50.53 121.17,-57.38\"/>\n",
       "</g>\n",
       "<!-- n3 -->\n",
       "<g id=\"node3\" class=\"node\">\n",
       "<title>n3</title>\n",
       "<polygon fill=\"none\" stroke=\"black\" points=\"74.84,-87.54 74.84,-102.46 59.02,-113 36.65,-113 20.84,-102.46 20.84,-87.54 36.65,-77 59.02,-77 74.84,-87.54\"/>\n",
       "<text text-anchor=\"middle\" x=\"47.84\" y=\"-91.3\" font-family=\"Times,serif\" font-size=\"14.00\">clk</text>\n",
       "</g>\n",
       "<!-- n3&#45;&gt;c7 -->\n",
       "<g id=\"edge3\" class=\"edge\">\n",
       "<title>n3:e-&gt;c7:w</title>\n",
       "<path fill=\"none\" stroke=\"black\" d=\"M75.84,-95C97.72,-95 104.19,-84.12 121.5,-80.89\"/>\n",
       "<polygon fill=\"black\" stroke=\"black\" points=\"122.02,-84.36 131.67,-80 121.41,-77.39 122.02,-84.36\"/>\n",
       "</g>\n",
       "<!-- c7&#45;&gt;n1 -->\n",
       "<g id=\"edge1\" class=\"edge\">\n",
       "<title>c7:e-&gt;n1:w</title>\n",
       "<path fill=\"none\" stroke=\"black\" stroke-width=\"3\" d=\"M259.67,-68C271.67,-68 276.92,-68 285.55,-68\"/>\n",
       "<polygon fill=\"black\" stroke=\"black\" stroke-width=\"3\" points=\"285.68,-71.5 295.67,-68 285.67,-64.5 285.68,-71.5\"/>\n",
       "</g>\n",
       "<!-- \\n -->\n",
       "<g id=\"node5\" class=\"node\">\n",
       "<title>\\n</title>\n",
       "<ellipse fill=\"none\" stroke=\"black\" cx=\"47.84\" cy=\"-149\" rx=\"27\" ry=\"18\"/>\n",
       "</g>\n",
       "</g>\n",
       "</svg>\n",
       "        </div>\n",
       "    "
      ],
      "text/plain": [
       "<IPython.core.display.HTML object>"
      ]
     },
     "execution_count": 6,
     "metadata": {},
     "output_type": "execute_result"
    }
   ],
   "source": [
    "from yosys import display\n",
    "display.display_dot(d.name)"
   ]
  },
  {
   "cell_type": "markdown",
   "id": "95fd2664-c852-41ed-be26-3e1c27b81d7a",
   "metadata": {},
   "source": [
    "## General vendor blackbox issues\n",
    "\n",
    "If a FPGA vendor's blackbox is to be instanced directly, it may be important to sort out at an early stage if:\n",
    "\n",
    "* It is supplied with a binding for synthesis\n",
    "* If is supplied with a non-encrypted simulation file for the OpenSource simulators GHDL or Verilog\n",
    "\n",
    "In the case of encrypted simulation files, the only legal way to output towards simulation is:\n",
    "\n",
    "* Choose the provided simulator for your FPGA target\n",
    "* Output your design to Verilog\n",
    "\n",
    "### CXXRTL compatibility\n",
    "\n",
    "From the vendor's perspective, the it is to be kept in mind that black box models must be synthesizeable using yosys and may not contain specific timing information. Therefore, all sorts of clock generators such as PLLs can not be compiled into a simulation."
   ]
  },
  {
   "cell_type": "code",
   "execution_count": null,
   "id": "53d664ef-90b3-4458-84bb-532880224cd7",
   "metadata": {},
   "outputs": [],
   "source": []
  }
 ],
 "metadata": {
  "kernelspec": {
   "display_name": "Python 3 (ipykernel)",
   "language": "python",
   "name": "python3"
  },
  "language_info": {
   "codemirror_mode": {
    "name": "ipython",
    "version": 3
   },
   "file_extension": ".py",
   "mimetype": "text/x-python",
   "name": "python",
   "nbconvert_exporter": "python",
   "pygments_lexer": "ipython3",
   "version": "3.10.0"
  }
 },
 "nbformat": 4,
 "nbformat_minor": 5
}

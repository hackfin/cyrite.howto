{
 "cells": [
  {
   "cell_type": "markdown",
   "id": "cedc4906-8805-477e-946a-bcb089980f94",
   "metadata": {},
   "source": [
    "# HDL targets\n",
    "\n",
    "A functional description of a hardware design in emulated MyHDL or MyIRL generator constructs is normally output to VHDL or Verilog for transfer to a synthesis tool. The IRL kernel by default does that in a hierarchy-preserving way such that each `@component` or `@block` with a well defined interface results in a separate HDL component or module.\n",
    "\n",
    "The IRL kernel generators impose some limitations on code elements, as in:\n",
    "\n",
    "* Not allowing procedural loops in synthesizeable HDL transfer\n",
    "* Not allowing certain operations with the default signal class\n",
    "\n",
    "Therefore, when beginning a new design based on the next generation structural concepts, it helps to stick to the minimum functionality subset and extend later, when necessary."
   ]
  },
  {
   "cell_type": "markdown",
   "id": "70523ee7-c184-4732-a062-d21049e100b1",
   "metadata": {},
   "source": [
    "As common examination subject, we create a minimal unit using simulation specific commands, i.e. it is used as a test bench in particular."
   ]
  },
  {
   "cell_type": "code",
   "execution_count": 1,
   "id": "a20149a8-9a03-4ff0-a45f-6a231007757d",
   "metadata": {},
   "outputs": [],
   "source": [
    "from myirl.emulation.myhdl import *\n",
    "from myirl.simulation import *\n",
    "\n",
    "@block\n",
    "def unit():\n",
    "    a = Signal(intbv(0xaa)[8:])\n",
    "    a.init = True\n",
    "    q = Signal(bool())\n",
    "\n",
    "    @instance\n",
    "    def stim():\n",
    "        q.next = False\n",
    "        if a[0] == True and a[1] == False and a[7] == False:  # True boolean evaluation\n",
    "            q.next = True\n",
    "            \n",
    "        yield delay(1)\n",
    "        assert q == False\n",
    "    \n",
    "        print(\"DONE\")\n",
    "        raise StopSimulation\n",
    "    \n",
    "    return instances()"
   ]
  },
  {
   "cell_type": "markdown",
   "id": "f06364dd-e62d-432e-9454-1ff823aa6c4d",
   "metadata": {},
   "source": [
    "## VHDL\n",
    "\n",
    "VHDL output is the default verification transfer language for most unit tests. A `@block` is simply translated as follows:"
   ]
  },
  {
   "cell_type": "markdown",
   "id": "0944dcf3-eb8a-4285-b036-ab36e0dacff2",
   "metadata": {},
   "source": [
    "To create the HDL code from `unit()`, we run:"
   ]
  },
  {
   "cell_type": "code",
   "execution_count": 2,
   "id": "a15ea23f-202c-4702-aebb-666fdf6673d1",
   "metadata": {},
   "outputs": [
    {
     "name": "stdout",
     "output_type": "stream",
     "text": [
      " Writing 'unit' to file /tmp/myirl_unit_sj2qv384/unit.vhdl \n"
     ]
    },
    {
     "data": {
      "text/plain": [
       "['/tmp/myirl_unit_sj2qv384/unit.vhdl']"
      ]
     },
     "execution_count": 2,
     "metadata": {},
     "output_type": "execute_result"
    }
   ],
   "source": [
    "u = unit()\n",
    "files = u.elab(targets.VHDL)\n",
    "files"
   ]
  },
  {
   "cell_type": "markdown",
   "id": "dd06bd2d-8154-4af7-9954-b5d7b1720146",
   "metadata": {},
   "source": [
    "Output the resulting file:"
   ]
  },
  {
   "cell_type": "code",
   "execution_count": 3,
   "id": "ee16651b-84f9-4d67-b6d9-819cda3b41ac",
   "metadata": {},
   "outputs": [
    {
     "name": "stdout",
     "output_type": "stream",
     "text": [
      "-- File generated from source:\n",
      "--     /tmp/ipykernel_59573/2775767039.py\n",
      "-- (c) 2016-2022 section5.ch\n",
      "-- Modifications may be lost, edit the source file instead.\n",
      "\n",
      "library IEEE;\n",
      "use IEEE.std_logic_1164.all;\n",
      "use IEEE.numeric_std.all;\n",
      "\n",
      "library work;\n",
      "\n",
      "use work.txt_util.all;\n",
      "use work.myirl_conversion.all;\n",
      "\n",
      "entity unit is\n",
      "end entity unit;\n",
      "\n",
      "architecture myhdl_emulation of unit is\n",
      "    -- Local type declarations\n",
      "    -- Signal declarations\n",
      "    signal q : std_ulogic;\n",
      "    signal a : unsigned(7 downto 0) := x\"aa\";\n",
      "begin\n",
      "    \n",
      "stim:\n",
      "    process\n",
      "    begin\n",
      "        q <= '0';\n",
      "        if (((a(0) = '1') and (a(1) = '0')) and (a(7) = '0')) then\n",
      "            q <= '1';\n",
      "        end if;\n",
      "        wait for 1 ns;\n",
      "        assert (q = '0')\n",
      "            report \"Failed in /tmp/ipykernel_59573/2775767039.py:unit():17\" severity failure;\n",
      "        print(\"DONE\");\n",
      "        std.env.stop;\n",
      "        wait;\n",
      "    end process;\n",
      "end architecture myhdl_emulation;\n",
      "\n"
     ]
    }
   ],
   "source": [
    "!cat {files[0]}"
   ]
  },
  {
   "cell_type": "markdown",
   "id": "9d7dcb5a-59f7-48d9-b533-668fa188d49d",
   "metadata": {},
   "source": [
    "## Verilog\n",
    "\n",
    "Verilog support is rudimentary and not complete for a number of wire types and class interfaces.\n",
    "It was done as a proof of concept only and for now covers mainly:\n",
    "\n",
    "* Simple arithmetics (`intbv` compatibility)\n",
    "* Test bench generation"
   ]
  },
  {
   "cell_type": "code",
   "execution_count": 4,
   "id": "515d31fa-0071-4d9d-93de-f791e8a80107",
   "metadata": {},
   "outputs": [
    {
     "name": "stdout",
     "output_type": "stream",
     "text": [
      "\u001b[32m Module unit: Existing instance unit, rename to unit_1 \u001b[0m\n",
      " Writing 'unit_1' to file /tmp/myirl_unit_9hianvtd/unit_1.v \n"
     ]
    },
    {
     "data": {
      "text/plain": [
       "['/tmp/myirl_unit_9hianvtd/unit_1.v']"
      ]
     },
     "execution_count": 4,
     "metadata": {},
     "output_type": "execute_result"
    }
   ],
   "source": [
    "u = unit()\n",
    "files = u.elab(targets.Verilog)\n",
    "files"
   ]
  },
  {
   "cell_type": "markdown",
   "id": "0b176405-8c37-49cd-b199-ff273e9d1fc9",
   "metadata": {},
   "source": [
    "Likewise, dump the Verilog output:"
   ]
  },
  {
   "cell_type": "code",
   "execution_count": 5,
   "id": "814fb448-814b-493e-94d2-bcc0e9b28b51",
   "metadata": {},
   "outputs": [
    {
     "name": "stdout",
     "output_type": "stream",
     "text": [
      "// File generated from source:\n",
      "//     /tmp/ipykernel_59573/2775767039.py\n",
      "// (c) 2016-2022 section5.ch\n",
      "// Modifications may be lost, edit the source file instead.\n",
      "\n",
      "`timescale 1 ns / 1 ps\n",
      "`include \"aux.v\"\n",
      "// Architecture myhdl_emulation\n",
      "\n",
      "module unit_1\n",
      "    ();\n",
      "    // Local type declarations\n",
      "    // Signal declarations\n",
      "    reg  q;\n",
      "    reg [7:0] a;\n",
      "    initial a = 8'haa;\n",
      "    \n",
      "    initial begin : STIM\n",
      "        q <= 1'b0;\n",
      "        if ((((a[0] == 1'b1) & (a[1] == 1'b0)) & (a[7] == 1'b0))) begin\n",
      "            q <= 1'b1;\n",
      "        end\n",
      "        #1.000000;\n",
      "        `assert((q == 1'b0), \"Failed in /tmp/ipykernel_59573/2775767039.py:unit():17\") \n",
      "        $write(\"%s \", \"DONE\");\n",
      "        $write(\"\\n\");\n",
      "        $display(\"Stop Simulation\");\n",
      "        $finish;\n",
      "    end\n",
      "endmodule // unit_1\n"
     ]
    }
   ],
   "source": [
    "!cat {files[0]}"
   ]
  },
  {
   "cell_type": "markdown",
   "id": "6411a224-3c59-416e-8990-04e3bbebd00b",
   "metadata": {},
   "source": [
    "## Yosys / RTLIL\n",
    "\n",
    "The API layer towards the libpyosys module was migrated from the `jupyosys` project to the IRL kernel.\n",
    "This target directly creates RTL elements from the python HDL description.\n",
    "Due to the yosys architecture, yosys interfacing may cause spurious aborts when certain commands are run. It is thus regarded unstable until yosys is made exception-safe for scripting APIs.\n",
    "\n",
    "For more details, see [RTLIL target](target_rtlil.ipynb)."
   ]
  },
  {
   "cell_type": "markdown",
   "id": "cd5f424f-ce5d-4c04-923f-89cdfe0c620c",
   "metadata": {},
   "source": [
    "## Simulators\n",
    "\n",
    "For simulation, the so far supported simulator back ends are:\n",
    "\n",
    "* Icarus Verilog\n",
    "* GHDL\n",
    "* Yosys CXXRTL\n",
    "\n",
    "The CXXRTL simulator digests synthesizeable hardware descriptions only, i.e. can not handle delay elements intrinsically. All simulation drivers are running natively in Python and co-simulate with a compiled CXXRTL module.\n",
    "\n",
    "To run the above unit with one of the above HDL simulators, we finally call:"
   ]
  },
  {
   "cell_type": "code",
   "execution_count": 6,
   "id": "9b230004-efc8-419c-88f7-1dd9a33af89b",
   "metadata": {},
   "outputs": [
    {
     "name": "stdout",
     "output_type": "stream",
     "text": [
      "\u001b[32m Module unit: Existing instance unit, rename to unit_2 \u001b[0m\n",
      " Writing 'unit_2' to file /tmp/unit_2.vhdl \n",
      " Creating library file /tmp/module_defs.vhdl \n",
      "WORK DIR of instance [Instance unit_2 I/F: [// ID: unit_0 to unit]] /tmp/myirl_unit_cdwo__bb/\n",
      "==== COSIM stdout ====\n",
      "DONE\n",
      "simulation stopped @1ns\n",
      "\n",
      " Writing 'unit_2' to file /tmp/unit_2.v \n",
      " Note: Changing library path prefix to /tmp/ \n",
      " Creating library file /tmp/module_defs.v \n",
      "ICARUS FILES ['/tmp/unit_2.v']\n",
      "==== COSIM stdout ====\n",
      "DONE \n",
      "Stop Simulation\n",
      "\n"
     ]
    }
   ],
   "source": [
    "from myirl.test.common_test import Simulator\n",
    "\n",
    "def test(uut, param = (), debug = False):\n",
    "    inst = uut(*param)\n",
    "    vhdl = targets.vhdl.VHDL()\n",
    "    verilog = targets.verilog.Verilog()\n",
    "    for tgt in [vhdl, verilog]:\n",
    "        s = Simulator(tgt)\n",
    "        s.run(inst, 20, debug = True)\n",
    "    \n",
    "test(unit)"
   ]
  },
  {
   "cell_type": "markdown",
   "id": "432edef8-ce16-47ff-9a83-103d9fb8281d",
   "metadata": {},
   "source": [
    "**Note** The `VHDL` target is by default bound to the VHDL-2008 standard. If VHDL93 is required for some constructs, create an instance of `targets.vhdl.VHDL93()` instead. This will however display a failure assertion upon `StopSimulation`.\n",
    "\n",
    "**Note** For Icarus featured simulations, it is important to use `StopSimulation` with indefinitely stimulated (clocked) test benches."
   ]
  },
  {
   "cell_type": "markdown",
   "id": "cdae5da5-0b41-4c47-8c25-c9595eb76904",
   "metadata": {},
   "source": [
    "Further reading: [Simulation](simulation.ipynb)"
   ]
  }
 ],
 "metadata": {
  "kernelspec": {
   "display_name": "Python 3 (ipykernel)",
   "language": "python",
   "name": "python3"
  },
  "language_info": {
   "codemirror_mode": {
    "name": "ipython",
    "version": 3
   },
   "file_extension": ".py",
   "mimetype": "text/x-python",
   "name": "python",
   "nbconvert_exporter": "python",
   "pygments_lexer": "ipython3",
   "version": "3.10.0"
  }
 },
 "nbformat": 4,
 "nbformat_minor": 5
}

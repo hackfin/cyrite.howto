{
 "cells": [
  {
   "cell_type": "markdown",
   "id": "2e32fafd-1c7c-4bc7-b6f1-a6b9cb39fcf8",
   "metadata": {},
   "source": [
    "# Simulation scenarios\n",
    "\n",
    "* Simulation basics\n",
    "* Verification: Waveforms and assertions\n",
    "* Writing portable simulations\n",
    "\n",
    "\n",
    "## Simulation basics\n",
    "\n",
    "Once a design is conceived, its correct functionality in conjunction with a known good template or routine has to be verified. This is typically done using a (virtual) test bench that tests the unit under test ('UUT') against external stimuli.\n",
    "\n",
    "A typical test bench has one main stimulus routine defining a *sequence* of signal events.\n",
    "\n",
    "Since cyrite does not provide a built-in simulator, it normally creates HDL output which is in turn fed to an external simulator such as GHDL or ICARUS. Again, HDL code is generated for the stimulus sequence.\n",
    "\n",
    "There are several ways to instance a simulation. Let's start with a simple synchronous unit first:"
   ]
  },
  {
   "cell_type": "code",
   "execution_count": 1,
   "id": "68f8e20d-612b-476e-96af-03f33e3883ab",
   "metadata": {},
   "outputs": [],
   "source": [
    "import sys\n",
    "sys.path.insert(0, '../..')"
   ]
  },
  {
   "cell_type": "code",
   "execution_count": 2,
   "id": "fbc210da-3adf-44e4-836c-3fc522c43a7b",
   "metadata": {},
   "outputs": [],
   "source": [
    "from cyhdl import *\n",
    "\n",
    "Bool = Signal.Type(bool)\n",
    "\n",
    "@block\n",
    "def unit(clk : ClkSignal, en: Bool, a: Signal, q : Signal.Output):\n",
    "    @always(clk.posedge)\n",
    "    def worker():\n",
    "        if en:\n",
    "            q.next = ~a\n",
    "    \n",
    "    return worker"
   ]
  },
  {
   "cell_type": "markdown",
   "id": "3474057a-902f-4c67-808c-fedec6d0d2fd",
   "metadata": {},
   "source": [
    "### Simple block test bench\n",
    "\n",
    "A `@block` containing several stimuli can function as a test bench.\n",
    "Once no more stimuli are present, the simulation is typically halted.\n",
    "\n",
    "Because all event driven processes or sequences are translated to IRL generator notation internally, you can not use 'yield from' statements in the `@sequence` main stimulus. However, you can make use of `@hdlmacro`s for language-based simulators."
   ]
  },
  {
   "cell_type": "code",
   "execution_count": 3,
   "id": "2dd74835-bfdc-4bdf-854d-4908de2d7a0b",
   "metadata": {},
   "outputs": [],
   "source": [
    "@block\n",
    "def tb_unit(clkname):\n",
    "    clk = ClkSignal(name=clkname)\n",
    "    en = Bool()\n",
    "    a, q = [ Signal(intbv()[8:]) for _ in range(2) ]\n",
    "    \n",
    "    uut = unit(clk, en, a, q)\n",
    "    \n",
    "    @always(delay(4))\n",
    "    def clkgen():\n",
    "        clk.next = ~clk\n",
    "        \n",
    "    @sequence\n",
    "    def main():\n",
    "        en.next = False\n",
    "        yield delay(10)\n",
    "        yield clk.negedge\n",
    "        en.next = True\n",
    "        a.next = 0xaa\n",
    "        yield clk.negedge\n",
    "        assert q == 0x55\n",
    "        yield delay(100)\n",
    "        \n",
    "        raise StopSimulation # Terminate without error\n",
    "        \n",
    "    \n",
    "    return instances()"
   ]
  },
  {
   "cell_type": "code",
   "execution_count": 4,
   "id": "881842c0-9ce1-444b-a6b6-39adf0841b06",
   "metadata": {},
   "outputs": [
    {
     "name": "stderr",
     "output_type": "stream",
     "text": [
      "../../myirl/kernel/components.py:111: UserWarning: Fallback: Pass through other argument for arg clkname (<class 'str'>)\n",
      "  base.warnings.warn(msg)\n"
     ]
    },
    {
     "name": "stdout",
     "output_type": "stream",
     "text": [
      " Writing 'unit' to file /tmp/myirl_tb_unit_vjxf6gzm/unit.vhdl \n",
      " Writing 'tb_unit' to file /tmp/myirl_tb_unit_vjxf6gzm/tb_unit.vhdl \n",
      " DEBUG: omit `clkname` from interface, (passthrough type <class 'str'>) \n",
      " Creating library file module_defs.vhdl \n"
     ]
    },
    {
     "data": {
      "text/plain": [
       "0"
      ]
     },
     "execution_count": 4,
     "metadata": {},
     "output_type": "execute_result"
    }
   ],
   "source": [
    "clkname = 'clk'\n",
    "tb = tb_unit(clkname)\n",
    "\n",
    "s = Simulator(targets.VHDL)\n",
    "s.run(tb, 80, wavetrace = \"tb.vcd\")"
   ]
  },
  {
   "cell_type": "markdown",
   "id": "19be5680-8c37-495f-82d8-fb504daffeba",
   "metadata": {},
   "source": [
    "When using GHDL, a VCD file with name given by the `wavetrace` parameter is created. To display this file in the notebook, we have to manually import a few wave drawing modules.\n",
    "\n",
    "The wave utility requires a sample clock, whose clock name must be specified. In this case, it has to match the master clock's name."
   ]
  },
  {
   "cell_type": "code",
   "execution_count": 5,
   "id": "f5e43e2d-6353-4648-9085-8b808343a525",
   "metadata": {},
   "outputs": [
    {
     "data": {
      "text/html": [
       "<div><script type=\"WaveDrom\">{\"signal\": [{\"name\": \"tb_unit.q[7:0]\", \"wave\": \"u....=.........................\", \"data\": \"55 \"}, {\"name\": \"tb_unit.clk\", \"wave\": \"0101010101010101010101010101010\", \"data\": \"0101010101010101010101010101010\"}, {\"name\": \"tb_unit.en\", \"wave\": \"0...1..........................\", \"data\": \"01\"}, {\"name\": \"tb_unit.a[7:0]\", \"wave\": \"u...=..........................\", \"data\": \"aa \"}, {\"name\": \"tb_unit.inst_unit_0.clk\", \"wave\": \"0101010101010101010101010101010\", \"data\": \"0101010101010101010101010101010\"}, {\"name\": \"tb_unit.inst_unit_0.en\", \"wave\": \"0...1..........................\", \"data\": \"01\"}, {\"name\": \"tb_unit.inst_unit_0.a[7:0]\", \"wave\": \"u...=..........................\", \"data\": \"aa \"}, {\"name\": \"tb_unit.inst_unit_0.q[7:0]\", \"wave\": \"u....=.........................\", \"data\": \"55 \"}]}</script></div>"
      ]
     },
     "metadata": {},
     "output_type": "display_data"
    },
    {
     "data": {
      "application/javascript": [
       "new Promise(function(resolve, reject) {\n",
       "\tvar script = document.createElement(\"script\");\n",
       "\tscript.onload = resolve;\n",
       "\tscript.onerror = reject;\n",
       "\tscript.src = \"https://wavedrom.com/wavedrom.min.js\";\n",
       "\tdocument.head.appendChild(script);\n",
       "}).then(() => {\n",
       "new Promise(function(resolve, reject) {\n",
       "\tvar script = document.createElement(\"script\");\n",
       "\tscript.onload = resolve;\n",
       "\tscript.onerror = reject;\n",
       "\tscript.src = \"https://wavedrom.com/skins/narrow.js\";\n",
       "\tdocument.head.appendChild(script);\n",
       "}).then(() => {\n",
       "WaveDrom.ProcessAll();\n",
       "});\n",
       "});"
      ]
     },
     "metadata": {},
     "output_type": "display_data"
    }
   ],
   "source": [
    "from cyrite import waveutils\n",
    "waveutils.draw_wavetrace(tb, 'tb.vcd', clkname)"
   ]
  },
  {
   "cell_type": "markdown",
   "id": "b4d2494b-bea7-4638-82f4-b97b8420cbab",
   "metadata": {},
   "source": [
    "## Specific test bench\n",
    "\n",
    "A test bench can also be specific to a target and not be used with other simulators.\n",
    "In this case, an extra decorator is prepended to the `@block` function, which specifies the simulator to use. The simulator has a default_target property which is used as elaboration target for the intermediate output."
   ]
  },
  {
   "cell_type": "code",
   "execution_count": 6,
   "id": "100c2809-a757-4da6-ac94-a297545a8633",
   "metadata": {},
   "outputs": [],
   "source": [
    "from cyrite.simulation import sim, icarus, ghdl\n",
    "\n",
    "@sim.testbench(icarus.ICARUS, 'ns')\n",
    "@block\n",
    "def tb_unit2(clkname):\n",
    "    clk = ClkSignal(name=clkname)\n",
    "    en = Bool()\n",
    "    a, q = [ Signal(intbv()[8:]) for _ in range(2) ]\n",
    "    \n",
    "    uut = unit(clk, en, a, q)\n",
    "    \n",
    "    @always(delay(4))\n",
    "    def clkgen():\n",
    "        clk.next = ~clk\n",
    "        \n",
    "    @sequence\n",
    "    def main():\n",
    "        en.next = False\n",
    "        yield delay(10)\n",
    "        yield clk.negedge\n",
    "        en.next = True\n",
    "        a.next = 0xaa\n",
    "        yield clk.negedge\n",
    "        assert q == 0x55\n",
    "        yield delay(100)\n",
    "        \n",
    "        raise StopSimulation # Terminate without error\n",
    "        \n",
    "    \n",
    "    return instances()\n"
   ]
  },
  {
   "cell_type": "markdown",
   "id": "9d4843cc-33c2-4367-8365-b63efe8954b8",
   "metadata": {},
   "source": [
    "As this is a specific test bench class bound to a simulator, it is the test bench instance that is '.run':"
   ]
  },
  {
   "cell_type": "code",
   "execution_count": 7,
   "id": "ae097981-51ff-46c8-8311-74a0cefaabc5",
   "metadata": {},
   "outputs": [
    {
     "name": "stderr",
     "output_type": "stream",
     "text": [
      "../../myirl/kernel/components.py:111: UserWarning: Fallback: Pass through other argument for arg clkname (<class 'str'>)\n",
      "  base.warnings.warn(msg)\n"
     ]
    },
    {
     "name": "stdout",
     "output_type": "stream",
     "text": [
      "\u001b[32m Module tb_unit2: Existing instance unit, rename to unit_1 \u001b[0m\n",
      " Writing 'unit_1' to file /tmp/unit_1.v \n",
      "DEBUG Fallback wire for clk1\n",
      " Writing 'tb_unit2' to file /tmp/tb_unit2.v \n",
      " DEBUG: omit `clkname` from interface, (passthrough type <class 'str'>) \n",
      " Note: Changing library path prefix to /tmp/ \n",
      " Creating library file /tmp/module_defs.v \n",
      "DEBUG FILES ['/tmp/unit_1.v', '/tmp/tb_unit2.v']\n",
      "==== COSIM stdout ====\n",
      "VCD info: dumpfile tb_unit2.vcd opened for output.\n",
      "Stop Simulation\n",
      "\n"
     ]
    },
    {
     "data": {
      "text/plain": [
       "0"
      ]
     },
     "execution_count": 7,
     "metadata": {},
     "output_type": "execute_result"
    }
   ],
   "source": [
    "tb = tb_unit2('clk1')\n",
    "tb.run(200)"
   ]
  },
  {
   "cell_type": "markdown",
   "id": "96060f58-a938-40cb-96de-79bb0df991dc",
   "metadata": {},
   "source": [
    "When Co-simulation is used, a test bench actually does **not** translate into IRL, as no HDL is created. In this case, a `@sim.testbench` decorator can occur without a `@block` notation.\n",
    "\n",
    "Then, the python code is actually executed 'natively'. This is however advanced practise. Examples are found in the CXXRTL Co-Simulation tests. However, the recommended way is to create a portable test bench as shown below."
   ]
  },
  {
   "cell_type": "markdown",
   "id": "efcb3de3-48a3-4410-804b-45375be69c00",
   "metadata": {},
   "source": [
    "## Portable test bench\n",
    "\n",
    "If a test bench should be run with several different simulator back ends, either for HDL targets or with Co-Simulation, the following derivation from a `cyrite_factory.Module` helps to create output for various architectures.\n",
    "\n",
    "Here, the hardware generators are decorated by `@self.always` instead of `@always` and so forth. The reason is that these are depending on the target architecture:\n",
    "*   HDL-Simulation output: All is transpiled to the target HDL\n",
    "*   Co-Simulation: Hardware entities are transpiled, testbench processes are executed natively."
   ]
  },
  {
   "cell_type": "code",
   "execution_count": 8,
   "id": "8a6013a1-30f9-4001-99b2-f5c4831ab2f2",
   "metadata": {},
   "outputs": [],
   "source": [
    "class TestDesign(cyrite_factory.Module):\n",
    "    \n",
    "    def __init__(self, name, arch, clktoggle_period):\n",
    "        super().__init__(name, arch)\n",
    "        self.clkperiod_half = clktoggle_period\n",
    "    \n",
    "    @cyrite_factory.testbench('ns')\n",
    "    def tb_unitx(self):\n",
    "        clk = self.ClkSignal(name='clk')\n",
    "        en = self.Signal(bool())\n",
    "        a, q = [ self.Signal(intbv()[8:]) for _ in range(2) ]\n",
    "\n",
    "        uut = unit(clk, en, a, q)\n",
    "\n",
    "        @self.always(delay(self.clkperiod_half))\n",
    "        def clkgen():\n",
    "            clk.next = ~clk\n",
    "\n",
    "        @self.sequence\n",
    "        def main():\n",
    "            en.next = False\n",
    "            yield delay(10)\n",
    "            yield clk.negedge\n",
    "            en.next = True\n",
    "            a.next = 0xaa\n",
    "            yield clk.negedge\n",
    "            assert q == 0x55\n",
    "            yield delay(100)\n",
    "\n",
    "            raise StopSimulation # Terminate without error\n",
    "\n",
    "\n",
    "        return instances()        "
   ]
  },
  {
   "cell_type": "markdown",
   "id": "7b0bf8e7-3dbf-499d-91e3-90676e5ba2fe",
   "metadata": {},
   "source": [
    "This test bench is portable among all three simulator architectures below. However, there are differences in the output, as you can see from the wave trace. The simulation will pass for all, though."
   ]
  },
  {
   "cell_type": "code",
   "execution_count": 9,
   "id": "e17835de-8604-4c31-96dc-c2cc80d24546",
   "metadata": {},
   "outputs": [
    {
     "name": "stdout",
     "output_type": "stream",
     "text": [
      "\u001b[7;35m Declare obj 'tb_unitx' in context '(TestDesign 'test')'(<class '__main__.TestDesign'>) \u001b[0m\n",
      "\u001b[32m Module test: Existing instance unit, rename to unit_2 \u001b[0m\n",
      "\u001b[32m Insert unit unitu_1u_1u_8u_8 \u001b[0m\n",
      "\u001b[32m Insert unit tb_unitx_obj_TestDesign \u001b[0m\n",
      " Writing 'unit_2' to file /tmp/unit_2.v \n",
      "DEBUG Fallback wire for clk\n",
      " Writing 'tb_unitx' to file /tmp/tb_unitx.v \n",
      " DEBUG: omit `self` from interface, (passthrough type <class '__main__.TestDesign'>) \n",
      " Creating library file module_defs.v \n"
     ]
    },
    {
     "name": "stderr",
     "output_type": "stream",
     "text": [
      "../../cyrite/simulation/icarus.py:35: UserWarning: Ignoring wavetrace argument for Verilog simulator\n",
      "  warnings.warn(\"Ignoring wavetrace argument for Verilog simulator\")\n"
     ]
    },
    {
     "data": {
      "text/plain": [
       "0"
      ]
     },
     "execution_count": 9,
     "metadata": {},
     "output_type": "execute_result"
    }
   ],
   "source": [
    "from yosys.simulator import CXXRTL\n",
    "\n",
    "SIMULATOR = icarus.ICARUS\n",
    "# SIMULATOR = ghdl.GHDL\n",
    "# SIMULATOR = CXXRTL\n",
    "\n",
    "design = TestDesign('test', SIMULATOR,\n",
    "                    clktoggle_period = 3)\n",
    "tb = design.tb_unitx()\n",
    "\n",
    "tb.run(200, debug = False, wavetrace = True)\n"
   ]
  },
  {
   "cell_type": "code",
   "execution_count": 10,
   "id": "d82ebd9d-c110-4687-b075-ea0cc4c83bf4",
   "metadata": {},
   "outputs": [
    {
     "data": {
      "text/html": [
       "<div><script type=\"WaveDrom\">{\"signal\": [{\"name\": \"tb_unitx.q[7:0]\", \"wave\": \"x....=..................................\", \"data\": \"55 \"}, {\"name\": \"tb_unitx.a[7:0]\", \"wave\": \"x...=...................................\", \"data\": \"aa \"}, {\"name\": \"tb_unitx.clk\", \"wave\": \"0101010101010101010101010101010101010101\", \"data\": \"0101010101010101010101010101010101010101\"}, {\"name\": \"tb_unitx.en\", \"wave\": \"0...1...................................\", \"data\": \"01\"}, {\"name\": \"tb_unitx.unit_0.a[7:0]\", \"wave\": \"x...=...................................\", \"data\": \"aa \"}, {\"name\": \"tb_unitx.unit_0.q[7:0]\", \"wave\": \"x....=..................................\", \"data\": \"55 \"}]}</script></div>"
      ]
     },
     "metadata": {},
     "output_type": "display_data"
    },
    {
     "data": {
      "application/javascript": [
       "new Promise(function(resolve, reject) {\n",
       "\tvar script = document.createElement(\"script\");\n",
       "\tscript.onload = resolve;\n",
       "\tscript.onerror = reject;\n",
       "\tscript.src = \"https://wavedrom.com/wavedrom.min.js\";\n",
       "\tdocument.head.appendChild(script);\n",
       "}).then(() => {\n",
       "new Promise(function(resolve, reject) {\n",
       "\tvar script = document.createElement(\"script\");\n",
       "\tscript.onload = resolve;\n",
       "\tscript.onerror = reject;\n",
       "\tscript.src = \"https://wavedrom.com/skins/narrow.js\";\n",
       "\tdocument.head.appendChild(script);\n",
       "}).then(() => {\n",
       "WaveDrom.ProcessAll();\n",
       "});\n",
       "});"
      ]
     },
     "metadata": {},
     "output_type": "display_data"
    }
   ],
   "source": [
    "waveutils.draw_wavetrace(tb, 'tb_unitx.vcd', 'clk')"
   ]
  },
  {
   "cell_type": "markdown",
   "id": "f019dca0-b59f-43f8-b6c0-565403bab677",
   "metadata": {},
   "source": [
    "### Restrictions and pitfalls\n",
    "\n",
    "Because `@self.sequence` is run in the co-simulation context when using CXXRTL, some hardware generator specific constructs such as `@hdlmacro` can not just be called like in their true hardware counterparts.\n",
    "\n",
    "On the other hand, sequential minded macros can not be instanced in hardware, if they contain delays.\n",
    "\n",
    "See [Ports (signal classes)](ports.ipynb) for more details."
   ]
  },
  {
   "cell_type": "markdown",
   "id": "fe09f458-2197-45ed-acea-afba25249897",
   "metadata": {},
   "source": [
    "### Simulator back end issues\n",
    "\n",
    "Simulations may behave differently, depending on the simulator back ends. A simulation written for one back end may not behave the same on another. For example:\n",
    "\n",
    "* An asserted signal depending on a previous assignment may be valid immediately or after a delta wait period\n",
    "* Likewise, signals that depend on a synchronous clock may not be valid right after their driving clock event\n",
    "* Some simulators like CXXRTL or the MyHDL simulator do not deal with undefined/uninitialized values\n",
    "\n",
    "For portable simulators, a few thumb rules apply:\n",
    "\n",
    "* Validate/assert signals on their opposite clock edge they are updated with\n",
    "* Use context sensitive macros (`@cyrite_method.sequence` or `@cyrite_factory.Module::hdlmacro` (see [Factory class emulation](../notebooks/factory_class_arch.ipynb) to insert delays or toggle complex sequences"
   ]
  },
  {
   "cell_type": "markdown",
   "id": "6d457673-2f26-448d-94fe-f8b57b875b91",
   "metadata": {},
   "source": [
    "### CXXRTL extras\n",
    "\n",
    "The CXXRTL back end in particular is driven by a simple CoSimulation layer that does not resolve complex circular asynchronous dependencies, neither is it sensitive to events or signal changes from within the simulated unit.\n",
    "\n",
    "Also, it is a simulator for pure hardware entities that are either clock synchronous or asynchronous without any delay modelling. Therefore, units that drive a clock such a PLL can not be simulated within CXXRTL.\n",
    "\n",
    "However, a safe assumption is: All elements that are accepted by yosys for synthesis typically translate to CXXRTL."
   ]
  },
  {
   "cell_type": "markdown",
   "id": "e094ef3f-09f7-424a-88da-2ce85312117b",
   "metadata": {},
   "source": [
    "## Further reading\n",
    "\n",
    "See also [Simulation API details](../notebooks/simulation.ipynb)"
   ]
  }
 ],
 "metadata": {
  "kernelspec": {
   "display_name": "Python 3 (ipykernel)",
   "language": "python",
   "name": "python3"
  },
  "language_info": {
   "codemirror_mode": {
    "name": "ipython",
    "version": 3
   },
   "file_extension": ".py",
   "mimetype": "text/x-python",
   "name": "python",
   "nbconvert_exporter": "python",
   "pygments_lexer": "ipython3",
   "version": "3.9.2"
  }
 },
 "nbformat": 4,
 "nbformat_minor": 5
}

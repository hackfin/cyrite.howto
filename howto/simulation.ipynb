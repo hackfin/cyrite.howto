{
 "cells": [
  {
   "cell_type": "markdown",
   "id": "2e32fafd-1c7c-4bc7-b6f1-a6b9cb39fcf8",
   "metadata": {
    "tags": []
   },
   "source": [
    "# Simulation scenarios\n",
    "\n",
    "* Simulation basics\n",
    "* Verification: Waveforms and assertions\n",
    "* Writing portable simulations\n",
    "\n",
    "\n",
    "## Simulation basics\n",
    "\n",
    "Once a design is conceived, its correct functionality in conjunction with a known good template or routine has to be verified. This is typically done using a (virtual) test bench that tests the unit under test ('UUT') against external stimuli.\n",
    "\n",
    "A typical test bench has one main stimulus routine defining a *sequence* of signal events.\n",
    "\n",
    "Since cyrite does not provide a built-in simulator, it normally creates HDL output which is in turn fed to an external simulator such as GHDL or ICARUS. Again, HDL code is generated for the stimulus sequence from the transpiled intermediate representation. The same cyHDL notation however would allow to execute the code in a native Python simulator (like MyHDL).\n",
    "\n",
    "There are several ways to instance a simulation, however they are not always portable betwee different back ends. Let's start with a simple synchronous unit first, that is translated to HDL for simulation."
   ]
  },
  {
   "cell_type": "code",
   "execution_count": 1,
   "id": "fbc210da-3adf-44e4-836c-3fc522c43a7b",
   "metadata": {},
   "outputs": [],
   "source": [
    "from cyhdl import *\n",
    "\n",
    "Bool = Signal.Type(bool)\n",
    "\n",
    "@block\n",
    "def unit(clk : ClkSignal, en: Bool, a: Signal, q : Signal.Output):\n",
    "    @always(clk.posedge)\n",
    "    def worker():\n",
    "        if en:\n",
    "            q.next = ~a\n",
    "    \n",
    "    return worker"
   ]
  },
  {
   "cell_type": "markdown",
   "id": "a712d668-782f-4bdf-aee3-efdddd93a32e",
   "metadata": {},
   "source": [
    "### Timing aspects\n",
    "\n",
    "The above `@block` is a hardware synthesizeable unit, it contains no particular timing specifiation and is clock sensitive.\n",
    "\n",
    "Once we enter the simulation world of stimuli, time steps come into play. The external clock stimulus for instance is modelled using a timing delay with a given time specification.\n",
    "\n",
    "This time specification is given in an abstract integer in cycles or time units. The time unit again ist a testbench property and is  normally configured early, by default it is one nanosecond.\n",
    "\n",
    "It is important to note that not all simulator back ends are compatible to each other in their timing behaviour. The most common simulation strategy is to use `int` values for delays, only.\n",
    "\n",
    "However it is possible with HDL back ends to use `float`, for example to create a PLL simulation."
   ]
  },
  {
   "cell_type": "markdown",
   "id": "3474057a-902f-4c67-808c-fedec6d0d2fd",
   "metadata": {
    "tags": []
   },
   "source": [
    "### Simple block test bench\n",
    "\n",
    "A `@block` containing several stimuli can function as a test bench.\n",
    "Once no more stimuli are present, the simulation is typically halted.\n",
    "\n",
    "The main stimulus in synchronous design is always its master clock which is here driven by the `clkgen()` function. More complicated clock behaviour such as PLLs show it require a little different approach or inclusion of a black box module. For a waveform output as below, we **always** need a local clock signal for the sampling.\n",
    "\n",
    "Because all event driven processes or sequences are translated to IRL generator notation internally, you can not use 'yield from' statements in the `@sequence` main stimulus. However, you can make use of `@hdlmacro`s for language-based simulators (explained further below)."
   ]
  },
  {
   "cell_type": "code",
   "execution_count": 2,
   "id": "2dd74835-bfdc-4bdf-854d-4908de2d7a0b",
   "metadata": {},
   "outputs": [],
   "source": [
    "@block\n",
    "def tb_unit(clkname):\n",
    "    clk = ClkSignal(name=clkname)\n",
    "    en = Bool()\n",
    "    a, q = [ Signal(intbv()[8:]) for _ in range(2) ]\n",
    "    uut = unit(clk, en, a, q)\n",
    "    \n",
    "    @always(delay(4))\n",
    "    def clkgen():\n",
    "        clk.next = ~clk\n",
    "        \n",
    "    @sequence\n",
    "    def main():\n",
    "        en.next = False\n",
    "        yield delay(10)\n",
    "        yield clk.negedge\n",
    "        en.next = True\n",
    "        a.next = 0xaa\n",
    "        yield clk.negedge\n",
    "        assert q == 0x55\n",
    "        yield delay(100)\n",
    "                \n",
    "        raise StopSimulation # Terminate without error\n",
    "        \n",
    "    \n",
    "    return instances()"
   ]
  },
  {
   "cell_type": "markdown",
   "id": "e400f8fa-17e1-4e51-86f7-348f440e7f8d",
   "metadata": {},
   "source": [
    "This test bench instances the above `unit`, instances a clock generator using a delay element and runs a `@sequence` of stimuli and checks. Note that by default, the ClkSignal is always initialized to `False`.\n",
    "\n",
    "To run this test bench on a VHDL simulator for instance, we cast it and pass it to the Simulator API:"
   ]
  },
  {
   "cell_type": "code",
   "execution_count": 3,
   "id": "881842c0-9ce1-444b-a6b6-39adf0841b06",
   "metadata": {},
   "outputs": [
    {
     "name": "stdout",
     "output_type": "stream",
     "text": [
      " Writing 'unit' to file /tmp/myirl_tb_unit_hgndnxvw/unit.vhdl \n",
      " Writing 'tb_unit' to file /tmp/myirl_tb_unit_hgndnxvw/tb_unit.vhdl \n",
      " Creating library file module_defs.vhdl \n"
     ]
    },
    {
     "name": "stderr",
     "output_type": "stream",
     "text": [
      "/home/cyrite/.local/lib/python3.10/site-packages/cyritehdl-0.1b0-py3.10-linux-x86_64.egg/myirl/kernel/components.py:118: UserWarning: Fallback: Pass through other argument for arg clkname (<class 'str'>)\n",
      "  base.warnings.warn(msg)\n"
     ]
    },
    {
     "data": {
      "text/plain": [
       "0"
      ]
     },
     "execution_count": 3,
     "metadata": {},
     "output_type": "execute_result"
    }
   ],
   "source": [
    "clkname = 'clk'\n",
    "tb = tb_unit(clkname)\n",
    "\n",
    "s = Simulator(targets.VHDL)\n",
    "s.run(tb, 80, wavetrace = \"tb.vcd\")"
   ]
  },
  {
   "cell_type": "markdown",
   "id": "19be5680-8c37-495f-82d8-fb504daffeba",
   "metadata": {},
   "source": [
    "When using GHDL, a VCD file with name given by the `wavetrace` parameter is created. To display this file in the notebook, we have to manually import a few wave drawing modules.\n",
    "\n",
    "The wave utility requires a sample clock, whose clock name must be specified. In this case, it has to match the master clock's name."
   ]
  },
  {
   "cell_type": "code",
   "execution_count": 4,
   "id": "f5e43e2d-6353-4648-9085-8b808343a525",
   "metadata": {},
   "outputs": [
    {
     "data": {
      "text/html": [
       "<div><script type=\"WaveDrom\">{\"signal\": [{\"name\": \"tb_unit.q[7:0]\", \"wave\": \"u....=.........................\", \"data\": \"55 \"}, {\"name\": \"tb_unit.clk\", \"wave\": \"0101010101010101010101010101010\", \"data\": \"0101010101010101010101010101010\"}, {\"name\": \"tb_unit.en\", \"wave\": \"0...1..........................\", \"data\": \"01\"}, {\"name\": \"tb_unit.a[7:0]\", \"wave\": \"u...=..........................\", \"data\": \"aa \"}, {\"name\": \"tb_unit.inst_unit_0.clk\", \"wave\": \"0101010101010101010101010101010\", \"data\": \"0101010101010101010101010101010\"}, {\"name\": \"tb_unit.inst_unit_0.en\", \"wave\": \"0...1..........................\", \"data\": \"01\"}, {\"name\": \"tb_unit.inst_unit_0.a[7:0]\", \"wave\": \"u...=..........................\", \"data\": \"aa \"}, {\"name\": \"tb_unit.inst_unit_0.q[7:0]\", \"wave\": \"u....=.........................\", \"data\": \"55 \"}]}</script></div>"
      ]
     },
     "metadata": {},
     "output_type": "display_data"
    },
    {
     "data": {
      "application/javascript": [
       "new Promise(function(resolve, reject) {\n",
       "\tvar script = document.createElement(\"script\");\n",
       "\tscript.onload = resolve;\n",
       "\tscript.onerror = reject;\n",
       "\tscript.src = \"https://wavedrom.com/wavedrom.min.js\";\n",
       "\tdocument.head.appendChild(script);\n",
       "}).then(() => {\n",
       "new Promise(function(resolve, reject) {\n",
       "\tvar script = document.createElement(\"script\");\n",
       "\tscript.onload = resolve;\n",
       "\tscript.onerror = reject;\n",
       "\tscript.src = \"https://wavedrom.com/skins/narrow.js\";\n",
       "\tdocument.head.appendChild(script);\n",
       "}).then(() => {\n",
       "WaveDrom.ProcessAll();\n",
       "});\n",
       "});"
      ]
     },
     "metadata": {},
     "output_type": "display_data"
    }
   ],
   "source": [
    "from cyrite import waveutils\n",
    "waveutils.draw_wavetrace(tb, 'tb.vcd', clkname)"
   ]
  },
  {
   "cell_type": "markdown",
   "id": "b4d2494b-bea7-4638-82f4-b97b8420cbab",
   "metadata": {
    "tags": []
   },
   "source": [
    "## Specific test bench\n",
    "\n",
    "A test bench can also be specific to a target and not be used with other simulators.\n",
    "In this case, an extra decorator is prepended to the `@block` function, which specifies the simulator to use. The simulator has a default_target property which is used as elaboration target for the intermediate output."
   ]
  },
  {
   "cell_type": "code",
   "execution_count": 5,
   "id": "100c2809-a757-4da6-ac94-a297545a8633",
   "metadata": {},
   "outputs": [],
   "source": [
    "from cyrite.simulation import sim, icarus, ghdl\n",
    "\n",
    "@sim.testbench(icarus.ICARUS, 'ns')\n",
    "@block\n",
    "def tb_unit2(clkname : PassThrough(str)):\n",
    "    clk = ClkSignal(name=clkname)\n",
    "    en = Bool()\n",
    "    a, q = [ Signal(intbv()[8:]) for _ in range(2) ]\n",
    "    \n",
    "    uut = unit(clk, en, a, q)\n",
    "    \n",
    "    @always(delay(4))\n",
    "    def clkgen():\n",
    "        clk.next = ~clk\n",
    "        \n",
    "    @sequence\n",
    "    def main():\n",
    "        en.next = False\n",
    "        yield delay(10)\n",
    "        yield clk.negedge\n",
    "        en.next = True\n",
    "        a.next = 0xaa\n",
    "        yield clk.negedge\n",
    "        assert q == 0x55\n",
    "        yield delay(100)\n",
    "        \n",
    "        raise StopSimulation # Terminate without error\n",
    "        \n",
    "    \n",
    "    return instances()\n"
   ]
  },
  {
   "cell_type": "markdown",
   "id": "9d4843cc-33c2-4367-8365-b63efe8954b8",
   "metadata": {},
   "source": [
    "As this is a specific test bench class bound to a simulator, it is the test bench instance that is '.run':"
   ]
  },
  {
   "cell_type": "code",
   "execution_count": 6,
   "id": "ae097981-51ff-46c8-8311-74a0cefaabc5",
   "metadata": {},
   "outputs": [
    {
     "name": "stdout",
     "output_type": "stream",
     "text": [
      "\u001b[32m Module tb_unit2: Existing instance unit, rename to unit_1 \u001b[0m\n",
      " Writing 'unit_1' to file /tmp/myirl_tb_unit2_xuk8h9ud/unit_1.v \n",
      " Writing 'tb_unit2' to file /tmp/myirl_tb_unit2_xuk8h9ud/tb_unit2.v \n",
      " Creating library file module_defs.v \n"
     ]
    },
    {
     "data": {
      "text/plain": [
       "0"
      ]
     },
     "execution_count": 6,
     "metadata": {},
     "output_type": "execute_result"
    }
   ],
   "source": [
    "tb = tb_unit2('clk1')\n",
    "tb.run(200)"
   ]
  },
  {
   "cell_type": "markdown",
   "id": "96060f58-a938-40cb-96de-79bb0df991dc",
   "metadata": {},
   "source": [
    "When Co-simulation is used, a test bench actually does **not** translate into IRL, as no HDL is created. In this case, a `@sim.testbench` decorator can occur without a `@block` notation.\n",
    "\n",
    "Then, the python code is actually executed 'natively'. This is however advanced practise. Examples are found in the CXXRTL Co-Simulation tests. The recommended way is to create a portable test bench as shown below."
   ]
  },
  {
   "cell_type": "markdown",
   "id": "efcb3de3-48a3-4410-804b-45375be69c00",
   "metadata": {
    "tags": []
   },
   "source": [
    "## Portable test bench\n",
    "\n",
    "If a test bench should be run with several different simulator back ends, either for HDL targets or with Co-Simulation, the following derivation from a `cyrite_factory.Module` helps to create output for various architectures.\n",
    "\n",
    "Here, the cosimulation capable generators are decorated by `@self.always` instead of `@always` and so forth. The reason is that these are depending on the target architecture:\n",
    "*   HDL-Simulation output: All is transpiled to the target HDL\n",
    "*   Co-Simulation: Hardware entities are transpiled, testbench processes are executed natively.\n",
    "\n",
    "**Note**:\n",
    "* A CXXRTL co-simulation can only have *one* unit under test (UUT)\n",
    "* The CXXRTL cosimulation interface is currently restricted to signals of maximum 32 bit size. OverflowErrors will occur when passing a large signal through the top interface of a compiled simulation UUT.\n",
    "* The UUT must be synthesizeable hardware (no `@self.always*` constructs allowed)\n",
    "* Timing specifications must be integers"
   ]
  },
  {
   "cell_type": "code",
   "execution_count": 7,
   "id": "8a6013a1-30f9-4001-99b2-f5c4831ab2f2",
   "metadata": {},
   "outputs": [],
   "source": [
    "class TestDesign(cyrite_factory.Module):\n",
    "    \n",
    "    def __init__(self, name, arch, clktoggle_period):\n",
    "        super().__init__(name, arch)\n",
    "        self.clkperiod_half = clktoggle_period\n",
    "    \n",
    "    @cyrite_factory.testbench('ns')\n",
    "    def tb_unitx(self):\n",
    "        clk = self.ClkSignal(name='clk')\n",
    "        en = self.Signal(bool())\n",
    "        a, q = [ self.Signal(intbv()[8:]) for _ in range(2) ]\n",
    "\n",
    "        uut = unit(clk, en, a, q)\n",
    "\n",
    "        @self.always(delay(self.clkperiod_half))\n",
    "        def clkgen():\n",
    "            clk.next = ~clk\n",
    "\n",
    "        @self.sequence\n",
    "        def main():\n",
    "            en.next = False\n",
    "            yield delay(10)\n",
    "            yield clk.negedge\n",
    "            en.next = True\n",
    "            a.next = 0xaa\n",
    "            yield clk.negedge\n",
    "            assert q == 0x55\n",
    "            yield delay(100)\n",
    "\n",
    "            raise StopSimulation # Terminate without error\n",
    "\n",
    "\n",
    "        return instances()        "
   ]
  },
  {
   "cell_type": "markdown",
   "id": "7b0bf8e7-3dbf-499d-91e3-90676e5ba2fe",
   "metadata": {},
   "source": [
    "This test bench is portable among all three simulator architectures below. However, there are differences in the output, as you can see from the wave trace. The simulation will pass for all, though."
   ]
  },
  {
   "cell_type": "code",
   "execution_count": 8,
   "id": "e17835de-8604-4c31-96dc-c2cc80d24546",
   "metadata": {},
   "outputs": [
    {
     "name": "stdout",
     "output_type": "stream",
     "text": [
      "\u001b[7;35m Declare obj 'tb_unitx' in context '(TestDesign 'test')'(<class '__main__.TestDesign'>) \u001b[0m\n",
      "\u001b[32m Module test: Existing instance unit, rename to unit_2 \u001b[0m\n",
      " Writing 'unit_2' to file /tmp/myirl_test__l1enpfy/unit_2.v \n",
      " Writing 'tb_unitx' to file /tmp/myirl_test__l1enpfy/tb_unitx.v \n",
      " Creating library file module_defs.v \n"
     ]
    },
    {
     "name": "stderr",
     "output_type": "stream",
     "text": [
      "/home/cyrite/.local/lib/python3.10/site-packages/cyritehdl-0.1b0-py3.10-linux-x86_64.egg/cyrite/simulation/icarus.py:51: UserWarning: Ignoring wavetrace argument for Verilog simulator\n",
      "  warnings.warn(\"Ignoring wavetrace argument for Verilog simulator\")\n"
     ]
    },
    {
     "data": {
      "text/plain": [
       "0"
      ]
     },
     "execution_count": 8,
     "metadata": {},
     "output_type": "execute_result"
    }
   ],
   "source": [
    "from yosys.simulator import CXXRTL\n",
    "\n",
    "SIMULATOR = icarus.ICARUS\n",
    "# SIMULATOR = ghdl.GHDL\n",
    "# SIMULATOR = CXXRTL\n",
    "\n",
    "design = TestDesign('test', SIMULATOR,\n",
    "                    clktoggle_period = 3)\n",
    "tb = design.tb_unitx()\n",
    "\n",
    "tb.run(200, debug = False, wavetrace = True)\n"
   ]
  },
  {
   "cell_type": "code",
   "execution_count": 9,
   "id": "d82ebd9d-c110-4687-b075-ea0cc4c83bf4",
   "metadata": {},
   "outputs": [
    {
     "data": {
      "text/html": [
       "<div><script type=\"WaveDrom\">{\"signal\": [{\"name\": \"tb_unitx.q[7:0]\", \"wave\": \"x....=..................................\", \"data\": \"55 \"}, {\"name\": \"tb_unitx.a[7:0]\", \"wave\": \"x...=...................................\", \"data\": \"aa \"}, {\"name\": \"tb_unitx.clk\", \"wave\": \"0101010101010101010101010101010101010101\", \"data\": \"0101010101010101010101010101010101010101\"}, {\"name\": \"tb_unitx.en\", \"wave\": \"0...1...................................\", \"data\": \"01\"}, {\"name\": \"tb_unitx.unit_0.a[7:0]\", \"wave\": \"x...=...................................\", \"data\": \"aa \"}, {\"name\": \"tb_unitx.unit_0.q[7:0]\", \"wave\": \"x....=..................................\", \"data\": \"55 \"}]}</script></div>"
      ]
     },
     "metadata": {},
     "output_type": "display_data"
    },
    {
     "data": {
      "application/javascript": [
       "new Promise(function(resolve, reject) {\n",
       "\tvar script = document.createElement(\"script\");\n",
       "\tscript.onload = resolve;\n",
       "\tscript.onerror = reject;\n",
       "\tscript.src = \"https://wavedrom.com/wavedrom.min.js\";\n",
       "\tdocument.head.appendChild(script);\n",
       "}).then(() => {\n",
       "new Promise(function(resolve, reject) {\n",
       "\tvar script = document.createElement(\"script\");\n",
       "\tscript.onload = resolve;\n",
       "\tscript.onerror = reject;\n",
       "\tscript.src = \"https://wavedrom.com/skins/narrow.js\";\n",
       "\tdocument.head.appendChild(script);\n",
       "}).then(() => {\n",
       "WaveDrom.ProcessAll();\n",
       "});\n",
       "});"
      ]
     },
     "metadata": {},
     "output_type": "display_data"
    }
   ],
   "source": [
    "waveutils.draw_wavetrace(tb, 'tb_unitx.vcd', 'clk')"
   ]
  },
  {
   "cell_type": "markdown",
   "id": "f019dca0-b59f-43f8-b6c0-565403bab677",
   "metadata": {},
   "source": [
    "### Restrictions and pitfalls\n",
    "\n",
    "Because `@self.sequence` is run in the co-simulation context when using CXXRTL, some hardware generator specific constructs such as `@hdlmacro` can not just be called like in their true hardware counterparts. Make sure to `.evaluate()` it!\n",
    "\n",
    "On the other hand, sequential minded macros can not be instanced in hardware, if they contain delays. Therefore, `@*.sequence` type constructs are meant to be called from a simulation context, only.\n",
    "\n",
    "See [Ports (signal classes)](ports.ipynb) for more details."
   ]
  },
  {
   "cell_type": "markdown",
   "id": "fc6c3c3b-e56b-4b43-9462-1a050b9a9993",
   "metadata": {},
   "source": [
    "## Delay modelling\n",
    "\n",
    "To model delays in IRL, an explicit `simulation.Delayed` unary operator exists, which delays the specified signal by a given time, either in `int` or `float` in nanoseconds, or a signal of wire type `Time`. The latter are static delays, if a delay depending on a signal (not variable) is desired, for instance, when a VCO model is needed, care must be taken to initialize such a period signal correctly.\n",
    "\n",
    "**Note**: Because this is a HDL specific simulation construct, you must use the default `Signal` types. Using CoSimulation signals will produce an error. This construct is thus not portable among all simulation contexts"
   ]
  },
  {
   "cell_type": "code",
   "execution_count": 10,
   "id": "a16a737d-1b68-46f6-8170-3872c8907a11",
   "metadata": {},
   "outputs": [],
   "source": [
    "from cyhdl import *\n",
    "\n",
    "import cyrite.simulation as sim\n",
    "\n",
    "@block\n",
    "def dyn_clk(d : float):\n",
    "    ts = Signal(sim.Time(d)) # in ns\n",
    "    ts.init = True\n",
    "    \n",
    "    s = Signal(bool())\n",
    "    s.init = True\n",
    "    \n",
    "    @always(s, ts)\n",
    "    def dynclkgen():\n",
    "        \"A dynamic clock generator\"\n",
    "        s.next = sim.VariableDelay(~s, ts)\n",
    "        \n",
    "    @sequence\n",
    "    def main():\n",
    "        yield sim.delay(5)\n",
    "        ts.next = 2 * d\n",
    "        yield sim.delay(4)\n",
    "        \n",
    "        raise StopSimulation    \n",
    "    return instances()    "
   ]
  },
  {
   "cell_type": "code",
   "execution_count": 11,
   "id": "d8d2633d-02cb-4b99-8f51-b36ce9116c92",
   "metadata": {},
   "outputs": [
    {
     "name": "stdout",
     "output_type": "stream",
     "text": [
      " Writing 'dyn_clk' to file /tmp/dyn_clk.v \n",
      " Note: Changing library path prefix to /tmp/ \n",
      " Creating library file /tmp/module_defs.v \n",
      "ICARUS FILES ['/tmp/dyn_clk.v']\n",
      "==== COSIM stdout ====\n",
      "VCD info: dumpfile dyn_clk.vcd opened for output.\n",
      "Stop Simulation\n",
      "\n"
     ]
    },
    {
     "name": "stderr",
     "output_type": "stream",
     "text": [
      "/home/cyrite/.local/lib/python3.10/site-packages/cyritehdl-0.1b0-py3.10-linux-x86_64.egg/myirl/kernel/components.py:118: UserWarning: Fallback: Pass through other argument for arg d (<class 'float'>)\n",
      "  base.warnings.warn(msg)\n"
     ]
    }
   ],
   "source": [
    "from myirl import targets\n",
    "from myirl.test.common_test import Simulator\n",
    "uut = dyn_clk(0.2)\n",
    "simulator = Simulator(targets.Verilog)\n",
    "ret = simulator.run(uut, debug = True)"
   ]
  },
  {
   "cell_type": "markdown",
   "id": "ee8f0a92-c018-4c95-9047-419f9b46717e",
   "metadata": {},
   "source": [
    "### Individual signal delay\n",
    "\n",
    "If a greater number of signals is to be delayed by an individual delay, the `@assign_delayed()@` macro can be used.\n"
   ]
  },
  {
   "cell_type": "code",
   "execution_count": 12,
   "id": "7ece2930-990d-47a1-9155-80fa06e6a1eb",
   "metadata": {},
   "outputs": [],
   "source": [
    "from cyrite.simulation.time import assign_delayed\n",
    "\n",
    "a, b, c = [ Signal(bool()) for _ in range(3) ]\n",
    "\n",
    "wires = [\n",
    "    b     @assign_delayed(2)@     a,\n",
    "    c     @assign_delayed(3)@     a\n",
    "]"
   ]
  },
  {
   "cell_type": "markdown",
   "id": "fe09f458-2197-45ed-acea-afba25249897",
   "metadata": {
    "tags": []
   },
   "source": [
    "## Simulator back end issues\n",
    "\n",
    "Simulations may behave differently, depending on the simulator back ends. A simulation written for one back end may not behave the same on another. For example:\n",
    "\n",
    "* An asserted signal depending on a previous assignment may be valid immediately or after a delta wait period\n",
    "* Likewise, signals that depend on a synchronous clock may not be valid right after their driving clock event\n",
    "* Some simulators like CXXRTL or the MyHDL simulator do not deal with undefined/uninitialized values or have size restriction in the Cosimulation signal interface.\n",
    "\n",
    "For portable simulators, a few thumb rules apply:\n",
    "\n",
    "* Validate/assert signals on their opposite clock edge they are updated with\n",
    "* Use context sensitive macros (`@cyrite_method.sequence` or `@cyrite_factory.Module::hdlmacro` (see [Port signals: Macro extensions](ports.ipynb#Macro-extensions) to insert delays or toggle complex sequences\n",
    "\n",
    "### Co-Simulation signals\n",
    "\n",
    "When running a co-simulation back end such as CXXRTL, all top level signals connected to the compiled unit under test are handled by the simulator back end. Those left unconnected however are a priori dummy simulation signals at start up. Once a simulator is instanced, its co-simulation layer will pick up those signals from the returned test bench (`instances()`) and assign them to proper co-simulation signals. If signals are omitted from the return, they may need to be assigned to a specific separate back end. If left with a dummy signal stub, co-simulation will throw an error upon access of a unconnected signal.\n",
    "\n",
    "Since the cosimulation layer is directing the time steps taken, it also takes care of the cosimulation signal changes."
   ]
  },
  {
   "cell_type": "markdown",
   "id": "6d457673-2f26-448d-94fe-f8b57b875b91",
   "metadata": {},
   "source": [
    "### CXXRTL extras\n",
    "\n",
    "The CXXRTL back end in particular is driven by a simple CoSimulation layer that does not resolve complex circular asynchronous dependencies, neither is it sensitive to events or signal changes from within the simulated unit.\n",
    "It also has a restriction to a maxmimum 32 bit wide Cosimulation signal at this moment.\n",
    "\n",
    "Also, it is a simulator for pure hardware entities that are either clock synchronous or asynchronous without any delay modelling. Therefore, units that drive a clock such a PLL can not be simulated within CXXRTL.\n",
    "\n",
    "However, a safe assumption is: All elements that are accepted by yosys for synthesis typically translate to CXXRTL.\n",
    "\n"
   ]
  },
  {
   "cell_type": "markdown",
   "id": "00893ab3-5449-491f-827a-ee1287887f54",
   "metadata": {},
   "source": [
    "### Compilation details\n",
    "\n",
    "When an unit under test is compiled during a `.run` call, a `.so` will result in the current work directory's `runtime/` folder. When the `recompile` argument is not specified, the unit is built without a specific tag. Upon next `.run`. with `recompile = False`, a cold import will be attempted. \n",
    "Upon cold import, a simple signature check according to the interface is made. When running a test sequence, it is recommended to set `recompile=True` to force recompilation of a unit with a given uid tag."
   ]
  },
  {
   "cell_type": "code",
   "execution_count": 13,
   "id": "8787bcce-ad67-40fa-9f04-fd2d98f3bd8b",
   "metadata": {},
   "outputs": [
    {
     "name": "stdout",
     "output_type": "stream",
     "text": [
      "\u001b[32m Module test: Existing instance unit, rename to unit_3 \u001b[0m\n",
      "\u001b[32m Adding module with name `unit_3` \u001b[0m\n",
      "\u001b[7;34m FINALIZE implementation `unit_3` of `unit` \u001b[0m\n",
      "Compiling /tmp/myirl_test_llcmb2t0/unit.pyx because it changed.\n",
      "[1/1] Cythonizing /tmp/myirl_test_llcmb2t0/unit.pyx\n",
      "running build_ext\n",
      "building 'runtime.unit' extension\n",
      "creating build/temp.linux-x86_64-3.10/tmp/myirl_test_llcmb2t0\n",
      "gcc -pthread -Wno-unused-result -Wsign-compare -DNDEBUG -g -fwrapv -O3 -Wall -fPIC -DCOSIM_NAMESPACE=unit -Iruntime -I/tmp/myirl_test_llcmb2t0/ -I/usr/share/yosys/include/backends/cxxrtl/runtime -I/usr/local/include/python3.10 -c /tmp/myirl_test_llcmb2t0/unit.cpp -o build/temp.linux-x86_64-3.10/tmp/myirl_test_llcmb2t0/unit.o\n",
      "gcc -pthread -Wno-unused-result -Wsign-compare -DNDEBUG -g -fwrapv -O3 -Wall -fPIC -DCOSIM_NAMESPACE=unit -Iruntime -I/tmp/myirl_test_llcmb2t0/ -I/usr/share/yosys/include/backends/cxxrtl/runtime -I/usr/local/include/python3.10 -c /tmp/myirl_test_llcmb2t0/unit_rtl.cpp -o build/temp.linux-x86_64-3.10/tmp/myirl_test_llcmb2t0/unit_rtl.o\n",
      "g++ -pthread -shared -Wl,--strip-all build/temp.linux-x86_64-3.10/tmp/myirl_test_llcmb2t0/unit.o build/temp.linux-x86_64-3.10/tmp/myirl_test_llcmb2t0/unit_rtl.o -L/usr/local/lib -o build/lib.linux-x86_64-3.10/runtime/unit.cpython-310-x86_64-linux-gnu.so\n",
      "copying build/lib.linux-x86_64-3.10/runtime/unit.cpython-310-x86_64-linux-gnu.so -> runtime\n",
      "Open for writing: tb_unitx.vcd\n"
     ]
    },
    {
     "name": "stderr",
     "output_type": "stream",
     "text": [
      "\u001b[32mUsing '/tmp/myirl_test_llcmb2t0/' for output\u001b[0m\n",
      "\u001b[7;34mSTOP SIMULATION @117\u001b[0m\n"
     ]
    }
   ],
   "source": [
    "design = TestDesign('test', CXXRTL,\n",
    "                    clktoggle_period = 3)\n",
    "tb = design.tb_unitx()\n",
    "\n",
    "tb.run(200, debug = False)"
   ]
  },
  {
   "cell_type": "markdown",
   "id": "eb460bf4-9c9b-4d9a-8108-20e40bda7cc9",
   "metadata": {},
   "source": [
    "With `recompile=False`, the created module will be cold-imported.\n",
    "Note we must create a new test bench instance."
   ]
  }
 ],
 "metadata": {
  "kernelspec": {
   "display_name": "Python 3 (ipykernel)",
   "language": "python",
   "name": "python3"
  },
  "language_info": {
   "codemirror_mode": {
    "name": "ipython",
    "version": 3
   },
   "file_extension": ".py",
   "mimetype": "text/x-python",
   "name": "python",
   "nbconvert_exporter": "python",
   "pygments_lexer": "ipython3",
   "version": "3.10.0"
  }
 },
 "nbformat": 4,
 "nbformat_minor": 5
}

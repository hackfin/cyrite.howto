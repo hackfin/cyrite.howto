{
 "cells": [
  {
   "cell_type": "markdown",
   "id": "95c69b7f-d0e9-49d0-bc6c-990756fa65c4",
   "metadata": {},
   "source": [
    "# Counters, statemachines and registers\n",
    "\n",
    "Standard ripple counters are simply implemented using a `intbv` or `modbv` wire type signal that is incremented or decremented within a clocked process. We combine this with a simple state machine that uses enum types."
   ]
  },
  {
   "cell_type": "code",
   "execution_count": 1,
   "id": "c40fcc09-7a41-4de5-9394-ab75b178c57b",
   "metadata": {},
   "outputs": [],
   "source": [
    "from cyhdl import *\n",
    "\n",
    "@block\n",
    "def fsm_counter_unit(clk   : ClkSignal,\n",
    "                     en    : Signal.Type(bool),\n",
    "                     reset : ResetSignal,\n",
    "                     q     : Signal.Type(bool).Output,\n",
    "                     *,\n",
    "                     C_END : int,\n",
    "                     C_BLANK_END : int\n",
    "                    ):\n",
    "    \n",
    "    t_state = enum(\"RESET\", \"IDLE\", \"RUNNING\", \"BLANK\")\n",
    "    state = Signal(t_state.RESET)\n",
    "    \n",
    "    c = Signal(intbv(0)[12:])\n",
    "    \n",
    "    assertion = q.set(state == t_state.RUNNING)\n",
    "    \n",
    "    @always_seq(clk.posedge, reset)\n",
    "    def fsm():\n",
    "        if state == t_state.RESET:\n",
    "            state.next = t_state.IDLE\n",
    "        elif state == t_state.IDLE:\n",
    "            if en == True:\n",
    "                state.next = t_state.RUNNING\n",
    "        elif state == t_state.RUNNING:\n",
    "            c.next = c + 1\n",
    "            if c == C_END:\n",
    "                state.next = t_state.BLANK\n",
    "        else: # state == t_state.BLANK:\n",
    "            c.next = c + 1\n",
    "            if c == C_BLANK_END:\n",
    "                state.next = t_state.IDLE\n",
    "                c.next = 0\n",
    "    \n",
    "    return instances()\n",
    "                "
   ]
  },
  {
   "cell_type": "markdown",
   "id": "7e544918-c47b-407c-b361-7481fedbcc62",
   "metadata": {},
   "source": [
    "The test bench decorator below creates a particular, simulator specific test bench for the encapsulated `@block`. We choose ICARUS verilog this time:"
   ]
  },
  {
   "cell_type": "code",
   "execution_count": 2,
   "id": "19349b0a-b30a-4894-ab53-732d199721db",
   "metadata": {},
   "outputs": [],
   "source": [
    "from cyrite.simulation import sim, icarus\n",
    "\n",
    "@sim.testbench(icarus.ICARUS, 'ns')\n",
    "@block\n",
    "def tb_fsm():\n",
    "    clk = ClkSignal()\n",
    "    reset = ResetSignal(True, True)\n",
    "    en, q = [ Signal(bool()) for _ in range(2) ]\n",
    "    \n",
    "    @always(delay(1))\n",
    "    def clkgen():\n",
    "        clk.next = ~clk\n",
    "        \n",
    "    uut = fsm_counter_unit(clk = clk, en = en, reset = reset, q = q,\n",
    "                          C_END = 24-1, C_BLANK_END = 24 + 8-2)\n",
    "    \n",
    "    \n",
    "    @sequence\n",
    "    def main():\n",
    "        reset.next = True\n",
    "        yield 20 * (clk.posedge, )\n",
    "        reset.next = False\n",
    "        yield delay(20)\n",
    "        en.next = True\n",
    "        yield delay(2000)\n",
    "        raise StopSimulation\n",
    "        \n",
    "    return instances()\n"
   ]
  },
  {
   "cell_type": "markdown",
   "id": "017aa6cb-3b45-4125-8563-0c7b2517d497",
   "metadata": {},
   "source": [
    "Create an instance of the test bench and run it:"
   ]
  },
  {
   "cell_type": "code",
   "execution_count": 3,
   "id": "e0cb0a84-db48-4743-8976-64bd619553ab",
   "metadata": {},
   "outputs": [
    {
     "name": "stdout",
     "output_type": "stream",
     "text": [
      " Writing 'fsm_counter_unit' to file /tmp/myirl_tb_fsm_ouxpg8s5/fsm_counter_unit.v \n",
      "DEBUG Fallback wire for reset\n",
      "Warning: Implicit truncation of ADD(c, C:1) result\n",
      "Warning: Implicit truncation of ADD(c, C:1) result\n",
      " Writing 'tb_fsm' to file /tmp/myirl_tb_fsm_ouxpg8s5/tb_fsm.v \n",
      " Creating library file module_defs.v \n"
     ]
    },
    {
     "name": "stderr",
     "output_type": "stream",
     "text": [
      "/home/cyrite/.local/lib/python3.10/site-packages/cyritehdl-0.1b0-py3.10-linux-x86_64.egg/cyrite/simulation/icarus.py:51: UserWarning: Ignoring wavetrace argument for Verilog simulator\n",
      "  warnings.warn(\"Ignoring wavetrace argument for Verilog simulator\")\n"
     ]
    },
    {
     "data": {
      "text/plain": [
       "0"
      ]
     },
     "execution_count": 3,
     "metadata": {},
     "output_type": "execute_result"
    }
   ],
   "source": [
    "tb = tb_fsm()\n",
    "tb.run(200, wavetrace = \"test.vcd\")"
   ]
  },
  {
   "cell_type": "markdown",
   "id": "90b06ccd-04ae-40bd-a895-58cc8cb143b2",
   "metadata": {},
   "source": [
    "A wave file trace [[Download]](test.vcd) was created."
   ]
  }
 ],
 "metadata": {
  "kernelspec": {
   "display_name": "Python 3 (ipykernel)",
   "language": "python",
   "name": "python3"
  },
  "language_info": {
   "codemirror_mode": {
    "name": "ipython",
    "version": 3
   },
   "file_extension": ".py",
   "mimetype": "text/x-python",
   "name": "python",
   "nbconvert_exporter": "python",
   "pygments_lexer": "ipython3",
   "version": "3.10.0"
  }
 },
 "nbformat": 4,
 "nbformat_minor": 5
}

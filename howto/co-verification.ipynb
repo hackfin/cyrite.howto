{
 "cells": [
  {
   "cell_type": "markdown",
   "id": "c62cfbe3-a44e-4ed8-8011-822c40dc4c0e",
   "metadata": {},
   "source": [
    "# Co-Verification tricks\n",
    "\n",
    "In some cases, you might want to prove that a python function, executed natively, does the same as its synthesized counterpart. This is in particular the case for functions that are reused often.\n",
    "\n",
    "Take a `@rtl_function` example:"
   ]
  },
  {
   "cell_type": "code",
   "execution_count": 1,
   "id": "513b0ac6-653c-455d-a599-f26d2f24e71e",
   "metadata": {},
   "outputs": [],
   "source": [
    "from cyhdl import *"
   ]
  },
  {
   "cell_type": "code",
   "execution_count": 2,
   "id": "c3d3cbd1-2af6-438d-9af7-5917a44a1ef4",
   "metadata": {},
   "outputs": [],
   "source": [
    "class often_used:\n",
    "    @rtl_function\n",
    "    def funclet(rtl, en, a, b):\n",
    "        if en == True:\n",
    "            b.next = ~a\n",
    "        else:\n",
    "            b.next = a"
   ]
  },
  {
   "cell_type": "markdown",
   "id": "261b7cd2-e553-4b51-aa8e-8196e0c135ec",
   "metadata": {},
   "source": [
    "We will be calling this function twice:\n",
    "1. From the hardware context, like a function\n",
    "2. From a native context, using `yield from`\n",
    "\n",
    "We create a specific co-simulation design. It will only function with a cosimulation backend, such as CXXRTL."
   ]
  },
  {
   "cell_type": "code",
   "execution_count": 3,
   "id": "8306d2eb-415d-43a1-adc0-17517ee7e814",
   "metadata": {},
   "outputs": [],
   "source": [
    "from yosys.simulator import CXXRTL\n",
    "from myirl.library.basictypes import Bool\n",
    "\n",
    "class CoSimDesign(cyrite_factory.Module):\n",
    "    def __init__(self):\n",
    "        super().__init__(\"cosim\", CXXRTL)\n",
    "        \n",
    "    @cyrite_factory.block_component\n",
    "    def unit(self,\n",
    "             clk : ClkSignal,\n",
    "             en: Bool,\n",
    "             a : Signal,\n",
    "             b : Signal.Output):\n",
    "        \n",
    "        @always(clk.posedge)\n",
    "        def worker():\n",
    "            # Call @rtl_function like a function from a rtl context:\n",
    "            often_used.funclet(en, a, b)\n",
    "\n",
    "        return worker\n",
    "\n",
    "    @cyrite_factory.testbench(\"ns\")\n",
    "    def testbench(self):\n",
    "        clk = self.ClkSignal(name = 'clk')\n",
    "        en = self.Signal(bool(), name = 'en')\n",
    "        a, b = [ self.Signal(intbv()[8:], name = n) for n in \"ab\" ]\n",
    "        co_a, co_b = [ self.Signal(intbv()[8:], name = n) for n in \"AB\" ]\n",
    "        verify = self.Signal(bool())\n",
    "        \n",
    "        continuous_assignments = [\n",
    "            co_a   @assign@  a\n",
    "        ]\n",
    "\n",
    "        uut = self.unit(clk, en, a, b)\n",
    "\n",
    "        # # Co-Unit:\n",
    "        @self.always(clk.posedge)\n",
    "        def co_unit():\n",
    "            # Call the same funclet using `yield from`:\n",
    "            yield from often_used.funclet(en, co_a, co_b)\n",
    "\n",
    "        @self.always(clk.posedge)\n",
    "        def verification():\n",
    "            if verify:\n",
    "                print(\"Verify:\", en, self.now(), co_b, b)\n",
    "                assert co_b == b\n",
    "        \n",
    "        @self.always(delay(1))\n",
    "        def clkgen():\n",
    "            clk.next = ~clk\n",
    "\n",
    "        @self.sequence\n",
    "        def main():\n",
    "            verify.next = False\n",
    "            yield delay(20)\n",
    "            verify.next = True\n",
    "            for v in [0, 0xaa, 0x55, 0x2d, 0x85]:\n",
    "                en.next = (v & 1) != 0\n",
    "                yield clk.negedge\n",
    "                a.next = v\n",
    "\n",
    "            raise StopSimulation\n",
    "\n",
    "        return instances()"
   ]
  },
  {
   "cell_type": "markdown",
   "id": "efc5403e-8c57-4525-9717-3ed743a44eaf",
   "metadata": {},
   "source": [
    "We instance the design and run the test bench.\n",
    "If we do not make changes on the hardware function, you can set `recompile` to False. This can be useful if you develop test benches for large hardware designs."
   ]
  },
  {
   "cell_type": "code",
   "execution_count": 4,
   "id": "354f7734-b697-4082-a678-98a9de9dee5d",
   "metadata": {},
   "outputs": [
    {
     "name": "stdout",
     "output_type": "stream",
     "text": [
      "\u001b[7;35m Declare obj 'unit' in context '(CoSimDesign 'cosim')'(<class '__main__.CoSimDesign'>) \u001b[0m\n",
      "\u001b[32m Adding module with name `unit` \u001b[0m\n",
      "\u001b[7;34m FINALIZE implementation `unit` of `unit` \u001b[0m\n",
      "Compiling /tmp/myirl_cosim_dzt9gq1z/unit_8133.pyx because it changed.\n",
      "[1/1] Cythonizing /tmp/myirl_cosim_dzt9gq1z/unit_8133.pyx\n",
      "running build_ext\n",
      "building 'runtime.unit_8133' extension\n",
      "creating build/temp.linux-x86_64-3.10/tmp/myirl_cosim_dzt9gq1z\n",
      "gcc -pthread -Wno-unused-result -Wsign-compare -DNDEBUG -g -fwrapv -O3 -Wall -fPIC -DCOSIM_NAMESPACE=unit_8133 -Iruntime -I/tmp/myirl_cosim_dzt9gq1z/ -I/usr/share/yosys/include/backends/cxxrtl/runtime -I/usr/local/include/python3.10 -c /tmp/myirl_cosim_dzt9gq1z/unit_8133.cpp -o build/temp.linux-x86_64-3.10/tmp/myirl_cosim_dzt9gq1z/unit_8133.o\n",
      "gcc -pthread -Wno-unused-result -Wsign-compare -DNDEBUG -g -fwrapv -O3 -Wall -fPIC -DCOSIM_NAMESPACE=unit_8133 -Iruntime -I/tmp/myirl_cosim_dzt9gq1z/ -I/usr/share/yosys/include/backends/cxxrtl/runtime -I/usr/local/include/python3.10 -c /tmp/myirl_cosim_dzt9gq1z/unit_8133_rtl.cpp -o build/temp.linux-x86_64-3.10/tmp/myirl_cosim_dzt9gq1z/unit_8133_rtl.o\n",
      "g++ -pthread -shared -Wl,--strip-all build/temp.linux-x86_64-3.10/tmp/myirl_cosim_dzt9gq1z/unit_8133.o build/temp.linux-x86_64-3.10/tmp/myirl_cosim_dzt9gq1z/unit_8133_rtl.o -L/usr/local/lib -o build/lib.linux-x86_64-3.10/runtime/unit_8133.cpython-310-x86_64-linux-gnu.so\n",
      "copying build/lib.linux-x86_64-3.10/runtime/unit_8133.cpython-310-x86_64-linux-gnu.so -> runtime\n",
      "Open for writing: test.vcd\n",
      "\u001b[7;35m CXXRTL context: SKIP INTERFACE ITEM `self` \u001b[0m\n",
      "Verify: <en> : False 21 <co_b> : 0x00 <b> : 0x00\n",
      "Verify: <en> : False 23 <co_b> : 0x00 <b> : 0x00\n",
      "Verify: <en> : True 25 <co_b> : 0x00 <b> : 0x00\n",
      "Verify: <en> : True 27 <co_b> : 0x55 <b> : 0x55\n",
      "Verify: <en> : True 29 <co_b> : 0xaa <b> : 0xaa\n"
     ]
    },
    {
     "name": "stderr",
     "output_type": "stream",
     "text": [
      "\u001b[32mUsing '/tmp/myirl_cosim_dzt9gq1z/' for output\u001b[0m\n",
      "\u001b[32mCosimulation: co_a not connected to backend\u001b[0m\n",
      "\u001b[32mCosimulation: co_b not connected to backend\u001b[0m\n",
      "\u001b[32mCosimulation: verify not connected to backend\u001b[0m\n",
      "\u001b[7;34mSTOP SIMULATION @30\u001b[0m\n"
     ]
    }
   ],
   "source": [
    "d = CoSimDesign()\n",
    "tb = d.testbench()\n",
    "tb.run(2000, wavetrace = 'test.vcd', recompile = True)"
   ]
  },
  {
   "cell_type": "markdown",
   "id": "9c8d3bd4-fb8e-456e-aab2-20df4755e810",
   "metadata": {},
   "source": [
    "## Detailed explanations\n",
    "\n",
    "What happens here is the following:\n",
    "* `self.unit` is compiled as CXXRTL back end module and is imported ad-hoc\n",
    "* The signals passed to its interface are connected to the backend, i.e. they are consumed and driven by the latter.\n",
    "* The `co_*` signals are not connected to the back end and are thus handled by the cosimulation layer upon occuring events, such as a `clk.posedge`.\n",
    "* All functionality in the `testbench()` function runs as native python. Therefore one has to ensure that calls to macros are evaluated explicitely or the `yield from` constructs are used for context sensitive `@rtl_function`s or `@cyrite_method`s.\n",
    "\n",
    "To determine from the code, in which domain the code is executed or evaluated, the thumb rule applies:\n",
    "* `self.always(...)` runs here in native execution\n",
    "* `always(...)` is transpiled to hardware\n",
    "\n",
    "Note that Co-Processes running in the native Python context pretty much allow any kind of Python extension looped in and only a small built-in sub set of Python can be transpiled to HDL."
   ]
  },
  {
   "cell_type": "markdown",
   "id": "40cd9533-b1ae-4434-9a16-c0702db1b90a",
   "metadata": {},
   "source": [
    "## Performance aspects: Event signals\n",
    "\n",
    "A Co-Simulator is normally the driving force in a design, creating the external stimuli for a pure digital design without functional delay simulation.\n",
    "\n",
    "All the above `@self.always` co-processes will only react to external stimuli caused by `EventSignal` types. The reason for this is performance: all combinatorial signal dependencies of their sources are sorted out by the faster back end. The co-simulation front end should only have to set a few signals, provide a clock and a reset.\n",
    "\n",
    "This implies certain restrictions:\n",
    "* No clock generators inside the synthesized RTL, for instance, PLLs can not be simulated this way.\n",
    "* co-processes can only use EventSignal types in their sensitivity list\n",
    "* `@sequence` functions can only wait for events of EventSignals as well, i.e. constructs such as `s.posedge` will only work for a clock signal type.\n",
    "\n",
    "Non-Event signals, like outputs of the simulation of the compiled backend unit will thus have to be polled explicitely for changes."
   ]
  },
  {
   "cell_type": "markdown",
   "id": "1e24e6ab-b22c-460a-b187-1af7e2e9f93d",
   "metadata": {},
   "source": [
    "### Native simulation issues\n",
    "\n",
    "Note that the Co-Simulation layer is very rudimentary and does not allow to simply run a hardware design on the native co-simulation side.\n",
    "\n",
    "In particular, the support for co-processes is limited to:\n",
    "* Direct assignments of signals, no combinatorial logic\n",
    "* `@self.always()` only allowed for:\n",
    "    * Event types caused by EventSignal types (ClkSignal, ResetSignal, ..)\n",
    "    * Delay arguments (`delay(cycles)`) where cycles must be integer\n",
    "    * Co-processes inside the testbench top, i.e. no hierarchy\n",
    "\n",
    "Also keep in mind that the current Co-Simulator only allows **one** unit under test instance."
   ]
  }
 ],
 "metadata": {
  "kernelspec": {
   "display_name": "Python 3 (ipykernel)",
   "language": "python",
   "name": "python3"
  },
  "language_info": {
   "codemirror_mode": {
    "name": "ipython",
    "version": 3
   },
   "file_extension": ".py",
   "mimetype": "text/x-python",
   "name": "python",
   "nbconvert_exporter": "python",
   "pygments_lexer": "ipython3",
   "version": "3.10.0"
  }
 },
 "nbformat": 4,
 "nbformat_minor": 5
}

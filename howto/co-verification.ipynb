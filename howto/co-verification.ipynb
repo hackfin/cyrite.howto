{
 "cells": [
  {
   "cell_type": "code",
   "execution_count": 1,
   "id": "3a4e679f-53bc-4d02-8fb2-0d2bc41b6b42",
   "metadata": {},
   "outputs": [],
   "source": [
    "import sys\n",
    "sys.path.insert(0, \"../../\")"
   ]
  },
  {
   "cell_type": "markdown",
   "id": "c62cfbe3-a44e-4ed8-8011-822c40dc4c0e",
   "metadata": {},
   "source": [
    "# Co-Verification tricks\n",
    "\n",
    "In some cases, you might want to prove that a python function, executed natively, does the same as its synthesized counterpart. This is in particular the case for functions that are reused often for various signal processing targets, be it micro code or pure cascaded hardware elements.\n",
    "\n",
    "Take a `@rtl_function` example:"
   ]
  },
  {
   "cell_type": "code",
   "execution_count": 2,
   "id": "513b0ac6-653c-455d-a599-f26d2f24e71e",
   "metadata": {},
   "outputs": [],
   "source": [
    "from cyhdl import *"
   ]
  },
  {
   "cell_type": "code",
   "execution_count": 3,
   "id": "c3d3cbd1-2af6-438d-9af7-5917a44a1ef4",
   "metadata": {},
   "outputs": [],
   "source": [
    "class often_used:\n",
    "    @rtl_function\n",
    "    def funclet(rtl, en, a, b):\n",
    "        if en == True:\n",
    "            b.next = ~a\n",
    "        else:\n",
    "            b.next = a"
   ]
  },
  {
   "cell_type": "markdown",
   "id": "261b7cd2-e553-4b51-aa8e-8196e0c135ec",
   "metadata": {},
   "source": [
    "We will be calling this function twice:\n",
    "1. From the hardware context, like a function\n",
    "2. From a native context, using `yield from`\n",
    "\n",
    "We create a specific co-simulation design. It will only function with a cosimulation backend, such as CXXRTL."
   ]
  },
  {
   "cell_type": "code",
   "execution_count": 4,
   "id": "8306d2eb-415d-43a1-adc0-17517ee7e814",
   "metadata": {},
   "outputs": [],
   "source": [
    "from yosys.simulator import CXXRTL\n",
    "from myirl.library.basictypes import Bool\n",
    "\n",
    "class CoSimDesign(cyrite_factory.Module):\n",
    "    def __init__(self):\n",
    "        super().__init__(\"cosim\", CXXRTL)\n",
    "        \n",
    "    @cyrite_factory.block_component\n",
    "    def unit(self,\n",
    "             clk : ClkSignal,\n",
    "             en: Bool,\n",
    "             a : Signal,\n",
    "             b : Signal.Output):\n",
    "        \n",
    "        @always(clk.posedge)\n",
    "        def worker():\n",
    "            # Call @rtl_function like a function from a rtl context:\n",
    "            often_used.funclet(en, a, b)\n",
    "\n",
    "        return worker\n",
    "\n",
    "    @cyrite_factory.testbench(\"ns\")\n",
    "    def testbench(self):\n",
    "        clk = self.ClkSignal(name = 'clk')\n",
    "        en = self.Signal(bool(), name = 'en')\n",
    "        a, b = [ self.Signal(intbv()[8:], name = n) for n in \"ab\" ]\n",
    "        co_a, co_b = [ self.Signal(intbv()[8:], name = n) for n in \"AB\" ]\n",
    "        verify = self.Signal(bool())\n",
    "        \n",
    "        continuous_assignments = [\n",
    "            co_a   @assign@  a\n",
    "        ]\n",
    "\n",
    "        uut = self.unit(clk, en, a, b)\n",
    "\n",
    "        # # Co-Unit:\n",
    "        @self.always(clk.posedge)\n",
    "        def co_unit():\n",
    "            # Call the same funclet using `yield from`:\n",
    "            yield from often_used.funclet(en, co_a, co_b)\n",
    "\n",
    "        @self.always(clk.posedge)\n",
    "        def verification():\n",
    "            if verify:\n",
    "                print(\"Verify:\", en, self.now(), co_b, b)\n",
    "                assert co_b == b\n",
    "        \n",
    "        @self.always(delay(1))\n",
    "        def clkgen():\n",
    "            clk.next = ~clk\n",
    "\n",
    "        @self.sequence\n",
    "        def main():\n",
    "            verify.next = False\n",
    "            yield delay(20)\n",
    "            verify.next = True\n",
    "            for v in [0, 0xaa, 0x55, 0x2d, 0x85]:\n",
    "                en.next = (v & 1) != 0\n",
    "                yield clk.negedge\n",
    "                a.next = v\n",
    "\n",
    "            raise StopSimulation\n",
    "\n",
    "        return instances()"
   ]
  },
  {
   "cell_type": "markdown",
   "id": "efc5403e-8c57-4525-9717-3ed743a44eaf",
   "metadata": {},
   "source": [
    "We instance the design and run the test bench.\n",
    "If we do not make changes on the hardware function, you can set `recompile` to False. This can be useful if you develop test benches for large hardware designs."
   ]
  },
  {
   "cell_type": "code",
   "execution_count": 5,
   "id": "354f7734-b697-4082-a678-98a9de9dee5d",
   "metadata": {},
   "outputs": [
    {
     "name": "stdout",
     "output_type": "stream",
     "text": [
      "\u001b[7;35m Declare obj 'unit' in context '(CoSimDesign 'cosim')'(<class '__main__.CoSimDesign'>) \u001b[0m\n",
      "DEBUG LIB ALL ELEM (CoSimDesign 'cosim')\n",
      "DEBUG MAIN ELAB [Instance unit I/F: [// ID: unit_0 ]]\n",
      " DEBUG components ['unit_obj_CoSimDesignu_1u_1u_8u_8'] (CoSimDesign 'cosim') \n",
      "\u001b[32m Adding module with name `unit` \u001b[0m\n",
      "\u001b[7;34m FINALIZE implementation `unit` of `unit` \u001b[0m\n",
      "Compiling /tmp/myirl_cosim_l8en8v73/unit_8133.pyx because it changed.\n",
      "[1/1] Cythonizing /tmp/myirl_cosim_l8en8v73/unit_8133.pyx\n",
      "running build_ext\n",
      "building 'runtime.unit_8133' extension\n",
      "creating build/temp.linux-x86_64-3.10/tmp/myirl_cosim_l8en8v73\n",
      "gcc -pthread -Wno-unused-result -Wsign-compare -DNDEBUG -g -fwrapv -O3 -Wall -fPIC -DCOSIM_NAMESPACE=unit_8133 -Iruntime -I/tmp/myirl_cosim_l8en8v73/ -I/usr/share/yosys/include/backends/cxxrtl/runtime -I/usr/local/include/python3.10 -c /tmp/myirl_cosim_l8en8v73/unit_8133.cpp -o build/temp.linux-x86_64-3.10/tmp/myirl_cosim_l8en8v73/unit_8133.o\n",
      "gcc -pthread -Wno-unused-result -Wsign-compare -DNDEBUG -g -fwrapv -O3 -Wall -fPIC -DCOSIM_NAMESPACE=unit_8133 -Iruntime -I/tmp/myirl_cosim_l8en8v73/ -I/usr/share/yosys/include/backends/cxxrtl/runtime -I/usr/local/include/python3.10 -c /tmp/myirl_cosim_l8en8v73/unit_8133_rtl.cpp -o build/temp.linux-x86_64-3.10/tmp/myirl_cosim_l8en8v73/unit_8133_rtl.o\n",
      "g++ -pthread -shared -Wl,--strip-all build/temp.linux-x86_64-3.10/tmp/myirl_cosim_l8en8v73/unit_8133.o build/temp.linux-x86_64-3.10/tmp/myirl_cosim_l8en8v73/unit_8133_rtl.o -L/usr/local/lib -o build/lib.linux-x86_64-3.10/runtime/unit_8133.cpython-310-x86_64-linux-gnu.so\n",
      "copying build/lib.linux-x86_64-3.10/runtime/unit_8133.cpython-310-x86_64-linux-gnu.so -> runtime\n",
      "Open for writing: test.vcd\n",
      "\u001b[7;35m CXXRTL context: SKIP INTERFACE ITEM `self` \u001b[0m\n",
      "Verify: <en> : False 21 <co_b> : 0x00 <b> : 0x00\n",
      "Verify: <en> : False 23 <co_b> : 0x00 <b> : 0x00\n",
      "Verify: <en> : True 25 <co_b> : 0x00 <b> : 0x00\n",
      "Verify: <en> : True 27 <co_b> : 0x55 <b> : 0x55\n",
      "Verify: <en> : True 29 <co_b> : 0xaa <b> : 0xaa\n"
     ]
    },
    {
     "name": "stderr",
     "output_type": "stream",
     "text": [
      "\u001b[32mUsing '/tmp/myirl_cosim_l8en8v73/' for output\u001b[0m\n",
      "\u001b[32mCosimulation: co_a not connected to backend\u001b[0m\n",
      "\u001b[32mCosimulation: co_b not connected to backend\u001b[0m\n",
      "\u001b[32mCosimulation: verify not connected to backend\u001b[0m\n",
      "\u001b[7;34mSTOP SIMULATION @30\u001b[0m\n"
     ]
    },
    {
     "data": {
      "text/plain": [
       "0"
      ]
     },
     "execution_count": 5,
     "metadata": {},
     "output_type": "execute_result"
    }
   ],
   "source": [
    "d = CoSimDesign()\n",
    "tb = d.testbench()\n",
    "tb.run(2000, wavetrace = 'test.vcd', recompile = True)"
   ]
  },
  {
   "cell_type": "markdown",
   "id": "9c8d3bd4-fb8e-456e-aab2-20df4755e810",
   "metadata": {},
   "source": [
    "## Detailed explanations\n",
    "\n",
    "What happens here is the following:\n",
    "* `self.unit` is compiled as CXXRTL back end module and is imported ad-hoc\n",
    "* The signals passed to its interface are connected to the backend, i.e. they are consumed and driven by the latter.\n",
    "* The `co_*` signals are not connected to the back end and are thus handled by the cosimulation layer upon occuring events, such as a `clk.posedge`.\n",
    "* All functionality in the `testbench()` function runs as native python. Therefore one has to ensure that calls to macros are evaluated explicitely or the `yield from` constructs are used for context sensitive `@rtl_function`s or `@cyrite_method`s.\n",
    "\n",
    "To determine from the code, in which domain the code is executed or evaluated, the thumb rule applies:\n",
    "* `self.always(...)` runs here in native execution\n",
    "* `always(...)` is transpiled to hardware\n",
    "\n",
    "Note that Co-Processes running in the native Python context pretty much allow any kind of Python extension looped in and only a small built-in sub set of Python can be transpiled to HDL."
   ]
  },
  {
   "cell_type": "markdown",
   "id": "40cd9533-b1ae-4434-9a16-c0702db1b90a",
   "metadata": {},
   "source": [
    "## Performance aspects: Event signals\n",
    "\n",
    "A Co-Simulator is normally the driving force in a design, creating the external stimuli for a pure digital design without functional delay simulation.\n",
    "\n",
    "All the above `@self.always` co-processes will only react to external stimuli caused by `EventSignal` types. The reason for this is performance: all combinatorial signal dependencies of their sources are sorted out by the faster back end. The co-simulation front end should only have to set a few signals, provide a clock and a reset.\n",
    "\n",
    "This implies certain restrictions:\n",
    "* No clock generators inside the synthesized RTL, for instance, PLLs can not be simulated this way.\n",
    "* co-processes can only use EventSignal types in their sensitivity list\n",
    "* `@sequence` functions can only wait for events of EventSignals as well, i.e. constructs such as `s.posedge` will only work for a clock signal type.\n",
    "\n",
    "Non-Event signals, like outputs of the simulation of the compiled backend unit will thus have to be polled explicitely for changes."
   ]
  },
  {
   "cell_type": "markdown",
   "id": "1e24e6ab-b22c-460a-b187-1af7e2e9f93d",
   "metadata": {},
   "source": [
    "### Native simulation issues\n",
    "\n",
    "Note that the Co-Simulation layer is very rudimentary and does not allow to simply run a hardware design on the native co-simulation side.\n",
    "\n",
    "In particular, the support for co-processes is limited to:\n",
    "* Direct assignments of signals, no combinatorial logic\n",
    "* `@self.always()` only allowed for:\n",
    "    * Event types caused by EventSignal types (ClkSignal, ResetSignal, ..)\n",
    "    * Delay arguments (`delay(cycles)`) where cycles must be integer\n",
    "    * Co-processes inside the testbench top, i.e. no hierarchy\n",
    "\n",
    "Also keep in mind that the current Co-Simulator only allows **one** unit under test instance."
   ]
  },
  {
   "cell_type": "markdown",
   "id": "d2c4c896-dfe7-475b-a855-065434ee217b",
   "metadata": {},
   "source": [
    "## Co-verification of existing modules\n",
    "\n",
    "Sometimes, a verified V*HDL module is to be ported to CyHDL and requires enhancements. In order to verify these enhancements do not break existing setups, it might be useful to automatically create a wrapper to run both (the new and the verified) unit alongside each other.\n",
    "\n",
    "This is also referred to as 'virtual lock step', as there is the option to create particular verification hardware verification units within such a wrapper.\n",
    "\n",
    "We import the `create_instances` function which auto-wraps both units under test."
   ]
  },
  {
   "cell_type": "code",
   "execution_count": 6,
   "id": "7f2eb95d-b894-47f1-81db-d4ea7bc37763",
   "metadata": {},
   "outputs": [],
   "source": [
    "from myirl.library.verification.lockstep import create_instances as lockstep_create_instances"
   ]
  },
  {
   "cell_type": "markdown",
   "id": "ea63aadd-bcf4-4352-a983-e617a9f56504",
   "metadata": {},
   "source": [
    "### DSP ALU element co-verification\n",
    "\n",
    "We import a VHDL ALU component from the example DSP ALU library:"
   ]
  },
  {
   "cell_type": "code",
   "execution_count": 7,
   "id": "11b75f68-e357-4636-b34f-9dbc40664e39",
   "metadata": {},
   "outputs": [],
   "source": [
    "from cyrite.examples import libdspalu"
   ]
  },
  {
   "cell_type": "markdown",
   "id": "c1833064-ddf1-472e-8c14-e797c480eb32",
   "metadata": {},
   "source": [
    "Separately, we developed a CyHDL class as single rtl_functions. Those can be called from dual contexts in order to perform a verification for different execution domains (DSP architecture versus pure HDL versus Python, ...)"
   ]
  },
  {
   "cell_type": "code",
   "execution_count": 8,
   "id": "bb60dbb6-11d8-4841-831a-0a5ab10dc4b1",
   "metadata": {},
   "outputs": [],
   "source": [
    "class DSPEmu:\n",
    "\t@rtl_function\n",
    "\tdef stage0(rtl, a, b, ru, rl, UPPER, LOWER):\n",
    "\t\tru.next = a[UPPER].signed() * b[UPPER].signed()\n",
    "\t\trl.next = a[LOWER].signed() * b[LOWER].signed()\n",
    "\n",
    "\t@rtl_function\n",
    "\tdef stage1(rtl, mode, ru, rl, a0, a1):\n",
    "\t\tif mode == rtl.A_SUB:\n",
    "\t\t\ta0.next = a0 - ru\n",
    "\t\t\ta1.next = a1 - rl\n",
    "\t\telif mode == rtl.A_ADD:\n",
    "\t\t\ta0.next = a0 + ru\n",
    "\t\t\ta1.next = a1 + rl\n",
    "\t\telif mode == rtl.A_ADDSUB:\n",
    "\t\t\ta0.next = a0 + ru\n",
    "\t\t\ta1.next = a1 - rl\n",
    "\t\telse:\n",
    "\t\t\ta0.next = ru\n",
    "\t\t\ta1.next = rl"
   ]
  },
  {
   "cell_type": "markdown",
   "id": "4474ae49-be4a-4567-b0ca-979a910abce0",
   "metadata": {},
   "source": [
    "The actual hardware component in CyHDL is composed as a library class containing auxiliaries and a block component implementation. It also implements a specific attribute getter `__getattr__`, to forward the above `rtl` class member requests to the calling context."
   ]
  },
  {
   "cell_type": "code",
   "execution_count": 9,
   "id": "6379c6ab-37e9-49c0-9639-e7b73aa89c79",
   "metadata": {},
   "outputs": [],
   "source": [
    "from cyrite.library.hls import mypipe\n",
    "\n",
    "class DSPImpl(LibraryModule):\n",
    "    \n",
    "    # Put local type definitions into class header:\n",
    "    PS = mypipe.pipelined(Signal)\n",
    "    PSModeSignal = PS.Type(intbv, 2)\n",
    "    Bool = PS.Type(bool)\n",
    "\n",
    "    def __getattr__(self, name):\n",
    "        \"Forwarding of DSPALU.A_* types to the rtl context\"\n",
    "        return getattr(libdspalu.DSPAlu, name)\n",
    "\n",
    "    # A clear hardware component. We don't do latency checking due to accumulator values\n",
    "    @block_component\n",
    "    def dual_mac16(self,\n",
    "        clk  : ClkSignal,\n",
    "        mode : libdspalu.DSPTypes.ModeSignal,\n",
    "        ce   : Signal.Type(bool),\n",
    "        a    : Signal,\n",
    "        b    : Signal,\n",
    "        rval : Bool.Output,\n",
    "        resu : Signal.Output,\n",
    "        resl : Signal.Output,\n",
    "        W_WIDTH : int = 16,\n",
    "        HEADROOM_BITS : int = 8\n",
    "    ):\n",
    "\n",
    "        r0l, r0u = [ self.PS(intbv()[W_WIDTH * 2:].signed()) for _ in range(2) ]\n",
    "        a0, a1 = [ self.PS(intbv()[2 * W_WIDTH + 8:].signed()) for _ in range(2) ]\n",
    "\n",
    "        LOWER = slice(W_WIDTH, 0)\n",
    "        UPPER = slice(2 * W_WIDTH, W_WIDTH)\n",
    "\n",
    "        mode0 = self.PS(intbv()[2:])\n",
    "        mode1 = mode0.delayed(clk, 1)\n",
    "\n",
    "        @mypipe.pipe(clk, None, ce, None, rval)\n",
    "        def pipeline_worker(ctx):\n",
    "            yield DSPEmu.stage0(a, b, r0u, r0l, UPPER, LOWER)(ctx).logic\n",
    "            yield DSPEmu.stage1(mode1, r0u, r0l, a0, a1)(ctx).logic\n",
    "\n",
    "        wires = [\n",
    "            mode0.wireup(mode),\n",
    "            resu.wireup(a0), resl.wireup(a1)\n",
    "        ]\n",
    "\n",
    "        return instances()"
   ]
  },
  {
   "cell_type": "markdown",
   "id": "f23423fd-650c-4718-adf0-61623c264782",
   "metadata": {},
   "source": [
    "A test design with test bench making usage of this library:"
   ]
  },
  {
   "cell_type": "code",
   "execution_count": 10,
   "id": "fde26b31-a45c-446f-be0d-8bd2031cbdb1",
   "metadata": {},
   "outputs": [],
   "source": [
    "class DSPTest(cyrite_factory.Module):\n",
    "    \"\"\"The DSP test for co-simulation mode\"\"\"\n",
    "\n",
    "    # Put a lib into the header for auto-registration\n",
    "    lib_dspemu = DSPImpl(\"emulation\")\n",
    "\n",
    "    dual_mac16 = lib_dspemu.dual_mac16\n",
    "\n",
    "    def __init__(self, *args, **kwargs):\n",
    "        super().__init__(*args, **kwargs)\n",
    "        self.mylib = self.lib_dspemu\n",
    "        self.mylib.clear() # To reuse for several targets\n",
    "\n",
    "    @cyrite_factory.testbench(\"ns\")\n",
    "    def testbench(self, N : int = 16):\n",
    "        PS = mypipe.pipelined(self.Signal)\n",
    "        \n",
    "        clk = self.ClkSignal()\n",
    "        mode = PS(intbv()[2:])\n",
    "        ce, valid = [ PS(bool()) for _ in range(2) ]\n",
    "        a, b = [ PS(intbv()[2 * N:]) for _ in range(2) ]\n",
    "        ru, rv = [ PS(intbv()[2 * N + 8:].signed()) for _ in range(2) ]\n",
    "\n",
    "        uut = self.dual_mac16(\n",
    "            clk = clk,\n",
    "            mode = mode,\n",
    "            ce = ce,\n",
    "            a = a,\n",
    "            b = b,\n",
    "            rval = valid,\n",
    "            resu = ru,\n",
    "            resl = rv,\n",
    "            W_WIDTH = N,\n",
    "        )\n",
    "\n",
    "\n",
    "        @self.always(delay(1))\n",
    "        def clkgen():\n",
    "            clk.next = ~clk\n",
    "            \n",
    "        @self.sequence\n",
    "        def main():\n",
    "            ce.next = False\n",
    "            a.next = 0x20008000\n",
    "            b.next = 0x10003000\n",
    "            yield clk.negedge\n",
    "            ce.next = True\n",
    "            mode.next = libdspalu.DSPAlu.A_ASSIGN\n",
    "            a.next = 0x20008000\n",
    "            b.next = 0x10003000\n",
    "\n",
    "            yield clk.negedge\n",
    "\n",
    "            assert valid == False\n",
    "            yield clk.negedge\n",
    "            yield clk.negedge\n",
    "\n",
    "            assert valid == True\n",
    "            print(\"RESULT:\", ru, rv)\n",
    "\n",
    "            assert ru.unsigned() == 0x0002000000\n",
    "            assert rv.unsigned() == 0xFFE8000000\n",
    "\n",
    "            yield delay(20)\n",
    "\n",
    "            raise StopSimulation\n",
    "\n",
    "        return instances()\n"
   ]
  },
  {
   "cell_type": "markdown",
   "id": "2614fae2-189e-4a1c-b630-61c44b80faff",
   "metadata": {},
   "source": [
    "### Running the test bench\n",
    "\n",
    "We run the above test bench with the Cyrite implementation of the DSP elements first."
   ]
  },
  {
   "cell_type": "code",
   "execution_count": 11,
   "id": "38576193-175d-4511-a630-de9e27e65a19",
   "metadata": {},
   "outputs": [
    {
     "name": "stdout",
     "output_type": "stream",
     "text": [
      "\u001b[7;35m Declare obj 'testbench' in context '(DSPTest 'test')'(<class '__main__.DSPTest'>) \u001b[0m\n",
      " N: use default 16 \n",
      "\u001b[7;35m Declare obj 'dual_mac16' in context '(LIB: DSPImpl 'emulation')'(<class '__main__.DSPImpl'>) \u001b[0m\n",
      " HEADROOM_BITS: use default 8 \n",
      "\u001b[7;35m Declare obj 'sigdelay' in context '(LIB: DSPImpl 'emulation')'(<class '__main__.DSPImpl'>) \u001b[0m\n",
      "\u001b[32m DEBUG Inline instance [CompInline 'sigdelay/sigdelay'] \u001b[0m\n",
      " Writing 'sigdelay' to file ./sigdelay.vhdl \n",
      " Writing 'dual_mac16' to file ./dual_mac16.vhdl \n",
      "Warning: Implicit truncation of SUB(a0:0, r0u:0) result\n",
      "Warning: Implicit truncation of SUB(a1:0, r0l:0) result\n",
      "Warning: Implicit truncation of ADD(a0:0, r0u:0) result\n",
      "Warning: Implicit truncation of ADD(a1:0, r0l:0) result\n",
      "Warning: Implicit truncation of ADD(a0:0, r0u:0) result\n",
      "Warning: Implicit truncation of SUB(a1:0, r0l:0) result\n",
      " Not emitting design types library \n",
      "\u001b[7;35m Skip registration of (LIB: DSPImpl 'emulation')/<class '__main__.DSPImpl'> \u001b[0m\n",
      " Writing 'testbench' to file /tmp/testbench.vhdl \n",
      " Creating library file /tmp/module_defs.vhdl \n",
      "DEBUG_FILES ['/tmp/testbench.vhdl', '/tmp/module_defs.vhdl', './sigdelay.vhdl', './dual_mac16.vhdl', '/home/pyosys/src/myhdl2/myirl/targets/vhdl/libmyirl.vhdl', '/home/pyosys/src/myhdl2/myirl/targets/vhdl/txt_util.vhdl']\n",
      "==== COSIM stdout ====\n",
      "analyze /home/pyosys/src/myhdl2/myirl/targets/vhdl/txt_util.vhdl\n",
      "analyze /home/pyosys/src/myhdl2/myirl/targets/vhdl/libmyirl.vhdl\n",
      "analyze /home/pyosys/src/myhdl2/myhdl.v2we/howto/sigdelay.vhdl\n",
      "analyze /home/pyosys/src/myhdl2/myhdl.v2we/howto/dual_mac16.vhdl\n",
      "analyze /tmp/testbench.vhdl\n",
      "elaborate testbench\n",
      "\n",
      "==== COSIM stdout ====\n",
      "RESULT: 0x0002000000 0xFFE8000000\n",
      "simulation stopped @28ns\n",
      "\n"
     ]
    },
    {
     "data": {
      "text/plain": [
       "0"
      ]
     },
     "execution_count": 11,
     "metadata": {},
     "output_type": "execute_result"
    }
   ],
   "source": [
    "from yosys.simulator import CXXRTL\n",
    "from cyrite.simulation import ghdl\n",
    "\n",
    "d = DSPTest(\"test\", ghdl.GHDL)\n",
    "\n",
    "tb = d.testbench()\n",
    "\n",
    "tb.run(200, debug = True, wavetrace = \"test1.vcd\", recompile = False)"
   ]
  },
  {
   "cell_type": "markdown",
   "id": "0203b388-e962-46a1-a82b-b376aca0c3a2",
   "metadata": {},
   "source": [
    "### Co-Simulation testbench\n",
    "\n",
    "We derive a class from the above, this time creating a wrapper for `dual_mac16` using `.create_instances`:"
   ]
  },
  {
   "cell_type": "code",
   "execution_count": 12,
   "id": "5124e071-0450-406a-9d88-348ef6601c54",
   "metadata": {},
   "outputs": [],
   "source": [
    "class CoDSPTest(DSPTest):\n",
    "    lib_dspemu = DSPImpl(\"emulation\")\n",
    "\n",
    "    vhdl_lib = libdspalu.DSPAlu(\"co_vhdl\")\n",
    "    def dual_mac16(self, *args, **kwargs):\n",
    "        instances = lockstep_create_instances(\n",
    "            self.mylib.dual_mac16, self.vhdl_lib.dual_mac16,\n",
    "            args, kwargs)\n",
    "    \n",
    "        return instances\n"
   ]
  },
  {
   "cell_type": "markdown",
   "id": "a4d1cdc9-82ab-4e08-967c-b2d8fdb1aaa2",
   "metadata": {},
   "source": [
    "Finally, we run the same test bench with the wrapper:"
   ]
  },
  {
   "cell_type": "code",
   "execution_count": 13,
   "id": "d312e670-07a3-43ec-861f-cb8c01812595",
   "metadata": {},
   "outputs": [
    {
     "name": "stdout",
     "output_type": "stream",
     "text": [
      "\u001b[7;35m Declare obj 'testbench' in context '(CoDSPTest 'test')'(<class '__main__.CoDSPTest'>) \u001b[0m\n",
      " N: use default 16 \n",
      "\u001b[7;35m Declare obj 'dual_mac16' in context '(LIB: DSPImpl 'emulation')'(<class '__main__.DSPImpl'>) \u001b[0m\n",
      " HEADROOM_BITS: use default 8 \n",
      "\u001b[7;35m Declare obj 'sigdelay' in context '(LIB: DSPImpl 'emulation')'(<class '__main__.DSPImpl'>) \u001b[0m\n",
      "\u001b[32m DEBUG Inline instance [CompInline 'sigdelay/sigdelay'] \u001b[0m\n",
      "\u001b[7;34m use default parameter HEADROOM_BITS : 8 \u001b[0m\n",
      "\u001b[7;35m [_blackbox_method 'dual_mac16/dual_mac16'] blackbox not returning instances \u001b[0m\n",
      " W_WIDTH: use default 16 \n",
      " HEADROOM_BITS: use default 8 \n",
      " Writing 'sigdelay' to file ./sigdelay.vhdl \n",
      " Writing 'uut_dual_mac16' to file ./uut_dual_mac16.vhdl \n",
      "Warning: Implicit truncation of SUB(a0:0, r0u:0) result\n",
      "Warning: Implicit truncation of SUB(a1:0, r0l:0) result\n",
      "Warning: Implicit truncation of ADD(a0:0, r0u:0) result\n",
      "Warning: Implicit truncation of ADD(a1:0, r0l:0) result\n",
      "Warning: Implicit truncation of ADD(a0:0, r0u:0) result\n",
      "Warning: Implicit truncation of SUB(a1:0, r0l:0) result\n",
      " Not emitting design types library \n",
      "\u001b[7;35m Skip registration of (LIB: DSPImpl 'emulation')/<class '__main__.DSPImpl'> \u001b[0m\n",
      "\u001b[7;35m Skip registration of <cyrite.examples.libdspalu.DSPAlu object at 0x7f2b0c299c90>/<class 'cyrite.examples.libdspalu.DSPAlu'> \u001b[0m\n",
      "\u001b[7;35m Skip registration of (LIB: DSPImpl 'emulation')/<class '__main__.DSPImpl'> \u001b[0m\n",
      "\u001b[7;35m Skip registration of <cyrite.examples.libdspalu.DSPAlu object at 0x7f2b0c299c90>/<class 'cyrite.examples.libdspalu.DSPAlu'> \u001b[0m\n",
      " Writing 'MyLockstep' to file /tmp/MyLockstep.vhdl \n",
      "Warning: Implicit truncation of ADD(mylockstep_c, C:1) result\n",
      "Warning: Implicit truncation of ADD(mylockstep_c, C:1) result\n",
      "Warning: Implicit truncation of ADD(mylockstep_c, C:1) result\n",
      "Warning: Implicit truncation of SUB(mylockstep_dt, C:1) result\n",
      " Writing 'testbench' to file /tmp/testbench.vhdl \n",
      " Creating library file /tmp/module_defs.vhdl \n",
      "DEBUG_FILES ['/tmp/MyLockstep.vhdl', '/tmp/testbench.vhdl', '/tmp/module_defs.vhdl', './sigdelay.vhdl', './uut_dual_mac16.vhdl', '/home/pyosys/src/myhdl2/myhdl.v2we/howto/../../cyrite/examples/dsp/dspalu_pkg.vhdl', '/home/pyosys/src/myhdl2/myhdl.v2we/howto/../../cyrite/examples/dsp/dual_mac16.vhdl', '/home/pyosys/src/myhdl2/myhdl.v2we/howto/../../cyrite/examples/dsp/vector_adder.vhdl', '/home/pyosys/src/myhdl2/myirl/targets/vhdl/libmyirl.vhdl', '/home/pyosys/src/myhdl2/myirl/targets/vhdl/txt_util.vhdl']\n",
      "==== COSIM stdout ====\n",
      "analyze /home/pyosys/src/myhdl2/cyrite/examples/dsp/dspalu_pkg.vhdl\n",
      "analyze /home/pyosys/src/myhdl2/myirl/targets/vhdl/txt_util.vhdl\n",
      "analyze /home/pyosys/src/myhdl2/myirl/targets/vhdl/libmyirl.vhdl\n",
      "analyze /home/pyosys/src/myhdl2/myhdl.v2we/howto/sigdelay.vhdl\n",
      "analyze /home/pyosys/src/myhdl2/myhdl.v2we/howto/uut_dual_mac16.vhdl\n",
      "analyze /tmp/MyLockstep.vhdl\n",
      "analyze /tmp/testbench.vhdl\n",
      "analyze /home/pyosys/src/myhdl2/cyrite/examples/dsp/dual_mac16.vhdl\n",
      "elaborate testbench\n",
      "\n",
      "==== COSIM stdout ====\n",
      "RESULT: 0x0002000000 0xFFE8000000\n",
      "simulation stopped @28ns\n",
      "\n"
     ]
    },
    {
     "name": "stderr",
     "output_type": "stream",
     "text": [
      "/home/pyosys/src/myhdl2/myhdl.v2we/howto/../../myirl/kernel/components.py:671: UserWarning: Unsupported arg type for 'args': VAR_POSITIONAL\n",
      "  base.warnings.warn(\"Unsupported arg type for '%s': %s\" % \\\n"
     ]
    },
    {
     "data": {
      "text/plain": [
       "0"
      ]
     },
     "execution_count": 13,
     "metadata": {},
     "output_type": "execute_result"
    }
   ],
   "source": [
    "d = CoDSPTest(\"test\", ghdl.GHDL)\n",
    "\n",
    "tb = d.testbench()\n",
    "\n",
    "tb.run(200, debug = True, wavetrace = \"test1.vcd\", recompile = False)"
   ]
  },
  {
   "cell_type": "markdown",
   "id": "441113a5-b017-47a5-bed3-d5400fcc69cd",
   "metadata": {},
   "source": [
    "Since no `reset` is used in this element, the internal `MyLockstep` base class uses a simple dead time of four clock cycles by default before starting to compare the signals. A derived class of this base class can be passed to `.create_instances`. using the `lockstep_factory` keyword.\n",
    "\n",
    "If a reset is present, it is automatically recognized if part of the UUT interface. Otherwise, it can be specified using the `resetsig` argument to `.create_instances`."
   ]
  },
  {
   "cell_type": "markdown",
   "id": "199c48c8-faad-4fbe-951e-32196702fd92",
   "metadata": {},
   "source": [
    "**Note** This verification method only works for HDL targets and is not simply portable to CXXRTL. "
   ]
  },
  {
   "cell_type": "markdown",
   "id": "32e9eaa9-f814-4095-9b9d-f54e30bd6ad1",
   "metadata": {},
   "source": [
    "## Automated random stimulation\n",
    "\n",
    "When a unit has a rather simple behaviour, a randomized I/O stimulus may suffice. In this case, you can use the `output_randomizer` to generate deterministic random values using a simple LFSR whose length is determined by the total length of the signals passed. This composed vector can not have a greater length of 32 in this implementation.\n",
    "\n",
    "The start values of the signals are used as start values for the LFSR, when `STARTVAL` is not specified to the randomizer. This can be important when the unit has no reset and may create undefined values ('X')."
   ]
  },
  {
   "cell_type": "code",
   "execution_count": 14,
   "id": "bbaab234-6f50-48af-8b41-e1b1b6a9add7",
   "metadata": {},
   "outputs": [],
   "source": [
    "from myirl.library.verification.randomize import output_randomizer\n",
    "\n",
    "\n",
    "class RandomTest(CoDSPTest):\n",
    "    lib_dspemu = DSPImpl(\"emulation\")\n",
    "    vhdl_lib = libdspalu.DSPAlu(\"co_vhdl\")\n",
    "\n",
    "    @cyrite_factory.testbench('ns')\n",
    "    def random_tb(self, sel_signals, N = 16):\n",
    "        PS = mypipe.pipelined(self.Signal)\n",
    "\n",
    "        clk = ClkSignal()\n",
    "        reset = ResetSignal(False, True)\n",
    "\n",
    "        cycle = Signal(bool())\n",
    "\n",
    "        # Use initial value A_ASSIGN to avoid creating undefined 'X' values:\n",
    "        mode, imode = [ PS(intbv(self.vhdl_lib.A_ASSIGN)[2:]) for _ in range(2) ]\n",
    "        ce, ce1, ce0, valid = [ PS(bool(True)) for _ in range(4) ]\n",
    "        a, b = [ PS(intbv()[2 * N:]) for _ in range(2) ]\n",
    "        ru, rv = [ PS(intbv()[2 * N + 8:].signed()) for _ in range(2) ]\n",
    "        # Source random values to create data words:\n",
    "        srca, srcb = [ Signal(intbv()[8:]) for _ in range(2) ]\n",
    "\n",
    "        datagen = [\n",
    "            a.wireup(concat(srca, (srca ^ srcb), ~srcb, srcb)),\n",
    "            b.wireup(concat(srcb, (srca ^ srcb), srca, (srcb ^ ~srca))),\n",
    "        ]\n",
    "        \n",
    "        uut = self.dual_mac16(\n",
    "            clk = clk,\n",
    "            mode = imode,\n",
    "            ce = ce1,\n",
    "            a = a,\n",
    "            b = b,\n",
    "            rval = valid,\n",
    "            resu = ru,\n",
    "            resl = rv,\n",
    "            W_WIDTH = N,\n",
    "        )\n",
    "        \n",
    "        @self.always(delay(2))\n",
    "        def clkgen():\n",
    "            clk.next = ~clk\n",
    "\n",
    "        @self.always(clk.posedge)\n",
    "        def ce_gen():\n",
    "            ce0.next = ce\n",
    "\n",
    "        @self.always(clk.posedge)\n",
    "        def muxer():\n",
    "            if reset:\n",
    "                imode.next = self.vhdl_lib.A_ASSIGN\n",
    "            else:\n",
    "                imode.next = mode\n",
    "\n",
    "        wires = [\n",
    "            ce1.wireup(ce0 | ce)\n",
    "        ]\n",
    "        \n",
    "        selection = {}\n",
    "        for n in sel_signals:\n",
    "            selection[n] = locals()[n]\n",
    "\n",
    "        # Instance a randomizer for this signal selection:\n",
    "        r = output_randomizer(clk, reset, cycle_strobe = cycle, **selection)\n",
    "\n",
    "        @self.sequence\n",
    "        def main():\n",
    "            reset.next = True\n",
    "            yield delay(20)\n",
    "            reset.next = False\n",
    "            # ce.next = True\n",
    "\n",
    "            while cycle == False:\n",
    "                yield clk.posedge\n",
    " \n",
    "            yield delay(200)\n",
    "            raise StopSimulation\n",
    "\n",
    "        return instances()\n"
   ]
  },
  {
   "cell_type": "code",
   "execution_count": 15,
   "id": "6947e71f-bcaf-4d18-be78-fc8fb9be03d1",
   "metadata": {},
   "outputs": [
    {
     "name": "stdout",
     "output_type": "stream",
     "text": [
      "\u001b[7;35m Declare obj 'random_tb' in context '(RandomTest 'random')'(<class '__main__.RandomTest'>) \u001b[0m\n",
      " N: use default 16 \n",
      "\u001b[7;35m Declare obj 'dual_mac16' in context '(LIB: DSPImpl 'emulation')'(<class '__main__.DSPImpl'>) \u001b[0m\n",
      " HEADROOM_BITS: use default 8 \n",
      "\u001b[7;35m Declare obj 'sigdelay' in context '(LIB: DSPImpl 'emulation')'(<class '__main__.DSPImpl'>) \u001b[0m\n",
      "\u001b[32m DEBUG Inline instance [CompInline 'sigdelay/sigdelay'] \u001b[0m\n",
      "\u001b[7;34m use default parameter HEADROOM_BITS : 8 \u001b[0m\n",
      "\u001b[7;35m [_blackbox_method 'dual_mac16/dual_mac16'] blackbox not returning instances \u001b[0m\n",
      " W_WIDTH: use default 16 \n",
      " HEADROOM_BITS: use default 8 \n",
      "TOTAL VECTOR LENGTH 19\n",
      "WARNING: next value: 32\n",
      "DEBUG: SET START VALUE 7\n",
      "\u001b[7;35m Declare obj 'counter_logic' in context '(RandomTest 'random')'(<class '__main__.RandomTest'>) \u001b[0m\n",
      "\u001b[32m DEBUG Inline instance [CompInline 'counter_logic/counter_logic'] \u001b[0m\n",
      " Writing 'sigdelay' to file ./sigdelay.vhdl \n",
      " Writing 'uut_dual_mac16' to file ./uut_dual_mac16.vhdl \n",
      "Warning: Implicit truncation of SUB(a0:0, r0u:0) result\n",
      "Warning: Implicit truncation of SUB(a1:0, r0l:0) result\n",
      "Warning: Implicit truncation of ADD(a0:0, r0u:0) result\n",
      "Warning: Implicit truncation of ADD(a1:0, r0l:0) result\n",
      "Warning: Implicit truncation of ADD(a0:0, r0u:0) result\n",
      "Warning: Implicit truncation of SUB(a1:0, r0l:0) result\n",
      " Not emitting design types library \n",
      "\u001b[7;35m Skip registration of (LIB: DSPImpl 'emulation')/<class '__main__.DSPImpl'> \u001b[0m\n",
      "\u001b[7;35m Skip registration of <cyrite.examples.libdspalu.DSPAlu object at 0x7f2b0c274dc0>/<class 'cyrite.examples.libdspalu.DSPAlu'> \u001b[0m\n",
      "\u001b[7;35m Skip registration of (LIB: DSPImpl 'emulation')/<class '__main__.DSPImpl'> \u001b[0m\n",
      "\u001b[7;35m Skip registration of <cyrite.examples.libdspalu.DSPAlu object at 0x7f2b0c274dc0>/<class 'cyrite.examples.libdspalu.DSPAlu'> \u001b[0m\n",
      "\u001b[7;35m Skip registration of (LIB: DSPImpl 'emulation')/<class '__main__.DSPImpl'> \u001b[0m\n",
      "\u001b[7;35m Skip registration of <cyrite.examples.libdspalu.DSPAlu object at 0x7f2b0c274dc0>/<class 'cyrite.examples.libdspalu.DSPAlu'> \u001b[0m\n",
      "\u001b[7;35m Skip registration of (LIB: DSPImpl 'emulation')/<class '__main__.DSPImpl'> \u001b[0m\n",
      "\u001b[7;35m Skip registration of <cyrite.examples.libdspalu.DSPAlu object at 0x7f2b0c274dc0>/<class 'cyrite.examples.libdspalu.DSPAlu'> \u001b[0m\n",
      " Writing 'counter_logic' to file /tmp/counter_logic.vhdl \n",
      " Writing 'output_randomizer' to file /tmp/output_randomizer.vhdl \n",
      " Writing 'MyLockstep' to file /tmp/MyLockstep.vhdl \n",
      "Warning: Implicit truncation of ADD(mylockstep_c, C:1) result\n",
      "Warning: Implicit truncation of ADD(mylockstep_c, C:1) result\n",
      "Warning: Implicit truncation of ADD(mylockstep_c, C:1) result\n",
      "Warning: Implicit truncation of SUB(mylockstep_dt, C:1) result\n",
      " Writing 'random_tb' to file /tmp/random_tb.vhdl \n",
      " Creating library file /tmp/module_defs.vhdl \n",
      "DEBUG_FILES ['/tmp/counter_logic.vhdl', '/tmp/output_randomizer.vhdl', '/tmp/MyLockstep.vhdl', '/tmp/random_tb.vhdl', '/tmp/module_defs.vhdl', './sigdelay.vhdl', './uut_dual_mac16.vhdl', '/home/pyosys/src/myhdl2/myhdl.v2we/howto/../../cyrite/examples/dsp/dspalu_pkg.vhdl', '/home/pyosys/src/myhdl2/myhdl.v2we/howto/../../cyrite/examples/dsp/dual_mac16.vhdl', '/home/pyosys/src/myhdl2/myhdl.v2we/howto/../../cyrite/examples/dsp/vector_adder.vhdl', '/home/pyosys/src/myhdl2/myirl/targets/vhdl/libmyirl.vhdl', '/home/pyosys/src/myhdl2/myirl/targets/vhdl/txt_util.vhdl']\n",
      "==== COSIM stdout ====\n",
      "analyze /home/pyosys/src/myhdl2/cyrite/examples/dsp/dspalu_pkg.vhdl\n",
      "analyze /home/pyosys/src/myhdl2/myirl/targets/vhdl/txt_util.vhdl\n",
      "analyze /home/pyosys/src/myhdl2/myirl/targets/vhdl/libmyirl.vhdl\n",
      "analyze /home/pyosys/src/myhdl2/myhdl.v2we/howto/sigdelay.vhdl\n",
      "analyze /home/pyosys/src/myhdl2/myhdl.v2we/howto/uut_dual_mac16.vhdl\n",
      "analyze /tmp/MyLockstep.vhdl\n",
      "analyze /tmp/counter_logic.vhdl\n",
      "analyze /tmp/output_randomizer.vhdl\n",
      "analyze /tmp/random_tb.vhdl\n",
      "analyze /home/pyosys/src/myhdl2/cyrite/examples/dsp/dual_mac16.vhdl\n",
      "elaborate random_tb\n",
      "\n",
      "==== COSIM stdout ====\n",
      "../../src/ieee2008/numeric_std-body.vhdl:1776:7:@0ms:(assertion warning): NUMERIC_STD.\"=\": metavalue detected, returning FALSE\n",
      "/tmp/random_tb:info: simulation stopped by --stop-time @200ns\n",
      "\n"
     ]
    },
    {
     "name": "stderr",
     "output_type": "stream",
     "text": [
      "/home/pyosys/src/myhdl2/myhdl.v2we/howto/../../myirl/kernel/components.py:116: UserWarning: Fallback: Pass through other argument for arg sel_signals (<class 'list'>)\n",
      "  base.warnings.warn(msg)\n",
      "/home/pyosys/src/myhdl2/myhdl.v2we/howto/../../myirl/kernel/components.py:671: UserWarning: Unsupported arg type for 'args': VAR_POSITIONAL\n",
      "  base.warnings.warn(\"Unsupported arg type for '%s': %s\" % \\\n",
      "/home/pyosys/src/myhdl2/myhdl.v2we/howto/../../myirl/kernel/components.py:212: UserWarning: @component `output_randomizer` interface :Unspecified port I/O 'mode' => OUT\n",
      "  base.warnings.warn((msg + \" => OUT\") % n)\n",
      "/home/pyosys/src/myhdl2/myhdl.v2we/howto/../../myirl/kernel/components.py:212: UserWarning: @component `output_randomizer` interface :Unspecified port I/O 'ce' => OUT\n",
      "  base.warnings.warn((msg + \" => OUT\") % n)\n",
      "/home/pyosys/src/myhdl2/myhdl.v2we/howto/../../myirl/kernel/components.py:212: UserWarning: @component `output_randomizer` interface :Unspecified port I/O 'srca' => OUT\n",
      "  base.warnings.warn((msg + \" => OUT\") % n)\n",
      "/home/pyosys/src/myhdl2/myhdl.v2we/howto/../../myirl/kernel/components.py:212: UserWarning: @component `output_randomizer` interface :Unspecified port I/O 'srcb' => OUT\n",
      "  base.warnings.warn((msg + \" => OUT\") % n)\n"
     ]
    },
    {
     "data": {
      "text/plain": [
       "0"
      ]
     },
     "execution_count": 15,
     "metadata": {},
     "output_type": "execute_result"
    }
   ],
   "source": [
    "p = RandomTest(\"random\", ghdl.GHDL)\n",
    "\n",
    "tb = p.random_tb(['mode', 'ce', 'srca', 'srcb'])\n",
    "tb.run(200, debug = True, wavetrace = \"rand.vcd\")"
   ]
  },
  {
   "cell_type": "code",
   "execution_count": null,
   "id": "8a0dd96a-11b1-4484-bf8d-973ef0ab23a5",
   "metadata": {},
   "outputs": [],
   "source": []
  }
 ],
 "metadata": {
  "kernelspec": {
   "display_name": "Python 3 (ipykernel)",
   "language": "python",
   "name": "python3"
  },
  "language_info": {
   "codemirror_mode": {
    "name": "ipython",
    "version": 3
   },
   "file_extension": ".py",
   "mimetype": "text/x-python",
   "name": "python",
   "nbconvert_exporter": "python",
   "pygments_lexer": "ipython3",
   "version": "3.10.0"
  }
 },
 "nbformat": 4,
 "nbformat_minor": 5
}

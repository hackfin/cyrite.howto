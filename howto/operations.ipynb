{
 "cells": [
  {
   "cell_type": "markdown",
   "id": "1cd6227a-4fe8-4300-9269-5ae6742e9b48",
   "metadata": {},
   "source": [
    "# Signals, wires and operations\n",
    "\n",
    "A `Signal` is basically a virtual pin or wire that is event sensitive. It can be abstracted by an integer or a single bit. The latter abstraction is the actual wire type, the signal is merely a container. When we create a signal, we specify a wire type and a bit length or size, normally.\n",
    "\n",
    "Cyrite by default uses an integer type class that represents defined bit fields of a definite length. It is not entirely, but in most scenarios compatible to the MyHDL intbv class and is also named so. We inspect some of the internals by creating signals:"
   ]
  },
  {
   "cell_type": "code",
   "execution_count": 1,
   "id": "3195c70e-8c7c-4c3f-b238-389d24a43d4f",
   "metadata": {},
   "outputs": [],
   "source": [
    "from cyhdl import *\n",
    "\n",
    "a = Signal(intbv(2)[6:], name = \"a\")\n",
    "b = Signal(intbv(2)[6:], name = \"b\")"
   ]
  },
  {
   "cell_type": "markdown",
   "id": "71284fe1-f3d9-42ce-bf4d-2824f62b6148",
   "metadata": {},
   "source": [
    "We have given the signals explicit names, as Python does not actually have knowledge of an objects symbol per se.\n",
    "The signal is initialized with the `intbv` wire of initial value `2`. The size is determined here by the slice notation.\n",
    "\n",
    "We now create a simple added expression entity as follows:"
   ]
  },
  {
   "cell_type": "code",
   "execution_count": 2,
   "id": "05534397-affa-41ac-91e5-e1aa44cf8365",
   "metadata": {},
   "outputs": [
    {
     "data": {
      "text/plain": [
       "ADD(a, b)"
      ]
     },
     "execution_count": 2,
     "metadata": {},
     "output_type": "execute_result"
    }
   ],
   "source": [
    "expr_add = a + b\n",
    "expr_add"
   ]
  },
  {
   "cell_type": "markdown",
   "id": "54e11167-01d0-4f16-adb3-24c7a0f6e2ec",
   "metadata": {},
   "source": [
    "This has generated an internal logic representation that can be emitted to a target. If we wish to inspect and evaluate it in a sequential way, we have to actually initialize the signals by using the IRL internal `.set` method:"
   ]
  },
  {
   "cell_type": "code",
   "execution_count": 3,
   "id": "620fb328-5856-4d40-80cb-b3b533b7c03f",
   "metadata": {},
   "outputs": [
    {
     "data": {
      "text/plain": [
       "(a <= 4, b <= 5, ADD(a, b))"
      ]
     },
     "execution_count": 3,
     "metadata": {},
     "output_type": "execute_result"
    }
   ],
   "source": [
    "seq = a.set(4), b.set(5), expr_add\n",
    "seq"
   ]
  },
  {
   "cell_type": "markdown",
   "id": "fd469264-b7cb-4f52-b246-96321d067549",
   "metadata": {},
   "source": [
    "We can now run this sequence as follows:"
   ]
  },
  {
   "cell_type": "code",
   "execution_count": 4,
   "id": "2d6242c3-46c3-4dbc-8b89-785707cb76b5",
   "metadata": {},
   "outputs": [
    {
     "name": "stdout",
     "output_type": "stream",
     "text": [
      "a <= 4 = 4\n",
      "b <= 5 = 5\n",
      "ADD(a, b) = 9\n"
     ]
    }
   ],
   "source": [
    "for s in seq:\n",
    "    print(s, \"=\", ret := s.evaluate())\n",
    "    \n",
    "assert ret == a.evaluate() + b.evaluate()"
   ]
  },
  {
   "cell_type": "markdown",
   "id": "c102b68e-9cd8-4cb8-b0be-1f0bd1731dfa",
   "metadata": {},
   "source": [
    "We have now done a trivial verification of the addition by running the same operation natively in python as well as in the IRL domain.\n",
    "\n",
    "We check the size of the result against the operand's:"
   ]
  },
  {
   "cell_type": "code",
   "execution_count": 5,
   "id": "73bd2633-922d-45f2-a359-208d76a746e8",
   "metadata": {},
   "outputs": [
    {
     "data": {
      "text/plain": [
       "(6, 7)"
      ]
     },
     "execution_count": 5,
     "metadata": {},
     "output_type": "execute_result"
    }
   ],
   "source": [
    "a.size(), expr_add.size()"
   ]
  },
  {
   "cell_type": "markdown",
   "id": "2a521556-e657-49c8-b5d2-1c273f5bee00",
   "metadata": {},
   "source": [
    "This is expected: An addition operation always extends the operands size by one in the result."
   ]
  },
  {
   "cell_type": "markdown",
   "id": "668659a2-d843-41d1-9f9d-36700d7fde92",
   "metadata": {},
   "source": [
    "## Operations\n",
    "\n",
    "Standard `Signal` types support a number of operations:\n",
    "   * Initialization, signed or unsigned\n",
    "   * Addition, Subtraction\n",
    "   * Multiplication\n",
    "   * Slicing, resizing (normally implicit)\n",
    "   * Shifting by **constant** values\n",
    "   * Signed operations: All the above with signed values\n",
    "   \n",
    "The thumb rule is as follows: Operations done with Python `bv` types of the class `BuiltinIntType` behave like integers for the above arithmetic operations, however maintain a bit length. Boundary checks of the wire type may be in place.\n",
    "\n",
    "Also, implicit truncation can occur, for example with a simple operation such as:\n",
    "`a.next = a + 1`, as we saw above. This will with the standard signal types throw a warning only."
   ]
  },
  {
   "cell_type": "markdown",
   "id": "c9930c07-30b0-47b6-aa1b-96baabf84e83",
   "metadata": {},
   "source": [
    "### Signed\n",
    "\n",
    "An intbv() wire can be initialized `min` and `max` value or with an explicit slice notation, like a Verilog declaration.\n",
    "If `min` is < 0, it's a signed value. To check that, we can use:"
   ]
  },
  {
   "cell_type": "code",
   "execution_count": 6,
   "id": "8aa74e76-b214-4380-885d-a4713879ada2",
   "metadata": {},
   "outputs": [
    {
     "data": {
      "text/plain": [
       "True"
      ]
     },
     "execution_count": 6,
     "metadata": {},
     "output_type": "execute_result"
    }
   ],
   "source": [
    "s = Signal(intbv(min=-8, max=7))\n",
    "s.is_signed()"
   ]
  },
  {
   "cell_type": "markdown",
   "id": "49feb164-fd0a-46b9-a24e-8d274de06455",
   "metadata": {},
   "source": [
    "### Basic operations:\n",
    "\n",
    "We have done an addition above, likewise, we can subtract:"
   ]
  },
  {
   "cell_type": "code",
   "execution_count": 7,
   "id": "2afa88e3-c010-4849-8652-e4224e366885",
   "metadata": {},
   "outputs": [
    {
     "data": {
      "text/plain": [
       "(ADD(a, b), SUB(a, SGN(<b>)))"
      ]
     },
     "execution_count": 7,
     "metadata": {},
     "output_type": "execute_result"
    }
   ],
   "source": [
    "a + b, a - b.signed()"
   ]
  },
  {
   "cell_type": "markdown",
   "id": "27e2a462-2f08-437f-8692-3e2b95e9597e",
   "metadata": {},
   "source": [
    "A multiplication:"
   ]
  },
  {
   "cell_type": "code",
   "execution_count": 8,
   "id": "db958c6f-acea-4bb0-8398-f93d4d003201",
   "metadata": {},
   "outputs": [
    {
     "data": {
      "text/plain": [
       "(20, 12, 20, 12)"
      ]
     },
     "execution_count": 8,
     "metadata": {},
     "output_type": "execute_result"
    }
   ],
   "source": [
    "ops = (ma := a * b, mb := a * b.signed())\n",
    "ma.evaluate(), ma.size(), mb.evaluate(), mb.size()"
   ]
  },
  {
   "cell_type": "markdown",
   "id": "d9f368b6-a9d4-46a2-9655-bbe9e3e3fc28",
   "metadata": {},
   "source": [
    "## Slicing and resizing\n",
    "\n",
    "Resizing and extending is a very controversial topic and VHDL and Verilog handle this matter very differently, especially when it comes to signed extension.\n",
    "\n",
    "We define a signal that can handle signed values in 12 bits. Then we define an assignment as an action expression:"
   ]
  },
  {
   "cell_type": "code",
   "execution_count": 9,
   "id": "ead1cde4-d60e-4028-ae3e-053d67e4dc60",
   "metadata": {},
   "outputs": [],
   "source": [
    "c = Signal(intbv()[12:].signed())\n",
    "\n",
    "action_s = c.set(b[4:].signed())"
   ]
  },
  {
   "cell_type": "markdown",
   "id": "00dcf39f-1ba6-4ae8-bf5b-6e4561007297",
   "metadata": {},
   "source": [
    "The sequence below sets `b` and performs the extension to the assigned destination size:"
   ]
  },
  {
   "cell_type": "code",
   "execution_count": 10,
   "id": "31453df2-562d-44b3-a315-bad84e97f6b0",
   "metadata": {},
   "outputs": [
    {
     "data": {
      "text/plain": [
       "intbv(-2)"
      ]
     },
     "execution_count": 10,
     "metadata": {},
     "output_type": "execute_result"
    }
   ],
   "source": [
    "seq = b.set(0x2e), action_s\n",
    "for i in seq:\n",
    "    ret = i.evaluate()\n",
    "\n",
    "ret"
   ]
  },
  {
   "cell_type": "markdown",
   "id": "192f22a9-eccd-48da-bef1-e32e8bda6918",
   "metadata": {},
   "source": [
    "The MSB of the slice is '1'. Thus, when interpreted as signed value, it will evaluate as `-2`. "
   ]
  },
  {
   "cell_type": "code",
   "execution_count": 11,
   "id": "73f95569-27f2-41ee-ad28-e41e1a3c6c21",
   "metadata": {},
   "outputs": [
    {
     "data": {
      "text/plain": [
       "'0b1110'"
      ]
     },
     "execution_count": 11,
     "metadata": {},
     "output_type": "execute_result"
    }
   ],
   "source": [
    "bin(b[4:].evaluate())"
   ]
  },
  {
   "cell_type": "markdown",
   "id": "a60ed378-4ae8-40f1-a043-3294251438a6",
   "metadata": {},
   "source": [
    "The sign extension for `c` produces the sign extended bit vector as follows (we need to create a mask to display the negative value in its raw bit representation):"
   ]
  },
  {
   "cell_type": "code",
   "execution_count": 12,
   "id": "fcbfc986-ad2f-4581-bd1c-e2076f0c273f",
   "metadata": {},
   "outputs": [
    {
     "data": {
      "text/plain": [
       "'0b111111111110'"
      ]
     },
     "execution_count": 12,
     "metadata": {},
     "output_type": "execute_result"
    }
   ],
   "source": [
    "bin(ret & ((1 << c.size()) -1))"
   ]
  },
  {
   "cell_type": "markdown",
   "id": "585ea9d4-6e00-4355-8225-30064e552d12",
   "metadata": {},
   "source": [
    "To assign this to an unsigned signal, we need to cast using `.unsigned()`. If we don't do that, the myhdl_intbv compatible range guard will complain."
   ]
  },
  {
   "cell_type": "code",
   "execution_count": 13,
   "id": "75caf8d7-e12a-4503-9174-08ef4880e168",
   "metadata": {},
   "outputs": [
    {
     "data": {
      "text/plain": [
       "'0b111111111110'"
      ]
     },
     "execution_count": 13,
     "metadata": {},
     "output_type": "execute_result"
    }
   ],
   "source": [
    "cu = Signal(intbv()[12:])\n",
    "v = c.unsigned()\n",
    "cu.set(v).evaluate()\n",
    "\n",
    "bin(cu.evaluate())"
   ]
  },
  {
   "cell_type": "markdown",
   "id": "36571ea6-aaec-4b3e-a39e-392217722229",
   "metadata": {},
   "source": [
    "## Auxiliary inspection tips\n",
    "\n",
    "A developer with a HDL background might want to see what the expression correponds to in VHDL or Verilog.\n",
    "\n",
    "This can be done by a dummy target context instance that is specified for the `.emit` method of a convertible expression."
   ]
  },
  {
   "cell_type": "code",
   "execution_count": 14,
   "id": "dd72c540-8082-440c-82bb-ba5d476e0fee",
   "metadata": {},
   "outputs": [
    {
     "name": "stdout",
     "output_type": "stream",
     "text": [
      "\u001b[94ms_4248 <= signed(resize(signed(b(4-1 downto 0)), 12));\n",
      "\u001b[0m"
     ]
    }
   ],
   "source": [
    "from myirl.targets.dummy import DummyTargetModule\n",
    "\n",
    "d = DummyTargetModule(targets.VHDL)\n",
    "\n",
    "action_s.emit(d)"
   ]
  },
  {
   "cell_type": "markdown",
   "id": "d53947b8-faa2-488c-af68-465de98e4301",
   "metadata": {},
   "source": [
    "## Signal type extensions\n",
    "\n",
    "Shift operations with non-constant values are not covered by the standard `Signal` class. The reason is, that this is no longer a trivial operation, it may actually infer complex logic. Therefore there are library extensions inheriting from the `Signal` class that support custom operations.\n",
    "\n",
    "### SSignal: Barrel shifter support\n",
    "\n",
    "Since the shift operation with variable width is more complex and will silently instance hardware inside the hierarchy, it can no longer be simply expressed in an interactive environment. We have to create a test unit.\n",
    "We can use an extended type in the signal interface, but then we can not pass a standard signal type. We therefore create an internal copy of the input as a `SSignal` type.\n",
    "For asynchronous direkt output, we use a continous assignment, see `connections`."
   ]
  },
  {
   "cell_type": "code",
   "execution_count": 15,
   "id": "297975c5-06f4-4d87-b3f7-f8515f6e8656",
   "metadata": {},
   "outputs": [],
   "source": [
    "from myirl.library.shift import SSignal\n",
    "\n",
    "\n",
    "@block\n",
    "def shifter_unit(a : Signal, q : Signal.Output, sa : Signal):\n",
    "    \n",
    "    sz = q.size()\n",
    "    ia = SSignal(intbv(1)[sz:])\n",
    "\n",
    "    connections = [\n",
    "        ia    @assign@   a,\n",
    "        q     @assign@   (ia << sa)\n",
    "    ]\n",
    "    \n",
    "    return instances()"
   ]
  },
  {
   "cell_type": "markdown",
   "id": "470b25b4-f5d9-40bb-a4ce-5e79662fc0d0",
   "metadata": {},
   "source": [
    "Then we create an instance using 16 bit shift registers:"
   ]
  },
  {
   "cell_type": "code",
   "execution_count": 16,
   "id": "20db357d-4d38-46ac-91c8-c2e3182fbfd3",
   "metadata": {},
   "outputs": [
    {
     "name": "stdout",
     "output_type": "stream",
     "text": [
      "\u001b[32m DEBUG Inline builtin instance [block_inline 'bshifter_inline/bshifter_inline'] \u001b[0m\n",
      "\u001b[7;35m Declare obj 'bshifter_inline' in context '(EmulationModule 'shifter_unit')'(<class 'myirl.emulation.myhdl2irl.EmulationModule'>) \u001b[0m\n",
      "\u001b[32m Module shifter_unit: Existing instance bs_stage, rename to bs_stage_1 \u001b[0m\n",
      "\u001b[32m Module shifter_unit: Existing instance bs_stage, rename to bs_stage_2 \u001b[0m\n",
      "\u001b[32m Module shifter_unit: Existing instance bs_stage, rename to bs_stage_3 \u001b[0m\n"
     ]
    }
   ],
   "source": [
    "sa = Signal(intbv()[4:], name = 'sa')\n",
    "u, v = [ Signal(intbv(1)[16:], name = n) for n in \"ab\" ]\n",
    "uut = shifter_unit(u, v, sa)"
   ]
  },
  {
   "cell_type": "markdown",
   "id": "02d4d76a-9d84-4ad9-be43-364fcc83acf9",
   "metadata": {},
   "source": [
    "To see the Verilog result, we elaborate as follows:"
   ]
  },
  {
   "cell_type": "code",
   "execution_count": 17,
   "id": "8fc6606b-319d-4bd7-8912-b1fccd60cb4b",
   "metadata": {},
   "outputs": [
    {
     "name": "stdout",
     "output_type": "stream",
     "text": [
      " Writing 'shifter_unit' to file /tmp/myirl_shifter_unit_vmx_p1w1/shifter_unit.v \n",
      "DEBUG Fallback wire for sa\n"
     ]
    }
   ],
   "source": [
    "f = uut.elab(targets.Verilog)"
   ]
  },
  {
   "cell_type": "markdown",
   "id": "2951306f-a32b-4828-b993-f927c85746d4",
   "metadata": {},
   "source": [
    "The generated HDL file:"
   ]
  },
  {
   "cell_type": "code",
   "execution_count": 18,
   "id": "d02cd4c4-a225-4525-a285-a8ad6c627503",
   "metadata": {},
   "outputs": [
    {
     "name": "stdout",
     "output_type": "stream",
     "text": [
      "// File generated from source:\r\n",
      "//     /tmp/ipykernel_1367/29456133.py\r\n",
      "// (c) 2016-2022 section5.ch\r\n",
      "// Modifications may be lost, edit the source file instead.\r\n",
      "\r\n",
      "`timescale 1 ns / 1 ps\r\n",
      "`include \"aux.v\"\r\n",
      "// Architecture cyriteHDL\r\n",
      "\r\n",
      "module shifter_unit\r\n",
      "    (\r\n",
      "        input wire [15:0] a,\r\n",
      "        output wire [15:0] q,\r\n",
      "        input wire [3:0] sa\r\n",
      "    );\r\n",
      "    // Local type declarations\r\n",
      "    // Signal declarations\r\n",
      "    wire [15:0] s_9558;\r\n",
      "    wire [15:0] ia;\r\n",
      "    assign  ia = a;\r\n",
      "    assign  q = s_9558;\r\n",
      "    \r\n",
      "    // Instance bshifter_inline\r\n",
      "    bshifter_inline\r\n",
      "        bshifter_inline_1\r\n",
      "        (\r\n",
      "            .d(ia),\r\n",
      "            .sh(sa),\r\n",
      "            .result(s_9558)\r\n",
      "        );\r\n",
      "endmodule // shifter_unit\r\n"
     ]
    }
   ],
   "source": [
    "!cat {f[0]}"
   ]
  },
  {
   "cell_type": "markdown",
   "id": "f0fa2be1-6cf3-406d-bb84-6b9acd9b30e9",
   "metadata": {},
   "source": [
    "This exposes a problem, which leads us to the following...\n",
    "\n",
    "\n",
    "**Issues**:\n",
    "*  Ony inside `@always(clk.posedge)` process for clock synchronous output. Otherwise use a direct connection.\n",
    "\n",
    "If we did use a process that is sensitive to the input, we would actually create a faulty behaviour model, as auxiliary signals are inserted. This would not be a problem for synthesis, but for HDL simulation. Therefore the inline shifter unit creation will throw an exception when used in an asychronous process."
   ]
  },
  {
   "cell_type": "markdown",
   "id": "b9b3bad0-1f5c-4b79-988b-c5ce5d90c889",
   "metadata": {},
   "source": [
    "## Standard logic and Tristate\n",
    "\n",
    "In hardware, we normally have '0' and '1' as a logic state. However with bidirectional pins, we require a third, 'Z' state, depending on an implicit driver.\n",
    "\n",
    "When dealing with uninitialized values or special simulation constructs, the standard logic from VHDL or Verilog may come in handy. These scenarios require extra extended Signal types as well.\n",
    "\n",
    "See [Standard logic](stdlogic.ipynb) for more details."
   ]
  }
 ],
 "metadata": {
  "kernelspec": {
   "display_name": "Python 3 (ipykernel)",
   "language": "python",
   "name": "python3"
  },
  "language_info": {
   "codemirror_mode": {
    "name": "ipython",
    "version": 3
   },
   "file_extension": ".py",
   "mimetype": "text/x-python",
   "name": "python",
   "nbconvert_exporter": "python",
   "pygments_lexer": "ipython3",
   "version": "3.10.0"
  }
 },
 "nbformat": 4,
 "nbformat_minor": 5
}

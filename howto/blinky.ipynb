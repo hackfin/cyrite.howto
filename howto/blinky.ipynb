{
 "cells": [
  {
   "cell_type": "markdown",
   "id": "bcda6887-a862-4c4d-8037-71dd0317c884",
   "metadata": {},
   "source": [
    "# Blinky\n",
    "\n",
    "This blinky variant simply toggles a LED when a counter unit reaches  certain value. First, we import the necessary cyHDL API:"
   ]
  },
  {
   "cell_type": "code",
   "execution_count": 1,
   "id": "74e5f891-d992-41e9-a9c8-5b63f8480d9b",
   "metadata": {},
   "outputs": [],
   "source": [
    "from cyhdl import *"
   ]
  },
  {
   "cell_type": "markdown",
   "id": "e7cc08a6-6359-4484-b4de-562e58fec3e2",
   "metadata": {},
   "source": [
    "We define a basic type `Bool` and a `Register` type of with 8:"
   ]
  },
  {
   "cell_type": "code",
   "execution_count": 2,
   "id": "06370e1e-7f98-4969-8d6e-ab6f96b8d3a5",
   "metadata": {},
   "outputs": [],
   "source": [
    "Bool = Signal.Type(bool)\n",
    "Register = Signal.Type(intbv, 10)"
   ]
  },
  {
   "cell_type": "markdown",
   "id": "f156a43f-b271-487a-8808-8221a69a6fab",
   "metadata": {},
   "source": [
    "Finally, we define a hardware block with a few pins and a `cfg` register:"
   ]
  },
  {
   "cell_type": "code",
   "execution_count": 3,
   "id": "46fb6eba-6542-4934-a414-61605d0ab1dc",
   "metadata": {},
   "outputs": [],
   "source": [
    "@block\n",
    "def blinky(clk   : ClkSignal,\n",
    "           en    : Bool,\n",
    "           reset : ResetSignal,\n",
    "           outp  : Bool.Output,\n",
    "           cfg   : Register  ):\n",
    "\n",
    "    counter = Signal(intbv(0)[16:])\n",
    "    val = Bool(0)\n",
    "    \n",
    "    @always_seq(clk.posedge, reset)\n",
    "    def worker():\n",
    "        # When enable set, set counter's .next value to incremented\n",
    "            \n",
    "        if counter[:8] == cfg[8:]:\n",
    "            val.next = ~val # remember: assign signals using .next! \n",
    "            counter.next = 0\n",
    "        elif en:\n",
    "            counter.next = counter + 1\n",
    "\n",
    "            \n",
    "    # This is a simple list of primitives. A .wireup is a simple assignment outside\n",
    "    # a process\n",
    "    logic = [\n",
    "        outp.wireup(val)\n",
    "            ]\n",
    "    \n",
    "    return instances()"
   ]
  },
  {
   "cell_type": "markdown",
   "id": "ca668d81-c19b-42c8-9081-05ed85f2bea5",
   "metadata": {},
   "source": [
    "## Testing/simulating the unit\n",
    "\n",
    "In order to simulate the functionality of the blinky unit, we need to build a test bench - like virtual peripherals stimulating and probing the pins of the unit under test (`uut`).\n",
    "\n",
    "We use an external simulator (GHDL or Icarus Verilog) in this configuration. The testbench including the uut is emit to the target HDL and passed on to the chosen simulator backend. There is no co-simulation taking place in this scenario.\n",
    "\n",
    "Because the testbench code is transpiled to HDL, a `@block` decorator is present. Note that a testbench executed in native Python (using a different `Sim` simulator backend) would omit that decorator.\n",
    "\n",
    "Because Signal classes can depend on the simulator, future compatible practise is to use the simulator signal class members as top level signals in the test bench. Because writing portable testbenches is of a more complex subject, we stick with the static variant below:"
   ]
  },
  {
   "cell_type": "code",
   "execution_count": 4,
   "id": "658f8e5e-2a26-409c-83b7-2f0e8478ffdb",
   "metadata": {},
   "outputs": [],
   "source": [
    "# from myirl.test.ghdl import GHDL as Sim\n",
    "from myirl.test.icarus import ICARUS as Sim\n",
    "from cyrite.simulation import sim\n",
    "\n",
    "@sim.testbench(Sim, time_unit = 'ns')\n",
    "@block\n",
    "def testbench():\n",
    "    clk = Sim.ClkSignal()\n",
    "    reset = Sim.ResetSignal(1, 1, isasync = False)\n",
    "    \n",
    "    assert reset.init == True\n",
    "    \n",
    "    ce = Sim.Signal(bool())\n",
    "    \n",
    "    led = Sim.Signal(bool())\n",
    "    \n",
    "    a = Sim.Signal(intbv()[10:])\n",
    "    evt = Bool()\n",
    "\n",
    "    uut = blinky(clk = clk, en = ce, reset = reset, outp = led, cfg = a)\n",
    "\n",
    "    @always(delay(2))\n",
    "    def clkgen():\n",
    "        clk.next = ~ clk\n",
    "\n",
    "    @sequence\n",
    "    def main():\n",
    "        evt.next = False\n",
    "        yield delay(1)\n",
    "        assert reset == True\n",
    "        evt.next = ~evt\n",
    "        yield delay(20)\n",
    "        a.next = 6\n",
    "        evt.next = ~evt\n",
    "        yield delay(10)\n",
    "        evt.next = ~evt\n",
    "        reset.next = False\n",
    "        yield delay(10)\n",
    "        evt.next = ~evt\n",
    "        assert led == False  # XXX Not on CXXRTL simulator\n",
    "        ce.next = True\n",
    "        yield delay(20)\n",
    "        print(\"Wait for output to toggle\")\n",
    "        evt.next = ~evt\n",
    "        # This waits for a rising edge of the led signal:\n",
    "        yield led.posedge # XXX non-portable to CXXRTL simulator\n",
    "        print(\"Output toggled\")\n",
    "        yield delay(50)\n",
    "        evt.next = ~evt\n",
    "        print(\"Simulation finished\")\n",
    "        raise StopSimulation\n",
    "\n",
    "    return locals()"
   ]
  },
  {
   "cell_type": "markdown",
   "id": "8b629fa4-b2cf-45b0-af13-73a1e1fa702d",
   "metadata": {},
   "source": [
    "This test bench simply waits for the `led` output to become high using a `yield sig.posedge` construct.\n",
    "\n",
    "A few important things to note:\n",
    "   * A .posedge or .negedge event waiter using yield is not portable among all simulator back ends and is only guaranteed to work via a target language\n",
    "   * Always terminate the simulation with a `raise StopSimulation` statement, otherwise simulation may keep running in some simulation back ends\n",
    "   * The @block decorator is necessary when a translation of the testbench to another language occurs. This is not the case with a co-simulation setup, where the testbench is not translated to another HDL, like the CXXRTL simulator backend\n",
    "   \n",
    "Finally, we instance the testbench and run it:"
   ]
  },
  {
   "cell_type": "code",
   "execution_count": 5,
   "id": "8752be1f-3585-4f33-bad3-dc7ed6798304",
   "metadata": {},
   "outputs": [
    {
     "name": "stdout",
     "output_type": "stream",
     "text": [
      " Writing 'blinky' to file /tmp/blinky.v \n",
      "DEBUG Fallback wire for reset\n",
      "Warning: Implicit truncation of ADD(counter, C:1) result\n",
      " Writing 'testbench' to file /tmp/testbench.v \n",
      " Note: Changing library path prefix to /tmp/ \n",
      " Creating library file /tmp/module_defs.v \n",
      "DEBUG FILES ['/tmp/blinky.v', '/tmp/testbench.v']\n",
      "==== COSIM stdout ====\n",
      "VCD info: dumpfile testbench.vcd opened for output.\n",
      "Wait for output to toggle \n",
      "Output toggled \n",
      "Simulation finished \n",
      "Stop Simulation\n",
      "\n"
     ]
    },
    {
     "name": "stderr",
     "output_type": "stream",
     "text": [
      "/home/cyrite/.local/lib/python3.10/site-packages/cyritehdl-0.1b0-py3.10-linux-x86_64.egg/myirl/test/icarus.py:40: UserWarning: Ignoring wavetrace argument for Verilog simulator\n",
      "  warnings.warn(\"Ignoring wavetrace argument for Verilog simulator\")\n",
      "/home/cyrite/.local/lib/python3.10/site-packages/cyritehdl-0.1b0-py3.10-linux-x86_64.egg/myirl/kernel/_types.py:579: UserWarning: Non-ClkSignal 'led' edge event reference.\n",
      "You might want to use ClkSignal instead.\n",
      "  base.warnings.warn(\"Non-ClkSignal '%s'\" % obj.identifier + \\\n"
     ]
    }
   ],
   "source": [
    "def test_simulation(n):\n",
    "    t = testbench()\n",
    "    t.run(n, debug = True, wavetrace = \"testbench.vcd\")\n",
    "    return t\n",
    "\n",
    "t = test_simulation(200)"
   ]
  },
  {
   "cell_type": "markdown",
   "id": "9f5b6af0-9ed0-4d73-a805-ba671e7c86c7",
   "metadata": {},
   "source": [
    "## Waveform display\n",
    "\n",
    "The waveform plugin for notebooks displays signals in a schematic way based on the changes of a sampling signal. Whenever this signal toggles, changes of all other signals are displayed. Unlike a true `.vcd` display such as GTKWave, this is not timing accurate.\n",
    "\n",
    "In this case, we used a manually toggled `evt` signal to sample. Otherwise, we would end up with an unreadable trace if we used `clk`."
   ]
  },
  {
   "cell_type": "code",
   "execution_count": 6,
   "id": "b80cff29-8943-42d3-b6b2-1b323a7f7522",
   "metadata": {},
   "outputs": [
    {
     "data": {
      "text/html": [
       "<div><script type=\"WaveDrom\">{\"signal\": [{\"name\": \"testbench.led\", \"wave\": \"x.0...1\", \"data\": \"x01\"}, {\"name\": \"testbench.a[9:0]\", \"wave\": \"x.=....\", \"data\": \"06 \"}, {\"name\": \"testbench.ce\", \"wave\": \"x...1..\", \"data\": \"x1\"}, {\"name\": \"testbench.clk_c209\", \"wave\": \"0.10101\", \"data\": \"010101\"}, {\"name\": \"testbench.evt\", \"wave\": \"0101010\", \"data\": \"0101010\"}, {\"name\": \"testbench.reset\", \"wave\": \"1..0...\", \"data\": \"10\"}, {\"name\": \"testbench.blinky_0.cfg[9:0]\", \"wave\": \"x.=....\", \"data\": \"06 \"}, {\"name\": \"testbench.blinky_0.counter[15:0]\", \"wave\": \"x.=..==\", \"data\": \"00 01 02 \"}, {\"name\": \"testbench.blinky_0.val\", \"wave\": \"x.0...1\", \"data\": \"x01\"}]}</script></div>"
      ]
     },
     "metadata": {},
     "output_type": "display_data"
    },
    {
     "data": {
      "application/javascript": [
       "new Promise(function(resolve, reject) {\n",
       "\tvar script = document.createElement(\"script\");\n",
       "\tscript.onload = resolve;\n",
       "\tscript.onerror = reject;\n",
       "\tscript.src = \"https://wavedrom.com/wavedrom.min.js\";\n",
       "\tdocument.head.appendChild(script);\n",
       "}).then(() => {\n",
       "new Promise(function(resolve, reject) {\n",
       "\tvar script = document.createElement(\"script\");\n",
       "\tscript.onload = resolve;\n",
       "\tscript.onerror = reject;\n",
       "\tscript.src = \"https://wavedrom.com/skins/narrow.js\";\n",
       "\tdocument.head.appendChild(script);\n",
       "}).then(() => {\n",
       "WaveDrom.ProcessAll();\n",
       "});\n",
       "});"
      ]
     },
     "metadata": {},
     "output_type": "display_data"
    }
   ],
   "source": [
    "from cyrite import waveutils\n",
    "\n",
    "waveutils.draw_wavetrace(t, \"testbench.vcd\", \"evt\")"
   ]
  },
  {
   "cell_type": "markdown",
   "id": "c497fe85-6503-4241-99ad-53923a3656ad",
   "metadata": {},
   "source": [
    "In some cases we might want not to display all signals. This is done using a wave config specification which is a simple dictionary whose keys are the signal name and the value `None` or a delta time specification. The delta is only used in special cases where a signal change must be elaborated in particular."
   ]
  },
  {
   "cell_type": "code",
   "execution_count": 7,
   "id": "b9a79ed5-924c-41e9-9de1-59551118cb21",
   "metadata": {},
   "outputs": [
    {
     "data": {
      "text/html": [
       "<div><script type=\"WaveDrom\">{\"signal\": [{\"name\": \"testbench.evt\", \"wave\": \"0101010\", \"data\": \"0101010\"}, {\"name\": \"testbench.reset\", \"wave\": \"1..0...\", \"data\": \"10\"}, {\"name\": \"testbench.led\", \"wave\": \"x.0...1\", \"data\": \"x01\"}]}</script></div>"
      ]
     },
     "metadata": {},
     "output_type": "display_data"
    },
    {
     "data": {
      "application/javascript": [
       "new Promise(function(resolve, reject) {\n",
       "\tvar script = document.createElement(\"script\");\n",
       "\tscript.onload = resolve;\n",
       "\tscript.onerror = reject;\n",
       "\tscript.src = \"https://wavedrom.com/wavedrom.min.js\";\n",
       "\tdocument.head.appendChild(script);\n",
       "}).then(() => {\n",
       "new Promise(function(resolve, reject) {\n",
       "\tvar script = document.createElement(\"script\");\n",
       "\tscript.onload = resolve;\n",
       "\tscript.onerror = reject;\n",
       "\tscript.src = \"https://wavedrom.com/skins/narrow.js\";\n",
       "\tdocument.head.appendChild(script);\n",
       "}).then(() => {\n",
       "WaveDrom.ProcessAll();\n",
       "});\n",
       "});"
      ]
     },
     "metadata": {},
     "output_type": "display_data"
    }
   ],
   "source": [
    "wavecfg = { 'testbench.evt' : None,\n",
    "           'testbench.reset' : None,\n",
    "           'testbench.led' : None }\n",
    "\n",
    "waveutils.draw_wavetrace(t, \"testbench.vcd\", \"evt\", cfg = wavecfg)"
   ]
  },
  {
   "cell_type": "markdown",
   "id": "567ceb09-1ae3-432e-bf5d-22346a7338a0",
   "metadata": {},
   "source": [
    "## Advanced simulation\n",
    "\n",
    "The above check for a rising signal is a little cheap. We would like to verify a real blink timing.\n",
    "Moreover, there are non-HDL simulation back ends that do not transpile the code as noted. We also get a warning for using the `led` signal as an event trigger. This is bad practise, because we actually don't know from the front end, when `led` is rising. Internally, the simulation will therefore check repeatedly for this signal to be rising and possibly burn a lot of time.\n",
    "\n",
    "Then, the above simulation setup is specific to a HDL transpilation. We hoever might want to compile the synthesizeable elements into executable code and drive it from the test bench using co-simulation.\n",
    "To easily switch between various simulation and synthesis targets, a top level design module class is the better investment into the future of possibly growing complexity of the design.\n",
    "\n",
    "In particular, when designs get big, simulation can slow down. A way to speed this up is using a less timing precise but faster running edition of compiled logic using the CXXRTL backend of yosys.\n",
    "\n",
    "Due to its architecture and lack of built-in delta stepping capabilities, a statement such as the above `yield led.posedge` is not allowed in a CXXRTL cosimulation context. It will have to be explicitely checked each clock cycle if it has changed.\n",
    "\n",
    "See [Simulation](simulation.ipynb) on how complex simulation designs are set up."
   ]
  }
 ],
 "metadata": {
  "kernelspec": {
   "display_name": "Python 3 (ipykernel)",
   "language": "python",
   "name": "python3"
  },
  "language_info": {
   "codemirror_mode": {
    "name": "ipython",
    "version": 3
   },
   "file_extension": ".py",
   "mimetype": "text/x-python",
   "name": "python",
   "nbconvert_exporter": "python",
   "pygments_lexer": "ipython3",
   "version": "3.10.0"
  }
 },
 "nbformat": 4,
 "nbformat_minor": 5
}

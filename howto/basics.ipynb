{
 "cells": [
  {
   "cell_type": "markdown",
   "id": "13318b0a-9809-448a-bf80-01d19cedc8e0",
   "metadata": {},
   "source": [
    "# Basics\n",
    "\n",
    "(on language constructs to create hardware)\n",
    "\n",
    "A description of a digital hardware circuit is a priori event sensitive, i.e. if a source signal changes, it will propagate. We therefore have to deal with a `Signal` data type. This is a wrapper for any other, possibly built-in wire type, like a bool.\n",
    "\n",
    "For integer types with defined bit length, a new class is required that emulates integer calculations up to some point. This is covered by the `intbv` integer bit vector class.\n",
    "\n",
    "**Note** The intbv class name was taken from its MyHDL origin. However, it is not entirely compatible to it and is in fact based on a redesigned emulation handled by the internal `sig` kernel..\n",
    "\n",
    "Once a cyrite Signal type is combined with a binary operator such as '+', it will return a convertible expression type, not the actual result. In fact, it will create a logic element immediately. Let's examine this:"
   ]
  },
  {
   "cell_type": "code",
   "execution_count": 1,
   "id": "19ec92b2-4dee-42bc-a447-11330b1915af",
   "metadata": {},
   "outputs": [],
   "source": [
    "from cyhdl import *\n",
    "\n",
    "a, b = [ Signal(intbv(0x1f0)[9:], name = n) for n in \"ab\" ]"
   ]
  },
  {
   "cell_type": "code",
   "execution_count": 2,
   "id": "f3038131-b931-481f-9f22-b70e5dcc3db8",
   "metadata": {},
   "outputs": [],
   "source": [
    "expr_add = a + b"
   ]
  },
  {
   "cell_type": "code",
   "execution_count": 3,
   "id": "2ce5b89a-8755-45d5-84dd-2c23696fd5f8",
   "metadata": {},
   "outputs": [
    {
     "data": {
      "text/plain": [
       "ADD(a, b)"
      ]
     },
     "execution_count": 3,
     "metadata": {},
     "output_type": "execute_result"
    }
   ],
   "source": [
    "expr_add"
   ]
  },
  {
   "cell_type": "markdown",
   "id": "52e55505-8dac-4a70-99b6-65413a84be43",
   "metadata": {},
   "source": [
    "To get at the actual result, the expression must be evaluated:"
   ]
  },
  {
   "cell_type": "code",
   "execution_count": 4,
   "id": "d3d6814b-c7ec-4882-b944-df2c31576f27",
   "metadata": {},
   "outputs": [
    {
     "data": {
      "text/plain": [
       "992"
      ]
     },
     "execution_count": 4,
     "metadata": {},
     "output_type": "execute_result"
    }
   ],
   "source": [
    "expr_add.evaluate()"
   ]
  },
  {
   "cell_type": "markdown",
   "id": "9067b3a0-e86d-4e01-86cc-3ff9b5502564",
   "metadata": {},
   "source": [
    "An expression by itself does not really create any logic yet, because it is not connected. Once we assign it to a signal usingn `.set`, we have a synthesizeable instance:"
   ]
  },
  {
   "cell_type": "code",
   "execution_count": 5,
   "id": "c43cb9e1-f87d-42e7-8300-fd275e8a1e50",
   "metadata": {},
   "outputs": [],
   "source": [
    "action = a.set(expr_add)"
   ]
  },
  {
   "cell_type": "markdown",
   "id": "b4b30636-02a3-4733-83e1-2cf3b16fa7db",
   "metadata": {},
   "source": [
    "We can evaluate this action as well, but it may go wrong:"
   ]
  },
  {
   "cell_type": "code",
   "execution_count": 6,
   "id": "5e8882c5-f76f-496b-a250-1f87c7f1afd1",
   "metadata": {},
   "outputs": [
    {
     "name": "stdout",
     "output_type": "stream",
     "text": [
      "Failure: intbv value 992 >= maximum 512\n"
     ]
    }
   ],
   "source": [
    "try:\n",
    "    action.evaluate()\n",
    "except Exception as e:\n",
    "    print(\"Failure:\", e)"
   ]
  },
  {
   "cell_type": "markdown",
   "id": "d7c2d9dc-5a89-412d-b484-3582b858d7f1",
   "metadata": {},
   "source": [
    "Evaluation will actually assign the value to the internal wire value. Repeated evaluation of the above will thus increase the value, but always report an error."
   ]
  },
  {
   "cell_type": "markdown",
   "id": "ab34e405-a796-402c-8a5f-d748d84098b0",
   "metadata": {},
   "source": [
    "Two things happened here:\n",
    "   * Signal `a` is driven, it is here driver and source, simultaneosly\n",
    "   * An abstract adder logic was created, that can result in a synthesizeable hardware element, or it can be simulated."
   ]
  },
  {
   "cell_type": "markdown",
   "id": "4459af71-8061-46bc-a9bd-348afb904c30",
   "metadata": {},
   "source": [
    "Now here's a catch: `a` is Source and Driver in the same expression. This is *combinatorial loop*. If this was instanced into a hardware element, such a loop would produce new values at high frequencies and a delay would come into play.\n",
    "\n",
    "Such a construct is therefore only valid inside a clocked construction, where the value is assigned at the event of a rising or falling edge, not at the change of the source a.\n",
    "\n",
    "We can import such a Flip flop from an example library. It is instanced like a function with the result of a synthesizeable expression."
   ]
  },
  {
   "cell_type": "code",
   "execution_count": 7,
   "id": "e7ce03f1-cf76-4ef7-b83f-104b4b696b2c",
   "metadata": {},
   "outputs": [],
   "source": [
    "from cyrite.examples.libprimitives import MyPrimitives\n",
    "\n",
    "m = MyPrimitives(\"\")\n",
    "ff = m.SFF"
   ]
  },
  {
   "cell_type": "markdown",
   "id": "a7e5c621-a98f-493f-ab09-c899681a6f31",
   "metadata": {},
   "source": [
    "However, the `ff` is context sensitive and its instancing process implicitely checks the parenting hierarchy. Therefore we have to pack it into a hardware unit with port inputs and outputs.\n",
    "We also need to create a specific clock signal instance."
   ]
  },
  {
   "cell_type": "code",
   "execution_count": 8,
   "id": "1cf4a9e4-f3d4-4892-addc-ea35ca66bb53",
   "metadata": {},
   "outputs": [],
   "source": [
    "from myirl.kernel.sensitivity import genprocess\n",
    "clk = ClkSignal()\n",
    "\n",
    "@block\n",
    "def worker(clk : ClkSignal, a, b):\n",
    "    \n",
    "    action = a.set(ff(clk, a + b))\n",
    "    \n",
    "    return  [ action ]"
   ]
  },
  {
   "cell_type": "markdown",
   "id": "2b6262f3-e3f9-41f1-9dda-d7c11c1313c0",
   "metadata": {},
   "source": [
    "Then we create an instance of this hardware block:"
   ]
  },
  {
   "cell_type": "code",
   "execution_count": 9,
   "id": "e8e6f4b0-9998-4650-9ef0-6ec43e181709",
   "metadata": {},
   "outputs": [
    {
     "name": "stdout",
     "output_type": "stream",
     "text": [
      "\u001b[32m DEBUG Inline blackbox instance [_inline_component 'SFF/SFF'] \u001b[0m\n"
     ]
    }
   ],
   "source": [
    "uut = worker(clk, a, b)"
   ]
  },
  {
   "cell_type": "markdown",
   "id": "eea866d9-ce41-4956-b052-9be72dda3acc",
   "metadata": {},
   "source": [
    "Now there's a problem: This will actually refuse to transfer to synthesis. Why is that? The `@block` design rules require well defined in- or outputs. However, Signal `a` is driver and source at the same time. Also, how would we determine a start value for a? We have to introduce a 'reset' and thus need to rewrite it such that it assigns the initial value at the reset event. This would become unreadable for the above construction. Therefore we rewrite it as follows:"
   ]
  },
  {
   "cell_type": "code",
   "execution_count": 10,
   "id": "35a00a56-74a1-40bb-8dde-5dc2dc86a988",
   "metadata": {},
   "outputs": [],
   "source": [
    "@block\n",
    "def unit_add(clk : ClkSignal, reset : ResetSignal,\n",
    "            a_init, a: Signal.Output, b : Signal):\n",
    "    \n",
    "    w = a.clone(\"a_internal\")\n",
    "    \n",
    "    @always(clk.posedge)\n",
    "    def worker():\n",
    "        if reset:\n",
    "            w.next = a_init\n",
    "        else:\n",
    "            w.next = w + b\n",
    "            \n",
    "    assignments = [\n",
    "        a   @assign@   w\n",
    "    ]\n",
    "    \n",
    "    return instances()"
   ]
  },
  {
   "cell_type": "markdown",
   "id": "5e52d2c0-111d-45a2-a95c-a4fb00ec8b95",
   "metadata": {},
   "source": [
    "We make an internal copy of the resulting `a` signal. Then, the `@always` process defines the functionality in a notation differing from the above `.set` action using the MyHDL-alike `.next` assignment. Behind the curtains, this `@always` process is translated into an intermediate representation. This is explained further below.\n",
    "\n",
    "From the parent, we define the size of `a` to have some head room:"
   ]
  },
  {
   "cell_type": "code",
   "execution_count": 11,
   "id": "206175e5-dc91-4ea8-bf02-890e465eb903",
   "metadata": {},
   "outputs": [],
   "source": [
    "a = Signal(intbv()[20:])\n",
    "reset = ResetSignal(True, True)\n",
    "uut = unit_add(clk, reset, 5, a, b)"
   ]
  },
  {
   "cell_type": "markdown",
   "id": "22e0e189-5006-47dc-8b20-9d540ff3db13",
   "metadata": {},
   "source": [
    "At a later point, we can verify if this instance is doing the right thing. For now, we synthesize it into hardware via the `pyosys` target.\n",
    "\n",
    "When we call the .elab method by specifying a RTLIL target instance, we get a list of design elements. We pick the first, which is always the top level design."
   ]
  },
  {
   "cell_type": "code",
   "execution_count": 12,
   "id": "93d83e8d-a5a3-4eb4-b366-00a8588169f1",
   "metadata": {},
   "outputs": [
    {
     "name": "stdout",
     "output_type": "stream",
     "text": [
      "\u001b[32m Adding module with name `unit_add` \u001b[0m\n",
      "\u001b[7;34m FINALIZE implementation `unit_add` of `unit_add` \u001b[0m\n"
     ]
    }
   ],
   "source": [
    "from myirl.targets import pyosys\n",
    "\n",
    "d = uut.elab(pyosys.RTLIL(\"top\"))\n",
    "design = d[0]"
   ]
  },
  {
   "cell_type": "markdown",
   "id": "3702a175-d8b8-4715-9cc4-69349a5120c4",
   "metadata": {},
   "source": [
    "### RTL display\n",
    "\n",
    "Once the design has entered the yosys RTLIL object world, it can be displayed using the yosys internal `.dot` output. This is a rudimentary debugging method however and should not be used for large designs."
   ]
  },
  {
   "cell_type": "code",
   "execution_count": 13,
   "id": "5ea7ee3f-68c2-4f81-830a-a7c3a058e4ab",
   "metadata": {},
   "outputs": [
    {
     "data": {
      "text/html": [
       "\n",
       "        <div class=\"svg_container_1715191841\">\n",
       "            <style>\n",
       "                .svg_container_1715191841 {\n",
       "                    overflow:hidden\n",
       "                }\n",
       "                .svg_container_1715191841 SVG {\n",
       "                    height:auto\n",
       "                }\n",
       "            </style>\n",
       "            <script src=\"https://section5.ch/svg-pan-zoom.min.js\"></script>\n",
       "            <script type=\"text/javascript\">\n",
       "                attempts = 5;\n",
       "                var existCondition = setInterval(function() {\n",
       "                  console.log(attempts);\n",
       "                  svg_el = document.querySelector(\".svg_container_1715191841 svg\");\n",
       "                  if (svg_el != null) {\n",
       "                      console.log(\"Exists!\");\n",
       "                      clearInterval(existCondition);\n",
       "                      svgPanZoom(svg_el, {controlIconsEnabled: true, zoomScaleSensitivity: 0.4, minZoom: 0.2});\n",
       "                  }\n",
       "                  if (--attempts == 0) {\n",
       "                      console.warn(\"SVG element not found, zoom wont work\");\n",
       "                      clearInterval(existCondition);\n",
       "                  }\n",
       "                }, 100); // check every 100ms\n",
       "            </script>\n",
       "            <svg xmlns=\"http://www.w3.org/2000/svg\" xmlns:xlink=\"http://www.w3.org/1999/xlink\" width=\"1224pt\" height=\"255pt\" viewBox=\"0.00 0.00 1223.57 255.04\">\n",
       "<g id=\"graph0\" class=\"graph\" transform=\"scale(1 1) rotate(0) translate(4 251.04)\">\n",
       "<title>unit_add</title>\n",
       "<polygon fill=\"white\" stroke=\"transparent\" points=\"-4,4 -4,-251.04 1219.57,-251.04 1219.57,4 -4,4\"/>\n",
       "<text text-anchor=\"middle\" x=\"607.79\" y=\"-7.8\" font-family=\"Times,serif\" font-size=\"14.00\">unit_add</text>\n",
       "<!-- n6 -->\n",
       "<g id=\"node1\" class=\"node\">\n",
       "<title>n6</title>\n",
       "<polygon fill=\"none\" stroke=\"black\" points=\"54,-122.54 54,-137.46 38.18,-148 15.82,-148 0,-137.46 0,-122.54 15.82,-112 38.18,-112 54,-122.54\"/>\n",
       "<text text-anchor=\"middle\" x=\"27\" y=\"-126.3\" font-family=\"Times,serif\" font-size=\"14.00\">b</text>\n",
       "</g>\n",
       "<!-- x0 -->\n",
       "<g id=\"node9\" class=\"node\">\n",
       "<title>x0</title>\n",
       "<path fill=\"none\" stroke=\"black\" d=\"M102,-119C102,-119 161,-119 161,-119 167,-119 173,-125 173,-131 173,-131 173,-153 173,-153 173,-159 167,-165 161,-165 161,-165 102,-165 102,-165 96,-165 90,-159 90,-153 90,-153 90,-131 90,-131 90,-125 96,-119 102,-119\"/>\n",
       "<text text-anchor=\"middle\" x=\"131.5\" y=\"-149.8\" font-family=\"Times,serif\" font-size=\"14.00\">0 -&gt; 19:9</text>\n",
       "<polyline fill=\"none\" stroke=\"black\" points=\"90,-142 173,-142 \"/>\n",
       "<text text-anchor=\"middle\" x=\"131.5\" y=\"-126.8\" font-family=\"Times,serif\" font-size=\"14.00\">8:0 - 8:0</text>\n",
       "</g>\n",
       "<!-- n6&#45;&gt;x0 -->\n",
       "<g id=\"edge10\" class=\"edge\">\n",
       "<title>n6:e-&gt;x0:w</title>\n",
       "<path fill=\"none\" stroke=\"black\" stroke-width=\"3\" d=\"M54,-130C66,-130 71.25,-130 79.88,-130\"/>\n",
       "<polygon fill=\"black\" stroke=\"black\" stroke-width=\"3\" points=\"80,-133.5 90,-130 80,-126.5 80,-133.5\"/>\n",
       "</g>\n",
       "<!-- n7 -->\n",
       "<g id=\"node2\" class=\"node\">\n",
       "<title>n7</title>\n",
       "<polygon fill=\"none\" stroke=\"black\" points=\"1215.57,-151.54 1215.57,-166.46 1199.76,-177 1177.39,-177 1161.57,-166.46 1161.57,-151.54 1177.39,-141 1199.76,-141 1215.57,-151.54\"/>\n",
       "<text text-anchor=\"middle\" x=\"1188.57\" y=\"-155.3\" font-family=\"Times,serif\" font-size=\"14.00\">a</text>\n",
       "</g>\n",
       "<!-- n8 -->\n",
       "<g id=\"node3\" class=\"node\">\n",
       "<title>n8</title>\n",
       "<polygon fill=\"none\" stroke=\"black\" points=\"611.95,-33.54 611.95,-48.46 590.23,-59 559.52,-59 537.8,-48.46 537.8,-33.54 559.52,-23 590.23,-23 611.95,-33.54\"/>\n",
       "<text text-anchor=\"middle\" x=\"574.87\" y=\"-37.3\" font-family=\"Times,serif\" font-size=\"14.00\">reset</text>\n",
       "</g>\n",
       "<!-- c19 -->\n",
       "<g id=\"node7\" class=\"node\">\n",
       "<title>c19</title>\n",
       "<polygon fill=\"none\" stroke=\"black\" points=\"657.37,-36.5 657.37,-105.5 783.37,-105.5 783.37,-36.5 657.37,-36.5\"/>\n",
       "<text text-anchor=\"middle\" x=\"670.87\" y=\"-90.3\" font-family=\"Times,serif\" font-size=\"14.00\">A</text>\n",
       "<polyline fill=\"none\" stroke=\"black\" points=\"657.37,-82.5 684.37,-82.5 \"/>\n",
       "<text text-anchor=\"middle\" x=\"670.87\" y=\"-67.3\" font-family=\"Times,serif\" font-size=\"14.00\">B</text>\n",
       "<polyline fill=\"none\" stroke=\"black\" points=\"657.37,-59.5 684.37,-59.5 \"/>\n",
       "<text text-anchor=\"middle\" x=\"670.87\" y=\"-44.3\" font-family=\"Times,serif\" font-size=\"14.00\">S</text>\n",
       "<polyline fill=\"none\" stroke=\"black\" points=\"684.37,-36.5 684.37,-105.5 \"/>\n",
       "<text text-anchor=\"middle\" x=\"720.87\" y=\"-74.8\" font-family=\"Times,serif\" font-size=\"14.00\">$Mux_0</text>\n",
       "<text text-anchor=\"middle\" x=\"720.87\" y=\"-59.8\" font-family=\"Times,serif\" font-size=\"14.00\">$mux</text>\n",
       "<polyline fill=\"none\" stroke=\"black\" points=\"757.37,-36.5 757.37,-105.5 \"/>\n",
       "<text text-anchor=\"middle\" x=\"770.37\" y=\"-67.3\" font-family=\"Times,serif\" font-size=\"14.00\">Y</text>\n",
       "</g>\n",
       "<!-- n8&#45;&gt;c19 -->\n",
       "<g id=\"edge12\" class=\"edge\">\n",
       "<title>n8:e-&gt;c19:w</title>\n",
       "<path fill=\"none\" stroke=\"black\" d=\"M612.87,-41C628.99,-41 635.02,-45.53 647.19,-47.3\"/>\n",
       "<polygon fill=\"black\" stroke=\"black\" points=\"647.16,-50.81 657.37,-48 647.64,-43.83 647.16,-50.81\"/>\n",
       "</g>\n",
       "<!-- n9 -->\n",
       "<g id=\"node4\" class=\"node\">\n",
       "<title>n9</title>\n",
       "<polygon fill=\"none\" stroke=\"black\" points=\"747.37,-134.54 747.37,-149.46 731.56,-160 709.19,-160 693.37,-149.46 693.37,-134.54 709.19,-124 731.56,-124 747.37,-134.54\"/>\n",
       "<text text-anchor=\"middle\" x=\"720.37\" y=\"-138.3\" font-family=\"Times,serif\" font-size=\"14.00\">clk</text>\n",
       "</g>\n",
       "<!-- c14 -->\n",
       "<g id=\"node6\" class=\"node\">\n",
       "<title>c14</title>\n",
       "<polygon fill=\"none\" stroke=\"black\" points=\"819.37,-107 819.37,-153 956.37,-153 956.37,-107 819.37,-107\"/>\n",
       "<text text-anchor=\"middle\" x=\"842.87\" y=\"-137.8\" font-family=\"Times,serif\" font-size=\"14.00\">CLK</text>\n",
       "<polyline fill=\"none\" stroke=\"black\" points=\"819.37,-130 866.37,-130 \"/>\n",
       "<text text-anchor=\"middle\" x=\"842.87\" y=\"-114.8\" font-family=\"Times,serif\" font-size=\"14.00\">D</text>\n",
       "<polyline fill=\"none\" stroke=\"black\" points=\"866.37,-107 866.37,-153 \"/>\n",
       "<text text-anchor=\"middle\" x=\"897.37\" y=\"-133.8\" font-family=\"Times,serif\" font-size=\"14.00\">$Dff_0</text>\n",
       "<text text-anchor=\"middle\" x=\"897.37\" y=\"-118.8\" font-family=\"Times,serif\" font-size=\"14.00\">$dff</text>\n",
       "<polyline fill=\"none\" stroke=\"black\" points=\"928.37,-107 928.37,-153 \"/>\n",
       "<text text-anchor=\"middle\" x=\"942.37\" y=\"-126.3\" font-family=\"Times,serif\" font-size=\"14.00\">Q</text>\n",
       "</g>\n",
       "<!-- n9&#45;&gt;c14 -->\n",
       "<g id=\"edge13\" class=\"edge\">\n",
       "<title>n9:e-&gt;c14:w</title>\n",
       "<path fill=\"none\" stroke=\"black\" d=\"M748.37,-142C776.23,-142 785.65,-142 809.18,-142\"/>\n",
       "<polygon fill=\"black\" stroke=\"black\" points=\"809.37,-145.5 819.37,-142 809.37,-138.5 809.37,-145.5\"/>\n",
       "</g>\n",
       "<!-- n10 -->\n",
       "<g id=\"node5\" class=\"node\">\n",
       "<title>n10</title>\n",
       "<polygon fill=\"none\" stroke=\"black\" points=\"1058.97,-177 1031.97,-159 1058.97,-141 1085.97,-159 1058.97,-177\"/>\n",
       "<text text-anchor=\"middle\" x=\"1058.97\" y=\"-155.3\" font-family=\"Times,serif\" font-size=\"14.00\">w</text>\n",
       "</g>\n",
       "<!-- c20 -->\n",
       "<g id=\"node8\" class=\"node\">\n",
       "<title>c20</title>\n",
       "<polygon fill=\"none\" stroke=\"black\" points=\"227.19,-131 227.19,-177 474.19,-177 474.19,-131 227.19,-131\"/>\n",
       "<text text-anchor=\"middle\" x=\"240.69\" y=\"-161.8\" font-family=\"Times,serif\" font-size=\"14.00\">A</text>\n",
       "<polyline fill=\"none\" stroke=\"black\" points=\"227.19,-154 254.19,-154 \"/>\n",
       "<text text-anchor=\"middle\" x=\"240.69\" y=\"-138.8\" font-family=\"Times,serif\" font-size=\"14.00\">B</text>\n",
       "<polyline fill=\"none\" stroke=\"black\" points=\"254.19,-131 254.19,-177 \"/>\n",
       "<text text-anchor=\"middle\" x=\"351.19\" y=\"-157.8\" font-family=\"Times,serif\" font-size=\"14.00\">$worker:12::8133/add:_u</text>\n",
       "<text text-anchor=\"middle\" x=\"351.19\" y=\"-142.8\" font-family=\"Times,serif\" font-size=\"14.00\">$add</text>\n",
       "<polyline fill=\"none\" stroke=\"black\" points=\"448.19,-131 448.19,-177 \"/>\n",
       "<text text-anchor=\"middle\" x=\"461.19\" y=\"-150.3\" font-family=\"Times,serif\" font-size=\"14.00\">Y</text>\n",
       "</g>\n",
       "<!-- n10&#45;&gt;c20 -->\n",
       "<g id=\"edge4\" class=\"edge\">\n",
       "<title>n10:e-&gt;c20:w</title>\n",
       "<path fill=\"none\" stroke=\"black\" stroke-width=\"3\" d=\"M1086.97,-159C1094.99,-159 1091.64,-171.33 1085.97,-177 1023.94,-239.05 976.61,-188 888.87,-188 719.37,-188 719.37,-188 719.37,-188 500.35,-188 386.54,-327.22 226.69,-177.5 226.22,-177.06 225.77,-176.55 225.36,-176\"/>\n",
       "<polygon fill=\"black\" stroke=\"black\" stroke-width=\"3\" points=\"228.86,-176.11 225.69,-166 221.86,-175.88 228.86,-176.11\"/>\n",
       "</g>\n",
       "<!-- x5 -->\n",
       "<g id=\"node14\" class=\"node\">\n",
       "<title>x5</title>\n",
       "<ellipse fill=\"black\" stroke=\"black\" cx=\"1123.77\" cy=\"-159\" rx=\"1.8\" ry=\"1.8\"/>\n",
       "</g>\n",
       "<!-- n10&#45;&gt;x5 -->\n",
       "<g id=\"edge5\" class=\"edge\">\n",
       "<title>n10:e-&gt;x5:w</title>\n",
       "<path fill=\"none\" stroke=\"black\" stroke-width=\"3\" d=\"M1085.97,-159C1097.97,-159 1103.22,-159 1111.85,-159\"/>\n",
       "<polygon fill=\"black\" stroke=\"black\" stroke-width=\"3\" points=\"1111.97,-162.5 1121.97,-159 1111.97,-155.5 1111.97,-162.5\"/>\n",
       "</g>\n",
       "<!-- x4 -->\n",
       "<g id=\"node13\" class=\"node\">\n",
       "<title>x4</title>\n",
       "<ellipse fill=\"black\" stroke=\"black\" cx=\"994.17\" cy=\"-144\" rx=\"1.8\" ry=\"1.8\"/>\n",
       "</g>\n",
       "<!-- c14&#45;&gt;x4 -->\n",
       "<g id=\"edge2\" class=\"edge\">\n",
       "<title>c14:e-&gt;x4:w</title>\n",
       "<path fill=\"none\" stroke=\"black\" stroke-width=\"3\" d=\"M956.37,-130C969.52,-130 973.58,-138.21 982.46,-142.05\"/>\n",
       "<polygon fill=\"black\" stroke=\"black\" stroke-width=\"3\" points=\"981.89,-145.51 992.37,-144 983.24,-138.64 981.89,-145.51\"/>\n",
       "</g>\n",
       "<!-- c19&#45;&gt;c14 -->\n",
       "<g id=\"edge6\" class=\"edge\">\n",
       "<title>c19:e-&gt;c14:w</title>\n",
       "<path fill=\"none\" stroke=\"black\" stroke-width=\"3\" d=\"M783.37,-71C805.58,-71 797.21,-104.46 809.86,-114.92\"/>\n",
       "<polygon fill=\"black\" stroke=\"black\" stroke-width=\"3\" points=\"808.78,-118.25 819.37,-118 810.94,-111.59 808.78,-118.25\"/>\n",
       "</g>\n",
       "<!-- x1 -->\n",
       "<g id=\"node10\" class=\"node\">\n",
       "<title>x1</title>\n",
       "<path fill=\"none\" stroke=\"black\" d=\"M540.37,-115C540.37,-115 609.37,-115 609.37,-115 615.37,-115 621.37,-121 621.37,-127 621.37,-127 621.37,-139 621.37,-139 621.37,-145 615.37,-151 609.37,-151 609.37,-151 540.37,-151 540.37,-151 534.37,-151 528.37,-145 528.37,-139 528.37,-139 528.37,-127 528.37,-127 528.37,-121 534.37,-115 540.37,-115\"/>\n",
       "<text text-anchor=\"middle\" x=\"574.87\" y=\"-129.3\" font-family=\"Times,serif\" font-size=\"14.00\">19:0 - 19:0</text>\n",
       "</g>\n",
       "<!-- c20&#45;&gt;x1 -->\n",
       "<g id=\"edge8\" class=\"edge\">\n",
       "<title>c20:e-&gt;x1:w</title>\n",
       "<path fill=\"none\" stroke=\"black\" stroke-width=\"3\" d=\"M475.69,-154C496.96,-154 501.9,-139.05 518.06,-134.38\"/>\n",
       "<polygon fill=\"black\" stroke=\"black\" stroke-width=\"3\" points=\"518.93,-137.79 528.37,-133 518,-130.86 518.93,-137.79\"/>\n",
       "</g>\n",
       "<!-- x0&#45;&gt;c20 -->\n",
       "<g id=\"edge1\" class=\"edge\">\n",
       "<title>x0:e-&gt;c20:w</title>\n",
       "<path fill=\"none\" stroke=\"black\" stroke-width=\"3\" d=\"M185.39,-142C195.99,-142 202.86,-142 213.51,-142\"/>\n",
       "<polygon fill=\"none\" stroke=\"black\" stroke-width=\"3\" points=\"185,-142 179,-146 173,-142 179,-138 185,-142\"/>\n",
       "<polygon fill=\"none\" stroke=\"black\" stroke-width=\"3\" points=\"213.69,-142 219.69,-138 225.69,-142 219.69,-146 213.69,-142\"/>\n",
       "</g>\n",
       "<!-- x1&#45;&gt;c19 -->\n",
       "<g id=\"edge9\" class=\"edge\">\n",
       "<title>x1:e-&gt;c19:w</title>\n",
       "<path fill=\"none\" stroke=\"black\" stroke-width=\"3\" d=\"M621.37,-133C640.73,-133 636.68,-106.76 647.62,-97.33\"/>\n",
       "<polygon fill=\"black\" stroke=\"black\" stroke-width=\"3\" points=\"649.04,-100.54 657.37,-94 646.78,-93.91 649.04,-100.54\"/>\n",
       "</g>\n",
       "<!-- v2 -->\n",
       "<g id=\"node11\" class=\"node\">\n",
       "<title>v2</title>\n",
       "<ellipse fill=\"none\" stroke=\"black\" cx=\"350.69\" cy=\"-79\" rx=\"141.88\" ry=\"18\"/>\n",
       "<text text-anchor=\"middle\" x=\"350.69\" y=\"-75.3\" font-family=\"Times,serif\" font-size=\"14.00\">20'00000000000000000101</text>\n",
       "</g>\n",
       "<!-- x3 -->\n",
       "<g id=\"node12\" class=\"node\">\n",
       "<title>x3</title>\n",
       "<ellipse fill=\"black\" stroke=\"black\" cx=\"574.87\" cy=\"-79\" rx=\"1.8\" ry=\"1.8\"/>\n",
       "</g>\n",
       "<!-- v2&#45;&gt;x3 -->\n",
       "<g id=\"edge14\" class=\"edge\">\n",
       "<title>v2:e-&gt;x3:w</title>\n",
       "<path fill=\"none\" stroke=\"black\" stroke-width=\"3\" d=\"M492.37,-79C524.12,-79 534.47,-79 561.87,-79\"/>\n",
       "<polygon fill=\"black\" stroke=\"black\" stroke-width=\"3\" points=\"561.87,-82.5 571.87,-79 561.87,-75.5 561.87,-82.5\"/>\n",
       "</g>\n",
       "<!-- x3&#45;&gt;c19 -->\n",
       "<g id=\"edge7\" class=\"edge\">\n",
       "<title>x3:e-&gt;c19:w</title>\n",
       "<path fill=\"none\" stroke=\"black\" stroke-width=\"3\" d=\"M577.87,-79C609.78,-79 619.86,-72.54 647.33,-71.23\"/>\n",
       "<polygon fill=\"black\" stroke=\"black\" stroke-width=\"3\" points=\"647.46,-74.73 657.37,-71 647.3,-67.73 647.46,-74.73\"/>\n",
       "</g>\n",
       "<!-- x4&#45;&gt;n10 -->\n",
       "<g id=\"edge3\" class=\"edge\">\n",
       "<title>x4:e-&gt;n10:w</title>\n",
       "<path fill=\"none\" stroke=\"black\" stroke-width=\"3\" d=\"M995.97,-144C1009.25,-144 1013.14,-152.79 1022.01,-156.91\"/>\n",
       "<polygon fill=\"black\" stroke=\"black\" stroke-width=\"3\" points=\"1021.47,-160.38 1031.97,-159 1022.9,-153.53 1021.47,-160.38\"/>\n",
       "</g>\n",
       "<!-- x5&#45;&gt;n7 -->\n",
       "<g id=\"edge11\" class=\"edge\">\n",
       "<title>x5:e-&gt;n7:w</title>\n",
       "<path fill=\"none\" stroke=\"black\" stroke-width=\"3\" d=\"M1125.57,-159C1137.57,-159 1142.82,-159 1151.45,-159\"/>\n",
       "<polygon fill=\"black\" stroke=\"black\" stroke-width=\"3\" points=\"1151.57,-162.5 1161.57,-159 1151.57,-155.5 1151.57,-162.5\"/>\n",
       "</g>\n",
       "<!-- \\n -->\n",
       "<g id=\"node15\" class=\"node\">\n",
       "<title>\\n</title>\n",
       "<ellipse fill=\"none\" stroke=\"black\" cx=\"27\" cy=\"-184\" rx=\"27\" ry=\"18\"/>\n",
       "</g>\n",
       "</g>\n",
       "</svg>\n",
       "        </div>\n",
       "    "
      ],
      "text/plain": [
       "<IPython.core.display.HTML object>"
      ]
     },
     "execution_count": 13,
     "metadata": {},
     "output_type": "execute_result"
    }
   ],
   "source": [
    "design.display_rtl(inline = True)"
   ]
  },
  {
   "cell_type": "markdown",
   "id": "15171591-95d5-406c-b19d-3e9c00988988",
   "metadata": {},
   "source": [
    "Here we can see the inferred elements. An `if..else` sequence typically creates multiplexers (`$mux`). The `clk` sensitive process again infers a `$dff` flip flop type.\n",
    "\n",
    "Also, we note that an extension to the full 20 bits occurs before the `$add` primitive.\n",
    "Once we execute the necessary mapping steps in synthesis that translate those elements into a LUT and FF target structure, they might look completely different, but should behave the same."
   ]
  },
  {
   "cell_type": "markdown",
   "id": "e45735b3-30fe-4779-a36a-8c38ec232123",
   "metadata": {},
   "source": [
    "## A short peek into internals\n",
    "\n",
    "The cyrite library is based on a generator kernel that creates the resulting hardware or language target elements by execution rather than AST translation. This internal representation layer is referred to as the myirl kernel. All cyrite or MyHDL alike hardware descriptions on top however are AST-translated into a generator form. An example:"
   ]
  },
  {
   "cell_type": "markdown",
   "id": "11985738-2cfb-4089-b73f-6b86847b8172",
   "metadata": {},
   "source": [
    "### A simple multiplexer unit\n",
    "\n",
    "Normally, you would write a behavioral model for a multiplexer as follows:"
   ]
  },
  {
   "cell_type": "code",
   "execution_count": 14,
   "id": "5ac84b26-0646-401e-aa47-c4ce4712920d",
   "metadata": {},
   "outputs": [],
   "source": [
    "from cyhdl import *\n",
    "\n",
    "@block\n",
    "def mux_unit(en: Signal, a_in : Signal, b_out : Signal):\n",
    "    @always(en, a_in)\n",
    "    def muxer():\n",
    "        if en:\n",
    "            b_out.next = a_in\n",
    "        else:\n",
    "            b_out.next = ~a_in\n",
    "    return muxer\n",
    "\n",
    "    @sequence\n",
    "    def main():\n",
    "        a.next = 0"
   ]
  },
  {
   "cell_type": "markdown",
   "id": "c6e51c3b-4e74-421b-8a30-69f838489a2d",
   "metadata": {},
   "source": [
    "Simple top level `@block` can be displayed in their explicit IRL:"
   ]
  },
  {
   "cell_type": "code",
   "execution_count": 15,
   "id": "00800b61-ac10-4cb2-a9a4-1b126306df30",
   "metadata": {},
   "outputs": [
    {
     "name": "stdout",
     "output_type": "stream",
     "text": [
      "==============================\n",
      "Unparsing unit mux_unit\n",
      "==============================\n",
      "\n",
      "\n",
      "@block\n",
      "def mux_unit(en: Signal, a_in: Signal, b_out: Signal):\n",
      "\n",
      "    @always_(en, a_in)\n",
      "    def muxer(_context):\n",
      "        (yield [_context.If(en).Then(b_out.set(a_in)).Else(b_out.set((~ a_in)))])\n",
      "    return muxer\n",
      "\n",
      "    @generator_ctx\n",
      "    def main(_context):\n",
      "        (yield [a.set(0)])\n",
      "\n"
     ]
    }
   ],
   "source": [
    "print(mux_unit.unparse())"
   ]
  },
  {
   "cell_type": "markdown",
   "id": "f169c42c-56ae-4b82-ae43-21350f4ec3b7",
   "metadata": {},
   "source": [
    "To display the resulting HDL, we instance a DummyTargetModule design context. When emitting instances within that context, HDL results are sent to sys.stdout. This allows us to examine language constructs in a granular way."
   ]
  },
  {
   "cell_type": "code",
   "execution_count": 16,
   "id": "303d179f-8d1c-4a89-a612-1c8d3b4d0075",
   "metadata": {},
   "outputs": [
    {
     "name": "stdout",
     "output_type": "stream",
     "text": [
      "\u001b[94m\n",
      "\u001b[0m\u001b[94malways @ (en or a_in) begin : MUXER\n",
      "\u001b[0m\u001b[94m    if (en)\u001b[0m\u001b[94m begin\n",
      "\u001b[0m\u001b[94m        b_out <= a_in; /* fallback */\n",
      "\u001b[0m\u001b[94m\u001b[0m\u001b[94m    end else begin\n",
      "\u001b[0m\u001b[94m        b_out <= ~a_in; /* fallback */\n",
      "\u001b[0m\u001b[94m\u001b[0m\u001b[94m    end\n",
      "\u001b[0m\u001b[94mend\n",
      "\u001b[0m"
     ]
    }
   ],
   "source": [
    "en = Signal(bool())\n",
    "s = [ Signal(intbv()[4:]) for _ in range(2) ]\n",
    "\n",
    "from myirl.targets.dummy import DummyTargetModule\n",
    "ctx = DummyTargetModule(targets.Verilog)\n",
    "\n",
    "uut = mux_unit(en, s[0], s[1])\n",
    "\n",
    "for inst in uut.instances:\n",
    "    inst(ctx) # Call instances to within context\n",
    "    inst.emit(ctx)"
   ]
  },
  {
   "cell_type": "markdown",
   "id": "6f0a8e70-b4e9-4eb3-a040-fc3bb9ab4364",
   "metadata": {},
   "source": [
    "Note: at this stage, no distinction between Verilog type reg and wire happens, because no signal analysis has been done throughout a hierarchy. Therefore a 'fallback' tag comment is inserted by the translation."
   ]
  },
  {
   "cell_type": "markdown",
   "id": "732de2c3-5e85-48d0-9154-8796b57a89e1",
   "metadata": {},
   "source": [
    "## Notation issues: Generator versus native execution\n",
    "\n",
    "We note that the `.next` assignment statements are translated to `.set` methods. The reason for this is, that we use generators via `yield` in our intermediate representation language (dialect), which require us to return a convertible expression or a generator for every statement.\n",
    "\n",
    "On the other hand, there is a reason to be able to execute a function two ways: Either by native execution ('as is') to simulate its behaviour using the Python interpreter or by running it through a generator framework to transpile to target code. If we removed the `@always` decorator, we can only run this function natively, but not generate something from it that preserves conditional expressions with full coverage as well as assigment actions, unless we used AST translation.\n",
    "\n",
    "This dual characteristic of a generator function must be accounted for in the entire concept of CyriteHDL and its underlying IRL kernel.\n",
    "\n",
    "Detailed follow up: [ Generators - when to use yield and when not ](generators.ipynb)"
   ]
  }
 ],
 "metadata": {
  "kernelspec": {
   "display_name": "Python 3 (ipykernel)",
   "language": "python",
   "name": "python3"
  },
  "language_info": {
   "codemirror_mode": {
    "name": "ipython",
    "version": 3
   },
   "file_extension": ".py",
   "mimetype": "text/x-python",
   "name": "python",
   "nbconvert_exporter": "python",
   "pygments_lexer": "ipython3",
   "version": "3.10.0"
  }
 },
 "nbformat": 4,
 "nbformat_minor": 5
}

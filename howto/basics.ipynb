{
 "cells": [
  {
   "cell_type": "markdown",
   "id": "13318b0a-9809-448a-bf80-01d19cedc8e0",
   "metadata": {},
   "source": [
    "# Basics\n",
    "\n",
    "(on language constructs to create hardware)\n",
    "\n",
    "A description of a digital hardware circuit is a priori event sensitive, i.e. if a source signal changes, it will propagate. We therefore have to deal with a `Signal` data type. This is a wrapper for any other, possibly built-in wire type, like a bool.\n",
    "\n",
    "For integer types with defined bit length, a new class is required that emulates integer calculations up to some point. This is covered by the `intbv` integer bit vector class.\n",
    "\n",
    "**Note** The intbv class name was taken from its MyHDL origin. However, it is not entirely compatible to it and is in fact based on a redesigned emulation handled by the internal `sig` kernel..\n",
    "\n",
    "Once a cyrite Signal type is combined with a binary operator such as '+', it will return a convertible expression type, not the actual result. In fact, it will create a logic element immediately. Let's examine this:"
   ]
  },
  {
   "cell_type": "code",
   "execution_count": 18,
   "id": "f6086596-dd3d-442b-b0d4-eef1dcb6555a",
   "metadata": {},
   "outputs": [],
   "source": [
    "import sys\n",
    "sys.path.insert(0, \"../..\")"
   ]
  },
  {
   "cell_type": "code",
   "execution_count": 19,
   "id": "19ec92b2-4dee-42bc-a447-11330b1915af",
   "metadata": {},
   "outputs": [],
   "source": [
    "from cyhdl import *\n",
    "\n",
    "a, b = [ Signal(intbv(0x1f0)[9:], name = n) for n in \"ab\" ]"
   ]
  },
  {
   "cell_type": "code",
   "execution_count": 20,
   "id": "f3038131-b931-481f-9f22-b70e5dcc3db8",
   "metadata": {},
   "outputs": [],
   "source": [
    "expr_add = a + b"
   ]
  },
  {
   "cell_type": "code",
   "execution_count": 21,
   "id": "2ce5b89a-8755-45d5-84dd-2c23696fd5f8",
   "metadata": {},
   "outputs": [
    {
     "data": {
      "text/plain": [
       "ADD(a, b)"
      ]
     },
     "execution_count": 21,
     "metadata": {},
     "output_type": "execute_result"
    }
   ],
   "source": [
    "expr_add"
   ]
  },
  {
   "cell_type": "markdown",
   "id": "52e55505-8dac-4a70-99b6-65413a84be43",
   "metadata": {},
   "source": [
    "To get at the actual result, the expression must be evaluated:"
   ]
  },
  {
   "cell_type": "code",
   "execution_count": 22,
   "id": "d3d6814b-c7ec-4882-b944-df2c31576f27",
   "metadata": {},
   "outputs": [
    {
     "data": {
      "text/plain": [
       "992"
      ]
     },
     "execution_count": 22,
     "metadata": {},
     "output_type": "execute_result"
    }
   ],
   "source": [
    "expr_add.evaluate()"
   ]
  },
  {
   "cell_type": "markdown",
   "id": "9067b3a0-e86d-4e01-86cc-3ff9b5502564",
   "metadata": {},
   "source": [
    "An expression by itself does not really create any logic yet, because it is not connected. Once we assign it to a signal usingn `.set`, we have a synthesizeable instance:"
   ]
  },
  {
   "cell_type": "code",
   "execution_count": 23,
   "id": "c43cb9e1-f87d-42e7-8300-fd275e8a1e50",
   "metadata": {},
   "outputs": [],
   "source": [
    "action = a.set(expr_add)"
   ]
  },
  {
   "cell_type": "markdown",
   "id": "b4b30636-02a3-4733-83e1-2cf3b16fa7db",
   "metadata": {},
   "source": [
    "We can evaluate this action as well, but it may go wrong:"
   ]
  },
  {
   "cell_type": "code",
   "execution_count": 24,
   "id": "5e8882c5-f76f-496b-a250-1f87c7f1afd1",
   "metadata": {},
   "outputs": [
    {
     "name": "stdout",
     "output_type": "stream",
     "text": [
      "Failure: intbv value 992 >= maximum 512\n"
     ]
    }
   ],
   "source": [
    "try:\n",
    "    action.evaluate()\n",
    "except Exception as e:\n",
    "    print(\"Failure:\", e)"
   ]
  },
  {
   "cell_type": "markdown",
   "id": "d7c2d9dc-5a89-412d-b484-3582b858d7f1",
   "metadata": {},
   "source": [
    "Evaluation will actually assign the value to the internal wire value. Repeated evaluation of the above will thus increase the value, but always report an error."
   ]
  },
  {
   "cell_type": "markdown",
   "id": "ab34e405-a796-402c-8a5f-d748d84098b0",
   "metadata": {},
   "source": [
    "Two things happened here:\n",
    "   * Signal `a` is driven, it is here driver and source, simultaneosly\n",
    "   * An abstract adder logic was created, that can result in a synthesizeable hardware element, or it can be simulated."
   ]
  },
  {
   "cell_type": "markdown",
   "id": "4459af71-8061-46bc-a9bd-348afb904c30",
   "metadata": {},
   "source": [
    "Now here's a catch: `a` is Source and Driver in the same expression. This is *combinatorial loop*. If this was instanced into a hardware element, such a loop would produce new values at high frequencies and a delay would come into play.\n",
    "\n",
    "Such a construct is therefore only valid inside a clocked construction, where the value is assigned at the event of a rising or falling edge, not at the change of the source a.\n",
    "\n",
    "We can import such a Flip flop from an example library. It is instanced like a function with the result of a synthesizeable expression."
   ]
  },
  {
   "cell_type": "code",
   "execution_count": 25,
   "id": "e7ce03f1-cf76-4ef7-b83f-104b4b696b2c",
   "metadata": {},
   "outputs": [],
   "source": [
    "from cyrite.examples.libprimitives import MyPrimitives\n",
    "\n",
    "m = MyPrimitives(\"\")\n",
    "ff = m.SFF"
   ]
  },
  {
   "cell_type": "markdown",
   "id": "a7e5c621-a98f-493f-ab09-c899681a6f31",
   "metadata": {},
   "source": [
    "However, the `ff` is context sensitive and its instancing process implicitely checks the parenting hierarchy. Therefore we have to pack it into a hardware unit with port inputs and outputs.\n",
    "We also need to create a specific clock signal instance."
   ]
  },
  {
   "cell_type": "code",
   "execution_count": 26,
   "id": "1cf4a9e4-f3d4-4892-addc-ea35ca66bb53",
   "metadata": {},
   "outputs": [],
   "source": [
    "from myirl.kernel.sensitivity import genprocess\n",
    "clk = ClkSignal()\n",
    "\n",
    "@block\n",
    "def worker(clk : ClkSignal, a, b):\n",
    "    \n",
    "    action = a.set(ff(clk, a + b))\n",
    "    \n",
    "    return  [ action ]"
   ]
  },
  {
   "cell_type": "markdown",
   "id": "2b6262f3-e3f9-41f1-9dda-d7c11c1313c0",
   "metadata": {},
   "source": [
    "Then we create an instance of this hardware block:"
   ]
  },
  {
   "cell_type": "code",
   "execution_count": 27,
   "id": "e8e6f4b0-9998-4650-9ef0-6ec43e181709",
   "metadata": {},
   "outputs": [
    {
     "name": "stdout",
     "output_type": "stream",
     "text": [
      "\u001b[32m DEBUG Inline blackbox instance [_inline_component 'SFF/SFF'] \u001b[0m\n"
     ]
    }
   ],
   "source": [
    "uut = worker(clk, a, b)"
   ]
  },
  {
   "cell_type": "markdown",
   "id": "eea866d9-ce41-4956-b052-9be72dda3acc",
   "metadata": {},
   "source": [
    "Now there's a problem: This will actually refuse to transfer to synthesis. Why is that? The `@block` design rules require well defined in- or outputs. However, Signal `a` is driver and source at the same time. Also, how would we determine a start value for a? We have to introduce a 'reset' and thus need to rewrite it such that it assigns the initial value at the reset event. This would become unreadable for the above construction. Therefore we rewrite it as follows:"
   ]
  },
  {
   "cell_type": "code",
   "execution_count": 28,
   "id": "35a00a56-74a1-40bb-8dde-5dc2dc86a988",
   "metadata": {},
   "outputs": [],
   "source": [
    "@block\n",
    "def unit_add(clk : ClkSignal, reset : ResetSignal,\n",
    "            a_init, a: Signal.Output, b : Signal):\n",
    "    \n",
    "    w = a.clone(\"a_internal\")\n",
    "    \n",
    "    @always(clk.posedge)\n",
    "    def worker():\n",
    "        if reset:\n",
    "            w.next = a_init\n",
    "        else:\n",
    "            w.next = w + b\n",
    "            \n",
    "    assignments = [\n",
    "        a   @assign@   w\n",
    "    ]\n",
    "    \n",
    "    return instances()"
   ]
  },
  {
   "cell_type": "markdown",
   "id": "5e52d2c0-111d-45a2-a95c-a4fb00ec8b95",
   "metadata": {},
   "source": [
    "We make an internal copy of the resulting `a` signal. Then, the `@always` process defines the functionality in a notation differing from the above `.set` action using the MyHDL-alike `.next` assignment. Behind the curtains, this `@always` process is translated into an intermediate representation. This is explained further below.\n",
    "\n",
    "From the parent, we define the size of `a` to have some head room:"
   ]
  },
  {
   "cell_type": "code",
   "execution_count": 29,
   "id": "206175e5-dc91-4ea8-bf02-890e465eb903",
   "metadata": {},
   "outputs": [],
   "source": [
    "a = Signal(intbv()[20:])\n",
    "reset = ResetSignal(True, True)\n",
    "uut = unit_add(clk, reset, 5, a, b)"
   ]
  },
  {
   "cell_type": "markdown",
   "id": "22e0e189-5006-47dc-8b20-9d540ff3db13",
   "metadata": {},
   "source": [
    "At a later point, we can verify if this instance is doing the right thing. For now, we synthesize it into hardware via the `pyosys` target.\n",
    "\n",
    "When we call the .elab method by specifying a RTLIL target instance, we get a list of design elements. We pick the first, which is always the top level design."
   ]
  },
  {
   "cell_type": "code",
   "execution_count": 30,
   "id": "93d83e8d-a5a3-4eb4-b366-00a8588169f1",
   "metadata": {},
   "outputs": [
    {
     "name": "stdout",
     "output_type": "stream",
     "text": [
      "\u001b[32m Adding module with name `unit_add` \u001b[0m\n",
      "\u001b[7;34m FINALIZE implementation `unit_add` of `unit_add` \u001b[0m\n",
      "\n",
      "-- Running command `hierarchy -top \\unit_add' --\n",
      "\n",
      "3. Executing HIERARCHY pass (managing design hierarchy).\n",
      "\n",
      "3.1. Analyzing design hierarchy..\n",
      "Top module:  \\unit_add\n",
      "\n",
      "3.2. Analyzing design hierarchy..\n",
      "Top module:  \\unit_add\n",
      "Removed 0 unused modules.\n"
     ]
    }
   ],
   "source": [
    "from myirl.targets import pyosys\n",
    "\n",
    "d = uut.elab(pyosys.RTLIL(\"top\"))\n",
    "design = d[0]"
   ]
  },
  {
   "cell_type": "markdown",
   "id": "3702a175-d8b8-4715-9cc4-69349a5120c4",
   "metadata": {},
   "source": [
    "### RTL display\n",
    "\n",
    "Once the design has entered the yosys RTLIL object world, it can be displayed using the yosys internal `.dot` output. This is a rudimentary debugging method however and should not be used for large designs."
   ]
  },
  {
   "cell_type": "code",
   "execution_count": 31,
   "id": "5ea7ee3f-68c2-4f81-830a-a7c3a058e4ab",
   "metadata": {},
   "outputs": [
    {
     "name": "stdout",
     "output_type": "stream",
     "text": [
      "\n",
      "-- Running command `show -format dot -prefix top ' --\n",
      "\n",
      "4. Generating Graphviz representation of design.\n",
      "Writing dot description to `top.dot'.\n",
      "Dumping module unit_add to page 1.\n"
     ]
    },
    {
     "data": {
      "text/html": [
       "\n",
       "        <div class=\"svg_container_1710921751\">\n",
       "            <style>\n",
       "                .svg_container_1710921751 {\n",
       "                    overflow:hidden\n",
       "                }\n",
       "                .svg_container_1710921751 SVG {\n",
       "                    height:auto\n",
       "                }\n",
       "            </style>\n",
       "            <script src=\"https://section5.ch/svg-pan-zoom.min.js\"></script>\n",
       "            <script type=\"text/javascript\">\n",
       "                attempts = 5;\n",
       "                var existCondition = setInterval(function() {\n",
       "                  console.log(attempts);\n",
       "                  svg_el = document.querySelector(\".svg_container_1710921751 svg\");\n",
       "                  if (svg_el != null) {\n",
       "                      console.log(\"Exists!\");\n",
       "                      clearInterval(existCondition);\n",
       "                      svgPanZoom(svg_el, {controlIconsEnabled: true, zoomScaleSensitivity: 0.4, minZoom: 0.2});\n",
       "                  }\n",
       "                  if (--attempts == 0) {\n",
       "                      console.warn(\"SVG element not found, zoom wont work\");\n",
       "                      clearInterval(existCondition);\n",
       "                  }\n",
       "                }, 100); // check every 100ms\n",
       "            </script>\n",
       "            <svg xmlns=\"http://www.w3.org/2000/svg\" xmlns:xlink=\"http://www.w3.org/1999/xlink\" width=\"1385pt\" height=\"263pt\" viewBox=\"0.00 0.00 1385.37 263.41\">\n",
       "<g id=\"graph0\" class=\"graph\" transform=\"scale(1 1) rotate(0) translate(4 259.41)\">\n",
       "<title>unit_add</title>\n",
       "<polygon fill=\"white\" stroke=\"transparent\" points=\"-4,4 -4,-259.41 1381.37,-259.41 1381.37,4 -4,4\"/>\n",
       "<text text-anchor=\"middle\" x=\"688.69\" y=\"-7.8\" font-family=\"Times,serif\" font-size=\"14.00\">unit_add</text>\n",
       "<!-- n6 -->\n",
       "<g id=\"node1\" class=\"node\">\n",
       "<title>n6</title>\n",
       "<polygon fill=\"none\" stroke=\"black\" points=\"54,-128.54 54,-143.46 38.18,-154 15.82,-154 0,-143.46 0,-128.54 15.82,-118 38.18,-118 54,-128.54\"/>\n",
       "<text text-anchor=\"middle\" x=\"27\" y=\"-132.3\" font-family=\"Times,serif\" font-size=\"14.00\">b</text>\n",
       "</g>\n",
       "<!-- x0 -->\n",
       "<g id=\"node9\" class=\"node\">\n",
       "<title>x0</title>\n",
       "<path fill=\"none\" stroke=\"black\" d=\"M102,-125C102,-125 161,-125 161,-125 167,-125 173,-131 173,-137 173,-137 173,-159 173,-159 173,-165 167,-171 161,-171 161,-171 102,-171 102,-171 96,-171 90,-165 90,-159 90,-159 90,-137 90,-137 90,-131 96,-125 102,-125\"/>\n",
       "<text text-anchor=\"middle\" x=\"131.5\" y=\"-155.8\" font-family=\"Times,serif\" font-size=\"14.00\">0 -&gt; 19:9</text>\n",
       "<polyline fill=\"none\" stroke=\"black\" points=\"90,-148 173,-148 \"/>\n",
       "<text text-anchor=\"middle\" x=\"131.5\" y=\"-132.8\" font-family=\"Times,serif\" font-size=\"14.00\">8:0 - 8:0</text>\n",
       "</g>\n",
       "<!-- n6&#45;&gt;x0 -->\n",
       "<g id=\"edge10\" class=\"edge\">\n",
       "<title>n6:e-&gt;x0:w</title>\n",
       "<path fill=\"none\" stroke=\"black\" stroke-width=\"3\" d=\"M54,-136C66,-136 71.25,-136 79.88,-136\"/>\n",
       "<polygon fill=\"black\" stroke=\"black\" stroke-width=\"3\" points=\"80,-139.5 90,-136 80,-132.5 80,-139.5\"/>\n",
       "</g>\n",
       "<!-- n7 -->\n",
       "<g id=\"node2\" class=\"node\">\n",
       "<title>n7</title>\n",
       "<polygon fill=\"none\" stroke=\"black\" points=\"1377.37,-167.54 1377.37,-182.46 1361.56,-193 1339.19,-193 1323.37,-182.46 1323.37,-167.54 1339.19,-157 1361.56,-157 1377.37,-167.54\"/>\n",
       "<text text-anchor=\"middle\" x=\"1350.37\" y=\"-171.3\" font-family=\"Times,serif\" font-size=\"14.00\">a</text>\n",
       "</g>\n",
       "<!-- n8 -->\n",
       "<g id=\"node3\" class=\"node\">\n",
       "<title>n8</title>\n",
       "<polygon fill=\"none\" stroke=\"black\" points=\"611.95,-33.54 611.95,-48.46 590.23,-59 559.52,-59 537.8,-48.46 537.8,-33.54 559.52,-23 590.23,-23 611.95,-33.54\"/>\n",
       "<text text-anchor=\"middle\" x=\"574.87\" y=\"-37.3\" font-family=\"Times,serif\" font-size=\"14.00\">reset</text>\n",
       "</g>\n",
       "<!-- c19 -->\n",
       "<g id=\"node7\" class=\"node\">\n",
       "<title>c19</title>\n",
       "<polygon fill=\"none\" stroke=\"black\" points=\"657.37,-52.5 657.37,-121.5 766.37,-121.5 766.37,-52.5 657.37,-52.5\"/>\n",
       "<text text-anchor=\"middle\" x=\"670.87\" y=\"-106.3\" font-family=\"Times,serif\" font-size=\"14.00\">A</text>\n",
       "<polyline fill=\"none\" stroke=\"black\" points=\"657.37,-98.5 684.37,-98.5 \"/>\n",
       "<text text-anchor=\"middle\" x=\"670.87\" y=\"-83.3\" font-family=\"Times,serif\" font-size=\"14.00\">B</text>\n",
       "<polyline fill=\"none\" stroke=\"black\" points=\"657.37,-75.5 684.37,-75.5 \"/>\n",
       "<text text-anchor=\"middle\" x=\"670.87\" y=\"-60.3\" font-family=\"Times,serif\" font-size=\"14.00\">S</text>\n",
       "<polyline fill=\"none\" stroke=\"black\" points=\"684.37,-52.5 684.37,-121.5 \"/>\n",
       "<text text-anchor=\"middle\" x=\"712.37\" y=\"-90.8\" font-family=\"Times,serif\" font-size=\"14.00\">$w:1</text>\n",
       "<text text-anchor=\"middle\" x=\"712.37\" y=\"-75.8\" font-family=\"Times,serif\" font-size=\"14.00\">$mux</text>\n",
       "<polyline fill=\"none\" stroke=\"black\" points=\"740.37,-52.5 740.37,-121.5 \"/>\n",
       "<text text-anchor=\"middle\" x=\"753.37\" y=\"-83.3\" font-family=\"Times,serif\" font-size=\"14.00\">Y</text>\n",
       "</g>\n",
       "<!-- n8&#45;&gt;c19 -->\n",
       "<g id=\"edge12\" class=\"edge\">\n",
       "<title>n8:e-&gt;c19:w</title>\n",
       "<path fill=\"none\" stroke=\"black\" d=\"M612.87,-41C631.14,-41 634.4,-56.48 647.27,-62.04\"/>\n",
       "<polygon fill=\"black\" stroke=\"black\" points=\"646.89,-65.53 657.37,-64 648.23,-58.66 646.89,-65.53\"/>\n",
       "</g>\n",
       "<!-- n9 -->\n",
       "<g id=\"node4\" class=\"node\">\n",
       "<title>n9</title>\n",
       "<polygon fill=\"none\" stroke=\"black\" points=\"738.87,-150.54 738.87,-165.46 723.06,-176 700.69,-176 684.87,-165.46 684.87,-150.54 700.69,-140 723.06,-140 738.87,-150.54\"/>\n",
       "<text text-anchor=\"middle\" x=\"711.87\" y=\"-154.3\" font-family=\"Times,serif\" font-size=\"14.00\">clk</text>\n",
       "</g>\n",
       "<!-- c14 -->\n",
       "<g id=\"node6\" class=\"node\">\n",
       "<title>c14</title>\n",
       "<polygon fill=\"none\" stroke=\"black\" points=\"802.37,-123 802.37,-169 1017.37,-169 1017.37,-123 802.37,-123\"/>\n",
       "<text text-anchor=\"middle\" x=\"825.87\" y=\"-153.8\" font-family=\"Times,serif\" font-size=\"14.00\">CLK</text>\n",
       "<polyline fill=\"none\" stroke=\"black\" points=\"802.37,-146 849.37,-146 \"/>\n",
       "<text text-anchor=\"middle\" x=\"825.87\" y=\"-130.8\" font-family=\"Times,serif\" font-size=\"14.00\">D</text>\n",
       "<polyline fill=\"none\" stroke=\"black\" points=\"849.37,-123 849.37,-169 \"/>\n",
       "<text text-anchor=\"middle\" x=\"919.37\" y=\"-149.8\" font-family=\"Times,serif\" font-size=\"14.00\">$worker::w_6619</text>\n",
       "<text text-anchor=\"middle\" x=\"919.37\" y=\"-134.8\" font-family=\"Times,serif\" font-size=\"14.00\">$dff</text>\n",
       "<polyline fill=\"none\" stroke=\"black\" points=\"989.37,-123 989.37,-169 \"/>\n",
       "<text text-anchor=\"middle\" x=\"1003.37\" y=\"-142.3\" font-family=\"Times,serif\" font-size=\"14.00\">Q</text>\n",
       "</g>\n",
       "<!-- n9&#45;&gt;c14 -->\n",
       "<g id=\"edge13\" class=\"edge\">\n",
       "<title>n9:e-&gt;c14:w</title>\n",
       "<path fill=\"none\" stroke=\"black\" d=\"M739.87,-158C763.96,-158 772.38,-158 792.31,-158\"/>\n",
       "<polygon fill=\"black\" stroke=\"black\" points=\"792.37,-161.5 802.37,-158 792.37,-154.5 792.37,-161.5\"/>\n",
       "</g>\n",
       "<!-- n10 -->\n",
       "<g id=\"node5\" class=\"node\">\n",
       "<title>n10</title>\n",
       "<polygon fill=\"none\" stroke=\"black\" points=\"1170.37,-193 1143.37,-175 1170.37,-157 1197.37,-175 1170.37,-193\"/>\n",
       "<text text-anchor=\"middle\" x=\"1170.37\" y=\"-171.3\" font-family=\"Times,serif\" font-size=\"14.00\">w</text>\n",
       "</g>\n",
       "<!-- c20 -->\n",
       "<g id=\"node8\" class=\"node\">\n",
       "<title>c20</title>\n",
       "<polygon fill=\"none\" stroke=\"black\" points=\"228.19,-137 228.19,-183 473.19,-183 473.19,-137 228.19,-137\"/>\n",
       "<text text-anchor=\"middle\" x=\"241.69\" y=\"-167.8\" font-family=\"Times,serif\" font-size=\"14.00\">A</text>\n",
       "<polyline fill=\"none\" stroke=\"black\" points=\"228.19,-160 255.19,-160 \"/>\n",
       "<text text-anchor=\"middle\" x=\"241.69\" y=\"-144.8\" font-family=\"Times,serif\" font-size=\"14.00\">B</text>\n",
       "<polyline fill=\"none\" stroke=\"black\" points=\"255.19,-137 255.19,-183 \"/>\n",
       "<text text-anchor=\"middle\" x=\"351.19\" y=\"-163.8\" font-family=\"Times,serif\" font-size=\"14.00\">$worker:12::ce16/add:_u</text>\n",
       "<text text-anchor=\"middle\" x=\"351.19\" y=\"-148.8\" font-family=\"Times,serif\" font-size=\"14.00\">$add</text>\n",
       "<polyline fill=\"none\" stroke=\"black\" points=\"447.19,-137 447.19,-183 \"/>\n",
       "<text text-anchor=\"middle\" x=\"460.19\" y=\"-156.3\" font-family=\"Times,serif\" font-size=\"14.00\">Y</text>\n",
       "</g>\n",
       "<!-- n10&#45;&gt;c20 -->\n",
       "<g id=\"edge4\" class=\"edge\">\n",
       "<title>n10:e-&gt;c20:w</title>\n",
       "<path fill=\"none\" stroke=\"black\" stroke-width=\"3\" d=\"M1198.37,-175C1206.39,-175 1203.09,-187.38 1197.37,-193 1106.5,-282.33 1038.3,-204 910.87,-204 710.87,-204 710.87,-204 710.87,-204 495.93,-204 383.01,-332.08 227.69,-183.5 227.34,-183.17 227,-182.8 226.68,-182.4\"/>\n",
       "<polygon fill=\"black\" stroke=\"black\" stroke-width=\"3\" points=\"230.18,-182 226.69,-172 223.18,-182 230.18,-182\"/>\n",
       "</g>\n",
       "<!-- x5 -->\n",
       "<g id=\"node14\" class=\"node\">\n",
       "<title>x5</title>\n",
       "<path fill=\"none\" stroke=\"black\" d=\"M1275.37,-193C1275.37,-193 1245.37,-193 1245.37,-193 1239.37,-193 1233.37,-187 1233.37,-181 1233.37,-181 1233.37,-169 1233.37,-169 1233.37,-163 1239.37,-157 1245.37,-157 1245.37,-157 1275.37,-157 1275.37,-157 1281.37,-157 1287.37,-163 1287.37,-169 1287.37,-169 1287.37,-181 1287.37,-181 1287.37,-187 1281.37,-193 1275.37,-193\"/>\n",
       "<text text-anchor=\"middle\" x=\"1260.37\" y=\"-171.3\" font-family=\"Times,serif\" font-size=\"14.00\">BUF</text>\n",
       "</g>\n",
       "<!-- n10&#45;&gt;x5 -->\n",
       "<g id=\"edge5\" class=\"edge\">\n",
       "<title>n10:e-&gt;x5:w</title>\n",
       "<path fill=\"none\" stroke=\"black\" stroke-width=\"3\" d=\"M1197.37,-175C1209.37,-175 1214.62,-175 1223.25,-175\"/>\n",
       "<polygon fill=\"black\" stroke=\"black\" stroke-width=\"3\" points=\"1223.37,-178.5 1233.37,-175 1223.37,-171.5 1223.37,-178.5\"/>\n",
       "</g>\n",
       "<!-- x4 -->\n",
       "<g id=\"node13\" class=\"node\">\n",
       "<title>x4</title>\n",
       "<path fill=\"none\" stroke=\"black\" d=\"M1095.37,-170C1095.37,-170 1065.37,-170 1065.37,-170 1059.37,-170 1053.37,-164 1053.37,-158 1053.37,-158 1053.37,-146 1053.37,-146 1053.37,-140 1059.37,-134 1065.37,-134 1065.37,-134 1095.37,-134 1095.37,-134 1101.37,-134 1107.37,-140 1107.37,-146 1107.37,-146 1107.37,-158 1107.37,-158 1107.37,-164 1101.37,-170 1095.37,-170\"/>\n",
       "<text text-anchor=\"middle\" x=\"1080.37\" y=\"-148.3\" font-family=\"Times,serif\" font-size=\"14.00\">BUF</text>\n",
       "</g>\n",
       "<!-- c14&#45;&gt;x4 -->\n",
       "<g id=\"edge2\" class=\"edge\">\n",
       "<title>c14:e-&gt;x4:w</title>\n",
       "<path fill=\"none\" stroke=\"black\" stroke-width=\"3\" d=\"M1017.37,-146C1029.54,-146 1034.58,-149.38 1043.19,-151.06\"/>\n",
       "<polygon fill=\"black\" stroke=\"black\" stroke-width=\"3\" points=\"1043.1,-154.57 1053.37,-152 1043.74,-147.6 1043.1,-154.57\"/>\n",
       "</g>\n",
       "<!-- c19&#45;&gt;c14 -->\n",
       "<g id=\"edge6\" class=\"edge\">\n",
       "<title>c19:e-&gt;c14:w</title>\n",
       "<path fill=\"none\" stroke=\"black\" stroke-width=\"3\" d=\"M766.37,-87C788.58,-87 780.21,-120.46 792.86,-130.92\"/>\n",
       "<polygon fill=\"black\" stroke=\"black\" stroke-width=\"3\" points=\"791.78,-134.25 802.37,-134 793.94,-127.59 791.78,-134.25\"/>\n",
       "</g>\n",
       "<!-- x1 -->\n",
       "<g id=\"node10\" class=\"node\">\n",
       "<title>x1</title>\n",
       "<path fill=\"none\" stroke=\"black\" d=\"M540.37,-137C540.37,-137 609.37,-137 609.37,-137 615.37,-137 621.37,-143 621.37,-149 621.37,-149 621.37,-161 621.37,-161 621.37,-167 615.37,-173 609.37,-173 609.37,-173 540.37,-173 540.37,-173 534.37,-173 528.37,-167 528.37,-161 528.37,-161 528.37,-149 528.37,-149 528.37,-143 534.37,-137 540.37,-137\"/>\n",
       "<text text-anchor=\"middle\" x=\"574.87\" y=\"-151.3\" font-family=\"Times,serif\" font-size=\"14.00\">19:0 - 19:0</text>\n",
       "</g>\n",
       "<!-- c20&#45;&gt;x1 -->\n",
       "<g id=\"edge8\" class=\"edge\">\n",
       "<title>c20:e-&gt;x1:w</title>\n",
       "<path fill=\"none\" stroke=\"black\" stroke-width=\"3\" d=\"M474.69,-160C494.91,-160 502.17,-156.44 518.34,-155.33\"/>\n",
       "<polygon fill=\"black\" stroke=\"black\" stroke-width=\"3\" points=\"518.49,-158.82 528.37,-155 518.27,-151.83 518.49,-158.82\"/>\n",
       "</g>\n",
       "<!-- x0&#45;&gt;c20 -->\n",
       "<g id=\"edge1\" class=\"edge\">\n",
       "<title>x0:e-&gt;c20:w</title>\n",
       "<path fill=\"none\" stroke=\"black\" stroke-width=\"3\" d=\"M185.2,-148C196.32,-148 203.39,-148 214.51,-148\"/>\n",
       "<polygon fill=\"none\" stroke=\"black\" stroke-width=\"3\" points=\"185,-148 179,-152 173,-148 179,-144 185,-148\"/>\n",
       "<polygon fill=\"none\" stroke=\"black\" stroke-width=\"3\" points=\"214.69,-148 220.69,-144 226.69,-148 220.69,-152 214.69,-148\"/>\n",
       "</g>\n",
       "<!-- x1&#45;&gt;c19 -->\n",
       "<g id=\"edge9\" class=\"edge\">\n",
       "<title>x1:e-&gt;c19:w</title>\n",
       "<path fill=\"none\" stroke=\"black\" stroke-width=\"3\" d=\"M621.37,-155C642.79,-155 635.66,-123.55 647.71,-113.24\"/>\n",
       "<polygon fill=\"black\" stroke=\"black\" stroke-width=\"3\" points=\"649,-116.49 657.37,-110 646.78,-109.85 649,-116.49\"/>\n",
       "</g>\n",
       "<!-- v2 -->\n",
       "<g id=\"node11\" class=\"node\">\n",
       "<title>v2</title>\n",
       "<ellipse fill=\"none\" stroke=\"black\" cx=\"350.69\" cy=\"-95\" rx=\"141.88\" ry=\"18\"/>\n",
       "<text text-anchor=\"middle\" x=\"350.69\" y=\"-91.3\" font-family=\"Times,serif\" font-size=\"14.00\">20'00000000000000000101</text>\n",
       "</g>\n",
       "<!-- x3 -->\n",
       "<g id=\"node12\" class=\"node\">\n",
       "<title>x3</title>\n",
       "<path fill=\"none\" stroke=\"black\" d=\"M589.87,-113C589.87,-113 559.87,-113 559.87,-113 553.87,-113 547.87,-107 547.87,-101 547.87,-101 547.87,-89 547.87,-89 547.87,-83 553.87,-77 559.87,-77 559.87,-77 589.87,-77 589.87,-77 595.87,-77 601.87,-83 601.87,-89 601.87,-89 601.87,-101 601.87,-101 601.87,-107 595.87,-113 589.87,-113\"/>\n",
       "<text text-anchor=\"middle\" x=\"574.87\" y=\"-91.3\" font-family=\"Times,serif\" font-size=\"14.00\">BUF</text>\n",
       "</g>\n",
       "<!-- v2&#45;&gt;x3 -->\n",
       "<g id=\"edge14\" class=\"edge\">\n",
       "<title>v2:e-&gt;x3:w</title>\n",
       "<path fill=\"none\" stroke=\"black\" stroke-width=\"3\" d=\"M492.37,-95C512.81,-95 520.32,-95 536.71,-95\"/>\n",
       "<polygon fill=\"black\" stroke=\"black\" stroke-width=\"3\" points=\"536.87,-98.5 546.87,-95 536.87,-91.5 536.87,-98.5\"/>\n",
       "</g>\n",
       "<!-- x3&#45;&gt;c19 -->\n",
       "<g id=\"edge7\" class=\"edge\">\n",
       "<title>x3:e-&gt;c19:w</title>\n",
       "<path fill=\"none\" stroke=\"black\" stroke-width=\"3\" d=\"M602.87,-95C623.53,-95 630.7,-89.3 647.14,-87.52\"/>\n",
       "<polygon fill=\"black\" stroke=\"black\" stroke-width=\"3\" points=\"647.57,-91.01 657.37,-87 647.21,-84.02 647.57,-91.01\"/>\n",
       "</g>\n",
       "<!-- x4&#45;&gt;n10 -->\n",
       "<g id=\"edge3\" class=\"edge\">\n",
       "<title>x4:e-&gt;n10:w</title>\n",
       "<path fill=\"none\" stroke=\"black\" stroke-width=\"3\" d=\"M1107.37,-152C1122.21,-152 1124.25,-166.04 1133.48,-172.18\"/>\n",
       "<polygon fill=\"black\" stroke=\"black\" stroke-width=\"3\" points=\"1132.8,-175.62 1143.37,-175 1134.72,-168.89 1132.8,-175.62\"/>\n",
       "</g>\n",
       "<!-- x5&#45;&gt;n7 -->\n",
       "<g id=\"edge11\" class=\"edge\">\n",
       "<title>x5:e-&gt;n7:w</title>\n",
       "<path fill=\"none\" stroke=\"black\" stroke-width=\"3\" d=\"M1287.37,-175C1299.37,-175 1304.62,-175 1313.25,-175\"/>\n",
       "<polygon fill=\"black\" stroke=\"black\" stroke-width=\"3\" points=\"1313.37,-178.5 1323.37,-175 1313.37,-171.5 1313.37,-178.5\"/>\n",
       "</g>\n",
       "<!-- \\n -->\n",
       "<g id=\"node15\" class=\"node\">\n",
       "<title>\\n</title>\n",
       "<ellipse fill=\"none\" stroke=\"black\" cx=\"27\" cy=\"-190\" rx=\"27\" ry=\"18\"/>\n",
       "</g>\n",
       "</g>\n",
       "</svg>\n",
       "        </div>\n",
       "    "
      ],
      "text/plain": [
       "<IPython.core.display.HTML object>"
      ]
     },
     "execution_count": 31,
     "metadata": {},
     "output_type": "execute_result"
    }
   ],
   "source": [
    "design.display_rtl(inline = True)"
   ]
  },
  {
   "cell_type": "markdown",
   "id": "15171591-95d5-406c-b19d-3e9c00988988",
   "metadata": {},
   "source": [
    "Here we can see the inferred elements. An `if..else` sequence typically creates multiplexers (`$mux`). The `clk` sensitive process again infers a `$dff` flip flop type.\n",
    "\n",
    "Also, we note that an extension to the full 20 bits occurs before the `$add` primitive.\n",
    "Once we execute the necessary mapping steps in synthesis that translate those elements into a LUT and FF target structure, they might look completely different, but should behave the same."
   ]
  },
  {
   "cell_type": "markdown",
   "id": "e45735b3-30fe-4779-a36a-8c38ec232123",
   "metadata": {},
   "source": [
    "## A short peek into internals\n",
    "\n",
    "The cyrite library is based on a generator kernel that creates the resulting hardware or language target elements by execution rather than AST translation. This internal representation layer is referred to as the myirl kernel. All cyrite or MyHDL alike hardware descriptions on top however are AST-translated into a generator form. An example:"
   ]
  },
  {
   "cell_type": "markdown",
   "id": "11985738-2cfb-4089-b73f-6b86847b8172",
   "metadata": {},
   "source": [
    "### A simple multiplexer unit\n",
    "\n",
    "Normally, you would write a behavioral model for a multiplexer as follows:"
   ]
  },
  {
   "cell_type": "code",
   "execution_count": 32,
   "id": "5ac84b26-0646-401e-aa47-c4ce4712920d",
   "metadata": {},
   "outputs": [],
   "source": [
    "from cyhdl import *\n",
    "\n",
    "@block\n",
    "def mux_unit(en: Signal, a_in : Signal, b_out : Signal):\n",
    "    @always(en, a_in)\n",
    "    def muxer():\n",
    "        if en:\n",
    "            b_out.next = a_in\n",
    "        else:\n",
    "            b_out.next = ~a_in\n",
    "    return muxer\n",
    "\n",
    "    @sequence\n",
    "    def main():\n",
    "        a.next = 0"
   ]
  },
  {
   "cell_type": "markdown",
   "id": "c6e51c3b-4e74-421b-8a30-69f838489a2d",
   "metadata": {},
   "source": [
    "Simple top level `@block` can be displayed in their explicit IRL:"
   ]
  },
  {
   "cell_type": "code",
   "execution_count": 33,
   "id": "00800b61-ac10-4cb2-a9a4-1b126306df30",
   "metadata": {},
   "outputs": [
    {
     "name": "stdout",
     "output_type": "stream",
     "text": [
      "==============================\n",
      "Unparsing unit mux_unit\n",
      "==============================\n",
      "\n",
      "\n",
      "@block\n",
      "def mux_unit(en: Signal, a_in: Signal, b_out: Signal):\n",
      "\n",
      "    @always_(en, a_in)\n",
      "    def muxer(_context):\n",
      "        (yield [_context.If(en).Then(b_out.set(a_in)).Else(b_out.set((~ a_in)))])\n",
      "    return muxer\n",
      "\n",
      "    @sequential\n",
      "    def main(_sequence):\n",
      "        _sequence += [a.set(0)]\n",
      "\n"
     ]
    }
   ],
   "source": [
    "print(mux_unit.unparse())"
   ]
  },
  {
   "cell_type": "markdown",
   "id": "f169c42c-56ae-4b82-ae43-21350f4ec3b7",
   "metadata": {},
   "source": [
    "To display the resulting HDL, we instance a DummyTargetModule design context. When emitting instances within that context, HDL results are sent to sys.stdout. This allows us to examine language constructs in a granular way."
   ]
  },
  {
   "cell_type": "code",
   "execution_count": 34,
   "id": "303d179f-8d1c-4a89-a612-1c8d3b4d0075",
   "metadata": {},
   "outputs": [
    {
     "name": "stdout",
     "output_type": "stream",
     "text": [
      "\u001b[94m\n",
      "\u001b[0m\u001b[94malways @ (en or a_in) begin : MUXER\n",
      "\u001b[0m\u001b[94m    if (en)\u001b[0m\u001b[94m begin\n",
      "\u001b[0m\u001b[94m        b_out <= a_in; /* fallback */\n",
      "\u001b[0m\u001b[94m\u001b[0m\u001b[94m    end else begin\n",
      "\u001b[0m\u001b[94m        b_out <= ~a_in; /* fallback */\n",
      "\u001b[0m\u001b[94m\u001b[0m\u001b[94m    end\n",
      "\u001b[0m\u001b[94mend\n",
      "\u001b[0m"
     ]
    }
   ],
   "source": [
    "en = Signal(bool())\n",
    "s = [ Signal(intbv()[4:]) for _ in range(2) ]\n",
    "\n",
    "from myirl.targets.dummy import DummyTargetModule\n",
    "ctx = DummyTargetModule(targets.Verilog)\n",
    "\n",
    "uut = mux_unit(en, s[0], s[1])\n",
    "\n",
    "for inst in uut.instances:\n",
    "    inst(ctx) # Call instances to within context\n",
    "    inst.emit(ctx)"
   ]
  },
  {
   "cell_type": "markdown",
   "id": "6f0a8e70-b4e9-4eb3-a040-fc3bb9ab4364",
   "metadata": {},
   "source": [
    "Note: at this stage, no distinction between Verilog type reg and wire happens, because no signal analysis has been done throughout a hierarchy. Therefore a 'fallback' tag comment is inserted by the translation."
   ]
  },
  {
   "cell_type": "markdown",
   "id": "732de2c3-5e85-48d0-9154-8796b57a89e1",
   "metadata": {},
   "source": [
    "## Notation issues: Generator versus native execution\n",
    "\n",
    "We note that the `.next` assignment statements are translated to `.set` methods. The reason for this is, that we use generators via `yield` in our intermediate representation language (dialect), which require us to return a convertible expression or a generator for every statement.\n",
    "\n",
    "On the other hand, there is a reason to be able to execute a function two ways: Either by native execution ('as is') to simulate its behaviour using the Python interpreter or by running it through a generator framework to transpile to target code. If we removed the `@alwyas` decorator, we can only run this function natively, but not generate something from it that preserves conditional expressions with full coverage as well as assigment actions, unless we used AST translation.\n",
    "\n",
    "This dual characteristic of a generator function must be accounted for in the entire concept of CyriteHDL and its underlying IRL kernel.\n",
    "\n",
    "Detailed follow up: [ Generators - when to use yield and when not ](generators.ipynb)"
   ]
  }
 ],
 "metadata": {
  "kernelspec": {
   "display_name": "Python 3 (ipykernel)",
   "language": "python",
   "name": "python3"
  },
  "language_info": {
   "codemirror_mode": {
    "name": "ipython",
    "version": 3
   },
   "file_extension": ".py",
   "mimetype": "text/x-python",
   "name": "python",
   "nbconvert_exporter": "python",
   "pygments_lexer": "ipython3",
   "version": "3.9.2"
  }
 },
 "nbformat": 4,
 "nbformat_minor": 5
}

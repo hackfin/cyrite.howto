{
 "cells": [
  {
   "cell_type": "markdown",
   "id": "011f1196-bf55-4075-b6da-8d1bb77bc915",
   "metadata": {},
   "source": [
    "# Ports and containers\n",
    "\n",
    "Often, a container of class signals is required to cover complex bus connections, or simply create groups of signals for better overview. This is handled by the `@container` extensions. They can be seen as abstraction of VHDL records or SV structures.\n",
    "\n",
    "A container is basically defined as follows:"
   ]
  },
  {
   "cell_type": "code",
   "execution_count": 1,
   "id": "cb28965b-e5f2-4a08-88f9-846d4637dcb7",
   "metadata": {},
   "outputs": [],
   "source": [
    "from cyhdl import *"
   ]
  },
  {
   "cell_type": "code",
   "execution_count": 2,
   "id": "fa153a37-bb07-4990-a1e9-b9a7e47d4fd9",
   "metadata": {},
   "outputs": [],
   "source": [
    "@container(CONTAINER_INTERFACE)\n",
    "class Record:\n",
    "    \n",
    "    _inputs = ['a', 'en']\n",
    "    _outputs = ['q']\n",
    "    _other = []\n",
    "    \n",
    "    def __init__(self, n : int = 10, Signal = Signal):\n",
    "        self.a = Signal(intbv()[8:])\n",
    "        self.en = Signal(bool())\n",
    "        self.q = Signal(intbv()[n:])\n",
    "        self.n = n"
   ]
  },
  {
   "cell_type": "markdown",
   "id": "4639e0b9-ec05-45fa-9bfc-aa6c4e71a151",
   "metadata": {},
   "source": [
    "The `CONTAINER_INTERFACE` argument denotes that a strict interface type definition should be used. In VHDL, this infers to a set of records with defined direction per record for each `_inputs`, `_outputs` and `_other`.\n",
    "\n",
    "In fact, `CONTAINER_INTERFACE` is a Type Generator class, which functions as a type factory for each defined container type, or a derived container type of that sort. This implies, that strict type checking can be applied.\n",
    "\n",
    "Further, we allow to pass a `context` parameter class to allow a better choice of that Signal to be used. This is useful as we see below.\n",
    "\n",
    "Other types of Type Generators are present with other inference options.\n",
    "In general, this new style is the most efficient to use."
   ]
  },
  {
   "cell_type": "markdown",
   "id": "37715919-d920-41ff-a750-e319ab449bb5",
   "metadata": {},
   "source": [
    "To extend this Port, you can simply derive from it, for example by adding a `clk` and `reset` wire. Those are always inputs and must be added to the `_other` specification."
   ]
  },
  {
   "cell_type": "code",
   "execution_count": 3,
   "id": "2429d58c-3cc3-4c50-8a52-4f3784add1f6",
   "metadata": {},
   "outputs": [],
   "source": [
    "import myirl\n",
    "\n",
    "class ExRecord(Record):\n",
    "    _other  = ['clk', 'reset']\n",
    "    \n",
    "    def __init__(self, n, context = myirl):\n",
    "        super().__init__(n, Signal = context.Signal)\n",
    "        self.reset = context.ResetSignal(False, True)\n",
    "        self.clk = context.ClkSignal()\n"
   ]
  },
  {
   "cell_type": "code",
   "execution_count": 4,
   "id": "878081be-9321-4a5c-ab16-5882952ee6f6",
   "metadata": {},
   "outputs": [
    {
     "data": {
      "text/plain": [
       "{'bulkc209_in': {`<class 'myirl.library.bulksignals.ExRecord_10_obj_module_in'>` | 'a', 'en'},\n",
       " 'bulkc209_out': {`<class 'myirl.library.bulksignals.ExRecord_10_obj_module_out'>` | 'q'},\n",
       " 'bulkc209_aux': {`<class 'myirl.library.bulksignals.ExRecord_10_obj_module_aux'>` | 'clk', 'reset'}}"
      ]
     },
     "execution_count": 4,
     "metadata": {},
     "output_type": "execute_result"
    }
   ],
   "source": [
    "xr10 = ExRecord(10)\n",
    "xr10.get_children()"
   ]
  },
  {
   "cell_type": "markdown",
   "id": "6ef5a8dd-3c75-4c9a-b5a6-9530c203fc82",
   "metadata": {},
   "source": [
    "### I/O handling\n",
    "\n",
    "In complex port scenarios, in and output connections can become confusing. For example, when a hardware unit routes various port signals, in and outputs must be reversed and resolved correctly with respect to signal drivers and sources.\n",
    "\n",
    "For the interface, a port reversal happens via a type hint as follows:"
   ]
  },
  {
   "cell_type": "code",
   "execution_count": 5,
   "id": "370212f6-b954-49d9-a22e-01df46cba7cb",
   "metadata": {},
   "outputs": [],
   "source": [
    "@block\n",
    "def routing_unit(pin: ExRecord, pout: Record.reverse()):\n",
    "    @always(pin.clk)\n",
    "    def worker():\n",
    "        pout.a.next = pin.a\n",
    "        pout.en.next = pin.en\n",
    "        pin.q.next = pout.q\n",
    "        \n",
    "    return worker"
   ]
  },
  {
   "cell_type": "markdown",
   "id": "b1e97535-05dc-40a1-8581-e5214a983f48",
   "metadata": {},
   "source": [
    "To display a VHDL instance of this `@block`:"
   ]
  },
  {
   "cell_type": "code",
   "execution_count": 6,
   "id": "3e81c7bf-ae2d-49ca-9802-eb7bb8264531",
   "metadata": {},
   "outputs": [
    {
     "name": "stdout",
     "output_type": "stream",
     "text": [
      " Writing 'routing_unit' to file /tmp/myirl_routing_unit_vs8yyivc/routing_unit.vhdl \n"
     ]
    }
   ],
   "source": [
    "p0 = ExRecord(6)\n",
    "p1 = Record(6)\n",
    "u = routing_unit(p0, p1)\n",
    "\n",
    "files = u.elab(targets.VHDL)"
   ]
  },
  {
   "cell_type": "code",
   "execution_count": 7,
   "id": "8d9b1118-6a51-4a70-b332-3588556de162",
   "metadata": {},
   "outputs": [
    {
     "name": "stdout",
     "output_type": "stream",
     "text": [
      "-- File generated from source:\r\n",
      "--     /tmp/ipykernel_40328/3421992632.py\r\n",
      "-- (c) 2016-2022 section5.ch\r\n",
      "-- Modifications may be lost, edit the source file instead.\r\n",
      "\r\n",
      "library IEEE;\r\n",
      "use IEEE.std_logic_1164.all;\r\n",
      "use IEEE.numeric_std.all;\r\n",
      "\r\n",
      "library work;\r\n",
      "\r\n",
      "use work.module_defs.all;\r\n",
      "use work.txt_util.all;\r\n",
      "use work.myirl_conversion.all;\r\n",
      "\r\n",
      "entity routing_unit is\r\n",
      "    port (\r\n",
      "        pin_bulkc17c_in : in t_ExRecord_6_obj_module_in;\r\n",
      "        pin_bulkc17c_out : out t_ExRecord_6_obj_module_out;\r\n",
      "        pin_bulkc17c_aux : in t_ExRecord_6_obj_module_aux;\r\n",
      "        pout_bulk19c7_in : out t_Record_6_obj_type_in;\r\n",
      "        pout_bulk19c7_out : in t_Record_6_obj_type_out\r\n",
      "    );\r\n",
      "end entity routing_unit;\r\n",
      "\r\n",
      "architecture cyriteHDL of routing_unit is\r\n",
      "    -- Local type declarations\r\n",
      "    -- Signal declarations\r\n",
      "begin\r\n",
      "    \r\n",
      "worker:\r\n",
      "    process(pin_bulkc17c_aux.clk)\r\n",
      "    begin\r\n",
      "        pout_bulk19c7_in.a <= pin_bulkc17c_in.a;\r\n",
      "        pout_bulk19c7_in.en <= pin_bulkc17c_in.en;\r\n",
      "        pin_bulkc17c_out.q <= pout_bulk19c7_out.q;\r\n",
      "    end process;\r\n",
      "\r\n",
      "end architecture cyriteHDL;\r\n",
      "\r\n"
     ]
    }
   ],
   "source": [
    "!cat {files[0]}"
   ]
  },
  {
   "cell_type": "markdown",
   "id": "5fb70b3c-e144-4c87-a932-7d390e4512b8",
   "metadata": {},
   "source": [
    "### Type checking\n",
    "\n",
    "The `CONTAINER_INTERFACE` type generator has a beauty flaw when it comes to pythonic typing, as we can not make effective use type comparisons between instances of classes generated by it."
   ]
  },
  {
   "cell_type": "code",
   "execution_count": 8,
   "id": "0b4d682d-78fc-44de-85f7-7bc20390faf9",
   "metadata": {},
   "outputs": [],
   "source": [
    "r12 = Record(12)\n",
    "r12_x = ExRecord(12)\n",
    "r9 = Record(9)"
   ]
  },
  {
   "cell_type": "code",
   "execution_count": 9,
   "id": "509fa659-81c7-43d3-93a3-95a13c77e21f",
   "metadata": {},
   "outputs": [
    {
     "data": {
      "text/plain": [
       "(myirl.library.bulksignals.Record, myirl.library.bulksignals.Record)"
      ]
     },
     "execution_count": 9,
     "metadata": {},
     "output_type": "execute_result"
    }
   ],
   "source": [
    "type(r12), type(r9)"
   ]
  },
  {
   "cell_type": "markdown",
   "id": "663879b7-d987-4ae0-8aff-9bc6daf23bac",
   "metadata": {},
   "source": [
    "However, their types are in fact not the same, as different port widths might be used in the member signals. Therefore this kind of type check can not be used internally. The interface type check has to rely on other mechanisms. However, dumping the children sheds some light on the situation:"
   ]
  },
  {
   "cell_type": "code",
   "execution_count": 10,
   "id": "17ec4cd2-a68d-49f6-91b0-2f97554d211b",
   "metadata": {},
   "outputs": [
    {
     "data": {
      "text/plain": [
       "{'bulkce16_in': {`<class 'myirl.library.bulksignals.Record_12_obj_type_in'>` | 'a', 'en'},\n",
       " 'bulkce16_out': {`<class 'myirl.library.bulksignals.Record_12_obj_type_out'>` | 'q'}}"
      ]
     },
     "execution_count": 10,
     "metadata": {},
     "output_type": "execute_result"
    }
   ],
   "source": [
    "r12.get_children()"
   ]
  },
  {
   "cell_type": "markdown",
   "id": "ee937597-4d57-468b-81c0-d4dce51ac756",
   "metadata": {},
   "source": [
    "The Record entities functions as a container for a BULK type generated, unidirectional signal group which are created as classes using a certain signature. Therefore, the type check in the interface is performed on the children instead.\n",
    "We simply demonstrate this on the simpler, unidirectional BULK type containers below."
   ]
  },
  {
   "cell_type": "markdown",
   "id": "d555c78d-080c-4891-9e87-f8229bf0e1b0",
   "metadata": {},
   "source": [
    "## Bulk type containers\n",
    "\n",
    "The unidirectional Bulk type containers do not require a input/output specification as the `CONTAINER_INTERFACE` variants. In VHDL, they translate into a single record type."
   ]
  },
  {
   "cell_type": "code",
   "execution_count": 11,
   "id": "4cdebd43-e32d-478f-8f8e-557bd56893d1",
   "metadata": {},
   "outputs": [
    {
     "data": {
      "text/plain": [
       "(myirl.library.bulksignals.Port_bulk_4_obj_type,\n",
       " myirl.library.bulksignals.Port_bulk_8_obj_type)"
      ]
     },
     "execution_count": 11,
     "metadata": {},
     "output_type": "execute_result"
    }
   ],
   "source": [
    "@container(CONTAINER_BULK)\n",
    "class Port_bulk:\n",
    "    def __init__(self, n, Signal = Signal):\n",
    "        self.data = Signal(intbv()[n:])\n",
    "        self.en = Signal(bool())\n",
    "        \n",
    "p4 = Port_bulk(4)\n",
    "p8 = Port_bulk(8)\n",
    "type(p4), type(p8)"
   ]
  },
  {
   "cell_type": "markdown",
   "id": "318e4bb4-8e38-40ad-be0f-ba8c9039d435",
   "metadata": {},
   "source": [
    "Note we have created specific data types, so we can assert:"
   ]
  },
  {
   "cell_type": "code",
   "execution_count": 12,
   "id": "8f7a256d-a0a1-4eac-a8b6-7212a962b825",
   "metadata": {},
   "outputs": [
    {
     "data": {
      "text/plain": [
       "True"
      ]
     },
     "execution_count": 12,
     "metadata": {},
     "output_type": "execute_result"
    }
   ],
   "source": [
    "assert type(p4) != type(p8)\n",
    "p = Port_bulk(4)\n",
    "type(p) == type(p4)"
   ]
  },
  {
   "cell_type": "markdown",
   "id": "4861e6a5-9ef7-4956-8122-ffca505241f7",
   "metadata": {},
   "source": [
    "This is better. We do get some usable type safety inside python, hence.\n",
    "However note, that each differing instance of a Port_bulk alike class will create a separate data type."
   ]
  },
  {
   "cell_type": "markdown",
   "id": "7043f606-d1c4-460d-aff0-12f2ae34a4d1",
   "metadata": {},
   "source": [
    "## HDL translation\n",
    "\n",
    "In VHDL, a `@container` class type infers into a type definition that is created in an ad-hoc work library. This happens automatically in most case and results in the creation of a `module_defs.vhdl` per design context. However, containers may register with a specific library that is imported. In this case, an external library reference is imported via a 'use' statement. In Verilog, this does not apply, as all Port class types are unrolled into children members."
   ]
  },
  {
   "cell_type": "code",
   "execution_count": 13,
   "id": "4a4c8139-143e-4688-ad75-2a1cf54a3235",
   "metadata": {},
   "outputs": [
    {
     "name": "stdout",
     "output_type": "stream",
     "text": [
      " Writing 'routing_unit' to file /tmp/myirl_routing_unit_vs8yyivc/routing_unit.v \n",
      "DEBUG Fallback wire for pin_bulkc17c_aux_clk\n",
      "DEBUG Fallback wire for pin_bulkc17c_aux_reset\n"
     ]
    }
   ],
   "source": [
    "files = u.elab(targets.Verilog)"
   ]
  },
  {
   "cell_type": "code",
   "execution_count": 14,
   "id": "12e0ddd5-2ec6-48b3-a4c4-adffd718c1f7",
   "metadata": {},
   "outputs": [
    {
     "name": "stdout",
     "output_type": "stream",
     "text": [
      "// File generated from source:\r\n",
      "//     /tmp/ipykernel_40328/3421992632.py\r\n",
      "// (c) 2016-2022 section5.ch\r\n",
      "// Modifications may be lost, edit the source file instead.\r\n",
      "\r\n",
      "`timescale 1 ns / 1 ps\r\n",
      "`include \"aux.v\"\r\n",
      "// Architecture cyriteHDL\r\n",
      "// Verilog: not creating library for bulkc17c_in\r\n",
      "// Verilog: not creating library for bulkc17c_out\r\n",
      "// Verilog: not creating library for bulkc17c_aux\r\n",
      "// Verilog: not creating library for bulk19c7_in\r\n",
      "// Verilog: not creating library for bulk19c7_out\r\n",
      "\r\n",
      "module routing_unit\r\n",
      "    (\r\n",
      "        input wire [7:0] pin_bulkc17c_in_a,\r\n",
      "        input wire  pin_bulkc17c_in_en,\r\n",
      "        output reg [5:0] pin_bulkc17c_out_q,\r\n",
      "        input wire  pin_bulkc17c_aux_clk,\r\n",
      "        input wire  pin_bulkc17c_aux_reset,\r\n",
      "        output reg [7:0] pout_bulk19c7_in_a,\r\n",
      "        output reg  pout_bulk19c7_in_en,\r\n",
      "        input wire [5:0] pout_bulk19c7_out_q\r\n",
      "    );\r\n",
      "    // Local type declarations\r\n",
      "    // Signal declarations\r\n",
      "    \r\n",
      "    always @ (pin_bulkc17c_aux_clk) begin : WORKER\r\n",
      "        pout_bulk19c7_in_a <= pin_bulkc17c_in_a;\r\n",
      "        pout_bulk19c7_in_en <= pin_bulkc17c_in_en;\r\n",
      "        pin_bulkc17c_out_q <= pout_bulk19c7_out_q;\r\n",
      "    end\r\n",
      "endmodule // routing_unit\r\n"
     ]
    }
   ],
   "source": [
    "!cat {files[0]}"
   ]
  },
  {
   "cell_type": "markdown",
   "id": "23b97941-6421-4fd9-a778-1d452c83f393",
   "metadata": {},
   "source": [
    "## Macro extensions\n",
    "\n",
    "In particular for hardware inference, specific port connection macros might be implemented. This is done in IRL notation for a container class, i.e. the `@hdlmacro` routines are explicit and never translated. For example, we extend the `ExRecord` class by a `@hdlmacro` function:"
   ]
  },
  {
   "cell_type": "code",
   "execution_count": 15,
   "id": "8fed890b-f0d0-482f-be92-1e54ac559f89",
   "metadata": {},
   "outputs": [],
   "source": [
    "from myirl.kernel.sensitivity import _hdlmacro\n",
    "\n",
    "class MExRecord(ExRecord):\n",
    "    @hdlmacro\n",
    "    def assign(self, other):\n",
    "        assert isinstance(other.a, type(self.a))\n",
    "        yield [\n",
    "            other.q.set(self.q),\n",
    "            self.en.set(other.en),\n",
    "            self.a.set(other.a)\n",
    "        ]"
   ]
  },
  {
   "cell_type": "markdown",
   "id": "14a9a165-ec0e-4c34-ba62-f9f86ce9ebe9",
   "metadata": {},
   "source": [
    "We can do runtime type checks *outside* the yield sequence, however note that in the CONTAINER case, they have to be done on their members, unlike the `CONTAINER_BULK` types."
   ]
  },
  {
   "cell_type": "code",
   "execution_count": 16,
   "id": "55f6c860-7ebe-4b73-b3b9-2ce70fd1ad6c",
   "metadata": {},
   "outputs": [],
   "source": [
    "@block\n",
    "def routing_unit_lite(pin: MExRecord, pout: Record.reverse()):\n",
    "    @always(pin.clk)\n",
    "    def worker():\n",
    "        pin.assign(pout)\n",
    "        \n",
    "    return worker"
   ]
  },
  {
   "cell_type": "code",
   "execution_count": 17,
   "id": "54fc7b8c-51ee-4d92-baf8-d04468bbe7a9",
   "metadata": {},
   "outputs": [
    {
     "name": "stdout",
     "output_type": "stream",
     "text": [
      " Writing 'routing_unit_lite' to file /tmp/myirl_routing_unit_lite_bwv4boyw/routing_unit_lite.vhdl \n"
     ]
    }
   ],
   "source": [
    "p0 = MExRecord(6)\n",
    "p1 = Record(6)\n",
    "u = routing_unit_lite(p0, p1)\n",
    "\n",
    "files = u.elab(targets.VHDL)"
   ]
  },
  {
   "cell_type": "markdown",
   "id": "6f543e1b-cbe3-411a-bfec-1849bf43839b",
   "metadata": {},
   "source": [
    "When omitting the `@hdlmacro` decorator, you may get more control from the calling side of what is being generated.\n",
    "\n",
    "Also note this container-specific `@hdlmacro` differs from the `@cyrite_factory.hdlmacro` construct as it always requires IRL notation.\n"
   ]
  },
  {
   "cell_type": "markdown",
   "id": "9eedb9c4-0959-456e-a4b6-6645f86018af",
   "metadata": {},
   "source": [
    "The thumb rule number one is, that a `@hdlmacro` of a `@container` always (a priori) generates logic. It can not contain delay specifications or simulation constructs inside `yield` and it does not permit to be iterated by `yield from`."
   ]
  },
  {
   "cell_type": "markdown",
   "id": "d607f51c-f306-4be4-86e1-eb678da9825d",
   "metadata": {},
   "source": [
    "### Abstraction #1: The method sequence decorator\n",
    "\n",
    "A `@hdlmacro` is context agnostic (apart from class configuration) and always emits the same code, once configured. Also, it can in most cases not be used portably among different execution contexts.\n",
    "\n",
    "Therefore, a new decorator is introduced that a priori allows to write function members in MyHDL style. It is silently context sensitive, when called from a CoSimulation sequence, it is run natively, when emit to simulation HDL, it is called as generator. "
   ]
  },
  {
   "cell_type": "code",
   "execution_count": 18,
   "id": "6069b8e2-f907-449a-b722-208170584244",
   "metadata": {},
   "outputs": [],
   "source": [
    "class PortableRecord(MExRecord):\n",
    "    @cyrite_method.sequence\n",
    "    def assign_seq(self, other):\n",
    "        self.assign(other).evaluate()\n",
    "        \n",
    "        yield delay(1)\n",
    "    \n",
    "    @cyrite_method.sequence\n",
    "    def initialize(self):\n",
    "        self.en.next = False\n",
    "        self.a.next = 0\n",
    "        yield delay(2)"
   ]
  },
  {
   "cell_type": "markdown",
   "id": "0209c18c-c2cd-4a66-8c11-66c3678e2ff1",
   "metadata": {},
   "source": [
    "Further sideband action like type checks can not be done inside this `@cyrite_method.sequence`, as it may be entirely translated to hardware. This again has to be buried in a `@hdlmacro` outside a yield, see [Out of band tricks](generators.ipynb#Out-of-band-tricks).\n",
    "\n",
    "**Conclusion**: A `@hdlmacro` is always explicit, whereas a `@cyrite_method.sequence` is not!\n",
    "\n"
   ]
  },
  {
   "cell_type": "markdown",
   "id": "7a41fa74-d846-4e3a-ae49-d43eab038e45",
   "metadata": {},
   "source": [
    "## A test bench\n",
    "\n",
    "For all the above, we'd like to see what it does. Again, according to [Simulation details](simulation.ipynb), we create a simulation setup that works for all targets.\n",
    "\n",
    "Because we use a different type of Signal for various simulation backends, we pass the context specific `self.Signal` class to the container ininitalization.\n",
    "\n",
    "**Note**: When using containers as simulation signals on test bench level, make sure to pass the entire container to the uut's interface, otherwise, signals may be left uninitialized. This will throw an error in Co-Simulation.\n",
    "\n",
    "Also, unused signals may not get emitted to HDL back ends and throw errors. Thus, make sure to initialize port signal members completely when using ports from a top level."
   ]
  },
  {
   "cell_type": "code",
   "execution_count": 19,
   "id": "5e3a6836-8927-44b6-b2fd-93fb533cf83e",
   "metadata": {
    "tags": []
   },
   "outputs": [],
   "source": [
    "from cyhdl import *\n",
    "\n",
    "@block\n",
    "def unit(\n",
    "         clk : ClkSignal,\n",
    "         i : Record,\n",
    "         o : Record.reverse()):\n",
    "\n",
    "    @always(clk.posedge)\n",
    "    def not_ff():\n",
    "        o.a.next = ~i.a\n",
    "\n",
    "    return [ not_ff ]\n",
    "\n",
    "class MyTest(cyrite_factory.Module):\n",
    "\n",
    "    @cyrite_factory.testbench('ns')\n",
    "    def tb(self):\n",
    "        clk = self.ClkSignal(name='clk')\n",
    "\n",
    "        # We can pass the 'name' parameter to make HDL output\n",
    "        # and trace more readable\n",
    "        p, q, r = \\\n",
    "            [ PortableRecord(8, context = self, name = name) for name in 'pqr' ]\n",
    "        \n",
    "        uut = unit(clk, p, r)\n",
    "\n",
    "        @self.always(delay(2))\n",
    "        def clkgen():\n",
    "            clk.next = ~clk\n",
    "\n",
    "        @self.sequence\n",
    "        def main():\n",
    "            yield from p.initialize()\n",
    "            yield from q.initialize()\n",
    "            \n",
    "            p.en.next = False\n",
    "            r.en.next = False\n",
    "            q.q.next = 0 # Initialize unused output to avoid elimination\n",
    "            p.a.next = 0x00\n",
    "            yield delay(10)\n",
    "            yield clk.negedge\n",
    "            p.en.next = True\n",
    "            p.a.next = 0xaa\n",
    "            assert r.a == 0xff\n",
    "            yield delay(1) # Update previous settings\n",
    "            # Make sure to use 'yield from'!\n",
    "            yield from q.assign_seq(p)\n",
    "            # We now can expect values to be the same\n",
    "            assert q.a == p.a\n",
    "            print(\"r.a\", r.a)\n",
    "\n",
    "            # Expect updated result:\n",
    "            yield clk.negedge\n",
    "            assert r.a == 0x55\n",
    "            \n",
    "            raise StopSimulation\n",
    "            \n",
    "        return instances()"
   ]
  },
  {
   "cell_type": "markdown",
   "id": "edb070a1-7bfa-43fd-94f3-e1bce4b27124",
   "metadata": {},
   "source": [
    "A common mistake is to forget that sequence must be called using `yield from` from a natively executed co-simulation top level `sequence`. When calling it like a function, it will work as emitted HDL simulation, but not within the co-routine main()."
   ]
  },
  {
   "cell_type": "code",
   "execution_count": 20,
   "id": "757d1384-6852-4689-8282-db45cf7e246d",
   "metadata": {},
   "outputs": [
    {
     "name": "stdout",
     "output_type": "stream",
     "text": [
      "DEBUG: Dummysignal `s_7c87` : False -> False\n",
      "DEBUG: Dummysignal `s_7c87` : False -> False\n",
      "DEBUG: Dummysignal `s_19c1` : False -> False\n",
      "DEBUG: Dummysignal `s_19c1` : False -> False\n",
      "DEBUG: Dummysignal `s_9b38` : False -> False\n",
      "DEBUG: Dummysignal `s_9b38` : False -> False\n",
      "\u001b[32m Adding module with name `unit` \u001b[0m\n",
      "\u001b[7;34m FINALIZE implementation `unit` of `unit` \u001b[0m\n",
      "Compiling /tmp/myirl_all_oawji7aa/unit.pyx because it changed.\n",
      "[1/1] Cythonizing /tmp/myirl_all_oawji7aa/unit.pyx\n",
      "running build_ext\n",
      "building 'runtime.unit' extension\n",
      "creating build/temp.linux-x86_64-3.10/tmp/myirl_all_oawji7aa\n",
      "gcc -pthread -Wno-unused-result -Wsign-compare -DNDEBUG -g -fwrapv -O3 -Wall -fPIC -DCOSIM_NAMESPACE=unit -Iruntime -I/tmp/myirl_all_oawji7aa/ -I/usr/share/yosys/include/backends/cxxrtl/runtime -I/usr/local/include/python3.10 -c /tmp/myirl_all_oawji7aa/unit.cpp -o build/temp.linux-x86_64-3.10/tmp/myirl_all_oawji7aa/unit.o\n",
      "gcc -pthread -Wno-unused-result -Wsign-compare -DNDEBUG -g -fwrapv -O3 -Wall -fPIC -DCOSIM_NAMESPACE=unit -Iruntime -I/tmp/myirl_all_oawji7aa/ -I/usr/share/yosys/include/backends/cxxrtl/runtime -I/usr/local/include/python3.10 -c /tmp/myirl_all_oawji7aa/unit_rtl.cpp -o build/temp.linux-x86_64-3.10/tmp/myirl_all_oawji7aa/unit_rtl.o\n",
      "g++ -pthread -shared -Wl,--strip-all build/temp.linux-x86_64-3.10/tmp/myirl_all_oawji7aa/unit.o build/temp.linux-x86_64-3.10/tmp/myirl_all_oawji7aa/unit_rtl.o -L/usr/local/lib -o build/lib.linux-x86_64-3.10/runtime/unit.cpython-310-x86_64-linux-gnu.so\n",
      "copying build/lib.linux-x86_64-3.10/runtime/unit.cpython-310-x86_64-linux-gnu.so -> runtime\n",
      "Open for writing: tb.vcd\n",
      "r.a <r_in_a> : 0xff\n"
     ]
    },
    {
     "name": "stderr",
     "output_type": "stream",
     "text": [
      "\u001b[32mUsing '/tmp/myirl_all_oawji7aa/' for output\u001b[0m\n",
      "\u001b[32mCosimulation: a not connected to backend\u001b[0m\n",
      "\u001b[32mCosimulation: en not connected to backend\u001b[0m\n",
      "\u001b[32mCosimulation: q not connected to backend\u001b[0m\n",
      "\u001b[7;34mSTOP SIMULATION @20\u001b[0m\n"
     ]
    }
   ],
   "source": [
    "from yosys.simulator import CXXRTL\n",
    "from cyrite.simulation.ghdl import GHDL\n",
    "\n",
    "d = MyTest('all', CXXRTL)\n",
    "t = d.tb()\n",
    "\n",
    "t.run(2000, debug = True)"
   ]
  },
  {
   "cell_type": "markdown",
   "id": "9c3d5a0e-efb7-4790-a6bf-4d5e1ebc3849",
   "metadata": {},
   "source": [
    "**Important Note**: A simulation is a priori **not** simply portable among simulator backends. See [Simulator details](simulation.ipynb)."
   ]
  }
 ],
 "metadata": {
  "kernelspec": {
   "display_name": "Python 3 (ipykernel)",
   "language": "python",
   "name": "python3"
  },
  "language_info": {
   "codemirror_mode": {
    "name": "ipython",
    "version": 3
   },
   "file_extension": ".py",
   "mimetype": "text/x-python",
   "name": "python",
   "nbconvert_exporter": "python",
   "pygments_lexer": "ipython3",
   "version": "3.10.0"
  }
 },
 "nbformat": 4,
 "nbformat_minor": 5
}
